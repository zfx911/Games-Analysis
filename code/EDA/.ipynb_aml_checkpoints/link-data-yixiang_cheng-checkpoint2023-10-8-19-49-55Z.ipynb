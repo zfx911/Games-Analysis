{
  "cells": [
    {
      "cell_type": "code",
      "source": [
        "import pandas "
      ],
      "outputs": [
        {
          "output_type": "display_data",
          "data": {
            "application/vnd.livy.statement-meta+json": {
              "spark_pool": "3c67b279-1d53-4b7a-b0d9-41cb8b4b6723",
              "session_id": "3",
              "statement_id": 7,
              "state": "finished",
              "livy_statement_state": "available",
              "queued_time": "2023-11-04T01:37:27.3063601Z",
              "session_start_time": null,
              "execution_start_time": "2023-11-04T01:37:27.4240074Z",
              "execution_finish_time": "2023-11-04T01:37:31.2352438Z",
              "spark_jobs": {
                "numbers": {
                  "FAILED": 0,
                  "RUNNING": 0,
                  "SUCCEEDED": 0,
                  "UNKNOWN": 0
                },
                "jobs": [],
                "limit": 20,
                "rule": "ALL_DESC"
              },
              "parent_msg_id": "bb229c8f-3d46-4b93-9a5d-6be1caa5221b"
            },
            "text/plain": "StatementMeta(3c67b279-1d53-4b7a-b0d9-41cb8b4b6723, 3, 7, Finished, Available)"
          },
          "metadata": {}
        }
      ],
      "execution_count": 2,
      "metadata": {
        "jupyter": {
          "source_hidden": false,
          "outputs_hidden": false
        },
        "nteract": {
          "transient": {
            "deleting": false
          }
        },
        "gather": {
          "logged": 1699061850130
        }
      }
    },
    {
      "cell_type": "code",
      "source": [
        "spark"
      ],
      "outputs": [
        {
          "output_type": "display_data",
          "data": {
            "application/vnd.livy.statement-meta+json": {
              "spark_pool": "3c67b279-1d53-4b7a-b0d9-41cb8b4b6723",
              "session_id": "3",
              "statement_id": 8,
              "state": "finished",
              "livy_statement_state": "available",
              "queued_time": "2023-11-04T01:37:29.9851901Z",
              "session_start_time": null,
              "execution_start_time": "2023-11-04T01:37:31.3559514Z",
              "execution_finish_time": "2023-11-04T01:37:31.7209278Z",
              "spark_jobs": {
                "numbers": {
                  "FAILED": 0,
                  "RUNNING": 0,
                  "SUCCEEDED": 0,
                  "UNKNOWN": 0
                },
                "jobs": [],
                "limit": 20,
                "rule": "ALL_DESC"
              },
              "parent_msg_id": "7e5bae9f-93a7-43c0-9669-1fe7e3cfd08c"
            },
            "text/plain": "StatementMeta(3c67b279-1d53-4b7a-b0d9-41cb8b4b6723, 3, 8, Finished, Available)"
          },
          "metadata": {}
        },
        {
          "output_type": "execute_result",
          "execution_count": 15,
          "data": {
            "text/plain": "<pyspark.sql.session.SparkSession at 0x7f3ebd0afa00>",
            "text/html": "\n            <div>\n                <p><b>SparkSession - hive</b></p>\n                \n        <div>\n            <p><b>SparkContext</b></p>\n\n            <p><a href=\"http://vm-8a256382:36273\">Spark UI</a></p>\n\n            <dl>\n              <dt>Version</dt>\n                <dd><code>v3.2.2.5.1-100879434</code></dd>\n              <dt>Master</dt>\n                <dd><code>yarn</code></dd>\n              <dt>AppName</dt>\n                <dd><code>Azure ML Experiment</code></dd>\n            </dl>\n        </div>\n        \n            </div>\n        "
          },
          "metadata": {}
        }
      ],
      "execution_count": 3,
      "metadata": {
        "gather": {
          "logged": 1699061850649
        }
      }
    },
    {
      "cell_type": "markdown",
      "source": [
        "# Set up data configuration"
      ],
      "metadata": {
        "nteract": {
          "transient": {
            "deleting": false
          }
        }
      }
    },
    {
      "cell_type": "code",
      "source": [
        "blob_account_name = \"marckvnonprodblob\"\n",
        "blob_container_name = \"bigdata\"\n",
        "# read only\n",
        "blob_sas_token = \"?sv=2021-10-04&st=2023-10-04T01%3A42%3A59Z&se=2024-01-02T02%3A42%3A00Z&sr=c&sp=rlf&sig=w3CH9MbCOpwO7DtHlrahc7AlRPxSZZb8MOgS6TaXLzI%3D\"\n",
        "\n",
        "wasbs_base_url = (\n",
        "    f\"wasbs://{blob_container_name}@{blob_account_name}.blob.core.windows.net/\"\n",
        ")\n",
        "spark.conf.set(\n",
        "    f\"fs.azure.sas.{blob_container_name}.{blob_account_name}.blob.core.windows.net\",\n",
        "    blob_sas_token,\n",
        ")"
      ],
      "outputs": [
        {
          "output_type": "display_data",
          "data": {
            "application/vnd.livy.statement-meta+json": {
              "spark_pool": "3c67b279-1d53-4b7a-b0d9-41cb8b4b6723",
              "session_id": "3",
              "statement_id": 9,
              "state": "finished",
              "livy_statement_state": "available",
              "queued_time": "2023-11-04T01:37:36.0876482Z",
              "session_start_time": null,
              "execution_start_time": "2023-11-04T01:37:36.2001793Z",
              "execution_finish_time": "2023-11-04T01:37:36.5412892Z",
              "spark_jobs": {
                "numbers": {
                  "FAILED": 0,
                  "RUNNING": 0,
                  "SUCCEEDED": 0,
                  "UNKNOWN": 0
                },
                "jobs": [],
                "limit": 20,
                "rule": "ALL_DESC"
              },
              "parent_msg_id": "12f95317-845f-420d-9c4e-c890e3ffa842"
            },
            "text/plain": "StatementMeta(3c67b279-1d53-4b7a-b0d9-41cb8b4b6723, 3, 9, Finished, Available)"
          },
          "metadata": {}
        }
      ],
      "execution_count": 4,
      "metadata": {
        "jupyter": {
          "source_hidden": false,
          "outputs_hidden": false
        },
        "nteract": {
          "transient": {
            "deleting": false
          }
        },
        "gather": {
          "logged": 1699061855446
        }
      }
    },
    {
      "cell_type": "markdown",
      "source": [
        "# Read the whole Reddit data"
      ],
      "metadata": {
        "nteract": {
          "transient": {
            "deleting": false
          }
        }
      }
    },
    {
      "cell_type": "code",
      "source": [
        "comments_path = \"reddit-parquet/comments/\"\n",
        "submissions_path = \"reddit-parquet/submissions/\""
      ],
      "outputs": [
        {
          "output_type": "display_data",
          "data": {
            "application/vnd.livy.statement-meta+json": {
              "spark_pool": "3c67b279-1d53-4b7a-b0d9-41cb8b4b6723",
              "session_id": "3",
              "statement_id": 10,
              "state": "finished",
              "livy_statement_state": "available",
              "queued_time": "2023-11-04T01:38:29.2998797Z",
              "session_start_time": null,
              "execution_start_time": "2023-11-04T01:38:29.4085485Z",
              "execution_finish_time": "2023-11-04T01:38:29.7444474Z",
              "spark_jobs": {
                "numbers": {
                  "FAILED": 0,
                  "RUNNING": 0,
                  "SUCCEEDED": 0,
                  "UNKNOWN": 0
                },
                "jobs": [],
                "limit": 20,
                "rule": "ALL_DESC"
              },
              "parent_msg_id": "1ec95acc-6132-436f-92ec-9435fa172fd4"
            },
            "text/plain": "StatementMeta(3c67b279-1d53-4b7a-b0d9-41cb8b4b6723, 3, 10, Finished, Available)"
          },
          "metadata": {}
        }
      ],
      "execution_count": 5,
      "metadata": {
        "jupyter": {
          "source_hidden": false,
          "outputs_hidden": false
        },
        "nteract": {
          "transient": {
            "deleting": false
          }
        },
        "gather": {
          "logged": 1699061908646
        }
      }
    },
    {
      "cell_type": "code",
      "source": [
        "comments_df = spark.read.parquet(f\"{wasbs_base_url}{comments_path}\")\n",
        "submissions_df = spark.read.parquet(f\"{wasbs_base_url}{submissions_path}\")"
      ],
      "outputs": [
        {
          "output_type": "display_data",
          "data": {
            "application/vnd.livy.statement-meta+json": {
              "spark_pool": "3c67b279-1d53-4b7a-b0d9-41cb8b4b6723",
              "session_id": "3",
              "statement_id": 11,
              "state": "finished",
              "livy_statement_state": "available",
              "queued_time": "2023-11-04T01:38:30.9872594Z",
              "session_start_time": null,
              "execution_start_time": "2023-11-04T01:38:31.131859Z",
              "execution_finish_time": "2023-11-04T01:39:10.8836379Z",
              "spark_jobs": {
                "numbers": {
                  "FAILED": 0,
                  "RUNNING": 0,
                  "SUCCEEDED": 2,
                  "UNKNOWN": 0
                },
                "jobs": [
                  {
                    "displayName": "parquet at NativeMethodAccessorImpl.java:0",
                    "dataWritten": 0,
                    "dataRead": 0,
                    "rowCount": 0,
                    "usageDescription": "",
                    "jobId": 1,
                    "name": "parquet at NativeMethodAccessorImpl.java:0",
                    "description": "Job group for statement 11:\ncomments_df = spark.read.parquet(f\"{wasbs_base_url}{comments_path}\")\nsubmissions_df = spark.read.parquet(f\"{wasbs_base_url}{submissions_path}\")",
                    "submissionTime": "2023-11-04T01:39:02.486GMT",
                    "completionTime": "2023-11-04T01:39:08.461GMT",
                    "stageIds": [
                      1
                    ],
                    "jobGroup": "11",
                    "status": "SUCCEEDED",
                    "numTasks": 1,
                    "numActiveTasks": 0,
                    "numCompletedTasks": 1,
                    "numSkippedTasks": 0,
                    "numFailedTasks": 0,
                    "numKilledTasks": 0,
                    "numCompletedIndices": 1,
                    "numActiveStages": 0,
                    "numCompletedStages": 1,
                    "numSkippedStages": 0,
                    "numFailedStages": 0,
                    "killedTasksSummary": {}
                  },
                  {
                    "displayName": "parquet at NativeMethodAccessorImpl.java:0",
                    "dataWritten": 0,
                    "dataRead": 0,
                    "rowCount": 0,
                    "usageDescription": "",
                    "jobId": 0,
                    "name": "parquet at NativeMethodAccessorImpl.java:0",
                    "description": "Job group for statement 11:\ncomments_df = spark.read.parquet(f\"{wasbs_base_url}{comments_path}\")\nsubmissions_df = spark.read.parquet(f\"{wasbs_base_url}{submissions_path}\")",
                    "submissionTime": "2023-11-04T01:38:47.281GMT",
                    "completionTime": "2023-11-04T01:38:54.379GMT",
                    "stageIds": [
                      0
                    ],
                    "jobGroup": "11",
                    "status": "SUCCEEDED",
                    "numTasks": 1,
                    "numActiveTasks": 0,
                    "numCompletedTasks": 1,
                    "numSkippedTasks": 0,
                    "numFailedTasks": 0,
                    "numKilledTasks": 0,
                    "numCompletedIndices": 1,
                    "numActiveStages": 0,
                    "numCompletedStages": 1,
                    "numSkippedStages": 0,
                    "numFailedStages": 0,
                    "killedTasksSummary": {}
                  }
                ],
                "limit": 20,
                "rule": "ALL_DESC"
              },
              "parent_msg_id": "ca9015cf-0b31-4fad-b806-cd70f50f4782"
            },
            "text/plain": "StatementMeta(3c67b279-1d53-4b7a-b0d9-41cb8b4b6723, 3, 11, Finished, Available)"
          },
          "metadata": {}
        }
      ],
      "execution_count": 6,
      "metadata": {
        "jupyter": {
          "source_hidden": false,
          "outputs_hidden": false
        },
        "nteract": {
          "transient": {
            "deleting": false
          }
        },
        "gather": {
          "logged": 1699061949784
        }
      }
    },
    {
      "cell_type": "markdown",
      "source": [
        "## Get sales data from local csv file"
      ],
      "metadata": {
        "nteract": {
          "transient": {
            "deleting": false
          }
        }
      }
    },
    {
      "cell_type": "code",
      "source": [
        "import pandas as pd \n",
        "A = \"Users/yc1063/fall-2023-reddit-project-team-11/data/csv/vgsales.csv\"\n",
        "df = pd.read_csv(A,encoding =\"utf-8\")\n",
        "dfs = df[[\"Name\",\"NA_Sales\",\"Global_Sales\"]]\n",
        "df"
      ],
      "outputs": [
        {
          "output_type": "display_data",
          "data": {
            "application/vnd.livy.statement-meta+json": {
              "spark_pool": "3c67b279-1d53-4b7a-b0d9-41cb8b4b6723",
              "session_id": "3",
              "statement_id": 44,
              "state": "finished",
              "livy_statement_state": "available",
              "queued_time": "2023-11-04T02:08:13.8099915Z",
              "session_start_time": null,
              "execution_start_time": "2023-11-04T02:18:58.5434477Z",
              "execution_finish_time": "2023-11-04T02:18:59.4579745Z",
              "spark_jobs": {
                "numbers": {
                  "FAILED": 0,
                  "RUNNING": 0,
                  "SUCCEEDED": 0,
                  "UNKNOWN": 0
                },
                "jobs": [],
                "limit": 20,
                "rule": "ALL_DESC"
              },
              "parent_msg_id": "1b444325-7e3c-4049-854f-e5e651379278"
            },
            "text/plain": "StatementMeta(3c67b279-1d53-4b7a-b0d9-41cb8b4b6723, 3, 44, Finished, Available)"
          },
          "metadata": {}
        },
        {
          "output_type": "execute_result",
          "execution_count": 87,
          "data": {
            "text/plain": "        Rank                                              Name Platform  \\\n0          1                                        Wii Sports      Wii   \n1          2                                 Super Mario Bros.      NES   \n2          3                                    Mario Kart Wii      Wii   \n3          4                                 Wii Sports Resort      Wii   \n4          5                          Pokemon Red/Pokemon Blue       GB   \n...      ...                                               ...      ...   \n16593  16596                Woody Woodpecker in Crazy Castle 5      GBA   \n16594  16597                     Men in Black II: Alien Escape       GC   \n16595  16598  SCORE International Baja 1000: The Official Game      PS2   \n16596  16599                                        Know How 2       DS   \n16597  16600                                  Spirits & Spells      GBA   \n\n         Year         Genre   Publisher  NA_Sales  EU_Sales  JP_Sales  \\\n0      2006.0        Sports    Nintendo     41.49     29.02      3.77   \n1      1985.0      Platform    Nintendo     29.08      3.58      6.81   \n2      2008.0        Racing    Nintendo     15.85     12.88      3.79   \n3      2009.0        Sports    Nintendo     15.75     11.01      3.28   \n4      1996.0  Role-Playing    Nintendo     11.27      8.89     10.22   \n...       ...           ...         ...       ...       ...       ...   \n16593  2002.0      Platform       Kemco      0.01      0.00      0.00   \n16594  2003.0       Shooter  Infogrames      0.01      0.00      0.00   \n16595  2008.0        Racing  Activision      0.00      0.00      0.00   \n16596  2010.0        Puzzle    7G//AMES      0.00      0.01      0.00   \n16597  2003.0      Platform     Wanadoo      0.01      0.00      0.00   \n\n       Other_Sales  Global_Sales  \n0             8.46         82.74  \n1             0.77         40.24  \n2             3.31         35.82  \n3             2.96         33.00  \n4             1.00         31.37  \n...            ...           ...  \n16593         0.00          0.01  \n16594         0.00          0.01  \n16595         0.00          0.01  \n16596         0.00          0.01  \n16597         0.00          0.01  \n\n[16598 rows x 11 columns]",
            "text/html": "<div>\n<style scoped>\n    .dataframe tbody tr th:only-of-type {\n        vertical-align: middle;\n    }\n\n    .dataframe tbody tr th {\n        vertical-align: top;\n    }\n\n    .dataframe thead th {\n        text-align: right;\n    }\n</style>\n<table border=\"1\" class=\"dataframe\">\n  <thead>\n    <tr style=\"text-align: right;\">\n      <th></th>\n      <th>Rank</th>\n      <th>Name</th>\n      <th>Platform</th>\n      <th>Year</th>\n      <th>Genre</th>\n      <th>Publisher</th>\n      <th>NA_Sales</th>\n      <th>EU_Sales</th>\n      <th>JP_Sales</th>\n      <th>Other_Sales</th>\n      <th>Global_Sales</th>\n    </tr>\n  </thead>\n  <tbody>\n    <tr>\n      <th>0</th>\n      <td>1</td>\n      <td>Wii Sports</td>\n      <td>Wii</td>\n      <td>2006.0</td>\n      <td>Sports</td>\n      <td>Nintendo</td>\n      <td>41.49</td>\n      <td>29.02</td>\n      <td>3.77</td>\n      <td>8.46</td>\n      <td>82.74</td>\n    </tr>\n    <tr>\n      <th>1</th>\n      <td>2</td>\n      <td>Super Mario Bros.</td>\n      <td>NES</td>\n      <td>1985.0</td>\n      <td>Platform</td>\n      <td>Nintendo</td>\n      <td>29.08</td>\n      <td>3.58</td>\n      <td>6.81</td>\n      <td>0.77</td>\n      <td>40.24</td>\n    </tr>\n    <tr>\n      <th>2</th>\n      <td>3</td>\n      <td>Mario Kart Wii</td>\n      <td>Wii</td>\n      <td>2008.0</td>\n      <td>Racing</td>\n      <td>Nintendo</td>\n      <td>15.85</td>\n      <td>12.88</td>\n      <td>3.79</td>\n      <td>3.31</td>\n      <td>35.82</td>\n    </tr>\n    <tr>\n      <th>3</th>\n      <td>4</td>\n      <td>Wii Sports Resort</td>\n      <td>Wii</td>\n      <td>2009.0</td>\n      <td>Sports</td>\n      <td>Nintendo</td>\n      <td>15.75</td>\n      <td>11.01</td>\n      <td>3.28</td>\n      <td>2.96</td>\n      <td>33.00</td>\n    </tr>\n    <tr>\n      <th>4</th>\n      <td>5</td>\n      <td>Pokemon Red/Pokemon Blue</td>\n      <td>GB</td>\n      <td>1996.0</td>\n      <td>Role-Playing</td>\n      <td>Nintendo</td>\n      <td>11.27</td>\n      <td>8.89</td>\n      <td>10.22</td>\n      <td>1.00</td>\n      <td>31.37</td>\n    </tr>\n    <tr>\n      <th>...</th>\n      <td>...</td>\n      <td>...</td>\n      <td>...</td>\n      <td>...</td>\n      <td>...</td>\n      <td>...</td>\n      <td>...</td>\n      <td>...</td>\n      <td>...</td>\n      <td>...</td>\n      <td>...</td>\n    </tr>\n    <tr>\n      <th>16593</th>\n      <td>16596</td>\n      <td>Woody Woodpecker in Crazy Castle 5</td>\n      <td>GBA</td>\n      <td>2002.0</td>\n      <td>Platform</td>\n      <td>Kemco</td>\n      <td>0.01</td>\n      <td>0.00</td>\n      <td>0.00</td>\n      <td>0.00</td>\n      <td>0.01</td>\n    </tr>\n    <tr>\n      <th>16594</th>\n      <td>16597</td>\n      <td>Men in Black II: Alien Escape</td>\n      <td>GC</td>\n      <td>2003.0</td>\n      <td>Shooter</td>\n      <td>Infogrames</td>\n      <td>0.01</td>\n      <td>0.00</td>\n      <td>0.00</td>\n      <td>0.00</td>\n      <td>0.01</td>\n    </tr>\n    <tr>\n      <th>16595</th>\n      <td>16598</td>\n      <td>SCORE International Baja 1000: The Official Game</td>\n      <td>PS2</td>\n      <td>2008.0</td>\n      <td>Racing</td>\n      <td>Activision</td>\n      <td>0.00</td>\n      <td>0.00</td>\n      <td>0.00</td>\n      <td>0.00</td>\n      <td>0.01</td>\n    </tr>\n    <tr>\n      <th>16596</th>\n      <td>16599</td>\n      <td>Know How 2</td>\n      <td>DS</td>\n      <td>2010.0</td>\n      <td>Puzzle</td>\n      <td>7G//AMES</td>\n      <td>0.00</td>\n      <td>0.01</td>\n      <td>0.00</td>\n      <td>0.00</td>\n      <td>0.01</td>\n    </tr>\n    <tr>\n      <th>16597</th>\n      <td>16600</td>\n      <td>Spirits &amp; Spells</td>\n      <td>GBA</td>\n      <td>2003.0</td>\n      <td>Platform</td>\n      <td>Wanadoo</td>\n      <td>0.01</td>\n      <td>0.00</td>\n      <td>0.00</td>\n      <td>0.00</td>\n      <td>0.01</td>\n    </tr>\n  </tbody>\n</table>\n<p>16598 rows × 11 columns</p>\n</div>"
          },
          "metadata": {}
        }
      ],
      "execution_count": 39,
      "metadata": {
        "jupyter": {
          "source_hidden": false,
          "outputs_hidden": false
        },
        "nteract": {
          "transient": {
            "deleting": false
          }
        },
        "gather": {
          "logged": 1699064338354
        }
      }
    },
    {
      "cell_type": "markdown",
      "source": [
        "# filter the subreddit that only contains popular game titles"
      ],
      "metadata": {
        "nteract": {
          "transient": {
            "deleting": false
          }
        }
      }
    },
    {
      "cell_type": "code",
      "source": [
        "from pyspark.sql.functions import col, asc,desc\n",
        "\n",
        "submissions_filtered = submissions_df.filter(col(\"subreddit\").isin(df['Name'].tolist()))"
      ],
      "outputs": [
        {
          "output_type": "display_data",
          "data": {
            "application/vnd.livy.statement-meta+json": {
              "spark_pool": "3c67b279-1d53-4b7a-b0d9-41cb8b4b6723",
              "session_id": "3",
              "statement_id": 13,
              "state": "finished",
              "livy_statement_state": "available",
              "queued_time": "2023-11-04T01:38:35.7488581Z",
              "session_start_time": null,
              "execution_start_time": "2023-11-04T01:39:12.7765491Z",
              "execution_finish_time": "2023-11-04T01:40:03.7685825Z",
              "spark_jobs": {
                "numbers": {
                  "FAILED": 0,
                  "RUNNING": 0,
                  "SUCCEEDED": 0,
                  "UNKNOWN": 0
                },
                "jobs": [],
                "limit": 20,
                "rule": "ALL_DESC"
              },
              "parent_msg_id": "2dffcd3a-ee3e-4271-9a56-796542fb499f"
            },
            "text/plain": "StatementMeta(3c67b279-1d53-4b7a-b0d9-41cb8b4b6723, 3, 13, Finished, Available)"
          },
          "metadata": {}
        }
      ],
      "execution_count": 8,
      "metadata": {
        "jupyter": {
          "source_hidden": false,
          "outputs_hidden": false
        },
        "nteract": {
          "transient": {
            "deleting": false
          }
        },
        "gather": {
          "logged": 1699062002687
        }
      }
    },
    {
      "cell_type": "code",
      "source": [
        "submissions_pop_games = submissions_filtered.groupBy(\"subreddit\").count().orderBy(col(\"count\"), ascending=False).collect()"
      ],
      "outputs": [
        {
          "output_type": "display_data",
          "data": {
            "application/vnd.livy.statement-meta+json": {
              "spark_pool": "3c67b279-1d53-4b7a-b0d9-41cb8b4b6723",
              "session_id": "3",
              "statement_id": 14,
              "state": "finished",
              "livy_statement_state": "available",
              "queued_time": "2023-11-04T01:38:37.2902911Z",
              "session_start_time": null,
              "execution_start_time": "2023-11-04T01:40:03.8943368Z",
              "execution_finish_time": "2023-11-04T01:51:35.1999666Z",
              "spark_jobs": {
                "numbers": {
                  "FAILED": 0,
                  "RUNNING": 0,
                  "SUCCEEDED": 4,
                  "UNKNOWN": 0
                },
                "jobs": [
                  {
                    "displayName": "collect at /tmp/ipykernel_7155/815720293.py:1",
                    "dataWritten": 0,
                    "dataRead": 10851,
                    "rowCount": 155,
                    "usageDescription": "",
                    "jobId": 5,
                    "name": "collect at /tmp/ipykernel_7155/815720293.py:1",
                    "description": "Job group for statement 14:\nsubmissions_pop_games = submissions_filtered.groupBy(\"subreddit\").count().orderBy(col(\"count\"), ascending=False).collect()",
                    "submissionTime": "2023-11-04T01:51:33.075GMT",
                    "completionTime": "2023-11-04T01:51:33.473GMT",
                    "stageIds": [
                      9,
                      7,
                      8
                    ],
                    "jobGroup": "14",
                    "status": "SUCCEEDED",
                    "numTasks": 3089,
                    "numActiveTasks": 0,
                    "numCompletedTasks": 1,
                    "numSkippedTasks": 3088,
                    "numFailedTasks": 0,
                    "numKilledTasks": 0,
                    "numCompletedIndices": 1,
                    "numActiveStages": 0,
                    "numCompletedStages": 1,
                    "numSkippedStages": 2,
                    "numFailedStages": 0,
                    "killedTasksSummary": {}
                  },
                  {
                    "displayName": "collect at /tmp/ipykernel_7155/815720293.py:1",
                    "dataWritten": 10851,
                    "dataRead": 8796367,
                    "rowCount": 127513,
                    "usageDescription": "",
                    "jobId": 4,
                    "name": "collect at /tmp/ipykernel_7155/815720293.py:1",
                    "description": "Job group for statement 14:\nsubmissions_pop_games = submissions_filtered.groupBy(\"subreddit\").count().orderBy(col(\"count\"), ascending=False).collect()",
                    "submissionTime": "2023-11-04T01:51:31.487GMT",
                    "completionTime": "2023-11-04T01:51:32.720GMT",
                    "stageIds": [
                      5,
                      6
                    ],
                    "jobGroup": "14",
                    "status": "SUCCEEDED",
                    "numTasks": 3088,
                    "numActiveTasks": 0,
                    "numCompletedTasks": 8,
                    "numSkippedTasks": 3080,
                    "numFailedTasks": 0,
                    "numKilledTasks": 0,
                    "numCompletedIndices": 8,
                    "numActiveStages": 0,
                    "numCompletedStages": 1,
                    "numSkippedStages": 1,
                    "numFailedStages": 0,
                    "killedTasksSummary": {}
                  },
                  {
                    "displayName": "collect at /tmp/ipykernel_7155/815720293.py:1",
                    "dataWritten": 0,
                    "dataRead": 8796367,
                    "rowCount": 127358,
                    "usageDescription": "",
                    "jobId": 3,
                    "name": "collect at /tmp/ipykernel_7155/815720293.py:1",
                    "description": "Job group for statement 14:\nsubmissions_pop_games = submissions_filtered.groupBy(\"subreddit\").count().orderBy(col(\"count\"), ascending=False).collect()",
                    "submissionTime": "2023-11-04T01:51:28.911GMT",
                    "completionTime": "2023-11-04T01:51:31.473GMT",
                    "stageIds": [
                      3,
                      4
                    ],
                    "jobGroup": "14",
                    "status": "SUCCEEDED",
                    "numTasks": 3088,
                    "numActiveTasks": 0,
                    "numCompletedTasks": 8,
                    "numSkippedTasks": 3080,
                    "numFailedTasks": 0,
                    "numKilledTasks": 0,
                    "numCompletedIndices": 8,
                    "numActiveStages": 0,
                    "numCompletedStages": 1,
                    "numSkippedStages": 1,
                    "numFailedStages": 0,
                    "killedTasksSummary": {}
                  },
                  {
                    "displayName": "collect at /tmp/ipykernel_7155/815720293.py:1",
                    "dataWritten": 8796367,
                    "dataRead": 14302266522,
                    "rowCount": 892288179,
                    "usageDescription": "",
                    "jobId": 2,
                    "name": "collect at /tmp/ipykernel_7155/815720293.py:1",
                    "description": "Job group for statement 14:\nsubmissions_pop_games = submissions_filtered.groupBy(\"subreddit\").count().orderBy(col(\"count\"), ascending=False).collect()",
                    "submissionTime": "2023-11-04T01:40:07.455GMT",
                    "completionTime": "2023-11-04T01:51:28.461GMT",
                    "stageIds": [
                      2
                    ],
                    "jobGroup": "14",
                    "status": "SUCCEEDED",
                    "numTasks": 3080,
                    "numActiveTasks": 0,
                    "numCompletedTasks": 3080,
                    "numSkippedTasks": 0,
                    "numFailedTasks": 0,
                    "numKilledTasks": 0,
                    "numCompletedIndices": 3080,
                    "numActiveStages": 0,
                    "numCompletedStages": 1,
                    "numSkippedStages": 0,
                    "numFailedStages": 0,
                    "killedTasksSummary": {}
                  }
                ],
                "limit": 20,
                "rule": "ALL_DESC"
              },
              "parent_msg_id": "9a0fa8ce-1b81-4d59-b425-817980cea5ab"
            },
            "text/plain": "StatementMeta(3c67b279-1d53-4b7a-b0d9-41cb8b4b6723, 3, 14, Finished, Available)"
          },
          "metadata": {}
        }
      ],
      "execution_count": 9,
      "metadata": {
        "jupyter": {
          "source_hidden": false,
          "outputs_hidden": false
        },
        "nteract": {
          "transient": {
            "deleting": false
          }
        },
        "gather": {
          "logged": 1699062694160
        }
      }
    },
    {
      "cell_type": "code",
      "source": [
        "submissions_pop_games_df = spark.createDataFrame(submissions_pop_games).toPandas()\n",
        "submissions_pop_games_df"
      ],
      "outputs": [
        {
          "output_type": "display_data",
          "data": {
            "application/vnd.livy.statement-meta+json": {
              "spark_pool": "3c67b279-1d53-4b7a-b0d9-41cb8b4b6723",
              "session_id": "3",
              "statement_id": 16,
              "state": "finished",
              "livy_statement_state": "available",
              "queued_time": "2023-11-04T01:52:38.9163744Z",
              "session_start_time": null,
              "execution_start_time": "2023-11-04T01:52:39.0374211Z",
              "execution_finish_time": "2023-11-04T01:52:39.9401919Z",
              "spark_jobs": {
                "numbers": {
                  "FAILED": 0,
                  "RUNNING": 0,
                  "SUCCEEDED": 1,
                  "UNKNOWN": 0
                },
                "jobs": [
                  {
                    "displayName": "toPandas at /tmp/ipykernel_7155/2743533661.py:1",
                    "dataWritten": 0,
                    "dataRead": 0,
                    "rowCount": 0,
                    "usageDescription": "",
                    "jobId": 7,
                    "name": "toPandas at /tmp/ipykernel_7155/2743533661.py:1",
                    "description": "Job group for statement 16:\nsubmissions_pop_games_df = spark.createDataFrame(submissions_pop_games).toPandas()\nsubmissions_pop_games_df",
                    "submissionTime": "2023-11-04T01:52:39.149GMT",
                    "completionTime": "2023-11-04T01:52:39.304GMT",
                    "stageIds": [
                      11
                    ],
                    "jobGroup": "16",
                    "status": "SUCCEEDED",
                    "numTasks": 8,
                    "numActiveTasks": 0,
                    "numCompletedTasks": 8,
                    "numSkippedTasks": 0,
                    "numFailedTasks": 0,
                    "numKilledTasks": 0,
                    "numCompletedIndices": 8,
                    "numActiveStages": 0,
                    "numCompletedStages": 1,
                    "numSkippedStages": 0,
                    "numFailedStages": 0,
                    "killedTasksSummary": {}
                  }
                ],
                "limit": 20,
                "rule": "ALL_DESC"
              },
              "parent_msg_id": "67d0408f-20f5-49f9-8613-392b7e0cf18c"
            },
            "text/plain": "StatementMeta(3c67b279-1d53-4b7a-b0d9-41cb8b4b6723, 3, 16, Finished, Available)"
          },
          "metadata": {}
        },
        {
          "output_type": "execute_result",
          "execution_count": 31,
          "data": {
            "text/plain": "       subreddit   count\n0      Minecraft  903622\n1      Overwatch  297011\n2       Sneakers  256072\n3       Terraria  221004\n4        Destiny  130433\n..           ...     ...\n150       GunPey       1\n151       Malice       1\n152         Shox       1\n153     Kamiwaza       1\n154  TouchMaster       1\n\n[155 rows x 2 columns]",
            "text/html": "<div>\n<style scoped>\n    .dataframe tbody tr th:only-of-type {\n        vertical-align: middle;\n    }\n\n    .dataframe tbody tr th {\n        vertical-align: top;\n    }\n\n    .dataframe thead th {\n        text-align: right;\n    }\n</style>\n<table border=\"1\" class=\"dataframe\">\n  <thead>\n    <tr style=\"text-align: right;\">\n      <th></th>\n      <th>subreddit</th>\n      <th>count</th>\n    </tr>\n  </thead>\n  <tbody>\n    <tr>\n      <th>0</th>\n      <td>Minecraft</td>\n      <td>903622</td>\n    </tr>\n    <tr>\n      <th>1</th>\n      <td>Overwatch</td>\n      <td>297011</td>\n    </tr>\n    <tr>\n      <th>2</th>\n      <td>Sneakers</td>\n      <td>256072</td>\n    </tr>\n    <tr>\n      <th>3</th>\n      <td>Terraria</td>\n      <td>221004</td>\n    </tr>\n    <tr>\n      <th>4</th>\n      <td>Destiny</td>\n      <td>130433</td>\n    </tr>\n    <tr>\n      <th>...</th>\n      <td>...</td>\n      <td>...</td>\n    </tr>\n    <tr>\n      <th>150</th>\n      <td>GunPey</td>\n      <td>1</td>\n    </tr>\n    <tr>\n      <th>151</th>\n      <td>Malice</td>\n      <td>1</td>\n    </tr>\n    <tr>\n      <th>152</th>\n      <td>Shox</td>\n      <td>1</td>\n    </tr>\n    <tr>\n      <th>153</th>\n      <td>Kamiwaza</td>\n      <td>1</td>\n    </tr>\n    <tr>\n      <th>154</th>\n      <td>TouchMaster</td>\n      <td>1</td>\n    </tr>\n  </tbody>\n</table>\n<p>155 rows × 2 columns</p>\n</div>"
          },
          "metadata": {}
        }
      ],
      "execution_count": 11,
      "metadata": {
        "jupyter": {
          "source_hidden": false,
          "outputs_hidden": false
        },
        "nteract": {
          "transient": {
            "deleting": false
          }
        },
        "gather": {
          "logged": 1699062758882
        }
      }
    },
    {
      "cell_type": "code",
      "source": [
        "dft = dfs.merge(submissions_pop_games_df, how = \"inner\",left_on=[\"Name\"],right_on=[\"subreddit\"])\n",
        "dft"
      ],
      "outputs": [
        {
          "output_type": "display_data",
          "data": {
            "application/vnd.livy.statement-meta+json": {
              "spark_pool": "3c67b279-1d53-4b7a-b0d9-41cb8b4b6723",
              "session_id": "3",
              "statement_id": 34,
              "state": "finished",
              "livy_statement_state": "available",
              "queued_time": "2023-11-04T02:03:15.9046467Z",
              "session_start_time": null,
              "execution_start_time": "2023-11-04T02:03:16.0344935Z",
              "execution_finish_time": "2023-11-04T02:03:16.4010806Z",
              "spark_jobs": {
                "numbers": {
                  "FAILED": 0,
                  "RUNNING": 0,
                  "SUCCEEDED": 0,
                  "UNKNOWN": 0
                },
                "jobs": [],
                "limit": 20,
                "rule": "ALL_DESC"
              },
              "parent_msg_id": "44d1c292-f7a0-43fa-bcf3-292c07b37dc1"
            },
            "text/plain": "StatementMeta(3c67b279-1d53-4b7a-b0d9-41cb8b4b6723, 3, 34, Finished, Available)"
          },
          "metadata": {}
        },
        {
          "output_type": "execute_result",
          "execution_count": 67,
          "data": {
            "text/plain": "           Name  NA_Sales  Global_Sales   subreddit   count\n0        Tetris     23.20         30.26      Tetris    9049\n1        Tetris      2.97          5.58      Tetris    9049\n2    Nintendogs      9.07         24.76  Nintendogs      87\n3     Minecraft      5.58          9.20   Minecraft  903622\n4     Minecraft      1.97          5.42   Minecraft  903622\n..          ...       ...           ...         ...     ...\n278    Contrast      0.00          0.02    Contrast       3\n279      Uppers      0.00          0.01      Uppers      11\n280     Rewrite      0.00          0.01     Rewrite     767\n281       Trine      0.00          0.01       Trine     130\n282   Teslagrad      0.00          0.01   Teslagrad       2\n\n[283 rows x 5 columns]",
            "text/html": "<div>\n<style scoped>\n    .dataframe tbody tr th:only-of-type {\n        vertical-align: middle;\n    }\n\n    .dataframe tbody tr th {\n        vertical-align: top;\n    }\n\n    .dataframe thead th {\n        text-align: right;\n    }\n</style>\n<table border=\"1\" class=\"dataframe\">\n  <thead>\n    <tr style=\"text-align: right;\">\n      <th></th>\n      <th>Name</th>\n      <th>NA_Sales</th>\n      <th>Global_Sales</th>\n      <th>subreddit</th>\n      <th>count</th>\n    </tr>\n  </thead>\n  <tbody>\n    <tr>\n      <th>0</th>\n      <td>Tetris</td>\n      <td>23.20</td>\n      <td>30.26</td>\n      <td>Tetris</td>\n      <td>9049</td>\n    </tr>\n    <tr>\n      <th>1</th>\n      <td>Tetris</td>\n      <td>2.97</td>\n      <td>5.58</td>\n      <td>Tetris</td>\n      <td>9049</td>\n    </tr>\n    <tr>\n      <th>2</th>\n      <td>Nintendogs</td>\n      <td>9.07</td>\n      <td>24.76</td>\n      <td>Nintendogs</td>\n      <td>87</td>\n    </tr>\n    <tr>\n      <th>3</th>\n      <td>Minecraft</td>\n      <td>5.58</td>\n      <td>9.20</td>\n      <td>Minecraft</td>\n      <td>903622</td>\n    </tr>\n    <tr>\n      <th>4</th>\n      <td>Minecraft</td>\n      <td>1.97</td>\n      <td>5.42</td>\n      <td>Minecraft</td>\n      <td>903622</td>\n    </tr>\n    <tr>\n      <th>...</th>\n      <td>...</td>\n      <td>...</td>\n      <td>...</td>\n      <td>...</td>\n      <td>...</td>\n    </tr>\n    <tr>\n      <th>278</th>\n      <td>Contrast</td>\n      <td>0.00</td>\n      <td>0.02</td>\n      <td>Contrast</td>\n      <td>3</td>\n    </tr>\n    <tr>\n      <th>279</th>\n      <td>Uppers</td>\n      <td>0.00</td>\n      <td>0.01</td>\n      <td>Uppers</td>\n      <td>11</td>\n    </tr>\n    <tr>\n      <th>280</th>\n      <td>Rewrite</td>\n      <td>0.00</td>\n      <td>0.01</td>\n      <td>Rewrite</td>\n      <td>767</td>\n    </tr>\n    <tr>\n      <th>281</th>\n      <td>Trine</td>\n      <td>0.00</td>\n      <td>0.01</td>\n      <td>Trine</td>\n      <td>130</td>\n    </tr>\n    <tr>\n      <th>282</th>\n      <td>Teslagrad</td>\n      <td>0.00</td>\n      <td>0.01</td>\n      <td>Teslagrad</td>\n      <td>2</td>\n    </tr>\n  </tbody>\n</table>\n<p>283 rows × 5 columns</p>\n</div>"
          },
          "metadata": {}
        }
      ],
      "execution_count": 29,
      "metadata": {
        "jupyter": {
          "source_hidden": false,
          "outputs_hidden": false
        },
        "nteract": {
          "transient": {
            "deleting": false
          }
        },
        "gather": {
          "logged": 1699063395331
        }
      }
    },
    {
      "cell_type": "code",
      "source": [
        "dft[\"Name\"]= dft[\"Name\"].astype(str)\n",
        "agg_df = dft.groupby('Name').agg({'NA_Sales': 'sum', 'Global_Sales': 'sum'}).reset_index()\n",
        "\n",
        "# Merge the aggregated DataFrame with the original 'Count' column\n",
        "result_df = dft.drop(columns=['NA_Sales', 'Global_Sales']).merge(agg_df, on='Name').drop_duplicates(subset='Name')\n",
        "result_df"
      ],
      "outputs": [
        {
          "output_type": "display_data",
          "data": {
            "application/vnd.livy.statement-meta+json": {
              "spark_pool": "3c67b279-1d53-4b7a-b0d9-41cb8b4b6723",
              "session_id": "3",
              "statement_id": 39,
              "state": "finished",
              "livy_statement_state": "available",
              "queued_time": "2023-11-04T02:05:28.4056351Z",
              "session_start_time": null,
              "execution_start_time": "2023-11-04T02:05:28.5291739Z",
              "execution_finish_time": "2023-11-04T02:05:28.8854526Z",
              "spark_jobs": {
                "numbers": {
                  "FAILED": 0,
                  "RUNNING": 0,
                  "SUCCEEDED": 0,
                  "UNKNOWN": 0
                },
                "jobs": [],
                "limit": 20,
                "rule": "ALL_DESC"
              },
              "parent_msg_id": "f046a591-3b80-47d0-a1b8-8428564d73e5"
            },
            "text/plain": "StatementMeta(3c67b279-1d53-4b7a-b0d9-41cb8b4b6723, 3, 39, Finished, Available)"
          },
          "metadata": {}
        },
        {
          "output_type": "execute_result",
          "execution_count": 77,
          "data": {
            "text/plain": "           Name   subreddit   count  NA_Sales  Global_Sales\n0        Tetris      Tetris    9049     26.17         35.84\n2    Nintendogs  Nintendogs      87      9.07         24.76\n3     Minecraft   Minecraft  903622     10.82         23.73\n9       Destiny     Destiny  130433      6.59         12.61\n13    Asteroids   Asteroids       1      4.64          5.46\n..          ...         ...     ...       ...           ...\n278    Contrast    Contrast       3      0.00          0.02\n279      Uppers      Uppers      11      0.00          0.01\n280     Rewrite     Rewrite     767      0.00          0.01\n281       Trine       Trine     130      0.00          0.01\n282   Teslagrad   Teslagrad       2      0.00          0.01\n\n[155 rows x 5 columns]",
            "text/html": "<div>\n<style scoped>\n    .dataframe tbody tr th:only-of-type {\n        vertical-align: middle;\n    }\n\n    .dataframe tbody tr th {\n        vertical-align: top;\n    }\n\n    .dataframe thead th {\n        text-align: right;\n    }\n</style>\n<table border=\"1\" class=\"dataframe\">\n  <thead>\n    <tr style=\"text-align: right;\">\n      <th></th>\n      <th>Name</th>\n      <th>subreddit</th>\n      <th>count</th>\n      <th>NA_Sales</th>\n      <th>Global_Sales</th>\n    </tr>\n  </thead>\n  <tbody>\n    <tr>\n      <th>0</th>\n      <td>Tetris</td>\n      <td>Tetris</td>\n      <td>9049</td>\n      <td>26.17</td>\n      <td>35.84</td>\n    </tr>\n    <tr>\n      <th>2</th>\n      <td>Nintendogs</td>\n      <td>Nintendogs</td>\n      <td>87</td>\n      <td>9.07</td>\n      <td>24.76</td>\n    </tr>\n    <tr>\n      <th>3</th>\n      <td>Minecraft</td>\n      <td>Minecraft</td>\n      <td>903622</td>\n      <td>10.82</td>\n      <td>23.73</td>\n    </tr>\n    <tr>\n      <th>9</th>\n      <td>Destiny</td>\n      <td>Destiny</td>\n      <td>130433</td>\n      <td>6.59</td>\n      <td>12.61</td>\n    </tr>\n    <tr>\n      <th>13</th>\n      <td>Asteroids</td>\n      <td>Asteroids</td>\n      <td>1</td>\n      <td>4.64</td>\n      <td>5.46</td>\n    </tr>\n    <tr>\n      <th>...</th>\n      <td>...</td>\n      <td>...</td>\n      <td>...</td>\n      <td>...</td>\n      <td>...</td>\n    </tr>\n    <tr>\n      <th>278</th>\n      <td>Contrast</td>\n      <td>Contrast</td>\n      <td>3</td>\n      <td>0.00</td>\n      <td>0.02</td>\n    </tr>\n    <tr>\n      <th>279</th>\n      <td>Uppers</td>\n      <td>Uppers</td>\n      <td>11</td>\n      <td>0.00</td>\n      <td>0.01</td>\n    </tr>\n    <tr>\n      <th>280</th>\n      <td>Rewrite</td>\n      <td>Rewrite</td>\n      <td>767</td>\n      <td>0.00</td>\n      <td>0.01</td>\n    </tr>\n    <tr>\n      <th>281</th>\n      <td>Trine</td>\n      <td>Trine</td>\n      <td>130</td>\n      <td>0.00</td>\n      <td>0.01</td>\n    </tr>\n    <tr>\n      <th>282</th>\n      <td>Teslagrad</td>\n      <td>Teslagrad</td>\n      <td>2</td>\n      <td>0.00</td>\n      <td>0.01</td>\n    </tr>\n  </tbody>\n</table>\n<p>155 rows × 5 columns</p>\n</div>"
          },
          "metadata": {}
        }
      ],
      "execution_count": 34,
      "metadata": {
        "jupyter": {
          "source_hidden": false,
          "outputs_hidden": false
        },
        "nteract": {
          "transient": {
            "deleting": false
          }
        },
        "gather": {
          "logged": 1699063527811
        }
      }
    },
    {
      "cell_type": "code",
      "source": [
        "import os\n",
        "CSV_DIR = os.path.join(\"Users/yc1063/fall-2023-reddit-project-team-11/data\", \"csv\")"
      ],
      "outputs": [
        {
          "output_type": "display_data",
          "data": {
            "application/vnd.livy.statement-meta+json": {
              "spark_pool": "3c67b279-1d53-4b7a-b0d9-41cb8b4b6723",
              "session_id": "3",
              "statement_id": 40,
              "state": "finished",
              "livy_statement_state": "available",
              "queued_time": "2023-11-04T02:05:36.1974495Z",
              "session_start_time": null,
              "execution_start_time": "2023-11-04T02:05:36.3359549Z",
              "execution_finish_time": "2023-11-04T02:05:36.6829906Z",
              "spark_jobs": {
                "numbers": {
                  "FAILED": 0,
                  "RUNNING": 0,
                  "SUCCEEDED": 0,
                  "UNKNOWN": 0
                },
                "jobs": [],
                "limit": 20,
                "rule": "ALL_DESC"
              },
              "parent_msg_id": "9e8d2465-b080-4f95-a231-c62ef790f374"
            },
            "text/plain": "StatementMeta(3c67b279-1d53-4b7a-b0d9-41cb8b4b6723, 3, 40, Finished, Available)"
          },
          "metadata": {}
        }
      ],
      "execution_count": 35,
      "metadata": {
        "jupyter": {
          "source_hidden": false,
          "outputs_hidden": false
        },
        "nteract": {
          "transient": {
            "deleting": false
          }
        },
        "gather": {
          "logged": 1699063535565
        }
      }
    },
    {
      "cell_type": "code",
      "source": [
        "result_df.to_csv(f\"{CSV_DIR}/game_sales.csv\", index=False)"
      ],
      "outputs": [
        {
          "output_type": "display_data",
          "data": {
            "application/vnd.livy.statement-meta+json": {
              "spark_pool": "3c67b279-1d53-4b7a-b0d9-41cb8b4b6723",
              "session_id": "3",
              "statement_id": 41,
              "state": "finished",
              "livy_statement_state": "available",
              "queued_time": "2023-11-04T02:05:53.216449Z",
              "session_start_time": null,
              "execution_start_time": "2023-11-04T02:05:53.3411212Z",
              "execution_finish_time": "2023-11-04T02:05:54.228058Z",
              "spark_jobs": {
                "numbers": {
                  "FAILED": 0,
                  "RUNNING": 0,
                  "SUCCEEDED": 0,
                  "UNKNOWN": 0
                },
                "jobs": [],
                "limit": 20,
                "rule": "ALL_DESC"
              },
              "parent_msg_id": "a15770b7-d7dd-4120-a40c-717131ffdf99"
            },
            "text/plain": "StatementMeta(3c67b279-1d53-4b7a-b0d9-41cb8b4b6723, 3, 41, Finished, Available)"
          },
          "metadata": {}
        }
      ],
      "execution_count": 36,
      "metadata": {
        "jupyter": {
          "source_hidden": false,
          "outputs_hidden": false
        },
        "nteract": {
          "transient": {
            "deleting": false
          }
        },
        "gather": {
          "logged": 1699063553106
        }
      }
    },
    {
      "cell_type": "markdown",
      "source": [
        "# show the popularity of each popular game each month"
      ],
      "metadata": {
        "nteract": {
          "transient": {
            "deleting": false
          }
        }
      }
    },
    {
      "cell_type": "code",
      "source": [
        "submissions_filtered_ym = submissions_filtered.select(\"subreddit\", \"year\").cache()"
      ],
      "outputs": [
        {
          "output_type": "display_data",
          "data": {
            "application/vnd.livy.statement-meta+json": {
              "spark_pool": "3c67b279-1d53-4b7a-b0d9-41cb8b4b6723",
              "session_id": "3",
              "statement_id": 42,
              "state": "finished",
              "livy_statement_state": "available",
              "queued_time": "2023-11-04T02:07:21.4891435Z",
              "session_start_time": null,
              "execution_start_time": "2023-11-04T02:07:21.6514871Z",
              "execution_finish_time": "2023-11-04T02:07:22.5680927Z",
              "spark_jobs": {
                "numbers": {
                  "FAILED": 0,
                  "RUNNING": 0,
                  "SUCCEEDED": 0,
                  "UNKNOWN": 0
                },
                "jobs": [],
                "limit": 20,
                "rule": "ALL_DESC"
              },
              "parent_msg_id": "bc2c8adb-97ce-4cb9-8e56-101b9540bcdc"
            },
            "text/plain": "StatementMeta(3c67b279-1d53-4b7a-b0d9-41cb8b4b6723, 3, 42, Finished, Available)"
          },
          "metadata": {}
        }
      ],
      "execution_count": 37,
      "metadata": {
        "jupyter": {
          "source_hidden": false,
          "outputs_hidden": false
        },
        "nteract": {
          "transient": {
            "deleting": false
          }
        },
        "gather": {
          "logged": 1699063641450
        }
      }
    },
    {
      "cell_type": "code",
      "source": [
        "submissions_filtered_ym_pop = submissions_filtered_ym.groupBy(\"subreddit\",\"year\").count().orderBy(col(\"count\"), ascending=False).collect()"
      ],
      "outputs": [
        {
          "output_type": "display_data",
          "data": {
            "application/vnd.livy.statement-meta+json": {
              "spark_pool": "3c67b279-1d53-4b7a-b0d9-41cb8b4b6723",
              "session_id": "3",
              "statement_id": 43,
              "state": "finished",
              "livy_statement_state": "available",
              "queued_time": "2023-11-04T02:07:35.5754451Z",
              "session_start_time": null,
              "execution_start_time": "2023-11-04T02:07:35.6965799Z",
              "execution_finish_time": "2023-11-04T02:18:58.4003633Z",
              "spark_jobs": {
                "numbers": {
                  "FAILED": 0,
                  "RUNNING": 0,
                  "SUCCEEDED": 4,
                  "UNKNOWN": 0
                },
                "jobs": [
                  {
                    "displayName": "collect at /tmp/ipykernel_7155/2696223560.py:1",
                    "dataWritten": 0,
                    "dataRead": 27190,
                    "rowCount": 391,
                    "usageDescription": "",
                    "jobId": 11,
                    "name": "collect at /tmp/ipykernel_7155/2696223560.py:1",
                    "description": "Job group for statement 43:\nsubmissions_filtered_ym_pop = submissions_filtered_ym.groupBy(\"subreddit\",\"year\").count().orderBy(col(\"count\"), ascending=False).collect()",
                    "submissionTime": "2023-11-04T02:18:57.629GMT",
                    "completionTime": "2023-11-04T02:18:57.753GMT",
                    "stageIds": [
                      19,
                      17,
                      18
                    ],
                    "jobGroup": "43",
                    "status": "SUCCEEDED",
                    "numTasks": 3089,
                    "numActiveTasks": 0,
                    "numCompletedTasks": 1,
                    "numSkippedTasks": 3088,
                    "numFailedTasks": 0,
                    "numKilledTasks": 0,
                    "numCompletedIndices": 1,
                    "numActiveStages": 0,
                    "numCompletedStages": 1,
                    "numSkippedStages": 2,
                    "numFailedStages": 0,
                    "killedTasksSummary": {}
                  },
                  {
                    "displayName": "collect at /tmp/ipykernel_7155/2696223560.py:1",
                    "dataWritten": 27190,
                    "dataRead": 13744784,
                    "rowCount": 197387,
                    "usageDescription": "",
                    "jobId": 10,
                    "name": "collect at /tmp/ipykernel_7155/2696223560.py:1",
                    "description": "Job group for statement 43:\nsubmissions_filtered_ym_pop = submissions_filtered_ym.groupBy(\"subreddit\",\"year\").count().orderBy(col(\"count\"), ascending=False).collect()",
                    "submissionTime": "2023-11-04T02:18:56.665GMT",
                    "completionTime": "2023-11-04T02:18:57.506GMT",
                    "stageIds": [
                      15,
                      16
                    ],
                    "jobGroup": "43",
                    "status": "SUCCEEDED",
                    "numTasks": 3088,
                    "numActiveTasks": 0,
                    "numCompletedTasks": 8,
                    "numSkippedTasks": 3080,
                    "numFailedTasks": 0,
                    "numKilledTasks": 0,
                    "numCompletedIndices": 8,
                    "numActiveStages": 0,
                    "numCompletedStages": 1,
                    "numSkippedStages": 1,
                    "numFailedStages": 0,
                    "killedTasksSummary": {}
                  },
                  {
                    "displayName": "collect at /tmp/ipykernel_7155/2696223560.py:1",
                    "dataWritten": 0,
                    "dataRead": 13744784,
                    "rowCount": 196996,
                    "usageDescription": "",
                    "jobId": 9,
                    "name": "collect at /tmp/ipykernel_7155/2696223560.py:1",
                    "description": "Job group for statement 43:\nsubmissions_filtered_ym_pop = submissions_filtered_ym.groupBy(\"subreddit\",\"year\").count().orderBy(col(\"count\"), ascending=False).collect()",
                    "submissionTime": "2023-11-04T02:18:55.592GMT",
                    "completionTime": "2023-11-04T02:18:56.658GMT",
                    "stageIds": [
                      13,
                      14
                    ],
                    "jobGroup": "43",
                    "status": "SUCCEEDED",
                    "numTasks": 3088,
                    "numActiveTasks": 0,
                    "numCompletedTasks": 8,
                    "numSkippedTasks": 3080,
                    "numFailedTasks": 0,
                    "numKilledTasks": 0,
                    "numCompletedIndices": 8,
                    "numActiveStages": 0,
                    "numCompletedStages": 1,
                    "numSkippedStages": 1,
                    "numFailedStages": 0,
                    "killedTasksSummary": {}
                  },
                  {
                    "displayName": "collect at /tmp/ipykernel_7155/2696223560.py:1",
                    "dataWritten": 13744784,
                    "dataRead": 14302266522,
                    "rowCount": 892357817,
                    "usageDescription": "",
                    "jobId": 8,
                    "name": "collect at /tmp/ipykernel_7155/2696223560.py:1",
                    "description": "Job group for statement 43:\nsubmissions_filtered_ym_pop = submissions_filtered_ym.groupBy(\"subreddit\",\"year\").count().orderBy(col(\"count\"), ascending=False).collect()",
                    "submissionTime": "2023-11-04T02:07:36.634GMT",
                    "completionTime": "2023-11-04T02:18:54.928GMT",
                    "stageIds": [
                      12
                    ],
                    "jobGroup": "43",
                    "status": "SUCCEEDED",
                    "numTasks": 3080,
                    "numActiveTasks": 0,
                    "numCompletedTasks": 3080,
                    "numSkippedTasks": 0,
                    "numFailedTasks": 0,
                    "numKilledTasks": 0,
                    "numCompletedIndices": 3080,
                    "numActiveStages": 0,
                    "numCompletedStages": 1,
                    "numSkippedStages": 0,
                    "numFailedStages": 0,
                    "killedTasksSummary": {}
                  }
                ],
                "limit": 20,
                "rule": "ALL_DESC"
              },
              "parent_msg_id": "9d5c6959-d983-4215-a92c-698306f10bdb"
            },
            "text/plain": "StatementMeta(3c67b279-1d53-4b7a-b0d9-41cb8b4b6723, 3, 43, Finished, Available)"
          },
          "metadata": {}
        }
      ],
      "execution_count": 38,
      "metadata": {
        "jupyter": {
          "source_hidden": false,
          "outputs_hidden": false
        },
        "nteract": {
          "transient": {
            "deleting": false
          }
        },
        "gather": {
          "logged": 1699064337375
        }
      }
    },
    {
      "cell_type": "code",
      "source": [
        "submissions_filtered_ym_pop_df = spark.createDataFrame(submissions_filtered_ym_pop).toPandas()\n",
        "submissions_filtered_ym_pop_df"
      ],
      "outputs": [
        {
          "output_type": "display_data",
          "data": {
            "application/vnd.livy.statement-meta+json": {
              "spark_pool": "3c67b279-1d53-4b7a-b0d9-41cb8b4b6723",
              "session_id": "3",
              "statement_id": 45,
              "state": "finished",
              "livy_statement_state": "available",
              "queued_time": "2023-11-04T02:19:10.8017474Z",
              "session_start_time": null,
              "execution_start_time": "2023-11-04T02:19:10.9432572Z",
              "execution_finish_time": "2023-11-04T02:19:11.8566275Z",
              "spark_jobs": {
                "numbers": {
                  "FAILED": 0,
                  "RUNNING": 0,
                  "SUCCEEDED": 1,
                  "UNKNOWN": 0
                },
                "jobs": [
                  {
                    "displayName": "toPandas at /tmp/ipykernel_7155/1703557852.py:1",
                    "dataWritten": 0,
                    "dataRead": 0,
                    "rowCount": 0,
                    "usageDescription": "",
                    "jobId": 12,
                    "name": "toPandas at /tmp/ipykernel_7155/1703557852.py:1",
                    "description": "Job group for statement 45:\nsubmissions_filtered_ym_pop_df = spark.createDataFrame(submissions_filtered_ym_pop).toPandas()\nsubmissions_filtered_ym_pop_df",
                    "submissionTime": "2023-11-04T02:19:11.024GMT",
                    "completionTime": "2023-11-04T02:19:11.125GMT",
                    "stageIds": [
                      20
                    ],
                    "jobGroup": "45",
                    "status": "SUCCEEDED",
                    "numTasks": 8,
                    "numActiveTasks": 0,
                    "numCompletedTasks": 8,
                    "numSkippedTasks": 0,
                    "numFailedTasks": 0,
                    "numKilledTasks": 0,
                    "numCompletedIndices": 8,
                    "numActiveStages": 0,
                    "numCompletedStages": 1,
                    "numSkippedStages": 0,
                    "numFailedStages": 0,
                    "killedTasksSummary": {}
                  }
                ],
                "limit": 20,
                "rule": "ALL_DESC"
              },
              "parent_msg_id": "6ada357b-f742-410a-8ff5-b37477e9ca4d"
            },
            "text/plain": "StatementMeta(3c67b279-1d53-4b7a-b0d9-41cb8b4b6723, 3, 45, Finished, Available)"
          },
          "metadata": {}
        },
        {
          "output_type": "execute_result",
          "execution_count": 89,
          "data": {
            "text/plain": "     subreddit  year   count\n0    Minecraft  2021  549210\n1    Minecraft  2022  294871\n2    Overwatch  2022  168468\n3     Sneakers  2021  117746\n4     Sneakers  2022  111947\n..         ...   ...     ...\n386  Darkstone  2023       1\n387        Viz  2022       1\n388    TwinBee  2023       1\n389   Kamiwaza  2022       1\n390      Saint  2021       1\n\n[391 rows x 3 columns]",
            "text/html": "<div>\n<style scoped>\n    .dataframe tbody tr th:only-of-type {\n        vertical-align: middle;\n    }\n\n    .dataframe tbody tr th {\n        vertical-align: top;\n    }\n\n    .dataframe thead th {\n        text-align: right;\n    }\n</style>\n<table border=\"1\" class=\"dataframe\">\n  <thead>\n    <tr style=\"text-align: right;\">\n      <th></th>\n      <th>subreddit</th>\n      <th>year</th>\n      <th>count</th>\n    </tr>\n  </thead>\n  <tbody>\n    <tr>\n      <th>0</th>\n      <td>Minecraft</td>\n      <td>2021</td>\n      <td>549210</td>\n    </tr>\n    <tr>\n      <th>1</th>\n      <td>Minecraft</td>\n      <td>2022</td>\n      <td>294871</td>\n    </tr>\n    <tr>\n      <th>2</th>\n      <td>Overwatch</td>\n      <td>2022</td>\n      <td>168468</td>\n    </tr>\n    <tr>\n      <th>3</th>\n      <td>Sneakers</td>\n      <td>2021</td>\n      <td>117746</td>\n    </tr>\n    <tr>\n      <th>4</th>\n      <td>Sneakers</td>\n      <td>2022</td>\n      <td>111947</td>\n    </tr>\n    <tr>\n      <th>...</th>\n      <td>...</td>\n      <td>...</td>\n      <td>...</td>\n    </tr>\n    <tr>\n      <th>386</th>\n      <td>Darkstone</td>\n      <td>2023</td>\n      <td>1</td>\n    </tr>\n    <tr>\n      <th>387</th>\n      <td>Viz</td>\n      <td>2022</td>\n      <td>1</td>\n    </tr>\n    <tr>\n      <th>388</th>\n      <td>TwinBee</td>\n      <td>2023</td>\n      <td>1</td>\n    </tr>\n    <tr>\n      <th>389</th>\n      <td>Kamiwaza</td>\n      <td>2022</td>\n      <td>1</td>\n    </tr>\n    <tr>\n      <th>390</th>\n      <td>Saint</td>\n      <td>2021</td>\n      <td>1</td>\n    </tr>\n  </tbody>\n</table>\n<p>391 rows × 3 columns</p>\n</div>"
          },
          "metadata": {}
        }
      ],
      "execution_count": 40,
      "metadata": {
        "jupyter": {
          "source_hidden": false,
          "outputs_hidden": false
        },
        "nteract": {
          "transient": {
            "deleting": false
          }
        },
        "gather": {
          "logged": 1699064350772
        }
      }
    },
    {
      "cell_type": "code",
      "source": [
        "submissions_filtered_ym_pop_df.to_csv(f\"{CSV_DIR}/top_10_pop_games_month.csv\", index=False)"
      ],
      "outputs": [
        {
          "output_type": "display_data",
          "data": {
            "application/vnd.livy.statement-meta+json": {
              "spark_pool": "3c67b279-1d53-4b7a-b0d9-41cb8b4b6723",
              "session_id": "0",
              "statement_id": 28,
              "state": "finished",
              "livy_statement_state": "available",
              "queued_time": "2023-11-01T21:48:42.798742Z",
              "session_start_time": null,
              "execution_start_time": "2023-11-01T21:48:42.8826945Z",
              "execution_finish_time": "2023-11-01T21:48:43.8090785Z",
              "spark_jobs": {
                "numbers": {
                  "RUNNING": 0,
                  "UNKNOWN": 0,
                  "SUCCEEDED": 0,
                  "FAILED": 0
                },
                "jobs": [],
                "limit": 20,
                "rule": "ALL_DESC"
              },
              "parent_msg_id": "5b9ea965-b336-40d3-8dc2-eba86b38ad47"
            },
            "text/plain": "StatementMeta(3c67b279-1d53-4b7a-b0d9-41cb8b4b6723, 0, 28, Finished, Available)"
          },
          "metadata": {}
        }
      ],
      "execution_count": 23,
      "metadata": {
        "jupyter": {
          "source_hidden": false,
          "outputs_hidden": false
        },
        "nteract": {
          "transient": {
            "deleting": false
          }
        },
        "gather": {
          "logged": 1698875323848
        }
      }
    }
  ],
  "metadata": {
    "language_info": {
      "name": "python",
      "version": "3.8.0",
      "mimetype": "text/x-python",
      "file_extension": ".py",
      "pygments_lexer": "ipython",
      "codemirror_mode": "ipython",
      "nbconvert_exporter": "python"
    },
    "orig_nbformat": 4,
    "microsoft": {
      "ms_spell_check": {
        "ms_spell_check_language": "en"
      },
      "host": {
        "AzureML": {
          "notebookHasBeenCompleted": true
        }
      }
    },
    "kernelspec": {
      "name": "synapse_pyspark",
      "language": "Python",
      "display_name": "Synapse PySpark"
    },
    "kernel_info": {
      "name": "synapse_pyspark"
    },
    "nteract": {
      "version": "nteract-front-end@1.0.0"
    }
  },
  "nbformat": 4,
  "nbformat_minor": 2
}