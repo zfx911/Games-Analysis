{
 "cells": [
  {
   "cell_type": "code",
   "execution_count": 1,
   "metadata": {},
   "outputs": [],
   "source": [
    "import pandas as pd"
   ]
  },
  {
   "cell_type": "code",
   "execution_count": 20,
   "metadata": {},
   "outputs": [
    {
     "data": {
      "text/html": [
       "<div>\n",
       "<style scoped>\n",
       "    .dataframe tbody tr th:only-of-type {\n",
       "        vertical-align: middle;\n",
       "    }\n",
       "\n",
       "    .dataframe tbody tr th {\n",
       "        vertical-align: top;\n",
       "    }\n",
       "\n",
       "    .dataframe thead th {\n",
       "        text-align: right;\n",
       "    }\n",
       "</style>\n",
       "<table border=\"1\" class=\"dataframe\">\n",
       "  <thead>\n",
       "    <tr style=\"text-align: right;\">\n",
       "      <th></th>\n",
       "      <th>subreddit</th>\n",
       "      <th>sentiment</th>\n",
       "      <th>count</th>\n",
       "    </tr>\n",
       "  </thead>\n",
       "  <tbody>\n",
       "    <tr>\n",
       "      <th>0</th>\n",
       "      <td>legostarwars</td>\n",
       "      <td>neg</td>\n",
       "      <td>17744</td>\n",
       "    </tr>\n",
       "    <tr>\n",
       "      <th>1</th>\n",
       "      <td>FinalFantasy</td>\n",
       "      <td>pos</td>\n",
       "      <td>19116</td>\n",
       "    </tr>\n",
       "    <tr>\n",
       "      <th>2</th>\n",
       "      <td>GTA</td>\n",
       "      <td>pos</td>\n",
       "      <td>30882</td>\n",
       "    </tr>\n",
       "    <tr>\n",
       "      <th>3</th>\n",
       "      <td>assassinscreed</td>\n",
       "      <td>neg</td>\n",
       "      <td>12518</td>\n",
       "    </tr>\n",
       "    <tr>\n",
       "      <th>4</th>\n",
       "      <td>Tetris</td>\n",
       "      <td>neg</td>\n",
       "      <td>2106</td>\n",
       "    </tr>\n",
       "    <tr>\n",
       "      <th>5</th>\n",
       "      <td>thesims</td>\n",
       "      <td>neutral</td>\n",
       "      <td>203</td>\n",
       "    </tr>\n",
       "    <tr>\n",
       "      <th>6</th>\n",
       "      <td>SuperMario</td>\n",
       "      <td>neutral</td>\n",
       "      <td>3</td>\n",
       "    </tr>\n",
       "    <tr>\n",
       "      <th>7</th>\n",
       "      <td>CallOfDuty</td>\n",
       "      <td>neg</td>\n",
       "      <td>19995</td>\n",
       "    </tr>\n",
       "    <tr>\n",
       "      <th>8</th>\n",
       "      <td>GTA</td>\n",
       "      <td>neg</td>\n",
       "      <td>19230</td>\n",
       "    </tr>\n",
       "    <tr>\n",
       "      <th>9</th>\n",
       "      <td>pokemon</td>\n",
       "      <td>neg</td>\n",
       "      <td>52706</td>\n",
       "    </tr>\n",
       "    <tr>\n",
       "      <th>10</th>\n",
       "      <td>pokemon</td>\n",
       "      <td>pos</td>\n",
       "      <td>175635</td>\n",
       "    </tr>\n",
       "    <tr>\n",
       "      <th>11</th>\n",
       "      <td>assassinscreed</td>\n",
       "      <td>pos</td>\n",
       "      <td>39669</td>\n",
       "    </tr>\n",
       "    <tr>\n",
       "      <th>12</th>\n",
       "      <td>FinalFantasy</td>\n",
       "      <td>neg</td>\n",
       "      <td>10586</td>\n",
       "    </tr>\n",
       "    <tr>\n",
       "      <th>13</th>\n",
       "      <td>FIFA</td>\n",
       "      <td>neg</td>\n",
       "      <td>54968</td>\n",
       "    </tr>\n",
       "    <tr>\n",
       "      <th>14</th>\n",
       "      <td>legostarwars</td>\n",
       "      <td>pos</td>\n",
       "      <td>29636</td>\n",
       "    </tr>\n",
       "    <tr>\n",
       "      <th>15</th>\n",
       "      <td>legostarwars</td>\n",
       "      <td>neutral</td>\n",
       "      <td>105</td>\n",
       "    </tr>\n",
       "    <tr>\n",
       "      <th>16</th>\n",
       "      <td>FIFA</td>\n",
       "      <td>neutral</td>\n",
       "      <td>528</td>\n",
       "    </tr>\n",
       "    <tr>\n",
       "      <th>17</th>\n",
       "      <td>CallOfDuty</td>\n",
       "      <td>neutral</td>\n",
       "      <td>109</td>\n",
       "    </tr>\n",
       "    <tr>\n",
       "      <th>18</th>\n",
       "      <td>Tetris</td>\n",
       "      <td>neutral</td>\n",
       "      <td>23</td>\n",
       "    </tr>\n",
       "    <tr>\n",
       "      <th>19</th>\n",
       "      <td>SuperMario</td>\n",
       "      <td>neg</td>\n",
       "      <td>211</td>\n",
       "    </tr>\n",
       "    <tr>\n",
       "      <th>20</th>\n",
       "      <td>thesims</td>\n",
       "      <td>pos</td>\n",
       "      <td>22091</td>\n",
       "    </tr>\n",
       "    <tr>\n",
       "      <th>21</th>\n",
       "      <td>thesims</td>\n",
       "      <td>neg</td>\n",
       "      <td>21063</td>\n",
       "    </tr>\n",
       "    <tr>\n",
       "      <th>22</th>\n",
       "      <td>SuperMario</td>\n",
       "      <td>pos</td>\n",
       "      <td>464</td>\n",
       "    </tr>\n",
       "    <tr>\n",
       "      <th>23</th>\n",
       "      <td>CallOfDuty</td>\n",
       "      <td>pos</td>\n",
       "      <td>78279</td>\n",
       "    </tr>\n",
       "    <tr>\n",
       "      <th>24</th>\n",
       "      <td>FIFA</td>\n",
       "      <td>pos</td>\n",
       "      <td>193598</td>\n",
       "    </tr>\n",
       "    <tr>\n",
       "      <th>25</th>\n",
       "      <td>Tetris</td>\n",
       "      <td>pos</td>\n",
       "      <td>2724</td>\n",
       "    </tr>\n",
       "    <tr>\n",
       "      <th>26</th>\n",
       "      <td>pokemon</td>\n",
       "      <td>neutral</td>\n",
       "      <td>703</td>\n",
       "    </tr>\n",
       "    <tr>\n",
       "      <th>27</th>\n",
       "      <td>FinalFantasy</td>\n",
       "      <td>neutral</td>\n",
       "      <td>122</td>\n",
       "    </tr>\n",
       "    <tr>\n",
       "      <th>28</th>\n",
       "      <td>assassinscreed</td>\n",
       "      <td>neutral</td>\n",
       "      <td>216</td>\n",
       "    </tr>\n",
       "    <tr>\n",
       "      <th>29</th>\n",
       "      <td>GTA</td>\n",
       "      <td>neutral</td>\n",
       "      <td>175</td>\n",
       "    </tr>\n",
       "  </tbody>\n",
       "</table>\n",
       "</div>"
      ],
      "text/plain": [
       "         subreddit sentiment   count\n",
       "0     legostarwars       neg   17744\n",
       "1     FinalFantasy       pos   19116\n",
       "2              GTA       pos   30882\n",
       "3   assassinscreed       neg   12518\n",
       "4           Tetris       neg    2106\n",
       "5          thesims   neutral     203\n",
       "6       SuperMario   neutral       3\n",
       "7       CallOfDuty       neg   19995\n",
       "8              GTA       neg   19230\n",
       "9          pokemon       neg   52706\n",
       "10         pokemon       pos  175635\n",
       "11  assassinscreed       pos   39669\n",
       "12    FinalFantasy       neg   10586\n",
       "13            FIFA       neg   54968\n",
       "14    legostarwars       pos   29636\n",
       "15    legostarwars   neutral     105\n",
       "16            FIFA   neutral     528\n",
       "17      CallOfDuty   neutral     109\n",
       "18          Tetris   neutral      23\n",
       "19      SuperMario       neg     211\n",
       "20         thesims       pos   22091\n",
       "21         thesims       neg   21063\n",
       "22      SuperMario       pos     464\n",
       "23      CallOfDuty       pos   78279\n",
       "24            FIFA       pos  193598\n",
       "25          Tetris       pos    2724\n",
       "26         pokemon   neutral     703\n",
       "27    FinalFantasy   neutral     122\n",
       "28  assassinscreed   neutral     216\n",
       "29             GTA   neutral     175"
      ]
     },
     "execution_count": 20,
     "metadata": {},
     "output_type": "execute_result"
    }
   ],
   "source": [
    "senti = pd.read_csv(\"sentiment_count_top10.csv\")\n",
    "senti"
   ]
  },
  {
   "cell_type": "code",
   "execution_count": 21,
   "metadata": {},
   "outputs": [
    {
     "data": {
      "text/html": [
       "<div>\n",
       "<style scoped>\n",
       "    .dataframe tbody tr th:only-of-type {\n",
       "        vertical-align: middle;\n",
       "    }\n",
       "\n",
       "    .dataframe tbody tr th {\n",
       "        vertical-align: top;\n",
       "    }\n",
       "\n",
       "    .dataframe thead th {\n",
       "        text-align: right;\n",
       "    }\n",
       "</style>\n",
       "<table border=\"1\" class=\"dataframe\">\n",
       "  <thead>\n",
       "    <tr style=\"text-align: right;\">\n",
       "      <th></th>\n",
       "      <th>Rank</th>\n",
       "      <th>Title</th>\n",
       "      <th>Publisher</th>\n",
       "      <th>Developer</th>\n",
       "      <th>Total Sales</th>\n",
       "      <th>Release Date</th>\n",
       "      <th>Last Update</th>\n",
       "      <th>Genre</th>\n",
       "    </tr>\n",
       "  </thead>\n",
       "  <tbody>\n",
       "    <tr>\n",
       "      <th>0</th>\n",
       "      <td>1</td>\n",
       "      <td>Tetris</td>\n",
       "      <td>The Tetris Company</td>\n",
       "      <td>Alexey Pajitnov</td>\n",
       "      <td>496400000.0</td>\n",
       "      <td>1/1/1988</td>\n",
       "      <td>2/27/2020</td>\n",
       "      <td>Puzzle</td>\n",
       "    </tr>\n",
       "    <tr>\n",
       "      <th>1</th>\n",
       "      <td>2</td>\n",
       "      <td>Pokemon</td>\n",
       "      <td>Nintendo</td>\n",
       "      <td>Game Freak</td>\n",
       "      <td>480660000.0</td>\n",
       "      <td>9/28/1998</td>\n",
       "      <td>2/3/2020</td>\n",
       "      <td>Role-Playing</td>\n",
       "    </tr>\n",
       "    <tr>\n",
       "      <th>2</th>\n",
       "      <td>3</td>\n",
       "      <td>Super Mario</td>\n",
       "      <td>Nintendo</td>\n",
       "      <td>Nintendo</td>\n",
       "      <td>401830000.0</td>\n",
       "      <td>7/20/1983</td>\n",
       "      <td>2/20/2020</td>\n",
       "      <td>Platform</td>\n",
       "    </tr>\n",
       "    <tr>\n",
       "      <th>3</th>\n",
       "      <td>4</td>\n",
       "      <td>Grand Theft Auto</td>\n",
       "      <td>Rockstar Games</td>\n",
       "      <td>Rockstar North</td>\n",
       "      <td>400000000.0</td>\n",
       "      <td>3/27/1998</td>\n",
       "      <td>2/3/2020</td>\n",
       "      <td>Action-Adventure</td>\n",
       "    </tr>\n",
       "    <tr>\n",
       "      <th>4</th>\n",
       "      <td>5</td>\n",
       "      <td>Call of Duty</td>\n",
       "      <td>Activision</td>\n",
       "      <td>Infinity Ward</td>\n",
       "      <td>400000000.0</td>\n",
       "      <td>10/29/2003</td>\n",
       "      <td>2/3/2020</td>\n",
       "      <td>Shooter</td>\n",
       "    </tr>\n",
       "    <tr>\n",
       "      <th>...</th>\n",
       "      <td>...</td>\n",
       "      <td>...</td>\n",
       "      <td>...</td>\n",
       "      <td>...</td>\n",
       "      <td>...</td>\n",
       "      <td>...</td>\n",
       "      <td>...</td>\n",
       "      <td>...</td>\n",
       "    </tr>\n",
       "    <tr>\n",
       "      <th>410</th>\n",
       "      <td>411</td>\n",
       "      <td>Yomawari</td>\n",
       "      <td>NIS America</td>\n",
       "      <td>Nippon Ichi Software</td>\n",
       "      <td>100000.0</td>\n",
       "      <td>10/25/2016</td>\n",
       "      <td>2/3/2021</td>\n",
       "      <td>Adventure</td>\n",
       "    </tr>\n",
       "    <tr>\n",
       "      <th>411</th>\n",
       "      <td>412</td>\n",
       "      <td>Savage Frontier</td>\n",
       "      <td>Strategic Simulations</td>\n",
       "      <td>Beyond Software</td>\n",
       "      <td>90000.0</td>\n",
       "      <td>1/1/1991</td>\n",
       "      <td>3/22/2021</td>\n",
       "      <td>Role-Playing</td>\n",
       "    </tr>\n",
       "    <tr>\n",
       "      <th>412</th>\n",
       "      <td>413</td>\n",
       "      <td>Gemstone</td>\n",
       "      <td>Strategic Simulations</td>\n",
       "      <td>Paradigm Creators</td>\n",
       "      <td>60000.0</td>\n",
       "      <td>1/1/1984</td>\n",
       "      <td>3/25/2021</td>\n",
       "      <td>Action-Adventure</td>\n",
       "    </tr>\n",
       "    <tr>\n",
       "      <th>413</th>\n",
       "      <td>414</td>\n",
       "      <td>Roadwar</td>\n",
       "      <td>Strategic Simulations</td>\n",
       "      <td>Strategic Simulations</td>\n",
       "      <td>60000.0</td>\n",
       "      <td>1/1/1986</td>\n",
       "      <td>3/25/2021</td>\n",
       "      <td>Strategy</td>\n",
       "    </tr>\n",
       "    <tr>\n",
       "      <th>414</th>\n",
       "      <td>415</td>\n",
       "      <td>Detective Pikachu</td>\n",
       "      <td>Nintendo</td>\n",
       "      <td>Creatures</td>\n",
       "      <td>NaN</td>\n",
       "      <td>3/23/2018</td>\n",
       "      <td>6/21/2023</td>\n",
       "      <td>Adventure</td>\n",
       "    </tr>\n",
       "  </tbody>\n",
       "</table>\n",
       "<p>415 rows × 8 columns</p>\n",
       "</div>"
      ],
      "text/plain": [
       "     Rank              Title              Publisher              Developer  \\\n",
       "0       1             Tetris     The Tetris Company        Alexey Pajitnov   \n",
       "1       2            Pokemon               Nintendo             Game Freak   \n",
       "2       3        Super Mario               Nintendo               Nintendo   \n",
       "3       4   Grand Theft Auto         Rockstar Games         Rockstar North   \n",
       "4       5       Call of Duty             Activision          Infinity Ward   \n",
       "..    ...                ...                    ...                    ...   \n",
       "410   411           Yomawari            NIS America   Nippon Ichi Software   \n",
       "411   412    Savage Frontier  Strategic Simulations        Beyond Software   \n",
       "412   413           Gemstone  Strategic Simulations      Paradigm Creators   \n",
       "413   414            Roadwar  Strategic Simulations  Strategic Simulations   \n",
       "414   415  Detective Pikachu               Nintendo              Creatures   \n",
       "\n",
       "     Total Sales Release Date Last Update             Genre  \n",
       "0    496400000.0     1/1/1988   2/27/2020            Puzzle  \n",
       "1    480660000.0    9/28/1998    2/3/2020      Role-Playing  \n",
       "2    401830000.0    7/20/1983   2/20/2020          Platform  \n",
       "3    400000000.0    3/27/1998    2/3/2020  Action-Adventure  \n",
       "4    400000000.0   10/29/2003    2/3/2020           Shooter  \n",
       "..           ...          ...         ...               ...  \n",
       "410     100000.0   10/25/2016    2/3/2021         Adventure  \n",
       "411      90000.0     1/1/1991   3/22/2021      Role-Playing  \n",
       "412      60000.0     1/1/1984   3/25/2021  Action-Adventure  \n",
       "413      60000.0     1/1/1986   3/25/2021          Strategy  \n",
       "414          NaN    3/23/2018   6/21/2023         Adventure  \n",
       "\n",
       "[415 rows x 8 columns]"
      ]
     },
     "execution_count": 21,
     "metadata": {},
     "output_type": "execute_result"
    }
   ],
   "source": [
    "sale = pd.read_csv(\"video game sales series.csv\")\n",
    "sale"
   ]
  },
  {
   "cell_type": "code",
   "execution_count": 22,
   "metadata": {},
   "outputs": [
    {
     "data": {
      "text/html": [
       "<div>\n",
       "<style scoped>\n",
       "    .dataframe tbody tr th:only-of-type {\n",
       "        vertical-align: middle;\n",
       "    }\n",
       "\n",
       "    .dataframe tbody tr th {\n",
       "        vertical-align: top;\n",
       "    }\n",
       "\n",
       "    .dataframe thead th {\n",
       "        text-align: right;\n",
       "    }\n",
       "</style>\n",
       "<table border=\"1\" class=\"dataframe\">\n",
       "  <thead>\n",
       "    <tr style=\"text-align: right;\">\n",
       "      <th></th>\n",
       "      <th>Rank</th>\n",
       "      <th>Title</th>\n",
       "      <th>Publisher</th>\n",
       "      <th>Developer</th>\n",
       "      <th>Total Sales</th>\n",
       "      <th>Release Date</th>\n",
       "      <th>Last Update</th>\n",
       "      <th>Genre</th>\n",
       "    </tr>\n",
       "  </thead>\n",
       "  <tbody>\n",
       "    <tr>\n",
       "      <th>0</th>\n",
       "      <td>1</td>\n",
       "      <td>Tetris</td>\n",
       "      <td>The Tetris Company</td>\n",
       "      <td>Alexey Pajitnov</td>\n",
       "      <td>496400000.0</td>\n",
       "      <td>1/1/1988</td>\n",
       "      <td>2/27/2020</td>\n",
       "      <td>Puzzle</td>\n",
       "    </tr>\n",
       "    <tr>\n",
       "      <th>1</th>\n",
       "      <td>2</td>\n",
       "      <td>Pokemon</td>\n",
       "      <td>Nintendo</td>\n",
       "      <td>Game Freak</td>\n",
       "      <td>480660000.0</td>\n",
       "      <td>9/28/1998</td>\n",
       "      <td>2/3/2020</td>\n",
       "      <td>Role-Playing</td>\n",
       "    </tr>\n",
       "    <tr>\n",
       "      <th>2</th>\n",
       "      <td>3</td>\n",
       "      <td>Super Mario</td>\n",
       "      <td>Nintendo</td>\n",
       "      <td>Nintendo</td>\n",
       "      <td>401830000.0</td>\n",
       "      <td>7/20/1983</td>\n",
       "      <td>2/20/2020</td>\n",
       "      <td>Platform</td>\n",
       "    </tr>\n",
       "    <tr>\n",
       "      <th>3</th>\n",
       "      <td>4</td>\n",
       "      <td>Grand Theft Auto</td>\n",
       "      <td>Rockstar Games</td>\n",
       "      <td>Rockstar North</td>\n",
       "      <td>400000000.0</td>\n",
       "      <td>3/27/1998</td>\n",
       "      <td>2/3/2020</td>\n",
       "      <td>Action-Adventure</td>\n",
       "    </tr>\n",
       "    <tr>\n",
       "      <th>4</th>\n",
       "      <td>5</td>\n",
       "      <td>Call of Duty</td>\n",
       "      <td>Activision</td>\n",
       "      <td>Infinity Ward</td>\n",
       "      <td>400000000.0</td>\n",
       "      <td>10/29/2003</td>\n",
       "      <td>2/3/2020</td>\n",
       "      <td>Shooter</td>\n",
       "    </tr>\n",
       "    <tr>\n",
       "      <th>5</th>\n",
       "      <td>6</td>\n",
       "      <td>FIFA</td>\n",
       "      <td>EA Sports</td>\n",
       "      <td>Extended Play Productions (1991-1997)</td>\n",
       "      <td>325000000.0</td>\n",
       "      <td>12/15/1993</td>\n",
       "      <td>2/3/2020</td>\n",
       "      <td>Sports</td>\n",
       "    </tr>\n",
       "    <tr>\n",
       "      <th>6</th>\n",
       "      <td>7</td>\n",
       "      <td>Lego</td>\n",
       "      <td>Warner Bros. Interactive Entertainment</td>\n",
       "      <td>TT Fusion</td>\n",
       "      <td>203220000.0</td>\n",
       "      <td>9/26/1997</td>\n",
       "      <td>3/1/2020</td>\n",
       "      <td>Action-Adventure</td>\n",
       "    </tr>\n",
       "    <tr>\n",
       "      <th>7</th>\n",
       "      <td>8</td>\n",
       "      <td>Assassin's Creed</td>\n",
       "      <td>Ubisoft</td>\n",
       "      <td>Ubisoft</td>\n",
       "      <td>200000000.0</td>\n",
       "      <td>11/13/2007</td>\n",
       "      <td>2/11/2020</td>\n",
       "      <td>Action-Adventure</td>\n",
       "    </tr>\n",
       "    <tr>\n",
       "      <th>8</th>\n",
       "      <td>9</td>\n",
       "      <td>The Sims</td>\n",
       "      <td>Electronic Arts</td>\n",
       "      <td>Maxis</td>\n",
       "      <td>200000000.0</td>\n",
       "      <td>2/4/2000</td>\n",
       "      <td>2/18/2020</td>\n",
       "      <td>Simulation</td>\n",
       "    </tr>\n",
       "    <tr>\n",
       "      <th>9</th>\n",
       "      <td>10</td>\n",
       "      <td>Final Fantasy</td>\n",
       "      <td>Square</td>\n",
       "      <td>Square</td>\n",
       "      <td>180000000.0</td>\n",
       "      <td>12/18/1987</td>\n",
       "      <td>2/28/2020</td>\n",
       "      <td>Role-Playing</td>\n",
       "    </tr>\n",
       "  </tbody>\n",
       "</table>\n",
       "</div>"
      ],
      "text/plain": [
       "   Rank             Title                               Publisher  \\\n",
       "0     1            Tetris                      The Tetris Company   \n",
       "1     2           Pokemon                                Nintendo   \n",
       "2     3       Super Mario                                Nintendo   \n",
       "3     4  Grand Theft Auto                          Rockstar Games   \n",
       "4     5      Call of Duty                              Activision   \n",
       "5     6              FIFA                               EA Sports   \n",
       "6     7              Lego  Warner Bros. Interactive Entertainment   \n",
       "7     8  Assassin's Creed                                 Ubisoft   \n",
       "8     9          The Sims                         Electronic Arts   \n",
       "9    10     Final Fantasy                                  Square   \n",
       "\n",
       "                               Developer  Total Sales Release Date  \\\n",
       "0                        Alexey Pajitnov  496400000.0     1/1/1988   \n",
       "1                             Game Freak  480660000.0    9/28/1998   \n",
       "2                               Nintendo  401830000.0    7/20/1983   \n",
       "3                         Rockstar North  400000000.0    3/27/1998   \n",
       "4                          Infinity Ward  400000000.0   10/29/2003   \n",
       "5  Extended Play Productions (1991-1997)  325000000.0   12/15/1993   \n",
       "6                              TT Fusion  203220000.0    9/26/1997   \n",
       "7                                Ubisoft  200000000.0   11/13/2007   \n",
       "8                                  Maxis  200000000.0     2/4/2000   \n",
       "9                                 Square  180000000.0   12/18/1987   \n",
       "\n",
       "  Last Update             Genre  \n",
       "0   2/27/2020            Puzzle  \n",
       "1    2/3/2020      Role-Playing  \n",
       "2   2/20/2020          Platform  \n",
       "3    2/3/2020  Action-Adventure  \n",
       "4    2/3/2020           Shooter  \n",
       "5    2/3/2020            Sports  \n",
       "6    3/1/2020  Action-Adventure  \n",
       "7   2/11/2020  Action-Adventure  \n",
       "8   2/18/2020        Simulation  \n",
       "9   2/28/2020      Role-Playing  "
      ]
     },
     "execution_count": 22,
     "metadata": {},
     "output_type": "execute_result"
    }
   ],
   "source": [
    "sale = sale.head(10)\n",
    "sale"
   ]
  },
  {
   "cell_type": "code",
   "execution_count": 23,
   "metadata": {},
   "outputs": [
    {
     "data": {
      "text/html": [
       "<div>\n",
       "<style scoped>\n",
       "    .dataframe tbody tr th:only-of-type {\n",
       "        vertical-align: middle;\n",
       "    }\n",
       "\n",
       "    .dataframe tbody tr th {\n",
       "        vertical-align: top;\n",
       "    }\n",
       "\n",
       "    .dataframe thead th {\n",
       "        text-align: right;\n",
       "    }\n",
       "</style>\n",
       "<table border=\"1\" class=\"dataframe\">\n",
       "  <thead>\n",
       "    <tr style=\"text-align: right;\">\n",
       "      <th></th>\n",
       "      <th>Title</th>\n",
       "      <th>Total Sales</th>\n",
       "    </tr>\n",
       "  </thead>\n",
       "  <tbody>\n",
       "    <tr>\n",
       "      <th>0</th>\n",
       "      <td>Tetris</td>\n",
       "      <td>496400000.0</td>\n",
       "    </tr>\n",
       "    <tr>\n",
       "      <th>1</th>\n",
       "      <td>Pokemon</td>\n",
       "      <td>480660000.0</td>\n",
       "    </tr>\n",
       "    <tr>\n",
       "      <th>2</th>\n",
       "      <td>Super Mario</td>\n",
       "      <td>401830000.0</td>\n",
       "    </tr>\n",
       "    <tr>\n",
       "      <th>3</th>\n",
       "      <td>Grand Theft Auto</td>\n",
       "      <td>400000000.0</td>\n",
       "    </tr>\n",
       "    <tr>\n",
       "      <th>4</th>\n",
       "      <td>Call of Duty</td>\n",
       "      <td>400000000.0</td>\n",
       "    </tr>\n",
       "    <tr>\n",
       "      <th>5</th>\n",
       "      <td>FIFA</td>\n",
       "      <td>325000000.0</td>\n",
       "    </tr>\n",
       "    <tr>\n",
       "      <th>6</th>\n",
       "      <td>Lego</td>\n",
       "      <td>203220000.0</td>\n",
       "    </tr>\n",
       "    <tr>\n",
       "      <th>7</th>\n",
       "      <td>Assassin's Creed</td>\n",
       "      <td>200000000.0</td>\n",
       "    </tr>\n",
       "    <tr>\n",
       "      <th>8</th>\n",
       "      <td>The Sims</td>\n",
       "      <td>200000000.0</td>\n",
       "    </tr>\n",
       "    <tr>\n",
       "      <th>9</th>\n",
       "      <td>Final Fantasy</td>\n",
       "      <td>180000000.0</td>\n",
       "    </tr>\n",
       "  </tbody>\n",
       "</table>\n",
       "</div>"
      ],
      "text/plain": [
       "              Title  Total Sales\n",
       "0            Tetris  496400000.0\n",
       "1           Pokemon  480660000.0\n",
       "2       Super Mario  401830000.0\n",
       "3  Grand Theft Auto  400000000.0\n",
       "4      Call of Duty  400000000.0\n",
       "5              FIFA  325000000.0\n",
       "6              Lego  203220000.0\n",
       "7  Assassin's Creed  200000000.0\n",
       "8          The Sims  200000000.0\n",
       "9     Final Fantasy  180000000.0"
      ]
     },
     "execution_count": 23,
     "metadata": {},
     "output_type": "execute_result"
    }
   ],
   "source": [
    "sale = sale[[\"Title\",\"Total Sales\"]]\n",
    "sale"
   ]
  },
  {
   "cell_type": "code",
   "execution_count": 24,
   "metadata": {},
   "outputs": [
    {
     "name": "stderr",
     "output_type": "stream",
     "text": [
      "/var/folders/hv/08dyyt957zq3n_n6kttfl_180000gn/T/ipykernel_96702/1711653447.py:1: SettingWithCopyWarning: \n",
      "A value is trying to be set on a copy of a slice from a DataFrame.\n",
      "Try using .loc[row_indexer,col_indexer] = value instead\n",
      "\n",
      "See the caveats in the documentation: https://pandas.pydata.org/pandas-docs/stable/user_guide/indexing.html#returning-a-view-versus-a-copy\n",
      "  sale['Title'] = [\"Tetris\", \"pokemon\", \"SuperMario\", \"GTA\", \"CallOfDuty\", \"FIFA\", \"legostarwars\", \"assassinscreed\", \"thesims\",\"FinalFantasy\"]\n"
     ]
    }
   ],
   "source": [
    "sale['Title'] = [\"Tetris\", \"pokemon\", \"SuperMario\", \"GTA\", \"CallOfDuty\", \"FIFA\", \"legostarwars\", \"assassinscreed\", \"thesims\",\"FinalFantasy\"]"
   ]
  },
  {
   "cell_type": "code",
   "execution_count": 8,
   "metadata": {},
   "outputs": [
    {
     "data": {
      "text/html": [
       "<div>\n",
       "<style scoped>\n",
       "    .dataframe tbody tr th:only-of-type {\n",
       "        vertical-align: middle;\n",
       "    }\n",
       "\n",
       "    .dataframe tbody tr th {\n",
       "        vertical-align: top;\n",
       "    }\n",
       "\n",
       "    .dataframe thead th {\n",
       "        text-align: right;\n",
       "    }\n",
       "</style>\n",
       "<table border=\"1\" class=\"dataframe\">\n",
       "  <thead>\n",
       "    <tr style=\"text-align: right;\">\n",
       "      <th></th>\n",
       "      <th>Title</th>\n",
       "      <th>Total Sales</th>\n",
       "    </tr>\n",
       "  </thead>\n",
       "  <tbody>\n",
       "    <tr>\n",
       "      <th>0</th>\n",
       "      <td>Tetris</td>\n",
       "      <td>496400000.0</td>\n",
       "    </tr>\n",
       "    <tr>\n",
       "      <th>1</th>\n",
       "      <td>pokemon</td>\n",
       "      <td>480660000.0</td>\n",
       "    </tr>\n",
       "    <tr>\n",
       "      <th>2</th>\n",
       "      <td>SuperMario</td>\n",
       "      <td>401830000.0</td>\n",
       "    </tr>\n",
       "    <tr>\n",
       "      <th>3</th>\n",
       "      <td>GTA</td>\n",
       "      <td>400000000.0</td>\n",
       "    </tr>\n",
       "    <tr>\n",
       "      <th>4</th>\n",
       "      <td>CallOfDuty</td>\n",
       "      <td>400000000.0</td>\n",
       "    </tr>\n",
       "    <tr>\n",
       "      <th>5</th>\n",
       "      <td>FIFA</td>\n",
       "      <td>325000000.0</td>\n",
       "    </tr>\n",
       "    <tr>\n",
       "      <th>6</th>\n",
       "      <td>legostarwars</td>\n",
       "      <td>203220000.0</td>\n",
       "    </tr>\n",
       "    <tr>\n",
       "      <th>7</th>\n",
       "      <td>assassinscreed</td>\n",
       "      <td>200000000.0</td>\n",
       "    </tr>\n",
       "    <tr>\n",
       "      <th>8</th>\n",
       "      <td>thesims</td>\n",
       "      <td>200000000.0</td>\n",
       "    </tr>\n",
       "    <tr>\n",
       "      <th>9</th>\n",
       "      <td>FinalFantasy</td>\n",
       "      <td>180000000.0</td>\n",
       "    </tr>\n",
       "  </tbody>\n",
       "</table>\n",
       "</div>"
      ],
      "text/plain": [
       "            Title  Total Sales\n",
       "0          Tetris  496400000.0\n",
       "1         pokemon  480660000.0\n",
       "2      SuperMario  401830000.0\n",
       "3             GTA  400000000.0\n",
       "4      CallOfDuty  400000000.0\n",
       "5            FIFA  325000000.0\n",
       "6    legostarwars  203220000.0\n",
       "7  assassinscreed  200000000.0\n",
       "8         thesims  200000000.0\n",
       "9    FinalFantasy  180000000.0"
      ]
     },
     "execution_count": 8,
     "metadata": {},
     "output_type": "execute_result"
    }
   ],
   "source": [
    "sale"
   ]
  },
  {
   "cell_type": "code",
   "execution_count": 25,
   "metadata": {},
   "outputs": [],
   "source": [
    "sale= sale.rename(columns={'Title': 'subreddit'})"
   ]
  },
  {
   "cell_type": "code",
   "execution_count": 26,
   "metadata": {},
   "outputs": [
    {
     "data": {
      "text/html": [
       "<div>\n",
       "<style scoped>\n",
       "    .dataframe tbody tr th:only-of-type {\n",
       "        vertical-align: middle;\n",
       "    }\n",
       "\n",
       "    .dataframe tbody tr th {\n",
       "        vertical-align: top;\n",
       "    }\n",
       "\n",
       "    .dataframe thead th {\n",
       "        text-align: right;\n",
       "    }\n",
       "</style>\n",
       "<table border=\"1\" class=\"dataframe\">\n",
       "  <thead>\n",
       "    <tr style=\"text-align: right;\">\n",
       "      <th></th>\n",
       "      <th>subreddit</th>\n",
       "      <th>sentiment</th>\n",
       "      <th>count</th>\n",
       "      <th>Total Sales</th>\n",
       "    </tr>\n",
       "  </thead>\n",
       "  <tbody>\n",
       "    <tr>\n",
       "      <th>0</th>\n",
       "      <td>legostarwars</td>\n",
       "      <td>neg</td>\n",
       "      <td>17744</td>\n",
       "      <td>203220000.0</td>\n",
       "    </tr>\n",
       "    <tr>\n",
       "      <th>1</th>\n",
       "      <td>legostarwars</td>\n",
       "      <td>pos</td>\n",
       "      <td>29636</td>\n",
       "      <td>203220000.0</td>\n",
       "    </tr>\n",
       "    <tr>\n",
       "      <th>2</th>\n",
       "      <td>legostarwars</td>\n",
       "      <td>neutral</td>\n",
       "      <td>105</td>\n",
       "      <td>203220000.0</td>\n",
       "    </tr>\n",
       "    <tr>\n",
       "      <th>3</th>\n",
       "      <td>FinalFantasy</td>\n",
       "      <td>pos</td>\n",
       "      <td>19116</td>\n",
       "      <td>180000000.0</td>\n",
       "    </tr>\n",
       "    <tr>\n",
       "      <th>4</th>\n",
       "      <td>FinalFantasy</td>\n",
       "      <td>neg</td>\n",
       "      <td>10586</td>\n",
       "      <td>180000000.0</td>\n",
       "    </tr>\n",
       "    <tr>\n",
       "      <th>5</th>\n",
       "      <td>FinalFantasy</td>\n",
       "      <td>neutral</td>\n",
       "      <td>122</td>\n",
       "      <td>180000000.0</td>\n",
       "    </tr>\n",
       "    <tr>\n",
       "      <th>6</th>\n",
       "      <td>GTA</td>\n",
       "      <td>pos</td>\n",
       "      <td>30882</td>\n",
       "      <td>400000000.0</td>\n",
       "    </tr>\n",
       "    <tr>\n",
       "      <th>7</th>\n",
       "      <td>GTA</td>\n",
       "      <td>neg</td>\n",
       "      <td>19230</td>\n",
       "      <td>400000000.0</td>\n",
       "    </tr>\n",
       "    <tr>\n",
       "      <th>8</th>\n",
       "      <td>GTA</td>\n",
       "      <td>neutral</td>\n",
       "      <td>175</td>\n",
       "      <td>400000000.0</td>\n",
       "    </tr>\n",
       "    <tr>\n",
       "      <th>9</th>\n",
       "      <td>assassinscreed</td>\n",
       "      <td>neg</td>\n",
       "      <td>12518</td>\n",
       "      <td>200000000.0</td>\n",
       "    </tr>\n",
       "    <tr>\n",
       "      <th>10</th>\n",
       "      <td>assassinscreed</td>\n",
       "      <td>pos</td>\n",
       "      <td>39669</td>\n",
       "      <td>200000000.0</td>\n",
       "    </tr>\n",
       "    <tr>\n",
       "      <th>11</th>\n",
       "      <td>assassinscreed</td>\n",
       "      <td>neutral</td>\n",
       "      <td>216</td>\n",
       "      <td>200000000.0</td>\n",
       "    </tr>\n",
       "    <tr>\n",
       "      <th>12</th>\n",
       "      <td>Tetris</td>\n",
       "      <td>neg</td>\n",
       "      <td>2106</td>\n",
       "      <td>496400000.0</td>\n",
       "    </tr>\n",
       "    <tr>\n",
       "      <th>13</th>\n",
       "      <td>Tetris</td>\n",
       "      <td>neutral</td>\n",
       "      <td>23</td>\n",
       "      <td>496400000.0</td>\n",
       "    </tr>\n",
       "    <tr>\n",
       "      <th>14</th>\n",
       "      <td>Tetris</td>\n",
       "      <td>pos</td>\n",
       "      <td>2724</td>\n",
       "      <td>496400000.0</td>\n",
       "    </tr>\n",
       "    <tr>\n",
       "      <th>15</th>\n",
       "      <td>thesims</td>\n",
       "      <td>neutral</td>\n",
       "      <td>203</td>\n",
       "      <td>200000000.0</td>\n",
       "    </tr>\n",
       "    <tr>\n",
       "      <th>16</th>\n",
       "      <td>thesims</td>\n",
       "      <td>pos</td>\n",
       "      <td>22091</td>\n",
       "      <td>200000000.0</td>\n",
       "    </tr>\n",
       "    <tr>\n",
       "      <th>17</th>\n",
       "      <td>thesims</td>\n",
       "      <td>neg</td>\n",
       "      <td>21063</td>\n",
       "      <td>200000000.0</td>\n",
       "    </tr>\n",
       "    <tr>\n",
       "      <th>18</th>\n",
       "      <td>SuperMario</td>\n",
       "      <td>neutral</td>\n",
       "      <td>3</td>\n",
       "      <td>401830000.0</td>\n",
       "    </tr>\n",
       "    <tr>\n",
       "      <th>19</th>\n",
       "      <td>SuperMario</td>\n",
       "      <td>neg</td>\n",
       "      <td>211</td>\n",
       "      <td>401830000.0</td>\n",
       "    </tr>\n",
       "    <tr>\n",
       "      <th>20</th>\n",
       "      <td>SuperMario</td>\n",
       "      <td>pos</td>\n",
       "      <td>464</td>\n",
       "      <td>401830000.0</td>\n",
       "    </tr>\n",
       "    <tr>\n",
       "      <th>21</th>\n",
       "      <td>CallOfDuty</td>\n",
       "      <td>neg</td>\n",
       "      <td>19995</td>\n",
       "      <td>400000000.0</td>\n",
       "    </tr>\n",
       "    <tr>\n",
       "      <th>22</th>\n",
       "      <td>CallOfDuty</td>\n",
       "      <td>neutral</td>\n",
       "      <td>109</td>\n",
       "      <td>400000000.0</td>\n",
       "    </tr>\n",
       "    <tr>\n",
       "      <th>23</th>\n",
       "      <td>CallOfDuty</td>\n",
       "      <td>pos</td>\n",
       "      <td>78279</td>\n",
       "      <td>400000000.0</td>\n",
       "    </tr>\n",
       "    <tr>\n",
       "      <th>24</th>\n",
       "      <td>pokemon</td>\n",
       "      <td>neg</td>\n",
       "      <td>52706</td>\n",
       "      <td>480660000.0</td>\n",
       "    </tr>\n",
       "    <tr>\n",
       "      <th>25</th>\n",
       "      <td>pokemon</td>\n",
       "      <td>pos</td>\n",
       "      <td>175635</td>\n",
       "      <td>480660000.0</td>\n",
       "    </tr>\n",
       "    <tr>\n",
       "      <th>26</th>\n",
       "      <td>pokemon</td>\n",
       "      <td>neutral</td>\n",
       "      <td>703</td>\n",
       "      <td>480660000.0</td>\n",
       "    </tr>\n",
       "    <tr>\n",
       "      <th>27</th>\n",
       "      <td>FIFA</td>\n",
       "      <td>neg</td>\n",
       "      <td>54968</td>\n",
       "      <td>325000000.0</td>\n",
       "    </tr>\n",
       "    <tr>\n",
       "      <th>28</th>\n",
       "      <td>FIFA</td>\n",
       "      <td>neutral</td>\n",
       "      <td>528</td>\n",
       "      <td>325000000.0</td>\n",
       "    </tr>\n",
       "    <tr>\n",
       "      <th>29</th>\n",
       "      <td>FIFA</td>\n",
       "      <td>pos</td>\n",
       "      <td>193598</td>\n",
       "      <td>325000000.0</td>\n",
       "    </tr>\n",
       "  </tbody>\n",
       "</table>\n",
       "</div>"
      ],
      "text/plain": [
       "         subreddit sentiment   count  Total Sales\n",
       "0     legostarwars       neg   17744  203220000.0\n",
       "1     legostarwars       pos   29636  203220000.0\n",
       "2     legostarwars   neutral     105  203220000.0\n",
       "3     FinalFantasy       pos   19116  180000000.0\n",
       "4     FinalFantasy       neg   10586  180000000.0\n",
       "5     FinalFantasy   neutral     122  180000000.0\n",
       "6              GTA       pos   30882  400000000.0\n",
       "7              GTA       neg   19230  400000000.0\n",
       "8              GTA   neutral     175  400000000.0\n",
       "9   assassinscreed       neg   12518  200000000.0\n",
       "10  assassinscreed       pos   39669  200000000.0\n",
       "11  assassinscreed   neutral     216  200000000.0\n",
       "12          Tetris       neg    2106  496400000.0\n",
       "13          Tetris   neutral      23  496400000.0\n",
       "14          Tetris       pos    2724  496400000.0\n",
       "15         thesims   neutral     203  200000000.0\n",
       "16         thesims       pos   22091  200000000.0\n",
       "17         thesims       neg   21063  200000000.0\n",
       "18      SuperMario   neutral       3  401830000.0\n",
       "19      SuperMario       neg     211  401830000.0\n",
       "20      SuperMario       pos     464  401830000.0\n",
       "21      CallOfDuty       neg   19995  400000000.0\n",
       "22      CallOfDuty   neutral     109  400000000.0\n",
       "23      CallOfDuty       pos   78279  400000000.0\n",
       "24         pokemon       neg   52706  480660000.0\n",
       "25         pokemon       pos  175635  480660000.0\n",
       "26         pokemon   neutral     703  480660000.0\n",
       "27            FIFA       neg   54968  325000000.0\n",
       "28            FIFA   neutral     528  325000000.0\n",
       "29            FIFA       pos  193598  325000000.0"
      ]
     },
     "execution_count": 26,
     "metadata": {},
     "output_type": "execute_result"
    }
   ],
   "source": [
    "df = pd.merge(senti, sale, on='subreddit', how='inner')\n",
    "df"
   ]
  },
  {
   "cell_type": "code",
   "execution_count": 39,
   "metadata": {},
   "outputs": [
    {
     "data": {
      "text/html": [
       "<div>\n",
       "<style scoped>\n",
       "    .dataframe tbody tr th:only-of-type {\n",
       "        vertical-align: middle;\n",
       "    }\n",
       "\n",
       "    .dataframe tbody tr th {\n",
       "        vertical-align: top;\n",
       "    }\n",
       "\n",
       "    .dataframe thead th {\n",
       "        text-align: right;\n",
       "    }\n",
       "</style>\n",
       "<table border=\"1\" class=\"dataframe\">\n",
       "  <thead>\n",
       "    <tr style=\"text-align: right;\">\n",
       "      <th></th>\n",
       "      <th>subreddit</th>\n",
       "      <th>sentiment</th>\n",
       "      <th>count</th>\n",
       "      <th>Total Sales</th>\n",
       "    </tr>\n",
       "  </thead>\n",
       "  <tbody>\n",
       "    <tr>\n",
       "      <th>29</th>\n",
       "      <td>FIFA</td>\n",
       "      <td>pos</td>\n",
       "      <td>193598</td>\n",
       "      <td>325000000.0</td>\n",
       "    </tr>\n",
       "    <tr>\n",
       "      <th>28</th>\n",
       "      <td>FIFA</td>\n",
       "      <td>neutral</td>\n",
       "      <td>528</td>\n",
       "      <td>325000000.0</td>\n",
       "    </tr>\n",
       "    <tr>\n",
       "      <th>27</th>\n",
       "      <td>FIFA</td>\n",
       "      <td>neg</td>\n",
       "      <td>54968</td>\n",
       "      <td>325000000.0</td>\n",
       "    </tr>\n",
       "    <tr>\n",
       "      <th>25</th>\n",
       "      <td>pokemon</td>\n",
       "      <td>pos</td>\n",
       "      <td>175635</td>\n",
       "      <td>480660000.0</td>\n",
       "    </tr>\n",
       "    <tr>\n",
       "      <th>26</th>\n",
       "      <td>pokemon</td>\n",
       "      <td>neutral</td>\n",
       "      <td>703</td>\n",
       "      <td>480660000.0</td>\n",
       "    </tr>\n",
       "    <tr>\n",
       "      <th>24</th>\n",
       "      <td>pokemon</td>\n",
       "      <td>neg</td>\n",
       "      <td>52706</td>\n",
       "      <td>480660000.0</td>\n",
       "    </tr>\n",
       "    <tr>\n",
       "      <th>23</th>\n",
       "      <td>CallOfDuty</td>\n",
       "      <td>pos</td>\n",
       "      <td>78279</td>\n",
       "      <td>400000000.0</td>\n",
       "    </tr>\n",
       "    <tr>\n",
       "      <th>22</th>\n",
       "      <td>CallOfDuty</td>\n",
       "      <td>neutral</td>\n",
       "      <td>109</td>\n",
       "      <td>400000000.0</td>\n",
       "    </tr>\n",
       "    <tr>\n",
       "      <th>21</th>\n",
       "      <td>CallOfDuty</td>\n",
       "      <td>neg</td>\n",
       "      <td>19995</td>\n",
       "      <td>400000000.0</td>\n",
       "    </tr>\n",
       "    <tr>\n",
       "      <th>10</th>\n",
       "      <td>assassinscreed</td>\n",
       "      <td>pos</td>\n",
       "      <td>39669</td>\n",
       "      <td>200000000.0</td>\n",
       "    </tr>\n",
       "    <tr>\n",
       "      <th>11</th>\n",
       "      <td>assassinscreed</td>\n",
       "      <td>neutral</td>\n",
       "      <td>216</td>\n",
       "      <td>200000000.0</td>\n",
       "    </tr>\n",
       "    <tr>\n",
       "      <th>9</th>\n",
       "      <td>assassinscreed</td>\n",
       "      <td>neg</td>\n",
       "      <td>12518</td>\n",
       "      <td>200000000.0</td>\n",
       "    </tr>\n",
       "    <tr>\n",
       "      <th>6</th>\n",
       "      <td>GTA</td>\n",
       "      <td>pos</td>\n",
       "      <td>30882</td>\n",
       "      <td>400000000.0</td>\n",
       "    </tr>\n",
       "    <tr>\n",
       "      <th>8</th>\n",
       "      <td>GTA</td>\n",
       "      <td>neutral</td>\n",
       "      <td>175</td>\n",
       "      <td>400000000.0</td>\n",
       "    </tr>\n",
       "    <tr>\n",
       "      <th>7</th>\n",
       "      <td>GTA</td>\n",
       "      <td>neg</td>\n",
       "      <td>19230</td>\n",
       "      <td>400000000.0</td>\n",
       "    </tr>\n",
       "    <tr>\n",
       "      <th>1</th>\n",
       "      <td>legostarwars</td>\n",
       "      <td>pos</td>\n",
       "      <td>29636</td>\n",
       "      <td>203220000.0</td>\n",
       "    </tr>\n",
       "    <tr>\n",
       "      <th>2</th>\n",
       "      <td>legostarwars</td>\n",
       "      <td>neutral</td>\n",
       "      <td>105</td>\n",
       "      <td>203220000.0</td>\n",
       "    </tr>\n",
       "    <tr>\n",
       "      <th>0</th>\n",
       "      <td>legostarwars</td>\n",
       "      <td>neg</td>\n",
       "      <td>17744</td>\n",
       "      <td>203220000.0</td>\n",
       "    </tr>\n",
       "    <tr>\n",
       "      <th>16</th>\n",
       "      <td>thesims</td>\n",
       "      <td>pos</td>\n",
       "      <td>22091</td>\n",
       "      <td>200000000.0</td>\n",
       "    </tr>\n",
       "    <tr>\n",
       "      <th>15</th>\n",
       "      <td>thesims</td>\n",
       "      <td>neutral</td>\n",
       "      <td>203</td>\n",
       "      <td>200000000.0</td>\n",
       "    </tr>\n",
       "    <tr>\n",
       "      <th>17</th>\n",
       "      <td>thesims</td>\n",
       "      <td>neg</td>\n",
       "      <td>21063</td>\n",
       "      <td>200000000.0</td>\n",
       "    </tr>\n",
       "    <tr>\n",
       "      <th>3</th>\n",
       "      <td>FinalFantasy</td>\n",
       "      <td>pos</td>\n",
       "      <td>19116</td>\n",
       "      <td>180000000.0</td>\n",
       "    </tr>\n",
       "    <tr>\n",
       "      <th>5</th>\n",
       "      <td>FinalFantasy</td>\n",
       "      <td>neutral</td>\n",
       "      <td>122</td>\n",
       "      <td>180000000.0</td>\n",
       "    </tr>\n",
       "    <tr>\n",
       "      <th>4</th>\n",
       "      <td>FinalFantasy</td>\n",
       "      <td>neg</td>\n",
       "      <td>10586</td>\n",
       "      <td>180000000.0</td>\n",
       "    </tr>\n",
       "    <tr>\n",
       "      <th>14</th>\n",
       "      <td>Tetris</td>\n",
       "      <td>pos</td>\n",
       "      <td>2724</td>\n",
       "      <td>496400000.0</td>\n",
       "    </tr>\n",
       "    <tr>\n",
       "      <th>13</th>\n",
       "      <td>Tetris</td>\n",
       "      <td>neutral</td>\n",
       "      <td>23</td>\n",
       "      <td>496400000.0</td>\n",
       "    </tr>\n",
       "    <tr>\n",
       "      <th>12</th>\n",
       "      <td>Tetris</td>\n",
       "      <td>neg</td>\n",
       "      <td>2106</td>\n",
       "      <td>496400000.0</td>\n",
       "    </tr>\n",
       "    <tr>\n",
       "      <th>20</th>\n",
       "      <td>SuperMario</td>\n",
       "      <td>pos</td>\n",
       "      <td>464</td>\n",
       "      <td>401830000.0</td>\n",
       "    </tr>\n",
       "    <tr>\n",
       "      <th>18</th>\n",
       "      <td>SuperMario</td>\n",
       "      <td>neutral</td>\n",
       "      <td>3</td>\n",
       "      <td>401830000.0</td>\n",
       "    </tr>\n",
       "    <tr>\n",
       "      <th>19</th>\n",
       "      <td>SuperMario</td>\n",
       "      <td>neg</td>\n",
       "      <td>211</td>\n",
       "      <td>401830000.0</td>\n",
       "    </tr>\n",
       "  </tbody>\n",
       "</table>\n",
       "</div>"
      ],
      "text/plain": [
       "         subreddit sentiment   count  Total Sales\n",
       "29            FIFA       pos  193598  325000000.0\n",
       "28            FIFA   neutral     528  325000000.0\n",
       "27            FIFA       neg   54968  325000000.0\n",
       "25         pokemon       pos  175635  480660000.0\n",
       "26         pokemon   neutral     703  480660000.0\n",
       "24         pokemon       neg   52706  480660000.0\n",
       "23      CallOfDuty       pos   78279  400000000.0\n",
       "22      CallOfDuty   neutral     109  400000000.0\n",
       "21      CallOfDuty       neg   19995  400000000.0\n",
       "10  assassinscreed       pos   39669  200000000.0\n",
       "11  assassinscreed   neutral     216  200000000.0\n",
       "9   assassinscreed       neg   12518  200000000.0\n",
       "6              GTA       pos   30882  400000000.0\n",
       "8              GTA   neutral     175  400000000.0\n",
       "7              GTA       neg   19230  400000000.0\n",
       "1     legostarwars       pos   29636  203220000.0\n",
       "2     legostarwars   neutral     105  203220000.0\n",
       "0     legostarwars       neg   17744  203220000.0\n",
       "16         thesims       pos   22091  200000000.0\n",
       "15         thesims   neutral     203  200000000.0\n",
       "17         thesims       neg   21063  200000000.0\n",
       "3     FinalFantasy       pos   19116  180000000.0\n",
       "5     FinalFantasy   neutral     122  180000000.0\n",
       "4     FinalFantasy       neg   10586  180000000.0\n",
       "14          Tetris       pos    2724  496400000.0\n",
       "13          Tetris   neutral      23  496400000.0\n",
       "12          Tetris       neg    2106  496400000.0\n",
       "20      SuperMario       pos     464  401830000.0\n",
       "18      SuperMario   neutral       3  401830000.0\n",
       "19      SuperMario       neg     211  401830000.0"
      ]
     },
     "execution_count": 39,
     "metadata": {},
     "output_type": "execute_result"
    }
   ],
   "source": [
    "df4 = df.loc[[29,28,27,25,26,24,23,22,21,10,11,9,6,8,7,1,2,0,16,15,17,3,5,4,14,13,12,20,18,19], :]\n",
    "df4"
   ]
  },
  {
   "cell_type": "code",
   "execution_count": 61,
   "metadata": {},
   "outputs": [],
   "source": [
    "df4.to_csv(\"sentiment_topsales.csv\", index = False)"
   ]
  },
  {
   "cell_type": "code",
   "execution_count": 11,
   "metadata": {},
   "outputs": [],
   "source": [
    "import seaborn as sns\n",
    "import matplotlib.pyplot as plt"
   ]
  },
  {
   "cell_type": "code",
   "execution_count": 28,
   "metadata": {},
   "outputs": [],
   "source": [
    "import plotly.express as px"
   ]
  },
  {
   "cell_type": "code",
   "execution_count": 60,
   "metadata": {},
   "outputs": [
    {
     "data": {
      "application/vnd.plotly.v1+json": {
       "config": {
        "plotlyServerURL": "https://plot.ly"
       },
       "data": [
        {
         "alignmentgroup": "True",
         "hovertemplate": "sentiment=pos<br>subreddit=%{x}<br>count=%{y}<extra></extra>",
         "legendgroup": "pos",
         "marker": {
          "color": "#dd1c77",
          "pattern": {
           "shape": ""
          }
         },
         "name": "pos",
         "offsetgroup": "pos",
         "orientation": "v",
         "showlegend": true,
         "textposition": "auto",
         "type": "bar",
         "x": [
          "FIFA",
          "pokemon",
          "CallOfDuty",
          "assassinscreed",
          "GTA",
          "legostarwars",
          "thesims",
          "FinalFantasy",
          "Tetris",
          "SuperMario"
         ],
         "xaxis": "x",
         "y": [
          193598,
          175635,
          78279,
          39669,
          30882,
          29636,
          22091,
          19116,
          2724,
          464
         ],
         "yaxis": "y"
        },
        {
         "alignmentgroup": "True",
         "hovertemplate": "sentiment=neutral<br>subreddit=%{x}<br>count=%{y}<extra></extra>",
         "legendgroup": "neutral",
         "marker": {
          "color": "#edf8b1",
          "pattern": {
           "shape": ""
          }
         },
         "name": "neutral",
         "offsetgroup": "neutral",
         "orientation": "v",
         "showlegend": true,
         "textposition": "auto",
         "type": "bar",
         "x": [
          "FIFA",
          "pokemon",
          "CallOfDuty",
          "assassinscreed",
          "GTA",
          "legostarwars",
          "thesims",
          "FinalFantasy",
          "Tetris",
          "SuperMario"
         ],
         "xaxis": "x",
         "y": [
          528,
          703,
          109,
          216,
          175,
          105,
          203,
          122,
          23,
          3
         ],
         "yaxis": "y"
        },
        {
         "alignmentgroup": "True",
         "hovertemplate": "sentiment=neg<br>subreddit=%{x}<br>count=%{y}<extra></extra>",
         "legendgroup": "neg",
         "marker": {
          "color": "#2b8cbe",
          "pattern": {
           "shape": ""
          }
         },
         "name": "neg",
         "offsetgroup": "neg",
         "orientation": "v",
         "showlegend": true,
         "textposition": "auto",
         "type": "bar",
         "x": [
          "FIFA",
          "pokemon",
          "CallOfDuty",
          "assassinscreed",
          "GTA",
          "legostarwars",
          "thesims",
          "FinalFantasy",
          "Tetris",
          "SuperMario"
         ],
         "xaxis": "x",
         "y": [
          54968,
          52706,
          19995,
          12518,
          19230,
          17744,
          21063,
          10586,
          2106,
          211
         ],
         "yaxis": "y"
        }
       ],
       "layout": {
        "barmode": "relative",
        "legend": {
         "title": {
          "text": "sentiment"
         },
         "tracegroupgap": 0
        },
        "template": {
         "data": {
          "bar": [
           {
            "error_x": {
             "color": "#2a3f5f"
            },
            "error_y": {
             "color": "#2a3f5f"
            },
            "marker": {
             "line": {
              "color": "#E5ECF6",
              "width": 0.5
             },
             "pattern": {
              "fillmode": "overlay",
              "size": 10,
              "solidity": 0.2
             }
            },
            "type": "bar"
           }
          ],
          "barpolar": [
           {
            "marker": {
             "line": {
              "color": "#E5ECF6",
              "width": 0.5
             },
             "pattern": {
              "fillmode": "overlay",
              "size": 10,
              "solidity": 0.2
             }
            },
            "type": "barpolar"
           }
          ],
          "carpet": [
           {
            "aaxis": {
             "endlinecolor": "#2a3f5f",
             "gridcolor": "white",
             "linecolor": "white",
             "minorgridcolor": "white",
             "startlinecolor": "#2a3f5f"
            },
            "baxis": {
             "endlinecolor": "#2a3f5f",
             "gridcolor": "white",
             "linecolor": "white",
             "minorgridcolor": "white",
             "startlinecolor": "#2a3f5f"
            },
            "type": "carpet"
           }
          ],
          "choropleth": [
           {
            "colorbar": {
             "outlinewidth": 0,
             "ticks": ""
            },
            "type": "choropleth"
           }
          ],
          "contour": [
           {
            "colorbar": {
             "outlinewidth": 0,
             "ticks": ""
            },
            "colorscale": [
             [
              0,
              "#0d0887"
             ],
             [
              0.1111111111111111,
              "#46039f"
             ],
             [
              0.2222222222222222,
              "#7201a8"
             ],
             [
              0.3333333333333333,
              "#9c179e"
             ],
             [
              0.4444444444444444,
              "#bd3786"
             ],
             [
              0.5555555555555556,
              "#d8576b"
             ],
             [
              0.6666666666666666,
              "#ed7953"
             ],
             [
              0.7777777777777778,
              "#fb9f3a"
             ],
             [
              0.8888888888888888,
              "#fdca26"
             ],
             [
              1,
              "#f0f921"
             ]
            ],
            "type": "contour"
           }
          ],
          "contourcarpet": [
           {
            "colorbar": {
             "outlinewidth": 0,
             "ticks": ""
            },
            "type": "contourcarpet"
           }
          ],
          "heatmap": [
           {
            "colorbar": {
             "outlinewidth": 0,
             "ticks": ""
            },
            "colorscale": [
             [
              0,
              "#0d0887"
             ],
             [
              0.1111111111111111,
              "#46039f"
             ],
             [
              0.2222222222222222,
              "#7201a8"
             ],
             [
              0.3333333333333333,
              "#9c179e"
             ],
             [
              0.4444444444444444,
              "#bd3786"
             ],
             [
              0.5555555555555556,
              "#d8576b"
             ],
             [
              0.6666666666666666,
              "#ed7953"
             ],
             [
              0.7777777777777778,
              "#fb9f3a"
             ],
             [
              0.8888888888888888,
              "#fdca26"
             ],
             [
              1,
              "#f0f921"
             ]
            ],
            "type": "heatmap"
           }
          ],
          "heatmapgl": [
           {
            "colorbar": {
             "outlinewidth": 0,
             "ticks": ""
            },
            "colorscale": [
             [
              0,
              "#0d0887"
             ],
             [
              0.1111111111111111,
              "#46039f"
             ],
             [
              0.2222222222222222,
              "#7201a8"
             ],
             [
              0.3333333333333333,
              "#9c179e"
             ],
             [
              0.4444444444444444,
              "#bd3786"
             ],
             [
              0.5555555555555556,
              "#d8576b"
             ],
             [
              0.6666666666666666,
              "#ed7953"
             ],
             [
              0.7777777777777778,
              "#fb9f3a"
             ],
             [
              0.8888888888888888,
              "#fdca26"
             ],
             [
              1,
              "#f0f921"
             ]
            ],
            "type": "heatmapgl"
           }
          ],
          "histogram": [
           {
            "marker": {
             "pattern": {
              "fillmode": "overlay",
              "size": 10,
              "solidity": 0.2
             }
            },
            "type": "histogram"
           }
          ],
          "histogram2d": [
           {
            "colorbar": {
             "outlinewidth": 0,
             "ticks": ""
            },
            "colorscale": [
             [
              0,
              "#0d0887"
             ],
             [
              0.1111111111111111,
              "#46039f"
             ],
             [
              0.2222222222222222,
              "#7201a8"
             ],
             [
              0.3333333333333333,
              "#9c179e"
             ],
             [
              0.4444444444444444,
              "#bd3786"
             ],
             [
              0.5555555555555556,
              "#d8576b"
             ],
             [
              0.6666666666666666,
              "#ed7953"
             ],
             [
              0.7777777777777778,
              "#fb9f3a"
             ],
             [
              0.8888888888888888,
              "#fdca26"
             ],
             [
              1,
              "#f0f921"
             ]
            ],
            "type": "histogram2d"
           }
          ],
          "histogram2dcontour": [
           {
            "colorbar": {
             "outlinewidth": 0,
             "ticks": ""
            },
            "colorscale": [
             [
              0,
              "#0d0887"
             ],
             [
              0.1111111111111111,
              "#46039f"
             ],
             [
              0.2222222222222222,
              "#7201a8"
             ],
             [
              0.3333333333333333,
              "#9c179e"
             ],
             [
              0.4444444444444444,
              "#bd3786"
             ],
             [
              0.5555555555555556,
              "#d8576b"
             ],
             [
              0.6666666666666666,
              "#ed7953"
             ],
             [
              0.7777777777777778,
              "#fb9f3a"
             ],
             [
              0.8888888888888888,
              "#fdca26"
             ],
             [
              1,
              "#f0f921"
             ]
            ],
            "type": "histogram2dcontour"
           }
          ],
          "mesh3d": [
           {
            "colorbar": {
             "outlinewidth": 0,
             "ticks": ""
            },
            "type": "mesh3d"
           }
          ],
          "parcoords": [
           {
            "line": {
             "colorbar": {
              "outlinewidth": 0,
              "ticks": ""
             }
            },
            "type": "parcoords"
           }
          ],
          "pie": [
           {
            "automargin": true,
            "type": "pie"
           }
          ],
          "scatter": [
           {
            "fillpattern": {
             "fillmode": "overlay",
             "size": 10,
             "solidity": 0.2
            },
            "type": "scatter"
           }
          ],
          "scatter3d": [
           {
            "line": {
             "colorbar": {
              "outlinewidth": 0,
              "ticks": ""
             }
            },
            "marker": {
             "colorbar": {
              "outlinewidth": 0,
              "ticks": ""
             }
            },
            "type": "scatter3d"
           }
          ],
          "scattercarpet": [
           {
            "marker": {
             "colorbar": {
              "outlinewidth": 0,
              "ticks": ""
             }
            },
            "type": "scattercarpet"
           }
          ],
          "scattergeo": [
           {
            "marker": {
             "colorbar": {
              "outlinewidth": 0,
              "ticks": ""
             }
            },
            "type": "scattergeo"
           }
          ],
          "scattergl": [
           {
            "marker": {
             "colorbar": {
              "outlinewidth": 0,
              "ticks": ""
             }
            },
            "type": "scattergl"
           }
          ],
          "scattermapbox": [
           {
            "marker": {
             "colorbar": {
              "outlinewidth": 0,
              "ticks": ""
             }
            },
            "type": "scattermapbox"
           }
          ],
          "scatterpolar": [
           {
            "marker": {
             "colorbar": {
              "outlinewidth": 0,
              "ticks": ""
             }
            },
            "type": "scatterpolar"
           }
          ],
          "scatterpolargl": [
           {
            "marker": {
             "colorbar": {
              "outlinewidth": 0,
              "ticks": ""
             }
            },
            "type": "scatterpolargl"
           }
          ],
          "scatterternary": [
           {
            "marker": {
             "colorbar": {
              "outlinewidth": 0,
              "ticks": ""
             }
            },
            "type": "scatterternary"
           }
          ],
          "surface": [
           {
            "colorbar": {
             "outlinewidth": 0,
             "ticks": ""
            },
            "colorscale": [
             [
              0,
              "#0d0887"
             ],
             [
              0.1111111111111111,
              "#46039f"
             ],
             [
              0.2222222222222222,
              "#7201a8"
             ],
             [
              0.3333333333333333,
              "#9c179e"
             ],
             [
              0.4444444444444444,
              "#bd3786"
             ],
             [
              0.5555555555555556,
              "#d8576b"
             ],
             [
              0.6666666666666666,
              "#ed7953"
             ],
             [
              0.7777777777777778,
              "#fb9f3a"
             ],
             [
              0.8888888888888888,
              "#fdca26"
             ],
             [
              1,
              "#f0f921"
             ]
            ],
            "type": "surface"
           }
          ],
          "table": [
           {
            "cells": {
             "fill": {
              "color": "#EBF0F8"
             },
             "line": {
              "color": "white"
             }
            },
            "header": {
             "fill": {
              "color": "#C8D4E3"
             },
             "line": {
              "color": "white"
             }
            },
            "type": "table"
           }
          ]
         },
         "layout": {
          "annotationdefaults": {
           "arrowcolor": "#2a3f5f",
           "arrowhead": 0,
           "arrowwidth": 1
          },
          "autotypenumbers": "strict",
          "coloraxis": {
           "colorbar": {
            "outlinewidth": 0,
            "ticks": ""
           }
          },
          "colorscale": {
           "diverging": [
            [
             0,
             "#8e0152"
            ],
            [
             0.1,
             "#c51b7d"
            ],
            [
             0.2,
             "#de77ae"
            ],
            [
             0.3,
             "#f1b6da"
            ],
            [
             0.4,
             "#fde0ef"
            ],
            [
             0.5,
             "#f7f7f7"
            ],
            [
             0.6,
             "#e6f5d0"
            ],
            [
             0.7,
             "#b8e186"
            ],
            [
             0.8,
             "#7fbc41"
            ],
            [
             0.9,
             "#4d9221"
            ],
            [
             1,
             "#276419"
            ]
           ],
           "sequential": [
            [
             0,
             "#0d0887"
            ],
            [
             0.1111111111111111,
             "#46039f"
            ],
            [
             0.2222222222222222,
             "#7201a8"
            ],
            [
             0.3333333333333333,
             "#9c179e"
            ],
            [
             0.4444444444444444,
             "#bd3786"
            ],
            [
             0.5555555555555556,
             "#d8576b"
            ],
            [
             0.6666666666666666,
             "#ed7953"
            ],
            [
             0.7777777777777778,
             "#fb9f3a"
            ],
            [
             0.8888888888888888,
             "#fdca26"
            ],
            [
             1,
             "#f0f921"
            ]
           ],
           "sequentialminus": [
            [
             0,
             "#0d0887"
            ],
            [
             0.1111111111111111,
             "#46039f"
            ],
            [
             0.2222222222222222,
             "#7201a8"
            ],
            [
             0.3333333333333333,
             "#9c179e"
            ],
            [
             0.4444444444444444,
             "#bd3786"
            ],
            [
             0.5555555555555556,
             "#d8576b"
            ],
            [
             0.6666666666666666,
             "#ed7953"
            ],
            [
             0.7777777777777778,
             "#fb9f3a"
            ],
            [
             0.8888888888888888,
             "#fdca26"
            ],
            [
             1,
             "#f0f921"
            ]
           ]
          },
          "colorway": [
           "#636efa",
           "#EF553B",
           "#00cc96",
           "#ab63fa",
           "#FFA15A",
           "#19d3f3",
           "#FF6692",
           "#B6E880",
           "#FF97FF",
           "#FECB52"
          ],
          "font": {
           "color": "#2a3f5f"
          },
          "geo": {
           "bgcolor": "white",
           "lakecolor": "white",
           "landcolor": "#E5ECF6",
           "showlakes": true,
           "showland": true,
           "subunitcolor": "white"
          },
          "hoverlabel": {
           "align": "left"
          },
          "hovermode": "closest",
          "mapbox": {
           "style": "light"
          },
          "paper_bgcolor": "white",
          "plot_bgcolor": "#E5ECF6",
          "polar": {
           "angularaxis": {
            "gridcolor": "white",
            "linecolor": "white",
            "ticks": ""
           },
           "bgcolor": "#E5ECF6",
           "radialaxis": {
            "gridcolor": "white",
            "linecolor": "white",
            "ticks": ""
           }
          },
          "scene": {
           "xaxis": {
            "backgroundcolor": "#E5ECF6",
            "gridcolor": "white",
            "gridwidth": 2,
            "linecolor": "white",
            "showbackground": true,
            "ticks": "",
            "zerolinecolor": "white"
           },
           "yaxis": {
            "backgroundcolor": "#E5ECF6",
            "gridcolor": "white",
            "gridwidth": 2,
            "linecolor": "white",
            "showbackground": true,
            "ticks": "",
            "zerolinecolor": "white"
           },
           "zaxis": {
            "backgroundcolor": "#E5ECF6",
            "gridcolor": "white",
            "gridwidth": 2,
            "linecolor": "white",
            "showbackground": true,
            "ticks": "",
            "zerolinecolor": "white"
           }
          },
          "shapedefaults": {
           "line": {
            "color": "#2a3f5f"
           }
          },
          "ternary": {
           "aaxis": {
            "gridcolor": "white",
            "linecolor": "white",
            "ticks": ""
           },
           "baxis": {
            "gridcolor": "white",
            "linecolor": "white",
            "ticks": ""
           },
           "bgcolor": "#E5ECF6",
           "caxis": {
            "gridcolor": "white",
            "linecolor": "white",
            "ticks": ""
           }
          },
          "title": {
           "x": 0.05
          },
          "xaxis": {
           "automargin": true,
           "gridcolor": "white",
           "linecolor": "white",
           "ticks": "",
           "title": {
            "standoff": 15
           },
           "zerolinecolor": "white",
           "zerolinewidth": 2
          },
          "yaxis": {
           "automargin": true,
           "gridcolor": "white",
           "linecolor": "white",
           "ticks": "",
           "title": {
            "standoff": 15
           },
           "zerolinecolor": "white",
           "zerolinewidth": 2
          }
         }
        },
        "title": {
         "text": "Sentiment distribution for top sales series games"
        },
        "xaxis": {
         "anchor": "y",
         "domain": [
          0,
          1
         ],
         "title": {
          "text": "subreddit"
         }
        },
        "yaxis": {
         "anchor": "x",
         "domain": [
          0,
          1
         ],
         "title": {
          "text": "count"
         }
        }
       }
      }
     },
     "metadata": {},
     "output_type": "display_data"
    }
   ],
   "source": [
    "fig = px.bar(df4, x=\"subreddit\", y=\"count\", color=\"sentiment\", title=\"Sentiment distribution for top sales series games\",color_discrete_sequence = [\"#dd1c77\",\"#edf8b1\",\"#2b8cbe\"])\n",
    "fig.show()"
   ]
  },
  {
   "cell_type": "code",
   "execution_count": 45,
   "metadata": {},
   "outputs": [
    {
     "data": {
      "application/vnd.plotly.v1+json": {
       "config": {
        "plotlyServerURL": "https://plot.ly"
       },
       "data": [
        {
         "alignmentgroup": "True",
         "hovertemplate": "subreddit=%{x}<br>Total Sales=%{y}<extra></extra>",
         "legendgroup": "",
         "marker": {
          "color": "#636efa",
          "pattern": {
           "shape": ""
          }
         },
         "name": "",
         "offsetgroup": "",
         "orientation": "v",
         "showlegend": false,
         "textposition": "auto",
         "type": "bar",
         "x": [
          "Tetris",
          "pokemon",
          "SuperMario",
          "GTA",
          "CallOfDuty",
          "FIFA",
          "legostarwars",
          "assassinscreed",
          "thesims",
          "FinalFantasy"
         ],
         "xaxis": "x",
         "y": [
          496400000,
          480660000,
          401830000,
          400000000,
          400000000,
          325000000,
          203220000,
          200000000,
          200000000,
          180000000
         ],
         "yaxis": "y"
        }
       ],
       "layout": {
        "barmode": "relative",
        "legend": {
         "tracegroupgap": 0
        },
        "template": {
         "data": {
          "bar": [
           {
            "error_x": {
             "color": "#2a3f5f"
            },
            "error_y": {
             "color": "#2a3f5f"
            },
            "marker": {
             "line": {
              "color": "#E5ECF6",
              "width": 0.5
             },
             "pattern": {
              "fillmode": "overlay",
              "size": 10,
              "solidity": 0.2
             }
            },
            "type": "bar"
           }
          ],
          "barpolar": [
           {
            "marker": {
             "line": {
              "color": "#E5ECF6",
              "width": 0.5
             },
             "pattern": {
              "fillmode": "overlay",
              "size": 10,
              "solidity": 0.2
             }
            },
            "type": "barpolar"
           }
          ],
          "carpet": [
           {
            "aaxis": {
             "endlinecolor": "#2a3f5f",
             "gridcolor": "white",
             "linecolor": "white",
             "minorgridcolor": "white",
             "startlinecolor": "#2a3f5f"
            },
            "baxis": {
             "endlinecolor": "#2a3f5f",
             "gridcolor": "white",
             "linecolor": "white",
             "minorgridcolor": "white",
             "startlinecolor": "#2a3f5f"
            },
            "type": "carpet"
           }
          ],
          "choropleth": [
           {
            "colorbar": {
             "outlinewidth": 0,
             "ticks": ""
            },
            "type": "choropleth"
           }
          ],
          "contour": [
           {
            "colorbar": {
             "outlinewidth": 0,
             "ticks": ""
            },
            "colorscale": [
             [
              0,
              "#0d0887"
             ],
             [
              0.1111111111111111,
              "#46039f"
             ],
             [
              0.2222222222222222,
              "#7201a8"
             ],
             [
              0.3333333333333333,
              "#9c179e"
             ],
             [
              0.4444444444444444,
              "#bd3786"
             ],
             [
              0.5555555555555556,
              "#d8576b"
             ],
             [
              0.6666666666666666,
              "#ed7953"
             ],
             [
              0.7777777777777778,
              "#fb9f3a"
             ],
             [
              0.8888888888888888,
              "#fdca26"
             ],
             [
              1,
              "#f0f921"
             ]
            ],
            "type": "contour"
           }
          ],
          "contourcarpet": [
           {
            "colorbar": {
             "outlinewidth": 0,
             "ticks": ""
            },
            "type": "contourcarpet"
           }
          ],
          "heatmap": [
           {
            "colorbar": {
             "outlinewidth": 0,
             "ticks": ""
            },
            "colorscale": [
             [
              0,
              "#0d0887"
             ],
             [
              0.1111111111111111,
              "#46039f"
             ],
             [
              0.2222222222222222,
              "#7201a8"
             ],
             [
              0.3333333333333333,
              "#9c179e"
             ],
             [
              0.4444444444444444,
              "#bd3786"
             ],
             [
              0.5555555555555556,
              "#d8576b"
             ],
             [
              0.6666666666666666,
              "#ed7953"
             ],
             [
              0.7777777777777778,
              "#fb9f3a"
             ],
             [
              0.8888888888888888,
              "#fdca26"
             ],
             [
              1,
              "#f0f921"
             ]
            ],
            "type": "heatmap"
           }
          ],
          "heatmapgl": [
           {
            "colorbar": {
             "outlinewidth": 0,
             "ticks": ""
            },
            "colorscale": [
             [
              0,
              "#0d0887"
             ],
             [
              0.1111111111111111,
              "#46039f"
             ],
             [
              0.2222222222222222,
              "#7201a8"
             ],
             [
              0.3333333333333333,
              "#9c179e"
             ],
             [
              0.4444444444444444,
              "#bd3786"
             ],
             [
              0.5555555555555556,
              "#d8576b"
             ],
             [
              0.6666666666666666,
              "#ed7953"
             ],
             [
              0.7777777777777778,
              "#fb9f3a"
             ],
             [
              0.8888888888888888,
              "#fdca26"
             ],
             [
              1,
              "#f0f921"
             ]
            ],
            "type": "heatmapgl"
           }
          ],
          "histogram": [
           {
            "marker": {
             "pattern": {
              "fillmode": "overlay",
              "size": 10,
              "solidity": 0.2
             }
            },
            "type": "histogram"
           }
          ],
          "histogram2d": [
           {
            "colorbar": {
             "outlinewidth": 0,
             "ticks": ""
            },
            "colorscale": [
             [
              0,
              "#0d0887"
             ],
             [
              0.1111111111111111,
              "#46039f"
             ],
             [
              0.2222222222222222,
              "#7201a8"
             ],
             [
              0.3333333333333333,
              "#9c179e"
             ],
             [
              0.4444444444444444,
              "#bd3786"
             ],
             [
              0.5555555555555556,
              "#d8576b"
             ],
             [
              0.6666666666666666,
              "#ed7953"
             ],
             [
              0.7777777777777778,
              "#fb9f3a"
             ],
             [
              0.8888888888888888,
              "#fdca26"
             ],
             [
              1,
              "#f0f921"
             ]
            ],
            "type": "histogram2d"
           }
          ],
          "histogram2dcontour": [
           {
            "colorbar": {
             "outlinewidth": 0,
             "ticks": ""
            },
            "colorscale": [
             [
              0,
              "#0d0887"
             ],
             [
              0.1111111111111111,
              "#46039f"
             ],
             [
              0.2222222222222222,
              "#7201a8"
             ],
             [
              0.3333333333333333,
              "#9c179e"
             ],
             [
              0.4444444444444444,
              "#bd3786"
             ],
             [
              0.5555555555555556,
              "#d8576b"
             ],
             [
              0.6666666666666666,
              "#ed7953"
             ],
             [
              0.7777777777777778,
              "#fb9f3a"
             ],
             [
              0.8888888888888888,
              "#fdca26"
             ],
             [
              1,
              "#f0f921"
             ]
            ],
            "type": "histogram2dcontour"
           }
          ],
          "mesh3d": [
           {
            "colorbar": {
             "outlinewidth": 0,
             "ticks": ""
            },
            "type": "mesh3d"
           }
          ],
          "parcoords": [
           {
            "line": {
             "colorbar": {
              "outlinewidth": 0,
              "ticks": ""
             }
            },
            "type": "parcoords"
           }
          ],
          "pie": [
           {
            "automargin": true,
            "type": "pie"
           }
          ],
          "scatter": [
           {
            "fillpattern": {
             "fillmode": "overlay",
             "size": 10,
             "solidity": 0.2
            },
            "type": "scatter"
           }
          ],
          "scatter3d": [
           {
            "line": {
             "colorbar": {
              "outlinewidth": 0,
              "ticks": ""
             }
            },
            "marker": {
             "colorbar": {
              "outlinewidth": 0,
              "ticks": ""
             }
            },
            "type": "scatter3d"
           }
          ],
          "scattercarpet": [
           {
            "marker": {
             "colorbar": {
              "outlinewidth": 0,
              "ticks": ""
             }
            },
            "type": "scattercarpet"
           }
          ],
          "scattergeo": [
           {
            "marker": {
             "colorbar": {
              "outlinewidth": 0,
              "ticks": ""
             }
            },
            "type": "scattergeo"
           }
          ],
          "scattergl": [
           {
            "marker": {
             "colorbar": {
              "outlinewidth": 0,
              "ticks": ""
             }
            },
            "type": "scattergl"
           }
          ],
          "scattermapbox": [
           {
            "marker": {
             "colorbar": {
              "outlinewidth": 0,
              "ticks": ""
             }
            },
            "type": "scattermapbox"
           }
          ],
          "scatterpolar": [
           {
            "marker": {
             "colorbar": {
              "outlinewidth": 0,
              "ticks": ""
             }
            },
            "type": "scatterpolar"
           }
          ],
          "scatterpolargl": [
           {
            "marker": {
             "colorbar": {
              "outlinewidth": 0,
              "ticks": ""
             }
            },
            "type": "scatterpolargl"
           }
          ],
          "scatterternary": [
           {
            "marker": {
             "colorbar": {
              "outlinewidth": 0,
              "ticks": ""
             }
            },
            "type": "scatterternary"
           }
          ],
          "surface": [
           {
            "colorbar": {
             "outlinewidth": 0,
             "ticks": ""
            },
            "colorscale": [
             [
              0,
              "#0d0887"
             ],
             [
              0.1111111111111111,
              "#46039f"
             ],
             [
              0.2222222222222222,
              "#7201a8"
             ],
             [
              0.3333333333333333,
              "#9c179e"
             ],
             [
              0.4444444444444444,
              "#bd3786"
             ],
             [
              0.5555555555555556,
              "#d8576b"
             ],
             [
              0.6666666666666666,
              "#ed7953"
             ],
             [
              0.7777777777777778,
              "#fb9f3a"
             ],
             [
              0.8888888888888888,
              "#fdca26"
             ],
             [
              1,
              "#f0f921"
             ]
            ],
            "type": "surface"
           }
          ],
          "table": [
           {
            "cells": {
             "fill": {
              "color": "#EBF0F8"
             },
             "line": {
              "color": "white"
             }
            },
            "header": {
             "fill": {
              "color": "#C8D4E3"
             },
             "line": {
              "color": "white"
             }
            },
            "type": "table"
           }
          ]
         },
         "layout": {
          "annotationdefaults": {
           "arrowcolor": "#2a3f5f",
           "arrowhead": 0,
           "arrowwidth": 1
          },
          "autotypenumbers": "strict",
          "coloraxis": {
           "colorbar": {
            "outlinewidth": 0,
            "ticks": ""
           }
          },
          "colorscale": {
           "diverging": [
            [
             0,
             "#8e0152"
            ],
            [
             0.1,
             "#c51b7d"
            ],
            [
             0.2,
             "#de77ae"
            ],
            [
             0.3,
             "#f1b6da"
            ],
            [
             0.4,
             "#fde0ef"
            ],
            [
             0.5,
             "#f7f7f7"
            ],
            [
             0.6,
             "#e6f5d0"
            ],
            [
             0.7,
             "#b8e186"
            ],
            [
             0.8,
             "#7fbc41"
            ],
            [
             0.9,
             "#4d9221"
            ],
            [
             1,
             "#276419"
            ]
           ],
           "sequential": [
            [
             0,
             "#0d0887"
            ],
            [
             0.1111111111111111,
             "#46039f"
            ],
            [
             0.2222222222222222,
             "#7201a8"
            ],
            [
             0.3333333333333333,
             "#9c179e"
            ],
            [
             0.4444444444444444,
             "#bd3786"
            ],
            [
             0.5555555555555556,
             "#d8576b"
            ],
            [
             0.6666666666666666,
             "#ed7953"
            ],
            [
             0.7777777777777778,
             "#fb9f3a"
            ],
            [
             0.8888888888888888,
             "#fdca26"
            ],
            [
             1,
             "#f0f921"
            ]
           ],
           "sequentialminus": [
            [
             0,
             "#0d0887"
            ],
            [
             0.1111111111111111,
             "#46039f"
            ],
            [
             0.2222222222222222,
             "#7201a8"
            ],
            [
             0.3333333333333333,
             "#9c179e"
            ],
            [
             0.4444444444444444,
             "#bd3786"
            ],
            [
             0.5555555555555556,
             "#d8576b"
            ],
            [
             0.6666666666666666,
             "#ed7953"
            ],
            [
             0.7777777777777778,
             "#fb9f3a"
            ],
            [
             0.8888888888888888,
             "#fdca26"
            ],
            [
             1,
             "#f0f921"
            ]
           ]
          },
          "colorway": [
           "#636efa",
           "#EF553B",
           "#00cc96",
           "#ab63fa",
           "#FFA15A",
           "#19d3f3",
           "#FF6692",
           "#B6E880",
           "#FF97FF",
           "#FECB52"
          ],
          "font": {
           "color": "#2a3f5f"
          },
          "geo": {
           "bgcolor": "white",
           "lakecolor": "white",
           "landcolor": "#E5ECF6",
           "showlakes": true,
           "showland": true,
           "subunitcolor": "white"
          },
          "hoverlabel": {
           "align": "left"
          },
          "hovermode": "closest",
          "mapbox": {
           "style": "light"
          },
          "paper_bgcolor": "white",
          "plot_bgcolor": "#E5ECF6",
          "polar": {
           "angularaxis": {
            "gridcolor": "white",
            "linecolor": "white",
            "ticks": ""
           },
           "bgcolor": "#E5ECF6",
           "radialaxis": {
            "gridcolor": "white",
            "linecolor": "white",
            "ticks": ""
           }
          },
          "scene": {
           "xaxis": {
            "backgroundcolor": "#E5ECF6",
            "gridcolor": "white",
            "gridwidth": 2,
            "linecolor": "white",
            "showbackground": true,
            "ticks": "",
            "zerolinecolor": "white"
           },
           "yaxis": {
            "backgroundcolor": "#E5ECF6",
            "gridcolor": "white",
            "gridwidth": 2,
            "linecolor": "white",
            "showbackground": true,
            "ticks": "",
            "zerolinecolor": "white"
           },
           "zaxis": {
            "backgroundcolor": "#E5ECF6",
            "gridcolor": "white",
            "gridwidth": 2,
            "linecolor": "white",
            "showbackground": true,
            "ticks": "",
            "zerolinecolor": "white"
           }
          },
          "shapedefaults": {
           "line": {
            "color": "#2a3f5f"
           }
          },
          "ternary": {
           "aaxis": {
            "gridcolor": "white",
            "linecolor": "white",
            "ticks": ""
           },
           "baxis": {
            "gridcolor": "white",
            "linecolor": "white",
            "ticks": ""
           },
           "bgcolor": "#E5ECF6",
           "caxis": {
            "gridcolor": "white",
            "linecolor": "white",
            "ticks": ""
           }
          },
          "title": {
           "x": 0.05
          },
          "xaxis": {
           "automargin": true,
           "gridcolor": "white",
           "linecolor": "white",
           "ticks": "",
           "title": {
            "standoff": 15
           },
           "zerolinecolor": "white",
           "zerolinewidth": 2
          },
          "yaxis": {
           "automargin": true,
           "gridcolor": "white",
           "linecolor": "white",
           "ticks": "",
           "title": {
            "standoff": 15
           },
           "zerolinecolor": "white",
           "zerolinewidth": 2
          }
         }
        },
        "title": {
         "text": "Top sales series games"
        },
        "xaxis": {
         "anchor": "y",
         "domain": [
          0,
          1
         ],
         "title": {
          "text": "subreddit"
         }
        },
        "yaxis": {
         "anchor": "x",
         "domain": [
          0,
          1
         ],
         "title": {
          "text": "Total Sales"
         }
        }
       }
      }
     },
     "metadata": {},
     "output_type": "display_data"
    }
   ],
   "source": [
    "fig2 = px.bar(sale, x=\"subreddit\", y=\"Total Sales\", title=\"Top sales series games\")\n",
    "fig2.show()"
   ]
  },
  {
   "cell_type": "code",
   "execution_count": 59,
   "metadata": {},
   "outputs": [],
   "source": [
    "fig.write_html(\"senti_dist.html\")\n",
    "fig2.write_html(\"top_sale.html\")"
   ]
  }
 ],
 "metadata": {
  "kernelspec": {
   "display_name": "Python 3",
   "language": "python",
   "name": "python3"
  },
  "language_info": {
   "codemirror_mode": {
    "name": "ipython",
    "version": 3
   },
   "file_extension": ".py",
   "mimetype": "text/x-python",
   "name": "python",
   "nbconvert_exporter": "python",
   "pygments_lexer": "ipython3",
   "version": "3.10.8"
  },
  "orig_nbformat": 4
 },
 "nbformat": 4,
 "nbformat_minor": 2
}
