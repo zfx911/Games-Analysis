{
  "cells": [
    {
      "cell_type": "markdown",
      "source": [
        "In interactive notebook, the `spark` object is already created.\n",
        "Instructors tested with 1 driver, 6 executors of small e4 (24 cores, 192GB memory)"
      ],
      "metadata": {
        "nteract": {
          "transient": {
            "deleting": false
          }
        }
      }
    },
    {
      "cell_type": "markdown",
      "source": [
        "### Launch spark environment"
      ],
      "metadata": {
        "nteract": {
          "transient": {
            "deleting": false
          }
        }
      }
    },
    {
      "cell_type": "code",
      "source": [
        "spark"
      ],
      "outputs": [
        {
          "output_type": "display_data",
          "data": {
            "application/vnd.livy.statement-meta+json": {
              "spark_pool": "3c67b279-1d53-4b7a-b0d9-41cb8b4b6723",
              "session_id": "33",
              "statement_id": 20,
              "state": "finished",
              "livy_statement_state": "available",
              "queued_time": "2023-11-16T10:45:16.811794Z",
              "session_start_time": null,
              "execution_start_time": "2023-11-16T10:45:16.9151503Z",
              "execution_finish_time": "2023-11-16T10:45:17.2039022Z",
              "spark_jobs": {
                "numbers": {
                  "FAILED": 0,
                  "RUNNING": 0,
                  "UNKNOWN": 0,
                  "SUCCEEDED": 0
                },
                "jobs": [],
                "limit": 20,
                "rule": "ALL_DESC"
              },
              "parent_msg_id": "a1d6ec38-7b27-4b23-82ba-296a74b7b94f"
            },
            "text/plain": "StatementMeta(3c67b279-1d53-4b7a-b0d9-41cb8b4b6723, 33, 20, Finished, Available)"
          },
          "metadata": {}
        },
        {
          "output_type": "execute_result",
          "execution_count": 39,
          "data": {
            "text/plain": "<pyspark.sql.session.SparkSession at 0x7ff69497f8b0>",
            "text/html": "\n            <div>\n                <p><b>SparkSession - hive</b></p>\n                \n        <div>\n            <p><b>SparkContext</b></p>\n\n            <p><a href=\"http://vm-b5742298:35699\">Spark UI</a></p>\n\n            <dl>\n              <dt>Version</dt>\n                <dd><code>v3.2.2.5.1-100879434</code></dd>\n              <dt>Master</dt>\n                <dd><code>yarn</code></dd>\n              <dt>AppName</dt>\n                <dd><code>Azure ML Experiment</code></dd>\n            </dl>\n        </div>\n        \n            </div>\n        "
          },
          "metadata": {}
        }
      ],
      "execution_count": 15,
      "metadata": {
        "jupyter": {
          "source_hidden": false,
          "outputs_hidden": false
        },
        "nteract": {
          "transient": {
            "deleting": false
          }
        },
        "gather": {
          "logged": 1700131517286
        }
      }
    },
    {
      "cell_type": "code",
      "source": [
        "%%configure -f \\\n",
        "{\"conf\": {\"spark.jars.packages\": \"com.johnsnowlabs.nlp:spark-nlp_2.12:5.1.2\"}}"
      ],
      "outputs": [
        {
          "output_type": "display_data",
          "data": {
            "application/vnd.livy.statement-meta+json": {
              "spark_pool": "3c67b279-1d53-4b7a-b0d9-41cb8b4b6723",
              "session_id": "34",
              "statement_id": -1,
              "state": "finished",
              "livy_statement_state": "available",
              "queued_time": "2023-11-16T10:45:16.9207815Z",
              "session_start_time": "2023-11-16T10:45:17.3325442Z",
              "execution_start_time": "2023-11-16T10:46:45.0373307Z",
              "execution_finish_time": "2023-11-16T10:46:45.0678318Z",
              "spark_jobs": {
                "numbers": {
                  "FAILED": 0,
                  "RUNNING": 0,
                  "UNKNOWN": 0,
                  "SUCCEEDED": 0
                },
                "jobs": [],
                "limit": 20,
                "rule": "ALL_DESC"
              },
              "parent_msg_id": "92c06518-7986-4d06-aefe-b68274dc9a11"
            },
            "text/plain": "StatementMeta(3c67b279-1d53-4b7a-b0d9-41cb8b4b6723, 34, -1, Finished, Available)"
          },
          "metadata": {}
        },
        {
          "output_type": "stream",
          "name": "stdout",
          "text": "Unrecognized options: "
        }
      ],
      "execution_count": 16,
      "metadata": {
        "jupyter": {
          "source_hidden": false,
          "outputs_hidden": false
        },
        "nteract": {
          "transient": {
            "deleting": false
          }
        }
      }
    },
    {
      "cell_type": "markdown",
      "source": [
        "### Set up data configuration"
      ],
      "metadata": {
        "nteract": {
          "transient": {
            "deleting": false
          }
        }
      }
    },
    {
      "cell_type": "code",
      "source": [
        "blob_account_name = \"marckvnonprodblob\"\n",
        "blob_container_name = \"bigdata\"\n",
        "# read only\n",
        "blob_sas_token = \"?sv=2021-10-04&st=2023-10-04T01%3A42%3A59Z&se=2024-01-02T02%3A42%3A00Z&sr=c&sp=rlf&sig=w3CH9MbCOpwO7DtHlrahc7AlRPxSZZb8MOgS6TaXLzI%3D\"\n",
        "\n",
        "wasbs_base_url = (\n",
        "    f\"wasbs://{blob_container_name}@{blob_account_name}.blob.core.windows.net/\"\n",
        ")\n",
        "spark.conf.set(\n",
        "    f\"fs.azure.sas.{blob_container_name}.{blob_account_name}.blob.core.windows.net\",\n",
        "    blob_sas_token,\n",
        ")"
      ],
      "outputs": [
        {
          "output_type": "display_data",
          "data": {
            "application/vnd.livy.statement-meta+json": {
              "spark_pool": "3c67b279-1d53-4b7a-b0d9-41cb8b4b6723",
              "session_id": "34",
              "statement_id": 6,
              "state": "finished",
              "livy_statement_state": "available",
              "queued_time": "2023-11-16T10:45:17.0949536Z",
              "session_start_time": null,
              "execution_start_time": "2023-11-16T10:47:04.3697086Z",
              "execution_finish_time": "2023-11-16T10:47:04.6627428Z",
              "spark_jobs": {
                "numbers": {
                  "FAILED": 0,
                  "RUNNING": 0,
                  "UNKNOWN": 0,
                  "SUCCEEDED": 0
                },
                "jobs": [],
                "limit": 20,
                "rule": "ALL_DESC"
              },
              "parent_msg_id": "294b22b1-3ca3-4f30-9106-58f00cb58985"
            },
            "text/plain": "StatementMeta(3c67b279-1d53-4b7a-b0d9-41cb8b4b6723, 34, 6, Finished, Available)"
          },
          "metadata": {}
        }
      ],
      "execution_count": 17,
      "metadata": {
        "jupyter": {
          "source_hidden": false,
          "outputs_hidden": false
        },
        "nteract": {
          "transient": {
            "deleting": false
          }
        },
        "gather": {
          "logged": 1700131624592
        }
      }
    },
    {
      "cell_type": "markdown",
      "source": [
        "#### Reading in single parquet file"
      ],
      "metadata": {
        "nteract": {
          "transient": {
            "deleting": false
          }
        }
      }
    },
    {
      "cell_type": "code",
      "source": [
        "comments_path = \"reddit-parquet/comments/\"\n",
        "submissions_path = \"reddit-parquet/submissions/\""
      ],
      "outputs": [
        {
          "output_type": "display_data",
          "data": {
            "application/vnd.livy.statement-meta+json": {
              "spark_pool": "3c67b279-1d53-4b7a-b0d9-41cb8b4b6723",
              "session_id": "34",
              "statement_id": 7,
              "state": "finished",
              "livy_statement_state": "available",
              "queued_time": "2023-11-16T10:45:17.166715Z",
              "session_start_time": null,
              "execution_start_time": "2023-11-16T10:47:04.7950656Z",
              "execution_finish_time": "2023-11-16T10:47:05.0840381Z",
              "spark_jobs": {
                "numbers": {
                  "FAILED": 0,
                  "RUNNING": 0,
                  "UNKNOWN": 0,
                  "SUCCEEDED": 0
                },
                "jobs": [],
                "limit": 20,
                "rule": "ALL_DESC"
              },
              "parent_msg_id": "8bcbb3d7-d8d2-4950-a44e-3fc2992ef65d"
            },
            "text/plain": "StatementMeta(3c67b279-1d53-4b7a-b0d9-41cb8b4b6723, 34, 7, Finished, Available)"
          },
          "metadata": {}
        }
      ],
      "execution_count": 18,
      "metadata": {
        "jupyter": {
          "source_hidden": false,
          "outputs_hidden": false
        },
        "nteract": {
          "transient": {
            "deleting": false
          }
        },
        "gather": {
          "logged": 1700131625013
        }
      }
    },
    {
      "cell_type": "code",
      "source": [
        "topic = [\"Tetris\",\"pokemon\",\"SuperMario\",\"GTA\",\"CallOfDuty\",\"FIFA\",\"legostarwars\",\n",
        "\"assassinscreed\",\"thesims\",\"FinalFantasy\"] "
      ],
      "outputs": [
        {
          "output_type": "display_data",
          "data": {
            "application/vnd.livy.statement-meta+json": {
              "spark_pool": "3c67b279-1d53-4b7a-b0d9-41cb8b4b6723",
              "session_id": "34",
              "statement_id": 8,
              "state": "finished",
              "livy_statement_state": "available",
              "queued_time": "2023-11-16T10:45:17.3154268Z",
              "session_start_time": null,
              "execution_start_time": "2023-11-16T10:47:05.2201315Z",
              "execution_finish_time": "2023-11-16T10:47:05.5112553Z",
              "spark_jobs": {
                "numbers": {
                  "FAILED": 0,
                  "RUNNING": 0,
                  "UNKNOWN": 0,
                  "SUCCEEDED": 0
                },
                "jobs": [],
                "limit": 20,
                "rule": "ALL_DESC"
              },
              "parent_msg_id": "6a26172a-0170-4f78-9358-d07889a3776b"
            },
            "text/plain": "StatementMeta(3c67b279-1d53-4b7a-b0d9-41cb8b4b6723, 34, 8, Finished, Available)"
          },
          "metadata": {}
        }
      ],
      "execution_count": 19,
      "metadata": {
        "jupyter": {
          "source_hidden": false,
          "outputs_hidden": false
        },
        "nteract": {
          "transient": {
            "deleting": false
          }
        },
        "gather": {
          "logged": 1700131625734
        }
      }
    },
    {
      "cell_type": "markdown",
      "source": [
        "### Reeading in all of the Reddit data"
      ],
      "metadata": {
        "nteract": {
          "transient": {
            "deleting": false
          }
        }
      }
    },
    {
      "cell_type": "code",
      "source": [
        "comments_df = spark.read.parquet(f\"{wasbs_base_url}{comments_path}\")\n",
        "submissions_df = spark.read.parquet(f\"{wasbs_base_url}{submissions_path}\")"
      ],
      "outputs": [
        {
          "output_type": "display_data",
          "data": {
            "application/vnd.livy.statement-meta+json": {
              "spark_pool": "3c67b279-1d53-4b7a-b0d9-41cb8b4b6723",
              "session_id": "34",
              "statement_id": 9,
              "state": "finished",
              "livy_statement_state": "available",
              "queued_time": "2023-11-16T10:45:17.3515809Z",
              "session_start_time": null,
              "execution_start_time": "2023-11-16T10:47:05.6158935Z",
              "execution_finish_time": "2023-11-16T10:47:43.0569537Z",
              "spark_jobs": {
                "numbers": {
                  "FAILED": 0,
                  "RUNNING": 0,
                  "UNKNOWN": 0,
                  "SUCCEEDED": 2
                },
                "jobs": [
                  {
                    "displayName": "parquet at NativeMethodAccessorImpl.java:0",
                    "dataWritten": 0,
                    "dataRead": 0,
                    "rowCount": 0,
                    "usageDescription": "",
                    "jobId": 1,
                    "name": "parquet at NativeMethodAccessorImpl.java:0",
                    "description": "Job group for statement 9:\ncomments_df = spark.read.parquet(f\"{wasbs_base_url}{comments_path}\")\nsubmissions_df = spark.read.parquet(f\"{wasbs_base_url}{submissions_path}\")",
                    "submissionTime": "2023-11-16T10:47:39.653GMT",
                    "completionTime": "2023-11-16T10:47:42.354GMT",
                    "stageIds": [
                      1
                    ],
                    "jobGroup": "9",
                    "status": "SUCCEEDED",
                    "numTasks": 1,
                    "numActiveTasks": 0,
                    "numCompletedTasks": 1,
                    "numSkippedTasks": 0,
                    "numFailedTasks": 0,
                    "numKilledTasks": 0,
                    "numCompletedIndices": 1,
                    "numActiveStages": 0,
                    "numCompletedStages": 1,
                    "numSkippedStages": 0,
                    "numFailedStages": 0,
                    "killedTasksSummary": {}
                  },
                  {
                    "displayName": "parquet at NativeMethodAccessorImpl.java:0",
                    "dataWritten": 0,
                    "dataRead": 0,
                    "rowCount": 0,
                    "usageDescription": "",
                    "jobId": 0,
                    "name": "parquet at NativeMethodAccessorImpl.java:0",
                    "description": "Job group for statement 9:\ncomments_df = spark.read.parquet(f\"{wasbs_base_url}{comments_path}\")\nsubmissions_df = spark.read.parquet(f\"{wasbs_base_url}{submissions_path}\")",
                    "submissionTime": "2023-11-16T10:47:26.583GMT",
                    "completionTime": "2023-11-16T10:47:29.766GMT",
                    "stageIds": [
                      0
                    ],
                    "jobGroup": "9",
                    "status": "SUCCEEDED",
                    "numTasks": 1,
                    "numActiveTasks": 0,
                    "numCompletedTasks": 1,
                    "numSkippedTasks": 0,
                    "numFailedTasks": 0,
                    "numKilledTasks": 0,
                    "numCompletedIndices": 1,
                    "numActiveStages": 0,
                    "numCompletedStages": 1,
                    "numSkippedStages": 0,
                    "numFailedStages": 0,
                    "killedTasksSummary": {}
                  }
                ],
                "limit": 20,
                "rule": "ALL_DESC"
              },
              "parent_msg_id": "33edc43e-b31b-44c9-8a46-c069e2d90e20"
            },
            "text/plain": "StatementMeta(3c67b279-1d53-4b7a-b0d9-41cb8b4b6723, 34, 9, Finished, Available)"
          },
          "metadata": {}
        }
      ],
      "execution_count": 20,
      "metadata": {
        "jupyter": {
          "source_hidden": false,
          "outputs_hidden": false
        },
        "nteract": {
          "transient": {
            "deleting": false
          }
        },
        "gather": {
          "logged": 1700131662999
        }
      }
    },
    {
      "cell_type": "code",
      "source": [
        "from pyspark.sql.functions import length, col,split\n",
        "sub_filtered = submissions_df.filter((length(col(\"selftext\")) > 0)& (col(\"selftext\") != \"[deleted]\")&(col('selftext')!= \"[removed]\"))\\\n",
        ".filter(col(\"subreddit\").isin(topic))"
      ],
      "outputs": [
        {
          "output_type": "display_data",
          "data": {
            "application/vnd.livy.statement-meta+json": {
              "spark_pool": "3c67b279-1d53-4b7a-b0d9-41cb8b4b6723",
              "session_id": "34",
              "statement_id": 10,
              "state": "finished",
              "livy_statement_state": "available",
              "queued_time": "2023-11-16T10:45:17.5802904Z",
              "session_start_time": null,
              "execution_start_time": "2023-11-16T10:47:43.1839513Z",
              "execution_finish_time": "2023-11-16T10:47:43.9935323Z",
              "spark_jobs": {
                "numbers": {
                  "FAILED": 0,
                  "RUNNING": 0,
                  "UNKNOWN": 0,
                  "SUCCEEDED": 0
                },
                "jobs": [],
                "limit": 20,
                "rule": "ALL_DESC"
              },
              "parent_msg_id": "62ec739a-5043-4b44-af62-71a81d2371a2"
            },
            "text/plain": "StatementMeta(3c67b279-1d53-4b7a-b0d9-41cb8b4b6723, 34, 10, Finished, Available)"
          },
          "metadata": {}
        }
      ],
      "execution_count": 21,
      "metadata": {
        "jupyter": {
          "source_hidden": false,
          "outputs_hidden": false
        },
        "nteract": {
          "transient": {
            "deleting": false
          }
        },
        "gather": {
          "logged": 1700131663925
        }
      }
    },
    {
      "cell_type": "code",
      "source": [
        "df_save = sub_filtered.select(\"subreddit\", \"title\", \"selftext\",\"year\",\"month\").cache()\n",
        "df_save.show()"
      ],
      "outputs": [
        {
          "output_type": "display_data",
          "data": {
            "application/vnd.livy.statement-meta+json": {
              "spark_pool": "3c67b279-1d53-4b7a-b0d9-41cb8b4b6723",
              "session_id": "34",
              "statement_id": 11,
              "state": "finished",
              "livy_statement_state": "available",
              "queued_time": "2023-11-16T10:45:17.7607719Z",
              "session_start_time": null,
              "execution_start_time": "2023-11-16T10:47:44.1046801Z",
              "execution_finish_time": "2023-11-16T10:47:52.9968541Z",
              "spark_jobs": {
                "numbers": {
                  "FAILED": 0,
                  "RUNNING": 0,
                  "UNKNOWN": 0,
                  "SUCCEEDED": 1
                },
                "jobs": [
                  {
                    "displayName": "showString at NativeMethodAccessorImpl.java:0",
                    "dataWritten": 0,
                    "dataRead": 43739239,
                    "rowCount": 221807,
                    "usageDescription": "",
                    "jobId": 2,
                    "name": "showString at NativeMethodAccessorImpl.java:0",
                    "description": "Job group for statement 11:\ndf_save = sub_filtered.select(\"subreddit\", \"title\", \"selftext\",\"year\",\"month\").cache()\ndf_save.show()",
                    "submissionTime": "2023-11-16T10:47:45.798GMT",
                    "completionTime": "2023-11-16T10:47:52.241GMT",
                    "stageIds": [
                      2
                    ],
                    "jobGroup": "11",
                    "status": "SUCCEEDED",
                    "numTasks": 1,
                    "numActiveTasks": 0,
                    "numCompletedTasks": 1,
                    "numSkippedTasks": 0,
                    "numFailedTasks": 0,
                    "numKilledTasks": 0,
                    "numCompletedIndices": 1,
                    "numActiveStages": 0,
                    "numCompletedStages": 1,
                    "numSkippedStages": 0,
                    "numFailedStages": 0,
                    "killedTasksSummary": {}
                  }
                ],
                "limit": 20,
                "rule": "ALL_DESC"
              },
              "parent_msg_id": "c5035743-0eb6-4f76-ac52-6148c398d83d"
            },
            "text/plain": "StatementMeta(3c67b279-1d53-4b7a-b0d9-41cb8b4b6723, 34, 11, Finished, Available)"
          },
          "metadata": {}
        },
        {
          "output_type": "stream",
          "name": "stdout",
          "text": "+--------------+--------------------+--------------------+----+-----+\n|     subreddit|               title|            selftext|year|month|\n+--------------+--------------------+--------------------+----+-----+\n|       pokemon|the PokemonTogeth...|So several days a...|2023|    2|\n|       pokemon|Who's a non-villa...|For me, Tyme insp...|2023|    2|\n|       pokemon|i have a realization|&amp;#x200B;\\n\\n[...|2023|    2|\n|          FIFA|Is there any reas...|For the past 10 d...|2023|    2|\n|           GTA|What should I buy...|I have around 5 m...|2023|    2|\n|           GTA|what is the name ...|I know the Nero i...|2023|    2|\n|       pokemon|Name any Bug type...|Ok now we’re doin...|2023|    2|\n|       pokemon|My starters for e...|Gen 1: Charizard ...|2023|    2|\n|       thesims|The Victoria Chal...|\\n\\nI made my own...|2023|    2|\n|       pokemon|I really fucking ...|I feel like it's ...|2023|    2|\n|       thesims|The sim 4 build m...|So whenever I pla...|2023|    2|\n|          FIFA|  flair passes trait|anyone know which...|2023|    2|\n|  legostarwars|Ghtroc 720 build ...|So I'm going to t...|2023|    2|\n|       pokemon|One of the follow...|I came up with th...|2023|    2|\n|       pokemon|Emi's Daily Pokem...|[Art by me!](http...|2023|    2|\n|assassinscreed|Hot Take: Assassi...|AC Unity has been...|2023|    2|\n|  FinalFantasy|Meme Monday has e...|Meme Monday has e...|2023|    2|\n|       pokemon|First time EV tra...|I'm playing throu...|2023|    2|\n|assassinscreed|I made a long ret...|I used to really ...|2023|    2|\n|       pokemon|monotype run for ...|i have had shield...|2023|    2|\n+--------------+--------------------+--------------------+----+-----+\nonly showing top 20 rows\n\n"
        }
      ],
      "execution_count": 22,
      "metadata": {
        "jupyter": {
          "source_hidden": false,
          "outputs_hidden": false
        },
        "nteract": {
          "transient": {
            "deleting": false
          }
        },
        "gather": {
          "logged": 1700131672972
        }
      }
    },
    {
      "cell_type": "markdown",
      "source": [
        "## Using TFIDF to identify the key points for each game "
      ],
      "metadata": {
        "nteract": {
          "transient": {
            "deleting": false
          }
        }
      }
    },
    {
      "cell_type": "code",
      "source": [
        "!pip install spark-nlp"
      ],
      "outputs": [
        {
          "output_type": "display_data",
          "data": {
            "application/vnd.livy.statement-meta+json": {
              "spark_pool": "3c67b279-1d53-4b7a-b0d9-41cb8b4b6723",
              "session_id": "34",
              "statement_id": 12,
              "state": "finished",
              "livy_statement_state": "available",
              "queued_time": "2023-11-16T10:45:17.8857199Z",
              "session_start_time": null,
              "execution_start_time": "2023-11-16T10:47:53.1066227Z",
              "execution_finish_time": "2023-11-16T10:47:59.3280629Z",
              "spark_jobs": {
                "numbers": {
                  "FAILED": 0,
                  "RUNNING": 0,
                  "UNKNOWN": 0,
                  "SUCCEEDED": 0
                },
                "jobs": [],
                "limit": 20,
                "rule": "ALL_DESC"
              },
              "parent_msg_id": "a72a03e1-8056-4445-a68b-ff1cc3fec7d1"
            },
            "text/plain": "StatementMeta(3c67b279-1d53-4b7a-b0d9-41cb8b4b6723, 34, 12, Finished, Available)"
          },
          "metadata": {}
        },
        {
          "output_type": "stream",
          "name": "stdout",
          "text": "Requirement already satisfied: spark-nlp in /home/trusted-service-user/cluster-env/env/lib/python3.8/site-packages (5.1.4)\r\n"
        }
      ],
      "execution_count": 23,
      "metadata": {
        "jupyter": {
          "source_hidden": false,
          "outputs_hidden": false
        },
        "nteract": {
          "transient": {
            "deleting": false
          }
        }
      }
    },
    {
      "cell_type": "code",
      "source": [
        "import pandas as pd\n",
        "import numpy as np\n",
        "import json\n",
        "from pyspark.ml import Pipeline\n",
        "from pyspark.sql import SparkSession\n",
        "import pyspark.sql.functions as F\n",
        "from sparknlp.annotator import *\n",
        "from sparknlp.base import *\n",
        "import sparknlp\n",
        "from sparknlp.pretrained import PretrainedPipeline\n",
        "from pyspark.ml.feature import HashingTF, IDF, Tokenizer as tot, StopWordsRemover"
      ],
      "outputs": [
        {
          "output_type": "display_data",
          "data": {
            "application/vnd.livy.statement-meta+json": {
              "spark_pool": "3c67b279-1d53-4b7a-b0d9-41cb8b4b6723",
              "session_id": "34",
              "statement_id": 13,
              "state": "finished",
              "livy_statement_state": "available",
              "queued_time": "2023-11-16T10:45:17.9617078Z",
              "session_start_time": null,
              "execution_start_time": "2023-11-16T10:47:59.4623423Z",
              "execution_finish_time": "2023-11-16T10:48:00.2461318Z",
              "spark_jobs": {
                "numbers": {
                  "FAILED": 0,
                  "RUNNING": 0,
                  "UNKNOWN": 0,
                  "SUCCEEDED": 0
                },
                "jobs": [],
                "limit": 20,
                "rule": "ALL_DESC"
              },
              "parent_msg_id": "d17d2335-065e-4803-8bc0-eef7ea01b510"
            },
            "text/plain": "StatementMeta(3c67b279-1d53-4b7a-b0d9-41cb8b4b6723, 34, 13, Finished, Available)"
          },
          "metadata": {}
        }
      ],
      "execution_count": 24,
      "metadata": {
        "jupyter": {
          "source_hidden": false,
          "outputs_hidden": false
        },
        "nteract": {
          "transient": {
            "deleting": false
          }
        },
        "gather": {
          "logged": 1700131680181
        }
      }
    },
    {
      "cell_type": "code",
      "source": [
        "# Define the Spark ML components\n",
        "tokenizer_nlp = (\n",
        "    Tokenizer()\n",
        "    .setInputCols([\"document\"])\n",
        "    .setOutputCol(\"tokens_nlp\")\n",
        ")\n",
        "stop_words = (\n",
        "    StopWordsCleaner().pretrained(\"stopwords_iso\",\"en\")\n",
        "    .setInputCols(\"tokens_nlp\")\n",
        "    .setOutputCol(\"cleanTokens\")\n",
        ")\n",
        "\n",
        "documentAssembler = DocumentAssembler()\\\n",
        "    .setInputCol(\"selftext\")\\\n",
        "    .setOutputCol(\"document\")\n",
        "    \n",
        "use = UniversalSentenceEncoder.pretrained(name=\"tfhub_use\", lang=\"en\")\\\n",
        " .setInputCols([\"document\"])\\\n",
        " .setOutputCol(\"sentence_embeddings\")\n",
        "\n",
        "\n",
        "sentimental = SentimentDLModel.pretrained(lang=\"en\")\\\n",
        "    .setInputCols([\"sentence_embeddings\"])\\\n",
        "    .setOutputCol(\"sentiment\")\n",
        "# Create a pipeline\n",
        "pipeline1 = Pipeline(stages=[documentAssembler, use,sentimental])\n",
        "\n",
        "# Fit the pipeline on the data\n",
        "model = pipeline1.fit(df_save)\n",
        "\n",
        "# Transform the data to get TF-IDF features\n",
        "result = model.transform(df_save)\n",
        "result.cache()"
      ],
      "outputs": [
        {
          "output_type": "display_data",
          "data": {
            "application/vnd.livy.statement-meta+json": {
              "spark_pool": "3c67b279-1d53-4b7a-b0d9-41cb8b4b6723",
              "session_id": "34",
              "statement_id": 14,
              "state": "finished",
              "livy_statement_state": "available",
              "queued_time": "2023-11-16T10:45:18.0634171Z",
              "session_start_time": null,
              "execution_start_time": "2023-11-16T10:48:00.3675709Z",
              "execution_finish_time": "2023-11-16T10:49:17.1050865Z",
              "spark_jobs": {
                "numbers": {
                  "FAILED": 0,
                  "RUNNING": 0,
                  "UNKNOWN": 0,
                  "SUCCEEDED": 4
                },
                "jobs": [
                  {
                    "displayName": "first at Feature.scala:182",
                    "dataWritten": 0,
                    "dataRead": 355,
                    "rowCount": 1,
                    "usageDescription": "",
                    "jobId": 6,
                    "name": "first at Feature.scala:182",
                    "description": "Job group for statement 14:\n# Define the Spark ML components\ntokenizer_nlp = (\n    Tokenizer()\n    .setInputCols([\"document\"])\n    .setOutputCol(\"tokens_nlp\")\n)\nstop_words = (\n    StopWordsCleaner().pretrained(\"stopwords_iso\",\"en\")\n    .setInputCols(\"tokens_nlp\")\n    .setOutputCol(\"cleanTokens\")\n)\n\ndocumentAssembler = DocumentAssembler()    .setInputCol(\"selftext\")    .setOutputCol(\"document\")\n    \nuse = UniversalSentenceEncoder.pretrained(name=\"tfhub_use\", lang=\"en\") .setInputCols([\"document\"]) .setOutputCol(\"sentence_embeddings\")\n\n\nsentimental = SentimentDLModel.pretrained(lang=\"en\")    .setInputCols([\"sentence_embeddings\"])    .setOutputCol(\"sentiment\")\n# Create a pipeline\npipeline1 = Pipeline(stages=[documentAssembler, use,sentimental])\n\n# Fit the pipeline on the data\nmodel = pipeline1.fit(df_save)\n\n# Transform the data to get TF-IDF features\nresult = model.transform(df_save)\nresult.cache()",
                    "submissionTime": "2023-11-16T10:49:13.175GMT",
                    "completionTime": "2023-11-16T10:49:13.319GMT",
                    "stageIds": [
                      6
                    ],
                    "jobGroup": "14",
                    "status": "SUCCEEDED",
                    "numTasks": 1,
                    "numActiveTasks": 0,
                    "numCompletedTasks": 1,
                    "numSkippedTasks": 0,
                    "numFailedTasks": 0,
                    "numKilledTasks": 0,
                    "numCompletedIndices": 1,
                    "numActiveStages": 0,
                    "numCompletedStages": 1,
                    "numSkippedStages": 0,
                    "numFailedStages": 0,
                    "killedTasksSummary": {}
                  },
                  {
                    "displayName": "first at ReadWrite.scala:587",
                    "dataWritten": 0,
                    "dataRead": 463,
                    "rowCount": 1,
                    "usageDescription": "",
                    "jobId": 5,
                    "name": "first at ReadWrite.scala:587",
                    "description": "Job group for statement 14:\n# Define the Spark ML components\ntokenizer_nlp = (\n    Tokenizer()\n    .setInputCols([\"document\"])\n    .setOutputCol(\"tokens_nlp\")\n)\nstop_words = (\n    StopWordsCleaner().pretrained(\"stopwords_iso\",\"en\")\n    .setInputCols(\"tokens_nlp\")\n    .setOutputCol(\"cleanTokens\")\n)\n\ndocumentAssembler = DocumentAssembler()    .setInputCol(\"selftext\")    .setOutputCol(\"document\")\n    \nuse = UniversalSentenceEncoder.pretrained(name=\"tfhub_use\", lang=\"en\") .setInputCols([\"document\"]) .setOutputCol(\"sentence_embeddings\")\n\n\nsentimental = SentimentDLModel.pretrained(lang=\"en\")    .setInputCols([\"sentence_embeddings\"])    .setOutputCol(\"sentiment\")\n# Create a pipeline\npipeline1 = Pipeline(stages=[documentAssembler, use,sentimental])\n\n# Fit the pipeline on the data\nmodel = pipeline1.fit(df_save)\n\n# Transform the data to get TF-IDF features\nresult = model.transform(df_save)\nresult.cache()",
                    "submissionTime": "2023-11-16T10:49:12.810GMT",
                    "completionTime": "2023-11-16T10:49:12.977GMT",
                    "stageIds": [
                      5
                    ],
                    "jobGroup": "14",
                    "status": "SUCCEEDED",
                    "numTasks": 1,
                    "numActiveTasks": 0,
                    "numCompletedTasks": 1,
                    "numSkippedTasks": 0,
                    "numFailedTasks": 0,
                    "numKilledTasks": 0,
                    "numCompletedIndices": 1,
                    "numActiveStages": 0,
                    "numCompletedStages": 1,
                    "numSkippedStages": 0,
                    "numFailedStages": 0,
                    "killedTasksSummary": {}
                  },
                  {
                    "displayName": "first at ReadWrite.scala:587",
                    "dataWritten": 0,
                    "dataRead": 346,
                    "rowCount": 1,
                    "usageDescription": "",
                    "jobId": 4,
                    "name": "first at ReadWrite.scala:587",
                    "description": "Job group for statement 14:\n# Define the Spark ML components\ntokenizer_nlp = (\n    Tokenizer()\n    .setInputCols([\"document\"])\n    .setOutputCol(\"tokens_nlp\")\n)\nstop_words = (\n    StopWordsCleaner().pretrained(\"stopwords_iso\",\"en\")\n    .setInputCols(\"tokens_nlp\")\n    .setOutputCol(\"cleanTokens\")\n)\n\ndocumentAssembler = DocumentAssembler()    .setInputCol(\"selftext\")    .setOutputCol(\"document\")\n    \nuse = UniversalSentenceEncoder.pretrained(name=\"tfhub_use\", lang=\"en\") .setInputCols([\"document\"]) .setOutputCol(\"sentence_embeddings\")\n\n\nsentimental = SentimentDLModel.pretrained(lang=\"en\")    .setInputCols([\"sentence_embeddings\"])    .setOutputCol(\"sentiment\")\n# Create a pipeline\npipeline1 = Pipeline(stages=[documentAssembler, use,sentimental])\n\n# Fit the pipeline on the data\nmodel = pipeline1.fit(df_save)\n\n# Transform the data to get TF-IDF features\nresult = model.transform(df_save)\nresult.cache()",
                    "submissionTime": "2023-11-16T10:48:11.968GMT",
                    "completionTime": "2023-11-16T10:48:12.123GMT",
                    "stageIds": [
                      4
                    ],
                    "jobGroup": "14",
                    "status": "SUCCEEDED",
                    "numTasks": 1,
                    "numActiveTasks": 0,
                    "numCompletedTasks": 1,
                    "numSkippedTasks": 0,
                    "numFailedTasks": 0,
                    "numKilledTasks": 0,
                    "numCompletedIndices": 1,
                    "numActiveStages": 0,
                    "numCompletedStages": 1,
                    "numSkippedStages": 0,
                    "numFailedStages": 0,
                    "killedTasksSummary": {}
                  },
                  {
                    "displayName": "first at ReadWrite.scala:587",
                    "dataWritten": 0,
                    "dataRead": 4172,
                    "rowCount": 1,
                    "usageDescription": "",
                    "jobId": 3,
                    "name": "first at ReadWrite.scala:587",
                    "description": "Job group for statement 14:\n# Define the Spark ML components\ntokenizer_nlp = (\n    Tokenizer()\n    .setInputCols([\"document\"])\n    .setOutputCol(\"tokens_nlp\")\n)\nstop_words = (\n    StopWordsCleaner().pretrained(\"stopwords_iso\",\"en\")\n    .setInputCols(\"tokens_nlp\")\n    .setOutputCol(\"cleanTokens\")\n)\n\ndocumentAssembler = DocumentAssembler()    .setInputCol(\"selftext\")    .setOutputCol(\"document\")\n    \nuse = UniversalSentenceEncoder.pretrained(name=\"tfhub_use\", lang=\"en\") .setInputCols([\"document\"]) .setOutputCol(\"sentence_embeddings\")\n\n\nsentimental = SentimentDLModel.pretrained(lang=\"en\")    .setInputCols([\"sentence_embeddings\"])    .setOutputCol(\"sentiment\")\n# Create a pipeline\npipeline1 = Pipeline(stages=[documentAssembler, use,sentimental])\n\n# Fit the pipeline on the data\nmodel = pipeline1.fit(df_save)\n\n# Transform the data to get TF-IDF features\nresult = model.transform(df_save)\nresult.cache()",
                    "submissionTime": "2023-11-16T10:48:06.236GMT",
                    "completionTime": "2023-11-16T10:48:06.637GMT",
                    "stageIds": [
                      3
                    ],
                    "jobGroup": "14",
                    "status": "SUCCEEDED",
                    "numTasks": 1,
                    "numActiveTasks": 0,
                    "numCompletedTasks": 1,
                    "numSkippedTasks": 0,
                    "numFailedTasks": 0,
                    "numKilledTasks": 0,
                    "numCompletedIndices": 1,
                    "numActiveStages": 0,
                    "numCompletedStages": 1,
                    "numSkippedStages": 0,
                    "numFailedStages": 0,
                    "killedTasksSummary": {}
                  }
                ],
                "limit": 20,
                "rule": "ALL_DESC"
              },
              "parent_msg_id": "c5cd364d-dc25-4f98-897b-2fb83940f32a"
            },
            "text/plain": "StatementMeta(3c67b279-1d53-4b7a-b0d9-41cb8b4b6723, 34, 14, Finished, Available)"
          },
          "metadata": {}
        },
        {
          "output_type": "stream",
          "name": "stdout",
          "text": "stopwords_iso download started this may take some time.\nApproximate size to download 2.1 KB\n[OK!]\ntfhub_use download started this may take some time.\nApproximate size to download 923.7 MB\n[OK!]\nsentimentdl_use_imdb download started this may take some time.\nApproximate size to download 12 MB\n[OK!]\n"
        },
        {
          "output_type": "execute_result",
          "execution_count": 27,
          "data": {
            "text/plain": "DataFrame[subreddit: string, title: string, selftext: string, year: int, month: int, document: array<struct<annotatorType:string,begin:int,end:int,result:string,metadata:map<string,string>,embeddings:array<float>>>, sentence_embeddings: array<struct<annotatorType:string,begin:int,end:int,result:string,metadata:map<string,string>,embeddings:array<float>>>, sentiment: array<struct<annotatorType:string,begin:int,end:int,result:string,metadata:map<string,string>,embeddings:array<float>>>]"
          },
          "metadata": {}
        }
      ],
      "execution_count": 25,
      "metadata": {
        "jupyter": {
          "source_hidden": false,
          "outputs_hidden": false
        },
        "nteract": {
          "transient": {
            "deleting": false
          }
        },
        "gather": {
          "logged": 1700131757151
        }
      }
    },
    {
      "cell_type": "code",
      "source": [
        "tokenizer = tot(inputCol=\"selftext\", outputCol=\"tokens\")\n",
        "\n",
        "# StopWordsRemover\n",
        "stopwords_remover = StopWordsRemover(inputCol=\"tokens\", outputCol=\"filtered_tokens\")\n",
        "\n",
        "# HashingTF and IDF\n",
        "hashing_tf = HashingTF(inputCol=\"filtered_tokens\", outputCol=\"rawFeatures\")\n",
        "idf = IDF(inputCol=\"rawFeatures\", outputCol=\"features\")\n",
        "\n",
        "# Pipeline\n",
        "pipeline2 = Pipeline(stages=[tokenizer, stopwords_remover, hashing_tf, idf])\n",
        "\n",
        "# Fit and transform the data\n",
        "model = pipeline2.fit(result)\n",
        "result = model.transform(result)\n",
        "\n"
      ],
      "outputs": [
        {
          "output_type": "display_data",
          "data": {
            "application/vnd.livy.statement-meta+json": {
              "spark_pool": "3c67b279-1d53-4b7a-b0d9-41cb8b4b6723",
              "session_id": "34",
              "statement_id": 18,
              "state": "finished",
              "livy_statement_state": "available",
              "queued_time": "2023-11-16T10:49:35.8529469Z",
              "session_start_time": null,
              "execution_start_time": "2023-11-16T10:49:35.9655504Z",
              "execution_finish_time": "2023-11-16T11:13:06.3928582Z",
              "spark_jobs": {
                "numbers": {
                  "FAILED": 0,
                  "RUNNING": 0,
                  "UNKNOWN": 0,
                  "SUCCEEDED": 1
                },
                "jobs": [
                  {
                    "displayName": "treeAggregate at IDF.scala:55",
                    "dataWritten": 40304988,
                    "dataRead": 76711241720,
                    "rowCount": 890112422,
                    "usageDescription": "",
                    "jobId": 9,
                    "name": "treeAggregate at IDF.scala:55",
                    "description": "Job group for statement 18:\ntokenizer = tot(inputCol=\"selftext\", outputCol=\"tokens\")\n\n# StopWordsRemover\nstopwords_remover = StopWordsRemover(inputCol=\"tokens\", outputCol=\"filtered_tokens\")\n\n# HashingTF and IDF\nhashing_tf = HashingTF(inputCol=\"filtered_tokens\", outputCol=\"rawFeatures\")\nidf = IDF(inputCol=\"rawFeatures\", outputCol=\"features\")\n\n# Pipeline\npipeline2 = Pipeline(stages=[tokenizer, stopwords_remover, hashing_tf, idf])\n\n# Fit and transform the data\nmodel = pipeline2.fit(result)\nresult = model.transform(result)\n\n",
                    "submissionTime": "2023-11-16T10:49:36.237GMT",
                    "completionTime": "2023-11-16T11:13:04.491GMT",
                    "stageIds": [
                      10,
                      11
                    ],
                    "jobGroup": "18",
                    "status": "SUCCEEDED",
                    "numTasks": 3135,
                    "numActiveTasks": 0,
                    "numCompletedTasks": 3135,
                    "numSkippedTasks": 0,
                    "numFailedTasks": 0,
                    "numKilledTasks": 0,
                    "numCompletedIndices": 3135,
                    "numActiveStages": 0,
                    "numCompletedStages": 2,
                    "numSkippedStages": 0,
                    "numFailedStages": 0,
                    "killedTasksSummary": {}
                  }
                ],
                "limit": 20,
                "rule": "ALL_DESC"
              },
              "parent_msg_id": "d9f9856e-3da8-4e30-a057-e87dc26acb68"
            },
            "text/plain": "StatementMeta(3c67b279-1d53-4b7a-b0d9-41cb8b4b6723, 34, 18, Finished, Available)"
          },
          "metadata": {}
        }
      ],
      "execution_count": 29,
      "metadata": {
        "jupyter": {
          "source_hidden": false,
          "outputs_hidden": false
        },
        "nteract": {
          "transient": {
            "deleting": false
          }
        },
        "gather": {
          "logged": 1700133186495
        }
      }
    },
    {
      "cell_type": "code",
      "source": [
        "result.cache().show()"
      ],
      "outputs": [
        {
          "output_type": "display_data",
          "data": {
            "application/vnd.livy.statement-meta+json": {
              "spark_pool": "3c67b279-1d53-4b7a-b0d9-41cb8b4b6723",
              "session_id": "34",
              "statement_id": 19,
              "state": "finished",
              "livy_statement_state": "available",
              "queued_time": "2023-11-16T10:49:39.4769674Z",
              "session_start_time": null,
              "execution_start_time": "2023-11-16T11:13:06.5578415Z",
              "execution_finish_time": "2023-11-16T11:13:08.0491346Z",
              "spark_jobs": {
                "numbers": {
                  "FAILED": 0,
                  "RUNNING": 0,
                  "UNKNOWN": 0,
                  "SUCCEEDED": 1
                },
                "jobs": [
                  {
                    "displayName": "showString at NativeMethodAccessorImpl.java:0",
                    "dataWritten": 0,
                    "dataRead": 215480,
                    "rowCount": 1,
                    "usageDescription": "",
                    "jobId": 10,
                    "name": "showString at NativeMethodAccessorImpl.java:0",
                    "description": "Job group for statement 19:\nresult.cache().show()",
                    "submissionTime": "2023-11-16T11:13:07.343GMT",
                    "completionTime": "2023-11-16T11:13:07.660GMT",
                    "stageIds": [
                      12
                    ],
                    "jobGroup": "19",
                    "status": "SUCCEEDED",
                    "numTasks": 1,
                    "numActiveTasks": 0,
                    "numCompletedTasks": 1,
                    "numSkippedTasks": 0,
                    "numFailedTasks": 0,
                    "numKilledTasks": 0,
                    "numCompletedIndices": 1,
                    "numActiveStages": 0,
                    "numCompletedStages": 1,
                    "numSkippedStages": 0,
                    "numFailedStages": 0,
                    "killedTasksSummary": {}
                  }
                ],
                "limit": 20,
                "rule": "ALL_DESC"
              },
              "parent_msg_id": "79ba51cc-6758-4c78-a1c5-fa69790c09c4"
            },
            "text/plain": "StatementMeta(3c67b279-1d53-4b7a-b0d9-41cb8b4b6723, 34, 19, Finished, Available)"
          },
          "metadata": {}
        },
        {
          "output_type": "stream",
          "name": "stdout",
          "text": "+--------------+--------------------+--------------------+----+-----+--------------------+--------------------+--------------------+--------------------+--------------------+--------------------+--------------------+\n|     subreddit|               title|            selftext|year|month|            document| sentence_embeddings|           sentiment|              tokens|     filtered_tokens|         rawFeatures|            features|\n+--------------+--------------------+--------------------+----+-----+--------------------+--------------------+--------------------+--------------------+--------------------+--------------------+--------------------+\n|       pokemon|the PokemonTogeth...|So several days a...|2023|    2|[{document, 0, 13...|[{sentence_embedd...|[{category, 0, 13...|[so, several, day...|[several, days, a...|(262144,[3888,840...|(262144,[3888,840...|\n|       pokemon|Who's a non-villa...|For me, Tyme insp...|2023|    2|[{document, 0, 66...|[{sentence_embedd...|[{category, 0, 66...|[for, me,, tyme, ...|[me,, tyme, inspi...|(262144,[3421,100...|(262144,[3421,100...|\n|       pokemon|i have a realization|&amp;#x200B;\\n\\n[...|2023|    2|[{document, 0, 18...|[{sentence_embedd...|[{category, 0, 18...|[&amp;#x200b;, , ...|[&amp;#x200b;, , ...|(262144,[58503,13...|(262144,[58503,13...|\n|          FIFA|Is there any reas...|For the past 10 d...|2023|    2|[{document, 0, 63...|[{sentence_embedd...|[{category, 0, 63...|[for, the, past, ...|[past, 10, days, ...|(262144,[1889,230...|(262144,[1889,230...|\n|           GTA|What should I buy...|I have around 5 m...|2023|    2|[{document, 0, 22...|[{sentence_embedd...|[{category, 0, 22...|[i, have, around,...|[around, 5, mil, ...|(262144,[18697,28...|(262144,[18697,28...|\n|           GTA|what is the name ...|I know the Nero i...|2023|    2|[{document, 0, 95...|[{sentence_embedd...|[{category, 0, 95...|[i, know, the, ne...|[know, nero, one,...|(262144,[21823,87...|(262144,[21823,87...|\n|       pokemon|Name any Bug type...|Ok now we’re doin...|2023|    2|[{document, 0, 42...|[{sentence_embedd...|[{category, 0, 42...|[ok, now, we’re, ...|[ok, we’re, worst...|(262144,[10564,39...|(262144,[10564,39...|\n|       pokemon|My starters for e...|Gen 1: Charizard ...|2023|    2|[{document, 0, 30...|[{sentence_embedd...|[{category, 0, 30...|[gen, 1:, chariza...|[gen, 1:, chariza...|(262144,[4959,129...|(262144,[4959,129...|\n|       thesims|The Victoria Chal...|\\n\\nI made my own...|2023|    2|[{document, 0, 43...|[{sentence_embedd...|[{category, 0, 43...|[, , i, made, my,...|[, , made, challe...|(262144,[3436,353...|(262144,[3436,353...|\n|       pokemon|I really fucking ...|I feel like it's ...|2023|    2|[{document, 0, 37...|[{sentence_embedd...|[{category, 0, 37...|[i, feel, like, i...|[feel, like, fuck...|(262144,[8254,208...|(262144,[8254,208...|\n|       thesims|The sim 4 build m...|So whenever I pla...|2023|    2|[{document, 0, 33...|[{sentence_embedd...|[{category, 0, 33...|[so, whenever, i,...|[whenever, play, ...|(262144,[3530,157...|(262144,[3530,157...|\n|          FIFA|  flair passes trait|anyone know which...|2023|    2|[{document, 0, 13...|[{sentence_embedd...|[{category, 0, 13...|[anyone, know, wh...|[anyone, know, pl...|(262144,[21823,28...|(262144,[21823,28...|\n|  legostarwars|Ghtroc 720 build ...|So I'm going to t...|2023|    2|[{document, 0, 41...|[{sentence_embedd...|[{category, 0, 41...|[so, i'm, going, ...|[going, try, make...|(262144,[6821,853...|(262144,[6821,853...|\n|       pokemon|One of the follow...|I came up with th...|2023|    2|[{document, 0, 60...|[{sentence_embedd...|[{category, 0, 60...|[i, came, up, wit...|[came, poll, walk...|(262144,[3184,443...|(262144,[3184,443...|\n|       pokemon|Emi's Daily Pokem...|[Art by me!](http...|2023|    2|[{document, 0, 39...|[{sentence_embedd...|[{category, 0, 39...|[[art, by, me!](h...|[[art, me!](https...|(262144,[980,1578...|(262144,[980,1578...|\n|assassinscreed|Hot Take: Assassi...|AC Unity has been...|2023|    2|[{document, 0, 22...|[{sentence_embedd...|[{category, 0, 22...|[ac, unity, has, ...|[ac, unity, getti...|(262144,[471,1376...|(262144,[471,1376...|\n|  FinalFantasy|Meme Monday has e...|Meme Monday has e...|2023|    2|[{document, 0, 14...|[{sentence_embedd...|[{category, 0, 14...|[meme, monday, ha...|[meme, monday, en...|(262144,[32060,36...|(262144,[32060,36...|\n|       pokemon|First time EV tra...|I'm playing throu...|2023|    2|[{document, 0, 41...|[{sentence_embedd...|[{category, 0, 41...|[i'm, playing, th...|[playing, scarlet...|(262144,[21823,26...|(262144,[21823,26...|\n|assassinscreed|I made a long ret...|I used to really ...|2023|    2|[{document, 0, 16...|[{sentence_embedd...|[{category, 0, 16...|[i, used, to, rea...|[used, really, di...|(262144,[2120,347...|(262144,[2120,347...|\n|       pokemon|monotype run for ...|i have had shield...|2023|    2|[{document, 0, 27...|[{sentence_embedd...|[{category, 0, 27...|[i, have, had, sh...|[shield, 2, years...|(262144,[12524,15...|(262144,[12524,15...|\n+--------------+--------------------+--------------------+----+-----+--------------------+--------------------+--------------------+--------------------+--------------------+--------------------+--------------------+\nonly showing top 20 rows\n\n"
        }
      ],
      "execution_count": 30,
      "metadata": {
        "jupyter": {
          "source_hidden": false,
          "outputs_hidden": false
        },
        "nteract": {
          "transient": {
            "deleting": false
          }
        },
        "gather": {
          "logged": 1700133187986
        }
      }
    },
    {
      "cell_type": "code",
      "source": [
        "result = result.sample(fraction=0.2, seed=42)"
      ],
      "outputs": [
        {
          "output_type": "display_data",
          "data": {
            "application/vnd.livy.statement-meta+json": {
              "spark_pool": "3c67b279-1d53-4b7a-b0d9-41cb8b4b6723",
              "session_id": "34",
              "statement_id": 25,
              "state": "finished",
              "livy_statement_state": "available",
              "queued_time": "2023-11-16T11:20:31.4074337Z",
              "session_start_time": null,
              "execution_start_time": "2023-11-16T11:20:31.5168623Z",
              "execution_finish_time": "2023-11-16T11:20:31.8149478Z",
              "spark_jobs": {
                "numbers": {
                  "FAILED": 0,
                  "RUNNING": 0,
                  "UNKNOWN": 0,
                  "SUCCEEDED": 0
                },
                "jobs": [],
                "limit": 20,
                "rule": "ALL_DESC"
              },
              "parent_msg_id": "38876cd0-9cd6-47f2-bd7b-0f1a5e074db7"
            },
            "text/plain": "StatementMeta(3c67b279-1d53-4b7a-b0d9-41cb8b4b6723, 34, 25, Finished, Available)"
          },
          "metadata": {}
        }
      ],
      "execution_count": 36,
      "metadata": {
        "jupyter": {
          "source_hidden": false,
          "outputs_hidden": false
        },
        "nteract": {
          "transient": {
            "deleting": false
          }
        },
        "gather": {
          "logged": 1700133631732
        }
      }
    },
    {
      "cell_type": "code",
      "source": [
        "from pyspark.sql import functions as f\n",
        "from pyspark.sql.types import MapType, StringType,ArrayType, IntegerType\n",
        "ndf = result.select(\"subreddit\",f.explode('filtered_tokens').name('expwords'),\"rawFeatures\",\"year\",\"month\",\"sentiment\").withColumn('filtered_tokens',f.array('expwords'))\n",
        "hashudf = f.udf(lambda vector: vector.indices.tolist(),ArrayType(IntegerType()))\n",
        "ndf = ndf.withColumn(\"row_index\", f.monotonically_increasing_id())\n",
        "ndf.show()"
      ],
      "outputs": [
        {
          "output_type": "display_data",
          "data": {
            "application/vnd.livy.statement-meta+json": {
              "spark_pool": "3c67b279-1d53-4b7a-b0d9-41cb8b4b6723",
              "session_id": "34",
              "statement_id": 26,
              "state": "finished",
              "livy_statement_state": "available",
              "queued_time": "2023-11-16T11:20:35.7571331Z",
              "session_start_time": null,
              "execution_start_time": "2023-11-16T11:20:35.8852113Z",
              "execution_finish_time": "2023-11-16T11:20:36.7041799Z",
              "spark_jobs": {
                "numbers": {
                  "FAILED": 0,
                  "RUNNING": 0,
                  "UNKNOWN": 0,
                  "SUCCEEDED": 1
                },
                "jobs": [
                  {
                    "displayName": "showString at NativeMethodAccessorImpl.java:0",
                    "dataWritten": 0,
                    "dataRead": 381392,
                    "rowCount": 1,
                    "usageDescription": "",
                    "jobId": 17,
                    "name": "showString at NativeMethodAccessorImpl.java:0",
                    "description": "Job group for statement 26:\nfrom pyspark.sql import functions as f\nfrom pyspark.sql.types import MapType, StringType,ArrayType, IntegerType\nndf = result.select(\"subreddit\",f.explode('filtered_tokens').name('expwords'),\"rawFeatures\",\"year\",\"month\",\"sentiment\").withColumn('filtered_tokens',f.array('expwords'))\nhashudf = f.udf(lambda vector: vector.indices.tolist(),ArrayType(IntegerType()))\nndf = ndf.withColumn(\"row_index\", f.monotonically_increasing_id())\nndf.show()",
                    "submissionTime": "2023-11-16T11:20:36.181GMT",
                    "completionTime": "2023-11-16T11:20:36.340GMT",
                    "stageIds": [
                      19
                    ],
                    "jobGroup": "26",
                    "status": "SUCCEEDED",
                    "numTasks": 1,
                    "numActiveTasks": 0,
                    "numCompletedTasks": 1,
                    "numSkippedTasks": 0,
                    "numFailedTasks": 0,
                    "numKilledTasks": 0,
                    "numCompletedIndices": 1,
                    "numActiveStages": 0,
                    "numCompletedStages": 1,
                    "numSkippedStages": 0,
                    "numFailedStages": 0,
                    "killedTasksSummary": {}
                  }
                ],
                "limit": 20,
                "rule": "ALL_DESC"
              },
              "parent_msg_id": "db995bd3-fd11-4dbe-b90a-0e05310f9491"
            },
            "text/plain": "StatementMeta(3c67b279-1d53-4b7a-b0d9-41cb8b4b6723, 34, 26, Finished, Available)"
          },
          "metadata": {}
        },
        {
          "output_type": "stream",
          "name": "stdout",
          "text": "+---------+----------+--------------------+----+-----+--------------------+---------------+---------+\n|subreddit|  expwords|         rawFeatures|year|month|           sentiment|filtered_tokens|row_index|\n+---------+----------+--------------------+----+-----+--------------------+---------------+---------+\n|  pokemon|       gen|(262144,[4959,129...|2023|    2|[{category, 0, 30...|          [gen]|        0|\n|  pokemon|        1:|(262144,[4959,129...|2023|    2|[{category, 0, 30...|           [1:]|        1|\n|  pokemon| charizard|(262144,[4959,129...|2023|    2|[{category, 0, 30...|    [charizard]|        2|\n|  pokemon|     🔥🕊️|(262144,[4959,129...|2023|    2|[{category, 0, 30...|        [🔥🕊️]|        3|\n|  pokemon|       gen|(262144,[4959,129...|2023|    2|[{category, 0, 30...|          [gen]|        4|\n|  pokemon|        2:|(262144,[4959,129...|2023|    2|[{category, 0, 30...|           [2:]|        5|\n|  pokemon|typhlosion|(262144,[4959,129...|2023|    2|[{category, 0, 30...|   [typhlosion]|        6|\n|  pokemon|        🔥|(262144,[4959,129...|2023|    2|[{category, 0, 30...|           [🔥]|        7|\n|  pokemon|       gen|(262144,[4959,129...|2023|    2|[{category, 0, 30...|          [gen]|        8|\n|  pokemon|        3:|(262144,[4959,129...|2023|    2|[{category, 0, 30...|           [3:]|        9|\n|  pokemon|  blaziken|(262144,[4959,129...|2023|    2|[{category, 0, 30...|     [blaziken]|       10|\n|  pokemon|      🔥👊|(262144,[4959,129...|2023|    2|[{category, 0, 30...|         [🔥👊]|       11|\n|  pokemon|       gen|(262144,[4959,129...|2023|    2|[{category, 0, 30...|          [gen]|       12|\n|  pokemon|        4:|(262144,[4959,129...|2023|    2|[{category, 0, 30...|           [4:]|       13|\n|  pokemon| infernape|(262144,[4959,129...|2023|    2|[{category, 0, 30...|    [infernape]|       14|\n|  pokemon|      🔥👊|(262144,[4959,129...|2023|    2|[{category, 0, 30...|         [🔥👊]|       15|\n|  pokemon|       gen|(262144,[4959,129...|2023|    2|[{category, 0, 30...|          [gen]|       16|\n|  pokemon|        5:|(262144,[4959,129...|2023|    2|[{category, 0, 30...|           [5:]|       17|\n|  pokemon|  samurott|(262144,[4959,129...|2023|    2|[{category, 0, 30...|     [samurott]|       18|\n|  pokemon|        💧|(262144,[4959,129...|2023|    2|[{category, 0, 30...|           [💧]|       19|\n+---------+----------+--------------------+----+-----+--------------------+---------------+---------+\nonly showing top 20 rows\n\n"
        }
      ],
      "execution_count": 37,
      "metadata": {
        "jupyter": {
          "source_hidden": false,
          "outputs_hidden": false
        },
        "nteract": {
          "transient": {
            "deleting": false
          }
        },
        "gather": {
          "logged": 1700133636631
        }
      }
    },
    {
      "cell_type": "code",
      "source": [
        "wordtf = result.select(\"rawFeatures\").withColumn('wordhash', hashudf(col('rawFeatures')))\n",
        "wordtf = wordtf.withColumn(\"row_index\", f.monotonically_increasing_id())\n",
        "wordtf = wordtf.withColumn('wordhash',f.explode(\"wordhash\"))\n",
        "wordtf.cache()\n",
        "# Add the exploded column directly to 'ndf' using crossJoin\n"
      ],
      "outputs": [
        {
          "output_type": "display_data",
          "data": {
            "application/vnd.livy.statement-meta+json": {
              "spark_pool": "3c67b279-1d53-4b7a-b0d9-41cb8b4b6723",
              "session_id": "34",
              "statement_id": 27,
              "state": "finished",
              "livy_statement_state": "available",
              "queued_time": "2023-11-16T11:20:41.5571002Z",
              "session_start_time": null,
              "execution_start_time": "2023-11-16T11:20:41.6910149Z",
              "execution_finish_time": "2023-11-16T11:20:42.0033154Z",
              "spark_jobs": {
                "numbers": {
                  "FAILED": 0,
                  "RUNNING": 0,
                  "UNKNOWN": 0,
                  "SUCCEEDED": 0
                },
                "jobs": [],
                "limit": 20,
                "rule": "ALL_DESC"
              },
              "parent_msg_id": "2c3274cc-eec4-401d-a404-85788631d8ea"
            },
            "text/plain": "StatementMeta(3c67b279-1d53-4b7a-b0d9-41cb8b4b6723, 34, 27, Finished, Available)"
          },
          "metadata": {}
        },
        {
          "output_type": "execute_result",
          "execution_count": 53,
          "data": {
            "text/plain": "DataFrame[rawFeatures: vector, wordhash: int, row_index: bigint]"
          },
          "metadata": {}
        }
      ],
      "execution_count": 38,
      "metadata": {
        "jupyter": {
          "source_hidden": false,
          "outputs_hidden": false
        },
        "nteract": {
          "transient": {
            "deleting": false
          }
        },
        "gather": {
          "logged": 1700133641948
        }
      }
    },
    {
      "cell_type": "code",
      "source": [
        "result_df = ndf.join(wordtf,[\"row_index\"],\"left_outer\")"
      ],
      "outputs": [
        {
          "output_type": "display_data",
          "data": {
            "application/vnd.livy.statement-meta+json": {
              "spark_pool": "3c67b279-1d53-4b7a-b0d9-41cb8b4b6723",
              "session_id": "34",
              "statement_id": 28,
              "state": "finished",
              "livy_statement_state": "available",
              "queued_time": "2023-11-16T11:21:25.3323586Z",
              "session_start_time": null,
              "execution_start_time": "2023-11-16T11:21:25.4545567Z",
              "execution_finish_time": "2023-11-16T11:21:25.795303Z",
              "spark_jobs": {
                "numbers": {
                  "FAILED": 0,
                  "RUNNING": 0,
                  "UNKNOWN": 0,
                  "SUCCEEDED": 0
                },
                "jobs": [],
                "limit": 20,
                "rule": "ALL_DESC"
              },
              "parent_msg_id": "91da91f2-966a-4140-8f69-5a9bb9bcb15d"
            },
            "text/plain": "StatementMeta(3c67b279-1d53-4b7a-b0d9-41cb8b4b6723, 34, 28, Finished, Available)"
          },
          "metadata": {}
        }
      ],
      "execution_count": 39,
      "metadata": {
        "jupyter": {
          "source_hidden": false,
          "outputs_hidden": false
        },
        "nteract": {
          "transient": {
            "deleting": false
          }
        },
        "gather": {
          "logged": 1700133685720
        }
      }
    },
    {
      "cell_type": "code",
      "source": [
        "result_df.cache()\n",
        "result_df.select(\"subreddit\",\"expwords\",\"year\",\"month\",\"sentiment\",\"wordhash\")"
      ],
      "outputs": [
        {
          "output_type": "display_data",
          "data": {
            "application/vnd.livy.statement-meta+json": {
              "spark_pool": "3c67b279-1d53-4b7a-b0d9-41cb8b4b6723",
              "session_id": "34",
              "statement_id": 31,
              "state": "finished",
              "livy_statement_state": "available",
              "queued_time": "2023-11-16T11:25:19.1803753Z",
              "session_start_time": null,
              "execution_start_time": "2023-11-16T11:25:19.2885858Z",
              "execution_finish_time": "2023-11-16T11:25:19.62201Z",
              "spark_jobs": {
                "numbers": {
                  "FAILED": 0,
                  "RUNNING": 0,
                  "UNKNOWN": 0,
                  "SUCCEEDED": 0
                },
                "jobs": [],
                "limit": 20,
                "rule": "ALL_DESC"
              },
              "parent_msg_id": "80d83379-6a1c-4080-87d4-a4cdb90a796f"
            },
            "text/plain": "StatementMeta(3c67b279-1d53-4b7a-b0d9-41cb8b4b6723, 34, 31, Finished, Available)"
          },
          "metadata": {}
        },
        {
          "output_type": "execute_result",
          "execution_count": 61,
          "data": {
            "text/plain": "DataFrame[subreddit: string, expwords: string, year: int, month: int, sentiment: array<struct<annotatorType:string,begin:int,end:int,result:string,metadata:map<string,string>,embeddings:array<float>>>, wordhash: int]"
          },
          "metadata": {}
        }
      ],
      "execution_count": 42,
      "metadata": {
        "jupyter": {
          "source_hidden": false,
          "outputs_hidden": false
        },
        "nteract": {
          "transient": {
            "deleting": false
          }
        },
        "gather": {
          "logged": 1700133919568
        }
      }
    },
    {
      "cell_type": "code",
      "source": [
        "udf1 = f.udf(lambda vec : dict(zip(vec.indices.tolist(),vec.values.tolist())),MapType(StringType(),StringType()))\n",
        "valuedf = result.select('subreddit',\"filtered_tokens\",\"year\",\"month\",\"sentiment\",f.explode(udf1(f.col('features'))).name('wordhash','value'))\n",
        "valuedf = valuedf.withColumn(\"sentiment\",f.explode(\"sentiment.result\"))\n",
        "valuedf.show()"
      ],
      "outputs": [
        {
          "output_type": "display_data",
          "data": {
            "application/vnd.livy.statement-meta+json": {
              "spark_pool": "3c67b279-1d53-4b7a-b0d9-41cb8b4b6723",
              "session_id": "34",
              "statement_id": 36,
              "state": "finished",
              "livy_statement_state": "available",
              "queued_time": "2023-11-16T11:43:07.6492253Z",
              "session_start_time": null,
              "execution_start_time": "2023-11-16T11:43:07.8041378Z",
              "execution_finish_time": "2023-11-16T11:43:09.3126611Z",
              "spark_jobs": {
                "numbers": {
                  "FAILED": 0,
                  "RUNNING": 0,
                  "UNKNOWN": 0,
                  "SUCCEEDED": 0
                },
                "jobs": [],
                "limit": 20,
                "rule": "ALL_DESC"
              },
              "parent_msg_id": "371a5faf-db3d-4bd7-bc8d-130b561bccc6"
            },
            "text/plain": "StatementMeta(3c67b279-1d53-4b7a-b0d9-41cb8b4b6723, 34, 36, Finished, Available)"
          },
          "metadata": {}
        },
        {
          "output_type": "stream",
          "name": "stdout",
          "text": "+---------+--------------------+----+-----+---------+--------+------------------+\n|subreddit|     filtered_tokens|year|month|sentiment|wordhash|             value|\n+---------+--------------------+----+-----+---------+--------+------------------+\n|  pokemon|[gen, 1:, chariza...|2023|    2|      pos|  139265| 9.740140549187382|\n|  pokemon|[gen, 1:, chariza...|2023|    2|      pos|   88005| 5.463474430171326|\n|  pokemon|[gen, 1:, chariza...|2023|    2|      pos|  215686| 6.332122839048911|\n|  pokemon|[gen, 1:, chariza...|2023|    2|      pos|  114628|10.992903517682748|\n|  pokemon|[gen, 1:, chariza...|2023|    2|      pos|   63750| 7.041659799101322|\n|  pokemon|[gen, 1:, chariza...|2023|    2|      pos|   80646| 20.59951267424561|\n|  pokemon|[gen, 1:, chariza...|2023|    2|      pos|   12999|10.992903517682748|\n|  pokemon|[gen, 1:, chariza...|2023|    2|      pos|  186058| 5.152261860309351|\n|  pokemon|[gen, 1:, chariza...|2023|    2|      pos|  113673|2.5955078897221076|\n|  pokemon|[gen, 1:, chariza...|2023|    2|      pos|  152651|  7.76407736196138|\n|  pokemon|[gen, 1:, chariza...|2023|    2|      pos|  153551| 19.34229535540086|\n|  pokemon|[gen, 1:, chariza...|2023|    2|      pos|   62030| 9.228105951733017|\n|  pokemon|[gen, 1:, chariza...|2023|    2|      pos|   31064| 6.471114940633709|\n|  pokemon|[gen, 1:, chariza...|2023|    2|      pos|  215514|6.2328686211337425|\n|  pokemon|[gen, 1:, chariza...|2023|    2|      pos|  110813|  2.45101771367614|\n|  pokemon|[gen, 1:, chariza...|2023|    2|      pos|   98717| 2.479417188197838|\n|  pokemon|[gen, 1:, chariza...|2023|    2|      pos|   29214| 6.138922033631871|\n|  pokemon|[gen, 1:, chariza...|2023|    2|      pos|  249180|0.5217682340853889|\n|  pokemon|[gen, 1:, chariza...|2023|    2|      pos|    4959|4.4497113554883505|\n|  pokemon|[gen, 1:, chariza...|2023|    2|      pos|  123426| 5.801336521081593|\n+---------+--------------------+----+-----+---------+--------+------------------+\nonly showing top 20 rows\n\n"
        }
      ],
      "execution_count": 47,
      "metadata": {
        "jupyter": {
          "source_hidden": false,
          "outputs_hidden": false
        },
        "nteract": {
          "transient": {
            "deleting": false
          }
        },
        "gather": {
          "logged": 1700134989254
        }
      }
    },
    {
      "cell_type": "code",
      "source": [
        "valuedf = valuedf.drop_duplicates(subset=[\"subreddit\",\"wordhash\"])"
      ],
      "outputs": [
        {
          "output_type": "display_data",
          "data": {
            "application/vnd.livy.statement-meta+json": {
              "spark_pool": "3c67b279-1d53-4b7a-b0d9-41cb8b4b6723",
              "session_id": "34",
              "statement_id": 38,
              "state": "finished",
              "livy_statement_state": "available",
              "queued_time": "2023-11-16T11:46:10.1396779Z",
              "session_start_time": null,
              "execution_start_time": "2023-11-16T11:46:10.2543451Z",
              "execution_finish_time": "2023-11-16T11:46:10.5786422Z",
              "spark_jobs": {
                "numbers": {
                  "FAILED": 0,
                  "RUNNING": 0,
                  "UNKNOWN": 0,
                  "SUCCEEDED": 0
                },
                "jobs": [],
                "limit": 20,
                "rule": "ALL_DESC"
              },
              "parent_msg_id": "2d88c823-4825-407b-9180-2931739a3ee3"
            },
            "text/plain": "StatementMeta(3c67b279-1d53-4b7a-b0d9-41cb8b4b6723, 34, 38, Finished, Available)"
          },
          "metadata": {}
        }
      ],
      "execution_count": 49,
      "metadata": {
        "jupyter": {
          "source_hidden": false,
          "outputs_hidden": false
        },
        "nteract": {
          "transient": {
            "deleting": false
          }
        },
        "gather": {
          "logged": 1700135170488
        }
      }
    },
    {
      "cell_type": "code",
      "source": [
        "valuedf.cache()\n",
        "import os\n",
        "CSV_DIR = os.path.join(\"Users/yc1063/fall-2023-reddit-project-team-11/data\", \"csv\")\n",
        "valuedf.toPandas().to_csv(f\"{CSV_DIR}/analysis-2.csv\")"
      ],
      "outputs": [
        {
          "output_type": "display_data",
          "data": {
            "application/vnd.livy.statement-meta+json": {
              "spark_pool": "3c67b279-1d53-4b7a-b0d9-41cb8b4b6723",
              "session_id": "34",
              "statement_id": 39,
              "state": "submitted",
              "livy_statement_state": "running",
              "queued_time": "2023-11-16T11:46:15.2932564Z",
              "session_start_time": null,
              "execution_start_time": "2023-11-16T11:46:15.4216838Z",
              "execution_finish_time": null,
              "spark_jobs": {
                "numbers": {
                  "FAILED": 0,
                  "RUNNING": 0,
                  "UNKNOWN": 0,
                  "SUCCEEDED": 0
                },
                "jobs": [],
                "limit": 20,
                "rule": "ALL_DESC"
              },
              "parent_msg_id": "de45e2eb-810f-4b1e-a631-0099ab02b29a"
            },
            "text/plain": "StatementMeta(3c67b279-1d53-4b7a-b0d9-41cb8b4b6723, 34, 39, Submitted, Running)"
          },
          "metadata": {}
        }
      ],
      "execution_count": 50,
      "metadata": {
        "jupyter": {
          "source_hidden": false,
          "outputs_hidden": false
        },
        "nteract": {
          "transient": {
            "deleting": false
          }
        },
        "gather": {
          "logged": 1700135130854
        }
      }
    },
    {
      "cell_type": "code",
      "source": [
        "result_df = result_df.join(valuedf,['subreddit','wordhash'],\"right_outer\").cache()\n",
        "result_df.show()"
      ],
      "outputs": [
        {
          "output_type": "display_data",
          "data": {
            "application/vnd.livy.statement-meta+json": {
              "spark_pool": "3c67b279-1d53-4b7a-b0d9-41cb8b4b6723",
              "session_id": "34",
              "statement_id": 33,
              "state": "cancelled",
              "livy_statement_state": "waiting",
              "queued_time": "2023-11-16T11:25:52.5189687Z",
              "session_start_time": null,
              "execution_start_time": "2023-11-16T11:25:52.6183166Z",
              "execution_finish_time": "2023-11-16T11:41:03.4114082Z",
              "spark_jobs": {
                "numbers": {
                  "FAILED": 0,
                  "RUNNING": 1,
                  "UNKNOWN": 0,
                  "SUCCEEDED": 0
                },
                "jobs": [
                  {
                    "displayName": "showString at NativeMethodAccessorImpl.java:0",
                    "dataWritten": 31101673,
                    "dataRead": 482495720,
                    "rowCount": 482509,
                    "usageDescription": "",
                    "jobId": 21,
                    "name": "showString at NativeMethodAccessorImpl.java:0",
                    "description": "Job group for statement 33:\nresult_df = result_df.join(valuedf,['subreddit','wordhash'],\"right_outer\").cache()\nresult_df.show()",
                    "submissionTime": "2023-11-16T11:25:53.251GMT",
                    "stageIds": [
                      24,
                      25,
                      23
                    ],
                    "jobGroup": "33",
                    "status": "RUNNING",
                    "numTasks": 6161,
                    "numActiveTasks": 9,
                    "numCompletedTasks": 822,
                    "numSkippedTasks": 0,
                    "numFailedTasks": 0,
                    "numKilledTasks": 0,
                    "numCompletedIndices": 784,
                    "numActiveStages": 2,
                    "numCompletedStages": 0,
                    "numSkippedStages": 0,
                    "numFailedStages": 0,
                    "killedTasksSummary": {}
                  }
                ],
                "limit": 20,
                "rule": "ALL_DESC"
              },
              "parent_msg_id": "037a9b2e-190b-40ba-ac91-9555ef701e21"
            },
            "text/plain": "StatementMeta(3c67b279-1d53-4b7a-b0d9-41cb8b4b6723, 34, 33, Cancelled, Waiting)"
          },
          "metadata": {}
        }
      ],
      "execution_count": 44,
      "metadata": {
        "jupyter": {
          "source_hidden": false,
          "outputs_hidden": false
        },
        "nteract": {
          "transient": {
            "deleting": false
          }
        },
        "gather": {
          "logged": 1700134863189
        }
      }
    },
    {
      "cell_type": "code",
      "source": [
        "result_without_duplicates = joined_df.dropDuplicates()\n",
        "\n",
        "# Show the resulting DataFrame without duplicates\n",
        "result_without_duplicates.cache().show()"
      ],
      "outputs": [
        {
          "output_type": "display_data",
          "data": {
            "application/vnd.livy.statement-meta+json": {
              "spark_pool": null,
              "session_id": null,
              "statement_id": null,
              "state": "cancelled",
              "livy_statement_state": null,
              "queued_time": "2023-11-16T10:45:12.5979973Z",
              "session_start_time": null,
              "execution_start_time": null,
              "execution_finish_time": "2023-11-16T10:45:12.9206553Z",
              "spark_jobs": null,
              "parent_msg_id": "a5a1a7e7-a23b-407d-baef-9e595c7aaed3"
            },
            "text/plain": "StatementMeta(, , , Cancelled, )"
          },
          "metadata": {}
        }
      ],
      "execution_count": null,
      "metadata": {
        "jupyter": {
          "source_hidden": false,
          "outputs_hidden": false
        },
        "nteract": {
          "transient": {
            "deleting": false
          }
        },
        "gather": {
          "logged": 1700131513095
        }
      }
    },
    {
      "cell_type": "markdown",
      "source": [
        "### Saving intermediate data"
      ],
      "metadata": {
        "nteract": {
          "transient": {
            "deleting": false
          }
        }
      }
    },
    {
      "cell_type": "markdown",
      "source": [
        "The intermediate outputs go into the azureml workspace attached storage using the URI `azureml://datastores/workspaceblobstore/paths/<PATH-TO_STORE>` this is the same for all workspaces. Then to re-load you use the same URI"
      ],
      "metadata": {
        "nteract": {
          "transient": {
            "deleting": false
          }
        }
      }
    },
    {
      "cell_type": "code",
      "source": [
        "import os\n",
        "CSV_DIR = os.path.join(\"Users/yc1063/fall-2023-reddit-project-team-11/data\", \"csv\")\n",
        "joined_df.write.parquet(f\"{CSV_DIR}/sentiment_tfidf.csv\")"
      ],
      "outputs": [
        {
          "output_type": "display_data",
          "data": {
            "application/vnd.livy.statement-meta+json": {
              "spark_pool": null,
              "session_id": null,
              "statement_id": null,
              "state": "cancelled",
              "livy_statement_state": null,
              "queued_time": "2023-11-16T10:45:12.7362793Z",
              "session_start_time": null,
              "execution_start_time": null,
              "execution_finish_time": "2023-11-16T10:45:12.9215424Z",
              "spark_jobs": null,
              "parent_msg_id": "c9830651-a4e1-4a45-a5b6-3fad91ba3e26"
            },
            "text/plain": "StatementMeta(, , , Cancelled, )"
          },
          "metadata": {}
        }
      ],
      "execution_count": null,
      "metadata": {
        "jupyter": {
          "source_hidden": false,
          "outputs_hidden": false
        },
        "nteract": {
          "transient": {
            "deleting": false
          }
        },
        "gather": {
          "logged": 1700131513110
        }
      }
    }
  ],
  "metadata": {
    "application/vnd.databricks.v1+notebook": {
      "dashboards": [],
      "language": "python",
      "notebookMetadata": {
        "pythonIndentUnit": 4
      },
      "notebookName": "Comments JSON to Parquet",
      "widgets": {}
    },
    "microsoft": {
      "ms_spell_check": {
        "ms_spell_check_language": "en"
      },
      "host": {
        "AzureML": {
          "notebookHasBeenCompleted": true
        }
      }
    },
    "language_info": {
      "name": "python",
      "version": "3.8.0",
      "mimetype": "text/x-python",
      "file_extension": ".py",
      "pygments_lexer": "ipython",
      "codemirror_mode": "ipython",
      "nbconvert_exporter": "python"
    },
    "kernelspec": {
      "name": "synapse_pyspark",
      "language": "Python",
      "display_name": "Synapse PySpark"
    },
    "kernel_info": {
      "name": "synapse_pyspark"
    },
    "nteract": {
      "version": "nteract-front-end@1.0.0"
    }
  },
  "nbformat": 4,
  "nbformat_minor": 0
}