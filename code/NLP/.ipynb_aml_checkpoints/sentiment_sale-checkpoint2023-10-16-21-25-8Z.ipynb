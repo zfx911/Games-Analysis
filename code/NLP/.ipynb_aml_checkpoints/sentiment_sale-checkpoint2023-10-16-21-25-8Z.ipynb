{
  "cells": [
    {
      "cell_type": "code",
      "source": [
        "spark"
      ],
      "outputs": [
        {
          "output_type": "display_data",
          "data": {
            "application/vnd.livy.statement-meta+json": {
              "spark_pool": "3c67b279-1d53-4b7a-b0d9-41cb8b4b6723",
              "session_id": "39",
              "statement_id": 6,
              "state": "finished",
              "livy_statement_state": "available",
              "queued_time": "2023-11-16T19:00:43.1583301Z",
              "session_start_time": "2023-11-16T19:00:43.2058844Z",
              "execution_start_time": "2023-11-16T19:03:17.4926165Z",
              "execution_finish_time": "2023-11-16T19:03:20.637667Z",
              "spark_jobs": {
                "numbers": {
                  "FAILED": 0,
                  "SUCCEEDED": 0,
                  "RUNNING": 0,
                  "UNKNOWN": 0
                },
                "jobs": [],
                "limit": 20,
                "rule": "ALL_DESC"
              },
              "parent_msg_id": "39c53377-ef6d-4e49-9b18-e6f49cc78f7c"
            },
            "text/plain": "StatementMeta(3c67b279-1d53-4b7a-b0d9-41cb8b4b6723, 39, 6, Finished, Available)"
          },
          "metadata": {}
        },
        {
          "output_type": "execute_result",
          "execution_count": 11,
          "data": {
            "text/plain": "<pyspark.sql.session.SparkSession at 0x7f3022e338e0>",
            "text/html": "\n            <div>\n                <p><b>SparkSession - hive</b></p>\n                \n        <div>\n            <p><b>SparkContext</b></p>\n\n            <p><a href=\"http://vm-0ea99119:43009\">Spark UI</a></p>\n\n            <dl>\n              <dt>Version</dt>\n                <dd><code>v3.2.2.5.1-100879434</code></dd>\n              <dt>Master</dt>\n                <dd><code>yarn</code></dd>\n              <dt>AppName</dt>\n                <dd><code>Azure ML Experiment</code></dd>\n            </dl>\n        </div>\n        \n            </div>\n        "
          },
          "metadata": {}
        }
      ],
      "execution_count": 1,
      "metadata": {
        "gather": {
          "logged": 1700161401715
        }
      }
    },
    {
      "cell_type": "markdown",
      "source": [
        "# Set up data configuration"
      ],
      "metadata": {
        "nteract": {
          "transient": {
            "deleting": false
          }
        }
      }
    },
    {
      "cell_type": "code",
      "source": [
        "blob_account_name = \"marckvnonprodblob\"\n",
        "blob_container_name = \"bigdata\"\n",
        "# read only\n",
        "blob_sas_token = \"?sv=2021-10-04&st=2023-10-04T01%3A42%3A59Z&se=2024-01-02T02%3A42%3A00Z&sr=c&sp=rlf&sig=w3CH9MbCOpwO7DtHlrahc7AlRPxSZZb8MOgS6TaXLzI%3D\"\n",
        "\n",
        "wasbs_base_url = (\n",
        "    f\"wasbs://{blob_container_name}@{blob_account_name}.blob.core.windows.net/\"\n",
        ")\n",
        "spark.conf.set(\n",
        "    f\"fs.azure.sas.{blob_container_name}.{blob_account_name}.blob.core.windows.net\",\n",
        "    blob_sas_token,\n",
        ")"
      ],
      "outputs": [
        {
          "output_type": "display_data",
          "data": {
            "application/vnd.livy.statement-meta+json": {
              "spark_pool": "3c67b279-1d53-4b7a-b0d9-41cb8b4b6723",
              "session_id": "40",
              "statement_id": 14,
              "state": "finished",
              "livy_statement_state": "available",
              "queued_time": "2023-11-16T19:17:28.7155765Z",
              "session_start_time": null,
              "execution_start_time": "2023-11-16T19:17:28.8202719Z",
              "execution_finish_time": "2023-11-16T19:17:29.1142693Z",
              "spark_jobs": {
                "numbers": {
                  "FAILED": 0,
                  "SUCCEEDED": 0,
                  "RUNNING": 0,
                  "UNKNOWN": 0
                },
                "jobs": [],
                "limit": 20,
                "rule": "ALL_DESC"
              },
              "parent_msg_id": "bdd1298e-bde9-4faa-8fa8-dd5681676428"
            },
            "text/plain": "StatementMeta(3c67b279-1d53-4b7a-b0d9-41cb8b4b6723, 40, 14, Finished, Available)"
          },
          "metadata": {}
        }
      ],
      "execution_count": 17,
      "metadata": {
        "jupyter": {
          "source_hidden": false,
          "outputs_hidden": false
        },
        "nteract": {
          "transient": {
            "deleting": false
          }
        },
        "gather": {
          "logged": 1700162250194
        }
      }
    },
    {
      "cell_type": "markdown",
      "source": [
        "# Reading in single parquet file"
      ],
      "metadata": {
        "nteract": {
          "transient": {
            "deleting": false
          }
        }
      }
    },
    {
      "cell_type": "code",
      "source": [
        "submissions_path = \"reddit-parquet/submissions/\""
      ],
      "outputs": [
        {
          "output_type": "display_data",
          "data": {
            "application/vnd.livy.statement-meta+json": {
              "spark_pool": "3c67b279-1d53-4b7a-b0d9-41cb8b4b6723",
              "session_id": "40",
              "statement_id": 15,
              "state": "finished",
              "livy_statement_state": "available",
              "queued_time": "2023-11-16T19:17:31.5886732Z",
              "session_start_time": null,
              "execution_start_time": "2023-11-16T19:17:31.6905196Z",
              "execution_finish_time": "2023-11-16T19:17:32.015325Z",
              "spark_jobs": {
                "numbers": {
                  "FAILED": 0,
                  "SUCCEEDED": 0,
                  "RUNNING": 0,
                  "UNKNOWN": 0
                },
                "jobs": [],
                "limit": 20,
                "rule": "ALL_DESC"
              },
              "parent_msg_id": "83d8066d-9db4-4044-befb-0eafd8937c0a"
            },
            "text/plain": "StatementMeta(3c67b279-1d53-4b7a-b0d9-41cb8b4b6723, 40, 15, Finished, Available)"
          },
          "metadata": {}
        }
      ],
      "execution_count": 18,
      "metadata": {
        "jupyter": {
          "source_hidden": false,
          "outputs_hidden": false
        },
        "nteract": {
          "transient": {
            "deleting": false
          }
        },
        "gather": {
          "logged": 1700162253190
        }
      }
    },
    {
      "cell_type": "markdown",
      "source": [
        "# select subreddit topics we are going to analyze"
      ],
      "metadata": {
        "nteract": {
          "transient": {
            "deleting": false
          }
        }
      }
    },
    {
      "cell_type": "code",
      "source": [
        "topic = [\"Tetris\",\"pokemon\",\"SuperMario\",\"GTA\",\"CallOfDuty\",\"FIFA\",\"legostarwars\", \"assassinscreed\",\"thesims\",\"FinalFantasy\"]"
      ],
      "outputs": [
        {
          "output_type": "display_data",
          "data": {
            "application/vnd.livy.statement-meta+json": {
              "spark_pool": "3c67b279-1d53-4b7a-b0d9-41cb8b4b6723",
              "session_id": "40",
              "statement_id": 16,
              "state": "finished",
              "livy_statement_state": "available",
              "queued_time": "2023-11-16T19:17:33.725356Z",
              "session_start_time": null,
              "execution_start_time": "2023-11-16T19:17:33.8295231Z",
              "execution_finish_time": "2023-11-16T19:17:34.138721Z",
              "spark_jobs": {
                "numbers": {
                  "FAILED": 0,
                  "SUCCEEDED": 0,
                  "RUNNING": 0,
                  "UNKNOWN": 0
                },
                "jobs": [],
                "limit": 20,
                "rule": "ALL_DESC"
              },
              "parent_msg_id": "257bc244-0a14-4aa5-8984-1fb235d49b15"
            },
            "text/plain": "StatementMeta(3c67b279-1d53-4b7a-b0d9-41cb8b4b6723, 40, 16, Finished, Available)"
          },
          "metadata": {}
        }
      ],
      "execution_count": 19,
      "metadata": {
        "jupyter": {
          "source_hidden": false,
          "outputs_hidden": false
        },
        "nteract": {
          "transient": {
            "deleting": false
          }
        },
        "gather": {
          "logged": 1700162255437
        }
      }
    },
    {
      "cell_type": "markdown",
      "source": [
        "# Reading in all of the Reddit data"
      ],
      "metadata": {
        "nteract": {
          "transient": {
            "deleting": false
          }
        }
      }
    },
    {
      "cell_type": "code",
      "source": [
        "submissions_df = spark.read.parquet(f\"{wasbs_base_url}{submissions_path}\")"
      ],
      "outputs": [
        {
          "output_type": "display_data",
          "data": {
            "application/vnd.livy.statement-meta+json": {
              "spark_pool": "3c67b279-1d53-4b7a-b0d9-41cb8b4b6723",
              "session_id": "40",
              "statement_id": 17,
              "state": "finished",
              "livy_statement_state": "available",
              "queued_time": "2023-11-16T19:17:35.7470581Z",
              "session_start_time": null,
              "execution_start_time": "2023-11-16T19:17:35.8492612Z",
              "execution_finish_time": "2023-11-16T19:17:47.8469291Z",
              "spark_jobs": {
                "numbers": {
                  "FAILED": 0,
                  "SUCCEEDED": 1,
                  "RUNNING": 0,
                  "UNKNOWN": 0
                },
                "jobs": [
                  {
                    "displayName": "parquet at NativeMethodAccessorImpl.java:0",
                    "dataWritten": 0,
                    "dataRead": 0,
                    "rowCount": 0,
                    "usageDescription": "",
                    "jobId": 3,
                    "name": "parquet at NativeMethodAccessorImpl.java:0",
                    "description": "Job group for statement 17:\nsubmissions_df = spark.read.parquet(f\"{wasbs_base_url}{submissions_path}\")",
                    "submissionTime": "2023-11-16T19:17:43.718GMT",
                    "completionTime": "2023-11-16T19:17:45.541GMT",
                    "stageIds": [
                      3
                    ],
                    "jobGroup": "17",
                    "status": "SUCCEEDED",
                    "numTasks": 1,
                    "numActiveTasks": 0,
                    "numCompletedTasks": 1,
                    "numSkippedTasks": 0,
                    "numFailedTasks": 0,
                    "numKilledTasks": 0,
                    "numCompletedIndices": 1,
                    "numActiveStages": 0,
                    "numCompletedStages": 1,
                    "numSkippedStages": 0,
                    "numFailedStages": 0,
                    "killedTasksSummary": {}
                  }
                ],
                "limit": 20,
                "rule": "ALL_DESC"
              },
              "parent_msg_id": "e5d91733-d9a5-4d72-b713-1329c2f9c206"
            },
            "text/plain": "StatementMeta(3c67b279-1d53-4b7a-b0d9-41cb8b4b6723, 40, 17, Finished, Available)"
          },
          "metadata": {}
        }
      ],
      "execution_count": 20,
      "metadata": {
        "jupyter": {
          "source_hidden": false,
          "outputs_hidden": false
        },
        "nteract": {
          "transient": {
            "deleting": false
          }
        },
        "gather": {
          "logged": 1700162268911
        }
      }
    },
    {
      "cell_type": "code",
      "source": [
        "from pyspark.sql.functions import col, asc,desc\n",
        "\n",
        "submissions_filtered = submissions_df.filter(col(\"subreddit\").isin(topic))"
      ],
      "outputs": [
        {
          "output_type": "display_data",
          "data": {
            "application/vnd.livy.statement-meta+json": {
              "spark_pool": "3c67b279-1d53-4b7a-b0d9-41cb8b4b6723",
              "session_id": "40",
              "statement_id": 18,
              "state": "finished",
              "livy_statement_state": "available",
              "queued_time": "2023-11-16T19:17:45.1290837Z",
              "session_start_time": null,
              "execution_start_time": "2023-11-16T19:17:47.9525349Z",
              "execution_finish_time": "2023-11-16T19:17:48.7601625Z",
              "spark_jobs": {
                "numbers": {
                  "FAILED": 0,
                  "SUCCEEDED": 0,
                  "RUNNING": 0,
                  "UNKNOWN": 0
                },
                "jobs": [],
                "limit": 20,
                "rule": "ALL_DESC"
              },
              "parent_msg_id": "6be59b59-35e7-4ebb-9279-79e2ea2ea117"
            },
            "text/plain": "StatementMeta(3c67b279-1d53-4b7a-b0d9-41cb8b4b6723, 40, 18, Finished, Available)"
          },
          "metadata": {}
        }
      ],
      "execution_count": 21,
      "metadata": {
        "jupyter": {
          "source_hidden": false,
          "outputs_hidden": false
        },
        "nteract": {
          "transient": {
            "deleting": false
          }
        },
        "gather": {
          "logged": 1700162269755
        }
      }
    },
    {
      "cell_type": "markdown",
      "source": [
        "# select post with the subreddit topics"
      ],
      "metadata": {
        "nteract": {
          "transient": {
            "deleting": false
          }
        }
      }
    },
    {
      "cell_type": "code",
      "source": [
        "df_post = df_save = submissions_filtered.select(\"subreddit\",\"selftext\").cache()"
      ],
      "outputs": [
        {
          "output_type": "display_data",
          "data": {
            "application/vnd.livy.statement-meta+json": {
              "spark_pool": "3c67b279-1d53-4b7a-b0d9-41cb8b4b6723",
              "session_id": "40",
              "statement_id": 19,
              "state": "finished",
              "livy_statement_state": "available",
              "queued_time": "2023-11-16T19:17:47.662847Z",
              "session_start_time": null,
              "execution_start_time": "2023-11-16T19:17:48.9150768Z",
              "execution_finish_time": "2023-11-16T19:17:49.7346981Z",
              "spark_jobs": {
                "numbers": {
                  "FAILED": 0,
                  "SUCCEEDED": 0,
                  "RUNNING": 0,
                  "UNKNOWN": 0
                },
                "jobs": [],
                "limit": 20,
                "rule": "ALL_DESC"
              },
              "parent_msg_id": "54227129-f440-4893-a65c-328b721baff7"
            },
            "text/plain": "StatementMeta(3c67b279-1d53-4b7a-b0d9-41cb8b4b6723, 40, 19, Finished, Available)"
          },
          "metadata": {}
        }
      ],
      "execution_count": 22,
      "metadata": {
        "jupyter": {
          "source_hidden": false,
          "outputs_hidden": false
        },
        "nteract": {
          "transient": {
            "deleting": false
          }
        },
        "gather": {
          "logged": 1700162270689
        }
      }
    },
    {
      "cell_type": "code",
      "source": [
        "df_post1 = submissions_filtered.select(\"subreddit\",\"title\",\"selftext\").cache()"
      ],
      "outputs": [
        {
          "output_type": "display_data",
          "data": {
            "application/vnd.livy.statement-meta+json": {
              "spark_pool": "3c67b279-1d53-4b7a-b0d9-41cb8b4b6723",
              "session_id": "40",
              "statement_id": 70,
              "state": "finished",
              "livy_statement_state": "available",
              "queued_time": "2023-11-16T20:02:18.3624532Z",
              "session_start_time": null,
              "execution_start_time": "2023-11-16T20:02:18.4571181Z",
              "execution_finish_time": "2023-11-16T20:02:18.7610599Z",
              "spark_jobs": {
                "numbers": {
                  "FAILED": 0,
                  "SUCCEEDED": 0,
                  "RUNNING": 0,
                  "UNKNOWN": 0
                },
                "jobs": [],
                "limit": 20,
                "rule": "ALL_DESC"
              },
              "parent_msg_id": "c87b03a9-716f-406b-a96e-6a15cfcf26c0"
            },
            "text/plain": "StatementMeta(3c67b279-1d53-4b7a-b0d9-41cb8b4b6723, 40, 70, Finished, Available)"
          },
          "metadata": {}
        }
      ],
      "execution_count": 73,
      "metadata": {
        "jupyter": {
          "source_hidden": false,
          "outputs_hidden": false
        },
        "nteract": {
          "transient": {
            "deleting": false
          }
        },
        "gather": {
          "logged": 1700164939926
        }
      }
    },
    {
      "cell_type": "markdown",
      "source": [
        "# spark NLP pipeline build"
      ],
      "metadata": {
        "nteract": {
          "transient": {
            "deleting": false
          }
        }
      }
    },
    {
      "cell_type": "code",
      "source": [
        "%%configure -f \\\n",
        "{\"conf\": {\"spark.jars.packages\": \"com.johnsnowlabs.nlp:spark-nlp_2.12:5.1.2\"}}"
      ],
      "outputs": [
        {
          "output_type": "display_data",
          "data": {
            "application/vnd.livy.statement-meta+json": {
              "spark_pool": "3c67b279-1d53-4b7a-b0d9-41cb8b4b6723",
              "session_id": "40",
              "statement_id": -1,
              "state": "finished",
              "livy_statement_state": "available",
              "queued_time": "2023-11-16T19:01:17.7953311Z",
              "session_start_time": "2023-11-16T19:03:43.7986024Z",
              "execution_start_time": "2023-11-16T19:05:41.7338834Z",
              "execution_finish_time": "2023-11-16T19:05:41.7686299Z",
              "spark_jobs": {
                "numbers": {
                  "FAILED": 0,
                  "SUCCEEDED": 0,
                  "RUNNING": 0,
                  "UNKNOWN": 0
                },
                "jobs": [],
                "limit": 20,
                "rule": "ALL_DESC"
              },
              "parent_msg_id": "045e4322-1b30-4bec-affd-b0ec61311468"
            },
            "text/plain": "StatementMeta(3c67b279-1d53-4b7a-b0d9-41cb8b4b6723, 40, -1, Finished, Available)"
          },
          "metadata": {}
        },
        {
          "output_type": "stream",
          "name": "stdout",
          "text": "Unrecognized options: "
        }
      ],
      "execution_count": 8,
      "metadata": {
        "jupyter": {
          "source_hidden": false,
          "outputs_hidden": false
        },
        "nteract": {
          "transient": {
            "deleting": false
          }
        }
      }
    },
    {
      "cell_type": "code",
      "source": [
        "!pip install spark-nlp"
      ],
      "outputs": [
        {
          "output_type": "display_data",
          "data": {
            "application/vnd.livy.statement-meta+json": {
              "spark_pool": "3c67b279-1d53-4b7a-b0d9-41cb8b4b6723",
              "session_id": "40",
              "statement_id": 6,
              "state": "finished",
              "livy_statement_state": "available",
              "queued_time": "2023-11-16T19:01:19.0726925Z",
              "session_start_time": null,
              "execution_start_time": "2023-11-16T19:05:59.0220709Z",
              "execution_finish_time": "2023-11-16T19:06:18.2397055Z",
              "spark_jobs": {
                "numbers": {
                  "FAILED": 0,
                  "SUCCEEDED": 0,
                  "RUNNING": 0,
                  "UNKNOWN": 0
                },
                "jobs": [],
                "limit": 20,
                "rule": "ALL_DESC"
              },
              "parent_msg_id": "208eeb59-23be-4bc5-9a1c-15dacdfb55ec"
            },
            "text/plain": "StatementMeta(3c67b279-1d53-4b7a-b0d9-41cb8b4b6723, 40, 6, Finished, Available)"
          },
          "metadata": {}
        },
        {
          "output_type": "stream",
          "name": "stdout",
          "text": "Collecting spark-nlp\n  Downloading spark_nlp-5.1.4-py2.py3-none-any.whl (540 kB)\n\u001b[K     |████████████████████████████████| 540 kB 10.1 MB/s eta 0:00:01\n\u001b[?25hInstalling collected packages: spark-nlp\nSuccessfully installed spark-nlp-5.1.4\n"
        }
      ],
      "execution_count": 9,
      "metadata": {
        "jupyter": {
          "source_hidden": false,
          "outputs_hidden": false
        },
        "nteract": {
          "transient": {
            "deleting": false
          }
        }
      }
    },
    {
      "cell_type": "code",
      "source": [
        "import pandas as pd\n",
        "import numpy as np\n",
        "import json\n",
        "from pyspark.ml import Pipeline\n",
        "from pyspark.sql import SparkSession\n",
        "import pyspark.sql.functions as F\n",
        "from sparknlp.annotator import *\n",
        "from sparknlp.base import *\n",
        "import sparknlp\n",
        "from sparknlp.pretrained import PretrainedPipeline"
      ],
      "outputs": [
        {
          "output_type": "display_data",
          "data": {
            "application/vnd.livy.statement-meta+json": {
              "spark_pool": "3c67b279-1d53-4b7a-b0d9-41cb8b4b6723",
              "session_id": "40",
              "statement_id": 7,
              "state": "finished",
              "livy_statement_state": "available",
              "queued_time": "2023-11-16T19:01:20.998379Z",
              "session_start_time": null,
              "execution_start_time": "2023-11-16T19:06:18.3492075Z",
              "execution_finish_time": "2023-11-16T19:06:23.1426447Z",
              "spark_jobs": {
                "numbers": {
                  "FAILED": 0,
                  "SUCCEEDED": 0,
                  "RUNNING": 0,
                  "UNKNOWN": 0
                },
                "jobs": [],
                "limit": 20,
                "rule": "ALL_DESC"
              },
              "parent_msg_id": "a1cc9800-ccbc-461c-839a-53dd8bfcdab0"
            },
            "text/plain": "StatementMeta(3c67b279-1d53-4b7a-b0d9-41cb8b4b6723, 40, 7, Finished, Available)"
          },
          "metadata": {}
        }
      ],
      "execution_count": 10,
      "metadata": {
        "jupyter": {
          "source_hidden": false,
          "outputs_hidden": false
        },
        "nteract": {
          "transient": {
            "deleting": false
          }
        },
        "gather": {
          "logged": 1700161584098
        }
      }
    },
    {
      "cell_type": "code",
      "source": [
        "documentAssembler = DocumentAssembler()\\\n",
        "    .setInputCol(\"selftext\")\\\n",
        "    .setOutputCol(\"document\")\n",
        "    \n",
        "use = UniversalSentenceEncoder.pretrained(name=\"tfhub_use\", lang=\"en\")\\\n",
        " .setInputCols([\"document\"])\\\n",
        " .setOutputCol(\"sentence_embeddings\")\n",
        "\n",
        "\n",
        "sentimentdl = SentimentDLModel.pretrained(lang=\"en\")\\\n",
        "    .setInputCols([\"sentence_embeddings\"])\\\n",
        "    .setOutputCol(\"sentiment\")\n",
        "\n",
        "nlpPipeline = Pipeline(\n",
        "      stages = [\n",
        "          documentAssembler,\n",
        "          use,\n",
        "          sentimentdl\n",
        "      ])"
      ],
      "outputs": [
        {
          "output_type": "display_data",
          "data": {
            "application/vnd.livy.statement-meta+json": {
              "spark_pool": "3c67b279-1d53-4b7a-b0d9-41cb8b4b6723",
              "session_id": "40",
              "statement_id": 8,
              "state": "finished",
              "livy_statement_state": "available",
              "queued_time": "2023-11-16T19:01:26.0670335Z",
              "session_start_time": null,
              "execution_start_time": "2023-11-16T19:06:23.2520679Z",
              "execution_finish_time": "2023-11-16T19:08:48.5404669Z",
              "spark_jobs": {
                "numbers": {
                  "FAILED": 0,
                  "SUCCEEDED": 3,
                  "RUNNING": 0,
                  "UNKNOWN": 0
                },
                "jobs": [
                  {
                    "displayName": "first at Feature.scala:182",
                    "dataWritten": 0,
                    "dataRead": 355,
                    "rowCount": 1,
                    "usageDescription": "",
                    "jobId": 2,
                    "name": "first at Feature.scala:182",
                    "description": "Job group for statement 8:\ndocumentAssembler = DocumentAssembler()    .setInputCol(\"selftext\")    .setOutputCol(\"document\")\n    \nuse = UniversalSentenceEncoder.pretrained(name=\"tfhub_use\", lang=\"en\") .setInputCols([\"document\"]) .setOutputCol(\"sentence_embeddings\")\n\n\nsentimentdl = SentimentDLModel.pretrained(lang=\"en\")    .setInputCols([\"sentence_embeddings\"])    .setOutputCol(\"sentiment\")\n\nnlpPipeline = Pipeline(\n      stages = [\n          documentAssembler,\n          use,\n          sentimentdl\n      ])",
                    "submissionTime": "2023-11-16T19:08:45.571GMT",
                    "completionTime": "2023-11-16T19:08:45.820GMT",
                    "stageIds": [
                      2
                    ],
                    "jobGroup": "8",
                    "status": "SUCCEEDED",
                    "numTasks": 1,
                    "numActiveTasks": 0,
                    "numCompletedTasks": 1,
                    "numSkippedTasks": 0,
                    "numFailedTasks": 0,
                    "numKilledTasks": 0,
                    "numCompletedIndices": 1,
                    "numActiveStages": 0,
                    "numCompletedStages": 1,
                    "numSkippedStages": 0,
                    "numFailedStages": 0,
                    "killedTasksSummary": {}
                  },
                  {
                    "displayName": "first at ReadWrite.scala:587",
                    "dataWritten": 0,
                    "dataRead": 463,
                    "rowCount": 1,
                    "usageDescription": "",
                    "jobId": 1,
                    "name": "first at ReadWrite.scala:587",
                    "description": "Job group for statement 8:\ndocumentAssembler = DocumentAssembler()    .setInputCol(\"selftext\")    .setOutputCol(\"document\")\n    \nuse = UniversalSentenceEncoder.pretrained(name=\"tfhub_use\", lang=\"en\") .setInputCols([\"document\"]) .setOutputCol(\"sentence_embeddings\")\n\n\nsentimentdl = SentimentDLModel.pretrained(lang=\"en\")    .setInputCols([\"sentence_embeddings\"])    .setOutputCol(\"sentiment\")\n\nnlpPipeline = Pipeline(\n      stages = [\n          documentAssembler,\n          use,\n          sentimentdl\n      ])",
                    "submissionTime": "2023-11-16T19:08:43.146GMT",
                    "completionTime": "2023-11-16T19:08:45.360GMT",
                    "stageIds": [
                      1
                    ],
                    "jobGroup": "8",
                    "status": "SUCCEEDED",
                    "numTasks": 1,
                    "numActiveTasks": 0,
                    "numCompletedTasks": 1,
                    "numSkippedTasks": 0,
                    "numFailedTasks": 0,
                    "numKilledTasks": 0,
                    "numCompletedIndices": 1,
                    "numActiveStages": 0,
                    "numCompletedStages": 1,
                    "numSkippedStages": 0,
                    "numFailedStages": 0,
                    "killedTasksSummary": {}
                  },
                  {
                    "displayName": "first at ReadWrite.scala:587",
                    "dataWritten": 0,
                    "dataRead": 346,
                    "rowCount": 1,
                    "usageDescription": "",
                    "jobId": 0,
                    "name": "first at ReadWrite.scala:587",
                    "description": "Job group for statement 8:\ndocumentAssembler = DocumentAssembler()    .setInputCol(\"selftext\")    .setOutputCol(\"document\")\n    \nuse = UniversalSentenceEncoder.pretrained(name=\"tfhub_use\", lang=\"en\") .setInputCols([\"document\"]) .setOutputCol(\"sentence_embeddings\")\n\n\nsentimentdl = SentimentDLModel.pretrained(lang=\"en\")    .setInputCols([\"sentence_embeddings\"])    .setOutputCol(\"sentiment\")\n\nnlpPipeline = Pipeline(\n      stages = [\n          documentAssembler,\n          use,\n          sentimentdl\n      ])",
                    "submissionTime": "2023-11-16T19:07:32.927GMT",
                    "completionTime": "2023-11-16T19:07:37.488GMT",
                    "stageIds": [
                      0
                    ],
                    "jobGroup": "8",
                    "status": "SUCCEEDED",
                    "numTasks": 1,
                    "numActiveTasks": 0,
                    "numCompletedTasks": 1,
                    "numSkippedTasks": 0,
                    "numFailedTasks": 0,
                    "numKilledTasks": 0,
                    "numCompletedIndices": 1,
                    "numActiveStages": 0,
                    "numCompletedStages": 1,
                    "numSkippedStages": 0,
                    "numFailedStages": 0,
                    "killedTasksSummary": {}
                  }
                ],
                "limit": 20,
                "rule": "ALL_DESC"
              },
              "parent_msg_id": "17ebd91d-87cc-48ad-a165-88d7d6f5fb55"
            },
            "text/plain": "StatementMeta(3c67b279-1d53-4b7a-b0d9-41cb8b4b6723, 40, 8, Finished, Available)"
          },
          "metadata": {}
        },
        {
          "output_type": "stream",
          "name": "stdout",
          "text": "tfhub_use download started this may take some time.\nApproximate size to download 923.7 MB\n[OK!]\nsentimentdl_use_imdb download started this may take some time.\nApproximate size to download 12 MB\n[OK!]\n"
        }
      ],
      "execution_count": 11,
      "metadata": {
        "jupyter": {
          "source_hidden": false,
          "outputs_hidden": false
        },
        "nteract": {
          "transient": {
            "deleting": false
          }
        },
        "gather": {
          "logged": 1700161729634
        }
      }
    },
    {
      "cell_type": "markdown",
      "source": [
        "# run the pipeline"
      ],
      "metadata": {
        "nteract": {
          "transient": {
            "deleting": false
          }
        }
      }
    },
    {
      "cell_type": "code",
      "source": [
        "df_post = df_post.dropna()"
      ],
      "outputs": [
        {
          "output_type": "display_data",
          "data": {
            "application/vnd.livy.statement-meta+json": {
              "spark_pool": "3c67b279-1d53-4b7a-b0d9-41cb8b4b6723",
              "session_id": "40",
              "statement_id": 25,
              "state": "finished",
              "livy_statement_state": "available",
              "queued_time": "2023-11-16T19:18:55.5652962Z",
              "session_start_time": null,
              "execution_start_time": "2023-11-16T19:18:55.6920695Z",
              "execution_finish_time": "2023-11-16T19:18:55.9992715Z",
              "spark_jobs": {
                "numbers": {
                  "FAILED": 0,
                  "SUCCEEDED": 0,
                  "RUNNING": 0,
                  "UNKNOWN": 0
                },
                "jobs": [],
                "limit": 20,
                "rule": "ALL_DESC"
              },
              "parent_msg_id": "cb938b6a-8dbd-4747-8870-fa9c076b4de2"
            },
            "text/plain": "StatementMeta(3c67b279-1d53-4b7a-b0d9-41cb8b4b6723, 40, 25, Finished, Available)"
          },
          "metadata": {}
        }
      ],
      "execution_count": 28,
      "metadata": {
        "jupyter": {
          "source_hidden": false,
          "outputs_hidden": false
        },
        "nteract": {
          "transient": {
            "deleting": false
          }
        },
        "gather": {
          "logged": 1700162337024
        }
      }
    },
    {
      "cell_type": "code",
      "source": [
        "df_post2 = df_post1.dropna()"
      ],
      "outputs": [
        {
          "output_type": "display_data",
          "data": {
            "application/vnd.livy.statement-meta+json": {
              "spark_pool": "3c67b279-1d53-4b7a-b0d9-41cb8b4b6723",
              "session_id": "40",
              "statement_id": 72,
              "state": "finished",
              "livy_statement_state": "available",
              "queued_time": "2023-11-16T20:03:05.764863Z",
              "session_start_time": null,
              "execution_start_time": "2023-11-16T20:03:05.8676677Z",
              "execution_finish_time": "2023-11-16T20:03:06.1429525Z",
              "spark_jobs": {
                "numbers": {
                  "FAILED": 0,
                  "SUCCEEDED": 0,
                  "RUNNING": 0,
                  "UNKNOWN": 0
                },
                "jobs": [],
                "limit": 20,
                "rule": "ALL_DESC"
              },
              "parent_msg_id": "a62c9260-5322-4e47-923d-91651080b9e6"
            },
            "text/plain": "StatementMeta(3c67b279-1d53-4b7a-b0d9-41cb8b4b6723, 40, 72, Finished, Available)"
          },
          "metadata": {}
        }
      ],
      "execution_count": 75,
      "metadata": {
        "jupyter": {
          "source_hidden": false,
          "outputs_hidden": false
        },
        "nteract": {
          "transient": {
            "deleting": false
          }
        },
        "gather": {
          "logged": 1700164987346
        }
      }
    },
    {
      "cell_type": "code",
      "source": [
        "senti_model = nlpPipeline.fit(df_post)"
      ],
      "outputs": [
        {
          "output_type": "display_data",
          "data": {
            "application/vnd.livy.statement-meta+json": {
              "spark_pool": "3c67b279-1d53-4b7a-b0d9-41cb8b4b6723",
              "session_id": "40",
              "statement_id": 26,
              "state": "finished",
              "livy_statement_state": "available",
              "queued_time": "2023-11-16T19:18:57.0926177Z",
              "session_start_time": null,
              "execution_start_time": "2023-11-16T19:18:57.1865009Z",
              "execution_finish_time": "2023-11-16T19:18:57.4745905Z",
              "spark_jobs": {
                "numbers": {
                  "FAILED": 0,
                  "SUCCEEDED": 0,
                  "RUNNING": 0,
                  "UNKNOWN": 0
                },
                "jobs": [],
                "limit": 20,
                "rule": "ALL_DESC"
              },
              "parent_msg_id": "2a13f701-090a-45b9-95c1-1426e6d34026"
            },
            "text/plain": "StatementMeta(3c67b279-1d53-4b7a-b0d9-41cb8b4b6723, 40, 26, Finished, Available)"
          },
          "metadata": {}
        }
      ],
      "execution_count": 29,
      "metadata": {
        "jupyter": {
          "source_hidden": false,
          "outputs_hidden": false
        },
        "nteract": {
          "transient": {
            "deleting": false
          }
        },
        "gather": {
          "logged": 1700162338424
        }
      }
    },
    {
      "cell_type": "code",
      "source": [
        "senti_model2 = nlpPipeline.fit(df_post2)"
      ],
      "outputs": [
        {
          "output_type": "display_data",
          "data": {
            "application/vnd.livy.statement-meta+json": {
              "spark_pool": "3c67b279-1d53-4b7a-b0d9-41cb8b4b6723",
              "session_id": "40",
              "statement_id": 73,
              "state": "finished",
              "livy_statement_state": "available",
              "queued_time": "2023-11-16T20:03:16.558261Z",
              "session_start_time": null,
              "execution_start_time": "2023-11-16T20:03:16.6603871Z",
              "execution_finish_time": "2023-11-16T20:03:16.9696818Z",
              "spark_jobs": {
                "numbers": {
                  "FAILED": 0,
                  "SUCCEEDED": 0,
                  "RUNNING": 0,
                  "UNKNOWN": 0
                },
                "jobs": [],
                "limit": 20,
                "rule": "ALL_DESC"
              },
              "parent_msg_id": "6475f60f-d0c8-4f85-9278-f39b8fdbfe68"
            },
            "text/plain": "StatementMeta(3c67b279-1d53-4b7a-b0d9-41cb8b4b6723, 40, 73, Finished, Available)"
          },
          "metadata": {}
        }
      ],
      "execution_count": 76,
      "metadata": {
        "jupyter": {
          "source_hidden": false,
          "outputs_hidden": false
        },
        "nteract": {
          "transient": {
            "deleting": false
          }
        },
        "gather": {
          "logged": 1700164998149
        }
      }
    },
    {
      "cell_type": "code",
      "source": [
        "senti_pred = senti_model.transform(df_post)"
      ],
      "outputs": [
        {
          "output_type": "display_data",
          "data": {
            "application/vnd.livy.statement-meta+json": {
              "spark_pool": "3c67b279-1d53-4b7a-b0d9-41cb8b4b6723",
              "session_id": "40",
              "statement_id": 27,
              "state": "finished",
              "livy_statement_state": "available",
              "queued_time": "2023-11-16T19:18:58.8671388Z",
              "session_start_time": null,
              "execution_start_time": "2023-11-16T19:18:59.1074627Z",
              "execution_finish_time": "2023-11-16T19:19:00.2568672Z",
              "spark_jobs": {
                "numbers": {
                  "FAILED": 0,
                  "SUCCEEDED": 0,
                  "RUNNING": 0,
                  "UNKNOWN": 0
                },
                "jobs": [],
                "limit": 20,
                "rule": "ALL_DESC"
              },
              "parent_msg_id": "e8a92447-e476-47eb-a3a9-7cc63294ada6"
            },
            "text/plain": "StatementMeta(3c67b279-1d53-4b7a-b0d9-41cb8b4b6723, 40, 27, Finished, Available)"
          },
          "metadata": {}
        }
      ],
      "execution_count": 30,
      "metadata": {
        "jupyter": {
          "source_hidden": false,
          "outputs_hidden": false
        },
        "nteract": {
          "transient": {
            "deleting": false
          }
        },
        "gather": {
          "logged": 1700162341277
        }
      }
    },
    {
      "cell_type": "code",
      "source": [
        "senti_pred2 = senti_model.transform(df_post2)"
      ],
      "outputs": [
        {
          "output_type": "display_data",
          "data": {
            "application/vnd.livy.statement-meta+json": {
              "spark_pool": "3c67b279-1d53-4b7a-b0d9-41cb8b4b6723",
              "session_id": "40",
              "statement_id": 74,
              "state": "finished",
              "livy_statement_state": "available",
              "queued_time": "2023-11-16T20:03:43.3027818Z",
              "session_start_time": null,
              "execution_start_time": "2023-11-16T20:03:43.4011639Z",
              "execution_finish_time": "2023-11-16T20:03:44.6505888Z",
              "spark_jobs": {
                "numbers": {
                  "FAILED": 0,
                  "SUCCEEDED": 0,
                  "RUNNING": 0,
                  "UNKNOWN": 0
                },
                "jobs": [],
                "limit": 20,
                "rule": "ALL_DESC"
              },
              "parent_msg_id": "41ca30b3-a216-4972-a3f0-a25491e53742"
            },
            "text/plain": "StatementMeta(3c67b279-1d53-4b7a-b0d9-41cb8b4b6723, 40, 74, Finished, Available)"
          },
          "metadata": {}
        }
      ],
      "execution_count": 77,
      "metadata": {
        "jupyter": {
          "source_hidden": false,
          "outputs_hidden": false
        },
        "nteract": {
          "transient": {
            "deleting": false
          }
        },
        "gather": {
          "logged": 1700165025700
        }
      }
    },
    {
      "cell_type": "code",
      "source": [
        "senti_pred.show(5)"
      ],
      "outputs": [
        {
          "output_type": "display_data",
          "data": {
            "application/vnd.livy.statement-meta+json": {
              "spark_pool": "3c67b279-1d53-4b7a-b0d9-41cb8b4b6723",
              "session_id": "40",
              "statement_id": 60,
              "state": "finished",
              "livy_statement_state": "available",
              "queued_time": "2023-11-16T19:40:38.1019749Z",
              "session_start_time": null,
              "execution_start_time": "2023-11-16T19:40:38.1954206Z",
              "execution_finish_time": "2023-11-16T19:40:38.9864563Z",
              "spark_jobs": {
                "numbers": {
                  "FAILED": 0,
                  "SUCCEEDED": 1,
                  "RUNNING": 0,
                  "UNKNOWN": 0
                },
                "jobs": [
                  {
                    "displayName": "showString at <unknown>:0",
                    "dataWritten": 0,
                    "dataRead": 27104,
                    "rowCount": 1,
                    "usageDescription": "",
                    "jobId": 24,
                    "name": "showString at <unknown>:0",
                    "description": "Job group for statement 60:\nsenti_pred.show(5)",
                    "submissionTime": "2023-11-16T19:40:38.289GMT",
                    "completionTime": "2023-11-16T19:40:38.380GMT",
                    "stageIds": [
                      24
                    ],
                    "jobGroup": "60",
                    "status": "SUCCEEDED",
                    "numTasks": 1,
                    "numActiveTasks": 0,
                    "numCompletedTasks": 1,
                    "numSkippedTasks": 0,
                    "numFailedTasks": 0,
                    "numKilledTasks": 0,
                    "numCompletedIndices": 1,
                    "numActiveStages": 0,
                    "numCompletedStages": 1,
                    "numSkippedStages": 0,
                    "numFailedStages": 0,
                    "killedTasksSummary": {}
                  }
                ],
                "limit": 20,
                "rule": "ALL_DESC"
              },
              "parent_msg_id": "db7f7789-2885-4819-a276-33c63a778aec"
            },
            "text/plain": "StatementMeta(3c67b279-1d53-4b7a-b0d9-41cb8b4b6723, 40, 60, Finished, Available)"
          },
          "metadata": {}
        },
        {
          "output_type": "stream",
          "name": "stdout",
          "text": "+------------+--------------------+--------------------+--------------------+--------------------+\n|   subreddit|            selftext|            document| sentence_embeddings|           sentiment|\n+------------+--------------------+--------------------+--------------------+--------------------+\n|        FIFA|                    |[{document, 0, -1...|                  []|                  []|\n|FinalFantasy|                    |[{document, 0, -1...|                  []|                  []|\n|     pokemon|So several days a...|[{document, 0, 13...|[{sentence_embedd...|[{category, 0, 13...|\n|        FIFA|           [removed]|[{document, 0, 8,...|[{sentence_embedd...|[{category, 0, 8,...|\n|        FIFA|                    |[{document, 0, -1...|[{sentence_embedd...|[{category, 0, 8,...|\n+------------+--------------------+--------------------+--------------------+--------------------+\nonly showing top 5 rows\n\n"
        }
      ],
      "execution_count": 63,
      "metadata": {
        "jupyter": {
          "source_hidden": false,
          "outputs_hidden": false
        },
        "nteract": {
          "transient": {
            "deleting": false
          }
        },
        "gather": {
          "logged": 1700163640057
        }
      }
    },
    {
      "cell_type": "code",
      "source": [
        "senti_pred2.show(5)"
      ],
      "outputs": [
        {
          "output_type": "display_data",
          "data": {
            "application/vnd.livy.statement-meta+json": {
              "spark_pool": "3c67b279-1d53-4b7a-b0d9-41cb8b4b6723",
              "session_id": "40",
              "statement_id": 75,
              "state": "finished",
              "livy_statement_state": "available",
              "queued_time": "2023-11-16T20:03:55.1155691Z",
              "session_start_time": null,
              "execution_start_time": "2023-11-16T20:03:55.2194391Z",
              "execution_finish_time": "2023-11-16T20:03:59.4774519Z",
              "spark_jobs": {
                "numbers": {
                  "FAILED": 0,
                  "SUCCEEDED": 1,
                  "RUNNING": 0,
                  "UNKNOWN": 0
                },
                "jobs": [
                  {
                    "displayName": "showString at <unknown>:0",
                    "dataWritten": 0,
                    "dataRead": 43739239,
                    "rowCount": 221807,
                    "usageDescription": "",
                    "jobId": 30,
                    "name": "showString at <unknown>:0",
                    "description": "Job group for statement 75:\nsenti_pred2.show(5)",
                    "submissionTime": "2023-11-16T20:03:55.745GMT",
                    "completionTime": "2023-11-16T20:03:58.971GMT",
                    "stageIds": [
                      30
                    ],
                    "jobGroup": "75",
                    "status": "SUCCEEDED",
                    "numTasks": 1,
                    "numActiveTasks": 0,
                    "numCompletedTasks": 1,
                    "numSkippedTasks": 0,
                    "numFailedTasks": 0,
                    "numKilledTasks": 0,
                    "numCompletedIndices": 1,
                    "numActiveStages": 0,
                    "numCompletedStages": 1,
                    "numSkippedStages": 0,
                    "numFailedStages": 0,
                    "killedTasksSummary": {}
                  }
                ],
                "limit": 20,
                "rule": "ALL_DESC"
              },
              "parent_msg_id": "84ed8658-20cb-493d-9fc1-4442005fb2d4"
            },
            "text/plain": "StatementMeta(3c67b279-1d53-4b7a-b0d9-41cb8b4b6723, 40, 75, Finished, Available)"
          },
          "metadata": {}
        },
        {
          "output_type": "stream",
          "name": "stdout",
          "text": "+------------+--------------------+--------------------+--------------------+--------------------+--------------------+\n|   subreddit|               title|            selftext|            document| sentence_embeddings|           sentiment|\n+------------+--------------------+--------------------+--------------------+--------------------+--------------------+\n|        FIFA|if you every get ...|                    |[{document, 0, -1...|                  []|                  []|\n|FinalFantasy|Final Fantasy Pix...|                    |[{document, 0, -1...|                  []|                  []|\n|     pokemon|the PokemonTogeth...|So several days a...|[{document, 0, 13...|[{sentence_embedd...|[{category, 0, 13...|\n|        FIFA|should i select o...|           [removed]|[{document, 0, 8,...|[{sentence_embedd...|[{category, 0, 8,...|\n|        FIFA| Team of the week 17|                    |[{document, 0, -1...|[{sentence_embedd...|[{category, 0, 8,...|\n+------------+--------------------+--------------------+--------------------+--------------------+--------------------+\nonly showing top 5 rows\n\n"
        }
      ],
      "execution_count": 78,
      "metadata": {
        "jupyter": {
          "source_hidden": false,
          "outputs_hidden": false
        },
        "nteract": {
          "transient": {
            "deleting": false
          }
        },
        "gather": {
          "logged": 1700165040480
        }
      }
    },
    {
      "cell_type": "code",
      "source": [
        "from pyspark.sql.functions import col, size"
      ],
      "outputs": [],
      "execution_count": null,
      "metadata": {
        "jupyter": {
          "source_hidden": false,
          "outputs_hidden": false
        },
        "nteract": {
          "transient": {
            "deleting": false
          }
        }
      }
    },
    {
      "cell_type": "code",
      "source": [
        "df_filtered = senti_pred2.filter(size(col(\"sentence_embeddings\")) != 0)\n",
        "df_filtered.show(5)"
      ],
      "outputs": [
        {
          "output_type": "display_data",
          "data": {
            "application/vnd.livy.statement-meta+json": {
              "spark_pool": "3c67b279-1d53-4b7a-b0d9-41cb8b4b6723",
              "session_id": "40",
              "statement_id": 76,
              "state": "finished",
              "livy_statement_state": "available",
              "queued_time": "2023-11-16T20:04:32.9700443Z",
              "session_start_time": null,
              "execution_start_time": "2023-11-16T20:04:33.0883011Z",
              "execution_finish_time": "2023-11-16T20:04:33.8856081Z",
              "spark_jobs": {
                "numbers": {
                  "FAILED": 0,
                  "SUCCEEDED": 1,
                  "RUNNING": 0,
                  "UNKNOWN": 0
                },
                "jobs": [
                  {
                    "displayName": "showString at <unknown>:0",
                    "dataWritten": 0,
                    "dataRead": 39128,
                    "rowCount": 1,
                    "usageDescription": "",
                    "jobId": 31,
                    "name": "showString at <unknown>:0",
                    "description": "Job group for statement 76:\ndf_filtered = senti_pred2.filter(size(col(\"sentence_embeddings\")) != 0)\ndf_filtered.show(5)",
                    "submissionTime": "2023-11-16T20:04:33.296GMT",
                    "completionTime": "2023-11-16T20:04:33.561GMT",
                    "stageIds": [
                      31
                    ],
                    "jobGroup": "76",
                    "status": "SUCCEEDED",
                    "numTasks": 1,
                    "numActiveTasks": 0,
                    "numCompletedTasks": 1,
                    "numSkippedTasks": 0,
                    "numFailedTasks": 0,
                    "numKilledTasks": 0,
                    "numCompletedIndices": 1,
                    "numActiveStages": 0,
                    "numCompletedStages": 1,
                    "numSkippedStages": 0,
                    "numFailedStages": 0,
                    "killedTasksSummary": {}
                  }
                ],
                "limit": 20,
                "rule": "ALL_DESC"
              },
              "parent_msg_id": "1c1a60a2-2d30-4062-9e69-3c12daaf3413"
            },
            "text/plain": "StatementMeta(3c67b279-1d53-4b7a-b0d9-41cb8b4b6723, 40, 76, Finished, Available)"
          },
          "metadata": {}
        },
        {
          "output_type": "stream",
          "name": "stdout",
          "text": "+---------+--------------------+--------------------+--------------------+--------------------+--------------------+\n|subreddit|               title|            selftext|            document| sentence_embeddings|           sentiment|\n+---------+--------------------+--------------------+--------------------+--------------------+--------------------+\n|  pokemon|the PokemonTogeth...|So several days a...|[{document, 0, 13...|[{sentence_embedd...|[{category, 0, 13...|\n|     FIFA|should i select o...|           [removed]|[{document, 0, 8,...|[{sentence_embedd...|[{category, 0, 8,...|\n|     FIFA| Team of the week 17|                    |[{document, 0, -1...|[{sentence_embedd...|[{category, 0, 8,...|\n|  pokemon|Who's a non-villa...|For me, Tyme insp...|[{document, 0, 66...|[{sentence_embedd...|[{category, 0, 66...|\n|  pokemon|Zard Hunting in B...|           [removed]|[{document, 0, 8,...|[{sentence_embedd...|[{category, 0, 8,...|\n+---------+--------------------+--------------------+--------------------+--------------------+--------------------+\nonly showing top 5 rows\n\n"
        }
      ],
      "execution_count": 79,
      "metadata": {
        "jupyter": {
          "source_hidden": false,
          "outputs_hidden": false
        },
        "nteract": {
          "transient": {
            "deleting": false
          }
        },
        "gather": {
          "logged": 1700165074950
        }
      }
    },
    {
      "cell_type": "code",
      "source": [
        "df_senti = senti_pred.select(\"subreddit\",F.explode('sentiment.result'))"
      ],
      "outputs": [
        {
          "output_type": "display_data",
          "data": {
            "application/vnd.livy.statement-meta+json": {
              "spark_pool": "3c67b279-1d53-4b7a-b0d9-41cb8b4b6723",
              "session_id": "40",
              "statement_id": 32,
              "state": "finished",
              "livy_statement_state": "available",
              "queued_time": "2023-11-16T19:20:13.0967762Z",
              "session_start_time": null,
              "execution_start_time": "2023-11-16T19:20:13.1959Z",
              "execution_finish_time": "2023-11-16T19:20:13.4993108Z",
              "spark_jobs": {
                "numbers": {
                  "FAILED": 0,
                  "SUCCEEDED": 0,
                  "RUNNING": 0,
                  "UNKNOWN": 0
                },
                "jobs": [],
                "limit": 20,
                "rule": "ALL_DESC"
              },
              "parent_msg_id": "87bf9ee5-399f-437f-bc13-69b679d8b0d5"
            },
            "text/plain": "StatementMeta(3c67b279-1d53-4b7a-b0d9-41cb8b4b6723, 40, 32, Finished, Available)"
          },
          "metadata": {}
        }
      ],
      "execution_count": 35,
      "metadata": {
        "jupyter": {
          "source_hidden": false,
          "outputs_hidden": false
        },
        "nteract": {
          "transient": {
            "deleting": false
          }
        },
        "gather": {
          "logged": 1700162414725
        }
      }
    },
    {
      "cell_type": "code",
      "source": [
        "df_senti2 = senti_pred2.select(\"subreddit\",F.explode('sentiment.result'))"
      ],
      "outputs": [
        {
          "output_type": "display_data",
          "data": {
            "application/vnd.livy.statement-meta+json": {
              "spark_pool": "3c67b279-1d53-4b7a-b0d9-41cb8b4b6723",
              "session_id": "40",
              "statement_id": 79,
              "state": "finished",
              "livy_statement_state": "available",
              "queued_time": "2023-11-16T20:06:46.4852704Z",
              "session_start_time": null,
              "execution_start_time": "2023-11-16T20:06:46.6006659Z",
              "execution_finish_time": "2023-11-16T20:06:46.885934Z",
              "spark_jobs": {
                "numbers": {
                  "FAILED": 0,
                  "SUCCEEDED": 0,
                  "RUNNING": 0,
                  "UNKNOWN": 0
                },
                "jobs": [],
                "limit": 20,
                "rule": "ALL_DESC"
              },
              "parent_msg_id": "c6bbd55e-f65d-4026-b06a-f81ae7f565b7"
            },
            "text/plain": "StatementMeta(3c67b279-1d53-4b7a-b0d9-41cb8b4b6723, 40, 79, Finished, Available)"
          },
          "metadata": {}
        }
      ],
      "execution_count": 82,
      "metadata": {
        "jupyter": {
          "source_hidden": false,
          "outputs_hidden": false
        },
        "nteract": {
          "transient": {
            "deleting": false
          }
        },
        "gather": {
          "logged": 1700165208180
        }
      }
    },
    {
      "cell_type": "code",
      "source": [
        "df_senti = df_senti.withColumnRenamed(\"col\", \"sentiment\")"
      ],
      "outputs": [
        {
          "output_type": "display_data",
          "data": {
            "application/vnd.livy.statement-meta+json": {
              "spark_pool": "3c67b279-1d53-4b7a-b0d9-41cb8b4b6723",
              "session_id": "40",
              "statement_id": 54,
              "state": "finished",
              "livy_statement_state": "available",
              "queued_time": "2023-11-16T19:35:22.0067193Z",
              "session_start_time": null,
              "execution_start_time": "2023-11-16T19:35:23.328078Z",
              "execution_finish_time": "2023-11-16T19:35:24.4103386Z",
              "spark_jobs": {
                "numbers": {
                  "FAILED": 0,
                  "SUCCEEDED": 0,
                  "RUNNING": 0,
                  "UNKNOWN": 0
                },
                "jobs": [],
                "limit": 20,
                "rule": "ALL_DESC"
              },
              "parent_msg_id": "f7fe1f52-9684-4d3f-b134-fe0a81ae41cb"
            },
            "text/plain": "StatementMeta(3c67b279-1d53-4b7a-b0d9-41cb8b4b6723, 40, 54, Finished, Available)"
          },
          "metadata": {}
        }
      ],
      "execution_count": 57,
      "metadata": {
        "jupyter": {
          "source_hidden": false,
          "outputs_hidden": false
        },
        "nteract": {
          "transient": {
            "deleting": false
          }
        },
        "gather": {
          "logged": 1700163325445
        }
      }
    },
    {
      "cell_type": "code",
      "source": [
        "df_senti2 = df_senti2.withColumnRenamed(\"col\", \"sentiment\")"
      ],
      "outputs": [
        {
          "output_type": "display_data",
          "data": {
            "application/vnd.livy.statement-meta+json": {
              "spark_pool": "3c67b279-1d53-4b7a-b0d9-41cb8b4b6723",
              "session_id": "40",
              "statement_id": 80,
              "state": "finished",
              "livy_statement_state": "available",
              "queued_time": "2023-11-16T20:06:51.243315Z",
              "session_start_time": null,
              "execution_start_time": "2023-11-16T20:06:51.3929822Z",
              "execution_finish_time": "2023-11-16T20:06:51.6877539Z",
              "spark_jobs": {
                "numbers": {
                  "FAILED": 0,
                  "SUCCEEDED": 0,
                  "RUNNING": 0,
                  "UNKNOWN": 0
                },
                "jobs": [],
                "limit": 20,
                "rule": "ALL_DESC"
              },
              "parent_msg_id": "c62b8411-3a1e-4407-afca-a12daecc9d36"
            },
            "text/plain": "StatementMeta(3c67b279-1d53-4b7a-b0d9-41cb8b4b6723, 40, 80, Finished, Available)"
          },
          "metadata": {}
        }
      ],
      "execution_count": 83,
      "metadata": {
        "jupyter": {
          "source_hidden": false,
          "outputs_hidden": false
        },
        "nteract": {
          "transient": {
            "deleting": false
          }
        },
        "gather": {
          "logged": 1700165212796
        }
      }
    },
    {
      "cell_type": "code",
      "source": [
        "df_senti.show(5)"
      ],
      "outputs": [
        {
          "output_type": "display_data",
          "data": {
            "application/vnd.livy.statement-meta+json": {
              "spark_pool": "3c67b279-1d53-4b7a-b0d9-41cb8b4b6723",
              "session_id": "40",
              "statement_id": 77,
              "state": "finished",
              "livy_statement_state": "available",
              "queued_time": "2023-11-16T20:06:29.7825781Z",
              "session_start_time": null,
              "execution_start_time": "2023-11-16T20:06:29.8943686Z",
              "execution_finish_time": "2023-11-16T20:06:30.7006046Z",
              "spark_jobs": {
                "numbers": {
                  "FAILED": 0,
                  "SUCCEEDED": 1,
                  "RUNNING": 0,
                  "UNKNOWN": 0
                },
                "jobs": [
                  {
                    "displayName": "showString at <unknown>:0",
                    "dataWritten": 0,
                    "dataRead": 27104,
                    "rowCount": 1,
                    "usageDescription": "",
                    "jobId": 32,
                    "name": "showString at <unknown>:0",
                    "description": "Job group for statement 77:\ndf_senti.show(5)",
                    "submissionTime": "2023-11-16T20:06:30.010GMT",
                    "completionTime": "2023-11-16T20:06:30.127GMT",
                    "stageIds": [
                      32
                    ],
                    "jobGroup": "77",
                    "status": "SUCCEEDED",
                    "numTasks": 1,
                    "numActiveTasks": 0,
                    "numCompletedTasks": 1,
                    "numSkippedTasks": 0,
                    "numFailedTasks": 0,
                    "numKilledTasks": 0,
                    "numCompletedIndices": 1,
                    "numActiveStages": 0,
                    "numCompletedStages": 1,
                    "numSkippedStages": 0,
                    "numFailedStages": 0,
                    "killedTasksSummary": {}
                  }
                ],
                "limit": 20,
                "rule": "ALL_DESC"
              },
              "parent_msg_id": "1fa7800a-1b20-461f-b5cb-9ff122b7db18"
            },
            "text/plain": "StatementMeta(3c67b279-1d53-4b7a-b0d9-41cb8b4b6723, 40, 77, Finished, Available)"
          },
          "metadata": {}
        },
        {
          "output_type": "stream",
          "name": "stdout",
          "text": "+---------+---------+\n|subreddit|sentiment|\n+---------+---------+\n|  pokemon|      pos|\n|     FIFA|      pos|\n|     FIFA|      neg|\n|  pokemon|      neg|\n|  pokemon|      pos|\n+---------+---------+\nonly showing top 5 rows\n\n"
        }
      ],
      "execution_count": 80,
      "metadata": {
        "jupyter": {
          "source_hidden": false,
          "outputs_hidden": false
        },
        "nteract": {
          "transient": {
            "deleting": false
          }
        },
        "gather": {
          "logged": 1700165191847
        }
      }
    },
    {
      "cell_type": "code",
      "source": [
        "df_senti2.show(5)"
      ],
      "outputs": [
        {
          "output_type": "display_data",
          "data": {
            "application/vnd.livy.statement-meta+json": {
              "spark_pool": "3c67b279-1d53-4b7a-b0d9-41cb8b4b6723",
              "session_id": "40",
              "statement_id": 81,
              "state": "finished",
              "livy_statement_state": "available",
              "queued_time": "2023-11-16T20:06:58.7480629Z",
              "session_start_time": null,
              "execution_start_time": "2023-11-16T20:06:58.844323Z",
              "execution_finish_time": "2023-11-16T20:06:59.6596321Z",
              "spark_jobs": {
                "numbers": {
                  "FAILED": 0,
                  "SUCCEEDED": 1,
                  "RUNNING": 0,
                  "UNKNOWN": 0
                },
                "jobs": [
                  {
                    "displayName": "showString at <unknown>:0",
                    "dataWritten": 0,
                    "dataRead": 39128,
                    "rowCount": 1,
                    "usageDescription": "",
                    "jobId": 33,
                    "name": "showString at <unknown>:0",
                    "description": "Job group for statement 81:\ndf_senti2.show(5)",
                    "submissionTime": "2023-11-16T20:06:59.033GMT",
                    "completionTime": "2023-11-16T20:06:59.237GMT",
                    "stageIds": [
                      33
                    ],
                    "jobGroup": "81",
                    "status": "SUCCEEDED",
                    "numTasks": 1,
                    "numActiveTasks": 0,
                    "numCompletedTasks": 1,
                    "numSkippedTasks": 0,
                    "numFailedTasks": 0,
                    "numKilledTasks": 0,
                    "numCompletedIndices": 1,
                    "numActiveStages": 0,
                    "numCompletedStages": 1,
                    "numSkippedStages": 0,
                    "numFailedStages": 0,
                    "killedTasksSummary": {}
                  }
                ],
                "limit": 20,
                "rule": "ALL_DESC"
              },
              "parent_msg_id": "f331dea3-a96a-4c6a-b7d4-b092e83f04da"
            },
            "text/plain": "StatementMeta(3c67b279-1d53-4b7a-b0d9-41cb8b4b6723, 40, 81, Finished, Available)"
          },
          "metadata": {}
        },
        {
          "output_type": "stream",
          "name": "stdout",
          "text": "+---------+---------+\n|subreddit|sentiment|\n+---------+---------+\n|  pokemon|      pos|\n|     FIFA|      pos|\n|     FIFA|      neg|\n|  pokemon|      neg|\n|  pokemon|      pos|\n+---------+---------+\nonly showing top 5 rows\n\n"
        }
      ],
      "execution_count": 84,
      "metadata": {
        "jupyter": {
          "source_hidden": false,
          "outputs_hidden": false
        },
        "nteract": {
          "transient": {
            "deleting": false
          }
        },
        "gather": {
          "logged": 1700165220666
        }
      }
    },
    {
      "cell_type": "code",
      "source": [
        "df_senti_count = df_senti.groupBy(\"subreddit\",\"sentiment\").count().toPandas()"
      ],
      "outputs": [
        {
          "output_type": "display_data",
          "data": {
            "application/vnd.livy.statement-meta+json": {
              "spark_pool": "3c67b279-1d53-4b7a-b0d9-41cb8b4b6723",
              "session_id": "13",
              "statement_id": 30,
              "state": "finished",
              "livy_statement_state": "available",
              "queued_time": "2023-11-15T21:40:13.8143154Z",
              "session_start_time": null,
              "execution_start_time": "2023-11-15T21:40:13.9356497Z",
              "execution_finish_time": "2023-11-15T22:04:00.1191515Z",
              "spark_jobs": {
                "numbers": {
                  "FAILED": 0,
                  "SUCCEEDED": 2,
                  "UNKNOWN": 0,
                  "RUNNING": 0
                },
                "jobs": [
                  {
                    "displayName": "toPandas at /tmp/ipykernel_10693/2006642964.py:1",
                    "dataWritten": 0,
                    "dataRead": 4940184,
                    "rowCount": 54756,
                    "usageDescription": "",
                    "jobId": 10,
                    "name": "toPandas at /tmp/ipykernel_10693/2006642964.py:1",
                    "description": "Job group for statement 30:\ndf_senti_count = df_senti.groupBy(\"subreddit\",\"sentiment\").count().toPandas()",
                    "submissionTime": "2023-11-15T22:03:55.903GMT",
                    "completionTime": "2023-11-15T22:03:57.897GMT",
                    "stageIds": [
                      10,
                      11
                    ],
                    "jobGroup": "30",
                    "status": "SUCCEEDED",
                    "numTasks": 3084,
                    "numActiveTasks": 0,
                    "numCompletedTasks": 4,
                    "numSkippedTasks": 3080,
                    "numFailedTasks": 0,
                    "numKilledTasks": 0,
                    "numCompletedIndices": 4,
                    "numActiveStages": 0,
                    "numCompletedStages": 1,
                    "numSkippedStages": 1,
                    "numFailedStages": 0,
                    "killedTasksSummary": {}
                  },
                  {
                    "displayName": "toPandas at /tmp/ipykernel_10693/2006642964.py:1",
                    "dataWritten": 4940184,
                    "dataRead": 55148804458,
                    "rowCount": 891992984,
                    "usageDescription": "",
                    "jobId": 9,
                    "name": "toPandas at /tmp/ipykernel_10693/2006642964.py:1",
                    "description": "Job group for statement 30:\ndf_senti_count = df_senti.groupBy(\"subreddit\",\"sentiment\").count().toPandas()",
                    "submissionTime": "2023-11-15T21:40:15.736GMT",
                    "completionTime": "2023-11-15T22:03:54.972GMT",
                    "stageIds": [
                      9
                    ],
                    "jobGroup": "30",
                    "status": "SUCCEEDED",
                    "numTasks": 3080,
                    "numActiveTasks": 0,
                    "numCompletedTasks": 3080,
                    "numSkippedTasks": 0,
                    "numFailedTasks": 0,
                    "numKilledTasks": 0,
                    "numCompletedIndices": 3080,
                    "numActiveStages": 0,
                    "numCompletedStages": 1,
                    "numSkippedStages": 0,
                    "numFailedStages": 0,
                    "killedTasksSummary": {}
                  }
                ],
                "limit": 20,
                "rule": "ALL_DESC"
              },
              "parent_msg_id": "d6851ee6-0b60-425a-bda8-d61c8d177b9f"
            },
            "text/plain": "StatementMeta(3c67b279-1d53-4b7a-b0d9-41cb8b4b6723, 13, 30, Finished, Available)"
          },
          "metadata": {}
        }
      ],
      "execution_count": 37,
      "metadata": {
        "jupyter": {
          "source_hidden": false,
          "outputs_hidden": false
        },
        "nteract": {
          "transient": {
            "deleting": false
          }
        },
        "gather": {
          "logged": 1700085840451
        }
      }
    },
    {
      "cell_type": "code",
      "source": [
        "df_filtered_use=df_filtered.limit(10000)\n",
        "df_senti_use=df_senti2.limit(10000)"
      ],
      "outputs": [
        {
          "output_type": "display_data",
          "data": {
            "application/vnd.livy.statement-meta+json": {
              "spark_pool": "3c67b279-1d53-4b7a-b0d9-41cb8b4b6723",
              "session_id": "40",
              "statement_id": 82,
              "state": "finished",
              "livy_statement_state": "available",
              "queued_time": "2023-11-16T20:07:17.6145182Z",
              "session_start_time": null,
              "execution_start_time": "2023-11-16T20:07:17.7114496Z",
              "execution_finish_time": "2023-11-16T20:07:18.0085284Z",
              "spark_jobs": {
                "numbers": {
                  "FAILED": 0,
                  "SUCCEEDED": 0,
                  "RUNNING": 0,
                  "UNKNOWN": 0
                },
                "jobs": [],
                "limit": 20,
                "rule": "ALL_DESC"
              },
              "parent_msg_id": "ec0b503d-71ba-4a8c-9177-d72ba55b13b2"
            },
            "text/plain": "StatementMeta(3c67b279-1d53-4b7a-b0d9-41cb8b4b6723, 40, 82, Finished, Available)"
          },
          "metadata": {}
        }
      ],
      "execution_count": 85,
      "metadata": {
        "jupyter": {
          "source_hidden": false,
          "outputs_hidden": false
        },
        "nteract": {
          "transient": {
            "deleting": false
          }
        },
        "gather": {
          "logged": 1700165239179
        }
      }
    },
    {
      "cell_type": "code",
      "source": [
        "df_senti_use_final = df_senti_use.dop(\"subreddit\")\n",
        "df_filtered_use_final = df_filtered_use.drop(*(\"document\", \"sentence_embeddings\", \"sentiment\"))\n",
        "df_filtered_use_final.show(5)"
      ],
      "outputs": [
        {
          "output_type": "display_data",
          "data": {
            "application/vnd.livy.statement-meta+json": {
              "spark_pool": "3c67b279-1d53-4b7a-b0d9-41cb8b4b6723",
              "session_id": "40",
              "statement_id": 84,
              "state": "finished",
              "livy_statement_state": "available",
              "queued_time": "2023-11-16T20:08:16.284837Z",
              "session_start_time": null,
              "execution_start_time": "2023-11-16T20:08:16.392518Z",
              "execution_finish_time": "2023-11-16T20:08:17.1783355Z",
              "spark_jobs": {
                "numbers": {
                  "FAILED": 0,
                  "SUCCEEDED": 1,
                  "RUNNING": 0,
                  "UNKNOWN": 0
                },
                "jobs": [
                  {
                    "displayName": "showString at <unknown>:0",
                    "dataWritten": 0,
                    "dataRead": 39128,
                    "rowCount": 1,
                    "usageDescription": "",
                    "jobId": 34,
                    "name": "showString at <unknown>:0",
                    "description": "Job group for statement 84:\ndf_filtered_use_final = df_filtered_use.drop(*(\"document\", \"sentence_embeddings\", \"sentiment\"))\ndf_filtered_use_final.show(5)",
                    "submissionTime": "2023-11-16T20:08:16.570GMT",
                    "completionTime": "2023-11-16T20:08:16.718GMT",
                    "stageIds": [
                      34
                    ],
                    "jobGroup": "84",
                    "status": "SUCCEEDED",
                    "numTasks": 1,
                    "numActiveTasks": 0,
                    "numCompletedTasks": 1,
                    "numSkippedTasks": 0,
                    "numFailedTasks": 0,
                    "numKilledTasks": 0,
                    "numCompletedIndices": 1,
                    "numActiveStages": 0,
                    "numCompletedStages": 1,
                    "numSkippedStages": 0,
                    "numFailedStages": 0,
                    "killedTasksSummary": {}
                  }
                ],
                "limit": 20,
                "rule": "ALL_DESC"
              },
              "parent_msg_id": "84a76253-5bcd-48c5-8d62-9cd5409f518b"
            },
            "text/plain": "StatementMeta(3c67b279-1d53-4b7a-b0d9-41cb8b4b6723, 40, 84, Finished, Available)"
          },
          "metadata": {}
        },
        {
          "output_type": "stream",
          "name": "stdout",
          "text": "+---------+--------------------+--------------------+\n|subreddit|               title|            selftext|\n+---------+--------------------+--------------------+\n|  pokemon|the PokemonTogeth...|So several days a...|\n|     FIFA|should i select o...|           [removed]|\n|     FIFA| Team of the week 17|                    |\n|  pokemon|Who's a non-villa...|For me, Tyme insp...|\n|  pokemon|Zard Hunting in B...|           [removed]|\n+---------+--------------------+--------------------+\nonly showing top 5 rows\n\n"
        }
      ],
      "execution_count": 87,
      "metadata": {
        "jupyter": {
          "source_hidden": false,
          "outputs_hidden": false
        },
        "nteract": {
          "transient": {
            "deleting": false
          }
        },
        "gather": {
          "logged": 1700165298239
        }
      }
    },
    {
      "cell_type": "code",
      "source": [
        "from pyspark.sql.functions import monotonically_increasing_id"
      ],
      "outputs": [
        {
          "output_type": "display_data",
          "data": {
            "application/vnd.livy.statement-meta+json": {
              "spark_pool": "3c67b279-1d53-4b7a-b0d9-41cb8b4b6723",
              "session_id": "40",
              "statement_id": 89,
              "state": "finished",
              "livy_statement_state": "available",
              "queued_time": "2023-11-16T20:42:00.9042606Z",
              "session_start_time": null,
              "execution_start_time": "2023-11-16T20:42:01.0001087Z",
              "execution_finish_time": "2023-11-16T20:42:01.297688Z",
              "spark_jobs": {
                "numbers": {
                  "FAILED": 0,
                  "SUCCEEDED": 0,
                  "RUNNING": 0,
                  "UNKNOWN": 0
                },
                "jobs": [],
                "limit": 20,
                "rule": "ALL_DESC"
              },
              "parent_msg_id": "b530893d-872e-427f-a190-b5421ab668ed"
            },
            "text/plain": "StatementMeta(3c67b279-1d53-4b7a-b0d9-41cb8b4b6723, 40, 89, Finished, Available)"
          },
          "metadata": {}
        }
      ],
      "execution_count": 92,
      "metadata": {
        "jupyter": {
          "source_hidden": false,
          "outputs_hidden": false
        },
        "nteract": {
          "transient": {
            "deleting": false
          }
        },
        "gather": {
          "logged": 1700167322260
        }
      }
    },
    {
      "cell_type": "code",
      "source": [
        "df_senti_text_use = df_filtered_use_final.withColumn(\"index\", monotonically_increasing_id()).join(df_senti_use.withColumn(\"index\", monotonically_increasing_id()),\"index\").drop(\"index\")\n",
        "df_senti_text_use.show(5)"
      ],
      "outputs": [
        {
          "output_type": "display_data",
          "data": {
            "application/vnd.livy.statement-meta+json": {
              "spark_pool": "3c67b279-1d53-4b7a-b0d9-41cb8b4b6723",
              "session_id": "40",
              "statement_id": 90,
              "state": "finished",
              "livy_statement_state": "available",
              "queued_time": "2023-11-16T20:42:02.6930374Z",
              "session_start_time": null,
              "execution_start_time": "2023-11-16T20:42:02.792961Z",
              "execution_finish_time": "2023-11-16T20:49:44.1420549Z",
              "spark_jobs": {
                "numbers": {
                  "FAILED": 0,
                  "SUCCEEDED": 3,
                  "RUNNING": 0,
                  "UNKNOWN": 0
                },
                "jobs": [
                  {
                    "displayName": "showString at <unknown>:0",
                    "dataWritten": 0,
                    "dataRead": 0,
                    "rowCount": 0,
                    "usageDescription": "",
                    "jobId": 46,
                    "name": "showString at <unknown>:0",
                    "description": "Job group for statement 90:\ndf_senti_text_use = df_filtered_use_final.withColumn(\"index\", monotonically_increasing_id()).join(df_senti_use.withColumn(\"index\", monotonically_increasing_id()),\"index\").drop(\"index\")\ndf_senti_text_use.show(5)",
                    "submissionTime": "2023-11-16T20:49:42.731GMT",
                    "completionTime": "2023-11-16T20:49:42.870GMT",
                    "stageIds": [
                      49,
                      50
                    ],
                    "jobGroup": "90",
                    "status": "SUCCEEDED",
                    "numTasks": 3081,
                    "numActiveTasks": 0,
                    "numCompletedTasks": 1,
                    "numSkippedTasks": 3080,
                    "numFailedTasks": 0,
                    "numKilledTasks": 0,
                    "numCompletedIndices": 1,
                    "numActiveStages": 0,
                    "numCompletedStages": 1,
                    "numSkippedStages": 1,
                    "numFailedStages": 0,
                    "killedTasksSummary": {}
                  },
                  {
                    "displayName": "showString at <unknown>:0",
                    "dataWritten": 4882019,
                    "dataRead": 223679926,
                    "rowCount": 808488,
                    "usageDescription": "",
                    "jobId": 44,
                    "name": "showString at <unknown>:0",
                    "description": "Job group for statement 90:\ndf_senti_text_use = df_filtered_use_final.withColumn(\"index\", monotonically_increasing_id()).join(df_senti_use.withColumn(\"index\", monotonically_increasing_id()),\"index\").drop(\"index\")\ndf_senti_text_use.show(5)",
                    "submissionTime": "2023-11-16T20:42:03.203GMT",
                    "completionTime": "2023-11-16T20:49:42.402GMT",
                    "stageIds": [
                      46
                    ],
                    "jobGroup": "90",
                    "status": "SUCCEEDED",
                    "numTasks": 3080,
                    "numActiveTasks": 0,
                    "numCompletedTasks": 3080,
                    "numSkippedTasks": 0,
                    "numFailedTasks": 0,
                    "numKilledTasks": 0,
                    "numCompletedIndices": 3080,
                    "numActiveStages": 0,
                    "numCompletedStages": 1,
                    "numSkippedStages": 0,
                    "numFailedStages": 0,
                    "killedTasksSummary": {}
                  },
                  {
                    "displayName": "showString at <unknown>:0",
                    "dataWritten": 118649182,
                    "dataRead": 223678731,
                    "rowCount": 808488,
                    "usageDescription": "",
                    "jobId": 43,
                    "name": "showString at <unknown>:0",
                    "description": "Job group for statement 90:\ndf_senti_text_use = df_filtered_use_final.withColumn(\"index\", monotonically_increasing_id()).join(df_senti_use.withColumn(\"index\", monotonically_increasing_id()),\"index\").drop(\"index\")\ndf_senti_text_use.show(5)",
                    "submissionTime": "2023-11-16T20:42:03.055GMT",
                    "completionTime": "2023-11-16T20:43:59.387GMT",
                    "stageIds": [
                      45
                    ],
                    "jobGroup": "90",
                    "status": "SUCCEEDED",
                    "numTasks": 3080,
                    "numActiveTasks": 0,
                    "numCompletedTasks": 3080,
                    "numSkippedTasks": 0,
                    "numFailedTasks": 0,
                    "numKilledTasks": 0,
                    "numCompletedIndices": 3080,
                    "numActiveStages": 0,
                    "numCompletedStages": 1,
                    "numSkippedStages": 0,
                    "numFailedStages": 0,
                    "killedTasksSummary": {}
                  }
                ],
                "limit": 20,
                "rule": "ALL_DESC"
              },
              "parent_msg_id": "d4c088c4-a3d7-4a05-84b5-fc2986d9db46"
            },
            "text/plain": "StatementMeta(3c67b279-1d53-4b7a-b0d9-41cb8b4b6723, 40, 90, Finished, Available)"
          },
          "metadata": {}
        },
        {
          "output_type": "stream",
          "name": "stdout",
          "text": "+---------+--------------------+--------------------+---------+---------+\n|subreddit|               title|            selftext|subreddit|sentiment|\n+---------+--------------------+--------------------+---------+---------+\n|  pokemon|the PokemonTogeth...|So several days a...|  pokemon|      pos|\n|     FIFA|should i select o...|           [removed]|     FIFA|      pos|\n|     FIFA| Team of the week 17|                    |     FIFA|      neg|\n|  pokemon|Who's a non-villa...|For me, Tyme insp...|  pokemon|      neg|\n|  pokemon|Zard Hunting in B...|           [removed]|  pokemon|      pos|\n+---------+--------------------+--------------------+---------+---------+\nonly showing top 5 rows\n\n"
        }
      ],
      "execution_count": 93,
      "metadata": {
        "jupyter": {
          "source_hidden": false,
          "outputs_hidden": false
        },
        "nteract": {
          "transient": {
            "deleting": false
          }
        },
        "gather": {
          "logged": 1700167785251
        }
      }
    },
    {
      "cell_type": "code",
      "source": [
        "df_senti_text_use.columns"
      ],
      "outputs": [
        {
          "output_type": "display_data",
          "data": {
            "application/vnd.livy.statement-meta+json": {
              "spark_pool": "3c67b279-1d53-4b7a-b0d9-41cb8b4b6723",
              "session_id": "40",
              "statement_id": 105,
              "state": "finished",
              "livy_statement_state": "available",
              "queued_time": "2023-11-16T21:04:10.0263909Z",
              "session_start_time": null,
              "execution_start_time": "2023-11-16T21:04:10.1411007Z",
              "execution_finish_time": "2023-11-16T21:04:10.4494455Z",
              "spark_jobs": {
                "numbers": {
                  "FAILED": 0,
                  "SUCCEEDED": 0,
                  "RUNNING": 0,
                  "UNKNOWN": 0
                },
                "jobs": [],
                "limit": 20,
                "rule": "ALL_DESC"
              },
              "parent_msg_id": "7ed69543-7246-4041-a161-6721ac97e43d"
            },
            "text/plain": "StatementMeta(3c67b279-1d53-4b7a-b0d9-41cb8b4b6723, 40, 105, Finished, Available)"
          },
          "metadata": {}
        },
        {
          "output_type": "execute_result",
          "execution_count": 203,
          "data": {
            "text/plain": "['subreddit', 'title', 'selftext', 'subreddit', 'sentiment']"
          },
          "metadata": {}
        }
      ],
      "execution_count": 108,
      "metadata": {
        "jupyter": {
          "source_hidden": false,
          "outputs_hidden": false
        },
        "nteract": {
          "transient": {
            "deleting": false
          }
        },
        "gather": {
          "logged": 1700168651463
        }
      }
    },
    {
      "cell_type": "code",
      "source": [
        "df_senti_text_save=df_senti_text_use.toPandas()"
      ],
      "outputs": [
        {
          "output_type": "display_data",
          "data": {
            "application/vnd.livy.statement-meta+json": {
              "spark_pool": "3c67b279-1d53-4b7a-b0d9-41cb8b4b6723",
              "session_id": "40",
              "statement_id": 108,
              "state": "finished",
              "livy_statement_state": "available",
              "queued_time": "2023-11-16T21:08:03.1627885Z",
              "session_start_time": null,
              "execution_start_time": "2023-11-16T21:08:03.3409223Z",
              "execution_finish_time": "2023-11-16T21:15:41.7494411Z",
              "spark_jobs": {
                "numbers": {
                  "FAILED": 0,
                  "SUCCEEDED": 3,
                  "RUNNING": 0,
                  "UNKNOWN": 0
                },
                "jobs": [
                  {
                    "displayName": "toPandas at /tmp/ipykernel_9261/1735211194.py:1",
                    "dataWritten": 0,
                    "dataRead": 0,
                    "rowCount": 0,
                    "usageDescription": "",
                    "jobId": 60,
                    "name": "toPandas at /tmp/ipykernel_9261/1735211194.py:1",
                    "description": "Job group for statement 108:\ndf_senti_text_save=df_senti_text_use.toPandas()",
                    "submissionTime": "2023-11-16T21:15:40.060GMT",
                    "completionTime": "2023-11-16T21:15:40.771GMT",
                    "stageIds": [
                      66,
                      67
                    ],
                    "jobGroup": "108",
                    "status": "SUCCEEDED",
                    "numTasks": 3081,
                    "numActiveTasks": 0,
                    "numCompletedTasks": 1,
                    "numSkippedTasks": 3080,
                    "numFailedTasks": 0,
                    "numKilledTasks": 0,
                    "numCompletedIndices": 1,
                    "numActiveStages": 0,
                    "numCompletedStages": 1,
                    "numSkippedStages": 1,
                    "numFailedStages": 0,
                    "killedTasksSummary": {}
                  },
                  {
                    "displayName": "toPandas at /tmp/ipykernel_9261/1735211194.py:1",
                    "dataWritten": 4882019,
                    "dataRead": 223660253,
                    "rowCount": 808488,
                    "usageDescription": "",
                    "jobId": 58,
                    "name": "toPandas at /tmp/ipykernel_9261/1735211194.py:1",
                    "description": "Job group for statement 108:\ndf_senti_text_save=df_senti_text_use.toPandas()",
                    "submissionTime": "2023-11-16T21:08:03.643GMT",
                    "completionTime": "2023-11-16T21:15:39.786GMT",
                    "stageIds": [
                      63
                    ],
                    "jobGroup": "108",
                    "status": "SUCCEEDED",
                    "numTasks": 3080,
                    "numActiveTasks": 0,
                    "numCompletedTasks": 3080,
                    "numSkippedTasks": 0,
                    "numFailedTasks": 0,
                    "numKilledTasks": 0,
                    "numCompletedIndices": 3080,
                    "numActiveStages": 0,
                    "numCompletedStages": 1,
                    "numSkippedStages": 0,
                    "numFailedStages": 0,
                    "killedTasksSummary": {}
                  },
                  {
                    "displayName": "toPandas at /tmp/ipykernel_9261/1735211194.py:1",
                    "dataWritten": 118649182,
                    "dataRead": 223719560,
                    "rowCount": 808488,
                    "usageDescription": "",
                    "jobId": 57,
                    "name": "toPandas at /tmp/ipykernel_9261/1735211194.py:1",
                    "description": "Job group for statement 108:\ndf_senti_text_save=df_senti_text_use.toPandas()",
                    "submissionTime": "2023-11-16T21:08:03.511GMT",
                    "completionTime": "2023-11-16T21:09:59.540GMT",
                    "stageIds": [
                      62
                    ],
                    "jobGroup": "108",
                    "status": "SUCCEEDED",
                    "numTasks": 3080,
                    "numActiveTasks": 0,
                    "numCompletedTasks": 3080,
                    "numSkippedTasks": 0,
                    "numFailedTasks": 0,
                    "numKilledTasks": 0,
                    "numCompletedIndices": 3080,
                    "numActiveStages": 0,
                    "numCompletedStages": 1,
                    "numSkippedStages": 0,
                    "numFailedStages": 0,
                    "killedTasksSummary": {}
                  }
                ],
                "limit": 20,
                "rule": "ALL_DESC"
              },
              "parent_msg_id": "5ee7e0f1-0f7b-4f49-b5eb-1fd425d3d55d"
            },
            "text/plain": "StatementMeta(3c67b279-1d53-4b7a-b0d9-41cb8b4b6723, 40, 108, Finished, Available)"
          },
          "metadata": {}
        }
      ],
      "execution_count": 111,
      "metadata": {
        "jupyter": {
          "source_hidden": false,
          "outputs_hidden": false
        },
        "nteract": {
          "transient": {
            "deleting": false
          }
        },
        "gather": {
          "logged": 1700169342740
        }
      }
    },
    {
      "cell_type": "code",
      "source": [
        "import os\n",
        "CSV_DIR = os.path.join(\"Users/ky285/fall-2023-reddit-project-team-11/data\", \"csv\")\n",
        "df_senti_count.to_csv(f\"{CSV_DIR}/sentiment_count_top10.csv\", index=False)"
      ],
      "outputs": [
        {
          "output_type": "display_data",
          "data": {
            "application/vnd.livy.statement-meta+json": {
              "spark_pool": "3c67b279-1d53-4b7a-b0d9-41cb8b4b6723",
              "session_id": "13",
              "statement_id": 34,
              "state": "finished",
              "livy_statement_state": "available",
              "queued_time": "2023-11-15T22:06:33.2841633Z",
              "session_start_time": null,
              "execution_start_time": "2023-11-15T22:06:36.1995744Z",
              "execution_finish_time": "2023-11-15T22:06:37.3342945Z",
              "spark_jobs": {
                "numbers": {
                  "FAILED": 0,
                  "SUCCEEDED": 0,
                  "UNKNOWN": 0,
                  "RUNNING": 0
                },
                "jobs": [],
                "limit": 20,
                "rule": "ALL_DESC"
              },
              "parent_msg_id": "c4cfbd4e-3e78-415a-9be9-a29f42a70e37"
            },
            "text/plain": "StatementMeta(3c67b279-1d53-4b7a-b0d9-41cb8b4b6723, 13, 34, Finished, Available)"
          },
          "metadata": {}
        }
      ],
      "execution_count": 41,
      "metadata": {
        "jupyter": {
          "source_hidden": false,
          "outputs_hidden": false
        },
        "nteract": {
          "transient": {
            "deleting": false
          }
        },
        "gather": {
          "logged": 1700085997527
        }
      }
    },
    {
      "cell_type": "code",
      "source": [
        "import os\n",
        "CSV_DIR = os.path.join(\"Users/zx111/fall-2023-reddit-project-team-11/data\", \"csv\")\n",
        "df_senti_text_save.to_csv(f\"{CSV_DIR}/sentiment_text_top10.csv\", index=False)"
      ],
      "outputs": [
        {
          "output_type": "display_data",
          "data": {
            "application/vnd.livy.statement-meta+json": {
              "spark_pool": "3c67b279-1d53-4b7a-b0d9-41cb8b4b6723",
              "session_id": "40",
              "statement_id": 109,
              "state": "finished",
              "livy_statement_state": "available",
              "queued_time": "2023-11-16T21:08:11.9713484Z",
              "session_start_time": null,
              "execution_start_time": "2023-11-16T21:15:41.8656512Z",
              "execution_finish_time": "2023-11-16T21:15:44.0190893Z",
              "spark_jobs": {
                "numbers": {
                  "FAILED": 0,
                  "SUCCEEDED": 0,
                  "RUNNING": 0,
                  "UNKNOWN": 0
                },
                "jobs": [],
                "limit": 20,
                "rule": "ALL_DESC"
              },
              "parent_msg_id": "de9a7fb6-3759-485b-b68e-8d606a6fa525"
            },
            "text/plain": "StatementMeta(3c67b279-1d53-4b7a-b0d9-41cb8b4b6723, 40, 109, Finished, Available)"
          },
          "metadata": {}
        }
      ],
      "execution_count": 112,
      "metadata": {
        "jupyter": {
          "source_hidden": false,
          "outputs_hidden": false
        },
        "nteract": {
          "transient": {
            "deleting": false
          }
        },
        "gather": {
          "logged": 1700169344946
        }
      }
    }
  ],
  "metadata": {
    "language_info": {
      "name": "python",
      "version": "3.8.0",
      "mimetype": "text/x-python",
      "file_extension": ".py",
      "pygments_lexer": "ipython",
      "codemirror_mode": "ipython",
      "nbconvert_exporter": "python"
    },
    "orig_nbformat": 4,
    "microsoft": {
      "ms_spell_check": {
        "ms_spell_check_language": "en"
      },
      "host": {
        "AzureML": {
          "notebookHasBeenCompleted": true
        }
      }
    },
    "kernelspec": {
      "name": "synapse_pyspark",
      "language": "Python",
      "display_name": "Synapse PySpark"
    },
    "kernel_info": {
      "name": "synapse_pyspark"
    },
    "nteract": {
      "version": "nteract-front-end@1.0.0"
    }
  },
  "nbformat": 4,
  "nbformat_minor": 2
}