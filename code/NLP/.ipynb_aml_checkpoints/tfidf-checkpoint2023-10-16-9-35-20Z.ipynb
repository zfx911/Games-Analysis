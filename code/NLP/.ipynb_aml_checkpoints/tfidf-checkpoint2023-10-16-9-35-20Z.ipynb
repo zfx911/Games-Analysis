{
  "cells": [
    {
      "cell_type": "markdown",
      "source": [
        "In interactive notebook, the `spark` object is already created.\n",
        "Instructors tested with 1 driver, 6 executors of small e4 (24 cores, 192GB memory)"
      ],
      "metadata": {
        "nteract": {
          "transient": {
            "deleting": false
          }
        }
      }
    },
    {
      "cell_type": "markdown",
      "source": [
        "### Launch spark environment"
      ],
      "metadata": {
        "nteract": {
          "transient": {
            "deleting": false
          }
        }
      }
    },
    {
      "cell_type": "code",
      "source": [
        "spark"
      ],
      "outputs": [
        {
          "output_type": "display_data",
          "data": {
            "application/vnd.livy.statement-meta+json": {
              "spark_pool": "3c67b279-1d53-4b7a-b0d9-41cb8b4b6723",
              "session_id": "29",
              "statement_id": 6,
              "state": "finished",
              "livy_statement_state": "available",
              "queued_time": "2023-11-16T08:31:36.2644183Z",
              "session_start_time": "2023-11-16T08:31:36.3335545Z",
              "execution_start_time": "2023-11-16T08:32:28.6956535Z",
              "execution_finish_time": "2023-11-16T08:32:29.1314051Z",
              "spark_jobs": {
                "numbers": {
                  "SUCCEEDED": 0,
                  "RUNNING": 0,
                  "FAILED": 0,
                  "UNKNOWN": 0
                },
                "jobs": [],
                "limit": 20,
                "rule": "ALL_DESC"
              },
              "parent_msg_id": "2020eaa0-39d3-468c-ac3b-a2597d88ac70"
            },
            "text/plain": "StatementMeta(3c67b279-1d53-4b7a-b0d9-41cb8b4b6723, 29, 6, Finished, Available)"
          },
          "metadata": {}
        },
        {
          "output_type": "execute_result",
          "execution_count": 11,
          "data": {
            "text/plain": "<pyspark.sql.session.SparkSession at 0x7f4375bd7820>",
            "text/html": "\n            <div>\n                <p><b>SparkSession - hive</b></p>\n                \n        <div>\n            <p><b>SparkContext</b></p>\n\n            <p><a href=\"http://vm-24059505:36173\">Spark UI</a></p>\n\n            <dl>\n              <dt>Version</dt>\n                <dd><code>v3.2.2.5.1-100879434</code></dd>\n              <dt>Master</dt>\n                <dd><code>yarn</code></dd>\n              <dt>AppName</dt>\n                <dd><code>Azure ML Experiment</code></dd>\n            </dl>\n        </div>\n        \n            </div>\n        "
          },
          "metadata": {}
        }
      ],
      "execution_count": 1,
      "metadata": {
        "jupyter": {
          "source_hidden": false,
          "outputs_hidden": false
        },
        "nteract": {
          "transient": {
            "deleting": false
          }
        },
        "gather": {
          "logged": 1700123549271
        }
      }
    },
    {
      "cell_type": "code",
      "source": [
        "%%configure -f \\\n",
        "{\"conf\": {\"spark.jars.packages\": \"com.johnsnowlabs.nlp:spark-nlp_2.12:5.1.2\"}}"
      ],
      "outputs": [
        {
          "output_type": "display_data",
          "data": {
            "application/vnd.livy.statement-meta+json": {
              "spark_pool": "3c67b279-1d53-4b7a-b0d9-41cb8b4b6723",
              "session_id": "30",
              "statement_id": -1,
              "state": "finished",
              "livy_statement_state": "available",
              "queued_time": "2023-11-16T08:31:36.2736373Z",
              "session_start_time": "2023-11-16T08:32:29.2794461Z",
              "execution_start_time": "2023-11-16T08:34:06.8574548Z",
              "execution_finish_time": "2023-11-16T08:34:06.8886948Z",
              "spark_jobs": {
                "numbers": {
                  "SUCCEEDED": 0,
                  "RUNNING": 0,
                  "FAILED": 0,
                  "UNKNOWN": 0
                },
                "jobs": [],
                "limit": 20,
                "rule": "ALL_DESC"
              },
              "parent_msg_id": "a65e8be0-889a-431c-beec-0942c27f372c"
            },
            "text/plain": "StatementMeta(3c67b279-1d53-4b7a-b0d9-41cb8b4b6723, 30, -1, Finished, Available)"
          },
          "metadata": {}
        },
        {
          "output_type": "stream",
          "name": "stdout",
          "text": "Unrecognized options: "
        }
      ],
      "execution_count": 2,
      "metadata": {
        "jupyter": {
          "source_hidden": false,
          "outputs_hidden": false
        },
        "nteract": {
          "transient": {
            "deleting": false
          }
        }
      }
    },
    {
      "cell_type": "markdown",
      "source": [
        "### Set up data configuration"
      ],
      "metadata": {
        "nteract": {
          "transient": {
            "deleting": false
          }
        }
      }
    },
    {
      "cell_type": "code",
      "source": [
        "blob_account_name = \"marckvnonprodblob\"\n",
        "blob_container_name = \"bigdata\"\n",
        "# read only\n",
        "blob_sas_token = \"?sv=2021-10-04&st=2023-10-04T01%3A42%3A59Z&se=2024-01-02T02%3A42%3A00Z&sr=c&sp=rlf&sig=w3CH9MbCOpwO7DtHlrahc7AlRPxSZZb8MOgS6TaXLzI%3D\"\n",
        "\n",
        "wasbs_base_url = (\n",
        "    f\"wasbs://{blob_container_name}@{blob_account_name}.blob.core.windows.net/\"\n",
        ")\n",
        "spark.conf.set(\n",
        "    f\"fs.azure.sas.{blob_container_name}.{blob_account_name}.blob.core.windows.net\",\n",
        "    blob_sas_token,\n",
        ")"
      ],
      "outputs": [
        {
          "output_type": "display_data",
          "data": {
            "application/vnd.livy.statement-meta+json": {
              "spark_pool": "3c67b279-1d53-4b7a-b0d9-41cb8b4b6723",
              "session_id": "30",
              "statement_id": 6,
              "state": "finished",
              "livy_statement_state": "available",
              "queued_time": "2023-11-16T08:31:36.2777221Z",
              "session_start_time": null,
              "execution_start_time": "2023-11-16T08:34:25.8624355Z",
              "execution_finish_time": "2023-11-16T08:34:26.2079016Z",
              "spark_jobs": {
                "numbers": {
                  "SUCCEEDED": 0,
                  "RUNNING": 0,
                  "FAILED": 0,
                  "UNKNOWN": 0
                },
                "jobs": [],
                "limit": 20,
                "rule": "ALL_DESC"
              },
              "parent_msg_id": "f7ca1d86-1c13-4683-8e63-a631589b783c"
            },
            "text/plain": "StatementMeta(3c67b279-1d53-4b7a-b0d9-41cb8b4b6723, 30, 6, Finished, Available)"
          },
          "metadata": {}
        }
      ],
      "execution_count": 3,
      "metadata": {
        "jupyter": {
          "source_hidden": false,
          "outputs_hidden": false
        },
        "nteract": {
          "transient": {
            "deleting": false
          }
        },
        "gather": {
          "logged": 1700123666260
        }
      }
    },
    {
      "cell_type": "markdown",
      "source": [
        "#### Reading in single parquet file"
      ],
      "metadata": {
        "nteract": {
          "transient": {
            "deleting": false
          }
        }
      }
    },
    {
      "cell_type": "code",
      "source": [
        "comments_path = \"reddit-parquet/comments/\"\n",
        "submissions_path = \"reddit-parquet/submissions/\""
      ],
      "outputs": [
        {
          "output_type": "display_data",
          "data": {
            "application/vnd.livy.statement-meta+json": {
              "spark_pool": "3c67b279-1d53-4b7a-b0d9-41cb8b4b6723",
              "session_id": "30",
              "statement_id": 7,
              "state": "finished",
              "livy_statement_state": "available",
              "queued_time": "2023-11-16T08:31:36.2787058Z",
              "session_start_time": null,
              "execution_start_time": "2023-11-16T08:34:26.332119Z",
              "execution_finish_time": "2023-11-16T08:34:26.6439123Z",
              "spark_jobs": {
                "numbers": {
                  "SUCCEEDED": 0,
                  "RUNNING": 0,
                  "FAILED": 0,
                  "UNKNOWN": 0
                },
                "jobs": [],
                "limit": 20,
                "rule": "ALL_DESC"
              },
              "parent_msg_id": "854c8fee-602b-4f47-9946-e3d7e7f97d38"
            },
            "text/plain": "StatementMeta(3c67b279-1d53-4b7a-b0d9-41cb8b4b6723, 30, 7, Finished, Available)"
          },
          "metadata": {}
        }
      ],
      "execution_count": 4,
      "metadata": {
        "jupyter": {
          "source_hidden": false,
          "outputs_hidden": false
        },
        "nteract": {
          "transient": {
            "deleting": false
          }
        },
        "gather": {
          "logged": 1700123666663
        }
      }
    },
    {
      "cell_type": "code",
      "source": [
        "topic = [\"Tetris\",\"pokemon\",\"SuperMario\",\"GTA\",\"CallOfDuty\",\"FIFA\",\"legostarwars\",\n",
        "\"assassinscreed\",\"thesims\",\"FinalFantasy\"] "
      ],
      "outputs": [
        {
          "output_type": "display_data",
          "data": {
            "application/vnd.livy.statement-meta+json": {
              "spark_pool": "3c67b279-1d53-4b7a-b0d9-41cb8b4b6723",
              "session_id": "30",
              "statement_id": 8,
              "state": "finished",
              "livy_statement_state": "available",
              "queued_time": "2023-11-16T08:31:36.2799287Z",
              "session_start_time": null,
              "execution_start_time": "2023-11-16T08:34:26.7698107Z",
              "execution_finish_time": "2023-11-16T08:34:27.0673589Z",
              "spark_jobs": {
                "numbers": {
                  "SUCCEEDED": 0,
                  "RUNNING": 0,
                  "FAILED": 0,
                  "UNKNOWN": 0
                },
                "jobs": [],
                "limit": 20,
                "rule": "ALL_DESC"
              },
              "parent_msg_id": "e3387a24-b342-4662-a1e6-dcd497ccb942"
            },
            "text/plain": "StatementMeta(3c67b279-1d53-4b7a-b0d9-41cb8b4b6723, 30, 8, Finished, Available)"
          },
          "metadata": {}
        }
      ],
      "execution_count": 5,
      "metadata": {
        "jupyter": {
          "source_hidden": false,
          "outputs_hidden": false
        },
        "nteract": {
          "transient": {
            "deleting": false
          }
        },
        "gather": {
          "logged": 1700123667111
        }
      }
    },
    {
      "cell_type": "markdown",
      "source": [
        "### Reeading in all of the Reddit data"
      ],
      "metadata": {
        "nteract": {
          "transient": {
            "deleting": false
          }
        }
      }
    },
    {
      "cell_type": "code",
      "source": [
        "comments_df = spark.read.parquet(f\"{wasbs_base_url}{comments_path}\")\n",
        "submissions_df = spark.read.parquet(f\"{wasbs_base_url}{submissions_path}\")"
      ],
      "outputs": [
        {
          "output_type": "display_data",
          "data": {
            "application/vnd.livy.statement-meta+json": {
              "spark_pool": "3c67b279-1d53-4b7a-b0d9-41cb8b4b6723",
              "session_id": "30",
              "statement_id": 9,
              "state": "finished",
              "livy_statement_state": "available",
              "queued_time": "2023-11-16T08:31:36.2812473Z",
              "session_start_time": null,
              "execution_start_time": "2023-11-16T08:34:27.23423Z",
              "execution_finish_time": "2023-11-16T08:35:06.0986008Z",
              "spark_jobs": {
                "numbers": {
                  "SUCCEEDED": 2,
                  "RUNNING": 0,
                  "FAILED": 0,
                  "UNKNOWN": 0
                },
                "jobs": [
                  {
                    "displayName": "parquet at NativeMethodAccessorImpl.java:0",
                    "dataWritten": 0,
                    "dataRead": 0,
                    "rowCount": 0,
                    "usageDescription": "",
                    "jobId": 1,
                    "name": "parquet at NativeMethodAccessorImpl.java:0",
                    "description": "Job group for statement 9:\ncomments_df = spark.read.parquet(f\"{wasbs_base_url}{comments_path}\")\nsubmissions_df = spark.read.parquet(f\"{wasbs_base_url}{submissions_path}\")",
                    "submissionTime": "2023-11-16T08:35:00.770GMT",
                    "completionTime": "2023-11-16T08:35:04.043GMT",
                    "stageIds": [
                      1
                    ],
                    "jobGroup": "9",
                    "status": "SUCCEEDED",
                    "numTasks": 1,
                    "numActiveTasks": 0,
                    "numCompletedTasks": 1,
                    "numSkippedTasks": 0,
                    "numFailedTasks": 0,
                    "numKilledTasks": 0,
                    "numCompletedIndices": 1,
                    "numActiveStages": 0,
                    "numCompletedStages": 1,
                    "numSkippedStages": 0,
                    "numFailedStages": 0,
                    "killedTasksSummary": {}
                  },
                  {
                    "displayName": "parquet at NativeMethodAccessorImpl.java:0",
                    "dataWritten": 0,
                    "dataRead": 0,
                    "rowCount": 0,
                    "usageDescription": "",
                    "jobId": 0,
                    "name": "parquet at NativeMethodAccessorImpl.java:0",
                    "description": "Job group for statement 9:\ncomments_df = spark.read.parquet(f\"{wasbs_base_url}{comments_path}\")\nsubmissions_df = spark.read.parquet(f\"{wasbs_base_url}{submissions_path}\")",
                    "submissionTime": "2023-11-16T08:34:48.159GMT",
                    "completionTime": "2023-11-16T08:34:52.561GMT",
                    "stageIds": [
                      0
                    ],
                    "jobGroup": "9",
                    "status": "SUCCEEDED",
                    "numTasks": 1,
                    "numActiveTasks": 0,
                    "numCompletedTasks": 1,
                    "numSkippedTasks": 0,
                    "numFailedTasks": 0,
                    "numKilledTasks": 0,
                    "numCompletedIndices": 1,
                    "numActiveStages": 0,
                    "numCompletedStages": 1,
                    "numSkippedStages": 0,
                    "numFailedStages": 0,
                    "killedTasksSummary": {}
                  }
                ],
                "limit": 20,
                "rule": "ALL_DESC"
              },
              "parent_msg_id": "ef455e4e-790e-4942-b849-776d9ddef982"
            },
            "text/plain": "StatementMeta(3c67b279-1d53-4b7a-b0d9-41cb8b4b6723, 30, 9, Finished, Available)"
          },
          "metadata": {}
        }
      ],
      "execution_count": 6,
      "metadata": {
        "jupyter": {
          "source_hidden": false,
          "outputs_hidden": false
        },
        "nteract": {
          "transient": {
            "deleting": false
          }
        },
        "gather": {
          "logged": 1700123706116
        }
      }
    },
    {
      "cell_type": "code",
      "source": [
        "from pyspark.sql.functions import length, col,split\n",
        "sub_filtered = submissions_df.filter((length(col(\"selftext\")) > 0)& (col(\"selftext\") != \"[deleted]\")&(col('selftext')!= \"[removed]\"))\\\n",
        ".filter(col(\"subreddit\").isin(topic))"
      ],
      "outputs": [
        {
          "output_type": "display_data",
          "data": {
            "application/vnd.livy.statement-meta+json": {
              "spark_pool": "3c67b279-1d53-4b7a-b0d9-41cb8b4b6723",
              "session_id": "30",
              "statement_id": 10,
              "state": "finished",
              "livy_statement_state": "available",
              "queued_time": "2023-11-16T08:31:36.2824801Z",
              "session_start_time": null,
              "execution_start_time": "2023-11-16T08:35:06.2395856Z",
              "execution_finish_time": "2023-11-16T08:35:07.0506218Z",
              "spark_jobs": {
                "numbers": {
                  "SUCCEEDED": 0,
                  "RUNNING": 0,
                  "FAILED": 0,
                  "UNKNOWN": 0
                },
                "jobs": [],
                "limit": 20,
                "rule": "ALL_DESC"
              },
              "parent_msg_id": "1925bd55-9fc9-43ae-bc9a-e96c561fe04f"
            },
            "text/plain": "StatementMeta(3c67b279-1d53-4b7a-b0d9-41cb8b4b6723, 30, 10, Finished, Available)"
          },
          "metadata": {}
        }
      ],
      "execution_count": 7,
      "metadata": {
        "jupyter": {
          "source_hidden": false,
          "outputs_hidden": false
        },
        "nteract": {
          "transient": {
            "deleting": false
          }
        },
        "gather": {
          "logged": 1700123707069
        }
      }
    },
    {
      "cell_type": "code",
      "source": [
        "df_save = sub_filtered.select(\"subreddit\", \"title\", \"selftext\",\"year\",\"month\").cache()\n",
        "df_save.show()"
      ],
      "outputs": [
        {
          "output_type": "display_data",
          "data": {
            "application/vnd.livy.statement-meta+json": {
              "spark_pool": "3c67b279-1d53-4b7a-b0d9-41cb8b4b6723",
              "session_id": "30",
              "statement_id": 11,
              "state": "finished",
              "livy_statement_state": "available",
              "queued_time": "2023-11-16T08:31:36.2836621Z",
              "session_start_time": null,
              "execution_start_time": "2023-11-16T08:35:07.1656819Z",
              "execution_finish_time": "2023-11-16T08:35:17.179812Z",
              "spark_jobs": {
                "numbers": {
                  "SUCCEEDED": 1,
                  "RUNNING": 0,
                  "FAILED": 0,
                  "UNKNOWN": 0
                },
                "jobs": [
                  {
                    "displayName": "showString at NativeMethodAccessorImpl.java:0",
                    "dataWritten": 0,
                    "dataRead": 43739239,
                    "rowCount": 221807,
                    "usageDescription": "",
                    "jobId": 2,
                    "name": "showString at NativeMethodAccessorImpl.java:0",
                    "description": "Job group for statement 11:\ndf_save = sub_filtered.select(\"subreddit\", \"title\", \"selftext\",\"year\",\"month\").cache()\ndf_save.show()",
                    "submissionTime": "2023-11-16T08:35:09.297GMT",
                    "completionTime": "2023-11-16T08:35:15.629GMT",
                    "stageIds": [
                      2
                    ],
                    "jobGroup": "11",
                    "status": "SUCCEEDED",
                    "numTasks": 1,
                    "numActiveTasks": 0,
                    "numCompletedTasks": 1,
                    "numSkippedTasks": 0,
                    "numFailedTasks": 0,
                    "numKilledTasks": 0,
                    "numCompletedIndices": 1,
                    "numActiveStages": 0,
                    "numCompletedStages": 1,
                    "numSkippedStages": 0,
                    "numFailedStages": 0,
                    "killedTasksSummary": {}
                  }
                ],
                "limit": 20,
                "rule": "ALL_DESC"
              },
              "parent_msg_id": "0d52047c-16ba-4021-b57c-e19671c2e7b9"
            },
            "text/plain": "StatementMeta(3c67b279-1d53-4b7a-b0d9-41cb8b4b6723, 30, 11, Finished, Available)"
          },
          "metadata": {}
        },
        {
          "output_type": "stream",
          "name": "stdout",
          "text": "+--------------+--------------------+--------------------+----+-----+\n|     subreddit|               title|            selftext|year|month|\n+--------------+--------------------+--------------------+----+-----+\n|       pokemon|the PokemonTogeth...|So several days a...|2023|    2|\n|       pokemon|Who's a non-villa...|For me, Tyme insp...|2023|    2|\n|       pokemon|i have a realization|&amp;#x200B;\\n\\n[...|2023|    2|\n|          FIFA|Is there any reas...|For the past 10 d...|2023|    2|\n|           GTA|What should I buy...|I have around 5 m...|2023|    2|\n|           GTA|what is the name ...|I know the Nero i...|2023|    2|\n|       pokemon|Name any Bug type...|Ok now we’re doin...|2023|    2|\n|       pokemon|My starters for e...|Gen 1: Charizard ...|2023|    2|\n|       thesims|The Victoria Chal...|\\n\\nI made my own...|2023|    2|\n|       pokemon|I really fucking ...|I feel like it's ...|2023|    2|\n|       thesims|The sim 4 build m...|So whenever I pla...|2023|    2|\n|          FIFA|  flair passes trait|anyone know which...|2023|    2|\n|  legostarwars|Ghtroc 720 build ...|So I'm going to t...|2023|    2|\n|       pokemon|One of the follow...|I came up with th...|2023|    2|\n|       pokemon|Emi's Daily Pokem...|[Art by me!](http...|2023|    2|\n|assassinscreed|Hot Take: Assassi...|AC Unity has been...|2023|    2|\n|  FinalFantasy|Meme Monday has e...|Meme Monday has e...|2023|    2|\n|       pokemon|First time EV tra...|I'm playing throu...|2023|    2|\n|assassinscreed|I made a long ret...|I used to really ...|2023|    2|\n|       pokemon|monotype run for ...|i have had shield...|2023|    2|\n+--------------+--------------------+--------------------+----+-----+\nonly showing top 20 rows\n\n"
        }
      ],
      "execution_count": 8,
      "metadata": {
        "jupyter": {
          "source_hidden": false,
          "outputs_hidden": false
        },
        "nteract": {
          "transient": {
            "deleting": false
          }
        },
        "gather": {
          "logged": 1700123717229
        }
      }
    },
    {
      "cell_type": "markdown",
      "source": [
        "## Using TFIDF to identify the key points for each game "
      ],
      "metadata": {
        "nteract": {
          "transient": {
            "deleting": false
          }
        }
      }
    },
    {
      "cell_type": "code",
      "source": [
        "!pip install spark-nlp"
      ],
      "outputs": [
        {
          "output_type": "display_data",
          "data": {
            "application/vnd.livy.statement-meta+json": {
              "spark_pool": "3c67b279-1d53-4b7a-b0d9-41cb8b4b6723",
              "session_id": "30",
              "statement_id": 12,
              "state": "finished",
              "livy_statement_state": "available",
              "queued_time": "2023-11-16T08:31:36.2852409Z",
              "session_start_time": null,
              "execution_start_time": "2023-11-16T08:35:17.3068227Z",
              "execution_finish_time": "2023-11-16T08:35:23.7801552Z",
              "spark_jobs": {
                "numbers": {
                  "SUCCEEDED": 0,
                  "RUNNING": 0,
                  "FAILED": 0,
                  "UNKNOWN": 0
                },
                "jobs": [],
                "limit": 20,
                "rule": "ALL_DESC"
              },
              "parent_msg_id": "3cd829c6-5b20-471a-ab79-f6ccd83b526c"
            },
            "text/plain": "StatementMeta(3c67b279-1d53-4b7a-b0d9-41cb8b4b6723, 30, 12, Finished, Available)"
          },
          "metadata": {}
        },
        {
          "output_type": "stream",
          "name": "stdout",
          "text": "Requirement already satisfied: spark-nlp in /home/trusted-service-user/cluster-env/env/lib/python3.8/site-packages (5.1.4)\r\n"
        }
      ],
      "execution_count": 9,
      "metadata": {
        "jupyter": {
          "source_hidden": false,
          "outputs_hidden": false
        },
        "nteract": {
          "transient": {
            "deleting": false
          }
        }
      }
    },
    {
      "cell_type": "code",
      "source": [
        "import pandas as pd\n",
        "import numpy as np\n",
        "import json\n",
        "from pyspark.ml import Pipeline\n",
        "from pyspark.sql import SparkSession\n",
        "import pyspark.sql.functions as F\n",
        "from sparknlp.annotator import *\n",
        "from sparknlp.base import *\n",
        "import sparknlp\n",
        "from sparknlp.pretrained import PretrainedPipeline\n",
        "from pyspark.ml.feature import HashingTF, IDF, Tokenizer as tot, StopWordsRemover"
      ],
      "outputs": [
        {
          "output_type": "display_data",
          "data": {
            "application/vnd.livy.statement-meta+json": {
              "spark_pool": "3c67b279-1d53-4b7a-b0d9-41cb8b4b6723",
              "session_id": "30",
              "statement_id": 13,
              "state": "finished",
              "livy_statement_state": "available",
              "queued_time": "2023-11-16T08:31:36.2868291Z",
              "session_start_time": null,
              "execution_start_time": "2023-11-16T08:35:23.9037181Z",
              "execution_finish_time": "2023-11-16T08:35:25.4202606Z",
              "spark_jobs": {
                "numbers": {
                  "SUCCEEDED": 0,
                  "RUNNING": 0,
                  "FAILED": 0,
                  "UNKNOWN": 0
                },
                "jobs": [],
                "limit": 20,
                "rule": "ALL_DESC"
              },
              "parent_msg_id": "9bd6735a-5264-438c-ab0e-4c737c7c2737"
            },
            "text/plain": "StatementMeta(3c67b279-1d53-4b7a-b0d9-41cb8b4b6723, 30, 13, Finished, Available)"
          },
          "metadata": {}
        }
      ],
      "execution_count": 10,
      "metadata": {
        "jupyter": {
          "source_hidden": false,
          "outputs_hidden": false
        },
        "nteract": {
          "transient": {
            "deleting": false
          }
        },
        "gather": {
          "logged": 1700123725477
        }
      }
    },
    {
      "cell_type": "code",
      "source": [
        "# Define the Spark ML components\n",
        "tokenizer_nlp = (\n",
        "    Tokenizer()\n",
        "    .setInputCols([\"document\"])\n",
        "    .setOutputCol(\"tokens_nlp\")\n",
        ")\n",
        "stop_words = (\n",
        "    StopWordsCleaner().pretrained(\"stopwords_iso\",\"en\")\n",
        "    .setInputCols(\"tokens_nlp\")\n",
        "    .setOutputCol(\"cleanTokens\")\n",
        ")\n",
        "\n",
        "documentAssembler = DocumentAssembler()\\\n",
        "    .setInputCol(\"selftext\")\\\n",
        "    .setOutputCol(\"document\")\n",
        "    \n",
        "use = UniversalSentenceEncoder.pretrained(name=\"tfhub_use\", lang=\"en\")\\\n",
        " .setInputCols([\"document\"])\\\n",
        " .setOutputCol(\"sentence_embeddings\")\n",
        "\n",
        "\n",
        "sentimental = SentimentDLModel.pretrained(lang=\"en\")\\\n",
        "    .setInputCols([\"sentence_embeddings\"])\\\n",
        "    .setOutputCol(\"sentiment\")\n",
        "# Create a pipeline\n",
        "pipeline1 = Pipeline(stages=[documentAssembler, use,sentimental])\n",
        "\n",
        "# Fit the pipeline on the data\n",
        "model = pipeline1.fit(df_save)\n",
        "\n",
        "# Transform the data to get TF-IDF features\n",
        "result = model.transform(df_save)\n",
        "result.cache()"
      ],
      "outputs": [
        {
          "output_type": "display_data",
          "data": {
            "application/vnd.livy.statement-meta+json": {
              "spark_pool": "3c67b279-1d53-4b7a-b0d9-41cb8b4b6723",
              "session_id": "30",
              "statement_id": 14,
              "state": "finished",
              "livy_statement_state": "available",
              "queued_time": "2023-11-16T08:31:36.2884775Z",
              "session_start_time": null,
              "execution_start_time": "2023-11-16T08:35:25.5311825Z",
              "execution_finish_time": "2023-11-16T08:36:47.4518209Z",
              "spark_jobs": {
                "numbers": {
                  "SUCCEEDED": 4,
                  "RUNNING": 0,
                  "FAILED": 0,
                  "UNKNOWN": 0
                },
                "jobs": [
                  {
                    "displayName": "first at Feature.scala:182",
                    "dataWritten": 0,
                    "dataRead": 355,
                    "rowCount": 1,
                    "usageDescription": "",
                    "jobId": 6,
                    "name": "first at Feature.scala:182",
                    "description": "Job group for statement 14:\n# Define the Spark ML components\ntokenizer_nlp = (\n    Tokenizer()\n    .setInputCols([\"document\"])\n    .setOutputCol(\"tokens_nlp\")\n)\nstop_words = (\n    StopWordsCleaner().pretrained(\"stopwords_iso\",\"en\")\n    .setInputCols(\"tokens_nlp\")\n    .setOutputCol(\"cleanTokens\")\n)\n\ndocumentAssembler = DocumentAssembler()    .setInputCol(\"selftext\")    .setOutputCol(\"document\")\n    \nuse = UniversalSentenceEncoder.pretrained(name=\"tfhub_use\", lang=\"en\") .setInputCols([\"document\"]) .setOutputCol(\"sentence_embeddings\")\n\n\nsentimental = SentimentDLModel.pretrained(lang=\"en\")    .setInputCols([\"sentence_embeddings\"])    .setOutputCol(\"sentiment\")\n# Create a pipeline\npipeline1 = Pipeline(stages=[documentAssembler, use,sentimental])\n\n# Fit the pipeline on the data\nmodel = pipeline1.fit(df_save)\n\n# Transform the data to get TF-IDF features\nresult = model.transform(df_save)\nresult.cache()",
                    "submissionTime": "2023-11-16T08:36:41.032GMT",
                    "completionTime": "2023-11-16T08:36:41.170GMT",
                    "stageIds": [
                      6
                    ],
                    "jobGroup": "14",
                    "status": "SUCCEEDED",
                    "numTasks": 1,
                    "numActiveTasks": 0,
                    "numCompletedTasks": 1,
                    "numSkippedTasks": 0,
                    "numFailedTasks": 0,
                    "numKilledTasks": 0,
                    "numCompletedIndices": 1,
                    "numActiveStages": 0,
                    "numCompletedStages": 1,
                    "numSkippedStages": 0,
                    "numFailedStages": 0,
                    "killedTasksSummary": {}
                  },
                  {
                    "displayName": "first at ReadWrite.scala:587",
                    "dataWritten": 0,
                    "dataRead": 463,
                    "rowCount": 1,
                    "usageDescription": "",
                    "jobId": 5,
                    "name": "first at ReadWrite.scala:587",
                    "description": "Job group for statement 14:\n# Define the Spark ML components\ntokenizer_nlp = (\n    Tokenizer()\n    .setInputCols([\"document\"])\n    .setOutputCol(\"tokens_nlp\")\n)\nstop_words = (\n    StopWordsCleaner().pretrained(\"stopwords_iso\",\"en\")\n    .setInputCols(\"tokens_nlp\")\n    .setOutputCol(\"cleanTokens\")\n)\n\ndocumentAssembler = DocumentAssembler()    .setInputCol(\"selftext\")    .setOutputCol(\"document\")\n    \nuse = UniversalSentenceEncoder.pretrained(name=\"tfhub_use\", lang=\"en\") .setInputCols([\"document\"]) .setOutputCol(\"sentence_embeddings\")\n\n\nsentimental = SentimentDLModel.pretrained(lang=\"en\")    .setInputCols([\"sentence_embeddings\"])    .setOutputCol(\"sentiment\")\n# Create a pipeline\npipeline1 = Pipeline(stages=[documentAssembler, use,sentimental])\n\n# Fit the pipeline on the data\nmodel = pipeline1.fit(df_save)\n\n# Transform the data to get TF-IDF features\nresult = model.transform(df_save)\nresult.cache()",
                    "submissionTime": "2023-11-16T08:36:40.622GMT",
                    "completionTime": "2023-11-16T08:36:40.840GMT",
                    "stageIds": [
                      5
                    ],
                    "jobGroup": "14",
                    "status": "SUCCEEDED",
                    "numTasks": 1,
                    "numActiveTasks": 0,
                    "numCompletedTasks": 1,
                    "numSkippedTasks": 0,
                    "numFailedTasks": 0,
                    "numKilledTasks": 0,
                    "numCompletedIndices": 1,
                    "numActiveStages": 0,
                    "numCompletedStages": 1,
                    "numSkippedStages": 0,
                    "numFailedStages": 0,
                    "killedTasksSummary": {}
                  },
                  {
                    "displayName": "first at ReadWrite.scala:587",
                    "dataWritten": 0,
                    "dataRead": 346,
                    "rowCount": 1,
                    "usageDescription": "",
                    "jobId": 4,
                    "name": "first at ReadWrite.scala:587",
                    "description": "Job group for statement 14:\n# Define the Spark ML components\ntokenizer_nlp = (\n    Tokenizer()\n    .setInputCols([\"document\"])\n    .setOutputCol(\"tokens_nlp\")\n)\nstop_words = (\n    StopWordsCleaner().pretrained(\"stopwords_iso\",\"en\")\n    .setInputCols(\"tokens_nlp\")\n    .setOutputCol(\"cleanTokens\")\n)\n\ndocumentAssembler = DocumentAssembler()    .setInputCol(\"selftext\")    .setOutputCol(\"document\")\n    \nuse = UniversalSentenceEncoder.pretrained(name=\"tfhub_use\", lang=\"en\") .setInputCols([\"document\"]) .setOutputCol(\"sentence_embeddings\")\n\n\nsentimental = SentimentDLModel.pretrained(lang=\"en\")    .setInputCols([\"sentence_embeddings\"])    .setOutputCol(\"sentiment\")\n# Create a pipeline\npipeline1 = Pipeline(stages=[documentAssembler, use,sentimental])\n\n# Fit the pipeline on the data\nmodel = pipeline1.fit(df_save)\n\n# Transform the data to get TF-IDF features\nresult = model.transform(df_save)\nresult.cache()",
                    "submissionTime": "2023-11-16T08:35:37.452GMT",
                    "completionTime": "2023-11-16T08:35:37.612GMT",
                    "stageIds": [
                      4
                    ],
                    "jobGroup": "14",
                    "status": "SUCCEEDED",
                    "numTasks": 1,
                    "numActiveTasks": 0,
                    "numCompletedTasks": 1,
                    "numSkippedTasks": 0,
                    "numFailedTasks": 0,
                    "numKilledTasks": 0,
                    "numCompletedIndices": 1,
                    "numActiveStages": 0,
                    "numCompletedStages": 1,
                    "numSkippedStages": 0,
                    "numFailedStages": 0,
                    "killedTasksSummary": {}
                  },
                  {
                    "displayName": "first at ReadWrite.scala:587",
                    "dataWritten": 0,
                    "dataRead": 4172,
                    "rowCount": 1,
                    "usageDescription": "",
                    "jobId": 3,
                    "name": "first at ReadWrite.scala:587",
                    "description": "Job group for statement 14:\n# Define the Spark ML components\ntokenizer_nlp = (\n    Tokenizer()\n    .setInputCols([\"document\"])\n    .setOutputCol(\"tokens_nlp\")\n)\nstop_words = (\n    StopWordsCleaner().pretrained(\"stopwords_iso\",\"en\")\n    .setInputCols(\"tokens_nlp\")\n    .setOutputCol(\"cleanTokens\")\n)\n\ndocumentAssembler = DocumentAssembler()    .setInputCol(\"selftext\")    .setOutputCol(\"document\")\n    \nuse = UniversalSentenceEncoder.pretrained(name=\"tfhub_use\", lang=\"en\") .setInputCols([\"document\"]) .setOutputCol(\"sentence_embeddings\")\n\n\nsentimental = SentimentDLModel.pretrained(lang=\"en\")    .setInputCols([\"sentence_embeddings\"])    .setOutputCol(\"sentiment\")\n# Create a pipeline\npipeline1 = Pipeline(stages=[documentAssembler, use,sentimental])\n\n# Fit the pipeline on the data\nmodel = pipeline1.fit(df_save)\n\n# Transform the data to get TF-IDF features\nresult = model.transform(df_save)\nresult.cache()",
                    "submissionTime": "2023-11-16T08:35:31.483GMT",
                    "completionTime": "2023-11-16T08:35:31.906GMT",
                    "stageIds": [
                      3
                    ],
                    "jobGroup": "14",
                    "status": "SUCCEEDED",
                    "numTasks": 1,
                    "numActiveTasks": 0,
                    "numCompletedTasks": 1,
                    "numSkippedTasks": 0,
                    "numFailedTasks": 0,
                    "numKilledTasks": 0,
                    "numCompletedIndices": 1,
                    "numActiveStages": 0,
                    "numCompletedStages": 1,
                    "numSkippedStages": 0,
                    "numFailedStages": 0,
                    "killedTasksSummary": {}
                  }
                ],
                "limit": 20,
                "rule": "ALL_DESC"
              },
              "parent_msg_id": "022f6de1-f2b8-4705-8ae5-7dc753a16b60"
            },
            "text/plain": "StatementMeta(3c67b279-1d53-4b7a-b0d9-41cb8b4b6723, 30, 14, Finished, Available)"
          },
          "metadata": {}
        },
        {
          "output_type": "stream",
          "name": "stdout",
          "text": "stopwords_iso download started this may take some time.\nApproximate size to download 2.1 KB\n[OK!]\ntfhub_use download started this may take some time.\nApproximate size to download 923.7 MB\n[OK!]\nsentimentdl_use_imdb download started this may take some time.\nApproximate size to download 12 MB\n[OK!]\n"
        },
        {
          "output_type": "execute_result",
          "execution_count": 27,
          "data": {
            "text/plain": "DataFrame[subreddit: string, title: string, selftext: string, year: int, month: int, document: array<struct<annotatorType:string,begin:int,end:int,result:string,metadata:map<string,string>,embeddings:array<float>>>, sentence_embeddings: array<struct<annotatorType:string,begin:int,end:int,result:string,metadata:map<string,string>,embeddings:array<float>>>, sentiment: array<struct<annotatorType:string,begin:int,end:int,result:string,metadata:map<string,string>,embeddings:array<float>>>]"
          },
          "metadata": {}
        }
      ],
      "execution_count": 11,
      "metadata": {
        "jupyter": {
          "source_hidden": false,
          "outputs_hidden": false
        },
        "nteract": {
          "transient": {
            "deleting": false
          }
        },
        "gather": {
          "logged": 1700123807558
        }
      }
    },
    {
      "cell_type": "code",
      "source": [
        "tokenizer = tot(inputCol=\"selftext\", outputCol=\"tokens\")\n",
        "\n",
        "# StopWordsRemover\n",
        "stopwords_remover = StopWordsRemover(inputCol=\"tokens\", outputCol=\"filtered_tokens\")\n",
        "\n",
        "# HashingTF and IDF\n",
        "hashing_tf = HashingTF(inputCol=\"filtered_tokens\", outputCol=\"rawFeatures\")\n",
        "idf = IDF(inputCol=\"rawFeatures\", outputCol=\"features\")\n",
        "\n",
        "# Pipeline\n",
        "pipeline2 = Pipeline(stages=[tokenizer, stopwords_remover, hashing_tf, idf])\n",
        "\n",
        "# Fit and transform the data\n",
        "model = pipeline2.fit(result)\n",
        "result = model.transform(result)\n",
        "\n"
      ],
      "outputs": [
        {
          "output_type": "display_data",
          "data": {
            "application/vnd.livy.statement-meta+json": {
              "spark_pool": "3c67b279-1d53-4b7a-b0d9-41cb8b4b6723",
              "session_id": "30",
              "statement_id": 18,
              "state": "finished",
              "livy_statement_state": "available",
              "queued_time": "2023-11-16T08:38:40.1535442Z",
              "session_start_time": null,
              "execution_start_time": "2023-11-16T08:38:40.2505437Z",
              "execution_finish_time": "2023-11-16T09:00:53.5233961Z",
              "spark_jobs": {
                "numbers": {
                  "SUCCEEDED": 1,
                  "RUNNING": 0,
                  "FAILED": 0,
                  "UNKNOWN": 0
                },
                "jobs": [
                  {
                    "displayName": "treeAggregate at IDF.scala:55",
                    "dataWritten": 40304988,
                    "dataRead": 72793455465,
                    "rowCount": 845012083,
                    "usageDescription": "",
                    "jobId": 11,
                    "name": "treeAggregate at IDF.scala:55",
                    "description": "Job group for statement 18:\ntokenizer = tot(inputCol=\"selftext\", outputCol=\"tokens\")\n\n# StopWordsRemover\nstopwords_remover = StopWordsRemover(inputCol=\"tokens\", outputCol=\"filtered_tokens\")\n\n# HashingTF and IDF\nhashing_tf = HashingTF(inputCol=\"filtered_tokens\", outputCol=\"rawFeatures\")\nidf = IDF(inputCol=\"rawFeatures\", outputCol=\"features\")\n\n# Pipeline\npipeline2 = Pipeline(stages=[tokenizer, stopwords_remover, hashing_tf, idf])\n\n# Fit and transform the data\nmodel = pipeline2.fit(result)\nresult = model.transform(result)\n\n",
                    "submissionTime": "2023-11-16T08:38:40.600GMT",
                    "completionTime": "2023-11-16T09:00:52.831GMT",
                    "stageIds": [
                      12,
                      13
                    ],
                    "jobGroup": "18",
                    "status": "SUCCEEDED",
                    "numTasks": 3135,
                    "numActiveTasks": 0,
                    "numCompletedTasks": 3135,
                    "numSkippedTasks": 0,
                    "numFailedTasks": 0,
                    "numKilledTasks": 0,
                    "numCompletedIndices": 3135,
                    "numActiveStages": 0,
                    "numCompletedStages": 2,
                    "numSkippedStages": 0,
                    "numFailedStages": 0,
                    "killedTasksSummary": {}
                  }
                ],
                "limit": 20,
                "rule": "ALL_DESC"
              },
              "parent_msg_id": "95fb5a25-eea5-4fd7-aee0-a17a5a941f99"
            },
            "text/plain": "StatementMeta(3c67b279-1d53-4b7a-b0d9-41cb8b4b6723, 30, 18, Finished, Available)"
          },
          "metadata": {}
        }
      ],
      "execution_count": 15,
      "metadata": {
        "jupyter": {
          "source_hidden": false,
          "outputs_hidden": false
        },
        "nteract": {
          "transient": {
            "deleting": false
          }
        },
        "gather": {
          "logged": 1700125253768
        }
      }
    },
    {
      "cell_type": "code",
      "source": [
        "result.cache().show()"
      ],
      "outputs": [
        {
          "output_type": "display_data",
          "data": {
            "application/vnd.livy.statement-meta+json": {
              "spark_pool": "3c67b279-1d53-4b7a-b0d9-41cb8b4b6723",
              "session_id": "30",
              "statement_id": 22,
              "state": "finished",
              "livy_statement_state": "available",
              "queued_time": "2023-11-16T09:01:57.1609001Z",
              "session_start_time": null,
              "execution_start_time": "2023-11-16T09:01:57.2613636Z",
              "execution_finish_time": "2023-11-16T09:01:58.2121106Z",
              "spark_jobs": {
                "numbers": {
                  "SUCCEEDED": 1,
                  "RUNNING": 0,
                  "FAILED": 0,
                  "UNKNOWN": 0
                },
                "jobs": [
                  {
                    "displayName": "showString at NativeMethodAccessorImpl.java:0",
                    "dataWritten": 0,
                    "dataRead": 371616,
                    "rowCount": 1,
                    "usageDescription": "",
                    "jobId": 13,
                    "name": "showString at NativeMethodAccessorImpl.java:0",
                    "description": "Job group for statement 22:\nresult.cache().show()",
                    "submissionTime": "2023-11-16T09:01:57.376GMT",
                    "completionTime": "2023-11-16T09:01:57.486GMT",
                    "stageIds": [
                      15
                    ],
                    "jobGroup": "22",
                    "status": "SUCCEEDED",
                    "numTasks": 1,
                    "numActiveTasks": 0,
                    "numCompletedTasks": 1,
                    "numSkippedTasks": 0,
                    "numFailedTasks": 0,
                    "numKilledTasks": 0,
                    "numCompletedIndices": 1,
                    "numActiveStages": 0,
                    "numCompletedStages": 1,
                    "numSkippedStages": 0,
                    "numFailedStages": 0,
                    "killedTasksSummary": {}
                  }
                ],
                "limit": 20,
                "rule": "ALL_DESC"
              },
              "parent_msg_id": "19592aee-1890-44b9-a5ef-7f6e826ed682"
            },
            "text/plain": "StatementMeta(3c67b279-1d53-4b7a-b0d9-41cb8b4b6723, 30, 22, Finished, Available)"
          },
          "metadata": {}
        },
        {
          "output_type": "stream",
          "name": "stdout",
          "text": "+--------------+--------------------+--------------------+----+-----+--------------------+--------------------+---------+--------------------+--------------------+--------------------+--------------------+\n|     subreddit|               title|            selftext|year|month|            document| sentence_embeddings|sentiment|              tokens|     filtered_tokens|         rawFeatures|            features|\n+--------------+--------------------+--------------------+----+-----+--------------------+--------------------+---------+--------------------+--------------------+--------------------+--------------------+\n|       pokemon|the PokemonTogeth...|So several days a...|2023|    2|[{document, 0, 13...|[{sentence_embedd...|      pos|[so, several, day...|[several, days, a...|(262144,[3888,840...|(262144,[3888,840...|\n|       pokemon|Who's a non-villa...|For me, Tyme insp...|2023|    2|[{document, 0, 66...|[{sentence_embedd...|      neg|[for, me,, tyme, ...|[me,, tyme, inspi...|(262144,[3421,100...|(262144,[3421,100...|\n|       pokemon|i have a realization|&amp;#x200B;\\n\\n[...|2023|    2|[{document, 0, 18...|[{sentence_embedd...|      neg|[&amp;#x200b;, , ...|[&amp;#x200b;, , ...|(262144,[58503,13...|(262144,[58503,13...|\n|          FIFA|Is there any reas...|For the past 10 d...|2023|    2|[{document, 0, 63...|[{sentence_embedd...|      neg|[for, the, past, ...|[past, 10, days, ...|(262144,[1889,230...|(262144,[1889,230...|\n|           GTA|What should I buy...|I have around 5 m...|2023|    2|[{document, 0, 22...|[{sentence_embedd...|      neg|[i, have, around,...|[around, 5, mil, ...|(262144,[18697,28...|(262144,[18697,28...|\n|           GTA|what is the name ...|I know the Nero i...|2023|    2|[{document, 0, 95...|[{sentence_embedd...|      pos|[i, know, the, ne...|[know, nero, one,...|(262144,[21823,87...|(262144,[21823,87...|\n|       pokemon|Name any Bug type...|Ok now we’re doin...|2023|    2|[{document, 0, 42...|[{sentence_embedd...|      neg|[ok, now, we’re, ...|[ok, we’re, worst...|(262144,[10564,39...|(262144,[10564,39...|\n|       pokemon|My starters for e...|Gen 1: Charizard ...|2023|    2|[{document, 0, 30...|[{sentence_embedd...|      pos|[gen, 1:, chariza...|[gen, 1:, chariza...|(262144,[4959,129...|(262144,[4959,129...|\n|       thesims|The Victoria Chal...|\\n\\nI made my own...|2023|    2|[{document, 0, 43...|[{sentence_embedd...|      pos|[, , i, made, my,...|[, , made, challe...|(262144,[3436,353...|(262144,[3436,353...|\n|       pokemon|I really fucking ...|I feel like it's ...|2023|    2|[{document, 0, 37...|[{sentence_embedd...|      neg|[i, feel, like, i...|[feel, like, fuck...|(262144,[8254,208...|(262144,[8254,208...|\n|       thesims|The sim 4 build m...|So whenever I pla...|2023|    2|[{document, 0, 33...|[{sentence_embedd...|      neg|[so, whenever, i,...|[whenever, play, ...|(262144,[3530,157...|(262144,[3530,157...|\n|          FIFA|  flair passes trait|anyone know which...|2023|    2|[{document, 0, 13...|[{sentence_embedd...|      pos|[anyone, know, wh...|[anyone, know, pl...|(262144,[21823,28...|(262144,[21823,28...|\n|  legostarwars|Ghtroc 720 build ...|So I'm going to t...|2023|    2|[{document, 0, 41...|[{sentence_embedd...|      pos|[so, i'm, going, ...|[going, try, make...|(262144,[6821,853...|(262144,[6821,853...|\n|       pokemon|One of the follow...|I came up with th...|2023|    2|[{document, 0, 60...|[{sentence_embedd...|      pos|[i, came, up, wit...|[came, poll, walk...|(262144,[3184,443...|(262144,[3184,443...|\n|       pokemon|Emi's Daily Pokem...|[Art by me!](http...|2023|    2|[{document, 0, 39...|[{sentence_embedd...|      pos|[[art, by, me!](h...|[[art, me!](https...|(262144,[980,1578...|(262144,[980,1578...|\n|assassinscreed|Hot Take: Assassi...|AC Unity has been...|2023|    2|[{document, 0, 22...|[{sentence_embedd...|      pos|[ac, unity, has, ...|[ac, unity, getti...|(262144,[471,1376...|(262144,[471,1376...|\n|  FinalFantasy|Meme Monday has e...|Meme Monday has e...|2023|    2|[{document, 0, 14...|[{sentence_embedd...|      pos|[meme, monday, ha...|[meme, monday, en...|(262144,[32060,36...|(262144,[32060,36...|\n|       pokemon|First time EV tra...|I'm playing throu...|2023|    2|[{document, 0, 41...|[{sentence_embedd...|      neg|[i'm, playing, th...|[playing, scarlet...|(262144,[21823,26...|(262144,[21823,26...|\n|assassinscreed|I made a long ret...|I used to really ...|2023|    2|[{document, 0, 16...|[{sentence_embedd...|      pos|[i, used, to, rea...|[used, really, di...|(262144,[2120,347...|(262144,[2120,347...|\n|       pokemon|monotype run for ...|i have had shield...|2023|    2|[{document, 0, 27...|[{sentence_embedd...|      pos|[i, have, had, sh...|[shield, 2, years...|(262144,[12524,15...|(262144,[12524,15...|\n+--------------+--------------------+--------------------+----+-----+--------------------+--------------------+---------+--------------------+--------------------+--------------------+--------------------+\nonly showing top 20 rows\n\n"
        }
      ],
      "execution_count": 19,
      "metadata": {
        "jupyter": {
          "source_hidden": false,
          "outputs_hidden": false
        },
        "nteract": {
          "transient": {
            "deleting": false
          }
        },
        "gather": {
          "logged": 1700125318248
        }
      }
    },
    {
      "cell_type": "code",
      "source": [
        "\n",
        "import os\n",
        "CSV_DIR = os.path.join(\"Users/yc1063/fall-2023-reddit-project-team-11/data\", \"csv\")\n",
        "sampled_df = result.sample(fraction=0.4, withReplacement=False, seed=42)\n",
        "sampled_df.toPandas().to_csv(f\"{CSV_DIR}/analysis.csv\")"
      ],
      "outputs": [
        {
          "output_type": "display_data",
          "data": {
            "application/vnd.livy.statement-meta+json": {
              "spark_pool": "3c67b279-1d53-4b7a-b0d9-41cb8b4b6723",
              "session_id": "30",
              "statement_id": 23,
              "state": "submitted",
              "livy_statement_state": "running",
              "queued_time": "2023-11-16T09:02:02.9940171Z",
              "session_start_time": null,
              "execution_start_time": "2023-11-16T09:02:03.1800234Z",
              "execution_finish_time": null,
              "spark_jobs": {
                "numbers": {
                  "SUCCEEDED": 0,
                  "RUNNING": 1,
                  "FAILED": 0,
                  "UNKNOWN": 0
                },
                "jobs": [
                  {
                    "displayName": "toPandas at /tmp/ipykernel_11112/1899694373.py:4",
                    "dataWritten": 0,
                    "dataRead": 626757592,
                    "rowCount": 1727,
                    "usageDescription": "",
                    "jobId": 14,
                    "name": "toPandas at /tmp/ipykernel_11112/1899694373.py:4",
                    "description": "Job group for statement 23:\n\nimport os\nCSV_DIR = os.path.join(\"Users/yc1063/fall-2023-reddit-project-team-11/data\", \"csv\")\nsampled_df = result.sample(fraction=0.4, withReplacement=False, seed=42)\nsampled_df.toPandas().to_csv(f\"{CSV_DIR}/analysis.csv\")",
                    "submissionTime": "2023-11-16T09:02:03.374GMT",
                    "stageIds": [
                      16
                    ],
                    "jobGroup": "23",
                    "status": "RUNNING",
                    "numTasks": 3080,
                    "numActiveTasks": 7,
                    "numCompletedTasks": 1727,
                    "numSkippedTasks": 0,
                    "numFailedTasks": 0,
                    "numKilledTasks": 0,
                    "numCompletedIndices": 1727,
                    "numActiveStages": 1,
                    "numCompletedStages": 0,
                    "numSkippedStages": 0,
                    "numFailedStages": 0,
                    "killedTasksSummary": {}
                  }
                ],
                "limit": 20,
                "rule": "ALL_DESC"
              },
              "parent_msg_id": "adf545e8-a1ca-4bed-8f13-bc87294981c9"
            },
            "text/plain": "StatementMeta(3c67b279-1d53-4b7a-b0d9-41cb8b4b6723, 30, 23, Submitted, Running)"
          },
          "metadata": {}
        }
      ],
      "execution_count": 20,
      "metadata": {
        "jupyter": {
          "source_hidden": false,
          "outputs_hidden": false
        },
        "nteract": {
          "transient": {
            "deleting": false
          }
        },
        "gather": {
          "logged": 1700125298944
        }
      }
    },
    {
      "cell_type": "code",
      "source": [
        "from pyspark.sql import functions as f\n",
        "from pyspark.sql.types import MapType, StringType,ArrayType, IntegerType\n",
        "ndf = result.select(\"subreddit\",f.explode('filtered_tokens').name('expwords'),\"rawFeatures\",\"year\",\"month\",\"sentiment\").withColumn('filtered_tokens',f.array('expwords'))\n",
        "hashudf = f.udf(lambda vector: vector.indices.tolist(),ArrayType(IntegerType()))\n",
        "wordtf = ndf.withColumn('wordhash', hashudf(col('rawFeatures')))\n",
        "wordtf = wordtf.drop(\"rawFeatures\")\n",
        "wordtf.cache()\n",
        "wordtf.show()"
      ],
      "outputs": [
        {
          "output_type": "display_data",
          "data": {
            "application/vnd.livy.statement-meta+json": {
              "spark_pool": "3c67b279-1d53-4b7a-b0d9-41cb8b4b6723",
              "session_id": "26",
              "statement_id": 66,
              "state": "finished",
              "livy_statement_state": "available",
              "queued_time": "2023-11-16T08:09:23.7418512Z",
              "session_start_time": null,
              "execution_start_time": "2023-11-16T08:09:24.8367587Z",
              "execution_finish_time": "2023-11-16T08:09:26.3599609Z",
              "spark_jobs": {
                "numbers": {
                  "SUCCEEDED": 1,
                  "RUNNING": 0,
                  "FAILED": 0,
                  "UNKNOWN": 0
                },
                "jobs": [
                  {
                    "displayName": "showString at <unknown>:0",
                    "dataWritten": 0,
                    "dataRead": 381392,
                    "rowCount": 1,
                    "usageDescription": "",
                    "jobId": 28,
                    "name": "showString at <unknown>:0",
                    "description": "Job group for statement 66:\nfrom pyspark.sql import functions as f\nfrom pyspark.sql.types import MapType, StringType,ArrayType, IntegerType\nndf = result.select(\"subreddit\",f.explode('filtered_tokens').name('expwords'),\"rawFeatures\",\"year\",\"month\",\"sentiment\").withColumn('filtered_tokens',f.array('expwords'))\nhashudf = f.udf(lambda vector: vector.indices.tolist(),ArrayType(IntegerType()))\nwordtf = ndf.withColumn('wordhash', hashudf(col('rawFeatures')))\nwordtf = wordtf.drop(\"rawFeatures\")\nwordtf.cache()\nwordtf.show()",
                    "submissionTime": "2023-11-16T08:09:25.181GMT",
                    "completionTime": "2023-11-16T08:09:25.972GMT",
                    "stageIds": [
                      30
                    ],
                    "jobGroup": "66",
                    "status": "SUCCEEDED",
                    "numTasks": 1,
                    "numActiveTasks": 0,
                    "numCompletedTasks": 1,
                    "numSkippedTasks": 0,
                    "numFailedTasks": 0,
                    "numKilledTasks": 0,
                    "numCompletedIndices": 1,
                    "numActiveStages": 0,
                    "numCompletedStages": 1,
                    "numSkippedStages": 0,
                    "numFailedStages": 0,
                    "killedTasksSummary": {}
                  }
                ],
                "limit": 20,
                "rule": "ALL_DESC"
              },
              "parent_msg_id": "884562cb-711f-435b-8caa-4675e3e7f348"
            },
            "text/plain": "StatementMeta(3c67b279-1d53-4b7a-b0d9-41cb8b4b6723, 26, 66, Finished, Available)"
          },
          "metadata": {}
        },
        {
          "output_type": "stream",
          "name": "stdout",
          "text": "+---------+-----------+----+-----+---------+---------------+--------------------+\n|subreddit|   expwords|year|month|sentiment|filtered_tokens|            wordhash|\n+---------+-----------+----+-----+---------+---------------+--------------------+\n|  pokemon|    several|2023|    2|      pos|      [several]|[3888, 8408, 9781...|\n|  pokemon|       days|2023|    2|      pos|         [days]|[3888, 8408, 9781...|\n|  pokemon|       ago,|2023|    2|      pos|         [ago,]|[3888, 8408, 9781...|\n|  pokemon|    pokemon|2023|    2|      pos|      [pokemon]|[3888, 8408, 9781...|\n|  pokemon|    company|2023|    2|      pos|      [company]|[3888, 8408, 9781...|\n|  pokemon|        put|2023|    2|      pos|          [put]|[3888, 8408, 9781...|\n|  pokemon|   campaign|2023|    2|      pos|     [campaign]|[3888, 8408, 9781...|\n|  pokemon|celebration|2023|    2|      pos|  [celebration]|[3888, 8408, 9781...|\n|  pokemon|    pokemon|2023|    2|      pos|      [pokemon]|[3888, 8408, 9781...|\n|  pokemon|        day|2023|    2|      pos|          [day]|[3888, 8408, 9781...|\n|  pokemon|approaching|2023|    2|      pos|  [approaching]|[3888, 8408, 9781...|\n|  pokemon|       fans|2023|    2|      pos|         [fans]|[3888, 8408, 9781...|\n|  pokemon|     submit|2023|    2|      pos|       [submit]|[3888, 8408, 9781...|\n|  pokemon|      short|2023|    2|      pos|        [short]|[3888, 8408, 9781...|\n|  pokemon|      story|2023|    2|      pos|        [story]|[3888, 8408, 9781...|\n|  pokemon|           |2023|    2|      pos|             []|[3888, 8408, 9781...|\n|  pokemon|  favourite|2023|    2|      pos|    [favourite]|[3888, 8408, 9781...|\n|  pokemon|   memories|2023|    2|      pos|     [memories]|[3888, 8408, 9781...|\n|  pokemon|    related|2023|    2|      pos|      [related]|[3888, 8408, 9781...|\n|  pokemon|    pokemon|2023|    2|      pos|      [pokemon]|[3888, 8408, 9781...|\n+---------+-----------+----+-----+---------+---------------+--------------------+\nonly showing top 20 rows\n\n"
        }
      ],
      "execution_count": 63,
      "metadata": {
        "jupyter": {
          "source_hidden": false,
          "outputs_hidden": false
        },
        "nteract": {
          "transient": {
            "deleting": false
          }
        },
        "gather": {
          "logged": 1700122166404
        }
      }
    },
    {
      "cell_type": "code",
      "source": [
        "import os\n",
        "CSV_DIR = os.path.join(\"Users/yc1063/fall-2023-reddit-project-team-11/data\", \"csv\")\n",
        "wordtf.toPandas().to_csv(f\"{CSV_DIR}/analysis.csv\")"
      ],
      "outputs": [
        {
          "output_type": "display_data",
          "data": {
            "application/vnd.livy.statement-meta+json": {
              "spark_pool": "3c67b279-1d53-4b7a-b0d9-41cb8b4b6723",
              "session_id": "26",
              "statement_id": 71,
              "state": "finished",
              "livy_statement_state": "available",
              "queued_time": "2023-11-16T08:18:24.1395424Z",
              "session_start_time": null,
              "execution_start_time": "2023-11-16T08:18:25.1460106Z",
              "execution_finish_time": "2023-11-16T08:18:41.6576813Z",
              "spark_jobs": {
                "numbers": {
                  "SUCCEEDED": 0,
                  "RUNNING": 0,
                  "FAILED": 1,
                  "UNKNOWN": 0
                },
                "jobs": [
                  {
                    "displayName": "toPandas at /tmp/ipykernel_29951/828660430.py:3",
                    "dataWritten": 0,
                    "dataRead": 4312578344,
                    "rowCount": 1769,
                    "usageDescription": "",
                    "jobId": 33,
                    "name": "toPandas at /tmp/ipykernel_29951/828660430.py:3",
                    "description": "Job group for statement 71:\nimport os\nCSV_DIR = os.path.join(\"Users/yc1063/fall-2023-reddit-project-team-11/data\", \"csv\")\nwordtf.toPandas().to_csv(f\"{CSV_DIR}/analysis.csv\")",
                    "submissionTime": "2023-11-16T08:18:24.328GMT",
                    "completionTime": "2023-11-16T08:18:40.699GMT",
                    "stageIds": [
                      35
                    ],
                    "jobGroup": "71",
                    "status": "FAILED",
                    "numTasks": 3080,
                    "numActiveTasks": 0,
                    "numCompletedTasks": 1344,
                    "numSkippedTasks": 0,
                    "numFailedTasks": 0,
                    "numKilledTasks": 9,
                    "numCompletedIndices": 1344,
                    "numActiveStages": 0,
                    "numCompletedStages": 0,
                    "numSkippedStages": 0,
                    "numFailedStages": 1,
                    "killedTasksSummary": {
                      "Tasks result size has exceeded maxResultSize": 1,
                      "Stage cancelled": 8
                    }
                  }
                ],
                "limit": 20,
                "rule": "ALL_DESC"
              },
              "parent_msg_id": "20cda590-5903-402b-bfaf-534226b7d250"
            },
            "text/plain": "StatementMeta(3c67b279-1d53-4b7a-b0d9-41cb8b4b6723, 26, 71, Finished, Available)"
          },
          "metadata": {}
        },
        {
          "output_type": "stream",
          "name": "stderr",
          "text": "/opt/spark/python/lib/pyspark.zip/pyspark/sql/pandas/conversion.py:153: UserWarning: toPandas attempted Arrow optimization because 'spark.sql.execution.arrow.pyspark.enabled' is set to true, but has reached the error below and can not continue. Note that 'spark.sql.execution.arrow.pyspark.fallback.enabled' does not have an effect on failures in the middle of computation.\n  An error occurred while calling o7744.getResult.\n: org.apache.spark.SparkException: Exception thrown in awaitResult: \n\tat org.apache.spark.util.ThreadUtils$.awaitResult(ThreadUtils.scala:301)\n\tat org.apache.spark.security.SocketAuthServer.getResult(SocketAuthServer.scala:97)\n\tat org.apache.spark.security.SocketAuthServer.getResult(SocketAuthServer.scala:93)\n\tat sun.reflect.NativeMethodAccessorImpl.invoke0(Native Method)\n\tat sun.reflect.NativeMethodAccessorImpl.invoke(NativeMethodAccessorImpl.java:62)\n\tat sun.reflect.DelegatingMethodAccessorImpl.invoke(DelegatingMethodAccessorImpl.java:43)\n\tat java.lang.reflect.Method.invoke(Method.java:498)\n\tat py4j.reflection.MethodInvoker.invoke(MethodInvoker.java:244)\n\tat py4j.reflection.ReflectionEngine.invoke(ReflectionEngine.java:357)\n\tat py4j.Gateway.invoke(Gateway.java:282)\n\tat py4j.commands.AbstractCommand.invokeMethod(AbstractCommand.java:132)\n\tat py4j.commands.CallCommand.execute(CallCommand.java:79)\n\tat py4j.GatewayConnection.run(GatewayConnection.java:238)\n\tat java.lang.Thread.run(Thread.java:750)\nCaused by: org.apache.spark.SparkException: Job aborted due to stage failure: Total size of serialized results of 1345 tasks (4.0 GiB) is bigger than spark.driver.maxResultSize (4.0 GiB)\n\tat org.apache.spark.scheduler.DAGScheduler.failJobAndIndependentStages(DAGScheduler.scala:2464)\n\tat org.apache.spark.scheduler.DAGScheduler.$anonfun$abortStage$2(DAGScheduler.scala:2413)\n\tat org.apache.spark.scheduler.DAGScheduler.$anonfun$abortStage$2$adapted(DAGScheduler.scala:2412)\n\tat scala.collection.mutable.ResizableArray.foreach(ResizableArray.scala:62)\n\tat scala.collection.mutable.ResizableArray.foreach$(ResizableArray.scala:55)\n\tat scala.collection.mutable.ArrayBuffer.foreach(ArrayBuffer.scala:49)\n\tat org.apache.spark.scheduler.DAGScheduler.abortStage(DAGScheduler.scala:2412)\n\tat org.apache.spark.scheduler.DAGScheduler.$anonfun$handleTaskSetFailed$1(DAGScheduler.scala:1168)\n\tat org.apache.spark.scheduler.DAGScheduler.$anonfun$handleTaskSetFailed$1$adapted(DAGScheduler.scala:1168)\n\tat scala.Option.foreach(Option.scala:407)\n\tat org.apache.spark.scheduler.DAGScheduler.handleTaskSetFailed(DAGScheduler.scala:1168)\n\tat org.apache.spark.scheduler.DAGSchedulerEventProcessLoop.doOnReceive(DAGScheduler.scala:2652)\n\tat org.apache.spark.scheduler.DAGSchedulerEventProcessLoop.onReceive(DAGScheduler.scala:2594)\n\tat org.apache.spark.scheduler.DAGSchedulerEventProcessLoop.onReceive(DAGScheduler.scala:2583)\n\tat org.apache.spark.util.EventLoop$$anon$1.run(EventLoop.scala:49)\n\tat org.apache.spark.scheduler.DAGScheduler.runJob(DAGScheduler.scala:944)\n\tat org.apache.spark.SparkContext.runJob(SparkContext.scala:2326)\n\tat org.apache.spark.SparkContext.runJob(SparkContext.scala:2421)\n\tat org.apache.spark.sql.Dataset.$anonfun$collectAsArrowToPython$5(Dataset.scala:3661)\n\tat scala.runtime.java8.JFunction0$mcV$sp.apply(JFunction0$mcV$sp.java:23)\n\tat org.apache.spark.util.Utils$.tryWithSafeFinally(Utils.scala:1491)\n\tat org.apache.spark.sql.Dataset.$anonfun$collectAsArrowToPython$2(Dataset.scala:3665)\n\tat org.apache.spark.sql.Dataset.$anonfun$collectAsArrowToPython$2$adapted(Dataset.scala:3642)\n\tat org.apache.spark.sql.Dataset.$anonfun$withAction$1(Dataset.scala:3719)\n\tat org.apache.spark.sql.execution.SQLExecution$.$anonfun$withNewExecutionId$5(SQLExecution.scala:104)\n\tat org.apache.spark.sql.execution.SQLExecution$.withSQLConfPropagated(SQLExecution.scala:169)\n\tat org.apache.spark.sql.execution.SQLExecution$.$anonfun$withNewExecutionId$1(SQLExecution.scala:91)\n\tat org.apache.spark.sql.SparkSession.withActive(SparkSession.scala:775)\n\tat org.apache.spark.sql.execution.SQLExecution$.withNewExecutionId(SQLExecution.scala:65)\n\tat org.apache.spark.sql.Dataset.withAction(Dataset.scala:3717)\n\tat org.apache.spark.sql.Dataset.$anonfun$collectAsArrowToPython$1(Dataset.scala:3642)\n\tat org.apache.spark.sql.Dataset.$anonfun$collectAsArrowToPython$1$adapted(Dataset.scala:3641)\n\tat org.apache.spark.security.SocketAuthServer$.$anonfun$serveToStream$2(SocketAuthServer.scala:139)\n\tat scala.runtime.java8.JFunction0$mcV$sp.apply(JFunction0$mcV$sp.java:23)\n\tat org.apache.spark.util.Utils$.tryWithSafeFinally(Utils.scala:1491)\n\tat org.apache.spark.security.SocketAuthServer$.$anonfun$serveToStream$1(SocketAuthServer.scala:141)\n\tat org.apache.spark.security.SocketAuthServer$.$anonfun$serveToStream$1$adapted(SocketAuthServer.scala:136)\n\tat org.apache.spark.security.SocketFuncServer.handleConnection(SocketAuthServer.scala:113)\n\tat org.apache.spark.security.SocketFuncServer.handleConnection(SocketAuthServer.scala:107)\n\tat org.apache.spark.security.SocketAuthServer$$anon$1.$anonfun$run$4(SocketAuthServer.scala:68)\n\tat scala.util.Try$.apply(Try.scala:213)\n\tat org.apache.spark.security.SocketAuthServer$$anon$1.run(SocketAuthServer.scala:68)\n\n  warnings.warn(msg)\n"
        },
        {
          "output_type": "error",
          "ename": "Py4JJavaError",
          "evalue": "An error occurred while calling o7744.getResult.\n: org.apache.spark.SparkException: Exception thrown in awaitResult: \n\tat org.apache.spark.util.ThreadUtils$.awaitResult(ThreadUtils.scala:301)\n\tat org.apache.spark.security.SocketAuthServer.getResult(SocketAuthServer.scala:97)\n\tat org.apache.spark.security.SocketAuthServer.getResult(SocketAuthServer.scala:93)\n\tat sun.reflect.NativeMethodAccessorImpl.invoke0(Native Method)\n\tat sun.reflect.NativeMethodAccessorImpl.invoke(NativeMethodAccessorImpl.java:62)\n\tat sun.reflect.DelegatingMethodAccessorImpl.invoke(DelegatingMethodAccessorImpl.java:43)\n\tat java.lang.reflect.Method.invoke(Method.java:498)\n\tat py4j.reflection.MethodInvoker.invoke(MethodInvoker.java:244)\n\tat py4j.reflection.ReflectionEngine.invoke(ReflectionEngine.java:357)\n\tat py4j.Gateway.invoke(Gateway.java:282)\n\tat py4j.commands.AbstractCommand.invokeMethod(AbstractCommand.java:132)\n\tat py4j.commands.CallCommand.execute(CallCommand.java:79)\n\tat py4j.GatewayConnection.run(GatewayConnection.java:238)\n\tat java.lang.Thread.run(Thread.java:750)\nCaused by: org.apache.spark.SparkException: Job aborted due to stage failure: Total size of serialized results of 1345 tasks (4.0 GiB) is bigger than spark.driver.maxResultSize (4.0 GiB)\n\tat org.apache.spark.scheduler.DAGScheduler.failJobAndIndependentStages(DAGScheduler.scala:2464)\n\tat org.apache.spark.scheduler.DAGScheduler.$anonfun$abortStage$2(DAGScheduler.scala:2413)\n\tat org.apache.spark.scheduler.DAGScheduler.$anonfun$abortStage$2$adapted(DAGScheduler.scala:2412)\n\tat scala.collection.mutable.ResizableArray.foreach(ResizableArray.scala:62)\n\tat scala.collection.mutable.ResizableArray.foreach$(ResizableArray.scala:55)\n\tat scala.collection.mutable.ArrayBuffer.foreach(ArrayBuffer.scala:49)\n\tat org.apache.spark.scheduler.DAGScheduler.abortStage(DAGScheduler.scala:2412)\n\tat org.apache.spark.scheduler.DAGScheduler.$anonfun$handleTaskSetFailed$1(DAGScheduler.scala:1168)\n\tat org.apache.spark.scheduler.DAGScheduler.$anonfun$handleTaskSetFailed$1$adapted(DAGScheduler.scala:1168)\n\tat scala.Option.foreach(Option.scala:407)\n\tat org.apache.spark.scheduler.DAGScheduler.handleTaskSetFailed(DAGScheduler.scala:1168)\n\tat org.apache.spark.scheduler.DAGSchedulerEventProcessLoop.doOnReceive(DAGScheduler.scala:2652)\n\tat org.apache.spark.scheduler.DAGSchedulerEventProcessLoop.onReceive(DAGScheduler.scala:2594)\n\tat org.apache.spark.scheduler.DAGSchedulerEventProcessLoop.onReceive(DAGScheduler.scala:2583)\n\tat org.apache.spark.util.EventLoop$$anon$1.run(EventLoop.scala:49)\n\tat org.apache.spark.scheduler.DAGScheduler.runJob(DAGScheduler.scala:944)\n\tat org.apache.spark.SparkContext.runJob(SparkContext.scala:2326)\n\tat org.apache.spark.SparkContext.runJob(SparkContext.scala:2421)\n\tat org.apache.spark.sql.Dataset.$anonfun$collectAsArrowToPython$5(Dataset.scala:3661)\n\tat scala.runtime.java8.JFunction0$mcV$sp.apply(JFunction0$mcV$sp.java:23)\n\tat org.apache.spark.util.Utils$.tryWithSafeFinally(Utils.scala:1491)\n\tat org.apache.spark.sql.Dataset.$anonfun$collectAsArrowToPython$2(Dataset.scala:3665)\n\tat org.apache.spark.sql.Dataset.$anonfun$collectAsArrowToPython$2$adapted(Dataset.scala:3642)\n\tat org.apache.spark.sql.Dataset.$anonfun$withAction$1(Dataset.scala:3719)\n\tat org.apache.spark.sql.execution.SQLExecution$.$anonfun$withNewExecutionId$5(SQLExecution.scala:104)\n\tat org.apache.spark.sql.execution.SQLExecution$.withSQLConfPropagated(SQLExecution.scala:169)\n\tat org.apache.spark.sql.execution.SQLExecution$.$anonfun$withNewExecutionId$1(SQLExecution.scala:91)\n\tat org.apache.spark.sql.SparkSession.withActive(SparkSession.scala:775)\n\tat org.apache.spark.sql.execution.SQLExecution$.withNewExecutionId(SQLExecution.scala:65)\n\tat org.apache.spark.sql.Dataset.withAction(Dataset.scala:3717)\n\tat org.apache.spark.sql.Dataset.$anonfun$collectAsArrowToPython$1(Dataset.scala:3642)\n\tat org.apache.spark.sql.Dataset.$anonfun$collectAsArrowToPython$1$adapted(Dataset.scala:3641)\n\tat org.apache.spark.security.SocketAuthServer$.$anonfun$serveToStream$2(SocketAuthServer.scala:139)\n\tat scala.runtime.java8.JFunction0$mcV$sp.apply(JFunction0$mcV$sp.java:23)\n\tat org.apache.spark.util.Utils$.tryWithSafeFinally(Utils.scala:1491)\n\tat org.apache.spark.security.SocketAuthServer$.$anonfun$serveToStream$1(SocketAuthServer.scala:141)\n\tat org.apache.spark.security.SocketAuthServer$.$anonfun$serveToStream$1$adapted(SocketAuthServer.scala:136)\n\tat org.apache.spark.security.SocketFuncServer.handleConnection(SocketAuthServer.scala:113)\n\tat org.apache.spark.security.SocketFuncServer.handleConnection(SocketAuthServer.scala:107)\n\tat org.apache.spark.security.SocketAuthServer$$anon$1.$anonfun$run$4(SocketAuthServer.scala:68)\n\tat scala.util.Try$.apply(Try.scala:213)\n\tat org.apache.spark.security.SocketAuthServer$$anon$1.run(SocketAuthServer.scala:68)\n",
          "traceback": [
            "\u001b[0;31m---------------------------------------------------------------------------\u001b[0m",
            "\u001b[0;31mPy4JJavaError\u001b[0m                             Traceback (most recent call last)",
            "\u001b[0;32m/tmp/ipykernel_29951/828660430.py\u001b[0m in \u001b[0;36m<module>\u001b[0;34m\u001b[0m\n\u001b[1;32m      1\u001b[0m \u001b[0;32mimport\u001b[0m \u001b[0mos\u001b[0m\u001b[0;34m\u001b[0m\u001b[0;34m\u001b[0m\u001b[0m\n\u001b[1;32m      2\u001b[0m \u001b[0mCSV_DIR\u001b[0m \u001b[0;34m=\u001b[0m \u001b[0mos\u001b[0m\u001b[0;34m.\u001b[0m\u001b[0mpath\u001b[0m\u001b[0;34m.\u001b[0m\u001b[0mjoin\u001b[0m\u001b[0;34m(\u001b[0m\u001b[0;34m\"Users/yc1063/fall-2023-reddit-project-team-11/data\"\u001b[0m\u001b[0;34m,\u001b[0m \u001b[0;34m\"csv\"\u001b[0m\u001b[0;34m)\u001b[0m\u001b[0;34m\u001b[0m\u001b[0;34m\u001b[0m\u001b[0m\n\u001b[0;32m----> 3\u001b[0;31m \u001b[0mwordtf\u001b[0m\u001b[0;34m.\u001b[0m\u001b[0mtoPandas\u001b[0m\u001b[0;34m(\u001b[0m\u001b[0;34m)\u001b[0m\u001b[0;34m.\u001b[0m\u001b[0mto_csv\u001b[0m\u001b[0;34m(\u001b[0m\u001b[0;34mf\"{CSV_DIR}/analysis.csv\"\u001b[0m\u001b[0;34m)\u001b[0m\u001b[0;34m\u001b[0m\u001b[0;34m\u001b[0m\u001b[0m\n\u001b[0m",
            "\u001b[0;32m/opt/spark/python/lib/pyspark.zip/pyspark/sql/pandas/conversion.py\u001b[0m in \u001b[0;36mtoPandas\u001b[0;34m(self)\u001b[0m\n\u001b[1;32m    107\u001b[0m                     \u001b[0mtmp_column_names\u001b[0m \u001b[0;34m=\u001b[0m \u001b[0;34m[\u001b[0m\u001b[0;34m'col_{}'\u001b[0m\u001b[0;34m.\u001b[0m\u001b[0mformat\u001b[0m\u001b[0;34m(\u001b[0m\u001b[0mi\u001b[0m\u001b[0;34m)\u001b[0m \u001b[0;32mfor\u001b[0m \u001b[0mi\u001b[0m \u001b[0;32min\u001b[0m \u001b[0mrange\u001b[0m\u001b[0;34m(\u001b[0m\u001b[0mlen\u001b[0m\u001b[0;34m(\u001b[0m\u001b[0mself\u001b[0m\u001b[0;34m.\u001b[0m\u001b[0mcolumns\u001b[0m\u001b[0;34m)\u001b[0m\u001b[0;34m)\u001b[0m\u001b[0;34m]\u001b[0m\u001b[0;34m\u001b[0m\u001b[0;34m\u001b[0m\u001b[0m\n\u001b[1;32m    108\u001b[0m                     \u001b[0mself_destruct\u001b[0m \u001b[0;34m=\u001b[0m \u001b[0mself\u001b[0m\u001b[0;34m.\u001b[0m\u001b[0msql_ctx\u001b[0m\u001b[0;34m.\u001b[0m\u001b[0m_conf\u001b[0m\u001b[0;34m.\u001b[0m\u001b[0marrowPySparkSelfDestructEnabled\u001b[0m\u001b[0;34m(\u001b[0m\u001b[0;34m)\u001b[0m\u001b[0;34m\u001b[0m\u001b[0;34m\u001b[0m\u001b[0m\n\u001b[0;32m--> 109\u001b[0;31m                     batches = self.toDF(*tmp_column_names)._collect_as_arrow(\n\u001b[0m\u001b[1;32m    110\u001b[0m                         split_batches=self_destruct)\n\u001b[1;32m    111\u001b[0m                     \u001b[0;32mif\u001b[0m \u001b[0mlen\u001b[0m\u001b[0;34m(\u001b[0m\u001b[0mbatches\u001b[0m\u001b[0;34m)\u001b[0m \u001b[0;34m>\u001b[0m \u001b[0;36m0\u001b[0m\u001b[0;34m:\u001b[0m\u001b[0;34m\u001b[0m\u001b[0;34m\u001b[0m\u001b[0m\n",
            "\u001b[0;32m/opt/spark/python/lib/pyspark.zip/pyspark/sql/pandas/conversion.py\u001b[0m in \u001b[0;36m_collect_as_arrow\u001b[0;34m(self, split_batches)\u001b[0m\n\u001b[1;32m    284\u001b[0m         \u001b[0;32mfinally\u001b[0m\u001b[0;34m:\u001b[0m\u001b[0;34m\u001b[0m\u001b[0;34m\u001b[0m\u001b[0m\n\u001b[1;32m    285\u001b[0m             \u001b[0;31m# Join serving thread and raise any exceptions from collectAsArrowToPython\u001b[0m\u001b[0;34m\u001b[0m\u001b[0;34m\u001b[0m\u001b[0;34m\u001b[0m\u001b[0m\n\u001b[0;32m--> 286\u001b[0;31m             \u001b[0mjsocket_auth_server\u001b[0m\u001b[0;34m.\u001b[0m\u001b[0mgetResult\u001b[0m\u001b[0;34m(\u001b[0m\u001b[0;34m)\u001b[0m\u001b[0;34m\u001b[0m\u001b[0;34m\u001b[0m\u001b[0m\n\u001b[0m\u001b[1;32m    287\u001b[0m \u001b[0;34m\u001b[0m\u001b[0m\n\u001b[1;32m    288\u001b[0m         \u001b[0;31m# Separate RecordBatches from batch order indices in results\u001b[0m\u001b[0;34m\u001b[0m\u001b[0;34m\u001b[0m\u001b[0;34m\u001b[0m\u001b[0m\n",
            "\u001b[0;32m~/cluster-env/env/lib/python3.8/site-packages/py4j/java_gateway.py\u001b[0m in \u001b[0;36m__call__\u001b[0;34m(self, *args)\u001b[0m\n\u001b[1;32m   1319\u001b[0m \u001b[0;34m\u001b[0m\u001b[0m\n\u001b[1;32m   1320\u001b[0m         \u001b[0manswer\u001b[0m \u001b[0;34m=\u001b[0m \u001b[0mself\u001b[0m\u001b[0;34m.\u001b[0m\u001b[0mgateway_client\u001b[0m\u001b[0;34m.\u001b[0m\u001b[0msend_command\u001b[0m\u001b[0;34m(\u001b[0m\u001b[0mcommand\u001b[0m\u001b[0;34m)\u001b[0m\u001b[0;34m\u001b[0m\u001b[0;34m\u001b[0m\u001b[0m\n\u001b[0;32m-> 1321\u001b[0;31m         return_value = get_return_value(\n\u001b[0m\u001b[1;32m   1322\u001b[0m             answer, self.gateway_client, self.target_id, self.name)\n\u001b[1;32m   1323\u001b[0m \u001b[0;34m\u001b[0m\u001b[0m\n",
            "\u001b[0;32m/opt/spark/python/lib/pyspark.zip/pyspark/sql/utils.py\u001b[0m in \u001b[0;36mdeco\u001b[0;34m(*a, **kw)\u001b[0m\n\u001b[1;32m    109\u001b[0m     \u001b[0;32mdef\u001b[0m \u001b[0mdeco\u001b[0m\u001b[0;34m(\u001b[0m\u001b[0;34m*\u001b[0m\u001b[0ma\u001b[0m\u001b[0;34m,\u001b[0m \u001b[0;34m**\u001b[0m\u001b[0mkw\u001b[0m\u001b[0;34m)\u001b[0m\u001b[0;34m:\u001b[0m\u001b[0;34m\u001b[0m\u001b[0;34m\u001b[0m\u001b[0m\n\u001b[1;32m    110\u001b[0m         \u001b[0;32mtry\u001b[0m\u001b[0;34m:\u001b[0m\u001b[0;34m\u001b[0m\u001b[0;34m\u001b[0m\u001b[0m\n\u001b[0;32m--> 111\u001b[0;31m             \u001b[0;32mreturn\u001b[0m \u001b[0mf\u001b[0m\u001b[0;34m(\u001b[0m\u001b[0;34m*\u001b[0m\u001b[0ma\u001b[0m\u001b[0;34m,\u001b[0m \u001b[0;34m**\u001b[0m\u001b[0mkw\u001b[0m\u001b[0;34m)\u001b[0m\u001b[0;34m\u001b[0m\u001b[0;34m\u001b[0m\u001b[0m\n\u001b[0m\u001b[1;32m    112\u001b[0m         \u001b[0;32mexcept\u001b[0m \u001b[0mpy4j\u001b[0m\u001b[0;34m.\u001b[0m\u001b[0mprotocol\u001b[0m\u001b[0;34m.\u001b[0m\u001b[0mPy4JJavaError\u001b[0m \u001b[0;32mas\u001b[0m \u001b[0me\u001b[0m\u001b[0;34m:\u001b[0m\u001b[0;34m\u001b[0m\u001b[0;34m\u001b[0m\u001b[0m\n\u001b[1;32m    113\u001b[0m             \u001b[0mconverted\u001b[0m \u001b[0;34m=\u001b[0m \u001b[0mconvert_exception\u001b[0m\u001b[0;34m(\u001b[0m\u001b[0me\u001b[0m\u001b[0;34m.\u001b[0m\u001b[0mjava_exception\u001b[0m\u001b[0;34m)\u001b[0m\u001b[0;34m\u001b[0m\u001b[0;34m\u001b[0m\u001b[0m\n",
            "\u001b[0;32m~/cluster-env/env/lib/python3.8/site-packages/py4j/protocol.py\u001b[0m in \u001b[0;36mget_return_value\u001b[0;34m(answer, gateway_client, target_id, name)\u001b[0m\n\u001b[1;32m    324\u001b[0m             \u001b[0mvalue\u001b[0m \u001b[0;34m=\u001b[0m \u001b[0mOUTPUT_CONVERTER\u001b[0m\u001b[0;34m[\u001b[0m\u001b[0mtype\u001b[0m\u001b[0;34m]\u001b[0m\u001b[0;34m(\u001b[0m\u001b[0manswer\u001b[0m\u001b[0;34m[\u001b[0m\u001b[0;36m2\u001b[0m\u001b[0;34m:\u001b[0m\u001b[0;34m]\u001b[0m\u001b[0;34m,\u001b[0m \u001b[0mgateway_client\u001b[0m\u001b[0;34m)\u001b[0m\u001b[0;34m\u001b[0m\u001b[0;34m\u001b[0m\u001b[0m\n\u001b[1;32m    325\u001b[0m             \u001b[0;32mif\u001b[0m \u001b[0manswer\u001b[0m\u001b[0;34m[\u001b[0m\u001b[0;36m1\u001b[0m\u001b[0;34m]\u001b[0m \u001b[0;34m==\u001b[0m \u001b[0mREFERENCE_TYPE\u001b[0m\u001b[0;34m:\u001b[0m\u001b[0;34m\u001b[0m\u001b[0;34m\u001b[0m\u001b[0m\n\u001b[0;32m--> 326\u001b[0;31m                 raise Py4JJavaError(\n\u001b[0m\u001b[1;32m    327\u001b[0m                     \u001b[0;34m\"An error occurred while calling {0}{1}{2}.\\n\"\u001b[0m\u001b[0;34m.\u001b[0m\u001b[0;34m\u001b[0m\u001b[0;34m\u001b[0m\u001b[0m\n\u001b[1;32m    328\u001b[0m                     format(target_id, \".\", name), value)\n",
            "\u001b[0;31mPy4JJavaError\u001b[0m: An error occurred while calling o7744.getResult.\n: org.apache.spark.SparkException: Exception thrown in awaitResult: \n\tat org.apache.spark.util.ThreadUtils$.awaitResult(ThreadUtils.scala:301)\n\tat org.apache.spark.security.SocketAuthServer.getResult(SocketAuthServer.scala:97)\n\tat org.apache.spark.security.SocketAuthServer.getResult(SocketAuthServer.scala:93)\n\tat sun.reflect.NativeMethodAccessorImpl.invoke0(Native Method)\n\tat sun.reflect.NativeMethodAccessorImpl.invoke(NativeMethodAccessorImpl.java:62)\n\tat sun.reflect.DelegatingMethodAccessorImpl.invoke(DelegatingMethodAccessorImpl.java:43)\n\tat java.lang.reflect.Method.invoke(Method.java:498)\n\tat py4j.reflection.MethodInvoker.invoke(MethodInvoker.java:244)\n\tat py4j.reflection.ReflectionEngine.invoke(ReflectionEngine.java:357)\n\tat py4j.Gateway.invoke(Gateway.java:282)\n\tat py4j.commands.AbstractCommand.invokeMethod(AbstractCommand.java:132)\n\tat py4j.commands.CallCommand.execute(CallCommand.java:79)\n\tat py4j.GatewayConnection.run(GatewayConnection.java:238)\n\tat java.lang.Thread.run(Thread.java:750)\nCaused by: org.apache.spark.SparkException: Job aborted due to stage failure: Total size of serialized results of 1345 tasks (4.0 GiB) is bigger than spark.driver.maxResultSize (4.0 GiB)\n\tat org.apache.spark.scheduler.DAGScheduler.failJobAndIndependentStages(DAGScheduler.scala:2464)\n\tat org.apache.spark.scheduler.DAGScheduler.$anonfun$abortStage$2(DAGScheduler.scala:2413)\n\tat org.apache.spark.scheduler.DAGScheduler.$anonfun$abortStage$2$adapted(DAGScheduler.scala:2412)\n\tat scala.collection.mutable.ResizableArray.foreach(ResizableArray.scala:62)\n\tat scala.collection.mutable.ResizableArray.foreach$(ResizableArray.scala:55)\n\tat scala.collection.mutable.ArrayBuffer.foreach(ArrayBuffer.scala:49)\n\tat org.apache.spark.scheduler.DAGScheduler.abortStage(DAGScheduler.scala:2412)\n\tat org.apache.spark.scheduler.DAGScheduler.$anonfun$handleTaskSetFailed$1(DAGScheduler.scala:1168)\n\tat org.apache.spark.scheduler.DAGScheduler.$anonfun$handleTaskSetFailed$1$adapted(DAGScheduler.scala:1168)\n\tat scala.Option.foreach(Option.scala:407)\n\tat org.apache.spark.scheduler.DAGScheduler.handleTaskSetFailed(DAGScheduler.scala:1168)\n\tat org.apache.spark.scheduler.DAGSchedulerEventProcessLoop.doOnReceive(DAGScheduler.scala:2652)\n\tat org.apache.spark.scheduler.DAGSchedulerEventProcessLoop.onReceive(DAGScheduler.scala:2594)\n\tat org.apache.spark.scheduler.DAGSchedulerEventProcessLoop.onReceive(DAGScheduler.scala:2583)\n\tat org.apache.spark.util.EventLoop$$anon$1.run(EventLoop.scala:49)\n\tat org.apache.spark.scheduler.DAGScheduler.runJob(DAGScheduler.scala:944)\n\tat org.apache.spark.SparkContext.runJob(SparkContext.scala:2326)\n\tat org.apache.spark.SparkContext.runJob(SparkContext.scala:2421)\n\tat org.apache.spark.sql.Dataset.$anonfun$collectAsArrowToPython$5(Dataset.scala:3661)\n\tat scala.runtime.java8.JFunction0$mcV$sp.apply(JFunction0$mcV$sp.java:23)\n\tat org.apache.spark.util.Utils$.tryWithSafeFinally(Utils.scala:1491)\n\tat org.apache.spark.sql.Dataset.$anonfun$collectAsArrowToPython$2(Dataset.scala:3665)\n\tat org.apache.spark.sql.Dataset.$anonfun$collectAsArrowToPython$2$adapted(Dataset.scala:3642)\n\tat org.apache.spark.sql.Dataset.$anonfun$withAction$1(Dataset.scala:3719)\n\tat org.apache.spark.sql.execution.SQLExecution$.$anonfun$withNewExecutionId$5(SQLExecution.scala:104)\n\tat org.apache.spark.sql.execution.SQLExecution$.withSQLConfPropagated(SQLExecution.scala:169)\n\tat org.apache.spark.sql.execution.SQLExecution$.$anonfun$withNewExecutionId$1(SQLExecution.scala:91)\n\tat org.apache.spark.sql.SparkSession.withActive(SparkSession.scala:775)\n\tat org.apache.spark.sql.execution.SQLExecution$.withNewExecutionId(SQLExecution.scala:65)\n\tat org.apache.spark.sql.Dataset.withAction(Dataset.scala:3717)\n\tat org.apache.spark.sql.Dataset.$anonfun$collectAsArrowToPython$1(Dataset.scala:3642)\n\tat org.apache.spark.sql.Dataset.$anonfun$collectAsArrowToPython$1$adapted(Dataset.scala:3641)\n\tat org.apache.spark.security.SocketAuthServer$.$anonfun$serveToStream$2(SocketAuthServer.scala:139)\n\tat scala.runtime.java8.JFunction0$mcV$sp.apply(JFunction0$mcV$sp.java:23)\n\tat org.apache.spark.util.Utils$.tryWithSafeFinally(Utils.scala:1491)\n\tat org.apache.spark.security.SocketAuthServer$.$anonfun$serveToStream$1(SocketAuthServer.scala:141)\n\tat org.apache.spark.security.SocketAuthServer$.$anonfun$serveToStream$1$adapted(SocketAuthServer.scala:136)\n\tat org.apache.spark.security.SocketFuncServer.handleConnection(SocketAuthServer.scala:113)\n\tat org.apache.spark.security.SocketFuncServer.handleConnection(SocketAuthServer.scala:107)\n\tat org.apache.spark.security.SocketAuthServer$$anon$1.$anonfun$run$4(SocketAuthServer.scala:68)\n\tat scala.util.Try$.apply(Try.scala:213)\n\tat org.apache.spark.security.SocketAuthServer$$anon$1.run(SocketAuthServer.scala:68)\n"
          ]
        }
      ],
      "execution_count": 68,
      "metadata": {
        "jupyter": {
          "source_hidden": false,
          "outputs_hidden": false
        },
        "nteract": {
          "transient": {
            "deleting": false
          }
        },
        "gather": {
          "logged": 1700122721764
        }
      }
    },
    {
      "cell_type": "code",
      "source": [
        "df"
      ],
      "outputs": [],
      "execution_count": null,
      "metadata": {
        "jupyter": {
          "source_hidden": false,
          "outputs_hidden": false
        },
        "nteract": {
          "transient": {
            "deleting": false
          }
        }
      }
    },
    {
      "cell_type": "code",
      "source": [
        "from pyspark.sql.window import Window\n",
        "window_spec = Window().partitionBy(\"subreddit\")\n",
        "\n",
        "# Use explode and collect_list in a window specification\n",
        "wordtf_result = (\n",
        "    wordtf\n",
        "    .withColumn(\"word_element\", f.explode(\"wordhash\"))\n",
        "    .withColumn(\"wordhash\", f.collect_list(\"word_element\").over(window_spec))\n",
        "    .distinct()\n",
        "    .drop(\"word_element\")\n",
        ")\n",
        "\n",
        "wordtf_result.show(truncate=False)"
      ],
      "outputs": [
        {
          "output_type": "display_data",
          "data": {
            "application/vnd.livy.statement-meta+json": {
              "spark_pool": "3c67b279-1d53-4b7a-b0d9-41cb8b4b6723",
              "session_id": "26",
              "statement_id": 63,
              "state": "cancelled",
              "livy_statement_state": "waiting",
              "queued_time": "2023-11-16T08:06:36.1126858Z",
              "session_start_time": null,
              "execution_start_time": "2023-11-16T08:06:36.2278181Z",
              "execution_finish_time": "2023-11-16T08:07:36.4223354Z",
              "spark_jobs": {
                "numbers": {
                  "SUCCEEDED": 0,
                  "RUNNING": 1,
                  "FAILED": 0,
                  "UNKNOWN": 0
                },
                "jobs": [
                  {
                    "displayName": "showString at NativeMethodAccessorImpl.java:0",
                    "dataWritten": 3289091875,
                    "dataRead": 44324144,
                    "rowCount": 36623849,
                    "usageDescription": "",
                    "jobId": 25,
                    "name": "showString at NativeMethodAccessorImpl.java:0",
                    "description": "Job group for statement 63:\nfrom pyspark.sql.window import Window\nwindow_spec = Window().partitionBy(\"subreddit\")\n\n# Use explode and collect_list in a window specification\nwordtf_result = (\n    wordtf\n    .withColumn(\"word_element\", f.explode(\"wordhash\"))\n    .withColumn(\"wordhash\", f.collect_list(\"word_element\").over(window_spec))\n    .distinct()\n    .drop(\"word_element\")\n)\n\nwordtf_result.show(truncate=False)",
                    "submissionTime": "2023-11-16T08:06:36.790GMT",
                    "stageIds": [
                      27
                    ],
                    "jobGroup": "63",
                    "status": "RUNNING",
                    "numTasks": 3080,
                    "numActiveTasks": 8,
                    "numCompletedTasks": 95,
                    "numSkippedTasks": 0,
                    "numFailedTasks": 0,
                    "numKilledTasks": 0,
                    "numCompletedIndices": 95,
                    "numActiveStages": 1,
                    "numCompletedStages": 0,
                    "numSkippedStages": 0,
                    "numFailedStages": 0,
                    "killedTasksSummary": {}
                  }
                ],
                "limit": 20,
                "rule": "ALL_DESC"
              },
              "parent_msg_id": "0805b235-3851-40ad-8804-28eef51f3963"
            },
            "text/plain": "StatementMeta(3c67b279-1d53-4b7a-b0d9-41cb8b4b6723, 26, 63, Cancelled, Waiting)"
          },
          "metadata": {}
        }
      ],
      "execution_count": 60,
      "metadata": {
        "jupyter": {
          "source_hidden": false,
          "outputs_hidden": false
        },
        "nteract": {
          "transient": {
            "deleting": false
          }
        },
        "gather": {
          "logged": 1700122056323
        }
      }
    },
    {
      "cell_type": "code",
      "source": [
        "udf1 = f.udf(lambda vec : dict(zip(vec.indices.tolist(),vec.values.tolist())),MapType(StringType(),StringType()))\n",
        "valuedf = result.select('subreddit',f.explode(udf1(f.col('features'))).name('wordhash','value'))\n",
        "valuedf.show()"
      ],
      "outputs": [
        {
          "output_type": "display_data",
          "data": {
            "application/vnd.livy.statement-meta+json": {
              "spark_pool": "3c67b279-1d53-4b7a-b0d9-41cb8b4b6723",
              "session_id": "20",
              "statement_id": 81,
              "state": "finished",
              "livy_statement_state": "available",
              "queued_time": "2023-11-16T06:15:20.8502673Z",
              "session_start_time": null,
              "execution_start_time": "2023-11-16T06:15:20.9590957Z",
              "execution_finish_time": "2023-11-16T06:15:35.1419325Z",
              "spark_jobs": {
                "numbers": {
                  "SUCCEEDED": 1,
                  "RUNNING": 0,
                  "FAILED": 0,
                  "UNKNOWN": 0
                },
                "jobs": [
                  {
                    "displayName": "showString at <unknown>:0",
                    "dataWritten": 0,
                    "dataRead": 381392,
                    "rowCount": 1,
                    "usageDescription": "",
                    "jobId": 45,
                    "name": "showString at <unknown>:0",
                    "description": "Job group for statement 81:\nfrom pyspark.ml.linalg import SparseVector\nfrom pyspark.sql.types import ArrayType, DoubleType\n#df_exploded = result.select(\"features\", \"filtered_tokens\",F.explode(\"filtered_tokens\").alias(\"token\"))\n# Define a UDF to extract values from SparseVector\nextract_values_udf = f.udf(lambda v: v.toArray().tolist(), ArrayType(DoubleType()))\n\n# Apply the UDF to the DataFrame\ndf_exploded = result.withColumn(\"feature_values\", extract_values_udf(\"features\"))\n#df_exploded = df_exploded.select(\"token\", F.explode(\"feature_dict\").alias(\"feature_key\", \"feature_value\"))\n# Show the exploded DataFrame\ndf_exploded.show()",
                    "submissionTime": "2023-11-16T06:15:21.186GMT",
                    "completionTime": "2023-11-16T06:15:32.113GMT",
                    "stageIds": [
                      49
                    ],
                    "jobGroup": "81",
                    "status": "SUCCEEDED",
                    "numTasks": 1,
                    "numActiveTasks": 0,
                    "numCompletedTasks": 1,
                    "numSkippedTasks": 0,
                    "numFailedTasks": 0,
                    "numKilledTasks": 0,
                    "numCompletedIndices": 1,
                    "numActiveStages": 0,
                    "numCompletedStages": 1,
                    "numSkippedStages": 0,
                    "numFailedStages": 0,
                    "killedTasksSummary": {}
                  }
                ],
                "limit": 20,
                "rule": "ALL_DESC"
              },
              "parent_msg_id": "75ea5951-a4d3-4b17-a379-4574cdb8be44"
            },
            "text/plain": "StatementMeta(3c67b279-1d53-4b7a-b0d9-41cb8b4b6723, 20, 81, Finished, Available)"
          },
          "metadata": {}
        },
        {
          "output_type": "stream",
          "name": "stdout",
          "text": "+--------------+--------------------+--------------------+----+-----+--------------------+--------------------+---------+--------------------+--------------------+--------------------+--------------------+--------------------+\n|     subreddit|               title|            selftext|year|month|            document| sentence_embeddings|sentiment|              tokens|     filtered_tokens|         rawFeatures|            features|      feature_values|\n+--------------+--------------------+--------------------+----+-----+--------------------+--------------------+---------+--------------------+--------------------+--------------------+--------------------+--------------------+\n|       pokemon|the PokemonTogeth...|So several days a...|2023|    2|[{document, 0, 13...|[{sentence_embedd...|      pos|[so, several, day...|[several, days, a...|(262144,[3888,840...|(262144,[3888,840...|[0.0, 0.0, 0.0, 0...|\n|       pokemon|Who's a non-villa...|For me, Tyme insp...|2023|    2|[{document, 0, 66...|[{sentence_embedd...|      neg|[for, me,, tyme, ...|[me,, tyme, inspi...|(262144,[3421,100...|(262144,[3421,100...|[0.0, 0.0, 0.0, 0...|\n|       pokemon|i have a realization|&amp;#x200B;\\n\\n[...|2023|    2|[{document, 0, 18...|[{sentence_embedd...|      neg|[&amp;#x200b;, , ...|[&amp;#x200b;, , ...|(262144,[58503,13...|(262144,[58503,13...|[0.0, 0.0, 0.0, 0...|\n|          FIFA|Is there any reas...|For the past 10 d...|2023|    2|[{document, 0, 63...|[{sentence_embedd...|      neg|[for, the, past, ...|[past, 10, days, ...|(262144,[1889,230...|(262144,[1889,230...|[0.0, 0.0, 0.0, 0...|\n|           GTA|What should I buy...|I have around 5 m...|2023|    2|[{document, 0, 22...|[{sentence_embedd...|      neg|[i, have, around,...|[around, 5, mil, ...|(262144,[18697,28...|(262144,[18697,28...|[0.0, 0.0, 0.0, 0...|\n|           GTA|what is the name ...|I know the Nero i...|2023|    2|[{document, 0, 95...|[{sentence_embedd...|      pos|[i, know, the, ne...|[know, nero, one,...|(262144,[21823,87...|(262144,[21823,87...|[0.0, 0.0, 0.0, 0...|\n|       pokemon|Name any Bug type...|Ok now we’re doin...|2023|    2|[{document, 0, 42...|[{sentence_embedd...|      neg|[ok, now, we’re, ...|[ok, we’re, worst...|(262144,[10564,39...|(262144,[10564,39...|[0.0, 0.0, 0.0, 0...|\n|       pokemon|My starters for e...|Gen 1: Charizard ...|2023|    2|[{document, 0, 30...|[{sentence_embedd...|      pos|[gen, 1:, chariza...|[gen, 1:, chariza...|(262144,[4959,129...|(262144,[4959,129...|[0.0, 0.0, 0.0, 0...|\n|       thesims|The Victoria Chal...|\\n\\nI made my own...|2023|    2|[{document, 0, 43...|[{sentence_embedd...|      pos|[, , i, made, my,...|[, , made, challe...|(262144,[3436,353...|(262144,[3436,353...|[0.0, 0.0, 0.0, 0...|\n|       pokemon|I really fucking ...|I feel like it's ...|2023|    2|[{document, 0, 37...|[{sentence_embedd...|      neg|[i, feel, like, i...|[feel, like, fuck...|(262144,[8254,208...|(262144,[8254,208...|[0.0, 0.0, 0.0, 0...|\n|       thesims|The sim 4 build m...|So whenever I pla...|2023|    2|[{document, 0, 33...|[{sentence_embedd...|      neg|[so, whenever, i,...|[whenever, play, ...|(262144,[3530,157...|(262144,[3530,157...|[0.0, 0.0, 0.0, 0...|\n|          FIFA|  flair passes trait|anyone know which...|2023|    2|[{document, 0, 13...|[{sentence_embedd...|      pos|[anyone, know, wh...|[anyone, know, pl...|(262144,[21823,28...|(262144,[21823,28...|[0.0, 0.0, 0.0, 0...|\n|  legostarwars|Ghtroc 720 build ...|So I'm going to t...|2023|    2|[{document, 0, 41...|[{sentence_embedd...|      pos|[so, i'm, going, ...|[going, try, make...|(262144,[6821,853...|(262144,[6821,853...|[0.0, 0.0, 0.0, 0...|\n|       pokemon|One of the follow...|I came up with th...|2023|    2|[{document, 0, 60...|[{sentence_embedd...|      pos|[i, came, up, wit...|[came, poll, walk...|(262144,[3184,443...|(262144,[3184,443...|[0.0, 0.0, 0.0, 0...|\n|       pokemon|Emi's Daily Pokem...|[Art by me!](http...|2023|    2|[{document, 0, 39...|[{sentence_embedd...|      pos|[[art, by, me!](h...|[[art, me!](https...|(262144,[980,1578...|(262144,[980,1578...|[0.0, 0.0, 0.0, 0...|\n|assassinscreed|Hot Take: Assassi...|AC Unity has been...|2023|    2|[{document, 0, 22...|[{sentence_embedd...|      pos|[ac, unity, has, ...|[ac, unity, getti...|(262144,[471,1376...|(262144,[471,1376...|[0.0, 0.0, 0.0, 0...|\n|  FinalFantasy|Meme Monday has e...|Meme Monday has e...|2023|    2|[{document, 0, 14...|[{sentence_embedd...|      pos|[meme, monday, ha...|[meme, monday, en...|(262144,[32060,36...|(262144,[32060,36...|[0.0, 0.0, 0.0, 0...|\n|       pokemon|First time EV tra...|I'm playing throu...|2023|    2|[{document, 0, 41...|[{sentence_embedd...|      neg|[i'm, playing, th...|[playing, scarlet...|(262144,[21823,26...|(262144,[21823,26...|[0.0, 0.0, 0.0, 0...|\n|assassinscreed|I made a long ret...|I used to really ...|2023|    2|[{document, 0, 16...|[{sentence_embedd...|      pos|[i, used, to, rea...|[used, really, di...|(262144,[2120,347...|(262144,[2120,347...|[0.0, 0.0, 0.0, 0...|\n|       pokemon|monotype run for ...|i have had shield...|2023|    2|[{document, 0, 27...|[{sentence_embedd...|      pos|[i, have, had, sh...|[shield, 2, years...|(262144,[12524,15...|(262144,[12524,15...|[0.0, 0.0, 0.0, 0...|\n+--------------+--------------------+--------------------+----+-----+--------------------+--------------------+---------+--------------------+--------------------+--------------------+--------------------+--------------------+\nonly showing top 20 rows\n\n"
        }
      ],
      "execution_count": 77,
      "metadata": {
        "jupyter": {
          "source_hidden": false,
          "outputs_hidden": false
        },
        "nteract": {
          "transient": {
            "deleting": false
          }
        },
        "gather": {
          "logged": 1700115335276
        }
      }
    },
    {
      "cell_type": "code",
      "source": [
        "result_without_duplicates = joined_df.dropDuplicates()\n",
        "\n",
        "# Show the resulting DataFrame without duplicates\n",
        "result_without_duplicates.cache().show()"
      ],
      "outputs": [
        {
          "output_type": "display_data",
          "data": {
            "application/vnd.livy.statement-meta+json": {
              "spark_pool": "3c67b279-1d53-4b7a-b0d9-41cb8b4b6723",
              "session_id": "20",
              "statement_id": 48,
              "state": "cancelled",
              "livy_statement_state": "waiting",
              "queued_time": "2023-11-16T05:43:33.0017816Z",
              "session_start_time": null,
              "execution_start_time": "2023-11-16T05:43:34.0907422Z",
              "execution_finish_time": "2023-11-16T05:44:52.773545Z",
              "spark_jobs": {
                "numbers": {
                  "SUCCEEDED": 0,
                  "RUNNING": 1,
                  "FAILED": 0,
                  "UNKNOWN": 0
                },
                "jobs": [
                  {
                    "displayName": "showString at NativeMethodAccessorImpl.java:0",
                    "dataWritten": 19847824,
                    "dataRead": 88999008,
                    "rowCount": 322817,
                    "usageDescription": "",
                    "jobId": 26,
                    "name": "showString at NativeMethodAccessorImpl.java:0",
                    "description": "Job group for statement 48:\nresult_without_duplicates = joined_df.dropDuplicates()\n\n# Show the resulting DataFrame without duplicates\nresult_without_duplicates.cache().show()",
                    "submissionTime": "2023-11-16T05:43:34.365GMT",
                    "stageIds": [
                      30,
                      29
                    ],
                    "jobGroup": "48",
                    "status": "RUNNING",
                    "numTasks": 3081,
                    "numActiveTasks": 9,
                    "numCompletedTasks": 29,
                    "numSkippedTasks": 0,
                    "numFailedTasks": 0,
                    "numKilledTasks": 0,
                    "numCompletedIndices": 29,
                    "numActiveStages": 1,
                    "numCompletedStages": 0,
                    "numSkippedStages": 0,
                    "numFailedStages": 0,
                    "killedTasksSummary": {}
                  }
                ],
                "limit": 20,
                "rule": "ALL_DESC"
              },
              "parent_msg_id": "f90206bc-d562-4a99-8f31-c2e0d272a8ed"
            },
            "text/plain": "StatementMeta(3c67b279-1d53-4b7a-b0d9-41cb8b4b6723, 20, 48, Cancelled, Waiting)"
          },
          "metadata": {}
        }
      ],
      "execution_count": 44,
      "metadata": {
        "jupyter": {
          "source_hidden": false,
          "outputs_hidden": false
        },
        "nteract": {
          "transient": {
            "deleting": false
          }
        },
        "gather": {
          "logged": 1700113492749
        }
      }
    },
    {
      "cell_type": "markdown",
      "source": [
        "### Saving intermediate data"
      ],
      "metadata": {
        "nteract": {
          "transient": {
            "deleting": false
          }
        }
      }
    },
    {
      "cell_type": "markdown",
      "source": [
        "The intermediate outputs go into the azureml workspace attached storage using the URI `azureml://datastores/workspaceblobstore/paths/<PATH-TO_STORE>` this is the same for all workspaces. Then to re-load you use the same URI"
      ],
      "metadata": {
        "nteract": {
          "transient": {
            "deleting": false
          }
        }
      }
    },
    {
      "cell_type": "code",
      "source": [
        "import os\n",
        "CSV_DIR = os.path.join(\"Users/yc1063/fall-2023-reddit-project-team-11/data\", \"csv\")\n",
        "joined_df.write.parquet(f\"{CSV_DIR}/sentiment_tfidf.csv\")"
      ],
      "outputs": [
        {
          "output_type": "display_data",
          "data": {
            "application/vnd.livy.statement-meta+json": {
              "spark_pool": "cf47b043-0c98-4514-b15a-1e3237e3aed3",
              "session_id": "23",
              "statement_id": 13,
              "state": "finished",
              "livy_statement_state": "available",
              "queued_time": "2023-10-17T22:05:35.6813864Z",
              "session_start_time": null,
              "execution_start_time": "2023-10-17T22:05:35.7781388Z",
              "execution_finish_time": "2023-10-17T22:05:46.2845543Z",
              "spark_jobs": {
                "numbers": {
                  "RUNNING": 0,
                  "UNKNOWN": 0,
                  "SUCCEEDED": 1,
                  "FAILED": 0
                },
                "jobs": [
                  {
                    "displayName": "parquet at NativeMethodAccessorImpl.java:0",
                    "dataWritten": 17748445,
                    "dataRead": 10524944,
                    "rowCount": 194820,
                    "usageDescription": "",
                    "jobId": 2,
                    "name": "parquet at NativeMethodAccessorImpl.java:0",
                    "description": "Job group for statement 13:\ndatastore = 'azureml://datastores/workspaceblobstore/paths'\ncomments_single_df.write.parquet(f\"{datastore}/memes.parquet\")",
                    "submissionTime": "2023-10-17T22:05:37.990GMT",
                    "completionTime": "2023-10-17T22:05:44.762GMT",
                    "stageIds": [
                      2
                    ],
                    "jobGroup": "13",
                    "status": "SUCCEEDED",
                    "numTasks": 3,
                    "numActiveTasks": 0,
                    "numCompletedTasks": 3,
                    "numSkippedTasks": 0,
                    "numFailedTasks": 0,
                    "numKilledTasks": 0,
                    "numCompletedIndices": 3,
                    "numActiveStages": 0,
                    "numCompletedStages": 1,
                    "numSkippedStages": 0,
                    "numFailedStages": 0,
                    "killedTasksSummary": {}
                  }
                ],
                "limit": 20,
                "rule": "ALL_DESC"
              },
              "parent_msg_id": "aa685af2-ce8a-402c-95e5-cbf7983dc9b5"
            },
            "text/plain": "StatementMeta(cf47b043-0c98-4514-b15a-1e3237e3aed3, 23, 13, Finished, Available)"
          },
          "metadata": {}
        }
      ],
      "execution_count": 8,
      "metadata": {
        "jupyter": {
          "source_hidden": false,
          "outputs_hidden": false
        },
        "nteract": {
          "transient": {
            "deleting": false
          }
        },
        "gather": {
          "logged": 1697580345876
        }
      }
    }
  ],
  "metadata": {
    "application/vnd.databricks.v1+notebook": {
      "dashboards": [],
      "language": "python",
      "notebookMetadata": {
        "pythonIndentUnit": 4
      },
      "notebookName": "Comments JSON to Parquet",
      "widgets": {}
    },
    "microsoft": {
      "ms_spell_check": {
        "ms_spell_check_language": "en"
      },
      "host": {
        "AzureML": {
          "notebookHasBeenCompleted": true
        }
      }
    },
    "language_info": {
      "name": "python",
      "version": "3.8.0",
      "mimetype": "text/x-python",
      "file_extension": ".py",
      "pygments_lexer": "ipython",
      "codemirror_mode": "ipython",
      "nbconvert_exporter": "python"
    },
    "kernelspec": {
      "name": "synapse_pyspark",
      "language": "Python",
      "display_name": "Synapse PySpark"
    },
    "kernel_info": {
      "name": "synapse_pyspark"
    },
    "nteract": {
      "version": "nteract-front-end@1.0.0"
    }
  },
  "nbformat": 4,
  "nbformat_minor": 0
}