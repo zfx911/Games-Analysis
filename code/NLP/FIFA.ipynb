{
  "cells": [
    {
      "cell_type": "code",
      "source": [
        "spark"
      ],
      "outputs": [
        {
          "output_type": "display_data",
          "data": {
            "application/vnd.livy.statement-meta+json": {
              "spark_pool": "3c67b279-1d53-4b7a-b0d9-41cb8b4b6723",
              "session_id": "45",
              "statement_id": 6,
              "state": "finished",
              "livy_statement_state": "available",
              "queued_time": "2023-11-17T04:26:31.1280017Z",
              "session_start_time": "2023-11-17T04:26:31.1634317Z",
              "execution_start_time": "2023-11-17T04:30:11.5820248Z",
              "execution_finish_time": "2023-11-17T04:30:14.5275294Z",
              "spark_jobs": {
                "numbers": {
                  "SUCCEEDED": 0,
                  "RUNNING": 0,
                  "FAILED": 0,
                  "UNKNOWN": 0
                },
                "jobs": [],
                "limit": 20,
                "rule": "ALL_DESC"
              },
              "parent_msg_id": "4cd425c2-2f3d-4cbd-b75b-56a76cd755be"
            },
            "text/plain": "StatementMeta(3c67b279-1d53-4b7a-b0d9-41cb8b4b6723, 45, 6, Finished, Available)"
          },
          "metadata": {}
        },
        {
          "output_type": "execute_result",
          "execution_count": 11,
          "data": {
            "text/plain": "<pyspark.sql.session.SparkSession at 0x7f2fbeb2e8e0>",
            "text/html": "\n            <div>\n                <p><b>SparkSession - hive</b></p>\n                \n        <div>\n            <p><b>SparkContext</b></p>\n\n            <p><a href=\"http://vm-56865999:33617\">Spark UI</a></p>\n\n            <dl>\n              <dt>Version</dt>\n                <dd><code>v3.2.2.5.1-100879434</code></dd>\n              <dt>Master</dt>\n                <dd><code>yarn</code></dd>\n              <dt>AppName</dt>\n                <dd><code>Azure ML Experiment</code></dd>\n            </dl>\n        </div>\n        \n            </div>\n        "
          },
          "metadata": {}
        }
      ],
      "execution_count": 1,
      "metadata": {
        "gather": {
          "logged": 1700195414815
        }
      }
    },
    {
      "cell_type": "markdown",
      "source": [
        "# Set up data configuration"
      ],
      "metadata": {
        "nteract": {
          "transient": {
            "deleting": false
          }
        }
      }
    },
    {
      "cell_type": "code",
      "source": [
        "blob_account_name = \"marckvnonprodblob\"\n",
        "blob_container_name = \"bigdata\"\n",
        "# read only\n",
        "blob_sas_token = \"?sv=2021-10-04&st=2023-10-04T01%3A42%3A59Z&se=2024-01-02T02%3A42%3A00Z&sr=c&sp=rlf&sig=w3CH9MbCOpwO7DtHlrahc7AlRPxSZZb8MOgS6TaXLzI%3D\"\n",
        "\n",
        "wasbs_base_url = (\n",
        "    f\"wasbs://{blob_container_name}@{blob_account_name}.blob.core.windows.net/\"\n",
        ")\n",
        "spark.conf.set(\n",
        "    f\"fs.azure.sas.{blob_container_name}.{blob_account_name}.blob.core.windows.net\",\n",
        "    blob_sas_token,\n",
        ")"
      ],
      "outputs": [
        {
          "output_type": "display_data",
          "data": {
            "application/vnd.livy.statement-meta+json": {
              "spark_pool": "3c67b279-1d53-4b7a-b0d9-41cb8b4b6723",
              "session_id": "46",
              "statement_id": 13,
              "state": "finished",
              "livy_statement_state": "available",
              "queued_time": "2023-11-17T04:55:29.433853Z",
              "session_start_time": null,
              "execution_start_time": "2023-11-17T04:55:29.8784112Z",
              "execution_finish_time": "2023-11-17T04:55:30.1718419Z",
              "spark_jobs": {
                "numbers": {
                  "SUCCEEDED": 0,
                  "RUNNING": 0,
                  "FAILED": 0,
                  "UNKNOWN": 0
                },
                "jobs": [],
                "limit": 20,
                "rule": "ALL_DESC"
              },
              "parent_msg_id": "b2392e94-8572-49d0-9c1d-48b38e3d5d0c"
            },
            "text/plain": "StatementMeta(3c67b279-1d53-4b7a-b0d9-41cb8b4b6723, 46, 13, Finished, Available)"
          },
          "metadata": {}
        }
      ],
      "execution_count": 31,
      "metadata": {
        "jupyter": {
          "source_hidden": false,
          "outputs_hidden": false
        },
        "nteract": {
          "transient": {
            "deleting": false
          }
        },
        "gather": {
          "logged": 1700196930410
        }
      }
    },
    {
      "cell_type": "markdown",
      "source": [
        "# Reading in single parquet file"
      ],
      "metadata": {
        "nteract": {
          "transient": {
            "deleting": false
          }
        }
      }
    },
    {
      "cell_type": "code",
      "source": [
        "submissions_path = \"reddit-parquet/submissions/\""
      ],
      "outputs": [
        {
          "output_type": "display_data",
          "data": {
            "application/vnd.livy.statement-meta+json": {
              "spark_pool": "3c67b279-1d53-4b7a-b0d9-41cb8b4b6723",
              "session_id": "46",
              "statement_id": 14,
              "state": "finished",
              "livy_statement_state": "available",
              "queued_time": "2023-11-17T04:55:31.3575544Z",
              "session_start_time": null,
              "execution_start_time": "2023-11-17T04:55:31.4527545Z",
              "execution_finish_time": "2023-11-17T04:55:31.7523694Z",
              "spark_jobs": {
                "numbers": {
                  "SUCCEEDED": 0,
                  "RUNNING": 0,
                  "FAILED": 0,
                  "UNKNOWN": 0
                },
                "jobs": [],
                "limit": 20,
                "rule": "ALL_DESC"
              },
              "parent_msg_id": "76f43cab-7e46-483d-9e3c-46d9a9ef0570"
            },
            "text/plain": "StatementMeta(3c67b279-1d53-4b7a-b0d9-41cb8b4b6723, 46, 14, Finished, Available)"
          },
          "metadata": {}
        }
      ],
      "execution_count": 32,
      "metadata": {
        "jupyter": {
          "source_hidden": false,
          "outputs_hidden": false
        },
        "nteract": {
          "transient": {
            "deleting": false
          }
        },
        "gather": {
          "logged": 1700196932002
        }
      }
    },
    {
      "cell_type": "markdown",
      "source": [
        "# Read the Reddit data"
      ],
      "metadata": {
        "nteract": {
          "transient": {
            "deleting": false
          }
        }
      }
    },
    {
      "cell_type": "code",
      "source": [
        "topic = [\"FIFA\"]"
      ],
      "outputs": [
        {
          "output_type": "display_data",
          "data": {
            "application/vnd.livy.statement-meta+json": {
              "spark_pool": "3c67b279-1d53-4b7a-b0d9-41cb8b4b6723",
              "session_id": "46",
              "statement_id": 15,
              "state": "finished",
              "livy_statement_state": "available",
              "queued_time": "2023-11-17T04:55:32.5890562Z",
              "session_start_time": null,
              "execution_start_time": "2023-11-17T04:55:32.6876116Z",
              "execution_finish_time": "2023-11-17T04:55:32.9776249Z",
              "spark_jobs": {
                "numbers": {
                  "SUCCEEDED": 0,
                  "RUNNING": 0,
                  "FAILED": 0,
                  "UNKNOWN": 0
                },
                "jobs": [],
                "limit": 20,
                "rule": "ALL_DESC"
              },
              "parent_msg_id": "326da844-4edd-4b2f-a650-18715d386705"
            },
            "text/plain": "StatementMeta(3c67b279-1d53-4b7a-b0d9-41cb8b4b6723, 46, 15, Finished, Available)"
          },
          "metadata": {}
        }
      ],
      "execution_count": 33,
      "metadata": {
        "jupyter": {
          "source_hidden": false,
          "outputs_hidden": false
        },
        "nteract": {
          "transient": {
            "deleting": false
          }
        },
        "gather": {
          "logged": 1700196933218
        }
      }
    },
    {
      "cell_type": "code",
      "source": [
        "submissions_df = spark.read.parquet(f\"{wasbs_base_url}{submissions_path}\")"
      ],
      "outputs": [
        {
          "output_type": "display_data",
          "data": {
            "application/vnd.livy.statement-meta+json": {
              "spark_pool": "3c67b279-1d53-4b7a-b0d9-41cb8b4b6723",
              "session_id": "46",
              "statement_id": 16,
              "state": "finished",
              "livy_statement_state": "available",
              "queued_time": "2023-11-17T04:55:33.7434426Z",
              "session_start_time": null,
              "execution_start_time": "2023-11-17T04:55:33.8754574Z",
              "execution_finish_time": "2023-11-17T04:55:47.0909239Z",
              "spark_jobs": {
                "numbers": {
                  "SUCCEEDED": 1,
                  "RUNNING": 0,
                  "FAILED": 0,
                  "UNKNOWN": 0
                },
                "jobs": [
                  {
                    "displayName": "parquet at NativeMethodAccessorImpl.java:0",
                    "dataWritten": 0,
                    "dataRead": 0,
                    "rowCount": 0,
                    "usageDescription": "",
                    "jobId": 3,
                    "name": "parquet at NativeMethodAccessorImpl.java:0",
                    "description": "Job group for statement 16:\nsubmissions_df = spark.read.parquet(f\"{wasbs_base_url}{submissions_path}\")",
                    "submissionTime": "2023-11-17T04:55:42.251GMT",
                    "completionTime": "2023-11-17T04:55:45.746GMT",
                    "stageIds": [
                      3
                    ],
                    "jobGroup": "16",
                    "status": "SUCCEEDED",
                    "numTasks": 1,
                    "numActiveTasks": 0,
                    "numCompletedTasks": 1,
                    "numSkippedTasks": 0,
                    "numFailedTasks": 0,
                    "numKilledTasks": 0,
                    "numCompletedIndices": 1,
                    "numActiveStages": 0,
                    "numCompletedStages": 1,
                    "numSkippedStages": 0,
                    "numFailedStages": 0,
                    "killedTasksSummary": {}
                  }
                ],
                "limit": 20,
                "rule": "ALL_DESC"
              },
              "parent_msg_id": "a2c17880-9297-4bcb-a4b1-fa85e151e555"
            },
            "text/plain": "StatementMeta(3c67b279-1d53-4b7a-b0d9-41cb8b4b6723, 46, 16, Finished, Available)"
          },
          "metadata": {}
        }
      ],
      "execution_count": 34,
      "metadata": {
        "jupyter": {
          "source_hidden": false,
          "outputs_hidden": false
        },
        "nteract": {
          "transient": {
            "deleting": false
          }
        },
        "gather": {
          "logged": 1700196947330
        }
      }
    },
    {
      "cell_type": "code",
      "source": [
        "from pyspark.sql.functions import col, asc,desc\n",
        "\n",
        "submissions_filtered = submissions_df.filter(col(\"subreddit\").isin(topic))"
      ],
      "outputs": [
        {
          "output_type": "display_data",
          "data": {
            "application/vnd.livy.statement-meta+json": {
              "spark_pool": "3c67b279-1d53-4b7a-b0d9-41cb8b4b6723",
              "session_id": "46",
              "statement_id": 17,
              "state": "finished",
              "livy_statement_state": "available",
              "queued_time": "2023-11-17T04:55:34.9303358Z",
              "session_start_time": null,
              "execution_start_time": "2023-11-17T04:55:47.1995502Z",
              "execution_finish_time": "2023-11-17T04:55:48.0127155Z",
              "spark_jobs": {
                "numbers": {
                  "SUCCEEDED": 0,
                  "RUNNING": 0,
                  "FAILED": 0,
                  "UNKNOWN": 0
                },
                "jobs": [],
                "limit": 20,
                "rule": "ALL_DESC"
              },
              "parent_msg_id": "884dbd65-2d0c-4295-9f08-7a2c18a6a56d"
            },
            "text/plain": "StatementMeta(3c67b279-1d53-4b7a-b0d9-41cb8b4b6723, 46, 17, Finished, Available)"
          },
          "metadata": {}
        }
      ],
      "execution_count": 35,
      "metadata": {
        "jupyter": {
          "source_hidden": false,
          "outputs_hidden": false
        },
        "nteract": {
          "transient": {
            "deleting": false
          }
        },
        "gather": {
          "logged": 1700196948238
        }
      }
    },
    {
      "cell_type": "code",
      "source": [
        "df_post = submissions_filtered.select(\"subreddit\",\"title\",\"selftext\", \"created_utc\", \"year\", \"month\").cache()"
      ],
      "outputs": [
        {
          "output_type": "display_data",
          "data": {
            "application/vnd.livy.statement-meta+json": {
              "spark_pool": "3c67b279-1d53-4b7a-b0d9-41cb8b4b6723",
              "session_id": "46",
              "statement_id": 18,
              "state": "finished",
              "livy_statement_state": "available",
              "queued_time": "2023-11-17T04:55:36.2739605Z",
              "session_start_time": null,
              "execution_start_time": "2023-11-17T04:55:48.1493722Z",
              "execution_finish_time": "2023-11-17T04:55:49.6489128Z",
              "spark_jobs": {
                "numbers": {
                  "SUCCEEDED": 0,
                  "RUNNING": 0,
                  "FAILED": 0,
                  "UNKNOWN": 0
                },
                "jobs": [],
                "limit": 20,
                "rule": "ALL_DESC"
              },
              "parent_msg_id": "8f767be7-d3b6-4217-a78d-e7d0944a1d94"
            },
            "text/plain": "StatementMeta(3c67b279-1d53-4b7a-b0d9-41cb8b4b6723, 46, 18, Finished, Available)"
          },
          "metadata": {}
        }
      ],
      "execution_count": 36,
      "metadata": {
        "jupyter": {
          "source_hidden": false,
          "outputs_hidden": false
        },
        "nteract": {
          "transient": {
            "deleting": false
          }
        },
        "gather": {
          "logged": 1700196949927
        }
      }
    },
    {
      "cell_type": "code",
      "source": [
        "df_post.show(5)"
      ],
      "outputs": [
        {
          "output_type": "display_data",
          "data": {
            "application/vnd.livy.statement-meta+json": {
              "spark_pool": "3c67b279-1d53-4b7a-b0d9-41cb8b4b6723",
              "session_id": "46",
              "statement_id": 19,
              "state": "finished",
              "livy_statement_state": "available",
              "queued_time": "2023-11-17T04:55:37.2852432Z",
              "session_start_time": null,
              "execution_start_time": "2023-11-17T04:55:49.7565677Z",
              "execution_finish_time": "2023-11-17T04:55:59.6961845Z",
              "spark_jobs": {
                "numbers": {
                  "SUCCEEDED": 1,
                  "RUNNING": 0,
                  "FAILED": 0,
                  "UNKNOWN": 0
                },
                "jobs": [
                  {
                    "displayName": "showString at NativeMethodAccessorImpl.java:0",
                    "dataWritten": 0,
                    "dataRead": 44200835,
                    "rowCount": 221807,
                    "usageDescription": "",
                    "jobId": 4,
                    "name": "showString at NativeMethodAccessorImpl.java:0",
                    "description": "Job group for statement 19:\ndf_post.show(5)",
                    "submissionTime": "2023-11-17T04:55:51.165GMT",
                    "completionTime": "2023-11-17T04:55:57.829GMT",
                    "stageIds": [
                      4
                    ],
                    "jobGroup": "19",
                    "status": "SUCCEEDED",
                    "numTasks": 1,
                    "numActiveTasks": 0,
                    "numCompletedTasks": 1,
                    "numSkippedTasks": 0,
                    "numFailedTasks": 0,
                    "numKilledTasks": 0,
                    "numCompletedIndices": 1,
                    "numActiveStages": 0,
                    "numCompletedStages": 1,
                    "numSkippedStages": 0,
                    "numFailedStages": 0,
                    "killedTasksSummary": {}
                  }
                ],
                "limit": 20,
                "rule": "ALL_DESC"
              },
              "parent_msg_id": "92fde03a-2977-4140-8135-b0fbf2a95f46"
            },
            "text/plain": "StatementMeta(3c67b279-1d53-4b7a-b0d9-41cb8b4b6723, 46, 19, Finished, Available)"
          },
          "metadata": {}
        },
        {
          "output_type": "stream",
          "name": "stdout",
          "text": "+---------+--------------------+--------------------+-------------------+----+-----+\n|subreddit|               title|            selftext|        created_utc|year|month|\n+---------+--------------------+--------------------+-------------------+----+-----+\n|     FIFA|if you every get ...|                    |2023-02-22 21:07:53|2023|    2|\n|     FIFA|should i select o...|           [removed]|2023-02-22 21:09:12|2023|    2|\n|     FIFA| Team of the week 17|                    |2023-02-22 21:10:48|2023|    2|\n|     FIFA|What’s a top/meta...|           [removed]|2023-02-22 21:17:18|2023|    2|\n|     FIFA|Is there any reas...|For the past 10 d...|2023-02-22 21:24:30|2023|    2|\n+---------+--------------------+--------------------+-------------------+----+-----+\nonly showing top 5 rows\n\n"
        }
      ],
      "execution_count": 37,
      "metadata": {
        "jupyter": {
          "source_hidden": false,
          "outputs_hidden": false
        },
        "nteract": {
          "transient": {
            "deleting": false
          }
        },
        "gather": {
          "logged": 1700196959951
        }
      }
    },
    {
      "cell_type": "code",
      "source": [
        "from pyspark.sql.types import StructType, StructField, DateType\n",
        "from datetime import datetime\n",
        "from pyspark.sql import Row\n",
        "from pyspark.sql.functions import col, to_date, when, broadcast, udf, explode, length"
      ],
      "outputs": [
        {
          "output_type": "display_data",
          "data": {
            "application/vnd.livy.statement-meta+json": {
              "spark_pool": "3c67b279-1d53-4b7a-b0d9-41cb8b4b6723",
              "session_id": "46",
              "statement_id": 20,
              "state": "finished",
              "livy_statement_state": "available",
              "queued_time": "2023-11-17T04:55:42.0200223Z",
              "session_start_time": null,
              "execution_start_time": "2023-11-17T04:55:59.7980453Z",
              "execution_finish_time": "2023-11-17T04:56:00.0978149Z",
              "spark_jobs": {
                "numbers": {
                  "SUCCEEDED": 0,
                  "RUNNING": 0,
                  "FAILED": 0,
                  "UNKNOWN": 0
                },
                "jobs": [],
                "limit": 20,
                "rule": "ALL_DESC"
              },
              "parent_msg_id": "b6ee09af-a842-43f3-ad45-23473f76a423"
            },
            "text/plain": "StatementMeta(3c67b279-1d53-4b7a-b0d9-41cb8b4b6723, 46, 20, Finished, Available)"
          },
          "metadata": {}
        }
      ],
      "execution_count": 38,
      "metadata": {
        "jupyter": {
          "source_hidden": false,
          "outputs_hidden": false
        },
        "nteract": {
          "transient": {
            "deleting": false
          }
        },
        "gather": {
          "logged": 1700196960452
        }
      }
    },
    {
      "cell_type": "code",
      "source": [
        "df_post_date = df_post.withColumn(\"post_date\", to_date(col(\"created_utc\"), \"yyyy-MM-dd\"))\n",
        "df_post_date.show(5)"
      ],
      "outputs": [
        {
          "output_type": "display_data",
          "data": {
            "application/vnd.livy.statement-meta+json": {
              "spark_pool": "3c67b279-1d53-4b7a-b0d9-41cb8b4b6723",
              "session_id": "46",
              "statement_id": 21,
              "state": "finished",
              "livy_statement_state": "available",
              "queued_time": "2023-11-17T04:55:49.6991212Z",
              "session_start_time": null,
              "execution_start_time": "2023-11-17T04:56:00.201092Z",
              "execution_finish_time": "2023-11-17T04:56:01.0396262Z",
              "spark_jobs": {
                "numbers": {
                  "SUCCEEDED": 1,
                  "RUNNING": 0,
                  "FAILED": 0,
                  "UNKNOWN": 0
                },
                "jobs": [
                  {
                    "displayName": "showString at NativeMethodAccessorImpl.java:0",
                    "dataWritten": 0,
                    "dataRead": 6128,
                    "rowCount": 1,
                    "usageDescription": "",
                    "jobId": 5,
                    "name": "showString at NativeMethodAccessorImpl.java:0",
                    "description": "Job group for statement 21:\ndf_post_date = df_post.withColumn(\"post_date\", to_date(col(\"created_utc\"), \"yyyy-MM-dd\"))\ndf_post_date.show(5)",
                    "submissionTime": "2023-11-17T04:56:00.384GMT",
                    "completionTime": "2023-11-17T04:56:00.570GMT",
                    "stageIds": [
                      5
                    ],
                    "jobGroup": "21",
                    "status": "SUCCEEDED",
                    "numTasks": 1,
                    "numActiveTasks": 0,
                    "numCompletedTasks": 1,
                    "numSkippedTasks": 0,
                    "numFailedTasks": 0,
                    "numKilledTasks": 0,
                    "numCompletedIndices": 1,
                    "numActiveStages": 0,
                    "numCompletedStages": 1,
                    "numSkippedStages": 0,
                    "numFailedStages": 0,
                    "killedTasksSummary": {}
                  }
                ],
                "limit": 20,
                "rule": "ALL_DESC"
              },
              "parent_msg_id": "bbf3e2d1-ea6a-420f-8c02-f05e00790e6c"
            },
            "text/plain": "StatementMeta(3c67b279-1d53-4b7a-b0d9-41cb8b4b6723, 46, 21, Finished, Available)"
          },
          "metadata": {}
        },
        {
          "output_type": "stream",
          "name": "stdout",
          "text": "+---------+--------------------+--------------------+-------------------+----+-----+----------+\n|subreddit|               title|            selftext|        created_utc|year|month| post_date|\n+---------+--------------------+--------------------+-------------------+----+-----+----------+\n|     FIFA|if you every get ...|                    |2023-02-22 21:07:53|2023|    2|2023-02-22|\n|     FIFA|should i select o...|           [removed]|2023-02-22 21:09:12|2023|    2|2023-02-22|\n|     FIFA| Team of the week 17|                    |2023-02-22 21:10:48|2023|    2|2023-02-22|\n|     FIFA|What’s a top/meta...|           [removed]|2023-02-22 21:17:18|2023|    2|2023-02-22|\n|     FIFA|Is there any reas...|For the past 10 d...|2023-02-22 21:24:30|2023|    2|2023-02-22|\n+---------+--------------------+--------------------+-------------------+----+-----+----------+\nonly showing top 5 rows\n\n"
        }
      ],
      "execution_count": 39,
      "metadata": {
        "jupyter": {
          "source_hidden": false,
          "outputs_hidden": false
        },
        "nteract": {
          "transient": {
            "deleting": false
          }
        },
        "gather": {
          "logged": 1700196961324
        }
      }
    },
    {
      "cell_type": "code",
      "source": [
        "df_post_date.printSchema()"
      ],
      "outputs": [
        {
          "output_type": "display_data",
          "data": {
            "application/vnd.livy.statement-meta+json": {
              "spark_pool": "3c67b279-1d53-4b7a-b0d9-41cb8b4b6723",
              "session_id": "45",
              "statement_id": 23,
              "state": "finished",
              "livy_statement_state": "available",
              "queued_time": "2023-11-17T04:47:08.486371Z",
              "session_start_time": null,
              "execution_start_time": "2023-11-17T04:47:08.5939774Z",
              "execution_finish_time": "2023-11-17T04:47:11.858453Z",
              "spark_jobs": {
                "numbers": {
                  "SUCCEEDED": 0,
                  "RUNNING": 0,
                  "FAILED": 0,
                  "UNKNOWN": 0
                },
                "jobs": [],
                "limit": 20,
                "rule": "ALL_DESC"
              },
              "parent_msg_id": "5b95d4cb-c8be-4269-8dee-4b83c96cdd60"
            },
            "text/plain": "StatementMeta(3c67b279-1d53-4b7a-b0d9-41cb8b4b6723, 45, 23, Finished, Available)"
          },
          "metadata": {}
        },
        {
          "output_type": "stream",
          "name": "stdout",
          "text": "root\n |-- subreddit: string (nullable = true)\n |-- title: string (nullable = true)\n |-- selftext: string (nullable = true)\n |-- created_utc: timestamp (nullable = true)\n |-- year: integer (nullable = true)\n |-- month: integer (nullable = true)\n |-- post_date: date (nullable = true)\n\n"
        }
      ],
      "execution_count": 18,
      "metadata": {
        "jupyter": {
          "source_hidden": false,
          "outputs_hidden": false
        },
        "nteract": {
          "transient": {
            "deleting": false
          }
        },
        "gather": {
          "logged": 1700196432097
        }
      }
    },
    {
      "cell_type": "code",
      "source": [
        "filtered_df = df_post_date.filter(col(\"year\") >= \"2021\")\n",
        "\n",
        "# Show the result\n",
        "filtered_df.show(5)"
      ],
      "outputs": [
        {
          "output_type": "display_data",
          "data": {
            "application/vnd.livy.statement-meta+json": {
              "spark_pool": "3c67b279-1d53-4b7a-b0d9-41cb8b4b6723",
              "session_id": "46",
              "statement_id": 22,
              "state": "finished",
              "livy_statement_state": "available",
              "queued_time": "2023-11-17T04:55:56.4126367Z",
              "session_start_time": null,
              "execution_start_time": "2023-11-17T04:56:01.1583176Z",
              "execution_finish_time": "2023-11-17T04:56:02.7191143Z",
              "spark_jobs": {
                "numbers": {
                  "SUCCEEDED": 1,
                  "RUNNING": 0,
                  "FAILED": 0,
                  "UNKNOWN": 0
                },
                "jobs": [
                  {
                    "displayName": "showString at NativeMethodAccessorImpl.java:0",
                    "dataWritten": 0,
                    "dataRead": 6128,
                    "rowCount": 1,
                    "usageDescription": "",
                    "jobId": 6,
                    "name": "showString at NativeMethodAccessorImpl.java:0",
                    "description": "Job group for statement 22:\nfiltered_df = df_post_date.filter(col(\"year\") >= \"2021\")\n\n# Show the result\nfiltered_df.show(5)",
                    "submissionTime": "2023-11-17T04:56:01.486GMT",
                    "completionTime": "2023-11-17T04:56:01.797GMT",
                    "stageIds": [
                      6
                    ],
                    "jobGroup": "22",
                    "status": "SUCCEEDED",
                    "numTasks": 1,
                    "numActiveTasks": 0,
                    "numCompletedTasks": 1,
                    "numSkippedTasks": 0,
                    "numFailedTasks": 0,
                    "numKilledTasks": 0,
                    "numCompletedIndices": 1,
                    "numActiveStages": 0,
                    "numCompletedStages": 1,
                    "numSkippedStages": 0,
                    "numFailedStages": 0,
                    "killedTasksSummary": {}
                  }
                ],
                "limit": 20,
                "rule": "ALL_DESC"
              },
              "parent_msg_id": "f9963a7b-7370-49ac-a3e5-b36d3a86615b"
            },
            "text/plain": "StatementMeta(3c67b279-1d53-4b7a-b0d9-41cb8b4b6723, 46, 22, Finished, Available)"
          },
          "metadata": {}
        },
        {
          "output_type": "stream",
          "name": "stdout",
          "text": "+---------+--------------------+--------------------+-------------------+----+-----+----------+\n|subreddit|               title|            selftext|        created_utc|year|month| post_date|\n+---------+--------------------+--------------------+-------------------+----+-----+----------+\n|     FIFA|if you every get ...|                    |2023-02-22 21:07:53|2023|    2|2023-02-22|\n|     FIFA|should i select o...|           [removed]|2023-02-22 21:09:12|2023|    2|2023-02-22|\n|     FIFA| Team of the week 17|                    |2023-02-22 21:10:48|2023|    2|2023-02-22|\n|     FIFA|What’s a top/meta...|           [removed]|2023-02-22 21:17:18|2023|    2|2023-02-22|\n|     FIFA|Is there any reas...|For the past 10 d...|2023-02-22 21:24:30|2023|    2|2023-02-22|\n+---------+--------------------+--------------------+-------------------+----+-----+----------+\nonly showing top 5 rows\n\n"
        }
      ],
      "execution_count": 40,
      "metadata": {
        "jupyter": {
          "source_hidden": false,
          "outputs_hidden": false
        },
        "nteract": {
          "transient": {
            "deleting": false
          }
        },
        "gather": {
          "logged": 1700196962958
        }
      }
    },
    {
      "cell_type": "markdown",
      "source": [
        "# spark NLP pipeline build"
      ],
      "metadata": {
        "nteract": {
          "transient": {
            "deleting": false
          }
        }
      }
    },
    {
      "cell_type": "code",
      "source": [
        "%%configure -f \\\n",
        "{\"conf\": {\"spark.jars.packages\": \"com.johnsnowlabs.nlp:spark-nlp_2.12:5.1.2\"}}"
      ],
      "outputs": [
        {
          "output_type": "display_data",
          "data": {
            "application/vnd.livy.statement-meta+json": {
              "spark_pool": "3c67b279-1d53-4b7a-b0d9-41cb8b4b6723",
              "session_id": "46",
              "statement_id": -1,
              "state": "finished",
              "livy_statement_state": "available",
              "queued_time": "2023-11-17T04:49:41.0710364Z",
              "session_start_time": "2023-11-17T04:49:41.1963087Z",
              "execution_start_time": "2023-11-17T04:51:38.2625362Z",
              "execution_finish_time": "2023-11-17T04:51:38.2999634Z",
              "spark_jobs": {
                "numbers": {
                  "SUCCEEDED": 0,
                  "RUNNING": 0,
                  "FAILED": 0,
                  "UNKNOWN": 0
                },
                "jobs": [],
                "limit": 20,
                "rule": "ALL_DESC"
              },
              "parent_msg_id": "22a37e61-be12-4219-b761-76f7e79db411"
            },
            "text/plain": "StatementMeta(3c67b279-1d53-4b7a-b0d9-41cb8b4b6723, 46, -1, Finished, Available)"
          },
          "metadata": {}
        },
        {
          "output_type": "stream",
          "name": "stdout",
          "text": "Unrecognized options: "
        }
      ],
      "execution_count": 23,
      "metadata": {
        "jupyter": {
          "source_hidden": false,
          "outputs_hidden": false
        },
        "nteract": {
          "transient": {
            "deleting": false
          }
        }
      }
    },
    {
      "cell_type": "code",
      "source": [
        "!pip install spark-nlp"
      ],
      "outputs": [
        {
          "output_type": "display_data",
          "data": {
            "application/vnd.livy.statement-meta+json": {
              "spark_pool": "3c67b279-1d53-4b7a-b0d9-41cb8b4b6723",
              "session_id": "46",
              "statement_id": 6,
              "state": "finished",
              "livy_statement_state": "available",
              "queued_time": "2023-11-17T04:49:42.7455025Z",
              "session_start_time": null,
              "execution_start_time": "2023-11-17T04:52:09.3171828Z",
              "execution_finish_time": "2023-11-17T04:52:21.3977195Z",
              "spark_jobs": {
                "numbers": {
                  "SUCCEEDED": 0,
                  "RUNNING": 0,
                  "FAILED": 0,
                  "UNKNOWN": 0
                },
                "jobs": [],
                "limit": 20,
                "rule": "ALL_DESC"
              },
              "parent_msg_id": "002d29b4-6d01-436e-883d-1a1df1d1d86d"
            },
            "text/plain": "StatementMeta(3c67b279-1d53-4b7a-b0d9-41cb8b4b6723, 46, 6, Finished, Available)"
          },
          "metadata": {}
        },
        {
          "output_type": "stream",
          "name": "stdout",
          "text": "Collecting spark-nlp\n  Downloading spark_nlp-5.1.4-py2.py3-none-any.whl (540 kB)\n\u001b[K     |████████████████████████████████| 540 kB 10.2 MB/s eta 0:00:01\n\u001b[?25hInstalling collected packages: spark-nlp\nSuccessfully installed spark-nlp-5.1.4\n"
        }
      ],
      "execution_count": 24,
      "metadata": {
        "jupyter": {
          "source_hidden": false,
          "outputs_hidden": false
        },
        "nteract": {
          "transient": {
            "deleting": false
          }
        }
      }
    },
    {
      "cell_type": "code",
      "source": [
        "import pandas as pd\n",
        "import numpy as np\n",
        "import json\n",
        "from pyspark.ml import Pipeline\n",
        "from pyspark.sql import SparkSession\n",
        "import pyspark.sql.functions as F\n",
        "from sparknlp.annotator import *\n",
        "from sparknlp.base import *\n",
        "import sparknlp\n",
        "from sparknlp.pretrained import PretrainedPipeline"
      ],
      "outputs": [
        {
          "output_type": "display_data",
          "data": {
            "application/vnd.livy.statement-meta+json": {
              "spark_pool": "3c67b279-1d53-4b7a-b0d9-41cb8b4b6723",
              "session_id": "46",
              "statement_id": 7,
              "state": "finished",
              "livy_statement_state": "available",
              "queued_time": "2023-11-17T04:49:43.9533129Z",
              "session_start_time": null,
              "execution_start_time": "2023-11-17T04:52:21.5031365Z",
              "execution_finish_time": "2023-11-17T04:52:26.2738644Z",
              "spark_jobs": {
                "numbers": {
                  "SUCCEEDED": 0,
                  "RUNNING": 0,
                  "FAILED": 0,
                  "UNKNOWN": 0
                },
                "jobs": [],
                "limit": 20,
                "rule": "ALL_DESC"
              },
              "parent_msg_id": "9e5b6d9c-ffa0-4d4c-92a5-ed2d22b72d2e"
            },
            "text/plain": "StatementMeta(3c67b279-1d53-4b7a-b0d9-41cb8b4b6723, 46, 7, Finished, Available)"
          },
          "metadata": {}
        }
      ],
      "execution_count": 25,
      "metadata": {
        "jupyter": {
          "source_hidden": false,
          "outputs_hidden": false
        },
        "nteract": {
          "transient": {
            "deleting": false
          }
        },
        "gather": {
          "logged": 1700196746526
        }
      }
    },
    {
      "cell_type": "code",
      "source": [
        "documentAssembler = DocumentAssembler()\\\n",
        "    .setInputCol(\"selftext\")\\\n",
        "    .setOutputCol(\"document\")\n",
        "    \n",
        "use = UniversalSentenceEncoder.pretrained(name=\"tfhub_use\", lang=\"en\")\\\n",
        " .setInputCols([\"document\"])\\\n",
        " .setOutputCol(\"sentence_embeddings\")\n",
        "\n",
        "\n",
        "sentimentdl = SentimentDLModel.pretrained(lang=\"en\")\\\n",
        "    .setInputCols([\"sentence_embeddings\"])\\\n",
        "    .setOutputCol(\"sentiment\")\n",
        "\n",
        "nlpPipeline = Pipeline(\n",
        "      stages = [\n",
        "          documentAssembler,\n",
        "          use,\n",
        "          sentimentdl\n",
        "      ])"
      ],
      "outputs": [
        {
          "output_type": "display_data",
          "data": {
            "application/vnd.livy.statement-meta+json": {
              "spark_pool": "3c67b279-1d53-4b7a-b0d9-41cb8b4b6723",
              "session_id": "46",
              "statement_id": 8,
              "state": "finished",
              "livy_statement_state": "available",
              "queued_time": "2023-11-17T04:49:52.1505353Z",
              "session_start_time": null,
              "execution_start_time": "2023-11-17T04:52:26.3853542Z",
              "execution_finish_time": "2023-11-17T04:54:54.0855696Z",
              "spark_jobs": {
                "numbers": {
                  "SUCCEEDED": 3,
                  "RUNNING": 0,
                  "FAILED": 0,
                  "UNKNOWN": 0
                },
                "jobs": [
                  {
                    "displayName": "first at Feature.scala:182",
                    "dataWritten": 0,
                    "dataRead": 355,
                    "rowCount": 1,
                    "usageDescription": "",
                    "jobId": 2,
                    "name": "first at Feature.scala:182",
                    "description": "Job group for statement 8:\ndocumentAssembler = DocumentAssembler()    .setInputCol(\"selftext\")    .setOutputCol(\"document\")\n    \nuse = UniversalSentenceEncoder.pretrained(name=\"tfhub_use\", lang=\"en\") .setInputCols([\"document\"]) .setOutputCol(\"sentence_embeddings\")\n\n\nsentimentdl = SentimentDLModel.pretrained(lang=\"en\")    .setInputCols([\"sentence_embeddings\"])    .setOutputCol(\"sentiment\")\n\nnlpPipeline = Pipeline(\n      stages = [\n          documentAssembler,\n          use,\n          sentimentdl\n      ])",
                    "submissionTime": "2023-11-17T04:54:50.360GMT",
                    "completionTime": "2023-11-17T04:54:50.586GMT",
                    "stageIds": [
                      2
                    ],
                    "jobGroup": "8",
                    "status": "SUCCEEDED",
                    "numTasks": 1,
                    "numActiveTasks": 0,
                    "numCompletedTasks": 1,
                    "numSkippedTasks": 0,
                    "numFailedTasks": 0,
                    "numKilledTasks": 0,
                    "numCompletedIndices": 1,
                    "numActiveStages": 0,
                    "numCompletedStages": 1,
                    "numSkippedStages": 0,
                    "numFailedStages": 0,
                    "killedTasksSummary": {}
                  },
                  {
                    "displayName": "first at ReadWrite.scala:587",
                    "dataWritten": 0,
                    "dataRead": 463,
                    "rowCount": 1,
                    "usageDescription": "",
                    "jobId": 1,
                    "name": "first at ReadWrite.scala:587",
                    "description": "Job group for statement 8:\ndocumentAssembler = DocumentAssembler()    .setInputCol(\"selftext\")    .setOutputCol(\"document\")\n    \nuse = UniversalSentenceEncoder.pretrained(name=\"tfhub_use\", lang=\"en\") .setInputCols([\"document\"]) .setOutputCol(\"sentence_embeddings\")\n\n\nsentimentdl = SentimentDLModel.pretrained(lang=\"en\")    .setInputCols([\"sentence_embeddings\"])    .setOutputCol(\"sentiment\")\n\nnlpPipeline = Pipeline(\n      stages = [\n          documentAssembler,\n          use,\n          sentimentdl\n      ])",
                    "submissionTime": "2023-11-17T04:54:49.893GMT",
                    "completionTime": "2023-11-17T04:54:50.134GMT",
                    "stageIds": [
                      1
                    ],
                    "jobGroup": "8",
                    "status": "SUCCEEDED",
                    "numTasks": 1,
                    "numActiveTasks": 0,
                    "numCompletedTasks": 1,
                    "numSkippedTasks": 0,
                    "numFailedTasks": 0,
                    "numKilledTasks": 0,
                    "numCompletedIndices": 1,
                    "numActiveStages": 0,
                    "numCompletedStages": 1,
                    "numSkippedStages": 0,
                    "numFailedStages": 0,
                    "killedTasksSummary": {}
                  },
                  {
                    "displayName": "first at ReadWrite.scala:587",
                    "dataWritten": 0,
                    "dataRead": 346,
                    "rowCount": 1,
                    "usageDescription": "",
                    "jobId": 0,
                    "name": "first at ReadWrite.scala:587",
                    "description": "Job group for statement 8:\ndocumentAssembler = DocumentAssembler()    .setInputCol(\"selftext\")    .setOutputCol(\"document\")\n    \nuse = UniversalSentenceEncoder.pretrained(name=\"tfhub_use\", lang=\"en\") .setInputCols([\"document\"]) .setOutputCol(\"sentence_embeddings\")\n\n\nsentimentdl = SentimentDLModel.pretrained(lang=\"en\")    .setInputCols([\"sentence_embeddings\"])    .setOutputCol(\"sentiment\")\n\nnlpPipeline = Pipeline(\n      stages = [\n          documentAssembler,\n          use,\n          sentimentdl\n      ])",
                    "submissionTime": "2023-11-17T04:53:40.373GMT",
                    "completionTime": "2023-11-17T04:53:43.045GMT",
                    "stageIds": [
                      0
                    ],
                    "jobGroup": "8",
                    "status": "SUCCEEDED",
                    "numTasks": 1,
                    "numActiveTasks": 0,
                    "numCompletedTasks": 1,
                    "numSkippedTasks": 0,
                    "numFailedTasks": 0,
                    "numKilledTasks": 0,
                    "numCompletedIndices": 1,
                    "numActiveStages": 0,
                    "numCompletedStages": 1,
                    "numSkippedStages": 0,
                    "numFailedStages": 0,
                    "killedTasksSummary": {}
                  }
                ],
                "limit": 20,
                "rule": "ALL_DESC"
              },
              "parent_msg_id": "65c7ec13-0c3e-4df3-a0e2-5f23e41f3503"
            },
            "text/plain": "StatementMeta(3c67b279-1d53-4b7a-b0d9-41cb8b4b6723, 46, 8, Finished, Available)"
          },
          "metadata": {}
        },
        {
          "output_type": "stream",
          "name": "stdout",
          "text": "tfhub_use download started this may take some time.\nApproximate size to download 923.7 MB\n[OK!]\nsentimentdl_use_imdb download started this may take some time.\nApproximate size to download 12 MB\n[OK!]\n"
        }
      ],
      "execution_count": 26,
      "metadata": {
        "jupyter": {
          "source_hidden": false,
          "outputs_hidden": false
        },
        "nteract": {
          "transient": {
            "deleting": false
          }
        },
        "gather": {
          "logged": 1700196894362
        }
      }
    },
    {
      "cell_type": "markdown",
      "source": [
        "# run the pipeline"
      ],
      "metadata": {
        "nteract": {
          "transient": {
            "deleting": false
          }
        }
      }
    },
    {
      "cell_type": "code",
      "source": [
        "filtered_df = filtered_df.dropna()"
      ],
      "outputs": [
        {
          "output_type": "display_data",
          "data": {
            "application/vnd.livy.statement-meta+json": {
              "spark_pool": "3c67b279-1d53-4b7a-b0d9-41cb8b4b6723",
              "session_id": "46",
              "statement_id": 23,
              "state": "finished",
              "livy_statement_state": "available",
              "queued_time": "2023-11-17T04:56:00.1265114Z",
              "session_start_time": null,
              "execution_start_time": "2023-11-17T04:56:02.8291927Z",
              "execution_finish_time": "2023-11-17T04:56:03.1692078Z",
              "spark_jobs": {
                "numbers": {
                  "SUCCEEDED": 0,
                  "RUNNING": 0,
                  "FAILED": 0,
                  "UNKNOWN": 0
                },
                "jobs": [],
                "limit": 20,
                "rule": "ALL_DESC"
              },
              "parent_msg_id": "0ae0cd3d-f37f-47ab-888a-58e173fe13bc"
            },
            "text/plain": "StatementMeta(3c67b279-1d53-4b7a-b0d9-41cb8b4b6723, 46, 23, Finished, Available)"
          },
          "metadata": {}
        }
      ],
      "execution_count": 41,
      "metadata": {
        "jupyter": {
          "source_hidden": false,
          "outputs_hidden": false
        },
        "nteract": {
          "transient": {
            "deleting": false
          }
        },
        "gather": {
          "logged": 1700196963413
        }
      }
    },
    {
      "cell_type": "code",
      "source": [
        "senti_model = nlpPipeline.fit(filtered_df)"
      ],
      "outputs": [
        {
          "output_type": "display_data",
          "data": {
            "application/vnd.livy.statement-meta+json": {
              "spark_pool": "3c67b279-1d53-4b7a-b0d9-41cb8b4b6723",
              "session_id": "46",
              "statement_id": 24,
              "state": "finished",
              "livy_statement_state": "available",
              "queued_time": "2023-11-17T04:56:02.008339Z",
              "session_start_time": null,
              "execution_start_time": "2023-11-17T04:56:03.2770764Z",
              "execution_finish_time": "2023-11-17T04:56:03.614543Z",
              "spark_jobs": {
                "numbers": {
                  "SUCCEEDED": 0,
                  "RUNNING": 0,
                  "FAILED": 0,
                  "UNKNOWN": 0
                },
                "jobs": [],
                "limit": 20,
                "rule": "ALL_DESC"
              },
              "parent_msg_id": "02961c46-0bee-4a8c-91e0-168c34a25b3c"
            },
            "text/plain": "StatementMeta(3c67b279-1d53-4b7a-b0d9-41cb8b4b6723, 46, 24, Finished, Available)"
          },
          "metadata": {}
        }
      ],
      "execution_count": 42,
      "metadata": {
        "jupyter": {
          "source_hidden": false,
          "outputs_hidden": false
        },
        "nteract": {
          "transient": {
            "deleting": false
          }
        },
        "gather": {
          "logged": 1700196963868
        }
      }
    },
    {
      "cell_type": "code",
      "source": [
        "senti_pred = senti_model.transform(filtered_df)"
      ],
      "outputs": [
        {
          "output_type": "display_data",
          "data": {
            "application/vnd.livy.statement-meta+json": {
              "spark_pool": "3c67b279-1d53-4b7a-b0d9-41cb8b4b6723",
              "session_id": "46",
              "statement_id": 25,
              "state": "finished",
              "livy_statement_state": "available",
              "queued_time": "2023-11-17T04:56:03.3619449Z",
              "session_start_time": null,
              "execution_start_time": "2023-11-17T04:56:03.7129317Z",
              "execution_finish_time": "2023-11-17T04:56:04.5479662Z",
              "spark_jobs": {
                "numbers": {
                  "SUCCEEDED": 0,
                  "RUNNING": 0,
                  "FAILED": 0,
                  "UNKNOWN": 0
                },
                "jobs": [],
                "limit": 20,
                "rule": "ALL_DESC"
              },
              "parent_msg_id": "08b0315c-4c7a-425f-b9f6-e3c380334ecb"
            },
            "text/plain": "StatementMeta(3c67b279-1d53-4b7a-b0d9-41cb8b4b6723, 46, 25, Finished, Available)"
          },
          "metadata": {}
        }
      ],
      "execution_count": 43,
      "metadata": {
        "jupyter": {
          "source_hidden": false,
          "outputs_hidden": false
        },
        "nteract": {
          "transient": {
            "deleting": false
          }
        },
        "gather": {
          "logged": 1700196964787
        }
      }
    },
    {
      "cell_type": "code",
      "source": [
        "senti_pred.show(5)"
      ],
      "outputs": [
        {
          "output_type": "display_data",
          "data": {
            "application/vnd.livy.statement-meta+json": {
              "spark_pool": "3c67b279-1d53-4b7a-b0d9-41cb8b4b6723",
              "session_id": "46",
              "statement_id": 26,
              "state": "finished",
              "livy_statement_state": "available",
              "queued_time": "2023-11-17T04:56:05.1459036Z",
              "session_start_time": null,
              "execution_start_time": "2023-11-17T04:56:05.2400821Z",
              "execution_finish_time": "2023-11-17T04:56:30.893575Z",
              "spark_jobs": {
                "numbers": {
                  "SUCCEEDED": 1,
                  "RUNNING": 0,
                  "FAILED": 0,
                  "UNKNOWN": 0
                },
                "jobs": [
                  {
                    "displayName": "showString at NativeMethodAccessorImpl.java:0",
                    "dataWritten": 0,
                    "dataRead": 6128,
                    "rowCount": 1,
                    "usageDescription": "",
                    "jobId": 7,
                    "name": "showString at NativeMethodAccessorImpl.java:0",
                    "description": "Job group for statement 26:\nsenti_pred.show(5)",
                    "submissionTime": "2023-11-17T04:56:06.129GMT",
                    "completionTime": "2023-11-17T04:56:28.735GMT",
                    "stageIds": [
                      7
                    ],
                    "jobGroup": "26",
                    "status": "SUCCEEDED",
                    "numTasks": 1,
                    "numActiveTasks": 0,
                    "numCompletedTasks": 1,
                    "numSkippedTasks": 0,
                    "numFailedTasks": 0,
                    "numKilledTasks": 0,
                    "numCompletedIndices": 1,
                    "numActiveStages": 0,
                    "numCompletedStages": 1,
                    "numSkippedStages": 0,
                    "numFailedStages": 0,
                    "killedTasksSummary": {}
                  }
                ],
                "limit": 20,
                "rule": "ALL_DESC"
              },
              "parent_msg_id": "44d789ed-a02a-4200-bd8b-8f08a806376f"
            },
            "text/plain": "StatementMeta(3c67b279-1d53-4b7a-b0d9-41cb8b4b6723, 46, 26, Finished, Available)"
          },
          "metadata": {}
        },
        {
          "output_type": "stream",
          "name": "stdout",
          "text": "+---------+--------------------+--------------------+-------------------+----+-----+----------+--------------------+--------------------+--------------------+\n|subreddit|               title|            selftext|        created_utc|year|month| post_date|            document| sentence_embeddings|           sentiment|\n+---------+--------------------+--------------------+-------------------+----+-----+----------+--------------------+--------------------+--------------------+\n|     FIFA|if you every get ...|                    |2023-02-22 21:07:53|2023|    2|2023-02-22|[{document, 0, -1...|[{sentence_embedd...|[{category, 0, 8,...|\n|     FIFA|should i select o...|           [removed]|2023-02-22 21:09:12|2023|    2|2023-02-22|[{document, 0, 8,...|                  []|                  []|\n|     FIFA| Team of the week 17|                    |2023-02-22 21:10:48|2023|    2|2023-02-22|[{document, 0, -1...|[{sentence_embedd...|[{category, 0, 8,...|\n|     FIFA|What’s a top/meta...|           [removed]|2023-02-22 21:17:18|2023|    2|2023-02-22|[{document, 0, 8,...|                  []|                  []|\n|     FIFA|Is there any reas...|For the past 10 d...|2023-02-22 21:24:30|2023|    2|2023-02-22|[{document, 0, 63...|[{sentence_embedd...|[{category, 0, 63...|\n+---------+--------------------+--------------------+-------------------+----+-----+----------+--------------------+--------------------+--------------------+\nonly showing top 5 rows\n\n"
        }
      ],
      "execution_count": 44,
      "metadata": {
        "jupyter": {
          "source_hidden": false,
          "outputs_hidden": false
        },
        "nteract": {
          "transient": {
            "deleting": false
          }
        },
        "gather": {
          "logged": 1700196991147
        }
      }
    },
    {
      "cell_type": "code",
      "source": [
        "df_senti = senti_pred.select(\"subreddit\",F.explode('sentiment.result'))"
      ],
      "outputs": [
        {
          "output_type": "display_data",
          "data": {
            "application/vnd.livy.statement-meta+json": {
              "spark_pool": "3c67b279-1d53-4b7a-b0d9-41cb8b4b6723",
              "session_id": "46",
              "statement_id": 27,
              "state": "finished",
              "livy_statement_state": "available",
              "queued_time": "2023-11-17T04:56:13.0871238Z",
              "session_start_time": null,
              "execution_start_time": "2023-11-17T04:56:31.004503Z",
              "execution_finish_time": "2023-11-17T04:56:31.301854Z",
              "spark_jobs": {
                "numbers": {
                  "SUCCEEDED": 0,
                  "RUNNING": 0,
                  "FAILED": 0,
                  "UNKNOWN": 0
                },
                "jobs": [],
                "limit": 20,
                "rule": "ALL_DESC"
              },
              "parent_msg_id": "9c967125-e0dd-465f-8c03-d4296117377d"
            },
            "text/plain": "StatementMeta(3c67b279-1d53-4b7a-b0d9-41cb8b4b6723, 46, 27, Finished, Available)"
          },
          "metadata": {}
        }
      ],
      "execution_count": 45,
      "metadata": {
        "jupyter": {
          "source_hidden": false,
          "outputs_hidden": false
        },
        "nteract": {
          "transient": {
            "deleting": false
          }
        },
        "gather": {
          "logged": 1700196991530
        }
      }
    },
    {
      "cell_type": "code",
      "source": [
        "df_senti = df_senti.withColumnRenamed(\"col\", \"sentiment\")"
      ],
      "outputs": [
        {
          "output_type": "display_data",
          "data": {
            "application/vnd.livy.statement-meta+json": {
              "spark_pool": "3c67b279-1d53-4b7a-b0d9-41cb8b4b6723",
              "session_id": "46",
              "statement_id": 28,
              "state": "finished",
              "livy_statement_state": "available",
              "queued_time": "2023-11-17T04:56:14.3767319Z",
              "session_start_time": null,
              "execution_start_time": "2023-11-17T04:56:31.4184814Z",
              "execution_finish_time": "2023-11-17T04:56:31.7180292Z",
              "spark_jobs": {
                "numbers": {
                  "SUCCEEDED": 0,
                  "RUNNING": 0,
                  "FAILED": 0,
                  "UNKNOWN": 0
                },
                "jobs": [],
                "limit": 20,
                "rule": "ALL_DESC"
              },
              "parent_msg_id": "c5f44b72-1ec8-4459-b182-d672db4d7bbf"
            },
            "text/plain": "StatementMeta(3c67b279-1d53-4b7a-b0d9-41cb8b4b6723, 46, 28, Finished, Available)"
          },
          "metadata": {}
        }
      ],
      "execution_count": 46,
      "metadata": {
        "jupyter": {
          "source_hidden": false,
          "outputs_hidden": false
        },
        "nteract": {
          "transient": {
            "deleting": false
          }
        },
        "gather": {
          "logged": 1700196991946
        }
      }
    },
    {
      "cell_type": "code",
      "source": [
        "df_senti.show(5)"
      ],
      "outputs": [
        {
          "output_type": "display_data",
          "data": {
            "application/vnd.livy.statement-meta+json": {
              "spark_pool": "3c67b279-1d53-4b7a-b0d9-41cb8b4b6723",
              "session_id": "46",
              "statement_id": 29,
              "state": "finished",
              "livy_statement_state": "available",
              "queued_time": "2023-11-17T04:56:15.7636844Z",
              "session_start_time": null,
              "execution_start_time": "2023-11-17T04:56:31.8229044Z",
              "execution_finish_time": "2023-11-17T04:56:33.3373361Z",
              "spark_jobs": {
                "numbers": {
                  "SUCCEEDED": 1,
                  "RUNNING": 0,
                  "FAILED": 0,
                  "UNKNOWN": 0
                },
                "jobs": [
                  {
                    "displayName": "showString at NativeMethodAccessorImpl.java:0",
                    "dataWritten": 0,
                    "dataRead": 6128,
                    "rowCount": 1,
                    "usageDescription": "",
                    "jobId": 8,
                    "name": "showString at NativeMethodAccessorImpl.java:0",
                    "description": "Job group for statement 29:\ndf_senti.show(5)",
                    "submissionTime": "2023-11-17T04:56:32.288GMT",
                    "completionTime": "2023-11-17T04:56:32.662GMT",
                    "stageIds": [
                      8
                    ],
                    "jobGroup": "29",
                    "status": "SUCCEEDED",
                    "numTasks": 1,
                    "numActiveTasks": 0,
                    "numCompletedTasks": 1,
                    "numSkippedTasks": 0,
                    "numFailedTasks": 0,
                    "numKilledTasks": 0,
                    "numCompletedIndices": 1,
                    "numActiveStages": 0,
                    "numCompletedStages": 1,
                    "numSkippedStages": 0,
                    "numFailedStages": 0,
                    "killedTasksSummary": {}
                  }
                ],
                "limit": 20,
                "rule": "ALL_DESC"
              },
              "parent_msg_id": "7806f276-07d3-41c2-9501-403ee19b1795"
            },
            "text/plain": "StatementMeta(3c67b279-1d53-4b7a-b0d9-41cb8b4b6723, 46, 29, Finished, Available)"
          },
          "metadata": {}
        },
        {
          "output_type": "stream",
          "name": "stdout",
          "text": "+---------+---------+\n|subreddit|sentiment|\n+---------+---------+\n|     FIFA|      pos|\n|     FIFA|      pos|\n|     FIFA|      neg|\n|     FIFA|      pos|\n|     FIFA|      pos|\n+---------+---------+\nonly showing top 5 rows\n\n"
        }
      ],
      "execution_count": 47,
      "metadata": {
        "jupyter": {
          "source_hidden": false,
          "outputs_hidden": false
        },
        "nteract": {
          "transient": {
            "deleting": false
          }
        },
        "gather": {
          "logged": 1700196993582
        }
      }
    },
    {
      "cell_type": "code",
      "source": [
        "from pyspark.sql.functions import col, size"
      ],
      "outputs": [
        {
          "output_type": "display_data",
          "data": {
            "application/vnd.livy.statement-meta+json": {
              "spark_pool": "3c67b279-1d53-4b7a-b0d9-41cb8b4b6723",
              "session_id": "46",
              "statement_id": 31,
              "state": "finished",
              "livy_statement_state": "available",
              "queued_time": "2023-11-17T05:05:08.6179363Z",
              "session_start_time": null,
              "execution_start_time": "2023-11-17T05:05:08.729319Z",
              "execution_finish_time": "2023-11-17T05:05:09.0163021Z",
              "spark_jobs": {
                "numbers": {
                  "SUCCEEDED": 0,
                  "RUNNING": 0,
                  "FAILED": 0,
                  "UNKNOWN": 0
                },
                "jobs": [],
                "limit": 20,
                "rule": "ALL_DESC"
              },
              "parent_msg_id": "9270947c-6658-4fce-a167-75fddc59443e"
            },
            "text/plain": "StatementMeta(3c67b279-1d53-4b7a-b0d9-41cb8b4b6723, 46, 31, Finished, Available)"
          },
          "metadata": {}
        }
      ],
      "execution_count": 49,
      "metadata": {
        "jupyter": {
          "source_hidden": false,
          "outputs_hidden": false
        },
        "nteract": {
          "transient": {
            "deleting": false
          }
        },
        "gather": {
          "logged": 1700197509258
        }
      }
    },
    {
      "cell_type": "code",
      "source": [
        "df_use = senti_pred.filter(size(col(\"sentence_embeddings\")) != 0)\n",
        "df_use.show(5)"
      ],
      "outputs": [
        {
          "output_type": "display_data",
          "data": {
            "application/vnd.livy.statement-meta+json": {
              "spark_pool": "3c67b279-1d53-4b7a-b0d9-41cb8b4b6723",
              "session_id": "46",
              "statement_id": 32,
              "state": "finished",
              "livy_statement_state": "available",
              "queued_time": "2023-11-17T05:05:20.559557Z",
              "session_start_time": null,
              "execution_start_time": "2023-11-17T05:05:20.6761677Z",
              "execution_finish_time": "2023-11-17T05:05:22.1958864Z",
              "spark_jobs": {
                "numbers": {
                  "SUCCEEDED": 1,
                  "RUNNING": 0,
                  "FAILED": 0,
                  "UNKNOWN": 0
                },
                "jobs": [
                  {
                    "displayName": "showString at NativeMethodAccessorImpl.java:0",
                    "dataWritten": 0,
                    "dataRead": 6128,
                    "rowCount": 1,
                    "usageDescription": "",
                    "jobId": 10,
                    "name": "showString at NativeMethodAccessorImpl.java:0",
                    "description": "Job group for statement 32:\ndf_use = senti_pred.filter(size(col(\"sentence_embeddings\")) != 0)\ndf_use.show(5)",
                    "submissionTime": "2023-11-17T05:05:21.258GMT",
                    "completionTime": "2023-11-17T05:05:21.561GMT",
                    "stageIds": [
                      10
                    ],
                    "jobGroup": "32",
                    "status": "SUCCEEDED",
                    "numTasks": 1,
                    "numActiveTasks": 0,
                    "numCompletedTasks": 1,
                    "numSkippedTasks": 0,
                    "numFailedTasks": 0,
                    "numKilledTasks": 0,
                    "numCompletedIndices": 1,
                    "numActiveStages": 0,
                    "numCompletedStages": 1,
                    "numSkippedStages": 0,
                    "numFailedStages": 0,
                    "killedTasksSummary": {}
                  }
                ],
                "limit": 20,
                "rule": "ALL_DESC"
              },
              "parent_msg_id": "dc2d878e-3b3a-4e88-988c-4b3f1dac78dc"
            },
            "text/plain": "StatementMeta(3c67b279-1d53-4b7a-b0d9-41cb8b4b6723, 46, 32, Finished, Available)"
          },
          "metadata": {}
        },
        {
          "output_type": "stream",
          "name": "stdout",
          "text": "+---------+--------------------+--------------------+-------------------+----+-----+----------+--------------------+--------------------+--------------------+\n|subreddit|               title|            selftext|        created_utc|year|month| post_date|            document| sentence_embeddings|           sentiment|\n+---------+--------------------+--------------------+-------------------+----+-----+----------+--------------------+--------------------+--------------------+\n|     FIFA|if you every get ...|                    |2023-02-22 21:07:53|2023|    2|2023-02-22|[{document, 0, -1...|[{sentence_embedd...|[{category, 0, 8,...|\n|     FIFA| Team of the week 17|                    |2023-02-22 21:10:48|2023|    2|2023-02-22|[{document, 0, -1...|[{sentence_embedd...|[{category, 0, 8,...|\n|     FIFA|Is there any reas...|For the past 10 d...|2023-02-22 21:24:30|2023|    2|2023-02-22|[{document, 0, 63...|[{sentence_embedd...|[{category, 0, 63...|\n|     FIFA|  flair passes trait|anyone know which...|2023-02-21 05:44:49|2023|    2|2023-02-21|[{document, 0, 13...|[{sentence_embedd...|[{category, 0, 13...|\n|     FIFA|Can’t believe wha...|                    |2023-02-21 05:13:52|2023|    2|2023-02-21|[{document, 0, -1...|[{sentence_embedd...|[{category, 0, 8,...|\n+---------+--------------------+--------------------+-------------------+----+-----+----------+--------------------+--------------------+--------------------+\nonly showing top 5 rows\n\n"
        }
      ],
      "execution_count": 50,
      "metadata": {
        "jupyter": {
          "source_hidden": false,
          "outputs_hidden": false
        },
        "nteract": {
          "transient": {
            "deleting": false
          }
        },
        "gather": {
          "logged": 1700197522472
        }
      }
    },
    {
      "cell_type": "code",
      "source": [
        "df_filtered_use_final = df_use.drop(*(\"document\", \"sentence_embeddings\", \"sentiment\"))\n",
        "df_senti_use=df_senti.drop(\"subreddit\")\n",
        "df_filtered_use_final.show(5)"
      ],
      "outputs": [
        {
          "output_type": "display_data",
          "data": {
            "application/vnd.livy.statement-meta+json": {
              "spark_pool": "3c67b279-1d53-4b7a-b0d9-41cb8b4b6723",
              "session_id": "46",
              "statement_id": 33,
              "state": "finished",
              "livy_statement_state": "available",
              "queued_time": "2023-11-17T05:05:47.8606204Z",
              "session_start_time": null,
              "execution_start_time": "2023-11-17T05:05:48.5295717Z",
              "execution_finish_time": "2023-11-17T05:05:50.0198786Z",
              "spark_jobs": {
                "numbers": {
                  "SUCCEEDED": 1,
                  "RUNNING": 0,
                  "FAILED": 0,
                  "UNKNOWN": 0
                },
                "jobs": [
                  {
                    "displayName": "showString at NativeMethodAccessorImpl.java:0",
                    "dataWritten": 0,
                    "dataRead": 6128,
                    "rowCount": 1,
                    "usageDescription": "",
                    "jobId": 11,
                    "name": "showString at NativeMethodAccessorImpl.java:0",
                    "description": "Job group for statement 33:\ndf_filtered_use_final = df_use.drop(*(\"document\", \"sentence_embeddings\", \"sentiment\"))\ndf_filtered_use_final.show(5)",
                    "submissionTime": "2023-11-17T05:05:48.896GMT",
                    "completionTime": "2023-11-17T05:05:49.147GMT",
                    "stageIds": [
                      11
                    ],
                    "jobGroup": "33",
                    "status": "SUCCEEDED",
                    "numTasks": 1,
                    "numActiveTasks": 0,
                    "numCompletedTasks": 1,
                    "numSkippedTasks": 0,
                    "numFailedTasks": 0,
                    "numKilledTasks": 0,
                    "numCompletedIndices": 1,
                    "numActiveStages": 0,
                    "numCompletedStages": 1,
                    "numSkippedStages": 0,
                    "numFailedStages": 0,
                    "killedTasksSummary": {}
                  }
                ],
                "limit": 20,
                "rule": "ALL_DESC"
              },
              "parent_msg_id": "0cdb38ac-d69e-4548-a50e-463adfdf728c"
            },
            "text/plain": "StatementMeta(3c67b279-1d53-4b7a-b0d9-41cb8b4b6723, 46, 33, Finished, Available)"
          },
          "metadata": {}
        },
        {
          "output_type": "stream",
          "name": "stdout",
          "text": "+---------+--------------------+--------------------+-------------------+----+-----+----------+\n|subreddit|               title|            selftext|        created_utc|year|month| post_date|\n+---------+--------------------+--------------------+-------------------+----+-----+----------+\n|     FIFA|if you every get ...|                    |2023-02-22 21:07:53|2023|    2|2023-02-22|\n|     FIFA| Team of the week 17|                    |2023-02-22 21:10:48|2023|    2|2023-02-22|\n|     FIFA|Is there any reas...|For the past 10 d...|2023-02-22 21:24:30|2023|    2|2023-02-22|\n|     FIFA|  flair passes trait|anyone know which...|2023-02-21 05:44:49|2023|    2|2023-02-21|\n|     FIFA|Can’t believe wha...|                    |2023-02-21 05:13:52|2023|    2|2023-02-21|\n+---------+--------------------+--------------------+-------------------+----+-----+----------+\nonly showing top 5 rows\n\n"
        }
      ],
      "execution_count": 51,
      "metadata": {
        "jupyter": {
          "source_hidden": false,
          "outputs_hidden": false
        },
        "nteract": {
          "transient": {
            "deleting": false
          }
        },
        "gather": {
          "logged": 1700197550268
        }
      }
    },
    {
      "cell_type": "code",
      "source": [
        "from pyspark.sql.functions import monotonically_increasing_id"
      ],
      "outputs": [
        {
          "output_type": "display_data",
          "data": {
            "application/vnd.livy.statement-meta+json": {
              "spark_pool": "3c67b279-1d53-4b7a-b0d9-41cb8b4b6723",
              "session_id": "46",
              "statement_id": 36,
              "state": "finished",
              "livy_statement_state": "available",
              "queued_time": "2023-11-17T05:08:20.5404976Z",
              "session_start_time": null,
              "execution_start_time": "2023-11-17T05:08:20.6469256Z",
              "execution_finish_time": "2023-11-17T05:08:20.9248303Z",
              "spark_jobs": {
                "numbers": {
                  "SUCCEEDED": 0,
                  "RUNNING": 0,
                  "FAILED": 0,
                  "UNKNOWN": 0
                },
                "jobs": [],
                "limit": 20,
                "rule": "ALL_DESC"
              },
              "parent_msg_id": "c6124342-c11c-4f31-a278-85c6a29f90d1"
            },
            "text/plain": "StatementMeta(3c67b279-1d53-4b7a-b0d9-41cb8b4b6723, 46, 36, Finished, Available)"
          },
          "metadata": {}
        }
      ],
      "execution_count": 54,
      "metadata": {
        "jupyter": {
          "source_hidden": false,
          "outputs_hidden": false
        },
        "nteract": {
          "transient": {
            "deleting": false
          }
        },
        "gather": {
          "logged": 1700197701169
        }
      }
    },
    {
      "cell_type": "code",
      "source": [
        "df_senti_text_use = df_filtered_use_final.withColumn(\"index\", monotonically_increasing_id()).join(df_senti_use.withColumn(\"index\", monotonically_increasing_id()),\"index\").drop(\"index\")\n",
        "df_senti_text_use.show(5)"
      ],
      "outputs": [
        {
          "output_type": "display_data",
          "data": {
            "application/vnd.livy.statement-meta+json": {
              "spark_pool": "3c67b279-1d53-4b7a-b0d9-41cb8b4b6723",
              "session_id": "46",
              "statement_id": 37,
              "state": "finished",
              "livy_statement_state": "available",
              "queued_time": "2023-11-17T05:08:23.3135692Z",
              "session_start_time": null,
              "execution_start_time": "2023-11-17T05:08:23.4265395Z",
              "execution_finish_time": "2023-11-17T05:26:30.2209573Z",
              "spark_jobs": {
                "numbers": {
                  "SUCCEEDED": 3,
                  "RUNNING": 0,
                  "FAILED": 0,
                  "UNKNOWN": 0
                },
                "jobs": [
                  {
                    "displayName": "showString at NativeMethodAccessorImpl.java:0",
                    "dataWritten": 0,
                    "dataRead": 0,
                    "rowCount": 0,
                    "usageDescription": "",
                    "jobId": 16,
                    "name": "showString at NativeMethodAccessorImpl.java:0",
                    "description": "Job group for statement 37:\ndf_senti_text_use = df_filtered_use_final.withColumn(\"index\", monotonically_increasing_id()).join(df_senti_use.withColumn(\"index\", monotonically_increasing_id()),\"index\").drop(\"index\")\ndf_senti_text_use.show(5)",
                    "submissionTime": "2023-11-17T05:26:28.866GMT",
                    "completionTime": "2023-11-17T05:26:29.118GMT",
                    "stageIds": [
                      17,
                      18
                    ],
                    "jobGroup": "37",
                    "status": "SUCCEEDED",
                    "numTasks": 3081,
                    "numActiveTasks": 0,
                    "numCompletedTasks": 1,
                    "numSkippedTasks": 3080,
                    "numFailedTasks": 0,
                    "numKilledTasks": 0,
                    "numCompletedIndices": 1,
                    "numActiveStages": 0,
                    "numCompletedStages": 1,
                    "numSkippedStages": 1,
                    "numFailedStages": 0,
                    "killedTasksSummary": {}
                  },
                  {
                    "displayName": "showString at NativeMethodAccessorImpl.java:0",
                    "dataWritten": 16461019,
                    "dataRead": 41880030,
                    "rowCount": 266338,
                    "usageDescription": "",
                    "jobId": 14,
                    "name": "showString at NativeMethodAccessorImpl.java:0",
                    "description": "Job group for statement 37:\ndf_senti_text_use = df_filtered_use_final.withColumn(\"index\", monotonically_increasing_id()).join(df_senti_use.withColumn(\"index\", monotonically_increasing_id()),\"index\").drop(\"index\")\ndf_senti_text_use.show(5)",
                    "submissionTime": "2023-11-17T05:08:24.850GMT",
                    "completionTime": "2023-11-17T05:26:27.296GMT",
                    "stageIds": [
                      14
                    ],
                    "jobGroup": "37",
                    "status": "SUCCEEDED",
                    "numTasks": 3080,
                    "numActiveTasks": 0,
                    "numCompletedTasks": 3080,
                    "numSkippedTasks": 0,
                    "numFailedTasks": 0,
                    "numKilledTasks": 0,
                    "numCompletedIndices": 3080,
                    "numActiveStages": 0,
                    "numCompletedStages": 1,
                    "numSkippedStages": 0,
                    "numFailedStages": 0,
                    "killedTasksSummary": {}
                  },
                  {
                    "displayName": "showString at NativeMethodAccessorImpl.java:0",
                    "dataWritten": 56328010,
                    "dataRead": 62010232410,
                    "rowCount": 707311286,
                    "usageDescription": "",
                    "jobId": 13,
                    "name": "showString at NativeMethodAccessorImpl.java:0",
                    "description": "Job group for statement 37:\ndf_senti_text_use = df_filtered_use_final.withColumn(\"index\", monotonically_increasing_id()).join(df_senti_use.withColumn(\"index\", monotonically_increasing_id()),\"index\").drop(\"index\")\ndf_senti_text_use.show(5)",
                    "submissionTime": "2023-11-17T05:08:24.385GMT",
                    "completionTime": "2023-11-17T05:23:59.533GMT",
                    "stageIds": [
                      13
                    ],
                    "jobGroup": "37",
                    "status": "SUCCEEDED",
                    "numTasks": 3080,
                    "numActiveTasks": 0,
                    "numCompletedTasks": 3080,
                    "numSkippedTasks": 0,
                    "numFailedTasks": 0,
                    "numKilledTasks": 0,
                    "numCompletedIndices": 3080,
                    "numActiveStages": 0,
                    "numCompletedStages": 1,
                    "numSkippedStages": 0,
                    "numFailedStages": 0,
                    "killedTasksSummary": {}
                  }
                ],
                "limit": 20,
                "rule": "ALL_DESC"
              },
              "parent_msg_id": "cff592d8-7103-4cf8-8ad8-674a2499a0c6"
            },
            "text/plain": "StatementMeta(3c67b279-1d53-4b7a-b0d9-41cb8b4b6723, 46, 37, Finished, Available)"
          },
          "metadata": {}
        },
        {
          "output_type": "stream",
          "name": "stdout",
          "text": "+---------+--------------------+--------------------+-------------------+----+-----+----------+---------+\n|subreddit|               title|            selftext|        created_utc|year|month| post_date|sentiment|\n+---------+--------------------+--------------------+-------------------+----+-----+----------+---------+\n|     FIFA|Does anyone know ...|           [removed]|2022-11-28 08:06:17|2022|   11|2022-11-28|      pos|\n|     FIFA|/r/FIFA: The Week...|It's not that we ...|2023-03-29 11:00:15|2023|    3|2023-03-29|      pos|\n|     FIFA|It's not the firs...|           [removed]|2023-02-28 10:24:53|2023|    2|2023-02-28|      pos|\n|     FIFA|Selling (fifa 23 ...|           [removed]|2023-03-29 11:41:15|2023|    3|2023-03-29|      pos|\n|     FIFA|Is this a bug or ...|           [removed]|2022-11-28 08:01:10|2022|   11|2022-11-28|      pos|\n+---------+--------------------+--------------------+-------------------+----+-----+----------+---------+\nonly showing top 5 rows\n\n"
        }
      ],
      "execution_count": 55,
      "metadata": {
        "jupyter": {
          "source_hidden": false,
          "outputs_hidden": false
        },
        "nteract": {
          "transient": {
            "deleting": false
          }
        },
        "gather": {
          "logged": 1700198790695
        }
      }
    },
    {
      "cell_type": "code",
      "source": [
        "df_senti_text_save=df_senti_text_use.toPandas()"
      ],
      "outputs": [
        {
          "output_type": "display_data",
          "data": {
            "application/vnd.livy.statement-meta+json": {
              "spark_pool": "3c67b279-1d53-4b7a-b0d9-41cb8b4b6723",
              "session_id": "46",
              "statement_id": 40,
              "state": "submitted",
              "livy_statement_state": "running",
              "queued_time": "2023-11-17T05:31:40.3861393Z",
              "session_start_time": null,
              "execution_start_time": "2023-11-17T05:31:40.4889724Z",
              "execution_finish_time": null,
              "spark_jobs": {
                "numbers": {
                  "SUCCEEDED": 0,
                  "RUNNING": 1,
                  "FAILED": 0,
                  "UNKNOWN": 0
                },
                "jobs": [
                  {
                    "displayName": "toPandas at /tmp/ipykernel_17862/1735211194.py:1",
                    "dataWritten": 0,
                    "dataRead": 23125808,
                    "rowCount": 1675,
                    "usageDescription": "",
                    "jobId": 20,
                    "name": "toPandas at /tmp/ipykernel_17862/1735211194.py:1",
                    "description": "Job group for statement 40:\ndf_senti_text_save=df_senti_text_use.toPandas()",
                    "submissionTime": "2023-11-17T05:33:49.648GMT",
                    "stageIds": [
                      22
                    ],
                    "jobGroup": "40",
                    "status": "RUNNING",
                    "numTasks": 3080,
                    "numActiveTasks": 9,
                    "numCompletedTasks": 1675,
                    "numSkippedTasks": 0,
                    "numFailedTasks": 0,
                    "numKilledTasks": 0,
                    "numCompletedIndices": 1675,
                    "numActiveStages": 1,
                    "numCompletedStages": 0,
                    "numSkippedStages": 0,
                    "numFailedStages": 0,
                    "killedTasksSummary": {}
                  }
                ],
                "limit": 20,
                "rule": "ALL_DESC"
              },
              "parent_msg_id": "5d7de774-aaec-479f-864c-1adb7ecf9dd6"
            },
            "text/plain": "StatementMeta(3c67b279-1d53-4b7a-b0d9-41cb8b4b6723, 46, 40, Submitted, Running)"
          },
          "metadata": {}
        }
      ],
      "execution_count": 58,
      "metadata": {
        "jupyter": {
          "source_hidden": false,
          "outputs_hidden": false
        },
        "nteract": {
          "transient": {
            "deleting": false
          }
        }
      }
    },
    {
      "cell_type": "code",
      "source": [
        "import os\n",
        "CSV_DIR = os.path.join(\"Users/zx111/fall-2023-reddit-project-team-11/data\", \"csv\")\n",
        "df_senti_text_save.to_csv(f\"{CSV_DIR}/FIFA_sentiment_text.csv\", index=False)"
      ],
      "outputs": [
        {
          "output_type": "display_data",
          "data": {
            "application/vnd.livy.statement-meta+json": {
              "spark_pool": null,
              "session_id": null,
              "statement_id": null,
              "state": "waiting",
              "livy_statement_state": null,
              "queued_time": "2023-11-17T05:31:51.674374Z",
              "session_start_time": null,
              "execution_start_time": null,
              "execution_finish_time": null,
              "spark_jobs": null,
              "parent_msg_id": "cc36261f-590e-446b-8822-a515f68bfb20"
            },
            "text/plain": "StatementMeta(, , , Waiting, )"
          },
          "metadata": {}
        }
      ],
      "execution_count": null,
      "metadata": {
        "jupyter": {
          "source_hidden": false,
          "outputs_hidden": false
        },
        "nteract": {
          "transient": {
            "deleting": false
          }
        }
      }
    },
    {
      "cell_type": "code",
      "source": [],
      "outputs": [],
      "execution_count": null,
      "metadata": {
        "jupyter": {
          "source_hidden": false,
          "outputs_hidden": false
        },
        "nteract": {
          "transient": {
            "deleting": false
          }
        }
      }
    }
  ],
  "metadata": {
    "kernelspec": {
      "name": "synapse_pyspark",
      "language": "Python",
      "display_name": "Synapse PySpark"
    },
    "language_info": {
      "name": "python",
      "version": "3.8.0",
      "mimetype": "text/x-python",
      "file_extension": ".py",
      "pygments_lexer": "ipython",
      "codemirror_mode": "ipython",
      "nbconvert_exporter": "python"
    },
    "microsoft": {
      "ms_spell_check": {
        "ms_spell_check_language": "en"
      },
      "host": {
        "AzureML": {
          "notebookHasBeenCompleted": true
        }
      }
    },
    "kernel_info": {
      "name": "synapse_pyspark"
    },
    "nteract": {
      "version": "nteract-front-end@1.0.0"
    }
  },
  "nbformat": 4,
  "nbformat_minor": 2
}