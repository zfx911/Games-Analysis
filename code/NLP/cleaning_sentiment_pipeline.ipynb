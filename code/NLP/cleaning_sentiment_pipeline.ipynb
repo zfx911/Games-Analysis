{
  "cells": [
    {
      "cell_type": "code",
      "source": [
        "spark"
      ],
      "outputs": [
        {
          "output_type": "display_data",
          "data": {
            "application/vnd.livy.statement-meta+json": {
              "spark_pool": "3c67b279-1d53-4b7a-b0d9-41cb8b4b6723",
              "session_id": "49",
              "statement_id": 6,
              "state": "finished",
              "livy_statement_state": "available",
              "queued_time": "2023-11-17T21:44:27.1427266Z",
              "session_start_time": "2023-11-17T21:44:27.1904133Z",
              "execution_start_time": "2023-11-17T21:47:36.2794529Z",
              "execution_finish_time": "2023-11-17T21:47:39.2989381Z",
              "spark_jobs": {
                "numbers": {
                  "FAILED": 0,
                  "SUCCEEDED": 0,
                  "RUNNING": 0,
                  "UNKNOWN": 0
                },
                "jobs": [],
                "limit": 20,
                "rule": "ALL_DESC"
              },
              "parent_msg_id": "20ee1e25-6101-476e-8ca6-18eb7ded5ca5"
            },
            "text/plain": "StatementMeta(3c67b279-1d53-4b7a-b0d9-41cb8b4b6723, 49, 6, Finished, Available)"
          },
          "metadata": {}
        },
        {
          "output_type": "execute_result",
          "execution_count": 11,
          "data": {
            "text/plain": "<pyspark.sql.session.SparkSession at 0x7f5c4b8608e0>",
            "text/html": "\n            <div>\n                <p><b>SparkSession - hive</b></p>\n                \n        <div>\n            <p><b>SparkContext</b></p>\n\n            <p><a href=\"http://vm-35c84327:37561\">Spark UI</a></p>\n\n            <dl>\n              <dt>Version</dt>\n                <dd><code>v3.2.2.5.1-100879434</code></dd>\n              <dt>Master</dt>\n                <dd><code>yarn</code></dd>\n              <dt>AppName</dt>\n                <dd><code>Azure ML Experiment</code></dd>\n            </dl>\n        </div>\n        \n            </div>\n        "
          },
          "metadata": {}
        }
      ],
      "execution_count": 1,
      "metadata": {
        "gather": {
          "logged": 1700257659560
        }
      }
    },
    {
      "cell_type": "markdown",
      "source": [
        "# Set up data configuration"
      ],
      "metadata": {
        "nteract": {
          "transient": {
            "deleting": false
          }
        }
      }
    },
    {
      "cell_type": "code",
      "source": [
        "blob_account_name = \"marckvnonprodblob\"\n",
        "blob_container_name = \"bigdata\"\n",
        "# read only\n",
        "blob_sas_token = \"?sv=2021-10-04&st=2023-10-04T01%3A42%3A59Z&se=2024-01-02T02%3A42%3A00Z&sr=c&sp=rlf&sig=w3CH9MbCOpwO7DtHlrahc7AlRPxSZZb8MOgS6TaXLzI%3D\"\n",
        "\n",
        "wasbs_base_url = (\n",
        "    f\"wasbs://{blob_container_name}@{blob_account_name}.blob.core.windows.net/\"\n",
        ")\n",
        "spark.conf.set(\n",
        "    f\"fs.azure.sas.{blob_container_name}.{blob_account_name}.blob.core.windows.net\",\n",
        "    blob_sas_token,\n",
        ")"
      ],
      "outputs": [
        {
          "output_type": "display_data",
          "data": {
            "application/vnd.livy.statement-meta+json": {
              "spark_pool": "3c67b279-1d53-4b7a-b0d9-41cb8b4b6723",
              "session_id": "50",
              "statement_id": 52,
              "state": "finished",
              "livy_statement_state": "available",
              "queued_time": "2023-11-17T22:20:13.3328879Z",
              "session_start_time": null,
              "execution_start_time": "2023-11-17T22:20:13.4370865Z",
              "execution_finish_time": "2023-11-17T22:20:13.7338272Z",
              "spark_jobs": {
                "numbers": {
                  "FAILED": 0,
                  "SUCCEEDED": 0,
                  "RUNNING": 0,
                  "UNKNOWN": 0
                },
                "jobs": [],
                "limit": 20,
                "rule": "ALL_DESC"
              },
              "parent_msg_id": "553def48-f92b-4f1b-9f64-e63f90332a68"
            },
            "text/plain": "StatementMeta(3c67b279-1d53-4b7a-b0d9-41cb8b4b6723, 50, 52, Finished, Available)"
          },
          "metadata": {}
        }
      ],
      "execution_count": 49,
      "metadata": {
        "jupyter": {
          "source_hidden": false,
          "outputs_hidden": false
        },
        "nteract": {
          "transient": {
            "deleting": false
          }
        },
        "gather": {
          "logged": 1700259613832
        }
      }
    },
    {
      "cell_type": "markdown",
      "source": [
        "# Reading in single parquet file"
      ],
      "metadata": {
        "nteract": {
          "transient": {
            "deleting": false
          }
        }
      }
    },
    {
      "cell_type": "code",
      "source": [
        "submissions_path = \"reddit-parquet/submissions/\""
      ],
      "outputs": [
        {
          "output_type": "display_data",
          "data": {
            "application/vnd.livy.statement-meta+json": {
              "spark_pool": "3c67b279-1d53-4b7a-b0d9-41cb8b4b6723",
              "session_id": "50",
              "statement_id": 53,
              "state": "finished",
              "livy_statement_state": "available",
              "queued_time": "2023-11-17T22:20:16.3345489Z",
              "session_start_time": null,
              "execution_start_time": "2023-11-17T22:20:16.4330289Z",
              "execution_finish_time": "2023-11-17T22:20:16.7423196Z",
              "spark_jobs": {
                "numbers": {
                  "FAILED": 0,
                  "SUCCEEDED": 0,
                  "RUNNING": 0,
                  "UNKNOWN": 0
                },
                "jobs": [],
                "limit": 20,
                "rule": "ALL_DESC"
              },
              "parent_msg_id": "f2757ba3-310d-4e81-8f10-9819c8516e9b"
            },
            "text/plain": "StatementMeta(3c67b279-1d53-4b7a-b0d9-41cb8b4b6723, 50, 53, Finished, Available)"
          },
          "metadata": {}
        }
      ],
      "execution_count": 50,
      "metadata": {
        "jupyter": {
          "source_hidden": false,
          "outputs_hidden": false
        },
        "nteract": {
          "transient": {
            "deleting": false
          }
        },
        "gather": {
          "logged": 1700259616832
        }
      }
    },
    {
      "cell_type": "markdown",
      "source": [
        "# select subreddit topics we are going to analyze"
      ],
      "metadata": {
        "nteract": {
          "transient": {
            "deleting": false
          }
        }
      }
    },
    {
      "cell_type": "code",
      "source": [
        "topic = [\"Tetris\",\"pokemon\",\"SuperMario\",\"GTA\",\"CallOfDuty\",\"FIFA\",\"legostarwars\", \"assassinscreed\",\"thesims\",\"FinalFantasy\"]"
      ],
      "outputs": [
        {
          "output_type": "display_data",
          "data": {
            "application/vnd.livy.statement-meta+json": {
              "spark_pool": "3c67b279-1d53-4b7a-b0d9-41cb8b4b6723",
              "session_id": "50",
              "statement_id": 54,
              "state": "finished",
              "livy_statement_state": "available",
              "queued_time": "2023-11-17T22:20:18.7136689Z",
              "session_start_time": null,
              "execution_start_time": "2023-11-17T22:20:18.9449585Z",
              "execution_finish_time": "2023-11-17T22:20:19.237632Z",
              "spark_jobs": {
                "numbers": {
                  "FAILED": 0,
                  "SUCCEEDED": 0,
                  "RUNNING": 0,
                  "UNKNOWN": 0
                },
                "jobs": [],
                "limit": 20,
                "rule": "ALL_DESC"
              },
              "parent_msg_id": "1114b94d-b5ca-4c8c-8a16-7f5e60278b79"
            },
            "text/plain": "StatementMeta(3c67b279-1d53-4b7a-b0d9-41cb8b4b6723, 50, 54, Finished, Available)"
          },
          "metadata": {}
        }
      ],
      "execution_count": 51,
      "metadata": {
        "jupyter": {
          "source_hidden": false,
          "outputs_hidden": false
        },
        "nteract": {
          "transient": {
            "deleting": false
          }
        },
        "gather": {
          "logged": 1700259619341
        }
      }
    },
    {
      "cell_type": "markdown",
      "source": [
        "# Reading in all of the Reddit data"
      ],
      "metadata": {
        "nteract": {
          "transient": {
            "deleting": false
          }
        }
      }
    },
    {
      "cell_type": "code",
      "source": [
        "submissions_df = spark.read.parquet(f\"{wasbs_base_url}{submissions_path}\")"
      ],
      "outputs": [
        {
          "output_type": "display_data",
          "data": {
            "application/vnd.livy.statement-meta+json": {
              "spark_pool": "3c67b279-1d53-4b7a-b0d9-41cb8b4b6723",
              "session_id": "50",
              "statement_id": 55,
              "state": "finished",
              "livy_statement_state": "available",
              "queued_time": "2023-11-17T22:20:20.661827Z",
              "session_start_time": null,
              "execution_start_time": "2023-11-17T22:20:20.7586846Z",
              "execution_finish_time": "2023-11-17T22:20:30.8037577Z",
              "spark_jobs": {
                "numbers": {
                  "FAILED": 0,
                  "SUCCEEDED": 1,
                  "RUNNING": 0,
                  "UNKNOWN": 0
                },
                "jobs": [
                  {
                    "displayName": "parquet at NativeMethodAccessorImpl.java:0",
                    "dataWritten": 0,
                    "dataRead": 0,
                    "rowCount": 0,
                    "usageDescription": "",
                    "jobId": 55,
                    "name": "parquet at NativeMethodAccessorImpl.java:0",
                    "description": "Job group for statement 55:\nsubmissions_df = spark.read.parquet(f\"{wasbs_base_url}{submissions_path}\")",
                    "submissionTime": "2023-11-17T22:20:28.572GMT",
                    "completionTime": "2023-11-17T22:20:29.978GMT",
                    "stageIds": [
                      55
                    ],
                    "jobGroup": "55",
                    "status": "SUCCEEDED",
                    "numTasks": 1,
                    "numActiveTasks": 0,
                    "numCompletedTasks": 1,
                    "numSkippedTasks": 0,
                    "numFailedTasks": 0,
                    "numKilledTasks": 0,
                    "numCompletedIndices": 1,
                    "numActiveStages": 0,
                    "numCompletedStages": 1,
                    "numSkippedStages": 0,
                    "numFailedStages": 0,
                    "killedTasksSummary": {}
                  }
                ],
                "limit": 20,
                "rule": "ALL_DESC"
              },
              "parent_msg_id": "84e4ec7f-82f0-4f72-a066-d575c35ef82c"
            },
            "text/plain": "StatementMeta(3c67b279-1d53-4b7a-b0d9-41cb8b4b6723, 50, 55, Finished, Available)"
          },
          "metadata": {}
        }
      ],
      "execution_count": 52,
      "metadata": {
        "jupyter": {
          "source_hidden": false,
          "outputs_hidden": false
        },
        "nteract": {
          "transient": {
            "deleting": false
          }
        },
        "gather": {
          "logged": 1700259630947
        }
      }
    },
    {
      "cell_type": "code",
      "source": [
        "from pyspark.sql.functions import col, asc,desc\n",
        "\n",
        "submissions_filtered = submissions_df.filter(col(\"subreddit\").isin(topic))"
      ],
      "outputs": [
        {
          "output_type": "display_data",
          "data": {
            "application/vnd.livy.statement-meta+json": {
              "spark_pool": "3c67b279-1d53-4b7a-b0d9-41cb8b4b6723",
              "session_id": "50",
              "statement_id": 56,
              "state": "finished",
              "livy_statement_state": "available",
              "queued_time": "2023-11-17T22:20:53.2947803Z",
              "session_start_time": null,
              "execution_start_time": "2023-11-17T22:20:53.3954179Z",
              "execution_finish_time": "2023-11-17T22:20:54.22117Z",
              "spark_jobs": {
                "numbers": {
                  "FAILED": 0,
                  "SUCCEEDED": 0,
                  "RUNNING": 0,
                  "UNKNOWN": 0
                },
                "jobs": [],
                "limit": 20,
                "rule": "ALL_DESC"
              },
              "parent_msg_id": "195c14fd-4231-4007-a33e-b2fa8e86bdb4"
            },
            "text/plain": "StatementMeta(3c67b279-1d53-4b7a-b0d9-41cb8b4b6723, 50, 56, Finished, Available)"
          },
          "metadata": {}
        }
      ],
      "execution_count": 53,
      "metadata": {
        "jupyter": {
          "source_hidden": false,
          "outputs_hidden": false
        },
        "nteract": {
          "transient": {
            "deleting": false
          }
        },
        "gather": {
          "logged": 1700259654334
        }
      }
    },
    {
      "cell_type": "markdown",
      "source": [
        "# select post with the subreddit topics"
      ],
      "metadata": {
        "nteract": {
          "transient": {
            "deleting": false
          }
        }
      }
    },
    {
      "cell_type": "code",
      "source": [
        "df_post = df_save = submissions_filtered.select(\"subreddit\",\"selftext\").cache()"
      ],
      "outputs": [
        {
          "output_type": "display_data",
          "data": {
            "application/vnd.livy.statement-meta+json": {
              "spark_pool": "3c67b279-1d53-4b7a-b0d9-41cb8b4b6723",
              "session_id": "50",
              "statement_id": 57,
              "state": "finished",
              "livy_statement_state": "available",
              "queued_time": "2023-11-17T22:20:56.8451653Z",
              "session_start_time": null,
              "execution_start_time": "2023-11-17T22:20:56.9748862Z",
              "execution_finish_time": "2023-11-17T22:20:57.8046452Z",
              "spark_jobs": {
                "numbers": {
                  "FAILED": 0,
                  "SUCCEEDED": 0,
                  "RUNNING": 0,
                  "UNKNOWN": 0
                },
                "jobs": [],
                "limit": 20,
                "rule": "ALL_DESC"
              },
              "parent_msg_id": "fecdb9ce-b4b4-4192-a6bf-9d7800863f83"
            },
            "text/plain": "StatementMeta(3c67b279-1d53-4b7a-b0d9-41cb8b4b6723, 50, 57, Finished, Available)"
          },
          "metadata": {}
        }
      ],
      "execution_count": 54,
      "metadata": {
        "jupyter": {
          "source_hidden": false,
          "outputs_hidden": false
        },
        "nteract": {
          "transient": {
            "deleting": false
          }
        },
        "gather": {
          "logged": 1700259657925
        }
      }
    },
    {
      "cell_type": "code",
      "source": [
        "df_post_filter = df_post.filter(~col(\"selftext\").isin([\" \",\"[removed]\",\"[deleted]\"]))"
      ],
      "outputs": [
        {
          "output_type": "display_data",
          "data": {
            "application/vnd.livy.statement-meta+json": {
              "spark_pool": "3c67b279-1d53-4b7a-b0d9-41cb8b4b6723",
              "session_id": "50",
              "statement_id": 58,
              "state": "finished",
              "livy_statement_state": "available",
              "queued_time": "2023-11-17T22:21:15.6440101Z",
              "session_start_time": null,
              "execution_start_time": "2023-11-17T22:21:15.7612431Z",
              "execution_finish_time": "2023-11-17T22:21:16.065918Z",
              "spark_jobs": {
                "numbers": {
                  "FAILED": 0,
                  "SUCCEEDED": 0,
                  "RUNNING": 0,
                  "UNKNOWN": 0
                },
                "jobs": [],
                "limit": 20,
                "rule": "ALL_DESC"
              },
              "parent_msg_id": "74cc829a-1450-4220-b8eb-38daaa3abb48"
            },
            "text/plain": "StatementMeta(3c67b279-1d53-4b7a-b0d9-41cb8b4b6723, 50, 58, Finished, Available)"
          },
          "metadata": {}
        }
      ],
      "execution_count": 55,
      "metadata": {
        "jupyter": {
          "source_hidden": false,
          "outputs_hidden": false
        },
        "nteract": {
          "transient": {
            "deleting": false
          }
        },
        "gather": {
          "logged": 1700259676250
        }
      }
    },
    {
      "cell_type": "code",
      "source": [
        "df_post_filter = df_post_filter.dropna()"
      ],
      "outputs": [
        {
          "output_type": "display_data",
          "data": {
            "application/vnd.livy.statement-meta+json": {
              "spark_pool": "3c67b279-1d53-4b7a-b0d9-41cb8b4b6723",
              "session_id": "50",
              "statement_id": 59,
              "state": "finished",
              "livy_statement_state": "available",
              "queued_time": "2023-11-17T22:21:44.0365964Z",
              "session_start_time": null,
              "execution_start_time": "2023-11-17T22:21:44.1695279Z",
              "execution_finish_time": "2023-11-17T22:21:44.4789387Z",
              "spark_jobs": {
                "numbers": {
                  "FAILED": 0,
                  "SUCCEEDED": 0,
                  "RUNNING": 0,
                  "UNKNOWN": 0
                },
                "jobs": [],
                "limit": 20,
                "rule": "ALL_DESC"
              },
              "parent_msg_id": "7710c6bd-4914-4445-84f5-62d1e418bf69"
            },
            "text/plain": "StatementMeta(3c67b279-1d53-4b7a-b0d9-41cb8b4b6723, 50, 59, Finished, Available)"
          },
          "metadata": {}
        }
      ],
      "execution_count": 56,
      "metadata": {
        "jupyter": {
          "source_hidden": false,
          "outputs_hidden": false
        },
        "nteract": {
          "transient": {
            "deleting": false
          }
        },
        "gather": {
          "logged": 1700259704614
        }
      }
    },
    {
      "cell_type": "code",
      "source": [
        "df_post1 = submissions_filtered.select(\"subreddit\",\"title\",\"selftext\").cache()"
      ],
      "outputs": [
        {
          "output_type": "display_data",
          "data": {
            "application/vnd.livy.statement-meta+json": {
              "spark_pool": "3c67b279-1d53-4b7a-b0d9-41cb8b4b6723",
              "session_id": "40",
              "statement_id": 70,
              "state": "finished",
              "livy_statement_state": "available",
              "queued_time": "2023-11-16T20:02:18.3624532Z",
              "session_start_time": null,
              "execution_start_time": "2023-11-16T20:02:18.4571181Z",
              "execution_finish_time": "2023-11-16T20:02:18.7610599Z",
              "spark_jobs": {
                "numbers": {
                  "FAILED": 0,
                  "SUCCEEDED": 0,
                  "RUNNING": 0,
                  "UNKNOWN": 0
                },
                "jobs": [],
                "limit": 20,
                "rule": "ALL_DESC"
              },
              "parent_msg_id": "c87b03a9-716f-406b-a96e-6a15cfcf26c0"
            },
            "text/plain": "StatementMeta(3c67b279-1d53-4b7a-b0d9-41cb8b4b6723, 40, 70, Finished, Available)"
          },
          "metadata": {}
        }
      ],
      "execution_count": 73,
      "metadata": {
        "jupyter": {
          "source_hidden": false,
          "outputs_hidden": false
        },
        "nteract": {
          "transient": {
            "deleting": false
          }
        },
        "gather": {
          "logged": 1700164939926
        }
      }
    },
    {
      "cell_type": "markdown",
      "source": [
        "# spark NLP pipeline build"
      ],
      "metadata": {
        "nteract": {
          "transient": {
            "deleting": false
          }
        }
      }
    },
    {
      "cell_type": "code",
      "source": [
        "%%configure -f \\\n",
        "{\"conf\": {\"spark.jars.packages\": \"com.johnsnowlabs.nlp:spark-nlp_2.12:5.1.2\"}}"
      ],
      "outputs": [
        {
          "output_type": "display_data",
          "data": {
            "application/vnd.livy.statement-meta+json": {
              "spark_pool": "3c67b279-1d53-4b7a-b0d9-41cb8b4b6723",
              "session_id": "50",
              "statement_id": -1,
              "state": "finished",
              "livy_statement_state": "available",
              "queued_time": "2023-11-17T21:47:46.7330105Z",
              "session_start_time": "2023-11-17T21:47:46.8604221Z",
              "execution_start_time": "2023-11-17T21:49:44.3943153Z",
              "execution_finish_time": "2023-11-17T21:49:44.4237356Z",
              "spark_jobs": {
                "numbers": {
                  "FAILED": 0,
                  "SUCCEEDED": 0,
                  "RUNNING": 0,
                  "UNKNOWN": 0
                },
                "jobs": [],
                "limit": 20,
                "rule": "ALL_DESC"
              },
              "parent_msg_id": "03d29047-2d94-4dae-a070-cf524e82167c"
            },
            "text/plain": "StatementMeta(3c67b279-1d53-4b7a-b0d9-41cb8b4b6723, 50, -1, Finished, Available)"
          },
          "metadata": {}
        },
        {
          "output_type": "stream",
          "name": "stdout",
          "text": "Unrecognized options: "
        }
      ],
      "execution_count": 2,
      "metadata": {
        "jupyter": {
          "source_hidden": false,
          "outputs_hidden": false
        },
        "nteract": {
          "transient": {
            "deleting": false
          }
        }
      }
    },
    {
      "cell_type": "code",
      "source": [
        "!pip install spark-nlp"
      ],
      "outputs": [
        {
          "output_type": "display_data",
          "data": {
            "application/vnd.livy.statement-meta+json": {
              "spark_pool": "3c67b279-1d53-4b7a-b0d9-41cb8b4b6723",
              "session_id": "50",
              "statement_id": 6,
              "state": "finished",
              "livy_statement_state": "available",
              "queued_time": "2023-11-17T21:49:55.7385198Z",
              "session_start_time": null,
              "execution_start_time": "2023-11-17T21:50:13.1373641Z",
              "execution_finish_time": "2023-11-17T21:50:31.3188475Z",
              "spark_jobs": {
                "numbers": {
                  "FAILED": 0,
                  "SUCCEEDED": 0,
                  "RUNNING": 0,
                  "UNKNOWN": 0
                },
                "jobs": [],
                "limit": 20,
                "rule": "ALL_DESC"
              },
              "parent_msg_id": "c1f565c5-dd46-4df4-9f5c-46f8ef794834"
            },
            "text/plain": "StatementMeta(3c67b279-1d53-4b7a-b0d9-41cb8b4b6723, 50, 6, Finished, Available)"
          },
          "metadata": {}
        },
        {
          "output_type": "stream",
          "name": "stdout",
          "text": "Collecting spark-nlp\n  Downloading spark_nlp-5.1.4-py2.py3-none-any.whl (540 kB)\n\u001b[K     |████████████████████████████████| 540 kB 9.0 MB/s eta 0:00:01\n\u001b[?25hInstalling collected packages: spark-nlp\nSuccessfully installed spark-nlp-5.1.4\n"
        }
      ],
      "execution_count": 3,
      "metadata": {
        "jupyter": {
          "source_hidden": false,
          "outputs_hidden": false
        },
        "nteract": {
          "transient": {
            "deleting": false
          }
        }
      }
    },
    {
      "cell_type": "code",
      "source": [
        "import pandas as pd\n",
        "import numpy as np\n",
        "import json\n",
        "from pyspark.ml import Pipeline\n",
        "from pyspark.sql import SparkSession\n",
        "import pyspark.sql.functions as F\n",
        "from sparknlp.annotator import *\n",
        "from sparknlp.base import *\n",
        "import sparknlp\n",
        "from sparknlp.pretrained import PretrainedPipeline"
      ],
      "outputs": [
        {
          "output_type": "display_data",
          "data": {
            "application/vnd.livy.statement-meta+json": {
              "spark_pool": "3c67b279-1d53-4b7a-b0d9-41cb8b4b6723",
              "session_id": "50",
              "statement_id": 7,
              "state": "finished",
              "livy_statement_state": "available",
              "queued_time": "2023-11-17T21:50:36.537771Z",
              "session_start_time": null,
              "execution_start_time": "2023-11-17T21:50:36.6521076Z",
              "execution_finish_time": "2023-11-17T21:50:41.4612986Z",
              "spark_jobs": {
                "numbers": {
                  "FAILED": 0,
                  "SUCCEEDED": 0,
                  "RUNNING": 0,
                  "UNKNOWN": 0
                },
                "jobs": [],
                "limit": 20,
                "rule": "ALL_DESC"
              },
              "parent_msg_id": "c3639f3f-032f-4eeb-8efb-246447949d54"
            },
            "text/plain": "StatementMeta(3c67b279-1d53-4b7a-b0d9-41cb8b4b6723, 50, 7, Finished, Available)"
          },
          "metadata": {}
        }
      ],
      "execution_count": 4,
      "metadata": {
        "jupyter": {
          "source_hidden": false,
          "outputs_hidden": false
        },
        "nteract": {
          "transient": {
            "deleting": false
          }
        },
        "gather": {
          "logged": 1700257841625
        }
      }
    },
    {
      "cell_type": "code",
      "source": [
        "documentAssembler = DocumentAssembler()\\\n",
        "    .setInputCol(\"selftext\")\\\n",
        "    .setOutputCol(\"document\")\n",
        "\n",
        "    \n",
        "use = UniversalSentenceEncoder.pretrained(name=\"tfhub_use\", lang=\"en\")\\\n",
        " .setInputCols([\"document\"])\\\n",
        " .setOutputCol(\"sentence_embeddings\")\n",
        "\n",
        "\n",
        "sentimentdl = SentimentDLModel.pretrained(lang=\"en\")\\\n",
        "    .setInputCols([\"sentence_embeddings\"])\\\n",
        "    .setOutputCol(\"sentiment\")\n",
        "\n",
        "nlpPipeline = Pipeline(\n",
        "      stages = [\n",
        "          documentAssembler,\n",
        "          use,\n",
        "          sentimentdl\n",
        "      ])"
      ],
      "outputs": [
        {
          "output_type": "display_data",
          "data": {
            "application/vnd.livy.statement-meta+json": {
              "spark_pool": "3c67b279-1d53-4b7a-b0d9-41cb8b4b6723",
              "session_id": "48",
              "statement_id": 33,
              "state": "finished",
              "livy_statement_state": "available",
              "queued_time": "2023-11-17T18:22:35.4133119Z",
              "session_start_time": null,
              "execution_start_time": "2023-11-17T18:22:35.5226759Z",
              "execution_finish_time": "2023-11-17T18:22:43.5524366Z",
              "spark_jobs": {
                "numbers": {
                  "SUCCEEDED": 0,
                  "RUNNING": 0,
                  "FAILED": 0,
                  "UNKNOWN": 0
                },
                "jobs": [],
                "limit": 20,
                "rule": "ALL_DESC"
              },
              "parent_msg_id": "54547fec-3c01-483f-a108-431d06592cf9"
            },
            "text/plain": "StatementMeta(3c67b279-1d53-4b7a-b0d9-41cb8b4b6723, 48, 33, Finished, Available)"
          },
          "metadata": {}
        },
        {
          "output_type": "stream",
          "name": "stdout",
          "text": "tfhub_use download started this may take some time.\nApproximate size to download 923.7 MB\n[OK!]\nsentimentdl_use_imdb download started this may take some time.\nApproximate size to download 12 MB\n[OK!]\n"
        }
      ],
      "execution_count": 31,
      "metadata": {
        "jupyter": {
          "source_hidden": false,
          "outputs_hidden": false
        },
        "nteract": {
          "transient": {
            "deleting": false
          }
        },
        "gather": {
          "logged": 1700245363701
        }
      }
    },
    {
      "cell_type": "markdown",
      "source": [
        "# NLP Cleaning pipeline"
      ],
      "metadata": {
        "nteract": {
          "transient": {
            "deleting": false
          }
        }
      }
    },
    {
      "cell_type": "code",
      "source": [
        "df_post2 = df_post1.dropna()"
      ],
      "outputs": [
        {
          "output_type": "display_data",
          "data": {
            "application/vnd.livy.statement-meta+json": {
              "spark_pool": "3c67b279-1d53-4b7a-b0d9-41cb8b4b6723",
              "session_id": "40",
              "statement_id": 72,
              "state": "finished",
              "livy_statement_state": "available",
              "queued_time": "2023-11-16T20:03:05.764863Z",
              "session_start_time": null,
              "execution_start_time": "2023-11-16T20:03:05.8676677Z",
              "execution_finish_time": "2023-11-16T20:03:06.1429525Z",
              "spark_jobs": {
                "numbers": {
                  "FAILED": 0,
                  "SUCCEEDED": 0,
                  "RUNNING": 0,
                  "UNKNOWN": 0
                },
                "jobs": [],
                "limit": 20,
                "rule": "ALL_DESC"
              },
              "parent_msg_id": "a62c9260-5322-4e47-923d-91651080b9e6"
            },
            "text/plain": "StatementMeta(3c67b279-1d53-4b7a-b0d9-41cb8b4b6723, 40, 72, Finished, Available)"
          },
          "metadata": {}
        }
      ],
      "execution_count": 75,
      "metadata": {
        "jupyter": {
          "source_hidden": false,
          "outputs_hidden": false
        },
        "nteract": {
          "transient": {
            "deleting": false
          }
        },
        "gather": {
          "logged": 1700164987346
        }
      }
    },
    {
      "cell_type": "code",
      "source": [
        "documentAssembler = DocumentAssembler() \\\n",
        "    .setInputCol('selftext') \\\n",
        "    .setOutputCol('document')\n",
        "\n",
        "cleanUpPatterns = [\"<[^>]*>\"]\n",
        "# normalizer referred from https://github.com/JohnSnowLabs/spark-nlp/blob/master/examples/python/annotation/text/english/document-normalizer/document_normalizer_notebook.ipynb\n",
        "documentNormalizer = DocumentNormalizer() \\\n",
        "    .setInputCols(\"document\") \\\n",
        "    .setOutputCol(\"normalizedDocument\") \\\n",
        "    .setAction(\"clean\") \\\n",
        "    .setPatterns(cleanUpPatterns) \\\n",
        "    .setReplacement(\" \") \\\n",
        "    .setPolicy(\"pretty_all\") \\\n",
        "    .setLowercase(True)\n",
        "\n",
        "sentenceDetector = SentenceDetector() \\\n",
        "      .setInputCols([\"normalizedDocument\"]) \\\n",
        "      .setOutputCol(\"sentence\")\n",
        "'''\n",
        "regexTokenizer = Tokenizer() \\\n",
        "      .setInputCols([\"sentence\"]) \\\n",
        "      .setOutputCol(\"token\") \\\n",
        "      .fit(dataeg)\n",
        "'''\n",
        "# tokenization\n",
        "tokenizer = (\n",
        "    Tokenizer() \\\n",
        "    .setInputCols([\"sentence\"]) \\\n",
        "    .setOutputCol(\"token\")\n",
        ")\n",
        "\n",
        "# make the words back to root form\n",
        "stemmer = Stemmer() \\\n",
        "    .setInputCols([\"token\"]) \\\n",
        "    .setOutputCol(\"stem\")\n",
        "\n",
        "# remove stop words\n",
        "stop_words_cleaner = StopWordsCleaner() \\\n",
        "    .setInputCols([\"stem\"])  \\\n",
        "    .setOutputCol(\"cleaned_token\") \\\n",
        "    .setCaseSensitive(False)\n",
        "\n",
        "# check spelling\n",
        "spellModel = ContextSpellCheckerModel\\\n",
        "    .pretrained(\"spellcheck_dl\", \"en\")\\\n",
        "    .setInputCols(\"cleaned_token\")\\\n",
        "    .setOutputCol(\"final_token\")\\\n",
        "\n",
        "nlpcleanPipeline = \\\n",
        "  Pipeline() \\\n",
        "    .setStages([\n",
        "        documentAssembler,\n",
        "        documentNormalizer,\n",
        "        sentenceDetector,\n",
        "        tokenizer,\n",
        "        stemmer,\n",
        "        stop_words_cleaner,\n",
        "        spellModel])\n"
      ],
      "outputs": [
        {
          "output_type": "display_data",
          "data": {
            "application/vnd.livy.statement-meta+json": {
              "spark_pool": "3c67b279-1d53-4b7a-b0d9-41cb8b4b6723",
              "session_id": "50",
              "statement_id": 62,
              "state": "finished",
              "livy_statement_state": "available",
              "queued_time": "2023-11-17T22:22:46.9681449Z",
              "session_start_time": null,
              "execution_start_time": "2023-11-17T22:22:47.0700978Z",
              "execution_finish_time": "2023-11-17T22:22:51.005913Z",
              "spark_jobs": {
                "numbers": {
                  "FAILED": 0,
                  "SUCCEEDED": 0,
                  "RUNNING": 0,
                  "UNKNOWN": 0
                },
                "jobs": [],
                "limit": 20,
                "rule": "ALL_DESC"
              },
              "parent_msg_id": "1f3e8cb6-ae76-4c6c-9115-04decb926653"
            },
            "text/plain": "StatementMeta(3c67b279-1d53-4b7a-b0d9-41cb8b4b6723, 50, 62, Finished, Available)"
          },
          "metadata": {}
        },
        {
          "output_type": "stream",
          "name": "stdout",
          "text": "spellcheck_dl download started this may take some time.\nApproximate size to download 95.1 MB\n[OK!]\n"
        }
      ],
      "execution_count": 59,
      "metadata": {
        "jupyter": {
          "source_hidden": false,
          "outputs_hidden": false
        },
        "nteract": {
          "transient": {
            "deleting": false
          }
        },
        "gather": {
          "logged": 1700259771167
        }
      }
    },
    {
      "cell_type": "code",
      "source": [
        "cleaned_df = nlpcleanPipeline.fit(df_post_filter).transform(df_post_filter)"
      ],
      "outputs": [
        {
          "output_type": "display_data",
          "data": {
            "application/vnd.livy.statement-meta+json": {
              "spark_pool": "3c67b279-1d53-4b7a-b0d9-41cb8b4b6723",
              "session_id": "50",
              "statement_id": 64,
              "state": "finished",
              "livy_statement_state": "available",
              "queued_time": "2023-11-17T22:23:22.8820444Z",
              "session_start_time": null,
              "execution_start_time": "2023-11-17T22:23:23.0105279Z",
              "execution_finish_time": "2023-11-17T22:23:26.1499359Z",
              "spark_jobs": {
                "numbers": {
                  "FAILED": 0,
                  "SUCCEEDED": 0,
                  "RUNNING": 0,
                  "UNKNOWN": 0
                },
                "jobs": [],
                "limit": 20,
                "rule": "ALL_DESC"
              },
              "parent_msg_id": "748fbc6b-2f6d-4bd3-8b8a-7d10c7098b6b"
            },
            "text/plain": "StatementMeta(3c67b279-1d53-4b7a-b0d9-41cb8b4b6723, 50, 64, Finished, Available)"
          },
          "metadata": {}
        }
      ],
      "execution_count": 61,
      "metadata": {
        "jupyter": {
          "source_hidden": false,
          "outputs_hidden": false
        },
        "nteract": {
          "transient": {
            "deleting": false
          }
        },
        "gather": {
          "logged": 1700259806319
        }
      }
    },
    {
      "cell_type": "code",
      "source": [
        "new_df_post = cleaned_df.select(\"subreddit\", 'final_token.result')"
      ],
      "outputs": [
        {
          "output_type": "display_data",
          "data": {
            "application/vnd.livy.statement-meta+json": {
              "spark_pool": "3c67b279-1d53-4b7a-b0d9-41cb8b4b6723",
              "session_id": "50",
              "statement_id": 71,
              "state": "finished",
              "livy_statement_state": "available",
              "queued_time": "2023-11-17T22:28:11.5221654Z",
              "session_start_time": null,
              "execution_start_time": "2023-11-17T22:28:11.626221Z",
              "execution_finish_time": "2023-11-17T22:28:11.9187088Z",
              "spark_jobs": {
                "numbers": {
                  "FAILED": 0,
                  "SUCCEEDED": 0,
                  "RUNNING": 0,
                  "UNKNOWN": 0
                },
                "jobs": [],
                "limit": 20,
                "rule": "ALL_DESC"
              },
              "parent_msg_id": "6b32239e-f6d4-4920-b129-f4714097e748"
            },
            "text/plain": "StatementMeta(3c67b279-1d53-4b7a-b0d9-41cb8b4b6723, 50, 71, Finished, Available)"
          },
          "metadata": {}
        }
      ],
      "execution_count": 68,
      "metadata": {
        "jupyter": {
          "source_hidden": false,
          "outputs_hidden": false
        },
        "nteract": {
          "transient": {
            "deleting": false
          }
        },
        "gather": {
          "logged": 1700260092020
        }
      }
    },
    {
      "cell_type": "code",
      "source": [
        "new_df_post.show(10)"
      ],
      "outputs": [
        {
          "output_type": "display_data",
          "data": {
            "application/vnd.livy.statement-meta+json": {
              "spark_pool": "3c67b279-1d53-4b7a-b0d9-41cb8b4b6723",
              "session_id": "50",
              "statement_id": 72,
              "state": "finished",
              "livy_statement_state": "available",
              "queued_time": "2023-11-17T22:28:13.1944284Z",
              "session_start_time": null,
              "execution_start_time": "2023-11-17T22:28:13.3087215Z",
              "execution_finish_time": "2023-11-17T22:28:19.5795712Z",
              "spark_jobs": {
                "numbers": {
                  "FAILED": 0,
                  "SUCCEEDED": 1,
                  "RUNNING": 0,
                  "UNKNOWN": 0
                },
                "jobs": [
                  {
                    "displayName": "showString at <unknown>:0",
                    "dataWritten": 0,
                    "dataRead": 27104,
                    "rowCount": 1,
                    "usageDescription": "",
                    "jobId": 59,
                    "name": "showString at <unknown>:0",
                    "description": "Job group for statement 72:\nnew_df_post.show(10)",
                    "submissionTime": "2023-11-17T22:28:13.371GMT",
                    "completionTime": "2023-11-17T22:28:19.156GMT",
                    "stageIds": [
                      59
                    ],
                    "jobGroup": "72",
                    "status": "SUCCEEDED",
                    "numTasks": 1,
                    "numActiveTasks": 0,
                    "numCompletedTasks": 1,
                    "numSkippedTasks": 0,
                    "numFailedTasks": 0,
                    "numKilledTasks": 0,
                    "numCompletedIndices": 1,
                    "numActiveStages": 0,
                    "numCompletedStages": 1,
                    "numSkippedStages": 0,
                    "numFailedStages": 0,
                    "killedTasksSummary": {}
                  }
                ],
                "limit": 20,
                "rule": "ALL_DESC"
              },
              "parent_msg_id": "c0fda809-0d58-4128-805e-9a91ba33099e"
            },
            "text/plain": "StatementMeta(3c67b279-1d53-4b7a-b0d9-41cb8b4b6723, 50, 72, Finished, Available)"
          },
          "metadata": {}
        },
        {
          "output_type": "stream",
          "name": "stdout",
          "text": "+------------+--------------------+\n|   subreddit|              result|\n+------------+--------------------+\n|        FIFA|                  []|\n|FinalFantasy|                  []|\n|     pokemon|[love, outdoor, a...|\n|        FIFA|                  []|\n|     pokemon|                  []|\n|legostarwars|                  []|\n|     pokemon|                  []|\n|legostarwars|                  []|\n|     pokemon|[really, make, wo...|\n|     pokemon|[auto=webp&amp, ;...|\n+------------+--------------------+\nonly showing top 10 rows\n\n"
        }
      ],
      "execution_count": 69,
      "metadata": {
        "jupyter": {
          "source_hidden": false,
          "outputs_hidden": false
        },
        "nteract": {
          "transient": {
            "deleting": false
          }
        },
        "gather": {
          "logged": 1700260099685
        }
      }
    },
    {
      "cell_type": "code",
      "source": [
        "from pyspark.sql.functions import size, concat_ws"
      ],
      "outputs": [
        {
          "output_type": "display_data",
          "data": {
            "application/vnd.livy.statement-meta+json": {
              "spark_pool": "3c67b279-1d53-4b7a-b0d9-41cb8b4b6723",
              "session_id": "50",
              "statement_id": 84,
              "state": "finished",
              "livy_statement_state": "available",
              "queued_time": "2023-11-17T22:38:56.6245656Z",
              "session_start_time": null,
              "execution_start_time": "2023-11-17T22:38:56.7456796Z",
              "execution_finish_time": "2023-11-17T22:38:57.0449168Z",
              "spark_jobs": {
                "numbers": {
                  "FAILED": 0,
                  "SUCCEEDED": 0,
                  "RUNNING": 0,
                  "UNKNOWN": 0
                },
                "jobs": [],
                "limit": 20,
                "rule": "ALL_DESC"
              },
              "parent_msg_id": "6d77f4ee-a1c7-40fa-bfce-d382e628cffa"
            },
            "text/plain": "StatementMeta(3c67b279-1d53-4b7a-b0d9-41cb8b4b6723, 50, 84, Finished, Available)"
          },
          "metadata": {}
        }
      ],
      "execution_count": 81,
      "metadata": {
        "jupyter": {
          "source_hidden": false,
          "outputs_hidden": false
        },
        "nteract": {
          "transient": {
            "deleting": false
          }
        },
        "gather": {
          "logged": 1700260737157
        }
      }
    },
    {
      "cell_type": "code",
      "source": [
        "# remove empty array\n",
        "new_df_post_filter = new_df_post.filter(size(col(\"result\")) > 0)"
      ],
      "outputs": [
        {
          "output_type": "display_data",
          "data": {
            "application/vnd.livy.statement-meta+json": {
              "spark_pool": "3c67b279-1d53-4b7a-b0d9-41cb8b4b6723",
              "session_id": "50",
              "statement_id": 77,
              "state": "finished",
              "livy_statement_state": "available",
              "queued_time": "2023-11-17T22:32:43.1536638Z",
              "session_start_time": null,
              "execution_start_time": "2023-11-17T22:32:43.2585929Z",
              "execution_finish_time": "2023-11-17T22:32:43.5615598Z",
              "spark_jobs": {
                "numbers": {
                  "FAILED": 0,
                  "SUCCEEDED": 0,
                  "RUNNING": 0,
                  "UNKNOWN": 0
                },
                "jobs": [],
                "limit": 20,
                "rule": "ALL_DESC"
              },
              "parent_msg_id": "25203807-a5f7-40a2-bec6-d1506c139053"
            },
            "text/plain": "StatementMeta(3c67b279-1d53-4b7a-b0d9-41cb8b4b6723, 50, 77, Finished, Available)"
          },
          "metadata": {}
        }
      ],
      "execution_count": 74,
      "metadata": {
        "jupyter": {
          "source_hidden": false,
          "outputs_hidden": false
        },
        "nteract": {
          "transient": {
            "deleting": false
          }
        },
        "gather": {
          "logged": 1700260363731
        }
      }
    },
    {
      "cell_type": "code",
      "source": [
        "new_df_post_filter.show(10)"
      ],
      "outputs": [
        {
          "output_type": "display_data",
          "data": {
            "application/vnd.livy.statement-meta+json": {
              "spark_pool": "3c67b279-1d53-4b7a-b0d9-41cb8b4b6723",
              "session_id": "50",
              "statement_id": 78,
              "state": "finished",
              "livy_statement_state": "available",
              "queued_time": "2023-11-17T22:32:51.8262504Z",
              "session_start_time": null,
              "execution_start_time": "2023-11-17T22:32:51.9259883Z",
              "execution_finish_time": "2023-11-17T22:33:47.2415236Z",
              "spark_jobs": {
                "numbers": {
                  "FAILED": 0,
                  "SUCCEEDED": 1,
                  "RUNNING": 0,
                  "UNKNOWN": 0
                },
                "jobs": [
                  {
                    "displayName": "showString at <unknown>:0",
                    "dataWritten": 0,
                    "dataRead": 27104,
                    "rowCount": 1,
                    "usageDescription": "",
                    "jobId": 60,
                    "name": "showString at <unknown>:0",
                    "description": "Job group for statement 78:\nnew_df_post_filter.show(10)",
                    "submissionTime": "2023-11-17T22:32:52.049GMT",
                    "completionTime": "2023-11-17T22:33:42.189GMT",
                    "stageIds": [
                      60
                    ],
                    "jobGroup": "78",
                    "status": "SUCCEEDED",
                    "numTasks": 1,
                    "numActiveTasks": 0,
                    "numCompletedTasks": 1,
                    "numSkippedTasks": 0,
                    "numFailedTasks": 0,
                    "numKilledTasks": 0,
                    "numCompletedIndices": 1,
                    "numActiveStages": 0,
                    "numCompletedStages": 1,
                    "numSkippedStages": 0,
                    "numFailedStages": 0,
                    "killedTasksSummary": {}
                  }
                ],
                "limit": 20,
                "rule": "ALL_DESC"
              },
              "parent_msg_id": "871a04b8-1f83-42d4-8b15-682272357dda"
            },
            "text/plain": "StatementMeta(3c67b279-1d53-4b7a-b0d9-41cb8b4b6723, 50, 78, Finished, Available)"
          },
          "metadata": {}
        },
        {
          "output_type": "stream",
          "name": "stdout",
          "text": "+---------+--------------------+\n|subreddit|              result|\n+---------+--------------------+\n|  pokemon|[love, outdoor, a...|\n|  pokemon|[really, make, wo...|\n|  pokemon|[auto=webp&amp, ;...|\n|     FIFA|[im, always, 2438...|\n|      GTA|[around, 5, min, ...|\n|      GTA|[know, Nero, want...|\n|  pokemon|[ar, rule, bug, t...|\n|  pokemon|[get, 1, :, Chari...|\n|  thesims|[2+, teens:must, ...|\n|  pokemon|[gamefreak, make,...|\n+---------+--------------------+\nonly showing top 10 rows\n\n"
        }
      ],
      "execution_count": 75,
      "metadata": {
        "jupyter": {
          "source_hidden": false,
          "outputs_hidden": false
        },
        "nteract": {
          "transient": {
            "deleting": false
          }
        },
        "gather": {
          "logged": 1700260427396
        }
      }
    },
    {
      "cell_type": "code",
      "source": [
        "# make the array to string\n",
        "final_df = new_df_post_filter.withColumn(\"text\", concat_ws(\", \", col(\"result\")))\n",
        "final_df_post = final_df.select(\"subreddit\", 'text')\n",
        "final_df_post.show(10)\n"
      ],
      "outputs": [
        {
          "output_type": "display_data",
          "data": {
            "application/vnd.livy.statement-meta+json": {
              "spark_pool": "3c67b279-1d53-4b7a-b0d9-41cb8b4b6723",
              "session_id": "50",
              "statement_id": 86,
              "state": "finished",
              "livy_statement_state": "available",
              "queued_time": "2023-11-17T22:42:10.6429848Z",
              "session_start_time": null,
              "execution_start_time": "2023-11-17T22:42:10.7762906Z",
              "execution_finish_time": "2023-11-17T22:43:01.4582865Z",
              "spark_jobs": {
                "numbers": {
                  "FAILED": 0,
                  "SUCCEEDED": 1,
                  "RUNNING": 0,
                  "UNKNOWN": 0
                },
                "jobs": [
                  {
                    "displayName": "showString at <unknown>:0",
                    "dataWritten": 0,
                    "dataRead": 27104,
                    "rowCount": 1,
                    "usageDescription": "",
                    "jobId": 65,
                    "name": "showString at <unknown>:0",
                    "description": "Job group for statement 86:\nfinal_df = new_df_post_filter.withColumn(\"text\", concat_ws(\", \", col(\"result\")))\nfinal_df_post = final_df.select(\"subreddit\", 'text')\nfinal_df_post.show(10)\n",
                    "submissionTime": "2023-11-17T22:42:10.926GMT",
                    "completionTime": "2023-11-17T22:43:00.461GMT",
                    "stageIds": [
                      65
                    ],
                    "jobGroup": "86",
                    "status": "SUCCEEDED",
                    "numTasks": 1,
                    "numActiveTasks": 0,
                    "numCompletedTasks": 1,
                    "numSkippedTasks": 0,
                    "numFailedTasks": 0,
                    "numKilledTasks": 0,
                    "numCompletedIndices": 1,
                    "numActiveStages": 0,
                    "numCompletedStages": 1,
                    "numSkippedStages": 0,
                    "numFailedStages": 0,
                    "killedTasksSummary": {}
                  }
                ],
                "limit": 20,
                "rule": "ALL_DESC"
              },
              "parent_msg_id": "ece5242d-e679-4a13-ade0-7f0202965f1a"
            },
            "text/plain": "StatementMeta(3c67b279-1d53-4b7a-b0d9-41cb8b4b6723, 50, 86, Finished, Available)"
          },
          "metadata": {}
        },
        {
          "output_type": "stream",
          "name": "stdout",
          "text": "+---------+--------------------+\n|subreddit|                text|\n+---------+--------------------+\n|  pokemon|love, outdoor, ac...|\n|  pokemon|really, make, won...|\n|  pokemon|auto=webp&amp, ;,...|\n|     FIFA|im, always, 2438,...|\n|      GTA|around, 5, min, d...|\n|      GTA|know, Nero, want,...|\n|  pokemon|ar, rule, bug, to...|\n|  pokemon|get, 1, :, Charik...|\n|  thesims|2+, teens:must, m...|\n|  pokemon|gamefreak, make, ...|\n+---------+--------------------+\nonly showing top 10 rows\n\n"
        }
      ],
      "execution_count": 83,
      "metadata": {
        "jupyter": {
          "source_hidden": false,
          "outputs_hidden": false
        },
        "nteract": {
          "transient": {
            "deleting": false
          }
        },
        "gather": {
          "logged": 1700260981692
        }
      }
    },
    {
      "cell_type": "markdown",
      "source": [
        "# Sentiment pipeline"
      ],
      "metadata": {
        "nteract": {
          "transient": {
            "deleting": false
          }
        }
      }
    },
    {
      "cell_type": "code",
      "source": [
        "documentAssembler = DocumentAssembler()\\\n",
        "    .setInputCol(\"text\")\\\n",
        "    .setOutputCol(\"document\")\n",
        "\n",
        "    \n",
        "use = UniversalSentenceEncoder.pretrained(name=\"tfhub_use\", lang=\"en\")\\\n",
        " .setInputCols([\"document\"])\\\n",
        " .setOutputCol(\"sentence_embeddings\")\n",
        "\n",
        "\n",
        "sentimentdl = SentimentDLModel.pretrained(lang=\"en\")\\\n",
        "    .setInputCols([\"sentence_embeddings\"])\\\n",
        "    .setOutputCol(\"sentiment\")\n",
        "\n",
        "nlpPipeline = Pipeline(\n",
        "      stages = [\n",
        "          documentAssembler,\n",
        "          use,\n",
        "          sentimentdl\n",
        "      ])"
      ],
      "outputs": [
        {
          "output_type": "display_data",
          "data": {
            "application/vnd.livy.statement-meta+json": {
              "spark_pool": "3c67b279-1d53-4b7a-b0d9-41cb8b4b6723",
              "session_id": "50",
              "statement_id": 87,
              "state": "finished",
              "livy_statement_state": "available",
              "queued_time": "2023-11-17T22:43:11.7580073Z",
              "session_start_time": null,
              "execution_start_time": "2023-11-17T22:43:11.8627906Z",
              "execution_finish_time": "2023-11-17T22:43:20.4566634Z",
              "spark_jobs": {
                "numbers": {
                  "FAILED": 0,
                  "SUCCEEDED": 0,
                  "RUNNING": 0,
                  "UNKNOWN": 0
                },
                "jobs": [],
                "limit": 20,
                "rule": "ALL_DESC"
              },
              "parent_msg_id": "6d21e885-2034-4c5c-b53e-3daf5703979b"
            },
            "text/plain": "StatementMeta(3c67b279-1d53-4b7a-b0d9-41cb8b4b6723, 50, 87, Finished, Available)"
          },
          "metadata": {}
        },
        {
          "output_type": "stream",
          "name": "stdout",
          "text": "tfhub_use download started this may take some time.\nApproximate size to download 923.7 MB\n[OK!]\nsentimentdl_use_imdb download started this may take some time.\nApproximate size to download 12 MB\n[OK!]\n"
        }
      ],
      "execution_count": 84,
      "metadata": {
        "jupyter": {
          "source_hidden": false,
          "outputs_hidden": false
        },
        "nteract": {
          "transient": {
            "deleting": false
          }
        },
        "gather": {
          "logged": 1700261000617
        }
      }
    },
    {
      "cell_type": "code",
      "source": [
        "senti_model = nlpPipeline.fit(final_df_post)"
      ],
      "outputs": [
        {
          "output_type": "display_data",
          "data": {
            "application/vnd.livy.statement-meta+json": {
              "spark_pool": "3c67b279-1d53-4b7a-b0d9-41cb8b4b6723",
              "session_id": "50",
              "statement_id": 88,
              "state": "finished",
              "livy_statement_state": "available",
              "queued_time": "2023-11-17T22:43:36.4968527Z",
              "session_start_time": null,
              "execution_start_time": "2023-11-17T22:43:36.9794146Z",
              "execution_finish_time": "2023-11-17T22:43:38.1100845Z",
              "spark_jobs": {
                "numbers": {
                  "FAILED": 0,
                  "SUCCEEDED": 0,
                  "RUNNING": 0,
                  "UNKNOWN": 0
                },
                "jobs": [],
                "limit": 20,
                "rule": "ALL_DESC"
              },
              "parent_msg_id": "3441c39a-b3a1-4e6f-97ee-b9b0a7e66770"
            },
            "text/plain": "StatementMeta(3c67b279-1d53-4b7a-b0d9-41cb8b4b6723, 50, 88, Finished, Available)"
          },
          "metadata": {}
        }
      ],
      "execution_count": 85,
      "metadata": {
        "jupyter": {
          "source_hidden": false,
          "outputs_hidden": false
        },
        "nteract": {
          "transient": {
            "deleting": false
          }
        },
        "gather": {
          "logged": 1700261018232
        }
      }
    },
    {
      "cell_type": "code",
      "source": [
        "senti_model2 = nlpPipeline.fit(df_post2)"
      ],
      "outputs": [
        {
          "output_type": "display_data",
          "data": {
            "application/vnd.livy.statement-meta+json": {
              "spark_pool": "3c67b279-1d53-4b7a-b0d9-41cb8b4b6723",
              "session_id": "40",
              "statement_id": 73,
              "state": "finished",
              "livy_statement_state": "available",
              "queued_time": "2023-11-16T20:03:16.558261Z",
              "session_start_time": null,
              "execution_start_time": "2023-11-16T20:03:16.6603871Z",
              "execution_finish_time": "2023-11-16T20:03:16.9696818Z",
              "spark_jobs": {
                "numbers": {
                  "FAILED": 0,
                  "SUCCEEDED": 0,
                  "RUNNING": 0,
                  "UNKNOWN": 0
                },
                "jobs": [],
                "limit": 20,
                "rule": "ALL_DESC"
              },
              "parent_msg_id": "6475f60f-d0c8-4f85-9278-f39b8fdbfe68"
            },
            "text/plain": "StatementMeta(3c67b279-1d53-4b7a-b0d9-41cb8b4b6723, 40, 73, Finished, Available)"
          },
          "metadata": {}
        }
      ],
      "execution_count": 76,
      "metadata": {
        "jupyter": {
          "source_hidden": false,
          "outputs_hidden": false
        },
        "nteract": {
          "transient": {
            "deleting": false
          }
        },
        "gather": {
          "logged": 1700164998149
        }
      }
    },
    {
      "cell_type": "code",
      "source": [
        "senti_pred = senti_model.transform(final_df_post)"
      ],
      "outputs": [
        {
          "output_type": "display_data",
          "data": {
            "application/vnd.livy.statement-meta+json": {
              "spark_pool": "3c67b279-1d53-4b7a-b0d9-41cb8b4b6723",
              "session_id": "50",
              "statement_id": 89,
              "state": "finished",
              "livy_statement_state": "available",
              "queued_time": "2023-11-17T22:43:43.6803524Z",
              "session_start_time": null,
              "execution_start_time": "2023-11-17T22:43:43.7762527Z",
              "execution_finish_time": "2023-11-17T22:43:44.5928656Z",
              "spark_jobs": {
                "numbers": {
                  "FAILED": 0,
                  "SUCCEEDED": 0,
                  "RUNNING": 0,
                  "UNKNOWN": 0
                },
                "jobs": [],
                "limit": 20,
                "rule": "ALL_DESC"
              },
              "parent_msg_id": "1677c9e0-2fbd-4c42-9f09-5bfa9fadae05"
            },
            "text/plain": "StatementMeta(3c67b279-1d53-4b7a-b0d9-41cb8b4b6723, 50, 89, Finished, Available)"
          },
          "metadata": {}
        }
      ],
      "execution_count": 86,
      "metadata": {
        "jupyter": {
          "source_hidden": false,
          "outputs_hidden": false
        },
        "nteract": {
          "transient": {
            "deleting": false
          }
        },
        "gather": {
          "logged": 1700261024739
        }
      }
    },
    {
      "cell_type": "code",
      "source": [
        "senti_pred2 = senti_model.transform(df_post2)"
      ],
      "outputs": [
        {
          "output_type": "display_data",
          "data": {
            "application/vnd.livy.statement-meta+json": {
              "spark_pool": "3c67b279-1d53-4b7a-b0d9-41cb8b4b6723",
              "session_id": "40",
              "statement_id": 74,
              "state": "finished",
              "livy_statement_state": "available",
              "queued_time": "2023-11-16T20:03:43.3027818Z",
              "session_start_time": null,
              "execution_start_time": "2023-11-16T20:03:43.4011639Z",
              "execution_finish_time": "2023-11-16T20:03:44.6505888Z",
              "spark_jobs": {
                "numbers": {
                  "FAILED": 0,
                  "SUCCEEDED": 0,
                  "RUNNING": 0,
                  "UNKNOWN": 0
                },
                "jobs": [],
                "limit": 20,
                "rule": "ALL_DESC"
              },
              "parent_msg_id": "41ca30b3-a216-4972-a3f0-a25491e53742"
            },
            "text/plain": "StatementMeta(3c67b279-1d53-4b7a-b0d9-41cb8b4b6723, 40, 74, Finished, Available)"
          },
          "metadata": {}
        }
      ],
      "execution_count": 77,
      "metadata": {
        "jupyter": {
          "source_hidden": false,
          "outputs_hidden": false
        },
        "nteract": {
          "transient": {
            "deleting": false
          }
        },
        "gather": {
          "logged": 1700165025700
        }
      }
    },
    {
      "cell_type": "code",
      "source": [
        "senti_pred.show(5)"
      ],
      "outputs": [
        {
          "output_type": "display_data",
          "data": {
            "application/vnd.livy.statement-meta+json": {
              "spark_pool": "3c67b279-1d53-4b7a-b0d9-41cb8b4b6723",
              "session_id": "50",
              "statement_id": 90,
              "state": "finished",
              "livy_statement_state": "available",
              "queued_time": "2023-11-17T22:43:48.8400618Z",
              "session_start_time": null,
              "execution_start_time": "2023-11-17T22:43:48.9347406Z",
              "execution_finish_time": "2023-11-17T22:44:26.1144426Z",
              "spark_jobs": {
                "numbers": {
                  "FAILED": 0,
                  "SUCCEEDED": 1,
                  "RUNNING": 0,
                  "UNKNOWN": 0
                },
                "jobs": [
                  {
                    "displayName": "showString at <unknown>:0",
                    "dataWritten": 0,
                    "dataRead": 27104,
                    "rowCount": 1,
                    "usageDescription": "",
                    "jobId": 66,
                    "name": "showString at <unknown>:0",
                    "description": "Job group for statement 90:\nsenti_pred.show(5)",
                    "submissionTime": "2023-11-17T22:43:49.398GMT",
                    "completionTime": "2023-11-17T22:44:25.772GMT",
                    "stageIds": [
                      66
                    ],
                    "jobGroup": "90",
                    "status": "SUCCEEDED",
                    "numTasks": 1,
                    "numActiveTasks": 0,
                    "numCompletedTasks": 1,
                    "numSkippedTasks": 0,
                    "numFailedTasks": 0,
                    "numKilledTasks": 0,
                    "numCompletedIndices": 1,
                    "numActiveStages": 0,
                    "numCompletedStages": 1,
                    "numSkippedStages": 0,
                    "numFailedStages": 0,
                    "killedTasksSummary": {}
                  }
                ],
                "limit": 20,
                "rule": "ALL_DESC"
              },
              "parent_msg_id": "a8fd912d-94b4-40bf-993f-410877e81e67"
            },
            "text/plain": "StatementMeta(3c67b279-1d53-4b7a-b0d9-41cb8b4b6723, 50, 90, Finished, Available)"
          },
          "metadata": {}
        },
        {
          "output_type": "stream",
          "name": "stdout",
          "text": "+---------+--------------------+--------------------+--------------------+--------------------+\n|subreddit|                text|            document| sentence_embeddings|           sentiment|\n+---------+--------------------+--------------------+--------------------+--------------------+\n|  pokemon|love, outdoor, ac...|[{document, 0, 99...|[{sentence_embedd...|[{category, 0, 99...|\n|  pokemon|really, make, won...|[{document, 0, 46...|[{sentence_embedd...|[{category, 0, 46...|\n|  pokemon|auto=webp&amp, ;,...|[{document, 0, 19...|[{sentence_embedd...|[{category, 0, 19...|\n|     FIFA|im, always, 2438,...|[{document, 0, 50...|[{sentence_embedd...|[{category, 0, 50...|\n|      GTA|around, 5, min, d...|[{document, 0, 15...|[{sentence_embedd...|[{category, 0, 15...|\n+---------+--------------------+--------------------+--------------------+--------------------+\nonly showing top 5 rows\n\n"
        }
      ],
      "execution_count": 87,
      "metadata": {
        "jupyter": {
          "source_hidden": false,
          "outputs_hidden": false
        },
        "nteract": {
          "transient": {
            "deleting": false
          }
        },
        "gather": {
          "logged": 1700261066325
        }
      }
    },
    {
      "cell_type": "code",
      "source": [
        "senti_pred2.show(5)"
      ],
      "outputs": [
        {
          "output_type": "display_data",
          "data": {
            "application/vnd.livy.statement-meta+json": {
              "spark_pool": "3c67b279-1d53-4b7a-b0d9-41cb8b4b6723",
              "session_id": "40",
              "statement_id": 75,
              "state": "finished",
              "livy_statement_state": "available",
              "queued_time": "2023-11-16T20:03:55.1155691Z",
              "session_start_time": null,
              "execution_start_time": "2023-11-16T20:03:55.2194391Z",
              "execution_finish_time": "2023-11-16T20:03:59.4774519Z",
              "spark_jobs": {
                "numbers": {
                  "FAILED": 0,
                  "SUCCEEDED": 1,
                  "RUNNING": 0,
                  "UNKNOWN": 0
                },
                "jobs": [
                  {
                    "displayName": "showString at <unknown>:0",
                    "dataWritten": 0,
                    "dataRead": 43739239,
                    "rowCount": 221807,
                    "usageDescription": "",
                    "jobId": 30,
                    "name": "showString at <unknown>:0",
                    "description": "Job group for statement 75:\nsenti_pred2.show(5)",
                    "submissionTime": "2023-11-16T20:03:55.745GMT",
                    "completionTime": "2023-11-16T20:03:58.971GMT",
                    "stageIds": [
                      30
                    ],
                    "jobGroup": "75",
                    "status": "SUCCEEDED",
                    "numTasks": 1,
                    "numActiveTasks": 0,
                    "numCompletedTasks": 1,
                    "numSkippedTasks": 0,
                    "numFailedTasks": 0,
                    "numKilledTasks": 0,
                    "numCompletedIndices": 1,
                    "numActiveStages": 0,
                    "numCompletedStages": 1,
                    "numSkippedStages": 0,
                    "numFailedStages": 0,
                    "killedTasksSummary": {}
                  }
                ],
                "limit": 20,
                "rule": "ALL_DESC"
              },
              "parent_msg_id": "84ed8658-20cb-493d-9fc1-4442005fb2d4"
            },
            "text/plain": "StatementMeta(3c67b279-1d53-4b7a-b0d9-41cb8b4b6723, 40, 75, Finished, Available)"
          },
          "metadata": {}
        },
        {
          "output_type": "stream",
          "name": "stdout",
          "text": "+------------+--------------------+--------------------+--------------------+--------------------+--------------------+\n|   subreddit|               title|            selftext|            document| sentence_embeddings|           sentiment|\n+------------+--------------------+--------------------+--------------------+--------------------+--------------------+\n|        FIFA|if you every get ...|                    |[{document, 0, -1...|                  []|                  []|\n|FinalFantasy|Final Fantasy Pix...|                    |[{document, 0, -1...|                  []|                  []|\n|     pokemon|the PokemonTogeth...|So several days a...|[{document, 0, 13...|[{sentence_embedd...|[{category, 0, 13...|\n|        FIFA|should i select o...|           [removed]|[{document, 0, 8,...|[{sentence_embedd...|[{category, 0, 8,...|\n|        FIFA| Team of the week 17|                    |[{document, 0, -1...|[{sentence_embedd...|[{category, 0, 8,...|\n+------------+--------------------+--------------------+--------------------+--------------------+--------------------+\nonly showing top 5 rows\n\n"
        }
      ],
      "execution_count": 78,
      "metadata": {
        "jupyter": {
          "source_hidden": false,
          "outputs_hidden": false
        },
        "nteract": {
          "transient": {
            "deleting": false
          }
        },
        "gather": {
          "logged": 1700165040480
        }
      }
    },
    {
      "cell_type": "code",
      "source": [
        "from pyspark.sql.functions import col, size"
      ],
      "outputs": [],
      "execution_count": null,
      "metadata": {
        "jupyter": {
          "source_hidden": false,
          "outputs_hidden": false
        },
        "nteract": {
          "transient": {
            "deleting": false
          }
        }
      }
    },
    {
      "cell_type": "code",
      "source": [
        "df_filtered = senti_pred2.filter(size(col(\"sentence_embeddings\")) != 0)\n",
        "df_filtered.show(5)"
      ],
      "outputs": [
        {
          "output_type": "display_data",
          "data": {
            "application/vnd.livy.statement-meta+json": {
              "spark_pool": "3c67b279-1d53-4b7a-b0d9-41cb8b4b6723",
              "session_id": "40",
              "statement_id": 76,
              "state": "finished",
              "livy_statement_state": "available",
              "queued_time": "2023-11-16T20:04:32.9700443Z",
              "session_start_time": null,
              "execution_start_time": "2023-11-16T20:04:33.0883011Z",
              "execution_finish_time": "2023-11-16T20:04:33.8856081Z",
              "spark_jobs": {
                "numbers": {
                  "FAILED": 0,
                  "SUCCEEDED": 1,
                  "RUNNING": 0,
                  "UNKNOWN": 0
                },
                "jobs": [
                  {
                    "displayName": "showString at <unknown>:0",
                    "dataWritten": 0,
                    "dataRead": 39128,
                    "rowCount": 1,
                    "usageDescription": "",
                    "jobId": 31,
                    "name": "showString at <unknown>:0",
                    "description": "Job group for statement 76:\ndf_filtered = senti_pred2.filter(size(col(\"sentence_embeddings\")) != 0)\ndf_filtered.show(5)",
                    "submissionTime": "2023-11-16T20:04:33.296GMT",
                    "completionTime": "2023-11-16T20:04:33.561GMT",
                    "stageIds": [
                      31
                    ],
                    "jobGroup": "76",
                    "status": "SUCCEEDED",
                    "numTasks": 1,
                    "numActiveTasks": 0,
                    "numCompletedTasks": 1,
                    "numSkippedTasks": 0,
                    "numFailedTasks": 0,
                    "numKilledTasks": 0,
                    "numCompletedIndices": 1,
                    "numActiveStages": 0,
                    "numCompletedStages": 1,
                    "numSkippedStages": 0,
                    "numFailedStages": 0,
                    "killedTasksSummary": {}
                  }
                ],
                "limit": 20,
                "rule": "ALL_DESC"
              },
              "parent_msg_id": "1c1a60a2-2d30-4062-9e69-3c12daaf3413"
            },
            "text/plain": "StatementMeta(3c67b279-1d53-4b7a-b0d9-41cb8b4b6723, 40, 76, Finished, Available)"
          },
          "metadata": {}
        },
        {
          "output_type": "stream",
          "name": "stdout",
          "text": "+---------+--------------------+--------------------+--------------------+--------------------+--------------------+\n|subreddit|               title|            selftext|            document| sentence_embeddings|           sentiment|\n+---------+--------------------+--------------------+--------------------+--------------------+--------------------+\n|  pokemon|the PokemonTogeth...|So several days a...|[{document, 0, 13...|[{sentence_embedd...|[{category, 0, 13...|\n|     FIFA|should i select o...|           [removed]|[{document, 0, 8,...|[{sentence_embedd...|[{category, 0, 8,...|\n|     FIFA| Team of the week 17|                    |[{document, 0, -1...|[{sentence_embedd...|[{category, 0, 8,...|\n|  pokemon|Who's a non-villa...|For me, Tyme insp...|[{document, 0, 66...|[{sentence_embedd...|[{category, 0, 66...|\n|  pokemon|Zard Hunting in B...|           [removed]|[{document, 0, 8,...|[{sentence_embedd...|[{category, 0, 8,...|\n+---------+--------------------+--------------------+--------------------+--------------------+--------------------+\nonly showing top 5 rows\n\n"
        }
      ],
      "execution_count": 79,
      "metadata": {
        "jupyter": {
          "source_hidden": false,
          "outputs_hidden": false
        },
        "nteract": {
          "transient": {
            "deleting": false
          }
        },
        "gather": {
          "logged": 1700165074950
        }
      }
    },
    {
      "cell_type": "code",
      "source": [
        "df_senti = senti_pred.select(\"subreddit\",F.explode('sentiment.result'))"
      ],
      "outputs": [
        {
          "output_type": "display_data",
          "data": {
            "application/vnd.livy.statement-meta+json": {
              "spark_pool": "3c67b279-1d53-4b7a-b0d9-41cb8b4b6723",
              "session_id": "50",
              "statement_id": 91,
              "state": "finished",
              "livy_statement_state": "available",
              "queued_time": "2023-11-17T22:44:37.9586609Z",
              "session_start_time": null,
              "execution_start_time": "2023-11-17T22:44:38.0898378Z",
              "execution_finish_time": "2023-11-17T22:44:38.4164036Z",
              "spark_jobs": {
                "numbers": {
                  "FAILED": 0,
                  "SUCCEEDED": 0,
                  "RUNNING": 0,
                  "UNKNOWN": 0
                },
                "jobs": [],
                "limit": 20,
                "rule": "ALL_DESC"
              },
              "parent_msg_id": "42ff6e5b-8698-49f0-aa58-bf7ec61de738"
            },
            "text/plain": "StatementMeta(3c67b279-1d53-4b7a-b0d9-41cb8b4b6723, 50, 91, Finished, Available)"
          },
          "metadata": {}
        }
      ],
      "execution_count": 88,
      "metadata": {
        "jupyter": {
          "source_hidden": false,
          "outputs_hidden": false
        },
        "nteract": {
          "transient": {
            "deleting": false
          }
        },
        "gather": {
          "logged": 1700261078538
        }
      }
    },
    {
      "cell_type": "code",
      "source": [
        "df_senti2 = senti_pred2.select(\"subreddit\",F.explode('sentiment.result'))"
      ],
      "outputs": [
        {
          "output_type": "display_data",
          "data": {
            "application/vnd.livy.statement-meta+json": {
              "spark_pool": "3c67b279-1d53-4b7a-b0d9-41cb8b4b6723",
              "session_id": "40",
              "statement_id": 79,
              "state": "finished",
              "livy_statement_state": "available",
              "queued_time": "2023-11-16T20:06:46.4852704Z",
              "session_start_time": null,
              "execution_start_time": "2023-11-16T20:06:46.6006659Z",
              "execution_finish_time": "2023-11-16T20:06:46.885934Z",
              "spark_jobs": {
                "numbers": {
                  "FAILED": 0,
                  "SUCCEEDED": 0,
                  "RUNNING": 0,
                  "UNKNOWN": 0
                },
                "jobs": [],
                "limit": 20,
                "rule": "ALL_DESC"
              },
              "parent_msg_id": "c6bbd55e-f65d-4026-b06a-f81ae7f565b7"
            },
            "text/plain": "StatementMeta(3c67b279-1d53-4b7a-b0d9-41cb8b4b6723, 40, 79, Finished, Available)"
          },
          "metadata": {}
        }
      ],
      "execution_count": 82,
      "metadata": {
        "jupyter": {
          "source_hidden": false,
          "outputs_hidden": false
        },
        "nteract": {
          "transient": {
            "deleting": false
          }
        },
        "gather": {
          "logged": 1700165208180
        }
      }
    },
    {
      "cell_type": "code",
      "source": [
        "df_senti = df_senti.withColumnRenamed(\"col\", \"sentiment\")"
      ],
      "outputs": [
        {
          "output_type": "display_data",
          "data": {
            "application/vnd.livy.statement-meta+json": {
              "spark_pool": "3c67b279-1d53-4b7a-b0d9-41cb8b4b6723",
              "session_id": "50",
              "statement_id": 92,
              "state": "finished",
              "livy_statement_state": "available",
              "queued_time": "2023-11-17T22:44:43.2433596Z",
              "session_start_time": null,
              "execution_start_time": "2023-11-17T22:44:43.3472269Z",
              "execution_finish_time": "2023-11-17T22:44:43.6444974Z",
              "spark_jobs": {
                "numbers": {
                  "FAILED": 0,
                  "SUCCEEDED": 0,
                  "RUNNING": 0,
                  "UNKNOWN": 0
                },
                "jobs": [],
                "limit": 20,
                "rule": "ALL_DESC"
              },
              "parent_msg_id": "6af05277-f8c9-4ac8-ad98-6c1c9b3929a0"
            },
            "text/plain": "StatementMeta(3c67b279-1d53-4b7a-b0d9-41cb8b4b6723, 50, 92, Finished, Available)"
          },
          "metadata": {}
        }
      ],
      "execution_count": 89,
      "metadata": {
        "jupyter": {
          "source_hidden": false,
          "outputs_hidden": false
        },
        "nteract": {
          "transient": {
            "deleting": false
          }
        },
        "gather": {
          "logged": 1700261083771
        }
      }
    },
    {
      "cell_type": "code",
      "source": [
        "df_senti2 = df_senti2.withColumnRenamed(\"col\", \"sentiment\")"
      ],
      "outputs": [
        {
          "output_type": "display_data",
          "data": {
            "application/vnd.livy.statement-meta+json": {
              "spark_pool": "3c67b279-1d53-4b7a-b0d9-41cb8b4b6723",
              "session_id": "40",
              "statement_id": 80,
              "state": "finished",
              "livy_statement_state": "available",
              "queued_time": "2023-11-16T20:06:51.243315Z",
              "session_start_time": null,
              "execution_start_time": "2023-11-16T20:06:51.3929822Z",
              "execution_finish_time": "2023-11-16T20:06:51.6877539Z",
              "spark_jobs": {
                "numbers": {
                  "FAILED": 0,
                  "SUCCEEDED": 0,
                  "RUNNING": 0,
                  "UNKNOWN": 0
                },
                "jobs": [],
                "limit": 20,
                "rule": "ALL_DESC"
              },
              "parent_msg_id": "c62b8411-3a1e-4407-afca-a12daecc9d36"
            },
            "text/plain": "StatementMeta(3c67b279-1d53-4b7a-b0d9-41cb8b4b6723, 40, 80, Finished, Available)"
          },
          "metadata": {}
        }
      ],
      "execution_count": 83,
      "metadata": {
        "jupyter": {
          "source_hidden": false,
          "outputs_hidden": false
        },
        "nteract": {
          "transient": {
            "deleting": false
          }
        },
        "gather": {
          "logged": 1700165212796
        }
      }
    },
    {
      "cell_type": "code",
      "source": [
        "df_senti.show(5)"
      ],
      "outputs": [
        {
          "output_type": "display_data",
          "data": {
            "application/vnd.livy.statement-meta+json": {
              "spark_pool": "3c67b279-1d53-4b7a-b0d9-41cb8b4b6723",
              "session_id": "50",
              "statement_id": 93,
              "state": "finished",
              "livy_statement_state": "available",
              "queued_time": "2023-11-17T22:44:45.7592181Z",
              "session_start_time": null,
              "execution_start_time": "2023-11-17T22:44:45.8608981Z",
              "execution_finish_time": "2023-11-17T22:45:07.1096838Z",
              "spark_jobs": {
                "numbers": {
                  "FAILED": 0,
                  "SUCCEEDED": 1,
                  "RUNNING": 0,
                  "UNKNOWN": 0
                },
                "jobs": [
                  {
                    "displayName": "showString at <unknown>:0",
                    "dataWritten": 0,
                    "dataRead": 27104,
                    "rowCount": 1,
                    "usageDescription": "",
                    "jobId": 67,
                    "name": "showString at <unknown>:0",
                    "description": "Job group for statement 93:\ndf_senti.show(5)",
                    "submissionTime": "2023-11-17T22:44:46.178GMT",
                    "completionTime": "2023-11-17T22:45:04.070GMT",
                    "stageIds": [
                      67
                    ],
                    "jobGroup": "93",
                    "status": "SUCCEEDED",
                    "numTasks": 1,
                    "numActiveTasks": 0,
                    "numCompletedTasks": 1,
                    "numSkippedTasks": 0,
                    "numFailedTasks": 0,
                    "numKilledTasks": 0,
                    "numCompletedIndices": 1,
                    "numActiveStages": 0,
                    "numCompletedStages": 1,
                    "numSkippedStages": 0,
                    "numFailedStages": 0,
                    "killedTasksSummary": {}
                  }
                ],
                "limit": 20,
                "rule": "ALL_DESC"
              },
              "parent_msg_id": "98d37708-bfc1-4490-b574-8098f03e9b90"
            },
            "text/plain": "StatementMeta(3c67b279-1d53-4b7a-b0d9-41cb8b4b6723, 50, 93, Finished, Available)"
          },
          "metadata": {}
        },
        {
          "output_type": "stream",
          "name": "stdout",
          "text": "+---------+---------+\n|subreddit|sentiment|\n+---------+---------+\n|  pokemon|      pos|\n|  pokemon|      neg|\n|  pokemon|      pos|\n|     FIFA|      pos|\n|      GTA|      neg|\n+---------+---------+\nonly showing top 5 rows\n\n"
        }
      ],
      "execution_count": 90,
      "metadata": {
        "jupyter": {
          "source_hidden": false,
          "outputs_hidden": false
        },
        "nteract": {
          "transient": {
            "deleting": false
          }
        },
        "gather": {
          "logged": 1700261107327
        }
      }
    },
    {
      "cell_type": "code",
      "source": [
        "df_senti2.show(5)"
      ],
      "outputs": [
        {
          "output_type": "display_data",
          "data": {
            "application/vnd.livy.statement-meta+json": {
              "spark_pool": "3c67b279-1d53-4b7a-b0d9-41cb8b4b6723",
              "session_id": "40",
              "statement_id": 81,
              "state": "finished",
              "livy_statement_state": "available",
              "queued_time": "2023-11-16T20:06:58.7480629Z",
              "session_start_time": null,
              "execution_start_time": "2023-11-16T20:06:58.844323Z",
              "execution_finish_time": "2023-11-16T20:06:59.6596321Z",
              "spark_jobs": {
                "numbers": {
                  "FAILED": 0,
                  "SUCCEEDED": 1,
                  "RUNNING": 0,
                  "UNKNOWN": 0
                },
                "jobs": [
                  {
                    "displayName": "showString at <unknown>:0",
                    "dataWritten": 0,
                    "dataRead": 39128,
                    "rowCount": 1,
                    "usageDescription": "",
                    "jobId": 33,
                    "name": "showString at <unknown>:0",
                    "description": "Job group for statement 81:\ndf_senti2.show(5)",
                    "submissionTime": "2023-11-16T20:06:59.033GMT",
                    "completionTime": "2023-11-16T20:06:59.237GMT",
                    "stageIds": [
                      33
                    ],
                    "jobGroup": "81",
                    "status": "SUCCEEDED",
                    "numTasks": 1,
                    "numActiveTasks": 0,
                    "numCompletedTasks": 1,
                    "numSkippedTasks": 0,
                    "numFailedTasks": 0,
                    "numKilledTasks": 0,
                    "numCompletedIndices": 1,
                    "numActiveStages": 0,
                    "numCompletedStages": 1,
                    "numSkippedStages": 0,
                    "numFailedStages": 0,
                    "killedTasksSummary": {}
                  }
                ],
                "limit": 20,
                "rule": "ALL_DESC"
              },
              "parent_msg_id": "f331dea3-a96a-4c6a-b7d4-b092e83f04da"
            },
            "text/plain": "StatementMeta(3c67b279-1d53-4b7a-b0d9-41cb8b4b6723, 40, 81, Finished, Available)"
          },
          "metadata": {}
        },
        {
          "output_type": "stream",
          "name": "stdout",
          "text": "+---------+---------+\n|subreddit|sentiment|\n+---------+---------+\n|  pokemon|      pos|\n|     FIFA|      pos|\n|     FIFA|      neg|\n|  pokemon|      neg|\n|  pokemon|      pos|\n+---------+---------+\nonly showing top 5 rows\n\n"
        }
      ],
      "execution_count": 84,
      "metadata": {
        "jupyter": {
          "source_hidden": false,
          "outputs_hidden": false
        },
        "nteract": {
          "transient": {
            "deleting": false
          }
        },
        "gather": {
          "logged": 1700165220666
        }
      }
    },
    {
      "cell_type": "code",
      "source": [
        "df_senti_count = df_senti.groupBy(\"subreddit\",\"sentiment\").count().toPandas()"
      ],
      "outputs": [],
      "execution_count": null,
      "metadata": {
        "jupyter": {
          "source_hidden": false,
          "outputs_hidden": false
        },
        "nteract": {
          "transient": {
            "deleting": false
          }
        }
      }
    },
    {
      "cell_type": "code",
      "source": [
        "df_filtered_use=df_filtered.limit(10000)\n",
        "df_senti_use=df_senti2.limit(10000)"
      ],
      "outputs": [
        {
          "output_type": "display_data",
          "data": {
            "application/vnd.livy.statement-meta+json": {
              "spark_pool": "3c67b279-1d53-4b7a-b0d9-41cb8b4b6723",
              "session_id": "40",
              "statement_id": 82,
              "state": "finished",
              "livy_statement_state": "available",
              "queued_time": "2023-11-16T20:07:17.6145182Z",
              "session_start_time": null,
              "execution_start_time": "2023-11-16T20:07:17.7114496Z",
              "execution_finish_time": "2023-11-16T20:07:18.0085284Z",
              "spark_jobs": {
                "numbers": {
                  "FAILED": 0,
                  "SUCCEEDED": 0,
                  "RUNNING": 0,
                  "UNKNOWN": 0
                },
                "jobs": [],
                "limit": 20,
                "rule": "ALL_DESC"
              },
              "parent_msg_id": "ec0b503d-71ba-4a8c-9177-d72ba55b13b2"
            },
            "text/plain": "StatementMeta(3c67b279-1d53-4b7a-b0d9-41cb8b4b6723, 40, 82, Finished, Available)"
          },
          "metadata": {}
        }
      ],
      "execution_count": 85,
      "metadata": {
        "jupyter": {
          "source_hidden": false,
          "outputs_hidden": false
        },
        "nteract": {
          "transient": {
            "deleting": false
          }
        },
        "gather": {
          "logged": 1700165239179
        }
      }
    },
    {
      "cell_type": "code",
      "source": [
        "df_filtered_use_final = df_filtered_use.drop(*(\"document\", \"sentence_embeddings\", \"sentiment\"))\n",
        "df_filtered_use_final.show(5)"
      ],
      "outputs": [
        {
          "output_type": "display_data",
          "data": {
            "application/vnd.livy.statement-meta+json": {
              "spark_pool": "3c67b279-1d53-4b7a-b0d9-41cb8b4b6723",
              "session_id": "40",
              "statement_id": 84,
              "state": "finished",
              "livy_statement_state": "available",
              "queued_time": "2023-11-16T20:08:16.284837Z",
              "session_start_time": null,
              "execution_start_time": "2023-11-16T20:08:16.392518Z",
              "execution_finish_time": "2023-11-16T20:08:17.1783355Z",
              "spark_jobs": {
                "numbers": {
                  "FAILED": 0,
                  "SUCCEEDED": 1,
                  "RUNNING": 0,
                  "UNKNOWN": 0
                },
                "jobs": [
                  {
                    "displayName": "showString at <unknown>:0",
                    "dataWritten": 0,
                    "dataRead": 39128,
                    "rowCount": 1,
                    "usageDescription": "",
                    "jobId": 34,
                    "name": "showString at <unknown>:0",
                    "description": "Job group for statement 84:\ndf_filtered_use_final = df_filtered_use.drop(*(\"document\", \"sentence_embeddings\", \"sentiment\"))\ndf_filtered_use_final.show(5)",
                    "submissionTime": "2023-11-16T20:08:16.570GMT",
                    "completionTime": "2023-11-16T20:08:16.718GMT",
                    "stageIds": [
                      34
                    ],
                    "jobGroup": "84",
                    "status": "SUCCEEDED",
                    "numTasks": 1,
                    "numActiveTasks": 0,
                    "numCompletedTasks": 1,
                    "numSkippedTasks": 0,
                    "numFailedTasks": 0,
                    "numKilledTasks": 0,
                    "numCompletedIndices": 1,
                    "numActiveStages": 0,
                    "numCompletedStages": 1,
                    "numSkippedStages": 0,
                    "numFailedStages": 0,
                    "killedTasksSummary": {}
                  }
                ],
                "limit": 20,
                "rule": "ALL_DESC"
              },
              "parent_msg_id": "84a76253-5bcd-48c5-8d62-9cd5409f518b"
            },
            "text/plain": "StatementMeta(3c67b279-1d53-4b7a-b0d9-41cb8b4b6723, 40, 84, Finished, Available)"
          },
          "metadata": {}
        },
        {
          "output_type": "stream",
          "name": "stdout",
          "text": "+---------+--------------------+--------------------+\n|subreddit|               title|            selftext|\n+---------+--------------------+--------------------+\n|  pokemon|the PokemonTogeth...|So several days a...|\n|     FIFA|should i select o...|           [removed]|\n|     FIFA| Team of the week 17|                    |\n|  pokemon|Who's a non-villa...|For me, Tyme insp...|\n|  pokemon|Zard Hunting in B...|           [removed]|\n+---------+--------------------+--------------------+\nonly showing top 5 rows\n\n"
        }
      ],
      "execution_count": 87,
      "metadata": {
        "jupyter": {
          "source_hidden": false,
          "outputs_hidden": false
        },
        "nteract": {
          "transient": {
            "deleting": false
          }
        },
        "gather": {
          "logged": 1700165298239
        }
      }
    },
    {
      "cell_type": "code",
      "source": [
        "from pyspark.sql.functions import monotonically_increasing_id"
      ],
      "outputs": [
        {
          "output_type": "display_data",
          "data": {
            "application/vnd.livy.statement-meta+json": {
              "spark_pool": "3c67b279-1d53-4b7a-b0d9-41cb8b4b6723",
              "session_id": "40",
              "statement_id": 89,
              "state": "finished",
              "livy_statement_state": "available",
              "queued_time": "2023-11-16T20:42:00.9042606Z",
              "session_start_time": null,
              "execution_start_time": "2023-11-16T20:42:01.0001087Z",
              "execution_finish_time": "2023-11-16T20:42:01.297688Z",
              "spark_jobs": {
                "numbers": {
                  "FAILED": 0,
                  "SUCCEEDED": 0,
                  "RUNNING": 0,
                  "UNKNOWN": 0
                },
                "jobs": [],
                "limit": 20,
                "rule": "ALL_DESC"
              },
              "parent_msg_id": "b530893d-872e-427f-a190-b5421ab668ed"
            },
            "text/plain": "StatementMeta(3c67b279-1d53-4b7a-b0d9-41cb8b4b6723, 40, 89, Finished, Available)"
          },
          "metadata": {}
        }
      ],
      "execution_count": 92,
      "metadata": {
        "jupyter": {
          "source_hidden": false,
          "outputs_hidden": false
        },
        "nteract": {
          "transient": {
            "deleting": false
          }
        },
        "gather": {
          "logged": 1700167322260
        }
      }
    },
    {
      "cell_type": "code",
      "source": [
        "df_senti_text_use = df_filtered_use_final.withColumn(\"index\", monotonically_increasing_id()).join(df_senti_use.withColumn(\"index\", monotonically_increasing_id()),\"index\").drop(\"index\")\n",
        "df_senti_text_use.show(5)"
      ],
      "outputs": [
        {
          "output_type": "display_data",
          "data": {
            "application/vnd.livy.statement-meta+json": {
              "spark_pool": "3c67b279-1d53-4b7a-b0d9-41cb8b4b6723",
              "session_id": "40",
              "statement_id": 90,
              "state": "finished",
              "livy_statement_state": "available",
              "queued_time": "2023-11-16T20:42:02.6930374Z",
              "session_start_time": null,
              "execution_start_time": "2023-11-16T20:42:02.792961Z",
              "execution_finish_time": "2023-11-16T20:49:44.1420549Z",
              "spark_jobs": {
                "numbers": {
                  "FAILED": 0,
                  "SUCCEEDED": 3,
                  "RUNNING": 0,
                  "UNKNOWN": 0
                },
                "jobs": [
                  {
                    "displayName": "showString at <unknown>:0",
                    "dataWritten": 0,
                    "dataRead": 0,
                    "rowCount": 0,
                    "usageDescription": "",
                    "jobId": 46,
                    "name": "showString at <unknown>:0",
                    "description": "Job group for statement 90:\ndf_senti_text_use = df_filtered_use_final.withColumn(\"index\", monotonically_increasing_id()).join(df_senti_use.withColumn(\"index\", monotonically_increasing_id()),\"index\").drop(\"index\")\ndf_senti_text_use.show(5)",
                    "submissionTime": "2023-11-16T20:49:42.731GMT",
                    "completionTime": "2023-11-16T20:49:42.870GMT",
                    "stageIds": [
                      49,
                      50
                    ],
                    "jobGroup": "90",
                    "status": "SUCCEEDED",
                    "numTasks": 3081,
                    "numActiveTasks": 0,
                    "numCompletedTasks": 1,
                    "numSkippedTasks": 3080,
                    "numFailedTasks": 0,
                    "numKilledTasks": 0,
                    "numCompletedIndices": 1,
                    "numActiveStages": 0,
                    "numCompletedStages": 1,
                    "numSkippedStages": 1,
                    "numFailedStages": 0,
                    "killedTasksSummary": {}
                  },
                  {
                    "displayName": "showString at <unknown>:0",
                    "dataWritten": 4882019,
                    "dataRead": 223679926,
                    "rowCount": 808488,
                    "usageDescription": "",
                    "jobId": 44,
                    "name": "showString at <unknown>:0",
                    "description": "Job group for statement 90:\ndf_senti_text_use = df_filtered_use_final.withColumn(\"index\", monotonically_increasing_id()).join(df_senti_use.withColumn(\"index\", monotonically_increasing_id()),\"index\").drop(\"index\")\ndf_senti_text_use.show(5)",
                    "submissionTime": "2023-11-16T20:42:03.203GMT",
                    "completionTime": "2023-11-16T20:49:42.402GMT",
                    "stageIds": [
                      46
                    ],
                    "jobGroup": "90",
                    "status": "SUCCEEDED",
                    "numTasks": 3080,
                    "numActiveTasks": 0,
                    "numCompletedTasks": 3080,
                    "numSkippedTasks": 0,
                    "numFailedTasks": 0,
                    "numKilledTasks": 0,
                    "numCompletedIndices": 3080,
                    "numActiveStages": 0,
                    "numCompletedStages": 1,
                    "numSkippedStages": 0,
                    "numFailedStages": 0,
                    "killedTasksSummary": {}
                  },
                  {
                    "displayName": "showString at <unknown>:0",
                    "dataWritten": 118649182,
                    "dataRead": 223678731,
                    "rowCount": 808488,
                    "usageDescription": "",
                    "jobId": 43,
                    "name": "showString at <unknown>:0",
                    "description": "Job group for statement 90:\ndf_senti_text_use = df_filtered_use_final.withColumn(\"index\", monotonically_increasing_id()).join(df_senti_use.withColumn(\"index\", monotonically_increasing_id()),\"index\").drop(\"index\")\ndf_senti_text_use.show(5)",
                    "submissionTime": "2023-11-16T20:42:03.055GMT",
                    "completionTime": "2023-11-16T20:43:59.387GMT",
                    "stageIds": [
                      45
                    ],
                    "jobGroup": "90",
                    "status": "SUCCEEDED",
                    "numTasks": 3080,
                    "numActiveTasks": 0,
                    "numCompletedTasks": 3080,
                    "numSkippedTasks": 0,
                    "numFailedTasks": 0,
                    "numKilledTasks": 0,
                    "numCompletedIndices": 3080,
                    "numActiveStages": 0,
                    "numCompletedStages": 1,
                    "numSkippedStages": 0,
                    "numFailedStages": 0,
                    "killedTasksSummary": {}
                  }
                ],
                "limit": 20,
                "rule": "ALL_DESC"
              },
              "parent_msg_id": "d4c088c4-a3d7-4a05-84b5-fc2986d9db46"
            },
            "text/plain": "StatementMeta(3c67b279-1d53-4b7a-b0d9-41cb8b4b6723, 40, 90, Finished, Available)"
          },
          "metadata": {}
        },
        {
          "output_type": "stream",
          "name": "stdout",
          "text": "+---------+--------------------+--------------------+---------+---------+\n|subreddit|               title|            selftext|subreddit|sentiment|\n+---------+--------------------+--------------------+---------+---------+\n|  pokemon|the PokemonTogeth...|So several days a...|  pokemon|      pos|\n|     FIFA|should i select o...|           [removed]|     FIFA|      pos|\n|     FIFA| Team of the week 17|                    |     FIFA|      neg|\n|  pokemon|Who's a non-villa...|For me, Tyme insp...|  pokemon|      neg|\n|  pokemon|Zard Hunting in B...|           [removed]|  pokemon|      pos|\n+---------+--------------------+--------------------+---------+---------+\nonly showing top 5 rows\n\n"
        }
      ],
      "execution_count": 93,
      "metadata": {
        "jupyter": {
          "source_hidden": false,
          "outputs_hidden": false
        },
        "nteract": {
          "transient": {
            "deleting": false
          }
        },
        "gather": {
          "logged": 1700167785251
        }
      }
    },
    {
      "cell_type": "code",
      "source": [
        "df_senti_text_save=df_senti_text_use.toPandas()"
      ],
      "outputs": [
        {
          "output_type": "display_data",
          "data": {
            "application/vnd.livy.statement-meta+json": {
              "spark_pool": "3c67b279-1d53-4b7a-b0d9-41cb8b4b6723",
              "session_id": "40",
              "statement_id": 108,
              "state": "finished",
              "livy_statement_state": "available",
              "queued_time": "2023-11-16T21:08:03.1627885Z",
              "session_start_time": null,
              "execution_start_time": "2023-11-16T21:08:03.3409223Z",
              "execution_finish_time": "2023-11-16T21:15:41.7494411Z",
              "spark_jobs": {
                "numbers": {
                  "FAILED": 0,
                  "SUCCEEDED": 3,
                  "RUNNING": 0,
                  "UNKNOWN": 0
                },
                "jobs": [
                  {
                    "displayName": "toPandas at /tmp/ipykernel_9261/1735211194.py:1",
                    "dataWritten": 0,
                    "dataRead": 0,
                    "rowCount": 0,
                    "usageDescription": "",
                    "jobId": 60,
                    "name": "toPandas at /tmp/ipykernel_9261/1735211194.py:1",
                    "description": "Job group for statement 108:\ndf_senti_text_save=df_senti_text_use.toPandas()",
                    "submissionTime": "2023-11-16T21:15:40.060GMT",
                    "completionTime": "2023-11-16T21:15:40.771GMT",
                    "stageIds": [
                      66,
                      67
                    ],
                    "jobGroup": "108",
                    "status": "SUCCEEDED",
                    "numTasks": 3081,
                    "numActiveTasks": 0,
                    "numCompletedTasks": 1,
                    "numSkippedTasks": 3080,
                    "numFailedTasks": 0,
                    "numKilledTasks": 0,
                    "numCompletedIndices": 1,
                    "numActiveStages": 0,
                    "numCompletedStages": 1,
                    "numSkippedStages": 1,
                    "numFailedStages": 0,
                    "killedTasksSummary": {}
                  },
                  {
                    "displayName": "toPandas at /tmp/ipykernel_9261/1735211194.py:1",
                    "dataWritten": 4882019,
                    "dataRead": 223660253,
                    "rowCount": 808488,
                    "usageDescription": "",
                    "jobId": 58,
                    "name": "toPandas at /tmp/ipykernel_9261/1735211194.py:1",
                    "description": "Job group for statement 108:\ndf_senti_text_save=df_senti_text_use.toPandas()",
                    "submissionTime": "2023-11-16T21:08:03.643GMT",
                    "completionTime": "2023-11-16T21:15:39.786GMT",
                    "stageIds": [
                      63
                    ],
                    "jobGroup": "108",
                    "status": "SUCCEEDED",
                    "numTasks": 3080,
                    "numActiveTasks": 0,
                    "numCompletedTasks": 3080,
                    "numSkippedTasks": 0,
                    "numFailedTasks": 0,
                    "numKilledTasks": 0,
                    "numCompletedIndices": 3080,
                    "numActiveStages": 0,
                    "numCompletedStages": 1,
                    "numSkippedStages": 0,
                    "numFailedStages": 0,
                    "killedTasksSummary": {}
                  },
                  {
                    "displayName": "toPandas at /tmp/ipykernel_9261/1735211194.py:1",
                    "dataWritten": 118649182,
                    "dataRead": 223719560,
                    "rowCount": 808488,
                    "usageDescription": "",
                    "jobId": 57,
                    "name": "toPandas at /tmp/ipykernel_9261/1735211194.py:1",
                    "description": "Job group for statement 108:\ndf_senti_text_save=df_senti_text_use.toPandas()",
                    "submissionTime": "2023-11-16T21:08:03.511GMT",
                    "completionTime": "2023-11-16T21:09:59.540GMT",
                    "stageIds": [
                      62
                    ],
                    "jobGroup": "108",
                    "status": "SUCCEEDED",
                    "numTasks": 3080,
                    "numActiveTasks": 0,
                    "numCompletedTasks": 3080,
                    "numSkippedTasks": 0,
                    "numFailedTasks": 0,
                    "numKilledTasks": 0,
                    "numCompletedIndices": 3080,
                    "numActiveStages": 0,
                    "numCompletedStages": 1,
                    "numSkippedStages": 0,
                    "numFailedStages": 0,
                    "killedTasksSummary": {}
                  }
                ],
                "limit": 20,
                "rule": "ALL_DESC"
              },
              "parent_msg_id": "5ee7e0f1-0f7b-4f49-b5eb-1fd425d3d55d"
            },
            "text/plain": "StatementMeta(3c67b279-1d53-4b7a-b0d9-41cb8b4b6723, 40, 108, Finished, Available)"
          },
          "metadata": {}
        }
      ],
      "execution_count": 111,
      "metadata": {
        "jupyter": {
          "source_hidden": false,
          "outputs_hidden": false
        },
        "nteract": {
          "transient": {
            "deleting": false
          }
        },
        "gather": {
          "logged": 1700169342740
        }
      }
    },
    {
      "cell_type": "code",
      "source": [
        "import os\n",
        "CSV_DIR = os.path.join(\"Users/ky285/fall-2023-reddit-project-team-11/data\", \"csv\")\n",
        "df_senti_count.to_csv(f\"{CSV_DIR}/sentiment_count_top10.csv\", index=False)"
      ],
      "outputs": [
        {
          "output_type": "display_data",
          "data": {
            "application/vnd.livy.statement-meta+json": {
              "spark_pool": "3c67b279-1d53-4b7a-b0d9-41cb8b4b6723",
              "session_id": "13",
              "statement_id": 34,
              "state": "finished",
              "livy_statement_state": "available",
              "queued_time": "2023-11-15T22:06:33.2841633Z",
              "session_start_time": null,
              "execution_start_time": "2023-11-15T22:06:36.1995744Z",
              "execution_finish_time": "2023-11-15T22:06:37.3342945Z",
              "spark_jobs": {
                "numbers": {
                  "FAILED": 0,
                  "SUCCEEDED": 0,
                  "UNKNOWN": 0,
                  "RUNNING": 0
                },
                "jobs": [],
                "limit": 20,
                "rule": "ALL_DESC"
              },
              "parent_msg_id": "c4cfbd4e-3e78-415a-9be9-a29f42a70e37"
            },
            "text/plain": "StatementMeta(3c67b279-1d53-4b7a-b0d9-41cb8b4b6723, 13, 34, Finished, Available)"
          },
          "metadata": {}
        }
      ],
      "execution_count": 41,
      "metadata": {
        "jupyter": {
          "source_hidden": false,
          "outputs_hidden": false
        },
        "nteract": {
          "transient": {
            "deleting": false
          }
        },
        "gather": {
          "logged": 1700085997527
        }
      }
    },
    {
      "cell_type": "code",
      "source": [
        "import os\n",
        "CSV_DIR = os.path.join(\"Users/zx111/fall-2023-reddit-project-team-11/data\", \"csv\")\n",
        "df_senti_text_save.to_csv(f\"{CSV_DIR}/sentiment_text_top10.csv\", index=False)"
      ],
      "outputs": [
        {
          "output_type": "display_data",
          "data": {
            "application/vnd.livy.statement-meta+json": {
              "spark_pool": "3c67b279-1d53-4b7a-b0d9-41cb8b4b6723",
              "session_id": "40",
              "statement_id": 109,
              "state": "finished",
              "livy_statement_state": "available",
              "queued_time": "2023-11-16T21:08:11.9713484Z",
              "session_start_time": null,
              "execution_start_time": "2023-11-16T21:15:41.8656512Z",
              "execution_finish_time": "2023-11-16T21:15:44.0190893Z",
              "spark_jobs": {
                "numbers": {
                  "FAILED": 0,
                  "SUCCEEDED": 0,
                  "RUNNING": 0,
                  "UNKNOWN": 0
                },
                "jobs": [],
                "limit": 20,
                "rule": "ALL_DESC"
              },
              "parent_msg_id": "de9a7fb6-3759-485b-b68e-8d606a6fa525"
            },
            "text/plain": "StatementMeta(3c67b279-1d53-4b7a-b0d9-41cb8b4b6723, 40, 109, Finished, Available)"
          },
          "metadata": {}
        }
      ],
      "execution_count": 112,
      "metadata": {
        "jupyter": {
          "source_hidden": false,
          "outputs_hidden": false
        },
        "nteract": {
          "transient": {
            "deleting": false
          }
        },
        "gather": {
          "logged": 1700169344946
        }
      }
    }
  ],
  "metadata": {
    "language_info": {
      "name": "python",
      "version": "3.8.0",
      "mimetype": "text/x-python",
      "file_extension": ".py",
      "pygments_lexer": "ipython",
      "codemirror_mode": "ipython",
      "nbconvert_exporter": "python"
    },
    "orig_nbformat": 4,
    "microsoft": {
      "ms_spell_check": {
        "ms_spell_check_language": "en"
      },
      "host": {
        "AzureML": {
          "notebookHasBeenCompleted": true
        }
      }
    },
    "kernelspec": {
      "name": "synapse_pyspark",
      "language": "Python",
      "display_name": "Synapse PySpark"
    },
    "kernel_info": {
      "name": "synapse_pyspark"
    },
    "nteract": {
      "version": "nteract-front-end@1.0.0"
    }
  },
  "nbformat": 4,
  "nbformat_minor": 2
}