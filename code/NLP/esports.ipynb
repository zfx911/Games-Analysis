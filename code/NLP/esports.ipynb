{
  "cells": [
    {
      "cell_type": "markdown",
      "source": [
        "## Set up the Spark environment and import libraries"
      ],
      "metadata": {
        "nteract": {
          "transient": {
            "deleting": false
          }
        }
      }
    },
    {
      "cell_type": "code",
      "source": [
        "%%configure -f \\\n",
        "{\"conf\": {\"spark.jars.packages\": \"com.johnsnowlabs.nlp:spark-nlp_2.12:5.1.2\"}}"
      ],
      "outputs": [
        {
          "output_type": "display_data",
          "data": {
            "application/vnd.livy.statement-meta+json": {
              "spark_pool": "3c67b279-1d53-4b7a-b0d9-41cb8b4b6723",
              "session_id": "28",
              "statement_id": -1,
              "state": "finished",
              "livy_statement_state": "available",
              "queued_time": "2023-11-16T08:13:21.1021519Z",
              "session_start_time": "2023-11-16T08:13:21.2011176Z",
              "execution_start_time": "2023-11-16T08:16:58.8313132Z",
              "execution_finish_time": "2023-11-16T08:16:58.8668234Z",
              "spark_jobs": {
                "numbers": {
                  "SUCCEEDED": 0,
                  "UNKNOWN": 0,
                  "FAILED": 0,
                  "RUNNING": 0
                },
                "jobs": [],
                "limit": 20,
                "rule": "ALL_DESC"
              },
              "parent_msg_id": "f436393b-bd4f-43fa-a489-3a6765d560c0"
            },
            "text/plain": "StatementMeta(3c67b279-1d53-4b7a-b0d9-41cb8b4b6723, 28, -1, Finished, Available)"
          },
          "metadata": {}
        },
        {
          "output_type": "stream",
          "name": "stdout",
          "text": "Unrecognized options: "
        }
      ],
      "execution_count": 2,
      "metadata": {
        "jupyter": {
          "source_hidden": false,
          "outputs_hidden": false
        },
        "nteract": {
          "transient": {
            "deleting": false
          }
        }
      }
    },
    {
      "cell_type": "code",
      "source": [
        "spark"
      ],
      "outputs": [
        {
          "output_type": "display_data",
          "data": {
            "application/vnd.livy.statement-meta+json": {
              "spark_pool": "3c67b279-1d53-4b7a-b0d9-41cb8b4b6723",
              "session_id": "28",
              "statement_id": 6,
              "state": "finished",
              "livy_statement_state": "available",
              "queued_time": "2023-11-16T08:13:21.1617947Z",
              "session_start_time": null,
              "execution_start_time": "2023-11-16T08:17:34.3256742Z",
              "execution_finish_time": "2023-11-16T08:17:34.6277001Z",
              "spark_jobs": {
                "numbers": {
                  "SUCCEEDED": 0,
                  "UNKNOWN": 0,
                  "FAILED": 0,
                  "RUNNING": 0
                },
                "jobs": [],
                "limit": 20,
                "rule": "ALL_DESC"
              },
              "parent_msg_id": "b1137977-9c2f-482e-b9be-605dea714d18"
            },
            "text/plain": "StatementMeta(3c67b279-1d53-4b7a-b0d9-41cb8b4b6723, 28, 6, Finished, Available)"
          },
          "metadata": {}
        },
        {
          "output_type": "execute_result",
          "execution_count": 11,
          "data": {
            "text/plain": "<pyspark.sql.session.SparkSession at 0x7fc5954c6880>",
            "text/html": "\n            <div>\n                <p><b>SparkSession - hive</b></p>\n                \n        <div>\n            <p><b>SparkContext</b></p>\n\n            <p><a href=\"http://vm-7aa16702:42969\">Spark UI</a></p>\n\n            <dl>\n              <dt>Version</dt>\n                <dd><code>v3.2.2.5.1-100879434</code></dd>\n              <dt>Master</dt>\n                <dd><code>yarn</code></dd>\n              <dt>AppName</dt>\n                <dd><code>Azure ML Experiment</code></dd>\n            </dl>\n        </div>\n        \n            </div>\n        "
          },
          "metadata": {}
        }
      ],
      "execution_count": 3,
      "metadata": {
        "gather": {
          "logged": 1700122654769
        }
      }
    },
    {
      "cell_type": "code",
      "source": [
        "! pip install spark-nlp"
      ],
      "outputs": [
        {
          "output_type": "display_data",
          "data": {
            "application/vnd.livy.statement-meta+json": {
              "spark_pool": "3c67b279-1d53-4b7a-b0d9-41cb8b4b6723",
              "session_id": "28",
              "statement_id": 7,
              "state": "finished",
              "livy_statement_state": "available",
              "queued_time": "2023-11-16T08:13:21.2435986Z",
              "session_start_time": null,
              "execution_start_time": "2023-11-16T08:17:34.7467997Z",
              "execution_finish_time": "2023-11-16T08:17:51.2704065Z",
              "spark_jobs": {
                "numbers": {
                  "SUCCEEDED": 0,
                  "UNKNOWN": 0,
                  "FAILED": 0,
                  "RUNNING": 0
                },
                "jobs": [],
                "limit": 20,
                "rule": "ALL_DESC"
              },
              "parent_msg_id": "3c930f3d-ea4e-4286-9d55-aa0eb7076e2a"
            },
            "text/plain": "StatementMeta(3c67b279-1d53-4b7a-b0d9-41cb8b4b6723, 28, 7, Finished, Available)"
          },
          "metadata": {}
        },
        {
          "output_type": "stream",
          "name": "stdout",
          "text": "Collecting spark-nlp\n  Downloading spark_nlp-5.1.4-py2.py3-none-any.whl (540 kB)\n\u001b[K     |████████████████████████████████| 540 kB 9.3 MB/s eta 0:00:01\n\u001b[?25hInstalling collected packages: spark-nlp\nSuccessfully installed spark-nlp-5.1.4\n"
        }
      ],
      "execution_count": 4,
      "metadata": {
        "jupyter": {
          "source_hidden": false,
          "outputs_hidden": false
        },
        "nteract": {
          "transient": {
            "deleting": false
          }
        }
      }
    },
    {
      "cell_type": "code",
      "source": [
        "from pyspark.sql import SparkSession\n",
        "from pyspark.sql.functions import col, to_date, when, broadcast, udf, explode, length\n",
        "from pyspark.sql.types import StringType, IntegerType\n",
        "import sparknlp\n",
        "from sparknlp.base import DocumentAssembler\n",
        "from sparknlp.annotator import UniversalSentenceEncoder, SentimentDLModel\n",
        "from sparknlp.pretrained import PretrainedPipeline\n",
        "\n",
        "# Set up data configuration\n",
        "blob_account_name = \"marckvnonprodblob\"\n",
        "blob_container_name = \"bigdata\"\n",
        "blob_sas_token = \"?sv=2021-10-04&st=2023-10-04T01%3A42%3A59Z&se=2024-01-02T02%3A42%3A00Z&sr=c&sp=rlf&sig=w3CH9MbCOpwO7DtHlrahc7AlRPxSZZb8MOgS6TaXLzI%3D\"\n",
        "\n",
        "\n",
        "wasbs_base_url = (\n",
        "    f\"wasbs://{blob_container_name}@{blob_account_name}.blob.core.windows.net/\"\n",
        ")\n",
        "spark.conf.set(\n",
        "    f\"fs.azure.sas.{blob_container_name}.{blob_account_name}.blob.core.windows.net\",\n",
        "    blob_sas_token,\n",
        ")"
      ],
      "outputs": [
        {
          "output_type": "display_data",
          "data": {
            "application/vnd.livy.statement-meta+json": {
              "spark_pool": "3c67b279-1d53-4b7a-b0d9-41cb8b4b6723",
              "session_id": "28",
              "statement_id": 8,
              "state": "finished",
              "livy_statement_state": "available",
              "queued_time": "2023-11-16T08:13:21.4382378Z",
              "session_start_time": null,
              "execution_start_time": "2023-11-16T08:17:51.4365355Z",
              "execution_finish_time": "2023-11-16T08:17:52.912656Z",
              "spark_jobs": {
                "numbers": {
                  "SUCCEEDED": 0,
                  "UNKNOWN": 0,
                  "FAILED": 0,
                  "RUNNING": 0
                },
                "jobs": [],
                "limit": 20,
                "rule": "ALL_DESC"
              },
              "parent_msg_id": "b2998c3d-23e9-4a47-8319-535db19ed27c"
            },
            "text/plain": "StatementMeta(3c67b279-1d53-4b7a-b0d9-41cb8b4b6723, 28, 8, Finished, Available)"
          },
          "metadata": {}
        }
      ],
      "execution_count": 5,
      "metadata": {
        "jupyter": {
          "source_hidden": false,
          "outputs_hidden": false
        },
        "nteract": {
          "transient": {
            "deleting": false
          }
        },
        "gather": {
          "logged": 1700122672973
        }
      }
    },
    {
      "cell_type": "markdown",
      "source": [
        "## Read in the Reddit data"
      ],
      "metadata": {
        "nteract": {
          "transient": {
            "deleting": false
          }
        }
      }
    },
    {
      "cell_type": "code",
      "source": [
        "submissions_path = \"reddit-parquet/submissions/\"\n",
        "submissions_df = spark.read.parquet(f\"{wasbs_base_url}{submissions_path}\")"
      ],
      "outputs": [
        {
          "output_type": "display_data",
          "data": {
            "application/vnd.livy.statement-meta+json": {
              "spark_pool": "3c67b279-1d53-4b7a-b0d9-41cb8b4b6723",
              "session_id": "28",
              "statement_id": 9,
              "state": "finished",
              "livy_statement_state": "available",
              "queued_time": "2023-11-16T08:13:21.5379336Z",
              "session_start_time": null,
              "execution_start_time": "2023-11-16T08:17:53.0578315Z",
              "execution_finish_time": "2023-11-16T08:18:10.1695593Z",
              "spark_jobs": {
                "numbers": {
                  "SUCCEEDED": 1,
                  "UNKNOWN": 0,
                  "FAILED": 0,
                  "RUNNING": 0
                },
                "jobs": [
                  {
                    "displayName": "parquet at NativeMethodAccessorImpl.java:0",
                    "dataWritten": 0,
                    "dataRead": 0,
                    "rowCount": 0,
                    "usageDescription": "",
                    "jobId": 0,
                    "name": "parquet at NativeMethodAccessorImpl.java:0",
                    "description": "Job group for statement 9:\nsubmissions_path = \"reddit-parquet/submissions/\"\nsubmissions_df = spark.read.parquet(f\"{wasbs_base_url}{submissions_path}\")",
                    "submissionTime": "2023-11-16T08:18:00.989GMT",
                    "completionTime": "2023-11-16T08:18:08.273GMT",
                    "stageIds": [
                      0
                    ],
                    "jobGroup": "9",
                    "status": "SUCCEEDED",
                    "numTasks": 1,
                    "numActiveTasks": 0,
                    "numCompletedTasks": 1,
                    "numSkippedTasks": 0,
                    "numFailedTasks": 0,
                    "numKilledTasks": 0,
                    "numCompletedIndices": 1,
                    "numActiveStages": 0,
                    "numCompletedStages": 1,
                    "numSkippedStages": 0,
                    "numFailedStages": 0,
                    "killedTasksSummary": {}
                  }
                ],
                "limit": 20,
                "rule": "ALL_DESC"
              },
              "parent_msg_id": "21d57ef1-c32c-4307-a4b2-4f27001c566a"
            },
            "text/plain": "StatementMeta(3c67b279-1d53-4b7a-b0d9-41cb8b4b6723, 28, 9, Finished, Available)"
          },
          "metadata": {}
        }
      ],
      "execution_count": 6,
      "metadata": {
        "jupyter": {
          "source_hidden": false,
          "outputs_hidden": false
        },
        "nteract": {
          "transient": {
            "deleting": false
          }
        },
        "gather": {
          "logged": 1700122690254
        }
      }
    },
    {
      "cell_type": "markdown",
      "source": [
        "## Create and process the eSports Events DataFrame"
      ],
      "metadata": {
        "nteract": {
          "transient": {
            "deleting": false
          }
        }
      }
    },
    {
      "cell_type": "code",
      "source": [
        "# Define the schema for the events data\n",
        "from pyspark.sql.types import StructType, StructField, DateType\n",
        "from datetime import datetime\n",
        "from pyspark.sql import Row\n",
        "\n",
        "schema = StructType([\n",
        "    StructField(\"game\", StringType(), True),\n",
        "    StructField(\"event_name\", StringType(), True),\n",
        "    StructField(\"start_date\", DateType(), True),\n",
        "    StructField(\"end_date\", DateType(), True)\n",
        "])\n",
        "\n",
        "# eSports events\n",
        "eSportsEventsData = [\n",
        "    {\"game\": \"League of Legends\", \"event_name\": \"World Championship\", \"start_date\": \"2021-10-05\", \"end_date\": \"2021-11-06\"},\n",
        "    {\"game\": \"League of Legends\", \"event_name\": \"Mid-Season Invitational\", \"start_date\": \"2021-05-06\", \"end_date\": \"2021-05-22\"},\n",
        "    {\"game\": \"Valorant\", \"event_name\": \"Champions Tour\", \"start_date\": \"2021-12-01\", \"end_date\": \"2021-12-12\"},\n",
        "    {\"game\": \"Dota 2\", \"event_name\": \"The International\", \"start_date\": \"2021-08-05\", \"end_date\": \"2021-08-15\"},\n",
        "    {\"game\": \"Valorant\", \"event_name\": \"Masters\", \"start_date\": \"2022-04-10\", \"end_date\": \"2022-04-24\"},\n",
        "    {\"game\": \"Dota 2\", \"event_name\": \"Major Championship\", \"start_date\": \"2022-05-02\", \"end_date\": \"2022-05-14\"},\n",
        "    {\"game\": \"League of Legends\", \"event_name\": \"Summer Split\", \"start_date\": \"2022-06-04\", \"end_date\": \"2022-09-05\"},\n",
        "    {\"game\": \"Valorant\", \"event_name\": \"Red Bull Campus Clutch\", \"start_date\": \"2022-07-17\", \"end_date\": \"2022-07-18\"},\n",
        "    {\"game\": \"Dota 2\", \"event_name\": \"Winter Championship\", \"start_date\": \"2023-01-08\", \"end_date\": \"2023-01-23\"},\n",
        "    {\"game\": \"League of Legends\", \"event_name\": \"Spring Split\", \"start_date\": \"2023-01-14\", \"end_date\": \"2023-04-19\"},\n",
        "    {\"game\": \"Valorant\", \"event_name\": \"VCT Stage 1 Masters\", \"start_date\": \"2023-03-10\", \"end_date\": \"2023-03-20\"}\n",
        "]\n",
        "\n",
        "# Convert date strings to date objects in Python before creating the DataFrame\n",
        "def convert_dates(event):\n",
        "    event['start_date'] = datetime.strptime(event['start_date'], '%Y-%m-%d').date()\n",
        "    event['end_date'] = datetime.strptime(event['end_date'], '%Y-%m-%d').date()\n",
        "    return event\n",
        "\n",
        "eSportsEventsData = [convert_dates(event) for event in eSportsEventsData]\n",
        "\n",
        "# Create a DataFrame from the list of dictionaries\n",
        "eSportsEventsDF = spark.createDataFrame(eSportsEventsData)\n",
        "\n",
        "# Show the Esports DataFrame\n",
        "eSportsEventsDF.show()"
      ],
      "outputs": [
        {
          "output_type": "display_data",
          "data": {
            "application/vnd.livy.statement-meta+json": {
              "spark_pool": "3c67b279-1d53-4b7a-b0d9-41cb8b4b6723",
              "session_id": "28",
              "statement_id": 10,
              "state": "finished",
              "livy_statement_state": "available",
              "queued_time": "2023-11-16T08:13:21.5654234Z",
              "session_start_time": null,
              "execution_start_time": "2023-11-16T08:18:10.2836164Z",
              "execution_finish_time": "2023-11-16T08:18:33.4940042Z",
              "spark_jobs": {
                "numbers": {
                  "SUCCEEDED": 3,
                  "UNKNOWN": 0,
                  "FAILED": 0,
                  "RUNNING": 0
                },
                "jobs": [
                  {
                    "displayName": "showString at NativeMethodAccessorImpl.java:0",
                    "dataWritten": 0,
                    "dataRead": 0,
                    "rowCount": 0,
                    "usageDescription": "",
                    "jobId": 3,
                    "name": "showString at NativeMethodAccessorImpl.java:0",
                    "description": "Job group for statement 10:\n# Define the schema for the events data\nfrom pyspark.sql.types import StructType, StructField, DateType\nfrom datetime import datetime\nfrom pyspark.sql import Row\n\nschema = StructType([\n    StructField(\"game\", StringType(), True),\n    StructField(\"event_name\", StringType(), True),\n    StructField(\"start_date\", DateType(), True),\n    StructField(\"end_date\", DateType(), True)\n])\n\n# eSports events\neSportsEventsData = [\n    {\"game\": \"League of Legends\", \"event_name\": \"World Championship\", \"start_date\": \"2021-10-05\", \"end_date\": \"2021-11-06\"},\n    {\"game\": \"League of Legends\", \"event_name\": \"Mid-Season Invitational\", \"start_date\": \"2021-05-06\", \"end_date\": \"2021-05-22\"},\n    {\"game\": \"Valorant\", \"event_name\": \"Champions Tour\", \"start_date\": \"2021-12-01\", \"end_date\": \"2021-12-12\"},\n    {\"game\": \"Dota 2\", \"event_name\": \"The International\", \"start_date\": \"2021-08-05\", \"end_date\": \"2021-08-15\"},\n    {\"game\": \"Valorant\", \"event_name\": \"Masters\", \"start_date\": \"2022-04-10\", \"end_date\": \"2022-04-24\"},\n    {\"game\": \"Dota 2...",
                    "submissionTime": "2023-11-16T08:18:32.260GMT",
                    "completionTime": "2023-11-16T08:18:32.386GMT",
                    "stageIds": [
                      3
                    ],
                    "jobGroup": "10",
                    "status": "SUCCEEDED",
                    "numTasks": 3,
                    "numActiveTasks": 0,
                    "numCompletedTasks": 3,
                    "numSkippedTasks": 0,
                    "numFailedTasks": 0,
                    "numKilledTasks": 0,
                    "numCompletedIndices": 3,
                    "numActiveStages": 0,
                    "numCompletedStages": 1,
                    "numSkippedStages": 0,
                    "numFailedStages": 0,
                    "killedTasksSummary": {}
                  },
                  {
                    "displayName": "showString at NativeMethodAccessorImpl.java:0",
                    "dataWritten": 0,
                    "dataRead": 0,
                    "rowCount": 0,
                    "usageDescription": "",
                    "jobId": 2,
                    "name": "showString at NativeMethodAccessorImpl.java:0",
                    "description": "Job group for statement 10:\n# Define the schema for the events data\nfrom pyspark.sql.types import StructType, StructField, DateType\nfrom datetime import datetime\nfrom pyspark.sql import Row\n\nschema = StructType([\n    StructField(\"game\", StringType(), True),\n    StructField(\"event_name\", StringType(), True),\n    StructField(\"start_date\", DateType(), True),\n    StructField(\"end_date\", DateType(), True)\n])\n\n# eSports events\neSportsEventsData = [\n    {\"game\": \"League of Legends\", \"event_name\": \"World Championship\", \"start_date\": \"2021-10-05\", \"end_date\": \"2021-11-06\"},\n    {\"game\": \"League of Legends\", \"event_name\": \"Mid-Season Invitational\", \"start_date\": \"2021-05-06\", \"end_date\": \"2021-05-22\"},\n    {\"game\": \"Valorant\", \"event_name\": \"Champions Tour\", \"start_date\": \"2021-12-01\", \"end_date\": \"2021-12-12\"},\n    {\"game\": \"Dota 2\", \"event_name\": \"The International\", \"start_date\": \"2021-08-05\", \"end_date\": \"2021-08-15\"},\n    {\"game\": \"Valorant\", \"event_name\": \"Masters\", \"start_date\": \"2022-04-10\", \"end_date\": \"2022-04-24\"},\n    {\"game\": \"Dota 2...",
                    "submissionTime": "2023-11-16T08:18:24.949GMT",
                    "completionTime": "2023-11-16T08:18:32.244GMT",
                    "stageIds": [
                      2
                    ],
                    "jobGroup": "10",
                    "status": "SUCCEEDED",
                    "numTasks": 4,
                    "numActiveTasks": 0,
                    "numCompletedTasks": 4,
                    "numSkippedTasks": 0,
                    "numFailedTasks": 0,
                    "numKilledTasks": 0,
                    "numCompletedIndices": 4,
                    "numActiveStages": 0,
                    "numCompletedStages": 1,
                    "numSkippedStages": 0,
                    "numFailedStages": 0,
                    "killedTasksSummary": {}
                  },
                  {
                    "displayName": "showString at NativeMethodAccessorImpl.java:0",
                    "dataWritten": 0,
                    "dataRead": 0,
                    "rowCount": 0,
                    "usageDescription": "",
                    "jobId": 1,
                    "name": "showString at NativeMethodAccessorImpl.java:0",
                    "description": "Job group for statement 10:\n# Define the schema for the events data\nfrom pyspark.sql.types import StructType, StructField, DateType\nfrom datetime import datetime\nfrom pyspark.sql import Row\n\nschema = StructType([\n    StructField(\"game\", StringType(), True),\n    StructField(\"event_name\", StringType(), True),\n    StructField(\"start_date\", DateType(), True),\n    StructField(\"end_date\", DateType(), True)\n])\n\n# eSports events\neSportsEventsData = [\n    {\"game\": \"League of Legends\", \"event_name\": \"World Championship\", \"start_date\": \"2021-10-05\", \"end_date\": \"2021-11-06\"},\n    {\"game\": \"League of Legends\", \"event_name\": \"Mid-Season Invitational\", \"start_date\": \"2021-05-06\", \"end_date\": \"2021-05-22\"},\n    {\"game\": \"Valorant\", \"event_name\": \"Champions Tour\", \"start_date\": \"2021-12-01\", \"end_date\": \"2021-12-12\"},\n    {\"game\": \"Dota 2\", \"event_name\": \"The International\", \"start_date\": \"2021-08-05\", \"end_date\": \"2021-08-15\"},\n    {\"game\": \"Valorant\", \"event_name\": \"Masters\", \"start_date\": \"2022-04-10\", \"end_date\": \"2022-04-24\"},\n    {\"game\": \"Dota 2...",
                    "submissionTime": "2023-11-16T08:18:15.135GMT",
                    "completionTime": "2023-11-16T08:18:24.918GMT",
                    "stageIds": [
                      1
                    ],
                    "jobGroup": "10",
                    "status": "SUCCEEDED",
                    "numTasks": 1,
                    "numActiveTasks": 0,
                    "numCompletedTasks": 1,
                    "numSkippedTasks": 0,
                    "numFailedTasks": 0,
                    "numKilledTasks": 0,
                    "numCompletedIndices": 1,
                    "numActiveStages": 0,
                    "numCompletedStages": 1,
                    "numSkippedStages": 0,
                    "numFailedStages": 0,
                    "killedTasksSummary": {}
                  }
                ],
                "limit": 20,
                "rule": "ALL_DESC"
              },
              "parent_msg_id": "2b37a5ae-1fc2-4092-ac9f-e301797cab82"
            },
            "text/plain": "StatementMeta(3c67b279-1d53-4b7a-b0d9-41cb8b4b6723, 28, 10, Finished, Available)"
          },
          "metadata": {}
        },
        {
          "output_type": "stream",
          "name": "stdout",
          "text": "+----------+--------------------+-----------------+----------+\n|  end_date|          event_name|             game|start_date|\n+----------+--------------------+-----------------+----------+\n|2021-11-06|  World Championship|League of Legends|2021-10-05|\n|2021-05-22|Mid-Season Invita...|League of Legends|2021-05-06|\n|2021-12-12|      Champions Tour|         Valorant|2021-12-01|\n|2021-08-15|   The International|           Dota 2|2021-08-05|\n|2022-04-24|             Masters|         Valorant|2022-04-10|\n|2022-05-14|  Major Championship|           Dota 2|2022-05-02|\n|2022-09-05|        Summer Split|League of Legends|2022-06-04|\n|2022-07-18|Red Bull Campus C...|         Valorant|2022-07-17|\n|2023-01-23| Winter Championship|           Dota 2|2023-01-08|\n|2023-04-19|        Spring Split|League of Legends|2023-01-14|\n|2023-03-20| VCT Stage 1 Masters|         Valorant|2023-03-10|\n+----------+--------------------+-----------------+----------+\n\n"
        }
      ],
      "execution_count": 7,
      "metadata": {
        "jupyter": {
          "source_hidden": false,
          "outputs_hidden": false
        },
        "nteract": {
          "transient": {
            "deleting": false
          }
        },
        "gather": {
          "logged": 1700122713582
        }
      }
    },
    {
      "cell_type": "markdown",
      "source": [
        "## Filter the Reddit data to focus on the relevant subreddits"
      ],
      "metadata": {
        "nteract": {
          "transient": {
            "deleting": false
          }
        }
      }
    },
    {
      "cell_type": "code",
      "source": [
        "subreddits = [\"summonerschool\", \"leagueoflegends\", \"LeagueOfMemes\", \"lolesports\", \n",
        "              \"VALORANT\", \"ValorantCompetitive\", \"AgentAcademy\", \"ValorantMemes\", \n",
        "              \"DotA2\"]\n",
        "\n",
        "submissions_filtered = submissions_df.filter(col(\"subreddit\").isin(subreddits))\n",
        "\n",
        "submissions_filtered.show(10)"
      ],
      "outputs": [
        {
          "output_type": "display_data",
          "data": {
            "application/vnd.livy.statement-meta+json": {
              "spark_pool": "3c67b279-1d53-4b7a-b0d9-41cb8b4b6723",
              "session_id": "28",
              "statement_id": 11,
              "state": "finished",
              "livy_statement_state": "available",
              "queued_time": "2023-11-16T08:13:21.6207067Z",
              "session_start_time": null,
              "execution_start_time": "2023-11-16T08:18:33.6152121Z",
              "execution_finish_time": "2023-11-16T08:18:43.7704804Z",
              "spark_jobs": {
                "numbers": {
                  "SUCCEEDED": 1,
                  "UNKNOWN": 0,
                  "FAILED": 0,
                  "RUNNING": 0
                },
                "jobs": [
                  {
                    "displayName": "showString at NativeMethodAccessorImpl.java:0",
                    "dataWritten": 0,
                    "dataRead": 17106068,
                    "rowCount": 8127,
                    "usageDescription": "",
                    "jobId": 4,
                    "name": "showString at NativeMethodAccessorImpl.java:0",
                    "description": "Job group for statement 11:\nsubreddits = [\"summonerschool\", \"leagueoflegends\", \"LeagueOfMemes\", \"lolesports\", \n              \"VALORANT\", \"ValorantCompetitive\", \"AgentAcademy\", \"ValorantMemes\", \n              \"DotA2\"]\n\nsubmissions_filtered = submissions_df.filter(col(\"subreddit\").isin(subreddits))\n\nsubmissions_filtered.show(10)",
                    "submissionTime": "2023-11-16T08:18:34.661GMT",
                    "completionTime": "2023-11-16T08:18:42.012GMT",
                    "stageIds": [
                      4
                    ],
                    "jobGroup": "11",
                    "status": "SUCCEEDED",
                    "numTasks": 1,
                    "numActiveTasks": 0,
                    "numCompletedTasks": 1,
                    "numSkippedTasks": 0,
                    "numFailedTasks": 0,
                    "numKilledTasks": 0,
                    "numCompletedIndices": 1,
                    "numActiveStages": 0,
                    "numCompletedStages": 1,
                    "numSkippedStages": 0,
                    "numFailedStages": 0,
                    "killedTasksSummary": {}
                  }
                ],
                "limit": 20,
                "rule": "ALL_DESC"
              },
              "parent_msg_id": "424c1749-95e4-4fd5-981d-4bb589a92371"
            },
            "text/plain": "StatementMeta(3c67b279-1d53-4b7a-b0d9-41cb8b4b6723, 28, 11, Finished, Available)"
          },
          "metadata": {}
        },
        {
          "output_type": "stream",
          "name": "stdout",
          "text": "+------------------+------------------+--------+-------------------+--------------+----------------------+--------------------+---------+----------+------------+-------------------+----------------+---------------------+----------------+-------------+--------------------+---------------+-------------+----------+---------+------+------+----------+--------+-------+---------+----------------+----------------------+-------+--------+--------------------+---------------+------+--------------------+--------------------+-------------+------------+--------------+-------------+-------+-----------------------+--------------------+------+------------+--------------------+--------+-----------+---------------------+------------+-------------------+-----+--------------------+--------------------+--------------------+-------+--------+-------------------+------------+--------------+--------------------+--------------------+----------------------+--------------------+----------------+---------------+--------------------+--------------------+----------------+----+-----+\n|adserver_click_url|adserver_imp_pixel|archived|             author|author_cakeday|author_flair_css_class|   author_flair_text|author_id|brand_safe|contest_mode|        created_utc|crosspost_parent|crosspost_parent_list|disable_comments|distinguished|              domain|domain_override|       edited|embed_type|embed_url|gilded|hidden|hide_score|href_url|     id|imp_pixel|is_crosspostable|is_reddit_media_domain|is_self|is_video|link_flair_css_class|link_flair_text|locked|               media|         media_embed|mobile_ad_url|num_comments|num_crossposts|original_link|over_18|parent_whitelist_status|           permalink|pinned|   post_hint|             preview|promoted|promoted_by|promoted_display_name|promoted_url|       retrieved_on|score|        secure_media|  secure_media_embed|            selftext|spoiler|stickied|          subreddit|subreddit_id|suggested_sort|third_party_trackers|third_party_tracking|third_party_tracking_2|           thumbnail|thumbnail_height|thumbnail_width|               title|                 url|whitelist_status|year|month|\n+------------------+------------------+--------+-------------------+--------------+----------------------+--------------------+---------+----------+------------+-------------------+----------------+---------------------+----------------+-------------+--------------------+---------------+-------------+----------+---------+------+------+----------+--------+-------+---------+----------------+----------------------+-------+--------+--------------------+---------------+------+--------------------+--------------------+-------------+------------+--------------+-------------+-------+-----------------------+--------------------+------+------------+--------------------+--------+-----------+---------------------+------------+-------------------+-----+--------------------+--------------------+--------------------+-------+--------+-------------------+------------+--------------+--------------------+--------------------+----------------------+--------------------+----------------+---------------+--------------------+--------------------+----------------+----+-----+\n|              null|              null|   false|          [deleted]|          null|                  null|                null|     null|      null|       false|2023-02-22 21:07:39|            null|                 null|            null|         null|                    |           null|1.677100315E9|      null|     null|     0| false|     false|    null|119d6ps|     null|           false|                 false|   true|   false|                null|         Rule 5| false|                null|{null, null, null...|         null|           6|             0|         null|  false|                all_ads|/r/ValorantCompet...| false|        null|                null|    null|       null|                 null|        null|2023-03-08 23:24:03|    0|                null|{null, null, null...|           [removed]|  false|   false|ValorantCompetitive|   t5_2g5ach|          null|                null|                null|                  null|             default|            null|           null|A bit of overreac...|                    |         all_ads|2023|    2|\n|              null|              null|   false|           inuzuka4|          null|                  null|                null|     null|      null|       false|2023-02-22 21:08:08|            null|                 null|            null|         null|           v.redd.it|           null|        false|      null|     null|     0| false|     false|    null|119d7g2|     null|            true|                  true|  false|    true|                null|           null| false|{null, null, {htt...|{null, null, null...|         null|           2|             0|         null|  false|                all_ads|/r/leagueoflegend...| false|hosted:video|{false, [{-3vA7N4...|    null|       null|                 null|        null|2023-03-08 23:24:01|    0|  {null, null, null}|{null, null, null...|                    |  false|   false|    leagueoflegends|    t5_2rfxx|          null|                null|                null|                  null|https://a.thumbs....|              78|            140|Nerfed Yuumi? Wor...|https://v.redd.it...|         all_ads|2023|    2|\n|              null|              null|   false|    Status_Bet_8034|          null|                  null|                null|     null|      null|       false|2023-02-22 21:08:12|            null|                 null|            null|         null|       self.VALORANT|           null|        false|      null|     null|     0| false|     false|    null|119d7ju|     null|            true|                 false|   true|   false|                    |            Art| false|                null|{null, null, null...|         null|           2|             0|         null|  false|                all_ads|/r/VALORANT/comme...| false|        null|                null|    null|       null|                 null|        null|2023-03-08 23:24:02|    2|                null|{null, null, null...|Got bored and so ...|  false|   false|           VALORANT|   t5_2dkvmc|          null|                null|                null|                  null|                self|            null|           null|       Killjoy Mains|https://www.reddi...|         all_ads|2023|    2|\n|              null|              null|   false| MajesticDoughnut10|          null|                  null|                null|     null|      null|       false|2023-02-22 21:09:03|            null|                 null|            null|         null|       self.VALORANT|           null|        false|      null|     null|     0| false|     false|    null|119d8pd|     null|            true|                 false|   true|   false|                    |       Question| false|                null|{null, null, null...|         null|           1|             0|         null|  false|                all_ads|/r/VALORANT/comme...| false|        null|                null|    null|       null|                 null|        null|2023-03-08 23:24:00|    3|                null|{null, null, null...|Since the new wee...|  false|   false|           VALORANT|   t5_2dkvmc|          null|                null|                null|                  null|                self|            null|           null|Weekly's not addi...|https://www.reddi...|         all_ads|2023|    2|\n|              null|              null|   false|          nterature|          null|                  null|                null|     null|      null|       false|2023-02-22 21:09:15|            null|                 null|            null|         null|         youtube.com|           null|        false|      null|     null|     0| false|     false|    null|119d8z1|     null|            true|                 false|  false|   false|             esports|        Esports| false|{null, {Mothman, ...|{&lt;iframe width...|         null|           9|             0|         null|  false|                all_ads|/r/ValorantCompet...| false|  rich:video|{false, [{rwzLxn1...|    null|       null|                 null|        null|2023-03-08 23:24:00|   40|{null, {Mothman, ...|{&lt;iframe width...|                    |  false|   false|ValorantCompetitive|   t5_2g5ach|          null|                null|                null|                  null|https://b.thumbs....|             105|            140|VCT LOCK//IN: Tea...|https://www.youtu...|         all_ads|2023|    2|\n|              null|              null|   false|           corylulu|          null|                  null|       :nac9::koskt:|     null|      null|       false|2023-02-22 21:09:21|            null|                 null|            null|         null|         youtube.com|           null|        false|      null|     null|     0| false|     false|    null|119d93z|     null|            true|                 false|  false|   false|                null|           null| false|{null, {Travis Ga...|{&lt;iframe width...|         null|          49|             0|         null|  false|                all_ads|/r/leagueoflegend...| false|  rich:video|{false, [{HCPjPDf...|    null|       null|                 null|        null|2023-03-08 23:24:00|  139|{null, {Travis Ga...|{&lt;iframe width...|                    |  false|   false|    leagueoflegends|    t5_2rfxx|          null|                null|                null|                  null|https://b.thumbs....|             105|            140|Cloud9 BENCH Dipl...|https://www.youtu...|         all_ads|2023|    2|\n|              null|              null|   false| EditorValuable5514|          null|                  null|                null|     null|      null|       false|2023-02-22 21:10:05|            null|                 null|            null|         null|           i.redd.it|           null|        false|      null|     null|     0| false|     false|    null|119da6p|     null|           false|                  true|  false|   false|                    |     Discussion| false|                null|{null, null, null...|         null|           1|             0|         null|  false|                all_ads|/r/VALORANT/comme...| false|        null|                null|    null|       null|                 null|        null|2023-03-08 23:23:59|    1|                null|{null, null, null...|                    |  false|   false|           VALORANT|   t5_2dkvmc|          null|                null|                null|                  null|             default|              87|            140|did they add to r...|https://i.redd.it...|         all_ads|2023|    2|\n|              null|              null|   false| FrankTheBoxMonster|          null|                  null|:ornn: Caenen's l...|     null|      null|       false|2023-02-22 21:10:42|            null|                 null|            null|         null|self.leagueoflegends|           null|1.677115398E9|      null|     null|     0| false|     false|    null|119db4j|     null|            true|                 false|   true|   false|                null|           null| false|                null|{null, null, null...|         null|         266|             0|         null|  false|                all_ads|/r/leagueoflegend...| false|        self|{false, [{Hm2nCiD...|    null|       null|                 null|        null|2023-03-08 23:23:58|  126|                null|{null, null, null...|Note that many ch...|  false|   false|    leagueoflegends|    t5_2rfxx|          null|                null|                null|                  null|                self|            null|           null|PBE datamine 2023...|https://www.reddi...|         all_ads|2023|    2|\n|              null|              null|   false|          Cryptanic|          null|                  null|                null|     null|      null|       false|2023-02-22 21:10:58|            null|                 null|            null|         null|           i.redd.it|           null|        false|      null|     null|     0| false|     false|    null|119dblm|     null|           false|                  true|  false|   false|                    |     Discussion| false|                null|{null, null, null...|         null|           1|             0|         null|  false|                all_ads|/r/VALORANT/comme...| false|        null|                null|    null|       null|                 null|        null|2023-03-08 23:23:57|    1|                null|{null, null, null...|                    |  false|   false|           VALORANT|   t5_2dkvmc|          null|                null|                null|                  null|             default|              43|            140|I love the matchm...|https://i.redd.it...|         all_ads|2023|    2|\n|              null|              null|   false|Alternative-Tie8177|          null|                  null|                null|     null|      null|       false|2023-02-22 21:12:58|            null|                 null|            null|         null|           v.redd.it|           null|        false|      null|     null|     0| false|     false|    null|119delf|     null|           false|                  true|  false|    true|               fluff|          Fluff| false|{null, null, {htt...|{null, null, null...|         null|           2|             0|         null|  false|                all_ads|/r/DotA2/comments...| false|        null|                null|    null|       null|                 null|        null|2023-03-08 23:23:55|    3|  {null, null, null}|{null, null, null...|                    |  false|   false|              DotA2|    t5_2s580|          null|                null|                null|                  null|             default|             140|            140|U.S presidents st...|https://v.redd.it...|         all_ads|2023|    2|\n+------------------+------------------+--------+-------------------+--------------+----------------------+--------------------+---------+----------+------------+-------------------+----------------+---------------------+----------------+-------------+--------------------+---------------+-------------+----------+---------+------+------+----------+--------+-------+---------+----------------+----------------------+-------+--------+--------------------+---------------+------+--------------------+--------------------+-------------+------------+--------------+-------------+-------+-----------------------+--------------------+------+------------+--------------------+--------+-----------+---------------------+------------+-------------------+-----+--------------------+--------------------+--------------------+-------+--------+-------------------+------------+--------------+--------------------+--------------------+----------------------+--------------------+----------------+---------------+--------------------+--------------------+----------------+----+-----+\nonly showing top 10 rows\n\n"
        }
      ],
      "execution_count": 8,
      "metadata": {
        "jupyter": {
          "source_hidden": false,
          "outputs_hidden": false
        },
        "nteract": {
          "transient": {
            "deleting": false
          }
        },
        "gather": {
          "logged": 1700122723857
        }
      }
    },
    {
      "cell_type": "markdown",
      "source": [
        "## Integrate the eSports Events with the Reddit Posts"
      ],
      "metadata": {
        "nteract": {
          "transient": {
            "deleting": false
          }
        }
      }
    },
    {
      "cell_type": "code",
      "source": [
        "# Convert timestamps to dates for comparison\n",
        "submissions_filtered = submissions_filtered.withColumn(\"post_date\", to_date(col(\"created_utc\"), \"yyyy-MM-dd\"))\n",
        "\n",
        "condition = (col(\"post_date\") >= col(\"start_date\")) & (col(\"post_date\") <= col(\"end_date\"))\n",
        "\n",
        "submissions_during_events = submissions_filtered.join(\n",
        "    broadcast(eSportsEventsDF),\n",
        "    condition,\n",
        "    \"left_outer\"\n",
        ")\n",
        "\n",
        "submissions_during_events = submissions_during_events.withColumn(\n",
        "    \"during_event\",\n",
        "    when(col(\"event_name\").isNotNull(), 1).otherwise(0)\n",
        ")"
      ],
      "outputs": [
        {
          "output_type": "display_data",
          "data": {
            "application/vnd.livy.statement-meta+json": {
              "spark_pool": "3c67b279-1d53-4b7a-b0d9-41cb8b4b6723",
              "session_id": "28",
              "statement_id": 12,
              "state": "finished",
              "livy_statement_state": "available",
              "queued_time": "2023-11-16T08:13:21.6611563Z",
              "session_start_time": null,
              "execution_start_time": "2023-11-16T08:18:43.951217Z",
              "execution_finish_time": "2023-11-16T08:18:44.7863969Z",
              "spark_jobs": {
                "numbers": {
                  "SUCCEEDED": 0,
                  "UNKNOWN": 0,
                  "FAILED": 0,
                  "RUNNING": 0
                },
                "jobs": [],
                "limit": 20,
                "rule": "ALL_DESC"
              },
              "parent_msg_id": "a13eb091-ce04-4a7d-819d-16bf95e41bcb"
            },
            "text/plain": "StatementMeta(3c67b279-1d53-4b7a-b0d9-41cb8b4b6723, 28, 12, Finished, Available)"
          },
          "metadata": {}
        }
      ],
      "execution_count": 9,
      "metadata": {
        "jupyter": {
          "source_hidden": false,
          "outputs_hidden": false
        },
        "nteract": {
          "transient": {
            "deleting": false
          }
        },
        "gather": {
          "logged": 1700122724857
        }
      }
    },
    {
      "cell_type": "code",
      "source": [
        "submissions_during_events.show(6)"
      ],
      "outputs": [
        {
          "output_type": "display_data",
          "data": {
            "application/vnd.livy.statement-meta+json": {
              "spark_pool": "3c67b279-1d53-4b7a-b0d9-41cb8b4b6723",
              "session_id": "28",
              "statement_id": 13,
              "state": "finished",
              "livy_statement_state": "available",
              "queued_time": "2023-11-16T08:13:21.7192039Z",
              "session_start_time": null,
              "execution_start_time": "2023-11-16T08:18:45.0028623Z",
              "execution_finish_time": "2023-11-16T08:18:53.0058846Z",
              "spark_jobs": {
                "numbers": {
                  "SUCCEEDED": 1,
                  "UNKNOWN": 0,
                  "FAILED": 0,
                  "RUNNING": 0
                },
                "jobs": [
                  {
                    "displayName": "showString at NativeMethodAccessorImpl.java:0",
                    "dataWritten": 0,
                    "dataRead": 17106068,
                    "rowCount": 3033,
                    "usageDescription": "",
                    "jobId": 6,
                    "name": "showString at NativeMethodAccessorImpl.java:0",
                    "description": "Job group for statement 13:\nsubmissions_during_events.show(6)",
                    "submissionTime": "2023-11-16T08:18:46.033GMT",
                    "completionTime": "2023-11-16T08:18:51.258GMT",
                    "stageIds": [
                      6
                    ],
                    "jobGroup": "13",
                    "status": "SUCCEEDED",
                    "numTasks": 1,
                    "numActiveTasks": 0,
                    "numCompletedTasks": 1,
                    "numSkippedTasks": 0,
                    "numFailedTasks": 0,
                    "numKilledTasks": 0,
                    "numCompletedIndices": 1,
                    "numActiveStages": 0,
                    "numCompletedStages": 1,
                    "numSkippedStages": 0,
                    "numFailedStages": 0,
                    "killedTasksSummary": {}
                  }
                ],
                "limit": 20,
                "rule": "ALL_DESC"
              },
              "parent_msg_id": "d40a6be3-7121-404a-8340-ce11f01891c6"
            },
            "text/plain": "StatementMeta(3c67b279-1d53-4b7a-b0d9-41cb8b4b6723, 28, 13, Finished, Available)"
          },
          "metadata": {}
        },
        {
          "output_type": "stream",
          "name": "stdout",
          "text": "+------------------+------------------+--------+------------------+--------------+----------------------+-----------------+---------+----------+------------+-------------------+----------------+---------------------+----------------+-------------+-------------+---------------+-------------+----------+---------+------+------+----------+--------+-------+---------+----------------+----------------------+-------+--------+--------------------+---------------+------+--------------------+--------------------+-------------+------------+--------------+-------------+-------+-----------------------+--------------------+------+------------+--------------------+--------+-----------+---------------------+------------+-------------------+-----+--------------------+--------------------+--------------------+-------+--------+-------------------+------------+--------------+--------------------+--------------------+----------------------+--------------------+----------------+---------------+--------------------+--------------------+----------------+----+-----+----------+----------+------------+-----------------+----------+------------+\n|adserver_click_url|adserver_imp_pixel|archived|            author|author_cakeday|author_flair_css_class|author_flair_text|author_id|brand_safe|contest_mode|        created_utc|crosspost_parent|crosspost_parent_list|disable_comments|distinguished|       domain|domain_override|       edited|embed_type|embed_url|gilded|hidden|hide_score|href_url|     id|imp_pixel|is_crosspostable|is_reddit_media_domain|is_self|is_video|link_flair_css_class|link_flair_text|locked|               media|         media_embed|mobile_ad_url|num_comments|num_crossposts|original_link|over_18|parent_whitelist_status|           permalink|pinned|   post_hint|             preview|promoted|promoted_by|promoted_display_name|promoted_url|       retrieved_on|score|        secure_media|  secure_media_embed|            selftext|spoiler|stickied|          subreddit|subreddit_id|suggested_sort|third_party_trackers|third_party_tracking|third_party_tracking_2|           thumbnail|thumbnail_height|thumbnail_width|               title|                 url|whitelist_status|year|month| post_date|  end_date|  event_name|             game|start_date|during_event|\n+------------------+------------------+--------+------------------+--------------+----------------------+-----------------+---------+----------+------------+-------------------+----------------+---------------------+----------------+-------------+-------------+---------------+-------------+----------+---------+------+------+----------+--------+-------+---------+----------------+----------------------+-------+--------+--------------------+---------------+------+--------------------+--------------------+-------------+------------+--------------+-------------+-------+-----------------------+--------------------+------+------------+--------------------+--------+-----------+---------------------+------------+-------------------+-----+--------------------+--------------------+--------------------+-------+--------+-------------------+------------+--------------+--------------------+--------------------+----------------------+--------------------+----------------+---------------+--------------------+--------------------+----------------+----+-----+----------+----------+------------+-----------------+----------+------------+\n|              null|              null|   false|         [deleted]|          null|                  null|             null|     null|      null|       false|2023-02-22 21:07:39|            null|                 null|            null|         null|             |           null|1.677100315E9|      null|     null|     0| false|     false|    null|119d6ps|     null|           false|                 false|   true|   false|                null|         Rule 5| false|                null|{null, null, null...|         null|           6|             0|         null|  false|                all_ads|/r/ValorantCompet...| false|        null|                null|    null|       null|                 null|        null|2023-03-08 23:24:03|    0|                null|{null, null, null...|           [removed]|  false|   false|ValorantCompetitive|   t5_2g5ach|          null|                null|                null|                  null|             default|            null|           null|A bit of overreac...|                    |         all_ads|2023|    2|2023-02-22|2023-04-19|Spring Split|League of Legends|2023-01-14|           1|\n|              null|              null|   false|          inuzuka4|          null|                  null|             null|     null|      null|       false|2023-02-22 21:08:08|            null|                 null|            null|         null|    v.redd.it|           null|        false|      null|     null|     0| false|     false|    null|119d7g2|     null|            true|                  true|  false|    true|                null|           null| false|{null, null, {htt...|{null, null, null...|         null|           2|             0|         null|  false|                all_ads|/r/leagueoflegend...| false|hosted:video|{false, [{-3vA7N4...|    null|       null|                 null|        null|2023-03-08 23:24:01|    0|  {null, null, null}|{null, null, null...|                    |  false|   false|    leagueoflegends|    t5_2rfxx|          null|                null|                null|                  null|https://a.thumbs....|              78|            140|Nerfed Yuumi? Wor...|https://v.redd.it...|         all_ads|2023|    2|2023-02-22|2023-04-19|Spring Split|League of Legends|2023-01-14|           1|\n|              null|              null|   false|   Status_Bet_8034|          null|                  null|             null|     null|      null|       false|2023-02-22 21:08:12|            null|                 null|            null|         null|self.VALORANT|           null|        false|      null|     null|     0| false|     false|    null|119d7ju|     null|            true|                 false|   true|   false|                    |            Art| false|                null|{null, null, null...|         null|           2|             0|         null|  false|                all_ads|/r/VALORANT/comme...| false|        null|                null|    null|       null|                 null|        null|2023-03-08 23:24:02|    2|                null|{null, null, null...|Got bored and so ...|  false|   false|           VALORANT|   t5_2dkvmc|          null|                null|                null|                  null|                self|            null|           null|       Killjoy Mains|https://www.reddi...|         all_ads|2023|    2|2023-02-22|2023-04-19|Spring Split|League of Legends|2023-01-14|           1|\n|              null|              null|   false|MajesticDoughnut10|          null|                  null|             null|     null|      null|       false|2023-02-22 21:09:03|            null|                 null|            null|         null|self.VALORANT|           null|        false|      null|     null|     0| false|     false|    null|119d8pd|     null|            true|                 false|   true|   false|                    |       Question| false|                null|{null, null, null...|         null|           1|             0|         null|  false|                all_ads|/r/VALORANT/comme...| false|        null|                null|    null|       null|                 null|        null|2023-03-08 23:24:00|    3|                null|{null, null, null...|Since the new wee...|  false|   false|           VALORANT|   t5_2dkvmc|          null|                null|                null|                  null|                self|            null|           null|Weekly's not addi...|https://www.reddi...|         all_ads|2023|    2|2023-02-22|2023-04-19|Spring Split|League of Legends|2023-01-14|           1|\n|              null|              null|   false|         nterature|          null|                  null|             null|     null|      null|       false|2023-02-22 21:09:15|            null|                 null|            null|         null|  youtube.com|           null|        false|      null|     null|     0| false|     false|    null|119d8z1|     null|            true|                 false|  false|   false|             esports|        Esports| false|{null, {Mothman, ...|{&lt;iframe width...|         null|           9|             0|         null|  false|                all_ads|/r/ValorantCompet...| false|  rich:video|{false, [{rwzLxn1...|    null|       null|                 null|        null|2023-03-08 23:24:00|   40|{null, {Mothman, ...|{&lt;iframe width...|                    |  false|   false|ValorantCompetitive|   t5_2g5ach|          null|                null|                null|                  null|https://b.thumbs....|             105|            140|VCT LOCK//IN: Tea...|https://www.youtu...|         all_ads|2023|    2|2023-02-22|2023-04-19|Spring Split|League of Legends|2023-01-14|           1|\n|              null|              null|   false|          corylulu|          null|                  null|    :nac9::koskt:|     null|      null|       false|2023-02-22 21:09:21|            null|                 null|            null|         null|  youtube.com|           null|        false|      null|     null|     0| false|     false|    null|119d93z|     null|            true|                 false|  false|   false|                null|           null| false|{null, {Travis Ga...|{&lt;iframe width...|         null|          49|             0|         null|  false|                all_ads|/r/leagueoflegend...| false|  rich:video|{false, [{HCPjPDf...|    null|       null|                 null|        null|2023-03-08 23:24:00|  139|{null, {Travis Ga...|{&lt;iframe width...|                    |  false|   false|    leagueoflegends|    t5_2rfxx|          null|                null|                null|                  null|https://b.thumbs....|             105|            140|Cloud9 BENCH Dipl...|https://www.youtu...|         all_ads|2023|    2|2023-02-22|2023-04-19|Spring Split|League of Legends|2023-01-14|           1|\n+------------------+------------------+--------+------------------+--------------+----------------------+-----------------+---------+----------+------------+-------------------+----------------+---------------------+----------------+-------------+-------------+---------------+-------------+----------+---------+------+------+----------+--------+-------+---------+----------------+----------------------+-------+--------+--------------------+---------------+------+--------------------+--------------------+-------------+------------+--------------+-------------+-------+-----------------------+--------------------+------+------------+--------------------+--------+-----------+---------------------+------------+-------------------+-----+--------------------+--------------------+--------------------+-------+--------+-------------------+------------+--------------+--------------------+--------------------+----------------------+--------------------+----------------+---------------+--------------------+--------------------+----------------+----+-----+----------+----------+------------+-----------------+----------+------------+\nonly showing top 6 rows\n\n"
        }
      ],
      "execution_count": 10,
      "metadata": {
        "jupyter": {
          "source_hidden": false,
          "outputs_hidden": false
        },
        "nteract": {
          "transient": {
            "deleting": false
          }
        },
        "gather": {
          "logged": 1700122733161
        }
      }
    },
    {
      "cell_type": "markdown",
      "source": [
        "## Perform Sentiment Analysis"
      ],
      "metadata": {
        "nteract": {
          "transient": {
            "deleting": false
          }
        }
      }
    },
    {
      "cell_type": "code",
      "source": [
        "import pandas as pd\n",
        "import numpy as np\n",
        "import json\n",
        "from pyspark.ml import Pipeline\n",
        "from pyspark.sql import SparkSession\n",
        "import pyspark.sql.functions as F\n",
        "import sparknlp\n",
        "from sparknlp.annotator import *\n",
        "from sparknlp.base import *\n",
        "from sparknlp.pretrained import PretrainedPipeline\n",
        "\n",
        "# Build the Spark NLP pipeline for sentiment analysis\n",
        "document_assembler = DocumentAssembler()\\\n",
        "    .setInputCol(\"selftext\")\\\n",
        "    .setOutputCol(\"document\")\n",
        "\n",
        "use = UniversalSentenceEncoder.pretrained(name=\"tfhub_use\", lang=\"en\")\\\n",
        "    .setInputCols([\"document\"])\\\n",
        "    .setOutputCol(\"sentence_embeddings\")\n",
        "\n",
        "sentimentdl = SentimentDLModel.pretrained(name=\"sentimentdl_use_twitter\", lang=\"en\")\\\n",
        "    .setInputCols([\"sentence_embeddings\"])\\\n",
        "    .setOutputCol(\"sentiment\")\n",
        "\n",
        "nlp_pipeline = Pipeline(\n",
        "    stages=[\n",
        "        document_assembler,\n",
        "        use,\n",
        "        sentimentdl\n",
        "    ]\n",
        ")\n"
      ],
      "outputs": [
        {
          "output_type": "display_data",
          "data": {
            "application/vnd.livy.statement-meta+json": {
              "spark_pool": "3c67b279-1d53-4b7a-b0d9-41cb8b4b6723",
              "session_id": "28",
              "statement_id": 14,
              "state": "finished",
              "livy_statement_state": "available",
              "queued_time": "2023-11-16T08:13:21.7595619Z",
              "session_start_time": null,
              "execution_start_time": "2023-11-16T08:18:53.1168159Z",
              "execution_finish_time": "2023-11-16T08:20:10.0709188Z",
              "spark_jobs": {
                "numbers": {
                  "SUCCEEDED": 4,
                  "UNKNOWN": 0,
                  "FAILED": 0,
                  "RUNNING": 0
                },
                "jobs": [
                  {
                    "displayName": "first at Feature.scala:182",
                    "dataWritten": 0,
                    "dataRead": 650,
                    "rowCount": 1,
                    "usageDescription": "",
                    "jobId": 10,
                    "name": "first at Feature.scala:182",
                    "description": "Job group for statement 14:\nimport pandas as pd\nimport numpy as np\nimport json\nfrom pyspark.ml import Pipeline\nfrom pyspark.sql import SparkSession\nimport pyspark.sql.functions as F\nimport sparknlp\nfrom sparknlp.annotator import *\nfrom sparknlp.base import *\nfrom sparknlp.pretrained import PretrainedPipeline\n\n# Build the Spark NLP pipeline for sentiment analysis\ndocument_assembler = DocumentAssembler()    .setInputCol(\"selftext\")    .setOutputCol(\"document\")\n\nuse = UniversalSentenceEncoder.pretrained(name=\"tfhub_use\", lang=\"en\")    .setInputCols([\"document\"])    .setOutputCol(\"sentence_embeddings\")\n\nsentimentdl = SentimentDLModel.pretrained(name=\"sentimentdl_use_twitter\", lang=\"en\")    .setInputCols([\"sentence_embeddings\"])    .setOutputCol(\"sentiment\")\n\nnlp_pipeline = Pipeline(\n    stages=[\n        document_assembler,\n        use,\n        sentimentdl\n    ]\n)\n",
                    "submissionTime": "2023-11-16T08:20:04.538GMT",
                    "completionTime": "2023-11-16T08:20:04.810GMT",
                    "stageIds": [
                      10
                    ],
                    "jobGroup": "14",
                    "status": "SUCCEEDED",
                    "numTasks": 4,
                    "numActiveTasks": 0,
                    "numCompletedTasks": 4,
                    "numSkippedTasks": 0,
                    "numFailedTasks": 0,
                    "numKilledTasks": 0,
                    "numCompletedIndices": 4,
                    "numActiveStages": 0,
                    "numCompletedStages": 1,
                    "numSkippedStages": 0,
                    "numFailedStages": 0,
                    "killedTasksSummary": {}
                  },
                  {
                    "displayName": "first at Feature.scala:182",
                    "dataWritten": 0,
                    "dataRead": 95,
                    "rowCount": 0,
                    "usageDescription": "",
                    "jobId": 9,
                    "name": "first at Feature.scala:182",
                    "description": "Job group for statement 14:\nimport pandas as pd\nimport numpy as np\nimport json\nfrom pyspark.ml import Pipeline\nfrom pyspark.sql import SparkSession\nimport pyspark.sql.functions as F\nimport sparknlp\nfrom sparknlp.annotator import *\nfrom sparknlp.base import *\nfrom sparknlp.pretrained import PretrainedPipeline\n\n# Build the Spark NLP pipeline for sentiment analysis\ndocument_assembler = DocumentAssembler()    .setInputCol(\"selftext\")    .setOutputCol(\"document\")\n\nuse = UniversalSentenceEncoder.pretrained(name=\"tfhub_use\", lang=\"en\")    .setInputCols([\"document\"])    .setOutputCol(\"sentence_embeddings\")\n\nsentimentdl = SentimentDLModel.pretrained(name=\"sentimentdl_use_twitter\", lang=\"en\")    .setInputCols([\"sentence_embeddings\"])    .setOutputCol(\"sentiment\")\n\nnlp_pipeline = Pipeline(\n    stages=[\n        document_assembler,\n        use,\n        sentimentdl\n    ]\n)\n",
                    "submissionTime": "2023-11-16T08:20:04.296GMT",
                    "completionTime": "2023-11-16T08:20:04.520GMT",
                    "stageIds": [
                      9
                    ],
                    "jobGroup": "14",
                    "status": "SUCCEEDED",
                    "numTasks": 1,
                    "numActiveTasks": 0,
                    "numCompletedTasks": 1,
                    "numSkippedTasks": 0,
                    "numFailedTasks": 0,
                    "numKilledTasks": 0,
                    "numCompletedIndices": 1,
                    "numActiveStages": 0,
                    "numCompletedStages": 1,
                    "numSkippedStages": 0,
                    "numFailedStages": 0,
                    "killedTasksSummary": {}
                  },
                  {
                    "displayName": "first at ReadWrite.scala:587",
                    "dataWritten": 0,
                    "dataRead": 463,
                    "rowCount": 1,
                    "usageDescription": "",
                    "jobId": 8,
                    "name": "first at ReadWrite.scala:587",
                    "description": "Job group for statement 14:\nimport pandas as pd\nimport numpy as np\nimport json\nfrom pyspark.ml import Pipeline\nfrom pyspark.sql import SparkSession\nimport pyspark.sql.functions as F\nimport sparknlp\nfrom sparknlp.annotator import *\nfrom sparknlp.base import *\nfrom sparknlp.pretrained import PretrainedPipeline\n\n# Build the Spark NLP pipeline for sentiment analysis\ndocument_assembler = DocumentAssembler()    .setInputCol(\"selftext\")    .setOutputCol(\"document\")\n\nuse = UniversalSentenceEncoder.pretrained(name=\"tfhub_use\", lang=\"en\")    .setInputCols([\"document\"])    .setOutputCol(\"sentence_embeddings\")\n\nsentimentdl = SentimentDLModel.pretrained(name=\"sentimentdl_use_twitter\", lang=\"en\")    .setInputCols([\"sentence_embeddings\"])    .setOutputCol(\"sentiment\")\n\nnlp_pipeline = Pipeline(\n    stages=[\n        document_assembler,\n        use,\n        sentimentdl\n    ]\n)\n",
                    "submissionTime": "2023-11-16T08:20:03.719GMT",
                    "completionTime": "2023-11-16T08:20:04.073GMT",
                    "stageIds": [
                      8
                    ],
                    "jobGroup": "14",
                    "status": "SUCCEEDED",
                    "numTasks": 1,
                    "numActiveTasks": 0,
                    "numCompletedTasks": 1,
                    "numSkippedTasks": 0,
                    "numFailedTasks": 0,
                    "numKilledTasks": 0,
                    "numCompletedIndices": 1,
                    "numActiveStages": 0,
                    "numCompletedStages": 1,
                    "numSkippedStages": 0,
                    "numFailedStages": 0,
                    "killedTasksSummary": {}
                  },
                  {
                    "displayName": "first at ReadWrite.scala:587",
                    "dataWritten": 0,
                    "dataRead": 346,
                    "rowCount": 1,
                    "usageDescription": "",
                    "jobId": 7,
                    "name": "first at ReadWrite.scala:587",
                    "description": "Job group for statement 14:\nimport pandas as pd\nimport numpy as np\nimport json\nfrom pyspark.ml import Pipeline\nfrom pyspark.sql import SparkSession\nimport pyspark.sql.functions as F\nimport sparknlp\nfrom sparknlp.annotator import *\nfrom sparknlp.base import *\nfrom sparknlp.pretrained import PretrainedPipeline\n\n# Build the Spark NLP pipeline for sentiment analysis\ndocument_assembler = DocumentAssembler()    .setInputCol(\"selftext\")    .setOutputCol(\"document\")\n\nuse = UniversalSentenceEncoder.pretrained(name=\"tfhub_use\", lang=\"en\")    .setInputCols([\"document\"])    .setOutputCol(\"sentence_embeddings\")\n\nsentimentdl = SentimentDLModel.pretrained(name=\"sentimentdl_use_twitter\", lang=\"en\")    .setInputCols([\"sentence_embeddings\"])    .setOutputCol(\"sentiment\")\n\nnlp_pipeline = Pipeline(\n    stages=[\n        document_assembler,\n        use,\n        sentimentdl\n    ]\n)\n",
                    "submissionTime": "2023-11-16T08:19:00.063GMT",
                    "completionTime": "2023-11-16T08:19:00.391GMT",
                    "stageIds": [
                      7
                    ],
                    "jobGroup": "14",
                    "status": "SUCCEEDED",
                    "numTasks": 1,
                    "numActiveTasks": 0,
                    "numCompletedTasks": 1,
                    "numSkippedTasks": 0,
                    "numFailedTasks": 0,
                    "numKilledTasks": 0,
                    "numCompletedIndices": 1,
                    "numActiveStages": 0,
                    "numCompletedStages": 1,
                    "numSkippedStages": 0,
                    "numFailedStages": 0,
                    "killedTasksSummary": {}
                  }
                ],
                "limit": 20,
                "rule": "ALL_DESC"
              },
              "parent_msg_id": "97188128-6e5b-4831-a98b-66a1b62ae38a"
            },
            "text/plain": "StatementMeta(3c67b279-1d53-4b7a-b0d9-41cb8b4b6723, 28, 14, Finished, Available)"
          },
          "metadata": {}
        },
        {
          "output_type": "stream",
          "name": "stdout",
          "text": "tfhub_use download started this may take some time.\nApproximate size to download 923.7 MB\n[OK!]\nsentimentdl_use_twitter download started this may take some time.\nApproximate size to download 11.4 MB\n[OK!]\n"
        }
      ],
      "execution_count": 11,
      "metadata": {
        "jupyter": {
          "source_hidden": false,
          "outputs_hidden": false
        },
        "nteract": {
          "transient": {
            "deleting": false
          }
        },
        "gather": {
          "logged": 1700122810201
        }
      }
    },
    {
      "cell_type": "code",
      "source": [
        "# Prepare the data for the sentiment model, selecting only necessary columns\n",
        "df_post = submissions_during_events.select(\n",
        "    col(\"subreddit\"),\n",
        "    col(\"selftext\"), \n",
        "    col(\"during_event\")\n",
        ").filter(length(col(\"selftext\")) > 0)\n",
        "\n",
        "# Fit and run the pipeline\n",
        "senti_model = nlp_pipeline.fit(df_post)\n",
        "senti_pred = senti_model.transform(df_post)\n",
        "\n",
        "# Extract sentiment results and count them\n",
        "df_senti = senti_pred.select(\n",
        "    \"subreddit\",\n",
        "    \"during_event\",\n",
        "    F.explode('sentiment.result').alias('sentiment')\n",
        ")\n",
        "df_senti_count = df_senti.groupBy(\"subreddit\", \"during_event\", \"sentiment\").count()\n"
      ],
      "outputs": [
        {
          "output_type": "display_data",
          "data": {
            "application/vnd.livy.statement-meta+json": {
              "spark_pool": "3c67b279-1d53-4b7a-b0d9-41cb8b4b6723",
              "session_id": "28",
              "statement_id": 15,
              "state": "finished",
              "livy_statement_state": "available",
              "queued_time": "2023-11-16T08:13:21.8189387Z",
              "session_start_time": null,
              "execution_start_time": "2023-11-16T08:20:10.1939993Z",
              "execution_finish_time": "2023-11-16T08:20:13.1728026Z",
              "spark_jobs": {
                "numbers": {
                  "SUCCEEDED": 0,
                  "UNKNOWN": 0,
                  "FAILED": 0,
                  "RUNNING": 0
                },
                "jobs": [],
                "limit": 20,
                "rule": "ALL_DESC"
              },
              "parent_msg_id": "cb38252c-f841-45a6-822b-1ed692e199af"
            },
            "text/plain": "StatementMeta(3c67b279-1d53-4b7a-b0d9-41cb8b4b6723, 28, 15, Finished, Available)"
          },
          "metadata": {}
        }
      ],
      "execution_count": 12,
      "metadata": {
        "jupyter": {
          "source_hidden": false,
          "outputs_hidden": false
        },
        "nteract": {
          "transient": {
            "deleting": false
          }
        },
        "gather": {
          "logged": 1700122813235
        }
      }
    },
    {
      "cell_type": "markdown",
      "source": [
        "## Visualization"
      ],
      "metadata": {
        "nteract": {
          "transient": {
            "deleting": false
          }
        }
      }
    },
    {
      "cell_type": "code",
      "source": [
        "# Convert the sentiment count DataFrame to Pandas for visualization\n",
        "df_senti_count_pd = df_senti_count.toPandas()"
      ],
      "outputs": [
        {
          "output_type": "display_data",
          "data": {
            "application/vnd.livy.statement-meta+json": {
              "spark_pool": "3c67b279-1d53-4b7a-b0d9-41cb8b4b6723",
              "session_id": "28",
              "statement_id": 18,
              "state": "finished",
              "livy_statement_state": "available",
              "queued_time": "2023-11-16T08:36:01.7996716Z",
              "session_start_time": null,
              "execution_start_time": "2023-11-16T08:36:01.9038638Z",
              "execution_finish_time": "2023-11-16T09:02:50.3890013Z",
              "spark_jobs": {
                "numbers": {
                  "SUCCEEDED": 2,
                  "UNKNOWN": 0,
                  "FAILED": 0,
                  "RUNNING": 0
                },
                "jobs": [
                  {
                    "displayName": "toPandas at /tmp/ipykernel_7875/1380609548.py:2",
                    "dataWritten": 0,
                    "dataRead": 7127000,
                    "rowCount": 74699,
                    "usageDescription": "",
                    "jobId": 15,
                    "name": "toPandas at /tmp/ipykernel_7875/1380609548.py:2",
                    "description": "Job group for statement 18:\n# Convert the sentiment count DataFrame to Pandas for visualization\ndf_senti_count_pd = df_senti_count.toPandas()",
                    "submissionTime": "2023-11-16T09:02:46.970GMT",
                    "completionTime": "2023-11-16T09:02:49.243GMT",
                    "stageIds": [
                      15,
                      16
                    ],
                    "jobGroup": "18",
                    "status": "SUCCEEDED",
                    "numTasks": 3086,
                    "numActiveTasks": 0,
                    "numCompletedTasks": 6,
                    "numSkippedTasks": 3080,
                    "numFailedTasks": 0,
                    "numKilledTasks": 0,
                    "numCompletedIndices": 6,
                    "numActiveStages": 0,
                    "numCompletedStages": 1,
                    "numSkippedStages": 1,
                    "numFailedStages": 0,
                    "killedTasksSummary": {}
                  },
                  {
                    "displayName": "toPandas at /tmp/ipykernel_7875/1380609548.py:2",
                    "dataWritten": 7127000,
                    "dataRead": 56908348900,
                    "rowCount": 892235520,
                    "usageDescription": "",
                    "jobId": 14,
                    "name": "toPandas at /tmp/ipykernel_7875/1380609548.py:2",
                    "description": "Job group for statement 18:\n# Convert the sentiment count DataFrame to Pandas for visualization\ndf_senti_count_pd = df_senti_count.toPandas()",
                    "submissionTime": "2023-11-16T08:36:03.571GMT",
                    "completionTime": "2023-11-16T09:02:46.749GMT",
                    "stageIds": [
                      14
                    ],
                    "jobGroup": "18",
                    "status": "SUCCEEDED",
                    "numTasks": 3080,
                    "numActiveTasks": 0,
                    "numCompletedTasks": 3080,
                    "numSkippedTasks": 0,
                    "numFailedTasks": 0,
                    "numKilledTasks": 0,
                    "numCompletedIndices": 3080,
                    "numActiveStages": 0,
                    "numCompletedStages": 1,
                    "numSkippedStages": 0,
                    "numFailedStages": 0,
                    "killedTasksSummary": {}
                  }
                ],
                "limit": 20,
                "rule": "ALL_DESC"
              },
              "parent_msg_id": "c8af2c2c-0a57-471d-a86e-1340adda95a2"
            },
            "text/plain": "StatementMeta(3c67b279-1d53-4b7a-b0d9-41cb8b4b6723, 28, 18, Finished, Available)"
          },
          "metadata": {}
        }
      ],
      "execution_count": 15,
      "metadata": {
        "jupyter": {
          "source_hidden": false,
          "outputs_hidden": false
        },
        "nteract": {
          "transient": {
            "deleting": false
          }
        },
        "gather": {
          "logged": 1700125370677
        }
      }
    },
    {
      "cell_type": "code",
      "source": [
        "df_senti_count_pd"
      ],
      "outputs": [
        {
          "output_type": "display_data",
          "data": {
            "application/vnd.livy.statement-meta+json": {
              "spark_pool": "3c67b279-1d53-4b7a-b0d9-41cb8b4b6723",
              "session_id": "28",
              "statement_id": 19,
              "state": "finished",
              "livy_statement_state": "available",
              "queued_time": "2023-11-16T08:37:00.2132369Z",
              "session_start_time": null,
              "execution_start_time": "2023-11-16T09:02:50.5069331Z",
              "execution_finish_time": "2023-11-16T09:02:51.525957Z",
              "spark_jobs": {
                "numbers": {
                  "SUCCEEDED": 0,
                  "UNKNOWN": 0,
                  "FAILED": 0,
                  "RUNNING": 0
                },
                "jobs": [],
                "limit": 20,
                "rule": "ALL_DESC"
              },
              "parent_msg_id": "dbfb9a1e-e1d4-464b-bacc-9caad82d8d1b"
            },
            "text/plain": "StatementMeta(3c67b279-1d53-4b7a-b0d9-41cb8b4b6723, 28, 19, Finished, Available)"
          },
          "metadata": {}
        },
        {
          "output_type": "execute_result",
          "execution_count": 37,
          "data": {
            "text/plain": "              subreddit  during_event sentiment   count\n0        summonerschool             1  positive    1932\n1         ValorantMemes             0  negative    1819\n2                 DotA2             1  positive   10489\n3                 DotA2             0  negative   80414\n4         ValorantMemes             1  negative     917\n5       leagueoflegends             1   neutral    1246\n6          AgentAcademy             1  positive     411\n7        summonerschool             0   neutral     178\n8            lolesports             0  negative     766\n9          AgentAcademy             1   neutral      38\n10        LeagueOfMemes             1   neutral     148\n11                DotA2             0  positive   20212\n12  ValorantCompetitive             0  negative   10501\n13       summonerschool             0  negative   33012\n14         AgentAcademy             0  negative    1468\n15  ValorantCompetitive             1   neutral     169\n16           lolesports             0  positive     292\n17           lolesports             0   neutral      38\n18      leagueoflegends             1  positive   17221\n19         AgentAcademy             1  negative    1347\n20      leagueoflegends             0  negative  219985\n21       summonerschool             1   neutral     105\n22        LeagueOfMemes             0  negative   12871\n23        LeagueOfMemes             0   neutral     755\n24         AgentAcademy             0  positive     426\n25       summonerschool             0  positive    4336\n26             VALORANT             1  positive    9707\n27      leagueoflegends             1  negative  107845\n28        LeagueOfMemes             0  positive     783\n29        ValorantMemes             0   neutral     316\n30      leagueoflegends             0   neutral    2715\n31                DotA2             1   neutral    1629\n32           lolesports             1  negative     379\n33             VALORANT             0  negative  173999\n34        LeagueOfMemes             1  negative    5819\n35             VALORANT             1   neutral     861\n36       summonerschool             1  negative   15392\n37  ValorantCompetitive             0  positive    4759\n38        ValorantMemes             1  positive     126\n39        ValorantMemes             0  positive     241\n40         AgentAcademy             0   neutral      42\n41             VALORANT             0   neutral    1988\n42      leagueoflegends             0  positive   35263\n43             VALORANT             0  positive   20417\n44             VALORANT             1  negative   84463\n45                DotA2             1  negative   41130\n46  ValorantCompetitive             1  negative    5703\n47  ValorantCompetitive             1  positive    3107\n48                DotA2             0   neutral    3345\n49           lolesports             1  positive     110\n50        ValorantMemes             1   neutral     126\n51           lolesports             1   neutral      11\n52  ValorantCompetitive             0   neutral     356\n53        LeagueOfMemes             1  positive     151",
            "text/html": "<div>\n<style scoped>\n    .dataframe tbody tr th:only-of-type {\n        vertical-align: middle;\n    }\n\n    .dataframe tbody tr th {\n        vertical-align: top;\n    }\n\n    .dataframe thead th {\n        text-align: right;\n    }\n</style>\n<table border=\"1\" class=\"dataframe\">\n  <thead>\n    <tr style=\"text-align: right;\">\n      <th></th>\n      <th>subreddit</th>\n      <th>during_event</th>\n      <th>sentiment</th>\n      <th>count</th>\n    </tr>\n  </thead>\n  <tbody>\n    <tr>\n      <th>0</th>\n      <td>summonerschool</td>\n      <td>1</td>\n      <td>positive</td>\n      <td>1932</td>\n    </tr>\n    <tr>\n      <th>1</th>\n      <td>ValorantMemes</td>\n      <td>0</td>\n      <td>negative</td>\n      <td>1819</td>\n    </tr>\n    <tr>\n      <th>2</th>\n      <td>DotA2</td>\n      <td>1</td>\n      <td>positive</td>\n      <td>10489</td>\n    </tr>\n    <tr>\n      <th>3</th>\n      <td>DotA2</td>\n      <td>0</td>\n      <td>negative</td>\n      <td>80414</td>\n    </tr>\n    <tr>\n      <th>4</th>\n      <td>ValorantMemes</td>\n      <td>1</td>\n      <td>negative</td>\n      <td>917</td>\n    </tr>\n    <tr>\n      <th>5</th>\n      <td>leagueoflegends</td>\n      <td>1</td>\n      <td>neutral</td>\n      <td>1246</td>\n    </tr>\n    <tr>\n      <th>6</th>\n      <td>AgentAcademy</td>\n      <td>1</td>\n      <td>positive</td>\n      <td>411</td>\n    </tr>\n    <tr>\n      <th>7</th>\n      <td>summonerschool</td>\n      <td>0</td>\n      <td>neutral</td>\n      <td>178</td>\n    </tr>\n    <tr>\n      <th>8</th>\n      <td>lolesports</td>\n      <td>0</td>\n      <td>negative</td>\n      <td>766</td>\n    </tr>\n    <tr>\n      <th>9</th>\n      <td>AgentAcademy</td>\n      <td>1</td>\n      <td>neutral</td>\n      <td>38</td>\n    </tr>\n    <tr>\n      <th>10</th>\n      <td>LeagueOfMemes</td>\n      <td>1</td>\n      <td>neutral</td>\n      <td>148</td>\n    </tr>\n    <tr>\n      <th>11</th>\n      <td>DotA2</td>\n      <td>0</td>\n      <td>positive</td>\n      <td>20212</td>\n    </tr>\n    <tr>\n      <th>12</th>\n      <td>ValorantCompetitive</td>\n      <td>0</td>\n      <td>negative</td>\n      <td>10501</td>\n    </tr>\n    <tr>\n      <th>13</th>\n      <td>summonerschool</td>\n      <td>0</td>\n      <td>negative</td>\n      <td>33012</td>\n    </tr>\n    <tr>\n      <th>14</th>\n      <td>AgentAcademy</td>\n      <td>0</td>\n      <td>negative</td>\n      <td>1468</td>\n    </tr>\n    <tr>\n      <th>15</th>\n      <td>ValorantCompetitive</td>\n      <td>1</td>\n      <td>neutral</td>\n      <td>169</td>\n    </tr>\n    <tr>\n      <th>16</th>\n      <td>lolesports</td>\n      <td>0</td>\n      <td>positive</td>\n      <td>292</td>\n    </tr>\n    <tr>\n      <th>17</th>\n      <td>lolesports</td>\n      <td>0</td>\n      <td>neutral</td>\n      <td>38</td>\n    </tr>\n    <tr>\n      <th>18</th>\n      <td>leagueoflegends</td>\n      <td>1</td>\n      <td>positive</td>\n      <td>17221</td>\n    </tr>\n    <tr>\n      <th>19</th>\n      <td>AgentAcademy</td>\n      <td>1</td>\n      <td>negative</td>\n      <td>1347</td>\n    </tr>\n    <tr>\n      <th>20</th>\n      <td>leagueoflegends</td>\n      <td>0</td>\n      <td>negative</td>\n      <td>219985</td>\n    </tr>\n    <tr>\n      <th>21</th>\n      <td>summonerschool</td>\n      <td>1</td>\n      <td>neutral</td>\n      <td>105</td>\n    </tr>\n    <tr>\n      <th>22</th>\n      <td>LeagueOfMemes</td>\n      <td>0</td>\n      <td>negative</td>\n      <td>12871</td>\n    </tr>\n    <tr>\n      <th>23</th>\n      <td>LeagueOfMemes</td>\n      <td>0</td>\n      <td>neutral</td>\n      <td>755</td>\n    </tr>\n    <tr>\n      <th>24</th>\n      <td>AgentAcademy</td>\n      <td>0</td>\n      <td>positive</td>\n      <td>426</td>\n    </tr>\n    <tr>\n      <th>25</th>\n      <td>summonerschool</td>\n      <td>0</td>\n      <td>positive</td>\n      <td>4336</td>\n    </tr>\n    <tr>\n      <th>26</th>\n      <td>VALORANT</td>\n      <td>1</td>\n      <td>positive</td>\n      <td>9707</td>\n    </tr>\n    <tr>\n      <th>27</th>\n      <td>leagueoflegends</td>\n      <td>1</td>\n      <td>negative</td>\n      <td>107845</td>\n    </tr>\n    <tr>\n      <th>28</th>\n      <td>LeagueOfMemes</td>\n      <td>0</td>\n      <td>positive</td>\n      <td>783</td>\n    </tr>\n    <tr>\n      <th>29</th>\n      <td>ValorantMemes</td>\n      <td>0</td>\n      <td>neutral</td>\n      <td>316</td>\n    </tr>\n    <tr>\n      <th>30</th>\n      <td>leagueoflegends</td>\n      <td>0</td>\n      <td>neutral</td>\n      <td>2715</td>\n    </tr>\n    <tr>\n      <th>31</th>\n      <td>DotA2</td>\n      <td>1</td>\n      <td>neutral</td>\n      <td>1629</td>\n    </tr>\n    <tr>\n      <th>32</th>\n      <td>lolesports</td>\n      <td>1</td>\n      <td>negative</td>\n      <td>379</td>\n    </tr>\n    <tr>\n      <th>33</th>\n      <td>VALORANT</td>\n      <td>0</td>\n      <td>negative</td>\n      <td>173999</td>\n    </tr>\n    <tr>\n      <th>34</th>\n      <td>LeagueOfMemes</td>\n      <td>1</td>\n      <td>negative</td>\n      <td>5819</td>\n    </tr>\n    <tr>\n      <th>35</th>\n      <td>VALORANT</td>\n      <td>1</td>\n      <td>neutral</td>\n      <td>861</td>\n    </tr>\n    <tr>\n      <th>36</th>\n      <td>summonerschool</td>\n      <td>1</td>\n      <td>negative</td>\n      <td>15392</td>\n    </tr>\n    <tr>\n      <th>37</th>\n      <td>ValorantCompetitive</td>\n      <td>0</td>\n      <td>positive</td>\n      <td>4759</td>\n    </tr>\n    <tr>\n      <th>38</th>\n      <td>ValorantMemes</td>\n      <td>1</td>\n      <td>positive</td>\n      <td>126</td>\n    </tr>\n    <tr>\n      <th>39</th>\n      <td>ValorantMemes</td>\n      <td>0</td>\n      <td>positive</td>\n      <td>241</td>\n    </tr>\n    <tr>\n      <th>40</th>\n      <td>AgentAcademy</td>\n      <td>0</td>\n      <td>neutral</td>\n      <td>42</td>\n    </tr>\n    <tr>\n      <th>41</th>\n      <td>VALORANT</td>\n      <td>0</td>\n      <td>neutral</td>\n      <td>1988</td>\n    </tr>\n    <tr>\n      <th>42</th>\n      <td>leagueoflegends</td>\n      <td>0</td>\n      <td>positive</td>\n      <td>35263</td>\n    </tr>\n    <tr>\n      <th>43</th>\n      <td>VALORANT</td>\n      <td>0</td>\n      <td>positive</td>\n      <td>20417</td>\n    </tr>\n    <tr>\n      <th>44</th>\n      <td>VALORANT</td>\n      <td>1</td>\n      <td>negative</td>\n      <td>84463</td>\n    </tr>\n    <tr>\n      <th>45</th>\n      <td>DotA2</td>\n      <td>1</td>\n      <td>negative</td>\n      <td>41130</td>\n    </tr>\n    <tr>\n      <th>46</th>\n      <td>ValorantCompetitive</td>\n      <td>1</td>\n      <td>negative</td>\n      <td>5703</td>\n    </tr>\n    <tr>\n      <th>47</th>\n      <td>ValorantCompetitive</td>\n      <td>1</td>\n      <td>positive</td>\n      <td>3107</td>\n    </tr>\n    <tr>\n      <th>48</th>\n      <td>DotA2</td>\n      <td>0</td>\n      <td>neutral</td>\n      <td>3345</td>\n    </tr>\n    <tr>\n      <th>49</th>\n      <td>lolesports</td>\n      <td>1</td>\n      <td>positive</td>\n      <td>110</td>\n    </tr>\n    <tr>\n      <th>50</th>\n      <td>ValorantMemes</td>\n      <td>1</td>\n      <td>neutral</td>\n      <td>126</td>\n    </tr>\n    <tr>\n      <th>51</th>\n      <td>lolesports</td>\n      <td>1</td>\n      <td>neutral</td>\n      <td>11</td>\n    </tr>\n    <tr>\n      <th>52</th>\n      <td>ValorantCompetitive</td>\n      <td>0</td>\n      <td>neutral</td>\n      <td>356</td>\n    </tr>\n    <tr>\n      <th>53</th>\n      <td>LeagueOfMemes</td>\n      <td>1</td>\n      <td>positive</td>\n      <td>151</td>\n    </tr>\n  </tbody>\n</table>\n</div>"
          },
          "metadata": {}
        }
      ],
      "execution_count": 16,
      "metadata": {
        "jupyter": {
          "source_hidden": false,
          "outputs_hidden": false
        },
        "nteract": {
          "transient": {
            "deleting": false
          }
        },
        "gather": {
          "logged": 1700125371622
        }
      }
    },
    {
      "cell_type": "code",
      "source": [
        "# Combine the counts of different subreddits based on the game type (League of Legends, Valorant, Dota 2)\n",
        "# Mapping of subreddits to their respective game types\n",
        "game_type_mapping = {\n",
        "    'summonerschool': 'League of Legends',\n",
        "    'leagueoflegends': 'League of Legends',\n",
        "    'LeagueOfMemes': 'League of Legends',\n",
        "    'lolesports': 'League of Legends',\n",
        "    'LeagueConnect': 'League of Legends',\n",
        "    'VALORANT': 'Valorant',\n",
        "    'ValorantCompetitive': 'Valorant',\n",
        "    'AgentAcademy': 'Valorant',\n",
        "    'ValorantMemes': 'Valorant',\n",
        "    'DotA2': 'Dota 2'\n",
        "}\n",
        "\n",
        "# Create a new column in the DataFrame for game type\n",
        "df_senti_count_pd['game_type'] = df_senti_count_pd['subreddit'].map(game_type_mapping)\n",
        "\n",
        "# Group by game type and sentiment, then combine counts\n",
        "grouped_df = df_senti_count_pd.groupby(['game_type', 'sentiment']).agg({'count': 'sum'}).reset_index()\n",
        "\n",
        "# Pivot the grouped data for better visualization\n",
        "pivot_df = grouped_df.pivot(index='game_type', columns='sentiment', values='count').fillna(0)\n",
        "\n",
        "# Analysis based on the combined data\n",
        "pivot_df['total'] = pivot_df.sum(axis=1)\n",
        "pivot_df['positive_ratio'] = pivot_df['positive'] / pivot_df['total']\n",
        "pivot_df['negative_ratio'] = pivot_df['negative'] / pivot_df['total']\n",
        "pivot_df['neutral_ratio'] = pivot_df['neutral'] / pivot_df['total']\n",
        "\n",
        "pivot_df[['positive_ratio', 'negative_ratio', 'neutral_ratio']]"
      ],
      "outputs": [
        {
          "output_type": "display_data",
          "data": {
            "application/vnd.livy.statement-meta+json": {
              "spark_pool": "3c67b279-1d53-4b7a-b0d9-41cb8b4b6723",
              "session_id": "28",
              "statement_id": 20,
              "state": "finished",
              "livy_statement_state": "available",
              "queued_time": "2023-11-16T09:02:31.543574Z",
              "session_start_time": null,
              "execution_start_time": "2023-11-16T09:02:51.6329977Z",
              "execution_finish_time": "2023-11-16T09:02:51.9246518Z",
              "spark_jobs": {
                "numbers": {
                  "SUCCEEDED": 0,
                  "UNKNOWN": 0,
                  "FAILED": 0,
                  "RUNNING": 0
                },
                "jobs": [],
                "limit": 20,
                "rule": "ALL_DESC"
              },
              "parent_msg_id": "be3a5dbc-06c5-458b-a318-4c30731c97b4"
            },
            "text/plain": "StatementMeta(3c67b279-1d53-4b7a-b0d9-41cb8b4b6723, 28, 20, Finished, Available)"
          },
          "metadata": {}
        },
        {
          "output_type": "execute_result",
          "execution_count": 39,
          "data": {
            "text/plain": "sentiment          positive_ratio  negative_ratio  neutral_ratio\ngame_type                                                       \nDota 2                   0.195275        0.773087       0.031637\nLeague of Legends        0.130243        0.858494       0.011263\nValorant                 0.121228        0.866721       0.012050",
            "text/html": "<div>\n<style scoped>\n    .dataframe tbody tr th:only-of-type {\n        vertical-align: middle;\n    }\n\n    .dataframe tbody tr th {\n        vertical-align: top;\n    }\n\n    .dataframe thead th {\n        text-align: right;\n    }\n</style>\n<table border=\"1\" class=\"dataframe\">\n  <thead>\n    <tr style=\"text-align: right;\">\n      <th>sentiment</th>\n      <th>positive_ratio</th>\n      <th>negative_ratio</th>\n      <th>neutral_ratio</th>\n    </tr>\n    <tr>\n      <th>game_type</th>\n      <th></th>\n      <th></th>\n      <th></th>\n    </tr>\n  </thead>\n  <tbody>\n    <tr>\n      <th>Dota 2</th>\n      <td>0.195275</td>\n      <td>0.773087</td>\n      <td>0.031637</td>\n    </tr>\n    <tr>\n      <th>League of Legends</th>\n      <td>0.130243</td>\n      <td>0.858494</td>\n      <td>0.011263</td>\n    </tr>\n    <tr>\n      <th>Valorant</th>\n      <td>0.121228</td>\n      <td>0.866721</td>\n      <td>0.012050</td>\n    </tr>\n  </tbody>\n</table>\n</div>"
          },
          "metadata": {}
        }
      ],
      "execution_count": 17,
      "metadata": {
        "jupyter": {
          "source_hidden": false,
          "outputs_hidden": false
        },
        "nteract": {
          "transient": {
            "deleting": false
          }
        },
        "gather": {
          "logged": 1700125372000
        }
      }
    },
    {
      "cell_type": "code",
      "source": [
        "import seaborn as sns\n",
        "import matplotlib.pyplot as plt\n",
        "\n",
        "# Set up the aesthetic style of the plots\n",
        "sns.set_palette(\"pastel\")\n",
        "\n",
        "# Create subplots for the visualizations\n",
        "fig, axes = plt.subplots(2, 2, figsize=(20, 15))\n",
        "axes = axes.flatten()  # Flatten the array for easy iteration\n",
        "plt.subplots_adjust(hspace=0.4, wspace=0.6)\n",
        "\n",
        "# Pie chart for overall sentiment distribution during and not during events\n",
        "overall_sentiment = df_senti_count_pd.groupby(['during_event', 'sentiment'])['count'].sum().reset_index()\n",
        "during_event_sentiment = overall_sentiment[overall_sentiment['during_event'] == 1]\n",
        "not_during_event_sentiment = overall_sentiment[overall_sentiment['during_event'] == 0]\n",
        "\n",
        "colors = ['#ff9999','#66b3ff','#99ff99','#ffcc99']\n",
        "during_event_sentiment.set_index('sentiment').plot.pie(\n",
        "    y='count', \n",
        "    autopct='%1.1f%%', \n",
        "    startangle=140, \n",
        "    ax=axes[0], \n",
        "    colors=colors,\n",
        "    legend=False\n",
        ")\n",
        "axes[0].set_ylabel('')\n",
        "axes[0].set_title('Sentiment During Events')\n",
        "\n",
        "not_during_event_sentiment.set_index('sentiment').plot.pie(\n",
        "    y='count', \n",
        "    autopct='%1.1f%%', \n",
        "    startangle=140, \n",
        "    ax=axes[1], \n",
        "    colors=colors,\n",
        "    legend=False\n",
        ")\n",
        "axes[1].set_ylabel('')\n",
        "axes[1].set_title('Sentiment Not During Events')\n",
        "\n",
        "# Bar chart for sentiment counts by game type, distinguished by during/not during events\n",
        "grouped_bar_data = df_senti_count_pd.groupby(['game_type', 'during_event', 'sentiment'])['count'].sum().unstack(fill_value=0).reset_index()\n",
        "grouped_bar_data['during_event'] = grouped_bar_data['during_event'].map({0: 'Not During Events', 1: 'During Events'})\n",
        "sns.barplot(\n",
        "    x='game_type', \n",
        "    y='count', \n",
        "    hue='during_event', \n",
        "    data=grouped_bar_data.melt(id_vars=['game_type', 'during_event'], var_name='sentiment', value_name='count'), \n",
        "    ax=axes[2],\n",
        "    ci=None  # No error bars\n",
        ")\n",
        "axes[2].set_title('Sentiment Counts by Game Type and Event Status')\n",
        "axes[2].set_xlabel('Game Type')\n",
        "axes[2].set_ylabel('Post Count')\n",
        "\n",
        "# Heatmap for sentiment by game type and event status\n",
        "heatmap_data = df_senti_count_pd.groupby(['game_type', 'during_event', 'sentiment'])['count'].sum().unstack(fill_value=0)\n",
        "heatmap_data.index = pd.MultiIndex.from_tuples([(i, 'During Events' if j == 1 else 'Not During Events') for i, j in heatmap_data.index], names=['Game Type', 'Event Status'])\n",
        "sns.heatmap(heatmap_data, annot=True, fmt='g', cmap='BuPu', ax=axes[3])\n",
        "axes[3].set_title('Heatmap of Sentiment by Game Type and Event Status')\n",
        "axes[3].set_xlabel('Sentiment')\n",
        "axes[3].set_ylabel('Game Type / Event Status')\n",
        "\n",
        "# Show all plots\n",
        "plt.show()\n",
        "\n",
        "# Save the plots\n",
        "plt.savefig('Users/nj417/fall-2023-reddit-project-team-11/img/esports_sentiment_analysis_plots.png')\n"
      ],
      "outputs": [
        {
          "output_type": "display_data",
          "data": {
            "application/vnd.livy.statement-meta+json": {
              "spark_pool": "3c67b279-1d53-4b7a-b0d9-41cb8b4b6723",
              "session_id": "28",
              "statement_id": 24,
              "state": "finished",
              "livy_statement_state": "available",
              "queued_time": "2023-11-16T09:04:52.7145614Z",
              "session_start_time": null,
              "execution_start_time": "2023-11-16T09:04:52.8823623Z",
              "execution_finish_time": "2023-11-16T09:04:54.3952911Z",
              "spark_jobs": {
                "numbers": {
                  "SUCCEEDED": 0,
                  "UNKNOWN": 0,
                  "FAILED": 0,
                  "RUNNING": 0
                },
                "jobs": [],
                "limit": 20,
                "rule": "ALL_DESC"
              },
              "parent_msg_id": "81b532e5-2678-4548-aece-2ee29229f2ce"
            },
            "text/plain": "StatementMeta(3c67b279-1d53-4b7a-b0d9-41cb8b4b6723, 28, 24, Finished, Available)"
          },
          "metadata": {}
        },
        {
          "output_type": "stream",
          "name": "stderr",
          "text": "/home/trusted-service-user/cluster-env/env/lib/python3.8/site-packages/pandas/plotting/_matplotlib/tools.py:400: MatplotlibDeprecationWarning: \nThe is_first_col function was deprecated in Matplotlib 3.4 and will be removed two minor releases later. Use ax.get_subplotspec().is_first_col() instead.\n  if ax.is_first_col():\n/home/trusted-service-user/cluster-env/env/lib/python3.8/site-packages/pandas/plotting/_matplotlib/tools.py:400: MatplotlibDeprecationWarning: \nThe is_first_col function was deprecated in Matplotlib 3.4 and will be removed two minor releases later. Use ax.get_subplotspec().is_first_col() instead.\n  if ax.is_first_col():\n"
        },
        {
          "output_type": "display_data",
          "data": {
            "text/plain": "<Figure size 1440x1080 with 5 Axes>",
            "image/png": "[encoded data removed]"
          },
          "metadata": {
            "needs_background": "light"
          }
        },
        {
          "output_type": "display_data",
          "data": {
            "text/plain": "<Figure size 432x288 with 0 Axes>"
          },
          "metadata": {}
        }
      ],
      "execution_count": 21,
      "metadata": {
        "jupyter": {
          "source_hidden": false,
          "outputs_hidden": false
        },
        "nteract": {
          "transient": {
            "deleting": false
          }
        },
        "gather": {
          "logged": 1700125494507
        }
      }
    },
    {
      "cell_type": "markdown",
      "source": [
        "Analysis:\n",
        "Sentiment During Events (Pie Chart): The pie chart provides a clear visual representation of sentiment proportions during events. Negative sentiment takes the largest share, indicating a trend towards critical discussions when events are happening.\n",
        "\n",
        "Sentiment Not During Events (Pie Chart): Similarly, the pie chart for periods not during events also shows that negative sentiments are prevalent, although the distribution is slightly different from the event period, suggesting a change in community behavior in response to events.\n",
        "\n",
        "Sentiment Counts by Game Type (Bar Chart): This bar chart presents a side-by-side comparison of sentiments for each game type, distinguishing between periods during and not during events. It's evident that negative sentiment is heightened during events for all game types, with Valorant showing the most significant increase.\n",
        "\n",
        "Heatmap of Sentiment by Game Type and Event Status: The heatmap offers a detailed breakdown of post counts by sentiment, game type, and event status. The darker shades represent higher post counts, with negative sentiment during events being particularly pronounced."
      ],
      "metadata": {
        "nteract": {
          "transient": {
            "deleting": false
          }
        }
      }
    },
    {
      "cell_type": "markdown",
      "source": [
        "## Save the Processed Data"
      ],
      "metadata": {
        "nteract": {
          "transient": {
            "deleting": false
          }
        }
      }
    },
    {
      "cell_type": "code",
      "source": [
        "workspace_default_storage_account = \"group11astorage9fbe30595\"\n",
        "workspace_default_container = \"azureml-blobstore-6f372cc8-8edb-4b30-ad9f-73d38eb592f4\"\n",
        "\n",
        "workspace_wasbs_base_url = (\n",
        "    f\"wasbs://{workspace_default_container}@{workspace_default_storage_account}.blob.core.windows.net/\")\n",
        "    \n",
        "\n",
        "# save\n",
        "senti_pred.write.mode(\"overwrite\").parquet(f\"{workspace_wasbs_base_url}Users/nj417/fall-2023-reddit-project-team-11/data/esports_sentiment_analysis.parquet\")"
      ],
      "outputs": [
        {
          "output_type": "display_data",
          "data": {
            "application/vnd.livy.statement-meta+json": {
              "spark_pool": "3c67b279-1d53-4b7a-b0d9-41cb8b4b6723",
              "session_id": "28",
              "statement_id": 25,
              "state": "finished",
              "livy_statement_state": "available",
              "queued_time": "2023-11-16T09:07:04.8298629Z",
              "session_start_time": null,
              "execution_start_time": "2023-11-16T09:07:04.9501253Z",
              "execution_finish_time": "2023-11-16T09:34:18.3301187Z",
              "spark_jobs": {
                "numbers": {
                  "SUCCEEDED": 1,
                  "UNKNOWN": 0,
                  "FAILED": 0,
                  "RUNNING": 0
                },
                "jobs": [
                  {
                    "displayName": "parquet at NativeMethodAccessorImpl.java:0",
                    "dataWritten": 1895209889,
                    "dataRead": 56908348900,
                    "rowCount": 893102700,
                    "usageDescription": "",
                    "jobId": 17,
                    "name": "parquet at NativeMethodAccessorImpl.java:0",
                    "description": "Job group for statement 25:\nworkspace_default_storage_account = \"group11astorage9fbe30595\"\nworkspace_default_container = \"azureml-blobstore-6f372cc8-8edb-4b30-ad9f-73d38eb592f4\"\n\nworkspace_wasbs_base_url = (\n    f\"wasbs://{workspace_default_container}@{workspace_default_storage_account}.blob.core.windows.net/\")\n    \n\n# save\nsenti_pred.write.mode(\"overwrite\").parquet(f\"{workspace_wasbs_base_url}Users/nj417/fall-2023-reddit-project-team-11/data/esports_sentiment_analysis.parquet\")",
                    "submissionTime": "2023-11-16T09:07:06.134GMT",
                    "completionTime": "2023-11-16T09:33:58.788GMT",
                    "stageIds": [
                      18
                    ],
                    "jobGroup": "25",
                    "status": "SUCCEEDED",
                    "numTasks": 3080,
                    "numActiveTasks": 0,
                    "numCompletedTasks": 3080,
                    "numSkippedTasks": 0,
                    "numFailedTasks": 0,
                    "numKilledTasks": 0,
                    "numCompletedIndices": 3080,
                    "numActiveStages": 0,
                    "numCompletedStages": 1,
                    "numSkippedStages": 0,
                    "numFailedStages": 0,
                    "killedTasksSummary": {}
                  }
                ],
                "limit": 20,
                "rule": "ALL_DESC"
              },
              "parent_msg_id": "f6da9dd1-1bea-4796-9321-260e37cc3331"
            },
            "text/plain": "StatementMeta(3c67b279-1d53-4b7a-b0d9-41cb8b4b6723, 28, 25, Finished, Available)"
          },
          "metadata": {}
        }
      ],
      "execution_count": 22,
      "metadata": {
        "jupyter": {
          "source_hidden": false,
          "outputs_hidden": false
        },
        "nteract": {
          "transient": {
            "deleting": false
          }
        },
        "gather": {
          "logged": 1700127258626
        }
      }
    },
    {
      "cell_type": "markdown",
      "source": [
        "## Report\n",
        "\n",
        "In this project, we embarked on a comprehensive data analysis to explore the impact of eSports events on the sentiment and engagement of players within related online communities (Reddit). Our approach was methodical and multifaceted, leveraging advanced data processing and natural language processing (NLP) capabilities provided by Spark and Spark NLP within an Azure environment.\n",
        "\n",
        "Initial Setup and Data Configuration:\n",
        "We began by configuring the Spark environment tailored for Azure's storage system to access the Reddit data. This involved setting up the SparkSession, including Spark NLP libraries and ensuring that the necessary configurations for accessing the blob storage were in place.\n",
        "\n",
        "Data Preparation:\n",
        "Subsequent to the setup, we focused on ingesting the Reddit submissions dataset, which was filtered to include posts from subreddits relevant to the eSports titles of interest, namely \"League of Legends,\" \"Valorant,\" and \"Dota 2.\" This filtering process was crucial to ensure the subsequent analysis would be relevant and targeted.\n",
        "\n",
        "Integration of eSports Events Data:\n",
        "To quantify the impact of eSports events, we created a DataFrame containing details of various significant events, including their names, dates, and associated games. This data was then integrated with the Reddit posts to flag those occurring during the events, enabling a focused analysis on the periods of interest.\n",
        "\n",
        "Sentiment Analysis:\n",
        "Leveraging Spark NLP's pre-trained models and pipelines, we performed sentiment analysis on the text of the posts. The model classified sentiments as positive, negative, or neutral, allowing us to gauge the community's mood and reactions.\n",
        "\n",
        "Engagement Analysis:\n",
        "In tandem with sentiment analysis, we quantified engagement by counting posts and comments, providing a measure of community activity. We particularly looked at variations in engagement during eSports events compared to other times.\n",
        "\n",
        "Visualization and Results Interpretation:\n",
        "With the data processed and sentiment analyzed, we visualized the results using Python's visualization libraries. These visualizations provided clear insights into sentiment distribution and engagement levels, highlighting the influence of eSports events on the community's online discourse.\n",
        "\n",
        "Data Output:\n",
        "Finally, we ensured the longevity and accessibility of our work by saving the transformed and analyzed data into Parquet files, a format ideal for efficient storage and retrieval. This facilitates future analyses or machine learning tasks without the need to re-process the initial data.\n",
        "\n",
        "Throughout the project, we maintained a focus on creating an adaptable and robust analysis pipeline that can provide meaningful insights into the eSports community's sentiment and engagement, all while ensuring the process was reproducible and efficient for potential scaling or extension to other datasets or research questions."
      ],
      "metadata": {
        "nteract": {
          "transient": {
            "deleting": false
          }
        }
      }
    },
    {
      "cell_type": "markdown",
      "source": [
        "## Executive Summary (Non-Technical):\n",
        "\n",
        "Our visual analysis paints a vivid picture: eSports events are a time of vibrant discussion within gaming communities. Negative sentiment, while dominant throughout, becomes even more pronounced during these competitive periods, reflecting the high stakes and emotional investment of fans and players. This insight is particularly striking for Valorant, where events seem to be a flashpoint for community expression.\n",
        "\n",
        "From a business perspective, these findings suggest a golden opportunity for engagement. Knowing that events stir up such strong feelings, game developers, and community managers can plan proactive strategies to channel this passion positively. Whether it’s through better support systems, engaging content, or interactive platforms, the goal is to enhance the experience of these events, turning moments of critical feedback into opportunities for growth and community building."
      ],
      "metadata": {
        "nteract": {
          "transient": {
            "deleting": false
          }
        }
      }
    }
  ],
  "metadata": {
    "kernelspec": {
      "name": "synapse_pyspark",
      "language": "Python",
      "display_name": "Synapse PySpark"
    },
    "language_info": {
      "name": "python",
      "version": "3.8.0",
      "mimetype": "text/x-python",
      "file_extension": ".py",
      "pygments_lexer": "ipython",
      "codemirror_mode": "ipython",
      "nbconvert_exporter": "python"
    },
    "microsoft": {
      "ms_spell_check": {
        "ms_spell_check_language": "en"
      },
      "host": {
        "AzureML": {
          "notebookHasBeenCompleted": true
        }
      }
    },
    "kernel_info": {
      "name": "synapse_pyspark"
    },
    "nteract": {
      "version": "nteract-front-end@1.0.0"
    }
  },
  "nbformat": 4,
  "nbformat_minor": 2
}