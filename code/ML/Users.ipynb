{
  "cells": [
    {
      "cell_type": "code",
      "execution_count": 1,
      "metadata": {
        "gather": {
          "logged": 1701116225982
        }
      },
      "outputs": [
        {
          "data": {
            "application/vnd.livy.statement-meta+json": {
              "execution_finish_time": "2023-11-27T20:17:06.3179777Z",
              "execution_start_time": "2023-11-27T20:17:03.3782193Z",
              "livy_statement_state": "available",
              "parent_msg_id": "6cea770d-d7bb-40e9-886f-73f3fa566b7d",
              "queued_time": "2023-11-27T20:13:27.2542668Z",
              "session_id": "60",
              "session_start_time": "2023-11-27T20:13:27.2922674Z",
              "spark_jobs": {
                "jobs": [],
                "limit": 20,
                "numbers": {
                  "FAILED": 0,
                  "RUNNING": 0,
                  "SUCCEEDED": 0,
                  "UNKNOWN": 0
                },
                "rule": "ALL_DESC"
              },
              "spark_pool": "3c67b279-1d53-4b7a-b0d9-41cb8b4b6723",
              "state": "finished",
              "statement_id": 6
            },
            "text/plain": [
              "StatementMeta(3c67b279-1d53-4b7a-b0d9-41cb8b4b6723, 60, 6, Finished, Available)"
            ]
          },
          "metadata": {},
          "output_type": "display_data"
        },
        {
          "data": {
            "text/html": [
              "\n",
              "            <div>\n",
              "                <p><b>SparkSession - hive</b></p>\n",
              "                \n",
              "        <div>\n",
              "            <p><b>SparkContext</b></p>\n",
              "\n",
              "            <p><a href=\"http://vm-17d34650:38357\">Spark UI</a></p>\n",
              "\n",
              "            <dl>\n",
              "              <dt>Version</dt>\n",
              "                <dd><code>v3.2.2.5.1-100879434</code></dd>\n",
              "              <dt>Master</dt>\n",
              "                <dd><code>yarn</code></dd>\n",
              "              <dt>AppName</dt>\n",
              "                <dd><code>Azure ML Experiment</code></dd>\n",
              "            </dl>\n",
              "        </div>\n",
              "        \n",
              "            </div>\n",
              "        "
            ],
            "text/plain": [
              "<pyspark.sql.session.SparkSession at 0x7fd72ac75970>"
            ]
          },
          "execution_count": 11,
          "metadata": {},
          "output_type": "execute_result"
        }
      ],
      "source": [
        "spark"
      ]
    },
    {
      "cell_type": "code",
      "execution_count": 2,
      "metadata": {
        "gather": {
          "logged": 1701116226681
        },
        "jupyter": {
          "outputs_hidden": false,
          "source_hidden": false
        },
        "nteract": {
          "transient": {
            "deleting": false
          }
        }
      },
      "outputs": [
        {
          "data": {
            "application/vnd.livy.statement-meta+json": {
              "execution_finish_time": "2023-11-27T20:17:07.2826508Z",
              "execution_start_time": "2023-11-27T20:17:06.4451706Z",
              "livy_statement_state": "available",
              "parent_msg_id": "7ce11c02-4ed5-4328-8a06-d7e60e2611e8",
              "queued_time": "2023-11-27T20:15:41.9633523Z",
              "session_id": "60",
              "session_start_time": null,
              "spark_jobs": {
                "jobs": [],
                "limit": 20,
                "numbers": {
                  "FAILED": 0,
                  "RUNNING": 0,
                  "SUCCEEDED": 0,
                  "UNKNOWN": 0
                },
                "rule": "ALL_DESC"
              },
              "spark_pool": "3c67b279-1d53-4b7a-b0d9-41cb8b4b6723",
              "state": "finished",
              "statement_id": 7
            },
            "text/plain": [
              "StatementMeta(3c67b279-1d53-4b7a-b0d9-41cb8b4b6723, 60, 7, Finished, Available)"
            ]
          },
          "metadata": {},
          "output_type": "display_data"
        }
      ],
      "source": [
        "# Set up data configuration\n",
        "blob_account_name = \"marckvnonprodblob\"\n",
        "blob_container_name = \"bigdata\"\n",
        "# read only\n",
        "blob_sas_token = \"?sv=2021-10-04&st=2023-10-04T01%3A42%3A59Z&se=2024-01-02T02%3A42%3A00Z&sr=c&sp=rlf&sig=w3CH9MbCOpwO7DtHlrahc7AlRPxSZZb8MOgS6TaXLzI%3D\"\n",
        "\n",
        "wasbs_base_url = (\n",
        "    f\"wasbs://{blob_container_name}@{blob_account_name}.blob.core.windows.net/\"\n",
        ")\n",
        "spark.conf.set(\n",
        "    f\"fs.azure.sas.{blob_container_name}.{blob_account_name}.blob.core.windows.net\",\n",
        "    blob_sas_token,\n",
        ")\n"
      ]
    },
    {
      "cell_type": "code",
      "execution_count": 3,
      "metadata": {
        "gather": {
          "logged": 1701116227087
        },
        "jupyter": {
          "outputs_hidden": false,
          "source_hidden": false
        },
        "nteract": {
          "transient": {
            "deleting": false
          }
        }
      },
      "outputs": [
        {
          "data": {
            "application/vnd.livy.statement-meta+json": {
              "execution_finish_time": "2023-11-27T20:17:07.6968734Z",
              "execution_start_time": "2023-11-27T20:17:07.3902953Z",
              "livy_statement_state": "available",
              "parent_msg_id": "171a0d4a-5260-4bc4-97f3-008bc7c69ca2",
              "queued_time": "2023-11-27T20:15:45.2692528Z",
              "session_id": "60",
              "session_start_time": null,
              "spark_jobs": {
                "jobs": [],
                "limit": 20,
                "numbers": {
                  "FAILED": 0,
                  "RUNNING": 0,
                  "SUCCEEDED": 0,
                  "UNKNOWN": 0
                },
                "rule": "ALL_DESC"
              },
              "spark_pool": "3c67b279-1d53-4b7a-b0d9-41cb8b4b6723",
              "state": "finished",
              "statement_id": 8
            },
            "text/plain": [
              "StatementMeta(3c67b279-1d53-4b7a-b0d9-41cb8b4b6723, 60, 8, Finished, Available)"
            ]
          },
          "metadata": {},
          "output_type": "display_data"
        }
      ],
      "source": [
        "# Read the whole Reddit data\n",
        "\n",
        "comments_path = \"reddit-parquet/comments/\"\n",
        "submissions_path = \"reddit-parquet/submissions/\""
      ]
    },
    {
      "cell_type": "code",
      "execution_count": 4,
      "metadata": {
        "gather": {
          "logged": 1701116266375
        },
        "jupyter": {
          "outputs_hidden": false,
          "source_hidden": false
        },
        "nteract": {
          "transient": {
            "deleting": false
          }
        }
      },
      "outputs": [
        {
          "data": {
            "application/vnd.livy.statement-meta+json": {
              "execution_finish_time": "2023-11-27T20:17:46.9224373Z",
              "execution_start_time": "2023-11-27T20:17:07.8670417Z",
              "livy_statement_state": "available",
              "parent_msg_id": "1107afee-4e60-4cd1-b432-865958c19d8b",
              "queued_time": "2023-11-27T20:15:46.5549018Z",
              "session_id": "60",
              "session_start_time": null,
              "spark_jobs": {
                "jobs": [
                  {
                    "completionTime": "2023-11-27T20:17:44.982GMT",
                    "dataRead": 0,
                    "dataWritten": 0,
                    "description": "Job group for statement 9:\ncomments_df = spark.read.parquet(f\"{wasbs_base_url}{comments_path}\")\nsubmissions_df = spark.read.parquet(f\"{wasbs_base_url}{submissions_path}\")",
                    "displayName": "parquet at NativeMethodAccessorImpl.java:0",
                    "jobGroup": "9",
                    "jobId": 1,
                    "killedTasksSummary": {},
                    "name": "parquet at NativeMethodAccessorImpl.java:0",
                    "numActiveStages": 0,
                    "numActiveTasks": 0,
                    "numCompletedIndices": 1,
                    "numCompletedStages": 1,
                    "numCompletedTasks": 1,
                    "numFailedStages": 0,
                    "numFailedTasks": 0,
                    "numKilledTasks": 0,
                    "numSkippedStages": 0,
                    "numSkippedTasks": 0,
                    "numTasks": 1,
                    "rowCount": 0,
                    "stageIds": [
                      1
                    ],
                    "status": "SUCCEEDED",
                    "submissionTime": "2023-11-27T20:17:40.239GMT",
                    "usageDescription": ""
                  },
                  {
                    "completionTime": "2023-11-27T20:17:32.693GMT",
                    "dataRead": 0,
                    "dataWritten": 0,
                    "description": "Job group for statement 9:\ncomments_df = spark.read.parquet(f\"{wasbs_base_url}{comments_path}\")\nsubmissions_df = spark.read.parquet(f\"{wasbs_base_url}{submissions_path}\")",
                    "displayName": "parquet at NativeMethodAccessorImpl.java:0",
                    "jobGroup": "9",
                    "jobId": 0,
                    "killedTasksSummary": {},
                    "name": "parquet at NativeMethodAccessorImpl.java:0",
                    "numActiveStages": 0,
                    "numActiveTasks": 0,
                    "numCompletedIndices": 1,
                    "numCompletedStages": 1,
                    "numCompletedTasks": 1,
                    "numFailedStages": 0,
                    "numFailedTasks": 0,
                    "numKilledTasks": 0,
                    "numSkippedStages": 0,
                    "numSkippedTasks": 0,
                    "numTasks": 1,
                    "rowCount": 0,
                    "stageIds": [
                      0
                    ],
                    "status": "SUCCEEDED",
                    "submissionTime": "2023-11-27T20:17:25.290GMT",
                    "usageDescription": ""
                  }
                ],
                "limit": 20,
                "numbers": {
                  "FAILED": 0,
                  "RUNNING": 0,
                  "SUCCEEDED": 2,
                  "UNKNOWN": 0
                },
                "rule": "ALL_DESC"
              },
              "spark_pool": "3c67b279-1d53-4b7a-b0d9-41cb8b4b6723",
              "state": "finished",
              "statement_id": 9
            },
            "text/plain": [
              "StatementMeta(3c67b279-1d53-4b7a-b0d9-41cb8b4b6723, 60, 9, Finished, Available)"
            ]
          },
          "metadata": {},
          "output_type": "display_data"
        }
      ],
      "source": [
        "comments_df = spark.read.parquet(f\"{wasbs_base_url}{comments_path}\")\n",
        "submissions_df = spark.read.parquet(f\"{wasbs_base_url}{submissions_path}\")"
      ]
    },
    {
      "cell_type": "code",
      "execution_count": 5,
      "metadata": {
        "gather": {
          "logged": 1701116268074
        },
        "jupyter": {
          "outputs_hidden": false,
          "source_hidden": false
        },
        "nteract": {
          "transient": {
            "deleting": false
          }
        }
      },
      "outputs": [
        {
          "data": {
            "application/vnd.livy.statement-meta+json": {
              "execution_finish_time": "2023-11-27T20:17:48.5836511Z",
              "execution_start_time": "2023-11-27T20:17:47.032785Z",
              "livy_statement_state": "available",
              "parent_msg_id": "a19e70b7-decb-4307-b1e3-b9aaa0c4dc8f",
              "queued_time": "2023-11-27T20:15:47.7638169Z",
              "session_id": "60",
              "session_start_time": null,
              "spark_jobs": {
                "jobs": [],
                "limit": 20,
                "numbers": {
                  "FAILED": 0,
                  "RUNNING": 0,
                  "SUCCEEDED": 0,
                  "UNKNOWN": 0
                },
                "rule": "ALL_DESC"
              },
              "spark_pool": "3c67b279-1d53-4b7a-b0d9-41cb8b4b6723",
              "state": "finished",
              "statement_id": 10
            },
            "text/plain": [
              "StatementMeta(3c67b279-1d53-4b7a-b0d9-41cb8b4b6723, 60, 10, Finished, Available)"
            ]
          },
          "metadata": {},
          "output_type": "display_data"
        },
        {
          "data": {
            "text/plain": [
              "3080"
            ]
          },
          "execution_count": 19,
          "metadata": {},
          "output_type": "execute_result"
        }
      ],
      "source": [
        "submissions_df.rdd.getNumPartitions()"
      ]
    },
    {
      "cell_type": "code",
      "execution_count": 6,
      "metadata": {
        "gather": {
          "logged": 1701116269008
        },
        "jupyter": {
          "outputs_hidden": false,
          "source_hidden": false
        },
        "nteract": {
          "transient": {
            "deleting": false
          }
        }
      },
      "outputs": [
        {
          "data": {
            "application/vnd.livy.statement-meta+json": {
              "execution_finish_time": "2023-11-27T20:17:49.5838621Z",
              "execution_start_time": "2023-11-27T20:17:48.7632634Z",
              "livy_statement_state": "available",
              "parent_msg_id": "69de132a-750e-484c-af33-eae80377b629",
              "queued_time": "2023-11-27T20:15:48.9997356Z",
              "session_id": "60",
              "session_start_time": null,
              "spark_jobs": {
                "jobs": [],
                "limit": 20,
                "numbers": {
                  "FAILED": 0,
                  "RUNNING": 0,
                  "SUCCEEDED": 0,
                  "UNKNOWN": 0
                },
                "rule": "ALL_DESC"
              },
              "spark_pool": "3c67b279-1d53-4b7a-b0d9-41cb8b4b6723",
              "state": "finished",
              "statement_id": 11
            },
            "text/plain": [
              "StatementMeta(3c67b279-1d53-4b7a-b0d9-41cb8b4b6723, 60, 11, Finished, Available)"
            ]
          },
          "metadata": {},
          "output_type": "display_data"
        }
      ],
      "source": [
        "from pyspark.sql.functions import col, asc,desc\n",
        "submissions_filtered = submissions_df.filter(col(\"subreddit\").isin([\"Minecraft\", \"Eldenring\",\"Genshin_Impact\",\"pokemongo\",\"RocketLeagueExchange\",\"VALORANT\",\"DestinyTheGame\",\"CallOfDutyMobile\",\"FIFA\",\"pokemon\"]))"
      ]
    },
    {
      "cell_type": "code",
      "execution_count": 7,
      "metadata": {
        "gather": {
          "logged": 1701116275554
        },
        "jupyter": {
          "outputs_hidden": false,
          "source_hidden": false
        },
        "nteract": {
          "transient": {
            "deleting": false
          }
        }
      },
      "outputs": [
        {
          "data": {
            "application/vnd.livy.statement-meta+json": {
              "execution_finish_time": "2023-11-27T20:17:56.1178176Z",
              "execution_start_time": "2023-11-27T20:17:49.6982506Z",
              "livy_statement_state": "available",
              "parent_msg_id": "93570b6e-da03-47c7-9c26-41e5195440e6",
              "queued_time": "2023-11-27T20:15:50.3157976Z",
              "session_id": "60",
              "session_start_time": null,
              "spark_jobs": {
                "jobs": [
                  {
                    "completionTime": "2023-11-27T20:17:54.594GMT",
                    "dataRead": 9194465,
                    "dataWritten": 0,
                    "description": "Job group for statement 12:\n# display a subset of columns\nsubmissions_filtered.select(\"subreddit\", \"author\", \"title\", \"selftext\", \"num_comments\", \"score\").show()",
                    "displayName": "showString at NativeMethodAccessorImpl.java:0",
                    "jobGroup": "12",
                    "jobId": 2,
                    "killedTasksSummary": {},
                    "name": "showString at NativeMethodAccessorImpl.java:0",
                    "numActiveStages": 0,
                    "numActiveTasks": 0,
                    "numCompletedIndices": 1,
                    "numCompletedStages": 1,
                    "numCompletedTasks": 1,
                    "numFailedStages": 0,
                    "numFailedTasks": 0,
                    "numKilledTasks": 0,
                    "numSkippedStages": 0,
                    "numSkippedTasks": 0,
                    "numTasks": 1,
                    "rowCount": 8192,
                    "stageIds": [
                      2
                    ],
                    "status": "SUCCEEDED",
                    "submissionTime": "2023-11-27T20:17:51.081GMT",
                    "usageDescription": ""
                  }
                ],
                "limit": 20,
                "numbers": {
                  "FAILED": 0,
                  "RUNNING": 0,
                  "SUCCEEDED": 1,
                  "UNKNOWN": 0
                },
                "rule": "ALL_DESC"
              },
              "spark_pool": "3c67b279-1d53-4b7a-b0d9-41cb8b4b6723",
              "state": "finished",
              "statement_id": 12
            },
            "text/plain": [
              "StatementMeta(3c67b279-1d53-4b7a-b0d9-41cb8b4b6723, 60, 12, Finished, Available)"
            ]
          },
          "metadata": {},
          "output_type": "display_data"
        },
        {
          "name": "stdout",
          "output_type": "stream",
          "text": [
            "+--------------------+--------------------+--------------------+--------------------+------------+-----+\n",
            "|           subreddit|              author|               title|            selftext|num_comments|score|\n",
            "+--------------------+--------------------+--------------------+--------------------+------------+-----+\n",
            "|                FIFA|       Robert-Fulton|if you every get ...|                    |          12|    0|\n",
            "|           Minecraft|          Dogeisagod|     Texting a house|So I’m building a...|           3|    1|\n",
            "|            VALORANT|     Status_Bet_8034|       Killjoy Mains|Got bored and so ...|           2|    2|\n",
            "|           Minecraft|         Age_Natural|Trident skeleton ...|                    |           3|    3|\n",
            "|             pokemon|     OneWhoGetsBread|the PokemonTogeth...|So several days a...|           0|    6|\n",
            "|            VALORANT|  MajesticDoughnut10|Weekly's not addi...|Since the new wee...|           1|    3|\n",
            "|                FIFA|           [deleted]|should i select o...|           [removed]|           0|    1|\n",
            "|RocketLeagueExchange|           [deleted]|[Xbox] [H] Bundle...|           [deleted]|           0|    1|\n",
            "|            VALORANT|  EditorValuable5514|did they add to r...|                    |           1|    1|\n",
            "|           pokemongo|RecentIntroduction32|Why the hell are ...|                    |           7|    0|\n",
            "|      DestinyTheGame|          13zerocool|Why are hunters s...|           [removed]|           0|    1|\n",
            "|           Eldenring|           [deleted]|A Collection of u...|           [removed]|           0|    1|\n",
            "|           Eldenring|      kylanskribbles|What is going on??!!|                    |           1|    2|\n",
            "|           Minecraft|       elicrodriguez|1.19.4 Pre-releas...|I’m pretty upset ...|           2|    1|\n",
            "|           pokemongo|         Ben_In_Utah|Got a Rayquaza on...|           [removed]|           0|    1|\n",
            "|           Eldenring|            2voluted|Malenia nerfed/ch...|I haven't seen an...|           4|    0|\n",
            "|                FIFA|              vdmg17| Team of the week 17|                    |           0|    1|\n",
            "|RocketLeagueExchange|            Gloctane|[xbox] [h] OG Tac...|                    |           5|    3|\n",
            "|            VALORANT|           Cryptanic|I love the matchm...|                    |           1|    1|\n",
            "|           pokemongo|        MrVioleGrace|Is there an event...|                    |           6|    0|\n",
            "+--------------------+--------------------+--------------------+--------------------+------------+-----+\n",
            "only showing top 20 rows\n",
            "\n"
          ]
        }
      ],
      "source": [
        "# display a subset of columns\n",
        "submissions_filtered.select(\"subreddit\", \"author\", \"title\", \"selftext\", \"num_comments\", \"score\").show()"
      ]
    },
    {
      "cell_type": "code",
      "execution_count": 12,
      "metadata": {
        "gather": {
          "logged": 1701116368926
        },
        "jupyter": {
          "outputs_hidden": false,
          "source_hidden": false
        },
        "nteract": {
          "transient": {
            "deleting": false
          }
        }
      },
      "outputs": [
        {
          "data": {
            "application/vnd.livy.statement-meta+json": {
              "execution_finish_time": "2023-11-27T20:19:29.5031982Z",
              "execution_start_time": "2023-11-27T20:19:29.1897875Z",
              "livy_statement_state": "available",
              "parent_msg_id": "7e20ceb1-766f-4757-b76e-3306919e07f4",
              "queued_time": "2023-11-27T20:19:29.0754859Z",
              "session_id": "60",
              "session_start_time": null,
              "spark_jobs": {
                "jobs": [],
                "limit": 20,
                "numbers": {
                  "FAILED": 0,
                  "RUNNING": 0,
                  "SUCCEEDED": 0,
                  "UNKNOWN": 0
                },
                "rule": "ALL_DESC"
              },
              "spark_pool": "3c67b279-1d53-4b7a-b0d9-41cb8b4b6723",
              "state": "finished",
              "statement_id": 17
            },
            "text/plain": [
              "StatementMeta(3c67b279-1d53-4b7a-b0d9-41cb8b4b6723, 60, 17, Finished, Available)"
            ]
          },
          "metadata": {},
          "output_type": "display_data"
        }
      ],
      "source": [
        "df_use = submissions_filtered.select(\"subreddit\", \"author\", \"title\", \"selftext\", \"num_comments\", \"score\").cache()"
      ]
    },
    {
      "cell_type": "code",
      "execution_count": 22,
      "metadata": {
        "gather": {
          "logged": 1701116782458
        },
        "jupyter": {
          "outputs_hidden": false,
          "source_hidden": false
        },
        "nteract": {
          "transient": {
            "deleting": false
          }
        }
      },
      "outputs": [
        {
          "data": {
            "application/vnd.livy.statement-meta+json": {
              "execution_finish_time": "2023-11-27T20:26:23.0339304Z",
              "execution_start_time": "2023-11-27T20:26:22.2155626Z",
              "livy_statement_state": "available",
              "parent_msg_id": "9f27481f-860b-4419-9d95-1ccbac319487",
              "queued_time": "2023-11-27T20:26:22.1208979Z",
              "session_id": "60",
              "session_start_time": null,
              "spark_jobs": {
                "jobs": [
                  {
                    "completionTime": "2023-11-27T20:26:22.442GMT",
                    "dataRead": 209848,
                    "dataWritten": 0,
                    "description": "Job group for statement 27:\ndf_use.show(5)",
                    "displayName": "showString at NativeMethodAccessorImpl.java:0",
                    "jobGroup": "27",
                    "jobId": 4,
                    "killedTasksSummary": {},
                    "name": "showString at NativeMethodAccessorImpl.java:0",
                    "numActiveStages": 0,
                    "numActiveTasks": 0,
                    "numCompletedIndices": 1,
                    "numCompletedStages": 1,
                    "numCompletedTasks": 1,
                    "numFailedStages": 0,
                    "numFailedTasks": 0,
                    "numKilledTasks": 0,
                    "numSkippedStages": 0,
                    "numSkippedTasks": 0,
                    "numTasks": 1,
                    "rowCount": 1,
                    "stageIds": [
                      4
                    ],
                    "status": "SUCCEEDED",
                    "submissionTime": "2023-11-27T20:26:22.339GMT",
                    "usageDescription": ""
                  }
                ],
                "limit": 20,
                "numbers": {
                  "FAILED": 0,
                  "RUNNING": 0,
                  "SUCCEEDED": 1,
                  "UNKNOWN": 0
                },
                "rule": "ALL_DESC"
              },
              "spark_pool": "3c67b279-1d53-4b7a-b0d9-41cb8b4b6723",
              "state": "finished",
              "statement_id": 27
            },
            "text/plain": [
              "StatementMeta(3c67b279-1d53-4b7a-b0d9-41cb8b4b6723, 60, 27, Finished, Available)"
            ]
          },
          "metadata": {},
          "output_type": "display_data"
        },
        {
          "name": "stdout",
          "output_type": "stream",
          "text": [
            "+---------+---------------+--------------------+--------------------+------------+-----+\n",
            "|subreddit|         author|               title|            selftext|num_comments|score|\n",
            "+---------+---------------+--------------------+--------------------+------------+-----+\n",
            "|     FIFA|  Robert-Fulton|if you every get ...|                    |          12|    0|\n",
            "|Minecraft|     Dogeisagod|     Texting a house|So I’m building a...|           3|    1|\n",
            "| VALORANT|Status_Bet_8034|       Killjoy Mains|Got bored and so ...|           2|    2|\n",
            "|Minecraft|    Age_Natural|Trident skeleton ...|                    |           3|    3|\n",
            "|  pokemon|OneWhoGetsBread|the PokemonTogeth...|So several days a...|           0|    6|\n",
            "+---------+---------------+--------------------+--------------------+------------+-----+\n",
            "only showing top 5 rows\n",
            "\n"
          ]
        }
      ],
      "source": [
        "df_use.show(5)"
      ]
    },
    {
      "cell_type": "code",
      "execution_count": 20,
      "metadata": {
        "gather": {
          "logged": 1701116773208
        },
        "jupyter": {
          "outputs_hidden": false,
          "source_hidden": false
        },
        "nteract": {
          "transient": {
            "deleting": false
          }
        }
      },
      "outputs": [
        {
          "data": {
            "application/vnd.livy.statement-meta+json": {
              "execution_finish_time": "2023-11-27T20:26:13.8033501Z",
              "execution_start_time": "2023-11-27T20:26:13.5066275Z",
              "livy_statement_state": "available",
              "parent_msg_id": "7bf3ce80-9cd2-4636-8e14-13b07f0c3006",
              "queued_time": "2023-11-27T20:26:13.3867448Z",
              "session_id": "60",
              "session_start_time": null,
              "spark_jobs": {
                "jobs": [],
                "limit": 20,
                "numbers": {
                  "FAILED": 0,
                  "RUNNING": 0,
                  "SUCCEEDED": 0,
                  "UNKNOWN": 0
                },
                "rule": "ALL_DESC"
              },
              "spark_pool": "3c67b279-1d53-4b7a-b0d9-41cb8b4b6723",
              "state": "finished",
              "statement_id": 25
            },
            "text/plain": [
              "StatementMeta(3c67b279-1d53-4b7a-b0d9-41cb8b4b6723, 60, 25, Finished, Available)"
            ]
          },
          "metadata": {},
          "output_type": "display_data"
        }
      ],
      "source": [
        "from pyspark.sql.functions import col"
      ]
    },
    {
      "cell_type": "code",
      "execution_count": 31,
      "metadata": {
        "gather": {
          "logged": 1701117630437
        },
        "jupyter": {
          "outputs_hidden": false,
          "source_hidden": false
        },
        "nteract": {
          "transient": {
            "deleting": false
          }
        }
      },
      "outputs": [
        {
          "data": {
            "application/vnd.livy.statement-meta+json": {
              "execution_finish_time": "2023-11-27T20:40:31.0174043Z",
              "execution_start_time": "2023-11-27T20:40:30.7286807Z",
              "livy_statement_state": "available",
              "parent_msg_id": "dbe4efbe-1a26-4254-b915-6268594c61aa",
              "queued_time": "2023-11-27T20:40:30.6249225Z",
              "session_id": "60",
              "session_start_time": null,
              "spark_jobs": {
                "jobs": [],
                "limit": 20,
                "numbers": {
                  "FAILED": 0,
                  "RUNNING": 0,
                  "SUCCEEDED": 0,
                  "UNKNOWN": 0
                },
                "rule": "ALL_DESC"
              },
              "spark_pool": "3c67b279-1d53-4b7a-b0d9-41cb8b4b6723",
              "state": "finished",
              "statement_id": 36
            },
            "text/plain": [
              "StatementMeta(3c67b279-1d53-4b7a-b0d9-41cb8b4b6723, 60, 36, Finished, Available)"
            ]
          },
          "metadata": {},
          "output_type": "display_data"
        }
      ],
      "source": [
        "from pyspark.sql.functions import (count,sum)"
      ]
    },
    {
      "cell_type": "code",
      "execution_count": 33,
      "metadata": {
        "gather": {
          "logged": 1701119169950
        },
        "jupyter": {
          "outputs_hidden": false,
          "source_hidden": false
        },
        "nteract": {
          "transient": {
            "deleting": false
          }
        }
      },
      "outputs": [
        {
          "data": {
            "application/vnd.livy.statement-meta+json": {
              "execution_finish_time": "2023-11-27T21:06:10.2434255Z",
              "execution_start_time": "2023-11-27T20:41:47.1879679Z",
              "livy_statement_state": "available",
              "parent_msg_id": "5a8ef375-242a-42b5-9e2d-7beea781c162",
              "queued_time": "2023-11-27T20:41:47.0797103Z",
              "session_id": "60",
              "session_start_time": null,
              "spark_jobs": {
                "jobs": [
                  {
                    "completionTime": "2023-11-27T21:06:09.429GMT",
                    "dataRead": 17551341,
                    "dataWritten": 0,
                    "description": "Job group for statement 38:\n# Group by 'author' and perform the required aggregations\nresult_df = df_use.groupBy(col(\"author\"))     .agg(\n        col(\"author\"),\n        count(\"author\").alias(\"num_posts\"),\n        sum(\"num_comments\").alias(\"total_num_comments\"),\n        sum(\"score\").alias(\"total_score\")\n    )\n\n# Show the result DataFrame\nresult_df.show()",
                    "displayName": "showString at NativeMethodAccessorImpl.java:0",
                    "jobGroup": "38",
                    "jobId": 7,
                    "killedTasksSummary": {},
                    "name": "showString at NativeMethodAccessorImpl.java:0",
                    "numActiveStages": 0,
                    "numActiveTasks": 0,
                    "numCompletedIndices": 1,
                    "numCompletedStages": 1,
                    "numCompletedTasks": 1,
                    "numFailedStages": 0,
                    "numFailedTasks": 0,
                    "numKilledTasks": 0,
                    "numSkippedStages": 1,
                    "numSkippedTasks": 3080,
                    "numTasks": 3081,
                    "rowCount": 442327,
                    "stageIds": [
                      7,
                      8
                    ],
                    "status": "SUCCEEDED",
                    "submissionTime": "2023-11-27T21:06:08.116GMT",
                    "usageDescription": ""
                  },
                  {
                    "completionTime": "2023-11-27T21:06:07.463GMT",
                    "dataRead": 85204292931,
                    "dataWritten": 145409301,
                    "description": "Job group for statement 38:\n# Group by 'author' and perform the required aggregations\nresult_df = df_use.groupBy(col(\"author\"))     .agg(\n        col(\"author\"),\n        count(\"author\").alias(\"num_posts\"),\n        sum(\"num_comments\").alias(\"total_num_comments\"),\n        sum(\"score\").alias(\"total_score\")\n    )\n\n# Show the result DataFrame\nresult_df.show()",
                    "displayName": "showString at NativeMethodAccessorImpl.java:0",
                    "jobGroup": "38",
                    "jobId": 6,
                    "killedTasksSummary": {},
                    "name": "showString at NativeMethodAccessorImpl.java:0",
                    "numActiveStages": 0,
                    "numActiveTasks": 0,
                    "numCompletedIndices": 3080,
                    "numCompletedStages": 1,
                    "numCompletedTasks": 3080,
                    "numFailedStages": 0,
                    "numFailedTasks": 0,
                    "numKilledTasks": 0,
                    "numSkippedStages": 0,
                    "numSkippedTasks": 0,
                    "numTasks": 3080,
                    "rowCount": 894571262,
                    "stageIds": [
                      6
                    ],
                    "status": "SUCCEEDED",
                    "submissionTime": "2023-11-27T20:41:47.482GMT",
                    "usageDescription": ""
                  }
                ],
                "limit": 20,
                "numbers": {
                  "FAILED": 0,
                  "RUNNING": 0,
                  "SUCCEEDED": 2,
                  "UNKNOWN": 0
                },
                "rule": "ALL_DESC"
              },
              "spark_pool": "3c67b279-1d53-4b7a-b0d9-41cb8b4b6723",
              "state": "finished",
              "statement_id": 38
            },
            "text/plain": [
              "StatementMeta(3c67b279-1d53-4b7a-b0d9-41cb8b4b6723, 60, 38, Finished, Available)"
            ]
          },
          "metadata": {},
          "output_type": "display_data"
        },
        {
          "name": "stdout",
          "output_type": "stream",
          "text": [
            "+--------------------+--------------------+---------+------------------+-----------+\n",
            "|              author|              author|num_posts|total_num_comments|total_score|\n",
            "+--------------------+--------------------+---------+------------------+-----------+\n",
            "|            TheSkoko|            TheSkoko|        1|                14|          0|\n",
            "|  TheGreatDarkPriest|  TheGreatDarkPriest|       39|               353|       4479|\n",
            "|          alastrasix|          alastrasix|        1|                 2|          1|\n",
            "|         AzureNebula|         AzureNebula|        1|                 0|          1|\n",
            "|Aggravating_Trade407|Aggravating_Trade407|        1|                 0|          1|\n",
            "|        Solid_Mix007|        Solid_Mix007|        4|                 7|         21|\n",
            "|    retardsc00terkid|    retardsc00terkid|       18|               600|       2917|\n",
            "|            sringari|            sringari|        1|                 2|          1|\n",
            "|      Pezzariasimfan|      Pezzariasimfan|        1|                 1|          1|\n",
            "|           haydos_07|           haydos_07|        1|                 3|         21|\n",
            "|         Mr-Green129|         Mr-Green129|        1|                 2|          1|\n",
            "|           Asorio-YT|           Asorio-YT|     1054|              3269|       1551|\n",
            "|         Matias_1204|         Matias_1204|        3|                12|          0|\n",
            "|     ViolinistNo2178|     ViolinistNo2178|        1|                 9|          2|\n",
            "|          freethebes|          freethebes|        3|                45|        221|\n",
            "|          IEatKids26|          IEatKids26|       53|               586|       1135|\n",
            "|          B00MSKI123|          B00MSKI123|        2|                 8|          1|\n",
            "|             MMH2002|             MMH2002|        1|                10|          3|\n",
            "|            tin0oooo|            tin0oooo|        2|                 8|          4|\n",
            "|     ANONYMOUSGUY770|     ANONYMOUSGUY770|       21|                85|         33|\n",
            "+--------------------+--------------------+---------+------------------+-----------+\n",
            "only showing top 20 rows\n",
            "\n"
          ]
        }
      ],
      "source": [
        "# Group by 'author' and perform the required aggregations\n",
        "result_df = df_use.groupBy(col(\"author\")) \\\n",
        "    .agg(\n",
        "        col(\"author\"),\n",
        "        count(\"author\").alias(\"num_posts\"),\n",
        "        sum(\"num_comments\").alias(\"total_num_comments\"),\n",
        "        sum(\"score\").alias(\"total_score\")\n",
        "    )\n",
        "\n",
        "# Show the result DataFrame\n",
        "result_df.show()"
      ]
    },
    {
      "cell_type": "code",
      "execution_count": 34,
      "metadata": {
        "gather": {
          "logged": 1701120050098
        },
        "jupyter": {
          "outputs_hidden": false,
          "source_hidden": false
        },
        "nteract": {
          "transient": {
            "deleting": false
          }
        }
      },
      "outputs": [
        {
          "data": {
            "application/vnd.livy.statement-meta+json": {
              "execution_finish_time": "2023-11-27T21:20:50.6727614Z",
              "execution_start_time": "2023-11-27T21:19:40.1556158Z",
              "livy_statement_state": "available",
              "parent_msg_id": "165f4edb-5c37-4d42-a857-69712b8bbb90",
              "queued_time": "2023-11-27T21:19:40.032422Z",
              "session_id": "60",
              "session_start_time": null,
              "spark_jobs": {
                "jobs": [
                  {
                    "completionTime": "2023-11-27T21:20:48.542GMT",
                    "dataRead": 145409301,
                    "dataWritten": 0,
                    "description": "Job group for statement 39:\n# save the data\ndf_save_final=result_df.toPandas()",
                    "displayName": "toPandas at /tmp/ipykernel_7449/1198832947.py:2",
                    "jobGroup": "39",
                    "jobId": 9,
                    "killedTasksSummary": {},
                    "name": "toPandas at /tmp/ipykernel_7449/1198832947.py:2",
                    "numActiveStages": 0,
                    "numActiveTasks": 0,
                    "numCompletedIndices": 9,
                    "numCompletedStages": 1,
                    "numCompletedTasks": 9,
                    "numFailedStages": 0,
                    "numFailedTasks": 0,
                    "numKilledTasks": 0,
                    "numSkippedStages": 1,
                    "numSkippedTasks": 3080,
                    "numTasks": 3089,
                    "rowCount": 3671970,
                    "stageIds": [
                      10,
                      11
                    ],
                    "status": "SUCCEEDED",
                    "submissionTime": "2023-11-27T21:20:43.620GMT",
                    "usageDescription": ""
                  },
                  {
                    "completionTime": "2023-11-27T21:20:43.533GMT",
                    "dataRead": 1119830877,
                    "dataWritten": 145409301,
                    "description": "Job group for statement 39:\n# save the data\ndf_save_final=result_df.toPandas()",
                    "displayName": "toPandas at /tmp/ipykernel_7449/1198832947.py:2",
                    "jobGroup": "39",
                    "jobId": 8,
                    "killedTasksSummary": {},
                    "name": "toPandas at /tmp/ipykernel_7449/1198832947.py:2",
                    "numActiveStages": 0,
                    "numActiveTasks": 0,
                    "numCompletedIndices": 3080,
                    "numCompletedStages": 1,
                    "numCompletedTasks": 3080,
                    "numFailedStages": 0,
                    "numFailedTasks": 0,
                    "numKilledTasks": 0,
                    "numSkippedStages": 0,
                    "numSkippedTasks": 0,
                    "numTasks": 3080,
                    "rowCount": 3675050,
                    "stageIds": [
                      9
                    ],
                    "status": "SUCCEEDED",
                    "submissionTime": "2023-11-27T21:19:44.834GMT",
                    "usageDescription": ""
                  }
                ],
                "limit": 20,
                "numbers": {
                  "FAILED": 0,
                  "RUNNING": 0,
                  "SUCCEEDED": 2,
                  "UNKNOWN": 0
                },
                "rule": "ALL_DESC"
              },
              "spark_pool": "3c67b279-1d53-4b7a-b0d9-41cb8b4b6723",
              "state": "finished",
              "statement_id": 39
            },
            "text/plain": [
              "StatementMeta(3c67b279-1d53-4b7a-b0d9-41cb8b4b6723, 60, 39, Finished, Available)"
            ]
          },
          "metadata": {},
          "output_type": "display_data"
        }
      ],
      "source": [
        "# save the data\n",
        "df_save_final=result_df.toPandas()"
      ]
    },
    {
      "cell_type": "code",
      "execution_count": 35,
      "metadata": {
        "gather": {
          "logged": 1701120055929
        },
        "jupyter": {
          "outputs_hidden": false,
          "source_hidden": false
        },
        "nteract": {
          "transient": {
            "deleting": false
          }
        }
      },
      "outputs": [
        {
          "data": {
            "application/vnd.livy.statement-meta+json": {
              "execution_finish_time": "2023-11-27T21:20:56.5222515Z",
              "execution_start_time": "2023-11-27T21:20:50.7798734Z",
              "livy_statement_state": "available",
              "parent_msg_id": "0f96039e-ef2f-4178-9dfb-2555905e3c30",
              "queued_time": "2023-11-27T21:20:22.9668736Z",
              "session_id": "60",
              "session_start_time": null,
              "spark_jobs": {
                "jobs": [],
                "limit": 20,
                "numbers": {
                  "FAILED": 0,
                  "RUNNING": 0,
                  "SUCCEEDED": 0,
                  "UNKNOWN": 0
                },
                "rule": "ALL_DESC"
              },
              "spark_pool": "3c67b279-1d53-4b7a-b0d9-41cb8b4b6723",
              "state": "finished",
              "statement_id": 40
            },
            "text/plain": [
              "StatementMeta(3c67b279-1d53-4b7a-b0d9-41cb8b4b6723, 60, 40, Finished, Available)"
            ]
          },
          "metadata": {},
          "output_type": "display_data"
        }
      ],
      "source": [
        "import os\n",
        "CSV_DIR = os.path.join(\"Users/zx111/fall-2023-reddit-project-team-11/data\", \"csv\")\n",
        "df_save_final.to_csv(f\"{CSV_DIR}/User_acitive.csv\", index=False)"
      ]
    },
    {
      "cell_type": "code",
      "execution_count": null,
      "metadata": {
        "jupyter": {
          "outputs_hidden": false,
          "source_hidden": false
        },
        "nteract": {
          "transient": {
            "deleting": false
          }
        }
      },
      "outputs": [],
      "source": []
    }
  ],
  "metadata": {
    "kernel_info": {
      "name": "synapse_pyspark"
    },
    "kernelspec": {
      "display_name": "Synapse PySpark",
      "language": "Python",
      "name": "synapse_pyspark"
    },
    "language_info": {
      "codemirror_mode": "ipython",
      "file_extension": ".py",
      "mimetype": "text/x-python",
      "name": "python",
      "nbconvert_exporter": "python",
      "pygments_lexer": "ipython",
      "version": "3.8.0"
    },
    "microsoft": {
      "host": {
        "AzureML": {
          "notebookHasBeenCompleted": true
        }
      },
      "ms_spell_check": {
        "ms_spell_check_language": "en"
      }
    },
    "nteract": {
      "version": "nteract-front-end@1.0.0"
    }
  },
  "nbformat": 4,
  "nbformat_minor": 2
}
