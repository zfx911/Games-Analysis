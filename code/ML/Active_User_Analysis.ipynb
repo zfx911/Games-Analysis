{
 "cells": [
  {
   "cell_type": "code",
   "execution_count": 12,
   "metadata": {},
   "outputs": [],
   "source": [
    "import pandas as pd\n",
    "from sklearn.cluster import KMeans, AgglomerativeClustering\n",
    "from sklearn.metrics import silhouette_score\n",
    "from sklearn.preprocessing import StandardScaler\n",
    "import matplotlib.pyplot as plt\n",
    "import seaborn as sns"
   ]
  },
  {
   "cell_type": "code",
   "execution_count": 2,
   "metadata": {},
   "outputs": [
    {
     "data": {
      "text/html": [
       "<div>\n",
       "<style scoped>\n",
       "    .dataframe tbody tr th:only-of-type {\n",
       "        vertical-align: middle;\n",
       "    }\n",
       "\n",
       "    .dataframe tbody tr th {\n",
       "        vertical-align: top;\n",
       "    }\n",
       "\n",
       "    .dataframe thead th {\n",
       "        text-align: right;\n",
       "    }\n",
       "</style>\n",
       "<table border=\"1\" class=\"dataframe\">\n",
       "  <thead>\n",
       "    <tr style=\"text-align: right;\">\n",
       "      <th></th>\n",
       "      <th>author</th>\n",
       "      <th>num_posts</th>\n",
       "      <th>total_num_comments</th>\n",
       "      <th>total_score</th>\n",
       "    </tr>\n",
       "  </thead>\n",
       "  <tbody>\n",
       "    <tr>\n",
       "      <th>0</th>\n",
       "      <td>TheSkoko</td>\n",
       "      <td>1</td>\n",
       "      <td>14</td>\n",
       "      <td>0</td>\n",
       "    </tr>\n",
       "    <tr>\n",
       "      <th>1</th>\n",
       "      <td>TheGreatDarkPriest</td>\n",
       "      <td>39</td>\n",
       "      <td>353</td>\n",
       "      <td>4479</td>\n",
       "    </tr>\n",
       "    <tr>\n",
       "      <th>2</th>\n",
       "      <td>alastrasix</td>\n",
       "      <td>1</td>\n",
       "      <td>2</td>\n",
       "      <td>1</td>\n",
       "    </tr>\n",
       "    <tr>\n",
       "      <th>3</th>\n",
       "      <td>AzureNebula</td>\n",
       "      <td>1</td>\n",
       "      <td>0</td>\n",
       "      <td>1</td>\n",
       "    </tr>\n",
       "    <tr>\n",
       "      <th>4</th>\n",
       "      <td>Aggravating_Trade407</td>\n",
       "      <td>1</td>\n",
       "      <td>0</td>\n",
       "      <td>1</td>\n",
       "    </tr>\n",
       "  </tbody>\n",
       "</table>\n",
       "</div>"
      ],
      "text/plain": [
       "                 author  num_posts  total_num_comments  total_score\n",
       "0              TheSkoko          1                  14            0\n",
       "1    TheGreatDarkPriest         39                 353         4479\n",
       "2            alastrasix          1                   2            1\n",
       "3           AzureNebula          1                   0            1\n",
       "4  Aggravating_Trade407          1                   0            1"
      ]
     },
     "execution_count": 2,
     "metadata": {},
     "output_type": "execute_result"
    }
   ],
   "source": [
    "df=pd.read_csv(\"../../data/csv/User_acitive.csv\")\n",
    "df = df.drop('author.1', axis=1)\n",
    "df.head()"
   ]
  },
  {
   "cell_type": "markdown",
   "metadata": {},
   "source": [
    "Sort the dataframe according to the author, we can see that there are huge amount posts that author name are deleted. Therefore remove the deleted authors"
   ]
  },
  {
   "cell_type": "code",
   "execution_count": 3,
   "metadata": {},
   "outputs": [
    {
     "data": {
      "text/html": [
       "<div>\n",
       "<style scoped>\n",
       "    .dataframe tbody tr th:only-of-type {\n",
       "        vertical-align: middle;\n",
       "    }\n",
       "\n",
       "    .dataframe tbody tr th {\n",
       "        vertical-align: top;\n",
       "    }\n",
       "\n",
       "    .dataframe thead th {\n",
       "        text-align: right;\n",
       "    }\n",
       "</style>\n",
       "<table border=\"1\" class=\"dataframe\">\n",
       "  <thead>\n",
       "    <tr style=\"text-align: right;\">\n",
       "      <th></th>\n",
       "      <th>author</th>\n",
       "      <th>num_posts</th>\n",
       "      <th>total_num_comments</th>\n",
       "      <th>total_score</th>\n",
       "    </tr>\n",
       "  </thead>\n",
       "  <tbody>\n",
       "    <tr>\n",
       "      <th>31</th>\n",
       "      <td>[deleted]</td>\n",
       "      <td>1197668</td>\n",
       "      <td>4704583</td>\n",
       "      <td>18347237</td>\n",
       "    </tr>\n",
       "    <tr>\n",
       "      <th>173037</th>\n",
       "      <td>AutoModerator</td>\n",
       "      <td>5024</td>\n",
       "      <td>453487</td>\n",
       "      <td>33031</td>\n",
       "    </tr>\n",
       "    <tr>\n",
       "      <th>1226246</th>\n",
       "      <td>DTG_Bot</td>\n",
       "      <td>3307</td>\n",
       "      <td>603964</td>\n",
       "      <td>456106</td>\n",
       "    </tr>\n",
       "    <tr>\n",
       "      <th>1046331</th>\n",
       "      <td>Ectophial1</td>\n",
       "      <td>1801</td>\n",
       "      <td>3375</td>\n",
       "      <td>3845</td>\n",
       "    </tr>\n",
       "    <tr>\n",
       "      <th>873276</th>\n",
       "      <td>ineeeit-finder</td>\n",
       "      <td>1779</td>\n",
       "      <td>0</td>\n",
       "      <td>1779</td>\n",
       "    </tr>\n",
       "  </tbody>\n",
       "</table>\n",
       "</div>"
      ],
      "text/plain": [
       "                 author  num_posts  total_num_comments  total_score\n",
       "31            [deleted]    1197668             4704583     18347237\n",
       "173037    AutoModerator       5024              453487        33031\n",
       "1226246         DTG_Bot       3307              603964       456106\n",
       "1046331      Ectophial1       1801                3375         3845\n",
       "873276   ineeeit-finder       1779                   0         1779"
      ]
     },
     "execution_count": 3,
     "metadata": {},
     "output_type": "execute_result"
    }
   ],
   "source": [
    "df.sort_values(by='num_posts', ascending=False).head()"
   ]
  },
  {
   "cell_type": "code",
   "execution_count": 4,
   "metadata": {},
   "outputs": [
    {
     "data": {
      "text/html": [
       "<div>\n",
       "<style scoped>\n",
       "    .dataframe tbody tr th:only-of-type {\n",
       "        vertical-align: middle;\n",
       "    }\n",
       "\n",
       "    .dataframe tbody tr th {\n",
       "        vertical-align: top;\n",
       "    }\n",
       "\n",
       "    .dataframe thead th {\n",
       "        text-align: right;\n",
       "    }\n",
       "</style>\n",
       "<table border=\"1\" class=\"dataframe\">\n",
       "  <thead>\n",
       "    <tr style=\"text-align: right;\">\n",
       "      <th></th>\n",
       "      <th>author</th>\n",
       "      <th>num_posts</th>\n",
       "      <th>total_num_comments</th>\n",
       "      <th>total_score</th>\n",
       "    </tr>\n",
       "  </thead>\n",
       "  <tbody>\n",
       "    <tr>\n",
       "      <th>173037</th>\n",
       "      <td>AutoModerator</td>\n",
       "      <td>5024</td>\n",
       "      <td>453487</td>\n",
       "      <td>33031</td>\n",
       "    </tr>\n",
       "    <tr>\n",
       "      <th>1226246</th>\n",
       "      <td>DTG_Bot</td>\n",
       "      <td>3307</td>\n",
       "      <td>603964</td>\n",
       "      <td>456106</td>\n",
       "    </tr>\n",
       "    <tr>\n",
       "      <th>1046331</th>\n",
       "      <td>Ectophial1</td>\n",
       "      <td>1801</td>\n",
       "      <td>3375</td>\n",
       "      <td>3845</td>\n",
       "    </tr>\n",
       "    <tr>\n",
       "      <th>873276</th>\n",
       "      <td>ineeeit-finder</td>\n",
       "      <td>1779</td>\n",
       "      <td>0</td>\n",
       "      <td>1779</td>\n",
       "    </tr>\n",
       "    <tr>\n",
       "      <th>526763</th>\n",
       "      <td>Cocha_Gamer</td>\n",
       "      <td>1647</td>\n",
       "      <td>0</td>\n",
       "      <td>1647</td>\n",
       "    </tr>\n",
       "  </tbody>\n",
       "</table>\n",
       "</div>"
      ],
      "text/plain": [
       "                 author  num_posts  total_num_comments  total_score\n",
       "173037    AutoModerator       5024              453487        33031\n",
       "1226246         DTG_Bot       3307              603964       456106\n",
       "1046331      Ectophial1       1801                3375         3845\n",
       "873276   ineeeit-finder       1779                   0         1779\n",
       "526763      Cocha_Gamer       1647                   0         1647"
      ]
     },
     "execution_count": 4,
     "metadata": {},
     "output_type": "execute_result"
    }
   ],
   "source": [
    "df_nodelete = df[df[\"author\"] != \"[deleted]\"]\n",
    "df_nodelete.sort_values(by='num_posts', ascending=False).head()"
   ]
  },
  {
   "cell_type": "markdown",
   "metadata": {},
   "source": [
    "check the number of rows of the dataframe, we can see that there are so many authors. Therefore, filter the data that the author has post more than 1 reddits, and the total number of comments the author got is more than 1, and the total score is more than 1."
   ]
  },
  {
   "cell_type": "code",
   "execution_count": 6,
   "metadata": {},
   "outputs": [
    {
     "data": {
      "text/plain": [
       "1441859"
      ]
     },
     "execution_count": 6,
     "metadata": {},
     "output_type": "execute_result"
    }
   ],
   "source": [
    "len(df_nodelete)"
   ]
  },
  {
   "cell_type": "code",
   "execution_count": 7,
   "metadata": {},
   "outputs": [
    {
     "data": {
      "text/plain": [
       "456730"
      ]
     },
     "execution_count": 7,
     "metadata": {},
     "output_type": "execute_result"
    }
   ],
   "source": [
    "df_use = df_nodelete[(df_nodelete['num_posts'] > 1) & (df_nodelete['total_num_comments'] > 1) & (df_nodelete['total_score'] > 1)]\n",
    "len(df_use)"
   ]
  },
  {
   "cell_type": "code",
   "execution_count": 29,
   "metadata": {},
   "outputs": [
    {
     "data": {
      "text/html": [
       "<div>\n",
       "<style scoped>\n",
       "    .dataframe tbody tr th:only-of-type {\n",
       "        vertical-align: middle;\n",
       "    }\n",
       "\n",
       "    .dataframe tbody tr th {\n",
       "        vertical-align: top;\n",
       "    }\n",
       "\n",
       "    .dataframe thead th {\n",
       "        text-align: right;\n",
       "    }\n",
       "</style>\n",
       "<table border=\"1\" class=\"dataframe\">\n",
       "  <thead>\n",
       "    <tr style=\"text-align: right;\">\n",
       "      <th></th>\n",
       "      <th>author</th>\n",
       "      <th>num_posts</th>\n",
       "      <th>total_num_comments</th>\n",
       "      <th>total_score</th>\n",
       "    </tr>\n",
       "  </thead>\n",
       "  <tbody>\n",
       "    <tr>\n",
       "      <th>172864</th>\n",
       "      <td>Veritasibility</td>\n",
       "      <td>1140</td>\n",
       "      <td>3077033</td>\n",
       "      <td>85120</td>\n",
       "    </tr>\n",
       "    <tr>\n",
       "      <th>1226246</th>\n",
       "      <td>DTG_Bot</td>\n",
       "      <td>3307</td>\n",
       "      <td>603964</td>\n",
       "      <td>456106</td>\n",
       "    </tr>\n",
       "    <tr>\n",
       "      <th>173037</th>\n",
       "      <td>AutoModerator</td>\n",
       "      <td>5024</td>\n",
       "      <td>453487</td>\n",
       "      <td>33031</td>\n",
       "    </tr>\n",
       "    <tr>\n",
       "      <th>435</th>\n",
       "      <td>PokeUpdateBot</td>\n",
       "      <td>753</td>\n",
       "      <td>135988</td>\n",
       "      <td>16387</td>\n",
       "    </tr>\n",
       "    <tr>\n",
       "      <th>814</th>\n",
       "      <td>Juil8991MC</td>\n",
       "      <td>915</td>\n",
       "      <td>93463</td>\n",
       "      <td>142023</td>\n",
       "    </tr>\n",
       "  </tbody>\n",
       "</table>\n",
       "</div>"
      ],
      "text/plain": [
       "                 author  num_posts  total_num_comments  total_score\n",
       "172864   Veritasibility       1140             3077033        85120\n",
       "1226246         DTG_Bot       3307              603964       456106\n",
       "173037    AutoModerator       5024              453487        33031\n",
       "435       PokeUpdateBot        753              135988        16387\n",
       "814          Juil8991MC        915               93463       142023"
      ]
     },
     "execution_count": 29,
     "metadata": {},
     "output_type": "execute_result"
    }
   ],
   "source": [
    "df_use.sort_values(by='total_num_comments', ascending=False).head()"
   ]
  },
  {
   "cell_type": "code",
   "execution_count": 30,
   "metadata": {},
   "outputs": [
    {
     "data": {
      "text/html": [
       "<div>\n",
       "<style scoped>\n",
       "    .dataframe tbody tr th:only-of-type {\n",
       "        vertical-align: middle;\n",
       "    }\n",
       "\n",
       "    .dataframe tbody tr th {\n",
       "        vertical-align: top;\n",
       "    }\n",
       "\n",
       "    .dataframe thead th {\n",
       "        text-align: right;\n",
       "    }\n",
       "</style>\n",
       "<table border=\"1\" class=\"dataframe\">\n",
       "  <thead>\n",
       "    <tr style=\"text-align: right;\">\n",
       "      <th></th>\n",
       "      <th>num_posts</th>\n",
       "      <th>total_num_comments</th>\n",
       "      <th>total_score</th>\n",
       "    </tr>\n",
       "  </thead>\n",
       "  <tbody>\n",
       "    <tr>\n",
       "      <th>count</th>\n",
       "      <td>456730.000000</td>\n",
       "      <td>4.567300e+05</td>\n",
       "      <td>4.567300e+05</td>\n",
       "    </tr>\n",
       "    <tr>\n",
       "      <th>mean</th>\n",
       "      <td>6.029724</td>\n",
       "      <td>9.823831e+01</td>\n",
       "      <td>1.054450e+03</td>\n",
       "    </tr>\n",
       "    <tr>\n",
       "      <th>std</th>\n",
       "      <td>17.615734</td>\n",
       "      <td>4.713256e+03</td>\n",
       "      <td>7.996819e+03</td>\n",
       "    </tr>\n",
       "    <tr>\n",
       "      <th>min</th>\n",
       "      <td>2.000000</td>\n",
       "      <td>2.000000e+00</td>\n",
       "      <td>2.000000e+00</td>\n",
       "    </tr>\n",
       "    <tr>\n",
       "      <th>25%</th>\n",
       "      <td>2.000000</td>\n",
       "      <td>7.000000e+00</td>\n",
       "      <td>5.000000e+00</td>\n",
       "    </tr>\n",
       "    <tr>\n",
       "      <th>50%</th>\n",
       "      <td>3.000000</td>\n",
       "      <td>1.700000e+01</td>\n",
       "      <td>1.800000e+01</td>\n",
       "    </tr>\n",
       "    <tr>\n",
       "      <th>75%</th>\n",
       "      <td>6.000000</td>\n",
       "      <td>5.100000e+01</td>\n",
       "      <td>1.380000e+02</td>\n",
       "    </tr>\n",
       "    <tr>\n",
       "      <th>max</th>\n",
       "      <td>5024.000000</td>\n",
       "      <td>3.077033e+06</td>\n",
       "      <td>1.740051e+06</td>\n",
       "    </tr>\n",
       "  </tbody>\n",
       "</table>\n",
       "</div>"
      ],
      "text/plain": [
       "           num_posts  total_num_comments   total_score\n",
       "count  456730.000000        4.567300e+05  4.567300e+05\n",
       "mean        6.029724        9.823831e+01  1.054450e+03\n",
       "std        17.615734        4.713256e+03  7.996819e+03\n",
       "min         2.000000        2.000000e+00  2.000000e+00\n",
       "25%         2.000000        7.000000e+00  5.000000e+00\n",
       "50%         3.000000        1.700000e+01  1.800000e+01\n",
       "75%         6.000000        5.100000e+01  1.380000e+02\n",
       "max      5024.000000        3.077033e+06  1.740051e+06"
      ]
     },
     "execution_count": 30,
     "metadata": {},
     "output_type": "execute_result"
    }
   ],
   "source": [
    "df_use.describe()"
   ]
  },
  {
   "cell_type": "markdown",
   "metadata": {},
   "source": [
    "Perform Kmean clustering"
   ]
  },
  {
   "cell_type": "code",
   "execution_count": 8,
   "metadata": {},
   "outputs": [],
   "source": [
    "# Extract features for clustering\n",
    "features = df_use[['num_posts', 'total_num_comments', 'total_score']]\n",
    "\n",
    "# Standardize the features\n",
    "scaler = StandardScaler()\n",
    "X= scaler.fit_transform(features)"
   ]
  },
  {
   "cell_type": "code",
   "execution_count": 9,
   "metadata": {},
   "outputs": [
    {
     "name": "stderr",
     "output_type": "stream",
     "text": [
      "c:\\Users\\84160\\anaconda3\\Lib\\site-packages\\sklearn\\cluster\\_kmeans.py:1412: FutureWarning: The default value of `n_init` will change from 10 to 'auto' in 1.4. Set the value of `n_init` explicitly to suppress the warning\n",
      "  super()._check_params_vs_input(X, default_n_init=10)\n"
     ]
    },
    {
     "name": "stdout",
     "output_type": "stream",
     "text": [
      "Silhouette Score: 0.9743992659411637\n"
     ]
    }
   ],
   "source": [
    "k_means_4 = KMeans(n_clusters=4, random_state=42)\n",
    "# labels=kmeans.fit_predict(X)\n",
    "model = k_means_4.fit(X)\n",
    "labels = k_means_4.labels_\n",
    "silhouette_avg = silhouette_score(X, labels)\n",
    "print(f'Silhouette Score: {silhouette_avg}')"
   ]
  },
  {
   "cell_type": "markdown",
   "metadata": {},
   "source": [
    "Create a new column Cluster to record the labels respectively"
   ]
  },
  {
   "cell_type": "code",
   "execution_count": 34,
   "metadata": {},
   "outputs": [
    {
     "data": {
      "text/html": [
       "<div>\n",
       "<style scoped>\n",
       "    .dataframe tbody tr th:only-of-type {\n",
       "        vertical-align: middle;\n",
       "    }\n",
       "\n",
       "    .dataframe tbody tr th {\n",
       "        vertical-align: top;\n",
       "    }\n",
       "\n",
       "    .dataframe thead th {\n",
       "        text-align: right;\n",
       "    }\n",
       "</style>\n",
       "<table border=\"1\" class=\"dataframe\">\n",
       "  <thead>\n",
       "    <tr style=\"text-align: right;\">\n",
       "      <th></th>\n",
       "      <th>num_posts</th>\n",
       "      <th>total_num_comments</th>\n",
       "      <th>total_score</th>\n",
       "      <th>Cluster</th>\n",
       "    </tr>\n",
       "  </thead>\n",
       "  <tbody>\n",
       "    <tr>\n",
       "      <th>1</th>\n",
       "      <td>39</td>\n",
       "      <td>353</td>\n",
       "      <td>4479</td>\n",
       "      <td>not active</td>\n",
       "    </tr>\n",
       "    <tr>\n",
       "      <th>5</th>\n",
       "      <td>4</td>\n",
       "      <td>7</td>\n",
       "      <td>21</td>\n",
       "      <td>not active</td>\n",
       "    </tr>\n",
       "    <tr>\n",
       "      <th>6</th>\n",
       "      <td>18</td>\n",
       "      <td>600</td>\n",
       "      <td>2917</td>\n",
       "      <td>not active</td>\n",
       "    </tr>\n",
       "    <tr>\n",
       "      <th>11</th>\n",
       "      <td>1054</td>\n",
       "      <td>3269</td>\n",
       "      <td>1551</td>\n",
       "      <td>low influence</td>\n",
       "    </tr>\n",
       "    <tr>\n",
       "      <th>14</th>\n",
       "      <td>3</td>\n",
       "      <td>45</td>\n",
       "      <td>221</td>\n",
       "      <td>not active</td>\n",
       "    </tr>\n",
       "  </tbody>\n",
       "</table>\n",
       "</div>"
      ],
      "text/plain": [
       "    num_posts  total_num_comments  total_score        Cluster\n",
       "1          39                 353         4479     not active\n",
       "5           4                   7           21     not active\n",
       "6          18                 600         2917     not active\n",
       "11       1054                3269         1551  low influence\n",
       "14          3                  45          221     not active"
      ]
     },
     "execution_count": 34,
     "metadata": {},
     "output_type": "execute_result"
    }
   ],
   "source": [
    "data_copy=features.copy()\n",
    "data_copy['Cluster']=labels\n",
    "\n",
    "# Define the mapping rules\n",
    "mapping = {0: \"not active\", 1: \"low influence\", 2: \"very influential\", 3: \"high influence\"}\n",
    "# Apply the mapping to the 'Cluster4' column\n",
    "data_copy['Cluster'] = data_copy['Cluster'].map(mapping)\n",
    "\n",
    "data_copy.head()"
   ]
  },
  {
   "cell_type": "markdown",
   "metadata": {},
   "source": [
    "Plot the scatterplot that shows the relationship total number of comments and the total score based on the different clusters."
   ]
  },
  {
   "cell_type": "code",
   "execution_count": 36,
   "metadata": {},
   "outputs": [
    {
     "data": {
      "text/plain": [
       "Text(0, 0.5, 'Total Score')"
      ]
     },
     "execution_count": 36,
     "metadata": {},
     "output_type": "execute_result"
    },
    {
     "data": {
      "image/png": "[encoded data removed]",
      "text/plain": [
       "<Figure size 640x480 with 1 Axes>"
      ]
     },
     "metadata": {},
     "output_type": "display_data"
    }
   ],
   "source": [
    "sns.scatterplot(data=data_copy,x='total_num_comments',y='total_score',hue='Cluster')\n",
    "plt.title('Total Score vs Total Number of Comments')\n",
    "plt.xlabel('Total Number of Comments')\n",
    "plt.ylabel('Total Score')\n"
   ]
  },
  {
   "cell_type": "code",
   "execution_count": 40,
   "metadata": {},
   "outputs": [
    {
     "data": {
      "text/html": [
       "<div>\n",
       "<style scoped>\n",
       "    .dataframe tbody tr th:only-of-type {\n",
       "        vertical-align: middle;\n",
       "    }\n",
       "\n",
       "    .dataframe tbody tr th {\n",
       "        vertical-align: top;\n",
       "    }\n",
       "\n",
       "    .dataframe thead th {\n",
       "        text-align: right;\n",
       "    }\n",
       "</style>\n",
       "<table border=\"1\" class=\"dataframe\">\n",
       "  <thead>\n",
       "    <tr style=\"text-align: right;\">\n",
       "      <th></th>\n",
       "      <th>num_posts</th>\n",
       "      <th>total_num_comments</th>\n",
       "      <th>total_score</th>\n",
       "      <th>Number of authors</th>\n",
       "    </tr>\n",
       "    <tr>\n",
       "      <th>Cluster</th>\n",
       "      <th></th>\n",
       "      <th></th>\n",
       "      <th></th>\n",
       "      <th></th>\n",
       "    </tr>\n",
       "  </thead>\n",
       "  <tbody>\n",
       "    <tr>\n",
       "      <th>high influence</th>\n",
       "      <td>2</td>\n",
       "      <td>454</td>\n",
       "      <td>73919</td>\n",
       "      <td>509</td>\n",
       "    </tr>\n",
       "    <tr>\n",
       "      <th>low influence</th>\n",
       "      <td>194</td>\n",
       "      <td>2</td>\n",
       "      <td>202</td>\n",
       "      <td>360</td>\n",
       "    </tr>\n",
       "    <tr>\n",
       "      <th>not active</th>\n",
       "      <td>2</td>\n",
       "      <td>2</td>\n",
       "      <td>2</td>\n",
       "      <td>455860</td>\n",
       "    </tr>\n",
       "    <tr>\n",
       "      <th>very influential</th>\n",
       "      <td>1140</td>\n",
       "      <td>3077033</td>\n",
       "      <td>85120</td>\n",
       "      <td>1</td>\n",
       "    </tr>\n",
       "  </tbody>\n",
       "</table>\n",
       "</div>"
      ],
      "text/plain": [
       "                  num_posts  total_num_comments  total_score  \\\n",
       "Cluster                                                        \n",
       "high influence            2                 454        73919   \n",
       "low influence           194                   2          202   \n",
       "not active                2                   2            2   \n",
       "very influential       1140             3077033        85120   \n",
       "\n",
       "                  Number of authors  \n",
       "Cluster                              \n",
       "high influence                  509  \n",
       "low influence                   360  \n",
       "not active                   455860  \n",
       "very influential                  1  "
      ]
     },
     "execution_count": 40,
     "metadata": {},
     "output_type": "execute_result"
    }
   ],
   "source": [
    "table = data_copy.groupby('Cluster').agg({'num_posts': 'min', 'total_num_comments':'min', 'total_score': 'min'})\n",
    "table['Number of authors'] = data_copy['Cluster'].value_counts()\n",
    "table"
   ]
  },
  {
   "cell_type": "markdown",
   "metadata": {},
   "source": [
    "low influencial 就说虽然有很多comments，但是没有特别多的score，所以可能并不代表会影响别人（别人赞同你的观点），可能一些有争议的话，会导致很多的评论。再或者有争议的评论会导致很多人在你的posts下面进行讨论，就导致了你的total number of comments 高。\n",
    "因为score高就代表你获得的赞同比较高。"
   ]
  },
  {
   "cell_type": "markdown",
   "metadata": {},
   "source": [
    "we can see that there is a group that only has 1 author since his posts has huge amount of comments. This may because of some of his posts are highly controversial, there are huge amount of debates under some of the posts. Therefore remove this author to evaluate."
   ]
  },
  {
   "cell_type": "code",
   "execution_count": 43,
   "metadata": {},
   "outputs": [
    {
     "data": {
      "text/plain": [
       "456729"
      ]
     },
     "execution_count": 43,
     "metadata": {},
     "output_type": "execute_result"
    }
   ],
   "source": [
    "data_use = data_copy[data_copy[\"Cluster\"] != \"very influential\"]"
   ]
  },
  {
   "cell_type": "code",
   "execution_count": 45,
   "metadata": {},
   "outputs": [
    {
     "data": {
      "text/plain": [
       "Text(0, 0.5, 'Total Score')"
      ]
     },
     "execution_count": 45,
     "metadata": {},
     "output_type": "execute_result"
    },
    {
     "data": {
      "image/png": "[encoded data removed]",
      "text/plain": [
       "<Figure size 640x480 with 1 Axes>"
      ]
     },
     "metadata": {},
     "output_type": "display_data"
    }
   ],
   "source": [
    "sns.scatterplot(data=data_use,x='total_num_comments',y='total_score',hue='Cluster')\n",
    "plt.title('Total Score vs Total Number of Comments')\n",
    "plt.xlabel('Total Number of Comments')\n",
    "plt.ylabel('Total Score')\n"
   ]
  },
  {
   "cell_type": "code",
   "execution_count": 48,
   "metadata": {},
   "outputs": [
    {
     "data": {
      "text/html": [
       "<div>\n",
       "<style scoped>\n",
       "    .dataframe tbody tr th:only-of-type {\n",
       "        vertical-align: middle;\n",
       "    }\n",
       "\n",
       "    .dataframe tbody tr th {\n",
       "        vertical-align: top;\n",
       "    }\n",
       "\n",
       "    .dataframe thead th {\n",
       "        text-align: right;\n",
       "    }\n",
       "</style>\n",
       "<table border=\"1\" class=\"dataframe\">\n",
       "  <thead>\n",
       "    <tr style=\"text-align: right;\">\n",
       "      <th></th>\n",
       "      <th>num_posts</th>\n",
       "      <th>total_num_comments</th>\n",
       "      <th>total_score</th>\n",
       "      <th>Number of authors</th>\n",
       "    </tr>\n",
       "    <tr>\n",
       "      <th>Cluster</th>\n",
       "      <th></th>\n",
       "      <th></th>\n",
       "      <th></th>\n",
       "      <th></th>\n",
       "    </tr>\n",
       "  </thead>\n",
       "  <tbody>\n",
       "    <tr>\n",
       "      <th>high influence</th>\n",
       "      <td>2</td>\n",
       "      <td>454</td>\n",
       "      <td>73919</td>\n",
       "      <td>509</td>\n",
       "    </tr>\n",
       "    <tr>\n",
       "      <th>low influence</th>\n",
       "      <td>194</td>\n",
       "      <td>2</td>\n",
       "      <td>202</td>\n",
       "      <td>360</td>\n",
       "    </tr>\n",
       "    <tr>\n",
       "      <th>not active</th>\n",
       "      <td>2</td>\n",
       "      <td>2</td>\n",
       "      <td>2</td>\n",
       "      <td>455860</td>\n",
       "    </tr>\n",
       "  </tbody>\n",
       "</table>\n",
       "</div>"
      ],
      "text/plain": [
       "                num_posts  total_num_comments  total_score  Number of authors\n",
       "Cluster                                                                      \n",
       "high influence          2                 454        73919                509\n",
       "low influence         194                   2          202                360\n",
       "not active              2                   2            2             455860"
      ]
     },
     "execution_count": 48,
     "metadata": {},
     "output_type": "execute_result"
    }
   ],
   "source": [
    "table = data_use.groupby('Cluster').agg({'num_posts': 'min', 'total_num_comments':'min', 'total_score': 'min'})\n",
    "table['Number of authors'] = data_copy['Cluster'].value_counts()\n",
    "table"
   ]
  },
  {
   "cell_type": "code",
   "execution_count": null,
   "metadata": {},
   "outputs": [],
   "source": []
  }
 ],
 "metadata": {
  "kernelspec": {
   "display_name": "base",
   "language": "python",
   "name": "python3"
  },
  "language_info": {
   "codemirror_mode": {
    "name": "ipython",
    "version": 3
   },
   "file_extension": ".py",
   "mimetype": "text/x-python",
   "name": "python",
   "nbconvert_exporter": "python",
   "pygments_lexer": "ipython3",
   "version": "3.11.4"
  }
 },
 "nbformat": 4,
 "nbformat_minor": 2
}
