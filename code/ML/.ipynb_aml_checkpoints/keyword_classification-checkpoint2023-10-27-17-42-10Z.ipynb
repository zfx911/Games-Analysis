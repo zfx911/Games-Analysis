{
  "cells": [
    {
      "cell_type": "code",
      "source": [
        "spark"
      ],
      "outputs": [
        {
          "output_type": "display_data",
          "data": {
            "application/vnd.livy.statement-meta+json": {
              "spark_pool": "3c67b279-1d53-4b7a-b0d9-41cb8b4b6723",
              "session_id": "58",
              "statement_id": 6,
              "state": "finished",
              "livy_statement_state": "available",
              "queued_time": "2023-11-26T16:38:10.9035613Z",
              "session_start_time": "2023-11-26T16:38:10.9669875Z",
              "execution_start_time": "2023-11-26T16:41:29.2002769Z",
              "execution_finish_time": "2023-11-26T16:41:32.0257117Z",
              "spark_jobs": {
                "numbers": {
                  "SUCCEEDED": 0,
                  "UNKNOWN": 0,
                  "RUNNING": 0,
                  "FAILED": 0
                },
                "jobs": [],
                "limit": 20,
                "rule": "ALL_DESC"
              },
              "parent_msg_id": "6594abc1-57e2-4464-923f-623b01cd37ec"
            },
            "text/plain": "StatementMeta(3c67b279-1d53-4b7a-b0d9-41cb8b4b6723, 58, 6, Finished, Available)"
          },
          "metadata": {}
        },
        {
          "output_type": "execute_result",
          "execution_count": 11,
          "data": {
            "text/plain": "<pyspark.sql.session.SparkSession at 0x7f9768f38a00>",
            "text/html": "\n            <div>\n                <p><b>SparkSession - hive</b></p>\n                \n        <div>\n            <p><b>SparkContext</b></p>\n\n            <p><a href=\"http://vm-ba533326:35779\">Spark UI</a></p>\n\n            <dl>\n              <dt>Version</dt>\n                <dd><code>v3.2.2.5.1-100879434</code></dd>\n              <dt>Master</dt>\n                <dd><code>yarn</code></dd>\n              <dt>AppName</dt>\n                <dd><code>Azure ML Experiment</code></dd>\n            </dl>\n        </div>\n        \n            </div>\n        "
          },
          "metadata": {}
        }
      ],
      "execution_count": 1,
      "metadata": {
        "gather": {
          "logged": 1701016892224
        }
      }
    },
    {
      "cell_type": "code",
      "source": [
        "blob_account_name = \"marckvnonprodblob\"\n",
        "blob_container_name = \"bigdata\"\n",
        "# read only\n",
        "blob_sas_token = \"?sv=2021-10-04&st=2023-10-04T01%3A42%3A59Z&se=2024-01-02T02%3A42%3A00Z&sr=c&sp=rlf&sig=w3CH9MbCOpwO7DtHlrahc7AlRPxSZZb8MOgS6TaXLzI%3D\"\n",
        "\n",
        "wasbs_base_url = (\n",
        "    f\"wasbs://{blob_container_name}@{blob_account_name}.blob.core.windows.net/\"\n",
        ")\n",
        "spark.conf.set(\n",
        "    f\"fs.azure.sas.{blob_container_name}.{blob_account_name}.blob.core.windows.net\",\n",
        "    blob_sas_token,\n",
        ")"
      ],
      "outputs": [
        {
          "output_type": "display_data",
          "data": {
            "application/vnd.livy.statement-meta+json": {
              "spark_pool": "3c67b279-1d53-4b7a-b0d9-41cb8b4b6723",
              "session_id": "58",
              "statement_id": 7,
              "state": "finished",
              "livy_statement_state": "available",
              "queued_time": "2023-11-26T16:41:40.7311048Z",
              "session_start_time": null,
              "execution_start_time": "2023-11-26T16:41:40.8385947Z",
              "execution_finish_time": "2023-11-26T16:41:41.1668419Z",
              "spark_jobs": {
                "numbers": {
                  "SUCCEEDED": 0,
                  "UNKNOWN": 0,
                  "RUNNING": 0,
                  "FAILED": 0
                },
                "jobs": [],
                "limit": 20,
                "rule": "ALL_DESC"
              },
              "parent_msg_id": "1585ab2c-c89f-433e-aa14-939ae0d6f135"
            },
            "text/plain": "StatementMeta(3c67b279-1d53-4b7a-b0d9-41cb8b4b6723, 58, 7, Finished, Available)"
          },
          "metadata": {}
        }
      ],
      "execution_count": 2,
      "metadata": {
        "jupyter": {
          "source_hidden": false,
          "outputs_hidden": false
        },
        "nteract": {
          "transient": {
            "deleting": false
          }
        },
        "gather": {
          "logged": 1701016901268
        }
      }
    },
    {
      "cell_type": "code",
      "source": [
        "submissions_path = \"reddit-parquet/submissions/\"\n",
        "submissions_df = spark.read.parquet(f\"{wasbs_base_url}{submissions_path}\")"
      ],
      "outputs": [
        {
          "output_type": "display_data",
          "data": {
            "application/vnd.livy.statement-meta+json": {
              "spark_pool": "3c67b279-1d53-4b7a-b0d9-41cb8b4b6723",
              "session_id": "58",
              "statement_id": 8,
              "state": "finished",
              "livy_statement_state": "available",
              "queued_time": "2023-11-26T16:41:42.5755685Z",
              "session_start_time": null,
              "execution_start_time": "2023-11-26T16:41:43.1816601Z",
              "execution_finish_time": "2023-11-26T16:42:01.9791821Z",
              "spark_jobs": {
                "numbers": {
                  "SUCCEEDED": 1,
                  "UNKNOWN": 0,
                  "RUNNING": 0,
                  "FAILED": 0
                },
                "jobs": [
                  {
                    "displayName": "parquet at NativeMethodAccessorImpl.java:0",
                    "dataWritten": 0,
                    "dataRead": 0,
                    "rowCount": 0,
                    "usageDescription": "",
                    "jobId": 0,
                    "name": "parquet at NativeMethodAccessorImpl.java:0",
                    "description": "Job group for statement 8:\nsubmissions_path = \"reddit-parquet/submissions/\"\nsubmissions_df = spark.read.parquet(f\"{wasbs_base_url}{submissions_path}\")",
                    "submissionTime": "2023-11-26T16:41:51.878GMT",
                    "completionTime": "2023-11-26T16:41:58.880GMT",
                    "stageIds": [
                      0
                    ],
                    "jobGroup": "8",
                    "status": "SUCCEEDED",
                    "numTasks": 1,
                    "numActiveTasks": 0,
                    "numCompletedTasks": 1,
                    "numSkippedTasks": 0,
                    "numFailedTasks": 0,
                    "numKilledTasks": 0,
                    "numCompletedIndices": 1,
                    "numActiveStages": 0,
                    "numCompletedStages": 1,
                    "numSkippedStages": 0,
                    "numFailedStages": 0,
                    "killedTasksSummary": {}
                  }
                ],
                "limit": 20,
                "rule": "ALL_DESC"
              },
              "parent_msg_id": "4654753c-19f2-42d4-81db-2efa92b22d32"
            },
            "text/plain": "StatementMeta(3c67b279-1d53-4b7a-b0d9-41cb8b4b6723, 58, 8, Finished, Available)"
          },
          "metadata": {}
        }
      ],
      "execution_count": 3,
      "metadata": {
        "jupyter": {
          "source_hidden": false,
          "outputs_hidden": false
        },
        "nteract": {
          "transient": {
            "deleting": false
          }
        },
        "gather": {
          "logged": 1701016922185
        }
      }
    },
    {
      "cell_type": "code",
      "source": [
        "from pyspark.sql.functions import col, asc,desc\n",
        "\n",
        "submissions_filtered = submissions_df.filter(col(\"subreddit\").isin([\"Minecraft\", \"Eldenring\",\"Genshin_Impact\",\"pokemongo\",\"RocketLeagueExchange\",\"VALORANT\",\"DestinyTheGame\",\"CallOfDutyMobile\",\"FIFA\",\"pokemon\"]))"
      ],
      "outputs": [
        {
          "output_type": "display_data",
          "data": {
            "application/vnd.livy.statement-meta+json": {
              "spark_pool": "3c67b279-1d53-4b7a-b0d9-41cb8b4b6723",
              "session_id": "58",
              "statement_id": 9,
              "state": "finished",
              "livy_statement_state": "available",
              "queued_time": "2023-11-26T16:42:30.2172841Z",
              "session_start_time": null,
              "execution_start_time": "2023-11-26T16:42:30.3237447Z",
              "execution_finish_time": "2023-11-26T16:42:31.1364485Z",
              "spark_jobs": {
                "numbers": {
                  "SUCCEEDED": 0,
                  "UNKNOWN": 0,
                  "RUNNING": 0,
                  "FAILED": 0
                },
                "jobs": [],
                "limit": 20,
                "rule": "ALL_DESC"
              },
              "parent_msg_id": "1646537c-bbee-45c4-9551-079d6e099c6f"
            },
            "text/plain": "StatementMeta(3c67b279-1d53-4b7a-b0d9-41cb8b4b6723, 58, 9, Finished, Available)"
          },
          "metadata": {}
        }
      ],
      "execution_count": 4,
      "metadata": {
        "jupyter": {
          "source_hidden": false,
          "outputs_hidden": false
        },
        "nteract": {
          "transient": {
            "deleting": false
          }
        },
        "gather": {
          "logged": 1701016951256
        }
      }
    },
    {
      "cell_type": "code",
      "source": [
        "df_text = submissions_filtered.select(\"subreddit\", \"title\", \"selftext\",\"over_18\",\"spoiler\",\"is_video\").cache()"
      ],
      "outputs": [
        {
          "output_type": "display_data",
          "data": {
            "application/vnd.livy.statement-meta+json": {
              "spark_pool": "3c67b279-1d53-4b7a-b0d9-41cb8b4b6723",
              "session_id": "58",
              "statement_id": 10,
              "state": "finished",
              "livy_statement_state": "available",
              "queued_time": "2023-11-26T16:42:41.5982644Z",
              "session_start_time": null,
              "execution_start_time": "2023-11-26T16:42:41.7040197Z",
              "execution_finish_time": "2023-11-26T16:42:43.2419326Z",
              "spark_jobs": {
                "numbers": {
                  "SUCCEEDED": 0,
                  "UNKNOWN": 0,
                  "RUNNING": 0,
                  "FAILED": 0
                },
                "jobs": [],
                "limit": 20,
                "rule": "ALL_DESC"
              },
              "parent_msg_id": "06dac015-9475-456c-b50b-0454eea840e3"
            },
            "text/plain": "StatementMeta(3c67b279-1d53-4b7a-b0d9-41cb8b4b6723, 58, 10, Finished, Available)"
          },
          "metadata": {}
        }
      ],
      "execution_count": 5,
      "metadata": {
        "jupyter": {
          "source_hidden": false,
          "outputs_hidden": false
        },
        "nteract": {
          "transient": {
            "deleting": false
          }
        },
        "gather": {
          "logged": 1701016963368
        }
      }
    },
    {
      "cell_type": "code",
      "source": [
        "from pyspark.sql.functions import concat_ws\n",
        "df = df_text.withColumn(\"text\", concat_ws(\" \", df_text.title, df_text.selftext))"
      ],
      "outputs": [
        {
          "output_type": "display_data",
          "data": {
            "application/vnd.livy.statement-meta+json": {
              "spark_pool": "3c67b279-1d53-4b7a-b0d9-41cb8b4b6723",
              "session_id": "58",
              "statement_id": 11,
              "state": "finished",
              "livy_statement_state": "available",
              "queued_time": "2023-11-26T16:42:43.9541383Z",
              "session_start_time": null,
              "execution_start_time": "2023-11-26T16:42:44.0523807Z",
              "execution_finish_time": "2023-11-26T16:42:44.3515469Z",
              "spark_jobs": {
                "numbers": {
                  "SUCCEEDED": 0,
                  "UNKNOWN": 0,
                  "RUNNING": 0,
                  "FAILED": 0
                },
                "jobs": [],
                "limit": 20,
                "rule": "ALL_DESC"
              },
              "parent_msg_id": "17dfea6c-c5a9-4373-a3a9-5a28a942dfbe"
            },
            "text/plain": "StatementMeta(3c67b279-1d53-4b7a-b0d9-41cb8b4b6723, 58, 11, Finished, Available)"
          },
          "metadata": {}
        }
      ],
      "execution_count": 6,
      "metadata": {
        "jupyter": {
          "source_hidden": false,
          "outputs_hidden": false
        },
        "nteract": {
          "transient": {
            "deleting": false
          }
        },
        "gather": {
          "logged": 1701016964449
        }
      }
    },
    {
      "cell_type": "code",
      "source": [
        "df.show(5)"
      ],
      "outputs": [
        {
          "output_type": "display_data",
          "data": {
            "application/vnd.livy.statement-meta+json": {
              "spark_pool": "3c67b279-1d53-4b7a-b0d9-41cb8b4b6723",
              "session_id": "58",
              "statement_id": 12,
              "state": "finished",
              "livy_statement_state": "available",
              "queued_time": "2023-11-26T16:42:47.7238158Z",
              "session_start_time": null,
              "execution_start_time": "2023-11-26T16:42:47.8658879Z",
              "execution_finish_time": "2023-11-26T16:43:03.8391056Z",
              "spark_jobs": {
                "numbers": {
                  "SUCCEEDED": 1,
                  "UNKNOWN": 0,
                  "RUNNING": 0,
                  "FAILED": 0
                },
                "jobs": [
                  {
                    "displayName": "showString at NativeMethodAccessorImpl.java:0",
                    "dataWritten": 0,
                    "dataRead": 44665095,
                    "rowCount": 221807,
                    "usageDescription": "",
                    "jobId": 1,
                    "name": "showString at NativeMethodAccessorImpl.java:0",
                    "description": "Job group for statement 12:\ndf.show(5)",
                    "submissionTime": "2023-11-26T16:42:49.397GMT",
                    "completionTime": "2023-11-26T16:43:01.400GMT",
                    "stageIds": [
                      1
                    ],
                    "jobGroup": "12",
                    "status": "SUCCEEDED",
                    "numTasks": 1,
                    "numActiveTasks": 0,
                    "numCompletedTasks": 1,
                    "numSkippedTasks": 0,
                    "numFailedTasks": 0,
                    "numKilledTasks": 0,
                    "numCompletedIndices": 1,
                    "numActiveStages": 0,
                    "numCompletedStages": 1,
                    "numSkippedStages": 0,
                    "numFailedStages": 0,
                    "killedTasksSummary": {}
                  }
                ],
                "limit": 20,
                "rule": "ALL_DESC"
              },
              "parent_msg_id": "7181da60-7233-4847-9adb-0a8e3cbebd9e"
            },
            "text/plain": "StatementMeta(3c67b279-1d53-4b7a-b0d9-41cb8b4b6723, 58, 12, Finished, Available)"
          },
          "metadata": {}
        },
        {
          "output_type": "stream",
          "name": "stdout",
          "text": "+---------+--------------------+--------------------+-------+-------+--------+--------------------+\n|subreddit|               title|            selftext|over_18|spoiler|is_video|                text|\n+---------+--------------------+--------------------+-------+-------+--------+--------------------+\n|     FIFA|if you every get ...|                    |  false|  false|   false|if you every get ...|\n|Minecraft|     Texting a house|So I’m building a...|  false|  false|   false|Texting a house S...|\n| VALORANT|       Killjoy Mains|Got bored and so ...|  false|  false|   false|Killjoy Mains Got...|\n|Minecraft|Trident skeleton ...|                    |  false|  false|   false|Trident skeleton ...|\n|  pokemon|the PokemonTogeth...|So several days a...|  false|  false|   false|the PokemonTogeth...|\n+---------+--------------------+--------------------+-------+-------+--------+--------------------+\nonly showing top 5 rows\n\n"
        }
      ],
      "execution_count": 7,
      "metadata": {
        "jupyter": {
          "source_hidden": false,
          "outputs_hidden": false
        },
        "nteract": {
          "transient": {
            "deleting": false
          }
        },
        "gather": {
          "logged": 1701016983953
        }
      }
    },
    {
      "cell_type": "code",
      "source": [
        "from pyspark.sql.functions import lower\n",
        "df = df.withColumn(\"text_lower\", lower(df.text))"
      ],
      "outputs": [
        {
          "output_type": "display_data",
          "data": {
            "application/vnd.livy.statement-meta+json": {
              "spark_pool": "3c67b279-1d53-4b7a-b0d9-41cb8b4b6723",
              "session_id": "58",
              "statement_id": 13,
              "state": "finished",
              "livy_statement_state": "available",
              "queued_time": "2023-11-26T16:43:20.9499655Z",
              "session_start_time": null,
              "execution_start_time": "2023-11-26T16:43:21.0486144Z",
              "execution_finish_time": "2023-11-26T16:43:21.3489915Z",
              "spark_jobs": {
                "numbers": {
                  "SUCCEEDED": 0,
                  "UNKNOWN": 0,
                  "RUNNING": 0,
                  "FAILED": 0
                },
                "jobs": [],
                "limit": 20,
                "rule": "ALL_DESC"
              },
              "parent_msg_id": "22e584d2-4d98-4f76-9749-15f516ae6ca9"
            },
            "text/plain": "StatementMeta(3c67b279-1d53-4b7a-b0d9-41cb8b4b6723, 58, 13, Finished, Available)"
          },
          "metadata": {}
        }
      ],
      "execution_count": 8,
      "metadata": {
        "jupyter": {
          "source_hidden": false,
          "outputs_hidden": false
        },
        "nteract": {
          "transient": {
            "deleting": false
          }
        },
        "gather": {
          "logged": 1701017001435
        }
      }
    },
    {
      "cell_type": "code",
      "source": [
        "df = df.drop(*[\"title\",\"selftext\",\"text\"])\n",
        "df.show(5)"
      ],
      "outputs": [
        {
          "output_type": "display_data",
          "data": {
            "application/vnd.livy.statement-meta+json": {
              "spark_pool": "3c67b279-1d53-4b7a-b0d9-41cb8b4b6723",
              "session_id": "58",
              "statement_id": 14,
              "state": "finished",
              "livy_statement_state": "available",
              "queued_time": "2023-11-26T16:43:29.9474163Z",
              "session_start_time": null,
              "execution_start_time": "2023-11-26T16:43:30.0450651Z",
              "execution_finish_time": "2023-11-26T16:43:31.4691602Z",
              "spark_jobs": {
                "numbers": {
                  "SUCCEEDED": 1,
                  "UNKNOWN": 0,
                  "RUNNING": 0,
                  "FAILED": 0
                },
                "jobs": [
                  {
                    "displayName": "showString at NativeMethodAccessorImpl.java:0",
                    "dataWritten": 0,
                    "dataRead": 191424,
                    "rowCount": 1,
                    "usageDescription": "",
                    "jobId": 2,
                    "name": "showString at NativeMethodAccessorImpl.java:0",
                    "description": "Job group for statement 14:\ndf = df.drop(*[\"title\",\"selftext\",\"text\"])\ndf.show(5)",
                    "submissionTime": "2023-11-26T16:43:30.176GMT",
                    "completionTime": "2023-11-26T16:43:30.336GMT",
                    "stageIds": [
                      2
                    ],
                    "jobGroup": "14",
                    "status": "SUCCEEDED",
                    "numTasks": 1,
                    "numActiveTasks": 0,
                    "numCompletedTasks": 1,
                    "numSkippedTasks": 0,
                    "numFailedTasks": 0,
                    "numKilledTasks": 0,
                    "numCompletedIndices": 1,
                    "numActiveStages": 0,
                    "numCompletedStages": 1,
                    "numSkippedStages": 0,
                    "numFailedStages": 0,
                    "killedTasksSummary": {}
                  }
                ],
                "limit": 20,
                "rule": "ALL_DESC"
              },
              "parent_msg_id": "08254e58-2a85-48c1-aefc-796d14e75012"
            },
            "text/plain": "StatementMeta(3c67b279-1d53-4b7a-b0d9-41cb8b4b6723, 58, 14, Finished, Available)"
          },
          "metadata": {}
        },
        {
          "output_type": "stream",
          "name": "stdout",
          "text": "+---------+-------+-------+--------+--------------------+\n|subreddit|over_18|spoiler|is_video|          text_lower|\n+---------+-------+-------+--------+--------------------+\n|     FIFA|  false|  false|   false|if you every get ...|\n|Minecraft|  false|  false|   false|texting a house s...|\n| VALORANT|  false|  false|   false|killjoy mains got...|\n|Minecraft|  false|  false|   false|trident skeleton ...|\n|  pokemon|  false|  false|   false|the pokemontogeth...|\n+---------+-------+-------+--------+--------------------+\nonly showing top 5 rows\n\n"
        }
      ],
      "execution_count": 9,
      "metadata": {
        "jupyter": {
          "source_hidden": false,
          "outputs_hidden": false
        },
        "nteract": {
          "transient": {
            "deleting": false
          }
        },
        "gather": {
          "logged": 1701017011568
        }
      }
    },
    {
      "cell_type": "markdown",
      "source": [
        "# assign keywords labels"
      ],
      "metadata": {
        "nteract": {
          "transient": {
            "deleting": false
          }
        }
      }
    },
    {
      "cell_type": "code",
      "source": [
        "keyword_lst = [\n",
        "    [\"bug\",\"error\",\"issue\",\"glitch\",\"crash\",\"freeze\",\"lag\",\"problems\",\"problem\",\"corruption\",\"restart\"],\n",
        "    [\"strategies\",\"strategy\",\"tip\",\"trick\",\"tactic\",\"review\",\"playthrough\",\"speedrun\",\"trophy\",\"trophies\",\"speedrun\",\"achievements\",\"quests\",\"mission\",\"stuck\",\"help\"],\n",
        "    [\"story\",\"storyline\",\"plot\",\"narrative\",\"characters\",\"dialogue\",\"twist\",\"protagonist\",\"antagonist\",\"villian\",\"backstory\",\"emotion\",\"choice\",\"suspense\",\"sexy\",\"waifu\"],\n",
        "    [\"lore\",\"world\",\"mythology\",\"culture\",\"retcon\",\"documents\",\"race\",\"racial\",\"cultural\",\"environment\",\"environmental\",\"artifacts\",\"cosmology\",\"asian\",\"american\",\"african\",\"background\"],\n",
        "    [\"trade\",\"buy\",\"sell\",\"transaction\",\"market\",\"scam\",\"valuation\",\"negotiation\",\"currency\",\"credit\",\"auction\",\"rarity\",\"tax\",\"fee\",\"traders\",\"buyers\",\"sellers\",\"money\",\"dollar\"]\n",
        "]"
      ],
      "outputs": [
        {
          "output_type": "display_data",
          "data": {
            "application/vnd.livy.statement-meta+json": {
              "spark_pool": "3c67b279-1d53-4b7a-b0d9-41cb8b4b6723",
              "session_id": "58",
              "statement_id": 15,
              "state": "finished",
              "livy_statement_state": "available",
              "queued_time": "2023-11-26T16:43:40.5268038Z",
              "session_start_time": null,
              "execution_start_time": "2023-11-26T16:43:40.6283889Z",
              "execution_finish_time": "2023-11-26T16:43:40.9197719Z",
              "spark_jobs": {
                "numbers": {
                  "SUCCEEDED": 0,
                  "UNKNOWN": 0,
                  "RUNNING": 0,
                  "FAILED": 0
                },
                "jobs": [],
                "limit": 20,
                "rule": "ALL_DESC"
              },
              "parent_msg_id": "2c2715cd-ebc5-4b5b-a87f-54ddbf9d3c94"
            },
            "text/plain": "StatementMeta(3c67b279-1d53-4b7a-b0d9-41cb8b4b6723, 58, 15, Finished, Available)"
          },
          "metadata": {}
        }
      ],
      "execution_count": 10,
      "metadata": {
        "jupyter": {
          "source_hidden": false,
          "outputs_hidden": false
        },
        "nteract": {
          "transient": {
            "deleting": false
          }
        },
        "gather": {
          "logged": 1701017021074
        }
      }
    },
    {
      "cell_type": "code",
      "source": [
        "from pyspark.sql.functions import when\n",
        "df_label = df.withColumn(\"label\",\n",
        "                   when(col(\"text_lower\").rlike(\"|\".join(keyword_lst[0])), \"bug report\")\n",
        "                   .when(col(\"text_lower\").rlike(\"|\".join(keyword_lst[1])), \"gameplay discussion\")\n",
        "                   .when(col(\"text_lower\").rlike(\"|\".join(keyword_lst[2])), \"story related discussion\")\n",
        "                   .when(col(\"text_lower\").rlike(\"|\".join(keyword_lst[3])), \"lore discussion\")\n",
        "                   .when(col(\"text_lower\").rlike(\"|\".join(keyword_lst[4])), \"game items trading\")\n",
        "                   .otherwise(\"other\"))\n",
        "df_label.show(5)"
      ],
      "outputs": [
        {
          "output_type": "display_data",
          "data": {
            "application/vnd.livy.statement-meta+json": {
              "spark_pool": "3c67b279-1d53-4b7a-b0d9-41cb8b4b6723",
              "session_id": "58",
              "statement_id": 16,
              "state": "finished",
              "livy_statement_state": "available",
              "queued_time": "2023-11-26T16:43:44.6747943Z",
              "session_start_time": null,
              "execution_start_time": "2023-11-26T16:43:44.7748728Z",
              "execution_finish_time": "2023-11-26T16:43:45.5761723Z",
              "spark_jobs": {
                "numbers": {
                  "SUCCEEDED": 1,
                  "UNKNOWN": 0,
                  "RUNNING": 0,
                  "FAILED": 0
                },
                "jobs": [
                  {
                    "displayName": "showString at NativeMethodAccessorImpl.java:0",
                    "dataWritten": 0,
                    "dataRead": 191424,
                    "rowCount": 1,
                    "usageDescription": "",
                    "jobId": 3,
                    "name": "showString at NativeMethodAccessorImpl.java:0",
                    "description": "Job group for statement 16:\nfrom pyspark.sql.functions import when\ndf_label = df.withColumn(\"label\",\n                   when(col(\"text_lower\").rlike(\"|\".join(keyword_lst[0])), \"bug report\")\n                   .when(col(\"text_lower\").rlike(\"|\".join(keyword_lst[1])), \"gameplay discussion\")\n                   .when(col(\"text_lower\").rlike(\"|\".join(keyword_lst[2])), \"story related discussion\")\n                   .when(col(\"text_lower\").rlike(\"|\".join(keyword_lst[3])), \"lore discussion\")\n                   .when(col(\"text_lower\").rlike(\"|\".join(keyword_lst[4])), \"game items trading\")\n                   .otherwise(\"other\"))\ndf_label.show(5)",
                    "submissionTime": "2023-11-26T16:43:45.113GMT",
                    "completionTime": "2023-11-26T16:43:45.247GMT",
                    "stageIds": [
                      3
                    ],
                    "jobGroup": "16",
                    "status": "SUCCEEDED",
                    "numTasks": 1,
                    "numActiveTasks": 0,
                    "numCompletedTasks": 1,
                    "numSkippedTasks": 0,
                    "numFailedTasks": 0,
                    "numKilledTasks": 0,
                    "numCompletedIndices": 1,
                    "numActiveStages": 0,
                    "numCompletedStages": 1,
                    "numSkippedStages": 0,
                    "numFailedStages": 0,
                    "killedTasksSummary": {}
                  }
                ],
                "limit": 20,
                "rule": "ALL_DESC"
              },
              "parent_msg_id": "660e0818-d70a-4b72-8ad8-05563413ea6c"
            },
            "text/plain": "StatementMeta(3c67b279-1d53-4b7a-b0d9-41cb8b4b6723, 58, 16, Finished, Available)"
          },
          "metadata": {}
        },
        {
          "output_type": "stream",
          "name": "stdout",
          "text": "+---------+-------+-------+--------+--------------------+-------------------+\n|subreddit|over_18|spoiler|is_video|          text_lower|              label|\n+---------+-------+-------+--------+--------------------+-------------------+\n|     FIFA|  false|  false|   false|if you every get ...|              other|\n|Minecraft|  false|  false|   false|texting a house s...|              other|\n| VALORANT|  false|  false|   false|killjoy mains got...| game items trading|\n|Minecraft|  false|  false|   false|trident skeleton ...|         bug report|\n|  pokemon|  false|  false|   false|the pokemontogeth...|gameplay discussion|\n+---------+-------+-------+--------+--------------------+-------------------+\nonly showing top 5 rows\n\n"
        }
      ],
      "execution_count": 11,
      "metadata": {
        "jupyter": {
          "source_hidden": false,
          "outputs_hidden": false
        },
        "nteract": {
          "transient": {
            "deleting": false
          }
        },
        "gather": {
          "logged": 1701017025681
        }
      }
    },
    {
      "cell_type": "markdown",
      "source": [
        "# check the distribution of each labels"
      ],
      "metadata": {
        "nteract": {
          "transient": {
            "deleting": false
          }
        }
      }
    },
    {
      "cell_type": "code",
      "source": [
        "df_label_cnt = df_label.groupBy(\"label\").count().orderBy(col(\"count\"), ascending=False).collect()"
      ],
      "outputs": [],
      "execution_count": null,
      "metadata": {
        "jupyter": {
          "source_hidden": false,
          "outputs_hidden": false
        },
        "nteract": {
          "transient": {
            "deleting": false
          }
        }
      }
    },
    {
      "cell_type": "code",
      "source": [
        "df_label_cnt_tot = spark.createDataFrame(df_label_cnt).toPandas()\n",
        "df_label_cnt_tot"
      ],
      "outputs": [
        {
          "output_type": "display_data",
          "data": {
            "application/vnd.livy.statement-meta+json": {
              "spark_pool": "3c67b279-1d53-4b7a-b0d9-41cb8b4b6723",
              "session_id": "56",
              "statement_id": 26,
              "state": "finished",
              "livy_statement_state": "available",
              "queued_time": "2023-11-25T20:49:24.2976912Z",
              "session_start_time": null,
              "execution_start_time": "2023-11-25T20:49:24.3979017Z",
              "execution_finish_time": "2023-11-25T20:49:26.8282525Z",
              "spark_jobs": {
                "numbers": {
                  "SUCCEEDED": 1,
                  "UNKNOWN": 0,
                  "RUNNING": 0,
                  "FAILED": 0
                },
                "jobs": [
                  {
                    "displayName": "toPandas at /tmp/ipykernel_7833/36391192.py:1",
                    "dataWritten": 0,
                    "dataRead": 0,
                    "rowCount": 0,
                    "usageDescription": "",
                    "jobId": 18,
                    "name": "toPandas at /tmp/ipykernel_7833/36391192.py:1",
                    "description": "Job group for statement 26:\ndf_label_cnt_tot = spark.createDataFrame(df_label_cnt).toPandas()\ndf_label_cnt_tot",
                    "submissionTime": "2023-11-25T20:49:25.235GMT",
                    "completionTime": "2023-11-25T20:49:26.106GMT",
                    "stageIds": [
                      22
                    ],
                    "jobGroup": "26",
                    "status": "SUCCEEDED",
                    "numTasks": 8,
                    "numActiveTasks": 0,
                    "numCompletedTasks": 8,
                    "numSkippedTasks": 0,
                    "numFailedTasks": 0,
                    "numKilledTasks": 0,
                    "numCompletedIndices": 8,
                    "numActiveStages": 0,
                    "numCompletedStages": 1,
                    "numSkippedStages": 0,
                    "numFailedStages": 0,
                    "killedTasksSummary": {}
                  }
                ],
                "limit": 20,
                "rule": "ALL_DESC"
              },
              "parent_msg_id": "f7912d9b-2f81-4255-b017-2aa4d181a449"
            },
            "text/plain": "StatementMeta(3c67b279-1d53-4b7a-b0d9-41cb8b4b6723, 56, 26, Finished, Available)"
          },
          "metadata": {}
        },
        {
          "output_type": "execute_result",
          "execution_count": 51,
          "data": {
            "text/plain": "                      label    count\n0                     other  3925294\n1                bug report   358867\n2        game items trading   330996\n3       gameplay discussion   240189\n4           lore discussion   150275\n5  story related discussion    86385",
            "text/html": "<div>\n<style scoped>\n    .dataframe tbody tr th:only-of-type {\n        vertical-align: middle;\n    }\n\n    .dataframe tbody tr th {\n        vertical-align: top;\n    }\n\n    .dataframe thead th {\n        text-align: right;\n    }\n</style>\n<table border=\"1\" class=\"dataframe\">\n  <thead>\n    <tr style=\"text-align: right;\">\n      <th></th>\n      <th>label</th>\n      <th>count</th>\n    </tr>\n  </thead>\n  <tbody>\n    <tr>\n      <th>0</th>\n      <td>other</td>\n      <td>3925294</td>\n    </tr>\n    <tr>\n      <th>1</th>\n      <td>bug report</td>\n      <td>358867</td>\n    </tr>\n    <tr>\n      <th>2</th>\n      <td>game items trading</td>\n      <td>330996</td>\n    </tr>\n    <tr>\n      <th>3</th>\n      <td>gameplay discussion</td>\n      <td>240189</td>\n    </tr>\n    <tr>\n      <th>4</th>\n      <td>lore discussion</td>\n      <td>150275</td>\n    </tr>\n    <tr>\n      <th>5</th>\n      <td>story related discussion</td>\n      <td>86385</td>\n    </tr>\n  </tbody>\n</table>\n</div>"
          },
          "metadata": {}
        }
      ],
      "execution_count": 21,
      "metadata": {
        "jupyter": {
          "source_hidden": false,
          "outputs_hidden": false
        },
        "nteract": {
          "transient": {
            "deleting": false
          }
        },
        "gather": {
          "logged": 1700945366998
        }
      }
    },
    {
      "cell_type": "code",
      "source": [
        "df_label_cnt_game = df_label.groupBy(\"subreddit\",\"label\").count().orderBy(col(\"count\"), ascending=False).collect()"
      ],
      "outputs": [
        {
          "output_type": "display_data",
          "data": {
            "application/vnd.livy.statement-meta+json": {
              "spark_pool": "3c67b279-1d53-4b7a-b0d9-41cb8b4b6723",
              "session_id": "56",
              "statement_id": 27,
              "state": "finished",
              "livy_statement_state": "available",
              "queued_time": "2023-11-25T20:51:38.132325Z",
              "session_start_time": null,
              "execution_start_time": "2023-11-25T20:51:38.2359509Z",
              "execution_finish_time": "2023-11-25T20:53:16.0004452Z",
              "spark_jobs": {
                "numbers": {
                  "SUCCEEDED": 4,
                  "UNKNOWN": 0,
                  "RUNNING": 0,
                  "FAILED": 0
                },
                "jobs": [
                  {
                    "displayName": "collect at /tmp/ipykernel_7833/3509952026.py:1",
                    "dataWritten": 0,
                    "dataRead": 6384,
                    "rowCount": 60,
                    "usageDescription": "",
                    "jobId": 22,
                    "name": "collect at /tmp/ipykernel_7833/3509952026.py:1",
                    "description": "Job group for statement 27:\ndf_label_cnt_game = df_label.groupBy(\"subreddit\",\"label\").count().orderBy(col(\"count\"), ascending=False).collect()",
                    "submissionTime": "2023-11-25T20:53:13.621GMT",
                    "completionTime": "2023-11-25T20:53:13.841GMT",
                    "stageIds": [
                      30,
                      28,
                      29
                    ],
                    "jobGroup": "27",
                    "status": "SUCCEEDED",
                    "numTasks": 3090,
                    "numActiveTasks": 0,
                    "numCompletedTasks": 1,
                    "numSkippedTasks": 3089,
                    "numFailedTasks": 0,
                    "numKilledTasks": 0,
                    "numCompletedIndices": 1,
                    "numActiveStages": 0,
                    "numCompletedStages": 1,
                    "numSkippedStages": 2,
                    "numFailedStages": 0,
                    "killedTasksSummary": {}
                  },
                  {
                    "displayName": "collect at /tmp/ipykernel_7833/3509952026.py:1",
                    "dataWritten": 6384,
                    "dataRead": 15710694,
                    "rowCount": 165432,
                    "usageDescription": "",
                    "jobId": 21,
                    "name": "collect at /tmp/ipykernel_7833/3509952026.py:1",
                    "description": "Job group for statement 27:\ndf_label_cnt_game = df_label.groupBy(\"subreddit\",\"label\").count().orderBy(col(\"count\"), ascending=False).collect()",
                    "submissionTime": "2023-11-25T20:53:12.519GMT",
                    "completionTime": "2023-11-25T20:53:13.581GMT",
                    "stageIds": [
                      27,
                      26
                    ],
                    "jobGroup": "27",
                    "status": "SUCCEEDED",
                    "numTasks": 3089,
                    "numActiveTasks": 0,
                    "numCompletedTasks": 9,
                    "numSkippedTasks": 3080,
                    "numFailedTasks": 0,
                    "numKilledTasks": 0,
                    "numCompletedIndices": 9,
                    "numActiveStages": 0,
                    "numCompletedStages": 1,
                    "numSkippedStages": 1,
                    "numFailedStages": 0,
                    "killedTasksSummary": {}
                  },
                  {
                    "displayName": "collect at /tmp/ipykernel_7833/3509952026.py:1",
                    "dataWritten": 0,
                    "dataRead": 15710694,
                    "rowCount": 165372,
                    "usageDescription": "",
                    "jobId": 20,
                    "name": "collect at /tmp/ipykernel_7833/3509952026.py:1",
                    "description": "Job group for statement 27:\ndf_label_cnt_game = df_label.groupBy(\"subreddit\",\"label\").count().orderBy(col(\"count\"), ascending=False).collect()",
                    "submissionTime": "2023-11-25T20:53:10.956GMT",
                    "completionTime": "2023-11-25T20:53:12.514GMT",
                    "stageIds": [
                      24,
                      25
                    ],
                    "jobGroup": "27",
                    "status": "SUCCEEDED",
                    "numTasks": 3089,
                    "numActiveTasks": 0,
                    "numCompletedTasks": 9,
                    "numSkippedTasks": 3080,
                    "numFailedTasks": 0,
                    "numKilledTasks": 0,
                    "numCompletedIndices": 9,
                    "numActiveStages": 0,
                    "numCompletedStages": 1,
                    "numSkippedStages": 1,
                    "numFailedStages": 0,
                    "killedTasksSummary": {}
                  },
                  {
                    "displayName": "collect at /tmp/ipykernel_7833/3509952026.py:1",
                    "dataWritten": 15710694,
                    "dataRead": 1014266417,
                    "rowCount": 168452,
                    "usageDescription": "",
                    "jobId": 19,
                    "name": "collect at /tmp/ipykernel_7833/3509952026.py:1",
                    "description": "Job group for statement 27:\ndf_label_cnt_game = df_label.groupBy(\"subreddit\",\"label\").count().orderBy(col(\"count\"), ascending=False).collect()",
                    "submissionTime": "2023-11-25T20:51:38.404GMT",
                    "completionTime": "2023-11-25T20:53:10.867GMT",
                    "stageIds": [
                      23
                    ],
                    "jobGroup": "27",
                    "status": "SUCCEEDED",
                    "numTasks": 3080,
                    "numActiveTasks": 0,
                    "numCompletedTasks": 3080,
                    "numSkippedTasks": 0,
                    "numFailedTasks": 0,
                    "numKilledTasks": 0,
                    "numCompletedIndices": 3080,
                    "numActiveStages": 0,
                    "numCompletedStages": 1,
                    "numSkippedStages": 0,
                    "numFailedStages": 0,
                    "killedTasksSummary": {}
                  }
                ],
                "limit": 20,
                "rule": "ALL_DESC"
              },
              "parent_msg_id": "75e8df25-15d5-4d87-8fd3-24f99db13b05"
            },
            "text/plain": "StatementMeta(3c67b279-1d53-4b7a-b0d9-41cb8b4b6723, 56, 27, Finished, Available)"
          },
          "metadata": {}
        }
      ],
      "execution_count": 22,
      "metadata": {
        "jupyter": {
          "source_hidden": false,
          "outputs_hidden": false
        },
        "nteract": {
          "transient": {
            "deleting": false
          }
        },
        "gather": {
          "logged": 1700945596093
        }
      }
    },
    {
      "cell_type": "code",
      "source": [
        "df_label_cnt_sub = spark.createDataFrame(df_label_cnt_game).toPandas()\n",
        "df_label_cnt_sub"
      ],
      "outputs": [
        {
          "output_type": "display_data",
          "data": {
            "application/vnd.livy.statement-meta+json": {
              "spark_pool": "3c67b279-1d53-4b7a-b0d9-41cb8b4b6723",
              "session_id": "56",
              "statement_id": 28,
              "state": "finished",
              "livy_statement_state": "available",
              "queued_time": "2023-11-25T20:53:39.9242274Z",
              "session_start_time": null,
              "execution_start_time": "2023-11-25T20:53:40.167543Z",
              "execution_finish_time": "2023-11-25T20:53:40.9644075Z",
              "spark_jobs": {
                "numbers": {
                  "SUCCEEDED": 1,
                  "UNKNOWN": 0,
                  "RUNNING": 0,
                  "FAILED": 0
                },
                "jobs": [
                  {
                    "displayName": "toPandas at /tmp/ipykernel_7833/1833144595.py:1",
                    "dataWritten": 0,
                    "dataRead": 0,
                    "rowCount": 0,
                    "usageDescription": "",
                    "jobId": 23,
                    "name": "toPandas at /tmp/ipykernel_7833/1833144595.py:1",
                    "description": "Job group for statement 28:\ndf_label_cnt_sub = spark.createDataFrame(df_label_cnt_game).toPandas()\ndf_label_cnt_sub",
                    "submissionTime": "2023-11-25T20:53:40.246GMT",
                    "completionTime": "2023-11-25T20:53:40.362GMT",
                    "stageIds": [
                      31
                    ],
                    "jobGroup": "28",
                    "status": "SUCCEEDED",
                    "numTasks": 8,
                    "numActiveTasks": 0,
                    "numCompletedTasks": 8,
                    "numSkippedTasks": 0,
                    "numFailedTasks": 0,
                    "numKilledTasks": 0,
                    "numCompletedIndices": 8,
                    "numActiveStages": 0,
                    "numCompletedStages": 1,
                    "numSkippedStages": 0,
                    "numFailedStages": 0,
                    "killedTasksSummary": {}
                  }
                ],
                "limit": 20,
                "rule": "ALL_DESC"
              },
              "parent_msg_id": "88300b74-db48-4e2f-bbdb-d361ac2b33cc"
            },
            "text/plain": "StatementMeta(3c67b279-1d53-4b7a-b0d9-41cb8b4b6723, 56, 28, Finished, Available)"
          },
          "metadata": {}
        },
        {
          "output_type": "execute_result",
          "execution_count": 55,
          "data": {
            "text/plain": "               subreddit                     label   count\n0              Minecraft                     other  671646\n1              Eldenring                     other  634060\n2         Genshin_Impact                     other  555686\n3              pokemongo                     other  373640\n4               VALORANT                     other  317794\n5       CallOfDutyMobile                     other  312899\n6                   FIFA                     other  297790\n7                pokemon                     other  291050\n8         DestinyTheGame                     other  253196\n9   RocketLeagueExchange                     other  217533\n10  RocketLeagueExchange        game items trading  144268\n11             Minecraft                bug report  106622\n12             Minecraft           lore discussion   64098\n13             Eldenring       gameplay discussion   54598\n14             Eldenring                bug report   51701\n15        DestinyTheGame                bug report   50252\n16             Minecraft       gameplay discussion   38968\n17  RocketLeagueExchange       gameplay discussion   38045\n18             Eldenring        game items trading   36795\n19              VALORANT                bug report   33166\n20        Genshin_Impact                bug report   32712\n21             Eldenring           lore discussion   32106\n22        Genshin_Impact  story related discussion   31970\n23        DestinyTheGame        game items trading   28413\n24        Genshin_Impact       gameplay discussion   27348\n25      CallOfDutyMobile                bug report   26609\n26        DestinyTheGame       gameplay discussion   23440\n27                  FIFA        game items trading   22542\n28                  FIFA                bug report   20528\n29               pokemon        game items trading   19570\n30              VALORANT        game items trading   19301\n31             Eldenring  story related discussion   18085\n32             Minecraft        game items trading   18083\n33             pokemongo                bug report   16292\n34             pokemongo        game items trading   16164\n35              VALORANT       gameplay discussion   15737\n36        Genshin_Impact           lore discussion   15222\n37               pokemon                bug report   14920\n38        Genshin_Impact        game items trading   13295\n39                  FIFA       gameplay discussion   12814\n40      CallOfDutyMobile        game items trading   12565\n41        DestinyTheGame  story related discussion   12132\n42        DestinyTheGame           lore discussion   11676\n43               pokemon       gameplay discussion   11669\n44               pokemon  story related discussion   10467\n45      CallOfDutyMobile       gameplay discussion    9700\n46  RocketLeagueExchange           lore discussion    9009\n47             pokemongo       gameplay discussion    7870\n48               pokemon           lore discussion    7555\n49  RocketLeagueExchange                bug report    6065\n50             Minecraft  story related discussion    4205\n51                  FIFA           lore discussion    4071\n52              VALORANT  story related discussion    2906\n53      CallOfDutyMobile  story related discussion    2701\n54              VALORANT           lore discussion    2450\n55             pokemongo           lore discussion    2049\n56      CallOfDutyMobile           lore discussion    2039\n57                  FIFA  story related discussion    1546\n58             pokemongo  story related discussion    1460\n59  RocketLeagueExchange  story related discussion     913",
            "text/html": "<div>\n<style scoped>\n    .dataframe tbody tr th:only-of-type {\n        vertical-align: middle;\n    }\n\n    .dataframe tbody tr th {\n        vertical-align: top;\n    }\n\n    .dataframe thead th {\n        text-align: right;\n    }\n</style>\n<table border=\"1\" class=\"dataframe\">\n  <thead>\n    <tr style=\"text-align: right;\">\n      <th></th>\n      <th>subreddit</th>\n      <th>label</th>\n      <th>count</th>\n    </tr>\n  </thead>\n  <tbody>\n    <tr>\n      <th>0</th>\n      <td>Minecraft</td>\n      <td>other</td>\n      <td>671646</td>\n    </tr>\n    <tr>\n      <th>1</th>\n      <td>Eldenring</td>\n      <td>other</td>\n      <td>634060</td>\n    </tr>\n    <tr>\n      <th>2</th>\n      <td>Genshin_Impact</td>\n      <td>other</td>\n      <td>555686</td>\n    </tr>\n    <tr>\n      <th>3</th>\n      <td>pokemongo</td>\n      <td>other</td>\n      <td>373640</td>\n    </tr>\n    <tr>\n      <th>4</th>\n      <td>VALORANT</td>\n      <td>other</td>\n      <td>317794</td>\n    </tr>\n    <tr>\n      <th>5</th>\n      <td>CallOfDutyMobile</td>\n      <td>other</td>\n      <td>312899</td>\n    </tr>\n    <tr>\n      <th>6</th>\n      <td>FIFA</td>\n      <td>other</td>\n      <td>297790</td>\n    </tr>\n    <tr>\n      <th>7</th>\n      <td>pokemon</td>\n      <td>other</td>\n      <td>291050</td>\n    </tr>\n    <tr>\n      <th>8</th>\n      <td>DestinyTheGame</td>\n      <td>other</td>\n      <td>253196</td>\n    </tr>\n    <tr>\n      <th>9</th>\n      <td>RocketLeagueExchange</td>\n      <td>other</td>\n      <td>217533</td>\n    </tr>\n    <tr>\n      <th>10</th>\n      <td>RocketLeagueExchange</td>\n      <td>game items trading</td>\n      <td>144268</td>\n    </tr>\n    <tr>\n      <th>11</th>\n      <td>Minecraft</td>\n      <td>bug report</td>\n      <td>106622</td>\n    </tr>\n    <tr>\n      <th>12</th>\n      <td>Minecraft</td>\n      <td>lore discussion</td>\n      <td>64098</td>\n    </tr>\n    <tr>\n      <th>13</th>\n      <td>Eldenring</td>\n      <td>gameplay discussion</td>\n      <td>54598</td>\n    </tr>\n    <tr>\n      <th>14</th>\n      <td>Eldenring</td>\n      <td>bug report</td>\n      <td>51701</td>\n    </tr>\n    <tr>\n      <th>15</th>\n      <td>DestinyTheGame</td>\n      <td>bug report</td>\n      <td>50252</td>\n    </tr>\n    <tr>\n      <th>16</th>\n      <td>Minecraft</td>\n      <td>gameplay discussion</td>\n      <td>38968</td>\n    </tr>\n    <tr>\n      <th>17</th>\n      <td>RocketLeagueExchange</td>\n      <td>gameplay discussion</td>\n      <td>38045</td>\n    </tr>\n    <tr>\n      <th>18</th>\n      <td>Eldenring</td>\n      <td>game items trading</td>\n      <td>36795</td>\n    </tr>\n    <tr>\n      <th>19</th>\n      <td>VALORANT</td>\n      <td>bug report</td>\n      <td>33166</td>\n    </tr>\n    <tr>\n      <th>20</th>\n      <td>Genshin_Impact</td>\n      <td>bug report</td>\n      <td>32712</td>\n    </tr>\n    <tr>\n      <th>21</th>\n      <td>Eldenring</td>\n      <td>lore discussion</td>\n      <td>32106</td>\n    </tr>\n    <tr>\n      <th>22</th>\n      <td>Genshin_Impact</td>\n      <td>story related discussion</td>\n      <td>31970</td>\n    </tr>\n    <tr>\n      <th>23</th>\n      <td>DestinyTheGame</td>\n      <td>game items trading</td>\n      <td>28413</td>\n    </tr>\n    <tr>\n      <th>24</th>\n      <td>Genshin_Impact</td>\n      <td>gameplay discussion</td>\n      <td>27348</td>\n    </tr>\n    <tr>\n      <th>25</th>\n      <td>CallOfDutyMobile</td>\n      <td>bug report</td>\n      <td>26609</td>\n    </tr>\n    <tr>\n      <th>26</th>\n      <td>DestinyTheGame</td>\n      <td>gameplay discussion</td>\n      <td>23440</td>\n    </tr>\n    <tr>\n      <th>27</th>\n      <td>FIFA</td>\n      <td>game items trading</td>\n      <td>22542</td>\n    </tr>\n    <tr>\n      <th>28</th>\n      <td>FIFA</td>\n      <td>bug report</td>\n      <td>20528</td>\n    </tr>\n    <tr>\n      <th>29</th>\n      <td>pokemon</td>\n      <td>game items trading</td>\n      <td>19570</td>\n    </tr>\n    <tr>\n      <th>30</th>\n      <td>VALORANT</td>\n      <td>game items trading</td>\n      <td>19301</td>\n    </tr>\n    <tr>\n      <th>31</th>\n      <td>Eldenring</td>\n      <td>story related discussion</td>\n      <td>18085</td>\n    </tr>\n    <tr>\n      <th>32</th>\n      <td>Minecraft</td>\n      <td>game items trading</td>\n      <td>18083</td>\n    </tr>\n    <tr>\n      <th>33</th>\n      <td>pokemongo</td>\n      <td>bug report</td>\n      <td>16292</td>\n    </tr>\n    <tr>\n      <th>34</th>\n      <td>pokemongo</td>\n      <td>game items trading</td>\n      <td>16164</td>\n    </tr>\n    <tr>\n      <th>35</th>\n      <td>VALORANT</td>\n      <td>gameplay discussion</td>\n      <td>15737</td>\n    </tr>\n    <tr>\n      <th>36</th>\n      <td>Genshin_Impact</td>\n      <td>lore discussion</td>\n      <td>15222</td>\n    </tr>\n    <tr>\n      <th>37</th>\n      <td>pokemon</td>\n      <td>bug report</td>\n      <td>14920</td>\n    </tr>\n    <tr>\n      <th>38</th>\n      <td>Genshin_Impact</td>\n      <td>game items trading</td>\n      <td>13295</td>\n    </tr>\n    <tr>\n      <th>39</th>\n      <td>FIFA</td>\n      <td>gameplay discussion</td>\n      <td>12814</td>\n    </tr>\n    <tr>\n      <th>40</th>\n      <td>CallOfDutyMobile</td>\n      <td>game items trading</td>\n      <td>12565</td>\n    </tr>\n    <tr>\n      <th>41</th>\n      <td>DestinyTheGame</td>\n      <td>story related discussion</td>\n      <td>12132</td>\n    </tr>\n    <tr>\n      <th>42</th>\n      <td>DestinyTheGame</td>\n      <td>lore discussion</td>\n      <td>11676</td>\n    </tr>\n    <tr>\n      <th>43</th>\n      <td>pokemon</td>\n      <td>gameplay discussion</td>\n      <td>11669</td>\n    </tr>\n    <tr>\n      <th>44</th>\n      <td>pokemon</td>\n      <td>story related discussion</td>\n      <td>10467</td>\n    </tr>\n    <tr>\n      <th>45</th>\n      <td>CallOfDutyMobile</td>\n      <td>gameplay discussion</td>\n      <td>9700</td>\n    </tr>\n    <tr>\n      <th>46</th>\n      <td>RocketLeagueExchange</td>\n      <td>lore discussion</td>\n      <td>9009</td>\n    </tr>\n    <tr>\n      <th>47</th>\n      <td>pokemongo</td>\n      <td>gameplay discussion</td>\n      <td>7870</td>\n    </tr>\n    <tr>\n      <th>48</th>\n      <td>pokemon</td>\n      <td>lore discussion</td>\n      <td>7555</td>\n    </tr>\n    <tr>\n      <th>49</th>\n      <td>RocketLeagueExchange</td>\n      <td>bug report</td>\n      <td>6065</td>\n    </tr>\n    <tr>\n      <th>50</th>\n      <td>Minecraft</td>\n      <td>story related discussion</td>\n      <td>4205</td>\n    </tr>\n    <tr>\n      <th>51</th>\n      <td>FIFA</td>\n      <td>lore discussion</td>\n      <td>4071</td>\n    </tr>\n    <tr>\n      <th>52</th>\n      <td>VALORANT</td>\n      <td>story related discussion</td>\n      <td>2906</td>\n    </tr>\n    <tr>\n      <th>53</th>\n      <td>CallOfDutyMobile</td>\n      <td>story related discussion</td>\n      <td>2701</td>\n    </tr>\n    <tr>\n      <th>54</th>\n      <td>VALORANT</td>\n      <td>lore discussion</td>\n      <td>2450</td>\n    </tr>\n    <tr>\n      <th>55</th>\n      <td>pokemongo</td>\n      <td>lore discussion</td>\n      <td>2049</td>\n    </tr>\n    <tr>\n      <th>56</th>\n      <td>CallOfDutyMobile</td>\n      <td>lore discussion</td>\n      <td>2039</td>\n    </tr>\n    <tr>\n      <th>57</th>\n      <td>FIFA</td>\n      <td>story related discussion</td>\n      <td>1546</td>\n    </tr>\n    <tr>\n      <th>58</th>\n      <td>pokemongo</td>\n      <td>story related discussion</td>\n      <td>1460</td>\n    </tr>\n    <tr>\n      <th>59</th>\n      <td>RocketLeagueExchange</td>\n      <td>story related discussion</td>\n      <td>913</td>\n    </tr>\n  </tbody>\n</table>\n</div>"
          },
          "metadata": {}
        }
      ],
      "execution_count": 23,
      "metadata": {
        "jupyter": {
          "source_hidden": false,
          "outputs_hidden": false
        },
        "nteract": {
          "transient": {
            "deleting": false
          }
        },
        "gather": {
          "logged": 1700945621140
        }
      }
    },
    {
      "cell_type": "code",
      "source": [
        "import os\n",
        "CSV_DIR = os.path.join(\"Users/ky285/fall-2023-reddit-project-team-11/data\", \"csv\")\n",
        "df_label_cnt_tot.to_csv(f\"{CSV_DIR}/total_label_count.csv\", index=False)\n",
        "df_label_cnt_sub.to_csv(f\"{CSV_DIR}/game_label_count.csv\", index=False)"
      ],
      "outputs": [
        {
          "output_type": "display_data",
          "data": {
            "application/vnd.livy.statement-meta+json": {
              "spark_pool": "3c67b279-1d53-4b7a-b0d9-41cb8b4b6723",
              "session_id": "56",
              "statement_id": 29,
              "state": "finished",
              "livy_statement_state": "available",
              "queued_time": "2023-11-25T20:56:03.9965903Z",
              "session_start_time": null,
              "execution_start_time": "2023-11-25T20:56:04.1134322Z",
              "execution_finish_time": "2023-11-25T20:56:05.6491774Z",
              "spark_jobs": {
                "numbers": {
                  "SUCCEEDED": 0,
                  "UNKNOWN": 0,
                  "RUNNING": 0,
                  "FAILED": 0
                },
                "jobs": [],
                "limit": 20,
                "rule": "ALL_DESC"
              },
              "parent_msg_id": "ecc80a00-ef7a-4250-9d0e-0fff4b26a1b1"
            },
            "text/plain": "StatementMeta(3c67b279-1d53-4b7a-b0d9-41cb8b4b6723, 56, 29, Finished, Available)"
          },
          "metadata": {}
        }
      ],
      "execution_count": 24,
      "metadata": {
        "jupyter": {
          "source_hidden": false,
          "outputs_hidden": false
        },
        "nteract": {
          "transient": {
            "deleting": false
          }
        },
        "gather": {
          "logged": 1700945765809
        }
      }
    },
    {
      "cell_type": "markdown",
      "source": [
        "# train test validation split"
      ],
      "metadata": {
        "nteract": {
          "transient": {
            "deleting": false
          }
        }
      }
    },
    {
      "cell_type": "code",
      "source": [
        "df_ml = df_label.filter((col(\"label\") == \"bug report\") | (col(\"label\") == \"gameplay discussion\") | (col(\"label\") == \"story related discussion\") | (col(\"label\") == \"lore discussion\") | (col(\"label\") == \"game items trading\"))"
      ],
      "outputs": [
        {
          "output_type": "display_data",
          "data": {
            "application/vnd.livy.statement-meta+json": {
              "spark_pool": "3c67b279-1d53-4b7a-b0d9-41cb8b4b6723",
              "session_id": "58",
              "statement_id": 18,
              "state": "finished",
              "livy_statement_state": "available",
              "queued_time": "2023-11-26T16:44:11.6537824Z",
              "session_start_time": null,
              "execution_start_time": "2023-11-26T16:44:11.7508461Z",
              "execution_finish_time": "2023-11-26T16:44:12.0671838Z",
              "spark_jobs": {
                "numbers": {
                  "SUCCEEDED": 0,
                  "UNKNOWN": 0,
                  "RUNNING": 0,
                  "FAILED": 0
                },
                "jobs": [],
                "limit": 20,
                "rule": "ALL_DESC"
              },
              "parent_msg_id": "d7e1e5c0-ab43-4f61-9b12-4f3c0ed14aa2"
            },
            "text/plain": "StatementMeta(3c67b279-1d53-4b7a-b0d9-41cb8b4b6723, 58, 18, Finished, Available)"
          },
          "metadata": {}
        }
      ],
      "execution_count": 13,
      "metadata": {
        "jupyter": {
          "source_hidden": false,
          "outputs_hidden": false
        },
        "nteract": {
          "transient": {
            "deleting": false
          }
        },
        "gather": {
          "logged": 1701017052193
        }
      }
    },
    {
      "cell_type": "code",
      "source": [
        "df_ml = df_ml.withColumn(\"over_18_str\", col(\"over_18\").cast(\"string\"))\n",
        "df_ml = df_ml.withColumn(\"spoiler_str\", col(\"spoiler\").cast(\"string\"))\n",
        "df_ml = df_ml.withColumn(\"is_video_str\", col(\"is_video\").cast(\"string\"))"
      ],
      "outputs": [
        {
          "output_type": "display_data",
          "data": {
            "application/vnd.livy.statement-meta+json": {
              "spark_pool": "3c67b279-1d53-4b7a-b0d9-41cb8b4b6723",
              "session_id": "58",
              "statement_id": 19,
              "state": "finished",
              "livy_statement_state": "available",
              "queued_time": "2023-11-26T16:44:16.9261744Z",
              "session_start_time": null,
              "execution_start_time": "2023-11-26T16:44:17.0204276Z",
              "execution_finish_time": "2023-11-26T16:44:17.3255022Z",
              "spark_jobs": {
                "numbers": {
                  "SUCCEEDED": 0,
                  "UNKNOWN": 0,
                  "RUNNING": 0,
                  "FAILED": 0
                },
                "jobs": [],
                "limit": 20,
                "rule": "ALL_DESC"
              },
              "parent_msg_id": "541e7ab6-9d43-4c7e-aa45-a17554ec73e3"
            },
            "text/plain": "StatementMeta(3c67b279-1d53-4b7a-b0d9-41cb8b4b6723, 58, 19, Finished, Available)"
          },
          "metadata": {}
        }
      ],
      "execution_count": 14,
      "metadata": {
        "jupyter": {
          "source_hidden": false,
          "outputs_hidden": false
        },
        "nteract": {
          "transient": {
            "deleting": false
          }
        },
        "gather": {
          "logged": 1701017057405
        }
      }
    },
    {
      "cell_type": "code",
      "source": [
        "df_ml.show(5)"
      ],
      "outputs": [
        {
          "output_type": "display_data",
          "data": {
            "application/vnd.livy.statement-meta+json": {
              "spark_pool": "3c67b279-1d53-4b7a-b0d9-41cb8b4b6723",
              "session_id": "58",
              "statement_id": 20,
              "state": "finished",
              "livy_statement_state": "available",
              "queued_time": "2023-11-26T16:44:19.4083339Z",
              "session_start_time": null,
              "execution_start_time": "2023-11-26T16:44:19.5062732Z",
              "execution_finish_time": "2023-11-26T16:44:21.0454163Z",
              "spark_jobs": {
                "numbers": {
                  "SUCCEEDED": 1,
                  "UNKNOWN": 0,
                  "RUNNING": 0,
                  "FAILED": 0
                },
                "jobs": [
                  {
                    "displayName": "showString at NativeMethodAccessorImpl.java:0",
                    "dataWritten": 0,
                    "dataRead": 191424,
                    "rowCount": 1,
                    "usageDescription": "",
                    "jobId": 5,
                    "name": "showString at NativeMethodAccessorImpl.java:0",
                    "description": "Job group for statement 20:\ndf_ml.show(5)",
                    "submissionTime": "2023-11-26T16:44:19.895GMT",
                    "completionTime": "2023-11-26T16:44:20.382GMT",
                    "stageIds": [
                      5
                    ],
                    "jobGroup": "20",
                    "status": "SUCCEEDED",
                    "numTasks": 1,
                    "numActiveTasks": 0,
                    "numCompletedTasks": 1,
                    "numSkippedTasks": 0,
                    "numFailedTasks": 0,
                    "numKilledTasks": 0,
                    "numCompletedIndices": 1,
                    "numActiveStages": 0,
                    "numCompletedStages": 1,
                    "numSkippedStages": 0,
                    "numFailedStages": 0,
                    "killedTasksSummary": {}
                  }
                ],
                "limit": 20,
                "rule": "ALL_DESC"
              },
              "parent_msg_id": "cdc81759-d732-4790-b369-ac06423fd328"
            },
            "text/plain": "StatementMeta(3c67b279-1d53-4b7a-b0d9-41cb8b4b6723, 58, 20, Finished, Available)"
          },
          "metadata": {}
        },
        {
          "output_type": "stream",
          "name": "stdout",
          "text": "+--------------------+-------+-------+--------+--------------------+-------------------+-----------+-----------+------------+\n|           subreddit|over_18|spoiler|is_video|          text_lower|              label|over_18_str|spoiler_str|is_video_str|\n+--------------------+-------+-------+--------+--------------------+-------------------+-----------+-----------+------------+\n|            VALORANT|  false|  false|   false|killjoy mains got...| game items trading|      false|      false|       false|\n|           Minecraft|  false|  false|   false|trident skeleton ...|         bug report|      false|      false|       false|\n|             pokemon|  false|  false|   false|the pokemontogeth...|gameplay discussion|      false|      false|       false|\n|RocketLeagueExchange|   true|  false|   false|[xbox] [h] og tac...|gameplay discussion|       true|      false|       false|\n|           Eldenring|  false|  false|   false|opinion: i do not...|    lore discussion|      false|      false|       false|\n+--------------------+-------+-------+--------+--------------------+-------------------+-----------+-----------+------------+\nonly showing top 5 rows\n\n"
        }
      ],
      "execution_count": 15,
      "metadata": {
        "jupyter": {
          "source_hidden": false,
          "outputs_hidden": false
        },
        "nteract": {
          "transient": {
            "deleting": false
          }
        },
        "gather": {
          "logged": 1701017061158
        }
      }
    },
    {
      "cell_type": "code",
      "source": [
        "df_ml = df_ml.drop(*[\"subreddit\",\"over_18\",\"spoiler\",\"is_video\"])"
      ],
      "outputs": [
        {
          "output_type": "display_data",
          "data": {
            "application/vnd.livy.statement-meta+json": {
              "spark_pool": "3c67b279-1d53-4b7a-b0d9-41cb8b4b6723",
              "session_id": "58",
              "statement_id": 21,
              "state": "finished",
              "livy_statement_state": "available",
              "queued_time": "2023-11-26T16:44:28.7897402Z",
              "session_start_time": null,
              "execution_start_time": "2023-11-26T16:44:28.8890481Z",
              "execution_finish_time": "2023-11-26T16:44:29.2881428Z",
              "spark_jobs": {
                "numbers": {
                  "SUCCEEDED": 0,
                  "UNKNOWN": 0,
                  "RUNNING": 0,
                  "FAILED": 0
                },
                "jobs": [],
                "limit": 20,
                "rule": "ALL_DESC"
              },
              "parent_msg_id": "61c93c5d-b075-47f8-b270-f3609e01209e"
            },
            "text/plain": "StatementMeta(3c67b279-1d53-4b7a-b0d9-41cb8b4b6723, 58, 21, Finished, Available)"
          },
          "metadata": {}
        }
      ],
      "execution_count": 16,
      "metadata": {
        "jupyter": {
          "source_hidden": false,
          "outputs_hidden": false
        },
        "nteract": {
          "transient": {
            "deleting": false
          }
        },
        "gather": {
          "logged": 1701017069383
        }
      }
    },
    {
      "cell_type": "code",
      "source": [
        "df_ml2 = df_ml.sample(withReplacement=False, fraction=0.2, seed=42) # create the sample df"
      ],
      "outputs": [
        {
          "output_type": "display_data",
          "data": {
            "application/vnd.livy.statement-meta+json": {
              "spark_pool": "3c67b279-1d53-4b7a-b0d9-41cb8b4b6723",
              "session_id": "58",
              "statement_id": 22,
              "state": "finished",
              "livy_statement_state": "available",
              "queued_time": "2023-11-26T16:44:36.5718016Z",
              "session_start_time": null,
              "execution_start_time": "2023-11-26T16:44:36.7099514Z",
              "execution_finish_time": "2023-11-26T16:44:37.0207923Z",
              "spark_jobs": {
                "numbers": {
                  "SUCCEEDED": 0,
                  "UNKNOWN": 0,
                  "RUNNING": 0,
                  "FAILED": 0
                },
                "jobs": [],
                "limit": 20,
                "rule": "ALL_DESC"
              },
              "parent_msg_id": "df64c864-dbc6-4b39-9675-69feb0b68ca5"
            },
            "text/plain": "StatementMeta(3c67b279-1d53-4b7a-b0d9-41cb8b4b6723, 58, 22, Finished, Available)"
          },
          "metadata": {}
        }
      ],
      "execution_count": 17,
      "metadata": {
        "jupyter": {
          "source_hidden": false,
          "outputs_hidden": false
        },
        "nteract": {
          "transient": {
            "deleting": false
          }
        },
        "gather": {
          "logged": 1701017077102
        }
      }
    },
    {
      "cell_type": "code",
      "source": [
        "df_ml.printSchema"
      ],
      "outputs": [
        {
          "output_type": "display_data",
          "data": {
            "application/vnd.livy.statement-meta+json": {
              "spark_pool": "3c67b279-1d53-4b7a-b0d9-41cb8b4b6723",
              "session_id": "58",
              "statement_id": 23,
              "state": "finished",
              "livy_statement_state": "available",
              "queued_time": "2023-11-26T16:44:38.8210729Z",
              "session_start_time": null,
              "execution_start_time": "2023-11-26T16:44:38.919252Z",
              "execution_finish_time": "2023-11-26T16:44:39.2194049Z",
              "spark_jobs": {
                "numbers": {
                  "SUCCEEDED": 0,
                  "UNKNOWN": 0,
                  "RUNNING": 0,
                  "FAILED": 0
                },
                "jobs": [],
                "limit": 20,
                "rule": "ALL_DESC"
              },
              "parent_msg_id": "b9e050fb-8490-4f75-92bb-016375ece302"
            },
            "text/plain": "StatementMeta(3c67b279-1d53-4b7a-b0d9-41cb8b4b6723, 58, 23, Finished, Available)"
          },
          "metadata": {}
        },
        {
          "output_type": "execute_result",
          "execution_count": 45,
          "data": {
            "text/plain": "<bound method DataFrame.printSchema of DataFrame[text_lower: string, label: string, over_18_str: string, spoiler_str: string, is_video_str: string]>"
          },
          "metadata": {}
        }
      ],
      "execution_count": 18,
      "metadata": {
        "jupyter": {
          "source_hidden": false,
          "outputs_hidden": false
        },
        "nteract": {
          "transient": {
            "deleting": false
          }
        },
        "gather": {
          "logged": 1701017079329
        }
      }
    },
    {
      "cell_type": "code",
      "source": [
        "train_data, test_data, val_data = df_ml2.randomSplit([0.8, 0.18, 0.02], 24)"
      ],
      "outputs": [
        {
          "output_type": "display_data",
          "data": {
            "application/vnd.livy.statement-meta+json": {
              "spark_pool": "3c67b279-1d53-4b7a-b0d9-41cb8b4b6723",
              "session_id": "58",
              "statement_id": 24,
              "state": "finished",
              "livy_statement_state": "available",
              "queued_time": "2023-11-26T16:44:48.0416171Z",
              "session_start_time": null,
              "execution_start_time": "2023-11-26T16:44:48.1748955Z",
              "execution_finish_time": "2023-11-26T16:44:48.4720933Z",
              "spark_jobs": {
                "numbers": {
                  "SUCCEEDED": 0,
                  "UNKNOWN": 0,
                  "RUNNING": 0,
                  "FAILED": 0
                },
                "jobs": [],
                "limit": 20,
                "rule": "ALL_DESC"
              },
              "parent_msg_id": "a097b51f-fee5-4169-9098-c820bfe63996"
            },
            "text/plain": "StatementMeta(3c67b279-1d53-4b7a-b0d9-41cb8b4b6723, 58, 24, Finished, Available)"
          },
          "metadata": {}
        }
      ],
      "execution_count": 19,
      "metadata": {
        "jupyter": {
          "source_hidden": false,
          "outputs_hidden": false
        },
        "nteract": {
          "transient": {
            "deleting": false
          }
        },
        "gather": {
          "logged": 1701017088553
        }
      }
    },
    {
      "cell_type": "code",
      "source": [
        "train_data2, test_data2, val_data2 = df_ml.randomSplit([0.8, 0.18, 0.02], 24)"
      ],
      "outputs": [
        {
          "output_type": "display_data",
          "data": {
            "application/vnd.livy.statement-meta+json": {
              "spark_pool": "3c67b279-1d53-4b7a-b0d9-41cb8b4b6723",
              "session_id": "58",
              "statement_id": 45,
              "state": "finished",
              "livy_statement_state": "available",
              "queued_time": "2023-11-26T18:15:44.3206715Z",
              "session_start_time": null,
              "execution_start_time": "2023-11-26T18:15:44.4645634Z",
              "execution_finish_time": "2023-11-26T18:15:44.811891Z",
              "spark_jobs": {
                "numbers": {
                  "SUCCEEDED": 0,
                  "UNKNOWN": 0,
                  "RUNNING": 0,
                  "FAILED": 0
                },
                "jobs": [],
                "limit": 20,
                "rule": "ALL_DESC"
              },
              "parent_msg_id": "dc913fea-6dd4-46b1-ba0a-72b008f39e2e"
            },
            "text/plain": "StatementMeta(3c67b279-1d53-4b7a-b0d9-41cb8b4b6723, 58, 45, Finished, Available)"
          },
          "metadata": {}
        }
      ],
      "execution_count": 40,
      "metadata": {
        "jupyter": {
          "source_hidden": false,
          "outputs_hidden": false
        },
        "nteract": {
          "transient": {
            "deleting": false
          }
        },
        "gather": {
          "logged": 1701022544904
        }
      }
    },
    {
      "cell_type": "code",
      "source": [
        "print(\"Number of training records: \" + str(train_data.count()))\n",
        "print(\"Number of testing records : \" + str(test_data.count()))\n",
        "print(\"Number of validation records : \" + str(val_data.count()))\n",
        "train_data.cache()"
      ],
      "outputs": [
        {
          "output_type": "display_data",
          "data": {
            "application/vnd.livy.statement-meta+json": {
              "spark_pool": "3c67b279-1d53-4b7a-b0d9-41cb8b4b6723",
              "session_id": "56",
              "statement_id": 32,
              "state": "finished",
              "livy_statement_state": "available",
              "queued_time": "2023-11-25T21:02:12.9339109Z",
              "session_start_time": null,
              "execution_start_time": "2023-11-25T21:02:13.0300106Z",
              "execution_finish_time": "2023-11-25T21:22:17.9672129Z",
              "spark_jobs": {
                "numbers": {
                  "SUCCEEDED": 6,
                  "UNKNOWN": 0,
                  "RUNNING": 0,
                  "FAILED": 0
                },
                "jobs": [
                  {
                    "displayName": "count at NativeMethodAccessorImpl.java:0",
                    "dataWritten": 0,
                    "dataRead": 181714,
                    "rowCount": 3080,
                    "usageDescription": "",
                    "jobId": 29,
                    "name": "count at NativeMethodAccessorImpl.java:0",
                    "description": "Job group for statement 32:\nprint(\"Number of training records: \" + str(train_data.count()))\nprint(\"Number of testing records : \" + str(test_data.count()))\nprint(\"Number of validation records : \" + str(val_data.count()))\ntrain_data.cache()",
                    "submissionTime": "2023-11-25T21:22:17.394GMT",
                    "completionTime": "2023-11-25T21:22:17.617GMT",
                    "stageIds": [
                      39,
                      40
                    ],
                    "jobGroup": "32",
                    "status": "SUCCEEDED",
                    "numTasks": 3081,
                    "numActiveTasks": 0,
                    "numCompletedTasks": 1,
                    "numSkippedTasks": 3080,
                    "numFailedTasks": 0,
                    "numKilledTasks": 0,
                    "numCompletedIndices": 1,
                    "numActiveStages": 0,
                    "numCompletedStages": 1,
                    "numSkippedStages": 1,
                    "numFailedStages": 0,
                    "killedTasksSummary": {}
                  },
                  {
                    "displayName": "count at NativeMethodAccessorImpl.java:0",
                    "dataWritten": 181714,
                    "dataRead": 1015824676,
                    "rowCount": 6160,
                    "usageDescription": "",
                    "jobId": 28,
                    "name": "count at NativeMethodAccessorImpl.java:0",
                    "description": "Job group for statement 32:\nprint(\"Number of training records: \" + str(train_data.count()))\nprint(\"Number of testing records : \" + str(test_data.count()))\nprint(\"Number of validation records : \" + str(val_data.count()))\ntrain_data.cache()",
                    "submissionTime": "2023-11-25T21:15:38.535GMT",
                    "completionTime": "2023-11-25T21:22:17.368GMT",
                    "stageIds": [
                      38
                    ],
                    "jobGroup": "32",
                    "status": "SUCCEEDED",
                    "numTasks": 3080,
                    "numActiveTasks": 0,
                    "numCompletedTasks": 3080,
                    "numSkippedTasks": 0,
                    "numFailedTasks": 0,
                    "numKilledTasks": 0,
                    "numCompletedIndices": 3080,
                    "numActiveStages": 0,
                    "numCompletedStages": 1,
                    "numSkippedStages": 0,
                    "numFailedStages": 0,
                    "killedTasksSummary": {}
                  },
                  {
                    "displayName": "count at NativeMethodAccessorImpl.java:0",
                    "dataWritten": 0,
                    "dataRead": 181720,
                    "rowCount": 3080,
                    "usageDescription": "",
                    "jobId": 27,
                    "name": "count at NativeMethodAccessorImpl.java:0",
                    "description": "Job group for statement 32:\nprint(\"Number of training records: \" + str(train_data.count()))\nprint(\"Number of testing records : \" + str(test_data.count()))\nprint(\"Number of validation records : \" + str(val_data.count()))\ntrain_data.cache()",
                    "submissionTime": "2023-11-25T21:15:38.061GMT",
                    "completionTime": "2023-11-25T21:15:38.269GMT",
                    "stageIds": [
                      37,
                      36
                    ],
                    "jobGroup": "32",
                    "status": "SUCCEEDED",
                    "numTasks": 3081,
                    "numActiveTasks": 0,
                    "numCompletedTasks": 1,
                    "numSkippedTasks": 3080,
                    "numFailedTasks": 0,
                    "numKilledTasks": 0,
                    "numCompletedIndices": 1,
                    "numActiveStages": 0,
                    "numCompletedStages": 1,
                    "numSkippedStages": 1,
                    "numFailedStages": 0,
                    "killedTasksSummary": {}
                  },
                  {
                    "displayName": "count at NativeMethodAccessorImpl.java:0",
                    "dataWritten": 181720,
                    "dataRead": 1014774705,
                    "rowCount": 6160,
                    "usageDescription": "",
                    "jobId": 26,
                    "name": "count at NativeMethodAccessorImpl.java:0",
                    "description": "Job group for statement 32:\nprint(\"Number of training records: \" + str(train_data.count()))\nprint(\"Number of testing records : \" + str(test_data.count()))\nprint(\"Number of validation records : \" + str(val_data.count()))\ntrain_data.cache()",
                    "submissionTime": "2023-11-25T21:08:54.118GMT",
                    "completionTime": "2023-11-25T21:15:38.024GMT",
                    "stageIds": [
                      35
                    ],
                    "jobGroup": "32",
                    "status": "SUCCEEDED",
                    "numTasks": 3080,
                    "numActiveTasks": 0,
                    "numCompletedTasks": 3080,
                    "numSkippedTasks": 0,
                    "numFailedTasks": 0,
                    "numKilledTasks": 0,
                    "numCompletedIndices": 3080,
                    "numActiveStages": 0,
                    "numCompletedStages": 1,
                    "numSkippedStages": 0,
                    "numFailedStages": 0,
                    "killedTasksSummary": {}
                  },
                  {
                    "displayName": "count at NativeMethodAccessorImpl.java:0",
                    "dataWritten": 0,
                    "dataRead": 181707,
                    "rowCount": 3080,
                    "usageDescription": "",
                    "jobId": 25,
                    "name": "count at NativeMethodAccessorImpl.java:0",
                    "description": "Job group for statement 32:\nprint(\"Number of training records: \" + str(train_data.count()))\nprint(\"Number of testing records : \" + str(test_data.count()))\nprint(\"Number of validation records : \" + str(val_data.count()))\ntrain_data.cache()",
                    "submissionTime": "2023-11-25T21:08:53.553GMT",
                    "completionTime": "2023-11-25T21:08:53.779GMT",
                    "stageIds": [
                      33,
                      34
                    ],
                    "jobGroup": "32",
                    "status": "SUCCEEDED",
                    "numTasks": 3081,
                    "numActiveTasks": 0,
                    "numCompletedTasks": 1,
                    "numSkippedTasks": 3080,
                    "numFailedTasks": 0,
                    "numKilledTasks": 0,
                    "numCompletedIndices": 1,
                    "numActiveStages": 0,
                    "numCompletedStages": 1,
                    "numSkippedStages": 1,
                    "numFailedStages": 0,
                    "killedTasksSummary": {}
                  },
                  {
                    "displayName": "count at NativeMethodAccessorImpl.java:0",
                    "dataWritten": 181707,
                    "dataRead": 1016037652,
                    "rowCount": 6160,
                    "usageDescription": "",
                    "jobId": 24,
                    "name": "count at NativeMethodAccessorImpl.java:0",
                    "description": "Job group for statement 32:\nprint(\"Number of training records: \" + str(train_data.count()))\nprint(\"Number of testing records : \" + str(test_data.count()))\nprint(\"Number of validation records : \" + str(val_data.count()))\ntrain_data.cache()",
                    "submissionTime": "2023-11-25T21:02:13.365GMT",
                    "completionTime": "2023-11-25T21:08:53.504GMT",
                    "stageIds": [
                      32
                    ],
                    "jobGroup": "32",
                    "status": "SUCCEEDED",
                    "numTasks": 3080,
                    "numActiveTasks": 0,
                    "numCompletedTasks": 3080,
                    "numSkippedTasks": 0,
                    "numFailedTasks": 0,
                    "numKilledTasks": 0,
                    "numCompletedIndices": 3080,
                    "numActiveStages": 0,
                    "numCompletedStages": 1,
                    "numSkippedStages": 0,
                    "numFailedStages": 0,
                    "killedTasksSummary": {}
                  }
                ],
                "limit": 20,
                "rule": "ALL_DESC"
              },
              "parent_msg_id": "f8fa06ab-ce2b-4aaf-929d-b67ab5591fcd"
            },
            "text/plain": "StatementMeta(3c67b279-1d53-4b7a-b0d9-41cb8b4b6723, 56, 32, Finished, Available)"
          },
          "metadata": {}
        },
        {
          "output_type": "stream",
          "name": "stdout",
          "text": "Number of training records: 932198\nNumber of testing records : 210806\nNumber of validation records : 23708\n"
        },
        {
          "output_type": "execute_result",
          "execution_count": 63,
          "data": {
            "text/plain": "DataFrame[subreddit: string, title: string, selftext: string, text: string, text_lower: string, label: string]"
          },
          "metadata": {}
        }
      ],
      "execution_count": 27,
      "metadata": {
        "jupyter": {
          "source_hidden": false,
          "outputs_hidden": false
        },
        "nteract": {
          "transient": {
            "deleting": false
          }
        },
        "gather": {
          "logged": 1700947338409
        }
      }
    },
    {
      "cell_type": "markdown",
      "source": [
        "# ML pipeline"
      ],
      "metadata": {
        "nteract": {
          "transient": {
            "deleting": false
          }
        }
      }
    },
    {
      "cell_type": "code",
      "source": [
        "from pyspark.ml.feature import OneHotEncoder, StringIndexer, IndexToString, VectorAssembler\n",
        "from pyspark.ml.classification import RandomForestClassifier, MultilayerPerceptronClassifier, GBTClassifier\n",
        "from pyspark.ml.evaluation import BinaryClassificationEvaluator, MulticlassClassificationEvaluator\n",
        "from pyspark.ml import Pipeline, Model"
      ],
      "outputs": [
        {
          "output_type": "display_data",
          "data": {
            "application/vnd.livy.statement-meta+json": {
              "spark_pool": "3c67b279-1d53-4b7a-b0d9-41cb8b4b6723",
              "session_id": "58",
              "statement_id": 25,
              "state": "finished",
              "livy_statement_state": "available",
              "queued_time": "2023-11-26T16:44:53.0563106Z",
              "session_start_time": null,
              "execution_start_time": "2023-11-26T16:44:53.1680572Z",
              "execution_finish_time": "2023-11-26T16:44:54.7129754Z",
              "spark_jobs": {
                "numbers": {
                  "SUCCEEDED": 0,
                  "UNKNOWN": 0,
                  "RUNNING": 0,
                  "FAILED": 0
                },
                "jobs": [],
                "limit": 20,
                "rule": "ALL_DESC"
              },
              "parent_msg_id": "496062a2-1cf6-4f8f-b967-721f521a0d99"
            },
            "text/plain": "StatementMeta(3c67b279-1d53-4b7a-b0d9-41cb8b4b6723, 58, 25, Finished, Available)"
          },
          "metadata": {}
        }
      ],
      "execution_count": 20,
      "metadata": {
        "jupyter": {
          "source_hidden": false,
          "outputs_hidden": false
        },
        "nteract": {
          "transient": {
            "deleting": false
          }
        },
        "gather": {
          "logged": 1701017094796
        }
      }
    },
    {
      "cell_type": "code",
      "source": [
        "stringIndexer_label = StringIndexer(inputCol=\"label\", outputCol=\"label_success\")\n",
        "#stringIndexer_subreddit = StringIndexer(inputCol=\"subreddit\", outputCol=\"subreddit_ix\")\n",
        "#stringIndexer_author = StringIndexer(inputCol=\"author\", outputCol=\"author_ix\")\n",
        "stringIndexer_adult = StringIndexer(inputCol=\"over_18_str\", outputCol=\"over_18_ix\")\n",
        "stringIndexer_spoiler = StringIndexer(inputCol=\"spoiler_str\", outputCol=\"spoiler_ix\")\n",
        "stringIndexer_video = StringIndexer(inputCol=\"is_video_str\", outputCol=\"is_video_ix\")"
      ],
      "outputs": [
        {
          "output_type": "display_data",
          "data": {
            "application/vnd.livy.statement-meta+json": {
              "spark_pool": "3c67b279-1d53-4b7a-b0d9-41cb8b4b6723",
              "session_id": "58",
              "statement_id": 35,
              "state": "finished",
              "livy_statement_state": "available",
              "queued_time": "2023-11-26T17:15:33.4738821Z",
              "session_start_time": null,
              "execution_start_time": "2023-11-26T17:15:34.1511784Z",
              "execution_finish_time": "2023-11-26T17:15:34.4613894Z",
              "spark_jobs": {
                "numbers": {
                  "SUCCEEDED": 0,
                  "UNKNOWN": 0,
                  "RUNNING": 0,
                  "FAILED": 0
                },
                "jobs": [],
                "limit": 20,
                "rule": "ALL_DESC"
              },
              "parent_msg_id": "cae84d75-7d81-4b4c-96bb-43a2bb602778"
            },
            "text/plain": "StatementMeta(3c67b279-1d53-4b7a-b0d9-41cb8b4b6723, 58, 35, Finished, Available)"
          },
          "metadata": {}
        }
      ],
      "execution_count": 30,
      "metadata": {
        "jupyter": {
          "source_hidden": false,
          "outputs_hidden": false
        },
        "nteract": {
          "transient": {
            "deleting": false
          }
        },
        "gather": {
          "logged": 1701018934536
        }
      }
    },
    {
      "cell_type": "code",
      "source": [
        "'''\n",
        "onehot_subreddit = OneHotEncoder(inputCol=\"subreddit_ix\", outputCol=\"subreddit_vec\")\n",
        "onehot_author = OneHotEncoder(inputCol=\"author_ix\", outputCol=\"author_vec\")\n",
        "'''"
      ],
      "outputs": [
        {
          "output_type": "display_data",
          "data": {
            "application/vnd.livy.statement-meta+json": {
              "spark_pool": "3c67b279-1d53-4b7a-b0d9-41cb8b4b6723",
              "session_id": "57",
              "statement_id": 62,
              "state": "finished",
              "livy_statement_state": "available",
              "queued_time": "2023-11-26T06:39:13.6183783Z",
              "session_start_time": null,
              "execution_start_time": "2023-11-26T06:39:13.7397613Z",
              "execution_finish_time": "2023-11-26T06:39:14.0513378Z",
              "spark_jobs": {
                "numbers": {
                  "SUCCEEDED": 0,
                  "RUNNING": 0,
                  "FAILED": 0,
                  "UNKNOWN": 0
                },
                "jobs": [],
                "limit": 20,
                "rule": "ALL_DESC"
              },
              "parent_msg_id": "4d32a42a-0ad1-4684-9bdc-b160fe249239"
            },
            "text/plain": "StatementMeta(3c67b279-1d53-4b7a-b0d9-41cb8b4b6723, 57, 62, Finished, Available)"
          },
          "metadata": {}
        }
      ],
      "execution_count": 57,
      "metadata": {
        "jupyter": {
          "source_hidden": false,
          "outputs_hidden": false
        },
        "nteract": {
          "transient": {
            "deleting": false
          }
        },
        "gather": {
          "logged": 1700980754175
        }
      }
    },
    {
      "cell_type": "code",
      "source": [
        "'''\n",
        "vectorAssembler_features = VectorAssembler(\n",
        "    inputCols=[\"subreddit_vec\", \"author_vec\"], \n",
        "    outputCol= \"str_feature\")\n",
        "'''\n",
        "vectorAssembler_features = VectorAssembler(\n",
        "    inputCols=[\"over_18_ix\", \"spoiler_ix\", \"is_video_ix\"], \n",
        "    outputCol= \"str_feature\")"
      ],
      "outputs": [
        {
          "output_type": "display_data",
          "data": {
            "application/vnd.livy.statement-meta+json": {
              "spark_pool": "3c67b279-1d53-4b7a-b0d9-41cb8b4b6723",
              "session_id": "58",
              "statement_id": 36,
              "state": "finished",
              "livy_statement_state": "available",
              "queued_time": "2023-11-26T17:15:50.7694433Z",
              "session_start_time": null,
              "execution_start_time": "2023-11-26T17:15:50.8717151Z",
              "execution_finish_time": "2023-11-26T17:15:51.1644191Z",
              "spark_jobs": {
                "numbers": {
                  "SUCCEEDED": 0,
                  "UNKNOWN": 0,
                  "RUNNING": 0,
                  "FAILED": 0
                },
                "jobs": [],
                "limit": 20,
                "rule": "ALL_DESC"
              },
              "parent_msg_id": "a3dbec23-aef4-4f4d-9e35-cdaa2ba685b7"
            },
            "text/plain": "StatementMeta(3c67b279-1d53-4b7a-b0d9-41cb8b4b6723, 58, 36, Finished, Available)"
          },
          "metadata": {}
        }
      ],
      "execution_count": 31,
      "metadata": {
        "jupyter": {
          "source_hidden": false,
          "outputs_hidden": false
        },
        "nteract": {
          "transient": {
            "deleting": false
          }
        },
        "gather": {
          "logged": 1701018951254
        }
      }
    },
    {
      "cell_type": "markdown",
      "source": [
        "# Hyperparameter set-up"
      ],
      "metadata": {
        "nteract": {
          "transient": {
            "deleting": false
          }
        }
      }
    },
    {
      "cell_type": "code",
      "source": [
        "# random forest classifier hyperparameters\n",
        "num_tree1 = 30\n",
        "max_depth1 = 2\n",
        "num_tree2 = 50\n",
        "max_depth2 = 3"
      ],
      "outputs": [
        {
          "output_type": "display_data",
          "data": {
            "application/vnd.livy.statement-meta+json": {
              "spark_pool": "3c67b279-1d53-4b7a-b0d9-41cb8b4b6723",
              "session_id": "58",
              "statement_id": 37,
              "state": "finished",
              "livy_statement_state": "available",
              "queued_time": "2023-11-26T17:16:03.4713921Z",
              "session_start_time": null,
              "execution_start_time": "2023-11-26T17:16:03.5845997Z",
              "execution_finish_time": "2023-11-26T17:16:03.8856859Z",
              "spark_jobs": {
                "numbers": {
                  "SUCCEEDED": 0,
                  "UNKNOWN": 0,
                  "RUNNING": 0,
                  "FAILED": 0
                },
                "jobs": [],
                "limit": 20,
                "rule": "ALL_DESC"
              },
              "parent_msg_id": "22c19450-9163-4aa3-98f2-1e34e1d4f4b1"
            },
            "text/plain": "StatementMeta(3c67b279-1d53-4b7a-b0d9-41cb8b4b6723, 58, 37, Finished, Available)"
          },
          "metadata": {}
        }
      ],
      "execution_count": 32,
      "metadata": {
        "jupyter": {
          "source_hidden": false,
          "outputs_hidden": false
        },
        "nteract": {
          "transient": {
            "deleting": false
          }
        },
        "gather": {
          "logged": 1701018964015
        }
      }
    },
    {
      "cell_type": "code",
      "source": [
        "model_rf1 = RandomForestClassifier(labelCol=\"label_success\", featuresCol=\"str_feature\", numTrees=num_tree1, maxDepth=max_depth1)"
      ],
      "outputs": [
        {
          "output_type": "display_data",
          "data": {
            "application/vnd.livy.statement-meta+json": {
              "spark_pool": "3c67b279-1d53-4b7a-b0d9-41cb8b4b6723",
              "session_id": "58",
              "statement_id": 38,
              "state": "finished",
              "livy_statement_state": "available",
              "queued_time": "2023-11-26T17:16:04.7037311Z",
              "session_start_time": null,
              "execution_start_time": "2023-11-26T17:16:04.805304Z",
              "execution_finish_time": "2023-11-26T17:16:05.0880038Z",
              "spark_jobs": {
                "numbers": {
                  "SUCCEEDED": 0,
                  "UNKNOWN": 0,
                  "RUNNING": 0,
                  "FAILED": 0
                },
                "jobs": [],
                "limit": 20,
                "rule": "ALL_DESC"
              },
              "parent_msg_id": "6430a84b-9575-4bc3-af0e-31482f8fe7d4"
            },
            "text/plain": "StatementMeta(3c67b279-1d53-4b7a-b0d9-41cb8b4b6723, 58, 38, Finished, Available)"
          },
          "metadata": {}
        }
      ],
      "execution_count": 33,
      "metadata": {
        "jupyter": {
          "source_hidden": false,
          "outputs_hidden": false
        },
        "nteract": {
          "transient": {
            "deleting": false
          }
        },
        "gather": {
          "logged": 1701018965158
        }
      }
    },
    {
      "cell_type": "code",
      "source": [
        "labelConverter = IndexToString(inputCol=\"prediction\", \n",
        "                               outputCol=\"predictedLabel\", \n",
        "                               labels= [\"bug report\", \"gameplay discussion\", \"story related discussion\",\"lore discussion\",\"game items trading\"])"
      ],
      "outputs": [
        {
          "output_type": "display_data",
          "data": {
            "application/vnd.livy.statement-meta+json": {
              "spark_pool": "3c67b279-1d53-4b7a-b0d9-41cb8b4b6723",
              "session_id": "58",
              "statement_id": 39,
              "state": "finished",
              "livy_statement_state": "available",
              "queued_time": "2023-11-26T17:16:07.1701653Z",
              "session_start_time": null,
              "execution_start_time": "2023-11-26T17:16:07.2655948Z",
              "execution_finish_time": "2023-11-26T17:16:07.5533544Z",
              "spark_jobs": {
                "numbers": {
                  "SUCCEEDED": 0,
                  "UNKNOWN": 0,
                  "RUNNING": 0,
                  "FAILED": 0
                },
                "jobs": [],
                "limit": 20,
                "rule": "ALL_DESC"
              },
              "parent_msg_id": "fa2c567f-1684-49ee-a7ae-b33429b9db8b"
            },
            "text/plain": "StatementMeta(3c67b279-1d53-4b7a-b0d9-41cb8b4b6723, 58, 39, Finished, Available)"
          },
          "metadata": {}
        }
      ],
      "execution_count": 34,
      "metadata": {
        "jupyter": {
          "source_hidden": false,
          "outputs_hidden": false
        },
        "nteract": {
          "transient": {
            "deleting": false
          }
        },
        "gather": {
          "logged": 1701018967706
        }
      }
    },
    {
      "cell_type": "code",
      "source": [
        "'''\n",
        "pipeline_model_rf = Pipeline(stages=[stringIndexer_label, \n",
        "                               stringIndexer_subreddit, \n",
        "                               stringIndexer_author, \n",
        "                               stringIndexer_adult,\n",
        "                               stringIndexer_spoiler,\n",
        "                               stringIndexer_video, \n",
        "                               onehot_author,\n",
        "                               onehot_subreddit,\n",
        "                               vectorAssembler_features, \n",
        "                               model_rf1, labelConverter])\n",
        "\n",
        "'''\n",
        "\n",
        "pipeline_model_rf = Pipeline(stages=[stringIndexer_label,\n",
        "                               stringIndexer_adult,\n",
        "                               stringIndexer_spoiler,\n",
        "                               stringIndexer_video,\n",
        "                               vectorAssembler_features, \n",
        "                               model_rf1, labelConverter])"
      ],
      "outputs": [
        {
          "output_type": "display_data",
          "data": {
            "application/vnd.livy.statement-meta+json": {
              "spark_pool": "3c67b279-1d53-4b7a-b0d9-41cb8b4b6723",
              "session_id": "58",
              "statement_id": 40,
              "state": "finished",
              "livy_statement_state": "available",
              "queued_time": "2023-11-26T17:16:31.9853718Z",
              "session_start_time": null,
              "execution_start_time": "2023-11-26T17:16:32.0928823Z",
              "execution_finish_time": "2023-11-26T17:16:32.3928432Z",
              "spark_jobs": {
                "numbers": {
                  "SUCCEEDED": 0,
                  "UNKNOWN": 0,
                  "RUNNING": 0,
                  "FAILED": 0
                },
                "jobs": [],
                "limit": 20,
                "rule": "ALL_DESC"
              },
              "parent_msg_id": "bfc7a1be-112b-48d2-a7d6-2cca4f53106e"
            },
            "text/plain": "StatementMeta(3c67b279-1d53-4b7a-b0d9-41cb8b4b6723, 58, 40, Finished, Available)"
          },
          "metadata": {}
        }
      ],
      "execution_count": 35,
      "metadata": {
        "jupyter": {
          "source_hidden": false,
          "outputs_hidden": false
        },
        "nteract": {
          "transient": {
            "deleting": false
          }
        },
        "gather": {
          "logged": 1701018992463
        }
      }
    },
    {
      "cell_type": "code",
      "source": [
        "model_rf1 = pipeline_model_rf.fit(train_data)"
      ],
      "outputs": [
        {
          "output_type": "display_data",
          "data": {
            "application/vnd.livy.statement-meta+json": {
              "spark_pool": "3c67b279-1d53-4b7a-b0d9-41cb8b4b6723",
              "session_id": "58",
              "statement_id": 41,
              "state": "finished",
              "livy_statement_state": "available",
              "queued_time": "2023-11-26T17:16:37.5750341Z",
              "session_start_time": null,
              "execution_start_time": "2023-11-26T17:16:37.6833496Z",
              "execution_finish_time": "2023-11-26T17:59:01.9990665Z",
              "spark_jobs": {
                "numbers": {
                  "SUCCEEDED": 12,
                  "UNKNOWN": 0,
                  "RUNNING": 0,
                  "FAILED": 0
                },
                "jobs": [
                  {
                    "displayName": "collectAsMap at RandomForest.scala:663",
                    "dataWritten": 63956287,
                    "dataRead": 110298370,
                    "rowCount": 590294,
                    "usageDescription": "",
                    "jobId": 19,
                    "name": "collectAsMap at RandomForest.scala:663",
                    "description": "Job group for statement 41:\nmodel_rf1 = pipeline_model_rf.fit(train_data)",
                    "submissionTime": "2023-11-26T17:58:40.022GMT",
                    "completionTime": "2023-11-26T17:58:57.865GMT",
                    "stageIds": [
                      25,
                      26
                    ],
                    "jobGroup": "41",
                    "status": "SUCCEEDED",
                    "numTasks": 6160,
                    "numActiveTasks": 0,
                    "numCompletedTasks": 6160,
                    "numSkippedTasks": 0,
                    "numFailedTasks": 0,
                    "numKilledTasks": 0,
                    "numCompletedIndices": 6160,
                    "numActiveStages": 0,
                    "numCompletedStages": 2,
                    "numSkippedStages": 0,
                    "numFailedStages": 0,
                    "killedTasksSummary": {}
                  },
                  {
                    "displayName": "collectAsMap at RandomForest.scala:663",
                    "dataWritten": 33796452,
                    "dataRead": 1055356474,
                    "rowCount": 187880,
                    "usageDescription": "",
                    "jobId": 18,
                    "name": "collectAsMap at RandomForest.scala:663",
                    "description": "Job group for statement 41:\nmodel_rf1 = pipeline_model_rf.fit(train_data)",
                    "submissionTime": "2023-11-26T17:51:21.447GMT",
                    "completionTime": "2023-11-26T17:58:39.939GMT",
                    "stageIds": [
                      24,
                      23
                    ],
                    "jobGroup": "41",
                    "status": "SUCCEEDED",
                    "numTasks": 6160,
                    "numActiveTasks": 0,
                    "numCompletedTasks": 6160,
                    "numSkippedTasks": 0,
                    "numFailedTasks": 0,
                    "numKilledTasks": 0,
                    "numCompletedIndices": 6160,
                    "numActiveStages": 0,
                    "numCompletedStages": 2,
                    "numSkippedStages": 0,
                    "numFailedStages": 0,
                    "killedTasksSummary": {}
                  },
                  {
                    "displayName": "aggregate at DecisionTreeMetadata.scala:125",
                    "dataWritten": 0,
                    "dataRead": 1016485066,
                    "rowCount": 3080,
                    "usageDescription": "",
                    "jobId": 17,
                    "name": "aggregate at DecisionTreeMetadata.scala:125",
                    "description": "Job group for statement 41:\nmodel_rf1 = pipeline_model_rf.fit(train_data)",
                    "submissionTime": "2023-11-26T17:44:25.341GMT",
                    "completionTime": "2023-11-26T17:51:21.291GMT",
                    "stageIds": [
                      22
                    ],
                    "jobGroup": "41",
                    "status": "SUCCEEDED",
                    "numTasks": 3080,
                    "numActiveTasks": 0,
                    "numCompletedTasks": 3080,
                    "numSkippedTasks": 0,
                    "numFailedTasks": 0,
                    "numKilledTasks": 0,
                    "numCompletedIndices": 3080,
                    "numActiveStages": 0,
                    "numCompletedStages": 1,
                    "numSkippedStages": 0,
                    "numFailedStages": 0,
                    "killedTasksSummary": {}
                  },
                  {
                    "displayName": "take at DecisionTreeMetadata.scala:119",
                    "dataWritten": 0,
                    "dataRead": 191424,
                    "rowCount": 1,
                    "usageDescription": "",
                    "jobId": 16,
                    "name": "take at DecisionTreeMetadata.scala:119",
                    "description": "Job group for statement 41:\nmodel_rf1 = pipeline_model_rf.fit(train_data)",
                    "submissionTime": "2023-11-26T17:44:24.229GMT",
                    "completionTime": "2023-11-26T17:44:25.320GMT",
                    "stageIds": [
                      21
                    ],
                    "jobGroup": "41",
                    "status": "SUCCEEDED",
                    "numTasks": 1,
                    "numActiveTasks": 0,
                    "numCompletedTasks": 1,
                    "numSkippedTasks": 0,
                    "numFailedTasks": 0,
                    "numKilledTasks": 0,
                    "numCompletedIndices": 1,
                    "numActiveStages": 0,
                    "numCompletedStages": 1,
                    "numSkippedStages": 0,
                    "numFailedStages": 0,
                    "killedTasksSummary": {}
                  },
                  {
                    "displayName": "collect at StringIndexer.scala:204",
                    "dataWritten": 0,
                    "dataRead": 1543325,
                    "rowCount": 3080,
                    "usageDescription": "",
                    "jobId": 15,
                    "name": "collect at StringIndexer.scala:204",
                    "description": "Job group for statement 41:\nmodel_rf1 = pipeline_model_rf.fit(train_data)",
                    "submissionTime": "2023-11-26T17:44:22.791GMT",
                    "completionTime": "2023-11-26T17:44:23.157GMT",
                    "stageIds": [
                      19,
                      20
                    ],
                    "jobGroup": "41",
                    "status": "SUCCEEDED",
                    "numTasks": 3081,
                    "numActiveTasks": 0,
                    "numCompletedTasks": 1,
                    "numSkippedTasks": 3080,
                    "numFailedTasks": 0,
                    "numKilledTasks": 0,
                    "numCompletedIndices": 1,
                    "numActiveStages": 0,
                    "numCompletedStages": 1,
                    "numSkippedStages": 1,
                    "numFailedStages": 0,
                    "killedTasksSummary": {}
                  },
                  {
                    "displayName": "collect at StringIndexer.scala:204",
                    "dataWritten": 1543325,
                    "dataRead": 1016830283,
                    "rowCount": 6160,
                    "usageDescription": "",
                    "jobId": 14,
                    "name": "collect at StringIndexer.scala:204",
                    "description": "Job group for statement 41:\nmodel_rf1 = pipeline_model_rf.fit(train_data)",
                    "submissionTime": "2023-11-26T17:37:27.143GMT",
                    "completionTime": "2023-11-26T17:44:22.725GMT",
                    "stageIds": [
                      18
                    ],
                    "jobGroup": "41",
                    "status": "SUCCEEDED",
                    "numTasks": 3080,
                    "numActiveTasks": 0,
                    "numCompletedTasks": 3080,
                    "numSkippedTasks": 0,
                    "numFailedTasks": 0,
                    "numKilledTasks": 0,
                    "numCompletedIndices": 3080,
                    "numActiveStages": 0,
                    "numCompletedStages": 1,
                    "numSkippedStages": 0,
                    "numFailedStages": 0,
                    "killedTasksSummary": {}
                  },
                  {
                    "displayName": "collect at StringIndexer.scala:204",
                    "dataWritten": 0,
                    "dataRead": 1541143,
                    "rowCount": 3080,
                    "usageDescription": "",
                    "jobId": 13,
                    "name": "collect at StringIndexer.scala:204",
                    "description": "Job group for statement 41:\nmodel_rf1 = pipeline_model_rf.fit(train_data)",
                    "submissionTime": "2023-11-26T17:37:26.191GMT",
                    "completionTime": "2023-11-26T17:37:26.527GMT",
                    "stageIds": [
                      16,
                      17
                    ],
                    "jobGroup": "41",
                    "status": "SUCCEEDED",
                    "numTasks": 3081,
                    "numActiveTasks": 0,
                    "numCompletedTasks": 1,
                    "numSkippedTasks": 3080,
                    "numFailedTasks": 0,
                    "numKilledTasks": 0,
                    "numCompletedIndices": 1,
                    "numActiveStages": 0,
                    "numCompletedStages": 1,
                    "numSkippedStages": 1,
                    "numFailedStages": 0,
                    "killedTasksSummary": {}
                  },
                  {
                    "displayName": "collect at StringIndexer.scala:204",
                    "dataWritten": 1541143,
                    "dataRead": 1016845542,
                    "rowCount": 6160,
                    "usageDescription": "",
                    "jobId": 12,
                    "name": "collect at StringIndexer.scala:204",
                    "description": "Job group for statement 41:\nmodel_rf1 = pipeline_model_rf.fit(train_data)",
                    "submissionTime": "2023-11-26T17:30:30.801GMT",
                    "completionTime": "2023-11-26T17:37:26.119GMT",
                    "stageIds": [
                      15
                    ],
                    "jobGroup": "41",
                    "status": "SUCCEEDED",
                    "numTasks": 3080,
                    "numActiveTasks": 0,
                    "numCompletedTasks": 3080,
                    "numSkippedTasks": 0,
                    "numFailedTasks": 0,
                    "numKilledTasks": 0,
                    "numCompletedIndices": 3080,
                    "numActiveStages": 0,
                    "numCompletedStages": 1,
                    "numSkippedStages": 0,
                    "numFailedStages": 0,
                    "killedTasksSummary": {}
                  },
                  {
                    "displayName": "collect at StringIndexer.scala:204",
                    "dataWritten": 0,
                    "dataRead": 1515207,
                    "rowCount": 3080,
                    "usageDescription": "",
                    "jobId": 11,
                    "name": "collect at StringIndexer.scala:204",
                    "description": "Job group for statement 41:\nmodel_rf1 = pipeline_model_rf.fit(train_data)",
                    "submissionTime": "2023-11-26T17:30:29.958GMT",
                    "completionTime": "2023-11-26T17:30:30.308GMT",
                    "stageIds": [
                      13,
                      14
                    ],
                    "jobGroup": "41",
                    "status": "SUCCEEDED",
                    "numTasks": 3081,
                    "numActiveTasks": 0,
                    "numCompletedTasks": 1,
                    "numSkippedTasks": 3080,
                    "numFailedTasks": 0,
                    "numKilledTasks": 0,
                    "numCompletedIndices": 1,
                    "numActiveStages": 0,
                    "numCompletedStages": 1,
                    "numSkippedStages": 1,
                    "numFailedStages": 0,
                    "killedTasksSummary": {}
                  },
                  {
                    "displayName": "collect at StringIndexer.scala:204",
                    "dataWritten": 1515207,
                    "dataRead": 1016667816,
                    "rowCount": 6160,
                    "usageDescription": "",
                    "jobId": 10,
                    "name": "collect at StringIndexer.scala:204",
                    "description": "Job group for statement 41:\nmodel_rf1 = pipeline_model_rf.fit(train_data)",
                    "submissionTime": "2023-11-26T17:23:35.262GMT",
                    "completionTime": "2023-11-26T17:30:29.922GMT",
                    "stageIds": [
                      12
                    ],
                    "jobGroup": "41",
                    "status": "SUCCEEDED",
                    "numTasks": 3080,
                    "numActiveTasks": 0,
                    "numCompletedTasks": 3080,
                    "numSkippedTasks": 0,
                    "numFailedTasks": 0,
                    "numKilledTasks": 0,
                    "numCompletedIndices": 3080,
                    "numActiveStages": 0,
                    "numCompletedStages": 1,
                    "numSkippedStages": 0,
                    "numFailedStages": 0,
                    "killedTasksSummary": {}
                  },
                  {
                    "displayName": "collect at StringIndexer.scala:204",
                    "dataWritten": 0,
                    "dataRead": 1786369,
                    "rowCount": 3080,
                    "usageDescription": "",
                    "jobId": 9,
                    "name": "collect at StringIndexer.scala:204",
                    "description": "Job group for statement 41:\nmodel_rf1 = pipeline_model_rf.fit(train_data)",
                    "submissionTime": "2023-11-26T17:23:33.847GMT",
                    "completionTime": "2023-11-26T17:23:34.773GMT",
                    "stageIds": [
                      10,
                      11
                    ],
                    "jobGroup": "41",
                    "status": "SUCCEEDED",
                    "numTasks": 3081,
                    "numActiveTasks": 0,
                    "numCompletedTasks": 1,
                    "numSkippedTasks": 3080,
                    "numFailedTasks": 0,
                    "numKilledTasks": 0,
                    "numCompletedIndices": 1,
                    "numActiveStages": 0,
                    "numCompletedStages": 1,
                    "numSkippedStages": 1,
                    "numFailedStages": 0,
                    "killedTasksSummary": {}
                  },
                  {
                    "displayName": "collect at StringIndexer.scala:204",
                    "dataWritten": 1786369,
                    "dataRead": 1017287597,
                    "rowCount": 6160,
                    "usageDescription": "",
                    "jobId": 8,
                    "name": "collect at StringIndexer.scala:204",
                    "description": "Job group for statement 41:\nmodel_rf1 = pipeline_model_rf.fit(train_data)",
                    "submissionTime": "2023-11-26T17:16:37.946GMT",
                    "completionTime": "2023-11-26T17:23:33.800GMT",
                    "stageIds": [
                      9
                    ],
                    "jobGroup": "41",
                    "status": "SUCCEEDED",
                    "numTasks": 3080,
                    "numActiveTasks": 0,
                    "numCompletedTasks": 3080,
                    "numSkippedTasks": 0,
                    "numFailedTasks": 0,
                    "numKilledTasks": 0,
                    "numCompletedIndices": 3080,
                    "numActiveStages": 0,
                    "numCompletedStages": 1,
                    "numSkippedStages": 0,
                    "numFailedStages": 0,
                    "killedTasksSummary": {}
                  }
                ],
                "limit": 20,
                "rule": "ALL_DESC"
              },
              "parent_msg_id": "a03a8675-0357-4aec-ba8e-231e3e78cd46"
            },
            "text/plain": "StatementMeta(3c67b279-1d53-4b7a-b0d9-41cb8b4b6723, 58, 41, Finished, Available)"
          },
          "metadata": {}
        }
      ],
      "execution_count": 36,
      "metadata": {
        "jupyter": {
          "source_hidden": false,
          "outputs_hidden": false
        },
        "nteract": {
          "transient": {
            "deleting": false
          }
        },
        "gather": {
          "logged": 1701021542536
        }
      }
    },
    {
      "cell_type": "code",
      "source": [
        "model_rf_full = pipeline_model_rf.fit(train_data2)"
      ],
      "outputs": [
        {
          "output_type": "display_data",
          "data": {
            "application/vnd.livy.statement-meta+json": {
              "spark_pool": "3c67b279-1d53-4b7a-b0d9-41cb8b4b6723",
              "session_id": "58",
              "statement_id": 46,
              "state": "finished",
              "livy_statement_state": "available",
              "queued_time": "2023-11-26T18:16:17.8404901Z",
              "session_start_time": null,
              "execution_start_time": "2023-11-26T18:16:17.9471514Z",
              "execution_finish_time": "2023-11-26T19:00:40.9587759Z",
              "spark_jobs": {
                "numbers": {
                  "SUCCEEDED": 12,
                  "UNKNOWN": 0,
                  "RUNNING": 0,
                  "FAILED": 0
                },
                "jobs": [
                  {
                    "displayName": "collectAsMap at RandomForest.scala:663",
                    "dataWritten": 66420630,
                    "dataRead": 291753929,
                    "rowCount": 1474884,
                    "usageDescription": "",
                    "jobId": 33,
                    "name": "collectAsMap at RandomForest.scala:663",
                    "description": "Job group for statement 46:\nmodel_rf_full = pipeline_model_rf.fit(train_data2)",
                    "submissionTime": "2023-11-26T19:00:22.167GMT",
                    "completionTime": "2023-11-26T19:00:40.281GMT",
                    "stageIds": [
                      46,
                      47
                    ],
                    "jobGroup": "46",
                    "status": "SUCCEEDED",
                    "numTasks": 6160,
                    "numActiveTasks": 0,
                    "numCompletedTasks": 6160,
                    "numSkippedTasks": 0,
                    "numFailedTasks": 0,
                    "numKilledTasks": 0,
                    "numCompletedIndices": 6160,
                    "numActiveStages": 0,
                    "numCompletedStages": 2,
                    "numSkippedStages": 0,
                    "numFailedStages": 0,
                    "killedTasksSummary": {}
                  },
                  {
                    "displayName": "collectAsMap at RandomForest.scala:663",
                    "dataWritten": 35789016,
                    "dataRead": 1057285070,
                    "rowCount": 187880,
                    "usageDescription": "",
                    "jobId": 32,
                    "name": "collectAsMap at RandomForest.scala:663",
                    "description": "Job group for statement 46:\nmodel_rf_full = pipeline_model_rf.fit(train_data2)",
                    "submissionTime": "2023-11-26T18:52:40.616GMT",
                    "completionTime": "2023-11-26T19:00:22.120GMT",
                    "stageIds": [
                      45,
                      44
                    ],
                    "jobGroup": "46",
                    "status": "SUCCEEDED",
                    "numTasks": 6160,
                    "numActiveTasks": 0,
                    "numCompletedTasks": 6160,
                    "numSkippedTasks": 0,
                    "numFailedTasks": 0,
                    "numKilledTasks": 0,
                    "numCompletedIndices": 6160,
                    "numActiveStages": 0,
                    "numCompletedStages": 2,
                    "numSkippedStages": 0,
                    "numFailedStages": 0,
                    "killedTasksSummary": {}
                  },
                  {
                    "displayName": "aggregate at DecisionTreeMetadata.scala:125",
                    "dataWritten": 0,
                    "dataRead": 1015996386,
                    "rowCount": 3080,
                    "usageDescription": "",
                    "jobId": 31,
                    "name": "aggregate at DecisionTreeMetadata.scala:125",
                    "description": "Job group for statement 46:\nmodel_rf_full = pipeline_model_rf.fit(train_data2)",
                    "submissionTime": "2023-11-26T18:45:25.379GMT",
                    "completionTime": "2023-11-26T18:52:40.570GMT",
                    "stageIds": [
                      43
                    ],
                    "jobGroup": "46",
                    "status": "SUCCEEDED",
                    "numTasks": 3080,
                    "numActiveTasks": 0,
                    "numCompletedTasks": 3080,
                    "numSkippedTasks": 0,
                    "numFailedTasks": 0,
                    "numKilledTasks": 0,
                    "numCompletedIndices": 3080,
                    "numActiveStages": 0,
                    "numCompletedStages": 1,
                    "numSkippedStages": 0,
                    "numFailedStages": 0,
                    "killedTasksSummary": {}
                  },
                  {
                    "displayName": "take at DecisionTreeMetadata.scala:119",
                    "dataWritten": 0,
                    "dataRead": 191424,
                    "rowCount": 1,
                    "usageDescription": "",
                    "jobId": 30,
                    "name": "take at DecisionTreeMetadata.scala:119",
                    "description": "Job group for statement 46:\nmodel_rf_full = pipeline_model_rf.fit(train_data2)",
                    "submissionTime": "2023-11-26T18:45:24.848GMT",
                    "completionTime": "2023-11-26T18:45:25.360GMT",
                    "stageIds": [
                      42
                    ],
                    "jobGroup": "46",
                    "status": "SUCCEEDED",
                    "numTasks": 1,
                    "numActiveTasks": 0,
                    "numCompletedTasks": 1,
                    "numSkippedTasks": 0,
                    "numFailedTasks": 0,
                    "numKilledTasks": 0,
                    "numCompletedIndices": 1,
                    "numActiveStages": 0,
                    "numCompletedStages": 1,
                    "numSkippedStages": 0,
                    "numFailedStages": 0,
                    "killedTasksSummary": {}
                  },
                  {
                    "displayName": "collect at StringIndexer.scala:204",
                    "dataWritten": 0,
                    "dataRead": 1549300,
                    "rowCount": 3080,
                    "usageDescription": "",
                    "jobId": 29,
                    "name": "collect at StringIndexer.scala:204",
                    "description": "Job group for statement 46:\nmodel_rf_full = pipeline_model_rf.fit(train_data2)",
                    "submissionTime": "2023-11-26T18:45:23.990GMT",
                    "completionTime": "2023-11-26T18:45:24.189GMT",
                    "stageIds": [
                      40,
                      41
                    ],
                    "jobGroup": "46",
                    "status": "SUCCEEDED",
                    "numTasks": 3081,
                    "numActiveTasks": 0,
                    "numCompletedTasks": 1,
                    "numSkippedTasks": 3080,
                    "numFailedTasks": 0,
                    "numKilledTasks": 0,
                    "numCompletedIndices": 1,
                    "numActiveStages": 0,
                    "numCompletedStages": 1,
                    "numSkippedStages": 1,
                    "numFailedStages": 0,
                    "killedTasksSummary": {}
                  },
                  {
                    "displayName": "collect at StringIndexer.scala:204",
                    "dataWritten": 1549300,
                    "dataRead": 1016396246,
                    "rowCount": 6160,
                    "usageDescription": "",
                    "jobId": 28,
                    "name": "collect at StringIndexer.scala:204",
                    "description": "Job group for statement 46:\nmodel_rf_full = pipeline_model_rf.fit(train_data2)",
                    "submissionTime": "2023-11-26T18:38:07.386GMT",
                    "completionTime": "2023-11-26T18:45:23.941GMT",
                    "stageIds": [
                      39
                    ],
                    "jobGroup": "46",
                    "status": "SUCCEEDED",
                    "numTasks": 3080,
                    "numActiveTasks": 0,
                    "numCompletedTasks": 3080,
                    "numSkippedTasks": 0,
                    "numFailedTasks": 0,
                    "numKilledTasks": 0,
                    "numCompletedIndices": 3080,
                    "numActiveStages": 0,
                    "numCompletedStages": 1,
                    "numSkippedStages": 0,
                    "numFailedStages": 0,
                    "killedTasksSummary": {}
                  },
                  {
                    "displayName": "collect at StringIndexer.scala:204",
                    "dataWritten": 0,
                    "dataRead": 1549291,
                    "rowCount": 3080,
                    "usageDescription": "",
                    "jobId": 27,
                    "name": "collect at StringIndexer.scala:204",
                    "description": "Job group for statement 46:\nmodel_rf_full = pipeline_model_rf.fit(train_data2)",
                    "submissionTime": "2023-11-26T18:38:06.902GMT",
                    "completionTime": "2023-11-26T18:38:07.112GMT",
                    "stageIds": [
                      37,
                      38
                    ],
                    "jobGroup": "46",
                    "status": "SUCCEEDED",
                    "numTasks": 3081,
                    "numActiveTasks": 0,
                    "numCompletedTasks": 1,
                    "numSkippedTasks": 3080,
                    "numFailedTasks": 0,
                    "numKilledTasks": 0,
                    "numCompletedIndices": 1,
                    "numActiveStages": 0,
                    "numCompletedStages": 1,
                    "numSkippedStages": 1,
                    "numFailedStages": 0,
                    "killedTasksSummary": {}
                  },
                  {
                    "displayName": "collect at StringIndexer.scala:204",
                    "dataWritten": 1549291,
                    "dataRead": 1016552477,
                    "rowCount": 6160,
                    "usageDescription": "",
                    "jobId": 26,
                    "name": "collect at StringIndexer.scala:204",
                    "description": "Job group for statement 46:\nmodel_rf_full = pipeline_model_rf.fit(train_data2)",
                    "submissionTime": "2023-11-26T18:30:51.750GMT",
                    "completionTime": "2023-11-26T18:38:06.865GMT",
                    "stageIds": [
                      36
                    ],
                    "jobGroup": "46",
                    "status": "SUCCEEDED",
                    "numTasks": 3080,
                    "numActiveTasks": 0,
                    "numCompletedTasks": 3080,
                    "numSkippedTasks": 0,
                    "numFailedTasks": 0,
                    "numKilledTasks": 0,
                    "numCompletedIndices": 3080,
                    "numActiveStages": 0,
                    "numCompletedStages": 1,
                    "numSkippedStages": 0,
                    "numFailedStages": 0,
                    "killedTasksSummary": {}
                  },
                  {
                    "displayName": "collect at StringIndexer.scala:204",
                    "dataWritten": 0,
                    "dataRead": 1541503,
                    "rowCount": 3080,
                    "usageDescription": "",
                    "jobId": 25,
                    "name": "collect at StringIndexer.scala:204",
                    "description": "Job group for statement 46:\nmodel_rf_full = pipeline_model_rf.fit(train_data2)",
                    "submissionTime": "2023-11-26T18:30:51.251GMT",
                    "completionTime": "2023-11-26T18:30:51.464GMT",
                    "stageIds": [
                      34,
                      35
                    ],
                    "jobGroup": "46",
                    "status": "SUCCEEDED",
                    "numTasks": 3081,
                    "numActiveTasks": 0,
                    "numCompletedTasks": 1,
                    "numSkippedTasks": 3080,
                    "numFailedTasks": 0,
                    "numKilledTasks": 0,
                    "numCompletedIndices": 1,
                    "numActiveStages": 0,
                    "numCompletedStages": 1,
                    "numSkippedStages": 1,
                    "numFailedStages": 0,
                    "killedTasksSummary": {}
                  },
                  {
                    "displayName": "collect at StringIndexer.scala:204",
                    "dataWritten": 1541503,
                    "dataRead": 1016744503,
                    "rowCount": 6160,
                    "usageDescription": "",
                    "jobId": 24,
                    "name": "collect at StringIndexer.scala:204",
                    "description": "Job group for statement 46:\nmodel_rf_full = pipeline_model_rf.fit(train_data2)",
                    "submissionTime": "2023-11-26T18:23:35.541GMT",
                    "completionTime": "2023-11-26T18:30:51.216GMT",
                    "stageIds": [
                      33
                    ],
                    "jobGroup": "46",
                    "status": "SUCCEEDED",
                    "numTasks": 3080,
                    "numActiveTasks": 0,
                    "numCompletedTasks": 3080,
                    "numSkippedTasks": 0,
                    "numFailedTasks": 0,
                    "numKilledTasks": 0,
                    "numCompletedIndices": 3080,
                    "numActiveStages": 0,
                    "numCompletedStages": 1,
                    "numSkippedStages": 0,
                    "numFailedStages": 0,
                    "killedTasksSummary": {}
                  },
                  {
                    "displayName": "collect at StringIndexer.scala:204",
                    "dataWritten": 0,
                    "dataRead": 1790299,
                    "rowCount": 3080,
                    "usageDescription": "",
                    "jobId": 23,
                    "name": "collect at StringIndexer.scala:204",
                    "description": "Job group for statement 46:\nmodel_rf_full = pipeline_model_rf.fit(train_data2)",
                    "submissionTime": "2023-11-26T18:23:34.970GMT",
                    "completionTime": "2023-11-26T18:23:35.204GMT",
                    "stageIds": [
                      31,
                      32
                    ],
                    "jobGroup": "46",
                    "status": "SUCCEEDED",
                    "numTasks": 3081,
                    "numActiveTasks": 0,
                    "numCompletedTasks": 1,
                    "numSkippedTasks": 3080,
                    "numFailedTasks": 0,
                    "numKilledTasks": 0,
                    "numCompletedIndices": 1,
                    "numActiveStages": 0,
                    "numCompletedStages": 1,
                    "numSkippedStages": 1,
                    "numFailedStages": 0,
                    "killedTasksSummary": {}
                  },
                  {
                    "displayName": "collect at StringIndexer.scala:204",
                    "dataWritten": 1790299,
                    "dataRead": 1016810072,
                    "rowCount": 6160,
                    "usageDescription": "",
                    "jobId": 22,
                    "name": "collect at StringIndexer.scala:204",
                    "description": "Job group for statement 46:\nmodel_rf_full = pipeline_model_rf.fit(train_data2)",
                    "submissionTime": "2023-11-26T18:16:18.120GMT",
                    "completionTime": "2023-11-26T18:23:34.899GMT",
                    "stageIds": [
                      30
                    ],
                    "jobGroup": "46",
                    "status": "SUCCEEDED",
                    "numTasks": 3080,
                    "numActiveTasks": 0,
                    "numCompletedTasks": 3080,
                    "numSkippedTasks": 0,
                    "numFailedTasks": 0,
                    "numKilledTasks": 0,
                    "numCompletedIndices": 3080,
                    "numActiveStages": 0,
                    "numCompletedStages": 1,
                    "numSkippedStages": 0,
                    "numFailedStages": 0,
                    "killedTasksSummary": {}
                  }
                ],
                "limit": 20,
                "rule": "ALL_DESC"
              },
              "parent_msg_id": "1cd8b633-c9da-4b23-8171-ea2e6b9d18f5"
            },
            "text/plain": "StatementMeta(3c67b279-1d53-4b7a-b0d9-41cb8b4b6723, 58, 46, Finished, Available)"
          },
          "metadata": {}
        }
      ],
      "execution_count": 41,
      "metadata": {
        "jupyter": {
          "source_hidden": false,
          "outputs_hidden": false
        },
        "nteract": {
          "transient": {
            "deleting": false
          }
        },
        "gather": {
          "logged": 1701025241557
        }
      }
    },
    {
      "cell_type": "code",
      "source": [
        "pred_rf1 = model_rf1.transform(test_data)"
      ],
      "outputs": [
        {
          "output_type": "display_data",
          "data": {
            "application/vnd.livy.statement-meta+json": {
              "spark_pool": "3c67b279-1d53-4b7a-b0d9-41cb8b4b6723",
              "session_id": "58",
              "statement_id": 42,
              "state": "finished",
              "livy_statement_state": "available",
              "queued_time": "2023-11-26T18:00:38.6035753Z",
              "session_start_time": null,
              "execution_start_time": "2023-11-26T18:00:38.7074131Z",
              "execution_finish_time": "2023-11-26T18:00:41.7339249Z",
              "spark_jobs": {
                "numbers": {
                  "SUCCEEDED": 0,
                  "UNKNOWN": 0,
                  "RUNNING": 0,
                  "FAILED": 0
                },
                "jobs": [],
                "limit": 20,
                "rule": "ALL_DESC"
              },
              "parent_msg_id": "515eadb9-51c5-427f-88aa-23ce3c703f07"
            },
            "text/plain": "StatementMeta(3c67b279-1d53-4b7a-b0d9-41cb8b4b6723, 58, 42, Finished, Available)"
          },
          "metadata": {}
        }
      ],
      "execution_count": 37,
      "metadata": {
        "jupyter": {
          "source_hidden": false,
          "outputs_hidden": false
        },
        "nteract": {
          "transient": {
            "deleting": false
          }
        },
        "gather": {
          "logged": 1701021641861
        }
      }
    },
    {
      "cell_type": "code",
      "source": [
        "pred_rf_full = model_rf_full.transform(test_data2)"
      ],
      "outputs": [
        {
          "output_type": "display_data",
          "data": {
            "application/vnd.livy.statement-meta+json": {
              "spark_pool": "3c67b279-1d53-4b7a-b0d9-41cb8b4b6723",
              "session_id": "58",
              "statement_id": 47,
              "state": "finished",
              "livy_statement_state": "available",
              "queued_time": "2023-11-26T19:03:56.4726846Z",
              "session_start_time": null,
              "execution_start_time": "2023-11-26T19:03:56.5877279Z",
              "execution_finish_time": "2023-11-26T19:03:57.3885761Z",
              "spark_jobs": {
                "numbers": {
                  "SUCCEEDED": 0,
                  "UNKNOWN": 0,
                  "RUNNING": 0,
                  "FAILED": 0
                },
                "jobs": [],
                "limit": 20,
                "rule": "ALL_DESC"
              },
              "parent_msg_id": "76253c89-145c-48b7-9e31-7110a79b9a2a"
            },
            "text/plain": "StatementMeta(3c67b279-1d53-4b7a-b0d9-41cb8b4b6723, 58, 47, Finished, Available)"
          },
          "metadata": {}
        }
      ],
      "execution_count": 42,
      "metadata": {
        "jupyter": {
          "source_hidden": false,
          "outputs_hidden": false
        },
        "nteract": {
          "transient": {
            "deleting": false
          }
        },
        "gather": {
          "logged": 1701025437496
        }
      }
    },
    {
      "cell_type": "code",
      "source": [
        "pred_rf_full.show(5)"
      ],
      "outputs": [
        {
          "output_type": "display_data",
          "data": {
            "application/vnd.livy.statement-meta+json": {
              "spark_pool": "3c67b279-1d53-4b7a-b0d9-41cb8b4b6723",
              "session_id": "58",
              "statement_id": 48,
              "state": "finished",
              "livy_statement_state": "available",
              "queued_time": "2023-11-26T19:04:04.6587694Z",
              "session_start_time": null,
              "execution_start_time": "2023-11-26T19:04:04.7619896Z",
              "execution_finish_time": "2023-11-26T19:04:06.2226026Z",
              "spark_jobs": {
                "numbers": {
                  "SUCCEEDED": 1,
                  "UNKNOWN": 0,
                  "RUNNING": 0,
                  "FAILED": 0
                },
                "jobs": [
                  {
                    "displayName": "showString at NativeMethodAccessorImpl.java:0",
                    "dataWritten": 0,
                    "dataRead": 191424,
                    "rowCount": 1,
                    "usageDescription": "",
                    "jobId": 34,
                    "name": "showString at NativeMethodAccessorImpl.java:0",
                    "description": "Job group for statement 48:\npred_rf_full.show(5)",
                    "submissionTime": "2023-11-26T19:04:05.028GMT",
                    "completionTime": "2023-11-26T19:04:05.606GMT",
                    "stageIds": [
                      48
                    ],
                    "jobGroup": "48",
                    "status": "SUCCEEDED",
                    "numTasks": 1,
                    "numActiveTasks": 0,
                    "numCompletedTasks": 1,
                    "numSkippedTasks": 0,
                    "numFailedTasks": 0,
                    "numKilledTasks": 0,
                    "numCompletedIndices": 1,
                    "numActiveStages": 0,
                    "numCompletedStages": 1,
                    "numSkippedStages": 0,
                    "numFailedStages": 0,
                    "killedTasksSummary": {}
                  }
                ],
                "limit": 20,
                "rule": "ALL_DESC"
              },
              "parent_msg_id": "463a2903-5283-40f8-9c33-972de4ee6429"
            },
            "text/plain": "StatementMeta(3c67b279-1d53-4b7a-b0d9-41cb8b4b6723, 58, 48, Finished, Available)"
          },
          "metadata": {}
        },
        {
          "output_type": "stream",
          "name": "stdout",
          "text": "+--------------------+-------------------+-----------+-----------+------------+-------------+----------+----------+-----------+-----------+--------------------+--------------------+----------+--------------+\n|          text_lower|              label|over_18_str|spoiler_str|is_video_str|label_success|over_18_ix|spoiler_ix|is_video_ix|str_feature|       rawPrediction|         probability|prediction|predictedLabel|\n+--------------------+-------------------+-----------+-----------+------------+-------------+----------+----------+-----------+-----------+--------------------+--------------------+----------+--------------+\n|[pc] [h] 10 credi...| game items trading|      false|      false|       false|          2.0|       0.0|       0.0|        0.0|  (3,[],[])|[10.4616877092860...|[0.34872292364286...|       0.0|    bug report|\n|[psn] [h] credits...| game items trading|      false|      false|       false|          2.0|       0.0|       0.0|        0.0|  (3,[],[])|[10.4616877092860...|[0.34872292364286...|       0.0|    bug report|\n|[psn] [h] tw fenn...| game items trading|      false|      false|       false|          2.0|       0.0|       0.0|        0.0|  (3,[],[])|[10.4616877092860...|[0.34872292364286...|       0.0|    bug report|\n|[psn] [pricecheck...|gameplay discussion|      false|      false|       false|          0.0|       0.0|       0.0|        0.0|  (3,[],[])|[10.4616877092860...|[0.34872292364286...|       0.0|    bug report|\n|[xbox] [h] gk tw ...| game items trading|      false|      false|       false|          2.0|       0.0|       0.0|        0.0|  (3,[],[])|[10.4616877092860...|[0.34872292364286...|       0.0|    bug report|\n+--------------------+-------------------+-----------+-----------+------------+-------------+----------+----------+-----------+-----------+--------------------+--------------------+----------+--------------+\nonly showing top 5 rows\n\n"
        }
      ],
      "execution_count": 43,
      "metadata": {
        "jupyter": {
          "source_hidden": false,
          "outputs_hidden": false
        },
        "nteract": {
          "transient": {
            "deleting": false
          }
        },
        "gather": {
          "logged": 1701025446380
        }
      }
    },
    {
      "cell_type": "code",
      "source": [
        "eval_rf_full = MulticlassClassificationEvaluator(labelCol=\"label_success\", predictionCol=\"prediction\", metricName=\"accuracy\")\n",
        "accu_rf_full = eval_rf_full.evaluate(pred_rf_full)\n",
        "print(\"Accuracy = %g\" % accu_rf_full)"
      ],
      "outputs": [
        {
          "output_type": "display_data",
          "data": {
            "application/vnd.livy.statement-meta+json": {
              "spark_pool": "3c67b279-1d53-4b7a-b0d9-41cb8b4b6723",
              "session_id": "58",
              "statement_id": 49,
              "state": "finished",
              "livy_statement_state": "available",
              "queued_time": "2023-11-26T19:04:46.6149619Z",
              "session_start_time": null,
              "execution_start_time": "2023-11-26T19:04:46.7393711Z",
              "execution_finish_time": "2023-11-26T19:12:16.4988421Z",
              "spark_jobs": {
                "numbers": {
                  "SUCCEEDED": 1,
                  "UNKNOWN": 0,
                  "RUNNING": 0,
                  "FAILED": 0
                },
                "jobs": [
                  {
                    "displayName": "collectAsMap at MulticlassMetrics.scala:61",
                    "dataWritten": 1360906,
                    "dataRead": 1018025787,
                    "rowCount": 47882,
                    "usageDescription": "",
                    "jobId": 35,
                    "name": "collectAsMap at MulticlassMetrics.scala:61",
                    "description": "Job group for statement 49:\neval_rf_full = MulticlassClassificationEvaluator(labelCol=\"label_success\", predictionCol=\"prediction\", metricName=\"accuracy\")\naccu_rf_full = eval_rf_full.evaluate(pred_rf_full)\nprint(\"Accuracy = %g\" % accu_rf_full)",
                    "submissionTime": "2023-11-26T19:04:47.053GMT",
                    "completionTime": "2023-11-26T19:12:15.429GMT",
                    "stageIds": [
                      49,
                      50
                    ],
                    "jobGroup": "49",
                    "status": "SUCCEEDED",
                    "numTasks": 6160,
                    "numActiveTasks": 0,
                    "numCompletedTasks": 6160,
                    "numSkippedTasks": 0,
                    "numFailedTasks": 0,
                    "numKilledTasks": 0,
                    "numCompletedIndices": 6160,
                    "numActiveStages": 0,
                    "numCompletedStages": 2,
                    "numSkippedStages": 0,
                    "numFailedStages": 0,
                    "killedTasksSummary": {}
                  }
                ],
                "limit": 20,
                "rule": "ALL_DESC"
              },
              "parent_msg_id": "03a17f6c-5e49-4770-9c64-24e1b10c099e"
            },
            "text/plain": "StatementMeta(3c67b279-1d53-4b7a-b0d9-41cb8b4b6723, 58, 49, Finished, Available)"
          },
          "metadata": {}
        },
        {
          "output_type": "stream",
          "name": "stdout",
          "text": "Accuracy = 0.354529\n"
        }
      ],
      "execution_count": 44,
      "metadata": {
        "jupyter": {
          "source_hidden": false,
          "outputs_hidden": false
        },
        "nteract": {
          "transient": {
            "deleting": false
          }
        },
        "gather": {
          "logged": 1701025936739
        }
      }
    },
    {
      "cell_type": "markdown",
      "source": [
        "# confusion matrix"
      ],
      "metadata": {
        "nteract": {
          "transient": {
            "deleting": false
          }
        }
      }
    },
    {
      "cell_type": "code",
      "source": [
        "from sklearn.metrics import confusion_matrix, ConfusionMatrixDisplay\n",
        "import matplotlib.pyplot as plt\n",
        "y_pred_rf=pred_rf_full.select(\"predictedLabel\").collect()\n",
        "y_orig_rf=pred_rf_full.select(\"label\").collect()\n",
        "\n",
        "cm = confusion_matrix(y_orig_rf, y_pred_rf)\n",
        "disp = ConfusionMatrixDisplay(confusion_matrix=cm)\n",
        "disp.plot()\n",
        "plt.savefig(\"cm_rf1.png\")\n",
        "plt.show()"
      ],
      "outputs": [
        {
          "output_type": "display_data",
          "data": {
            "application/vnd.livy.statement-meta+json": {
              "spark_pool": "3c67b279-1d53-4b7a-b0d9-41cb8b4b6723",
              "session_id": "58",
              "statement_id": 50,
              "state": "finished",
              "livy_statement_state": "available",
              "queued_time": "2023-11-26T19:17:26.1906029Z",
              "session_start_time": null,
              "execution_start_time": "2023-11-26T19:17:26.2900524Z",
              "execution_finish_time": "2023-11-26T19:32:18.3525167Z",
              "spark_jobs": {
                "numbers": {
                  "SUCCEEDED": 2,
                  "UNKNOWN": 0,
                  "RUNNING": 0,
                  "FAILED": 0
                },
                "jobs": [
                  {
                    "displayName": "collect at /tmp/ipykernel_7941/2654742965.py:4",
                    "dataWritten": 0,
                    "dataRead": 1016170134,
                    "rowCount": 3080,
                    "usageDescription": "",
                    "jobId": 37,
                    "name": "collect at /tmp/ipykernel_7941/2654742965.py:4",
                    "description": "Job group for statement 50:\nfrom sklearn.metrics import confusion_matrix, ConfusionMatrixDisplay\nimport matplotlib.pyplot as plt\ny_pred_rf=pred_rf_full.select(\"predictedLabel\").collect()\ny_orig_rf=pred_rf_full.select(\"label\").collect()\n\ncm = confusion_matrix(y_orig_rf, y_pred_rf)\ndisp = ConfusionMatrixDisplay(confusion_matrix=cm)\ndisp.plot()\nplt.savefig(\"cm_rf1.png\")\nplt.show()",
                    "submissionTime": "2023-11-26T19:24:48.030GMT",
                    "completionTime": "2023-11-26T19:32:00.357GMT",
                    "stageIds": [
                      52
                    ],
                    "jobGroup": "50",
                    "status": "SUCCEEDED",
                    "numTasks": 3080,
                    "numActiveTasks": 0,
                    "numCompletedTasks": 3080,
                    "numSkippedTasks": 0,
                    "numFailedTasks": 0,
                    "numKilledTasks": 0,
                    "numCompletedIndices": 3080,
                    "numActiveStages": 0,
                    "numCompletedStages": 1,
                    "numSkippedStages": 0,
                    "numFailedStages": 0,
                    "killedTasksSummary": {}
                  },
                  {
                    "displayName": "collect at /tmp/ipykernel_7941/2654742965.py:3",
                    "dataWritten": 0,
                    "dataRead": 1016340631,
                    "rowCount": 3080,
                    "usageDescription": "",
                    "jobId": 36,
                    "name": "collect at /tmp/ipykernel_7941/2654742965.py:3",
                    "description": "Job group for statement 50:\nfrom sklearn.metrics import confusion_matrix, ConfusionMatrixDisplay\nimport matplotlib.pyplot as plt\ny_pred_rf=pred_rf_full.select(\"predictedLabel\").collect()\ny_orig_rf=pred_rf_full.select(\"label\").collect()\n\ncm = confusion_matrix(y_orig_rf, y_pred_rf)\ndisp = ConfusionMatrixDisplay(confusion_matrix=cm)\ndisp.plot()\nplt.savefig(\"cm_rf1.png\")\nplt.show()",
                    "submissionTime": "2023-11-26T19:17:28.555GMT",
                    "completionTime": "2023-11-26T19:24:46.386GMT",
                    "stageIds": [
                      51
                    ],
                    "jobGroup": "50",
                    "status": "SUCCEEDED",
                    "numTasks": 3080,
                    "numActiveTasks": 0,
                    "numCompletedTasks": 3080,
                    "numSkippedTasks": 0,
                    "numFailedTasks": 0,
                    "numKilledTasks": 0,
                    "numCompletedIndices": 3080,
                    "numActiveStages": 0,
                    "numCompletedStages": 1,
                    "numSkippedStages": 0,
                    "numFailedStages": 0,
                    "killedTasksSummary": {}
                  }
                ],
                "limit": 20,
                "rule": "ALL_DESC"
              },
              "parent_msg_id": "70c60718-bc8e-497c-a7f6-185f4aa8b2cb"
            },
            "text/plain": "StatementMeta(3c67b279-1d53-4b7a-b0d9-41cb8b4b6723, 58, 50, Finished, Available)"
          },
          "metadata": {}
        },
        {
          "output_type": "display_data",
          "data": {
            "text/plain": "<Figure size 432x288 with 2 Axes>",
            "image/png": "[encoded data removed]"
          },
          "metadata": {
            "needs_background": "light"
          }
        }
      ],
      "execution_count": 45,
      "metadata": {
        "jupyter": {
          "source_hidden": false,
          "outputs_hidden": false
        },
        "nteract": {
          "transient": {
            "deleting": false
          }
        },
        "gather": {
          "logged": 1701027138690
        }
      }
    },
    {
      "cell_type": "code",
      "source": [
        "cm = confusion_matrix(y_orig_rf, y_pred_rf)\n",
        "disp = ConfusionMatrixDisplay(confusion_matrix=cm, display_labels=[\"bug report\", \"gameplay discussion\", \"story related discussion\",\"lore discussion\",\"game items trading\"])\n",
        "disp.plot()\n",
        "plt.xticks(rotation=90)\n",
        "plt.savefig(\"./cm_rf1.png\")\n",
        "plt.show()"
      ],
      "outputs": [
        {
          "output_type": "display_data",
          "data": {
            "application/vnd.livy.statement-meta+json": {
              "spark_pool": "3c67b279-1d53-4b7a-b0d9-41cb8b4b6723",
              "session_id": "58",
              "statement_id": 54,
              "state": "finished",
              "livy_statement_state": "available",
              "queued_time": "2023-11-26T19:41:02.0127699Z",
              "session_start_time": null,
              "execution_start_time": "2023-11-26T19:41:02.1082438Z",
              "execution_finish_time": "2023-11-26T19:41:16.3259383Z",
              "spark_jobs": {
                "numbers": {
                  "SUCCEEDED": 0,
                  "UNKNOWN": 0,
                  "RUNNING": 0,
                  "FAILED": 0
                },
                "jobs": [],
                "limit": 20,
                "rule": "ALL_DESC"
              },
              "parent_msg_id": "da622e9e-7696-41c0-a9f9-05f504d925da"
            },
            "text/plain": "StatementMeta(3c67b279-1d53-4b7a-b0d9-41cb8b4b6723, 58, 54, Finished, Available)"
          },
          "metadata": {}
        },
        {
          "output_type": "display_data",
          "data": {
            "text/plain": "<Figure size 432x288 with 2 Axes>",
            "image/png": "[encoded data removed]"
          },
          "metadata": {
            "needs_background": "light"
          }
        }
      ],
      "execution_count": 49,
      "metadata": {
        "jupyter": {
          "source_hidden": false,
          "outputs_hidden": false
        },
        "nteract": {
          "transient": {
            "deleting": false
          }
        },
        "gather": {
          "logged": 1701027676467
        }
      }
    },
    {
      "cell_type": "markdown",
      "source": [
        "# rerun the random forest classifier with different parameters for comparison"
      ],
      "metadata": {
        "nteract": {
          "transient": {
            "deleting": false
          }
        }
      }
    },
    {
      "cell_type": "code",
      "source": [
        "model_rf2 = RandomForestClassifier(labelCol=\"label_success\", featuresCol=\"str_feature\", numTrees=num_tree2, maxDepth=max_depth2)\n",
        "pipeline_model_rf = Pipeline(stages=[stringIndexer_label,\n",
        "                               stringIndexer_adult,\n",
        "                               stringIndexer_spoiler,\n",
        "                               stringIndexer_video,\n",
        "                               vectorAssembler_features, \n",
        "                               model_rf2, labelConverter])"
      ],
      "outputs": [
        {
          "output_type": "display_data",
          "data": {
            "application/vnd.livy.statement-meta+json": {
              "spark_pool": "3c67b279-1d53-4b7a-b0d9-41cb8b4b6723",
              "session_id": "58",
              "statement_id": 55,
              "state": "finished",
              "livy_statement_state": "available",
              "queued_time": "2023-11-26T19:42:19.6120681Z",
              "session_start_time": null,
              "execution_start_time": "2023-11-26T19:42:19.7095271Z",
              "execution_finish_time": "2023-11-26T19:42:20.0280269Z",
              "spark_jobs": {
                "numbers": {
                  "SUCCEEDED": 0,
                  "UNKNOWN": 0,
                  "RUNNING": 0,
                  "FAILED": 0
                },
                "jobs": [],
                "limit": 20,
                "rule": "ALL_DESC"
              },
              "parent_msg_id": "ba9f5275-77a4-442f-bfbc-dfa2c8a442df"
            },
            "text/plain": "StatementMeta(3c67b279-1d53-4b7a-b0d9-41cb8b4b6723, 58, 55, Finished, Available)"
          },
          "metadata": {}
        }
      ],
      "execution_count": 50,
      "metadata": {
        "jupyter": {
          "source_hidden": false,
          "outputs_hidden": false
        },
        "nteract": {
          "transient": {
            "deleting": false
          }
        },
        "gather": {
          "logged": 1701027740226
        }
      }
    },
    {
      "cell_type": "code",
      "source": [
        "model_rf_full2 = pipeline_model_rf.fit(train_data2)"
      ],
      "outputs": [
        {
          "output_type": "display_data",
          "data": {
            "application/vnd.livy.statement-meta+json": {
              "spark_pool": "3c67b279-1d53-4b7a-b0d9-41cb8b4b6723",
              "session_id": "58",
              "statement_id": 56,
              "state": "finished",
              "livy_statement_state": "available",
              "queued_time": "2023-11-26T19:42:42.5726877Z",
              "session_start_time": null,
              "execution_start_time": "2023-11-26T19:42:42.6730031Z",
              "execution_finish_time": "2023-11-26T20:27:41.6512311Z",
              "spark_jobs": {
                "numbers": {
                  "SUCCEEDED": 13,
                  "UNKNOWN": 0,
                  "RUNNING": 0,
                  "FAILED": 0
                },
                "jobs": [
                  {
                    "displayName": "collectAsMap at RandomForest.scala:663",
                    "dataWritten": 211669795,
                    "dataRead": 523596755,
                    "rowCount": 2337284,
                    "usageDescription": "",
                    "jobId": 50,
                    "name": "collectAsMap at RandomForest.scala:663",
                    "description": "Job group for statement 56:\nmodel_rf_full2 = pipeline_model_rf.fit(train_data2)",
                    "submissionTime": "2023-11-26T20:27:07.313GMT",
                    "completionTime": "2023-11-26T20:27:40.154GMT",
                    "stageIds": [
                      71,
                      72
                    ],
                    "jobGroup": "56",
                    "status": "SUCCEEDED",
                    "numTasks": 6160,
                    "numActiveTasks": 0,
                    "numCompletedTasks": 6160,
                    "numSkippedTasks": 0,
                    "numFailedTasks": 0,
                    "numKilledTasks": 0,
                    "numCompletedIndices": 6160,
                    "numActiveStages": 0,
                    "numCompletedStages": 2,
                    "numSkippedStages": 0,
                    "numFailedStages": 0,
                    "killedTasksSummary": {}
                  },
                  {
                    "displayName": "collectAsMap at RandomForest.scala:663",
                    "dataWritten": 111093674,
                    "dataRead": 418152523,
                    "rowCount": 1721284,
                    "usageDescription": "",
                    "jobId": 49,
                    "name": "collectAsMap at RandomForest.scala:663",
                    "description": "Job group for statement 56:\nmodel_rf_full2 = pipeline_model_rf.fit(train_data2)",
                    "submissionTime": "2023-11-26T20:26:44.046GMT",
                    "completionTime": "2023-11-26T20:27:07.260GMT",
                    "stageIds": [
                      70,
                      69
                    ],
                    "jobGroup": "56",
                    "status": "SUCCEEDED",
                    "numTasks": 6160,
                    "numActiveTasks": 0,
                    "numCompletedTasks": 6160,
                    "numSkippedTasks": 0,
                    "numFailedTasks": 0,
                    "numKilledTasks": 0,
                    "numCompletedIndices": 6160,
                    "numActiveStages": 0,
                    "numCompletedStages": 2,
                    "numSkippedStages": 0,
                    "numFailedStages": 0,
                    "killedTasksSummary": {}
                  },
                  {
                    "displayName": "collectAsMap at RandomForest.scala:663",
                    "dataWritten": 59578289,
                    "dataRead": 1081433572,
                    "rowCount": 311080,
                    "usageDescription": "",
                    "jobId": 48,
                    "name": "collectAsMap at RandomForest.scala:663",
                    "description": "Job group for statement 56:\nmodel_rf_full2 = pipeline_model_rf.fit(train_data2)",
                    "submissionTime": "2023-11-26T20:18:59.222GMT",
                    "completionTime": "2023-11-26T20:26:43.993GMT",
                    "stageIds": [
                      67,
                      68
                    ],
                    "jobGroup": "56",
                    "status": "SUCCEEDED",
                    "numTasks": 6160,
                    "numActiveTasks": 0,
                    "numCompletedTasks": 6160,
                    "numSkippedTasks": 0,
                    "numFailedTasks": 0,
                    "numKilledTasks": 0,
                    "numCompletedIndices": 6160,
                    "numActiveStages": 0,
                    "numCompletedStages": 2,
                    "numSkippedStages": 0,
                    "numFailedStages": 0,
                    "killedTasksSummary": {}
                  },
                  {
                    "displayName": "aggregate at DecisionTreeMetadata.scala:125",
                    "dataWritten": 0,
                    "dataRead": 1016635428,
                    "rowCount": 3080,
                    "usageDescription": "",
                    "jobId": 47,
                    "name": "aggregate at DecisionTreeMetadata.scala:125",
                    "description": "Job group for statement 56:\nmodel_rf_full2 = pipeline_model_rf.fit(train_data2)",
                    "submissionTime": "2023-11-26T20:11:44.345GMT",
                    "completionTime": "2023-11-26T20:18:59.184GMT",
                    "stageIds": [
                      66
                    ],
                    "jobGroup": "56",
                    "status": "SUCCEEDED",
                    "numTasks": 3080,
                    "numActiveTasks": 0,
                    "numCompletedTasks": 3080,
                    "numSkippedTasks": 0,
                    "numFailedTasks": 0,
                    "numKilledTasks": 0,
                    "numCompletedIndices": 3080,
                    "numActiveStages": 0,
                    "numCompletedStages": 1,
                    "numSkippedStages": 0,
                    "numFailedStages": 0,
                    "killedTasksSummary": {}
                  },
                  {
                    "displayName": "take at DecisionTreeMetadata.scala:119",
                    "dataWritten": 0,
                    "dataRead": 191424,
                    "rowCount": 1,
                    "usageDescription": "",
                    "jobId": 46,
                    "name": "take at DecisionTreeMetadata.scala:119",
                    "description": "Job group for statement 56:\nmodel_rf_full2 = pipeline_model_rf.fit(train_data2)",
                    "submissionTime": "2023-11-26T20:11:43.929GMT",
                    "completionTime": "2023-11-26T20:11:44.333GMT",
                    "stageIds": [
                      65
                    ],
                    "jobGroup": "56",
                    "status": "SUCCEEDED",
                    "numTasks": 1,
                    "numActiveTasks": 0,
                    "numCompletedTasks": 1,
                    "numSkippedTasks": 0,
                    "numFailedTasks": 0,
                    "numKilledTasks": 0,
                    "numCompletedIndices": 1,
                    "numActiveStages": 0,
                    "numCompletedStages": 1,
                    "numSkippedStages": 0,
                    "numFailedStages": 0,
                    "killedTasksSummary": {}
                  },
                  {
                    "displayName": "collect at StringIndexer.scala:204",
                    "dataWritten": 0,
                    "dataRead": 1549300,
                    "rowCount": 3080,
                    "usageDescription": "",
                    "jobId": 45,
                    "name": "collect at StringIndexer.scala:204",
                    "description": "Job group for statement 56:\nmodel_rf_full2 = pipeline_model_rf.fit(train_data2)",
                    "submissionTime": "2023-11-26T20:11:43.352GMT",
                    "completionTime": "2023-11-26T20:11:43.549GMT",
                    "stageIds": [
                      63,
                      64
                    ],
                    "jobGroup": "56",
                    "status": "SUCCEEDED",
                    "numTasks": 3081,
                    "numActiveTasks": 0,
                    "numCompletedTasks": 1,
                    "numSkippedTasks": 3080,
                    "numFailedTasks": 0,
                    "numKilledTasks": 0,
                    "numCompletedIndices": 1,
                    "numActiveStages": 0,
                    "numCompletedStages": 1,
                    "numSkippedStages": 1,
                    "numFailedStages": 0,
                    "killedTasksSummary": {}
                  },
                  {
                    "displayName": "collect at StringIndexer.scala:204",
                    "dataWritten": 1549300,
                    "dataRead": 1016783527,
                    "rowCount": 6160,
                    "usageDescription": "",
                    "jobId": 44,
                    "name": "collect at StringIndexer.scala:204",
                    "description": "Job group for statement 56:\nmodel_rf_full2 = pipeline_model_rf.fit(train_data2)",
                    "submissionTime": "2023-11-26T20:04:27.292GMT",
                    "completionTime": "2023-11-26T20:11:43.305GMT",
                    "stageIds": [
                      62
                    ],
                    "jobGroup": "56",
                    "status": "SUCCEEDED",
                    "numTasks": 3080,
                    "numActiveTasks": 0,
                    "numCompletedTasks": 3080,
                    "numSkippedTasks": 0,
                    "numFailedTasks": 0,
                    "numKilledTasks": 0,
                    "numCompletedIndices": 3080,
                    "numActiveStages": 0,
                    "numCompletedStages": 1,
                    "numSkippedStages": 0,
                    "numFailedStages": 0,
                    "killedTasksSummary": {}
                  },
                  {
                    "displayName": "collect at StringIndexer.scala:204",
                    "dataWritten": 0,
                    "dataRead": 1549291,
                    "rowCount": 3080,
                    "usageDescription": "",
                    "jobId": 43,
                    "name": "collect at StringIndexer.scala:204",
                    "description": "Job group for statement 56:\nmodel_rf_full2 = pipeline_model_rf.fit(train_data2)",
                    "submissionTime": "2023-11-26T20:04:26.889GMT",
                    "completionTime": "2023-11-26T20:04:27.080GMT",
                    "stageIds": [
                      60,
                      61
                    ],
                    "jobGroup": "56",
                    "status": "SUCCEEDED",
                    "numTasks": 3081,
                    "numActiveTasks": 0,
                    "numCompletedTasks": 1,
                    "numSkippedTasks": 3080,
                    "numFailedTasks": 0,
                    "numKilledTasks": 0,
                    "numCompletedIndices": 1,
                    "numActiveStages": 0,
                    "numCompletedStages": 1,
                    "numSkippedStages": 1,
                    "numFailedStages": 0,
                    "killedTasksSummary": {}
                  },
                  {
                    "displayName": "collect at StringIndexer.scala:204",
                    "dataWritten": 1549291,
                    "dataRead": 1016712711,
                    "rowCount": 6160,
                    "usageDescription": "",
                    "jobId": 42,
                    "name": "collect at StringIndexer.scala:204",
                    "description": "Job group for statement 56:\nmodel_rf_full2 = pipeline_model_rf.fit(train_data2)",
                    "submissionTime": "2023-11-26T19:57:12.189GMT",
                    "completionTime": "2023-11-26T20:04:26.855GMT",
                    "stageIds": [
                      59
                    ],
                    "jobGroup": "56",
                    "status": "SUCCEEDED",
                    "numTasks": 3080,
                    "numActiveTasks": 0,
                    "numCompletedTasks": 3080,
                    "numSkippedTasks": 0,
                    "numFailedTasks": 0,
                    "numKilledTasks": 0,
                    "numCompletedIndices": 3080,
                    "numActiveStages": 0,
                    "numCompletedStages": 1,
                    "numSkippedStages": 0,
                    "numFailedStages": 0,
                    "killedTasksSummary": {}
                  },
                  {
                    "displayName": "collect at StringIndexer.scala:204",
                    "dataWritten": 0,
                    "dataRead": 1541503,
                    "rowCount": 3080,
                    "usageDescription": "",
                    "jobId": 41,
                    "name": "collect at StringIndexer.scala:204",
                    "description": "Job group for statement 56:\nmodel_rf_full2 = pipeline_model_rf.fit(train_data2)",
                    "submissionTime": "2023-11-26T19:57:11.790GMT",
                    "completionTime": "2023-11-26T19:57:11.986GMT",
                    "stageIds": [
                      57,
                      58
                    ],
                    "jobGroup": "56",
                    "status": "SUCCEEDED",
                    "numTasks": 3081,
                    "numActiveTasks": 0,
                    "numCompletedTasks": 1,
                    "numSkippedTasks": 3080,
                    "numFailedTasks": 0,
                    "numKilledTasks": 0,
                    "numCompletedIndices": 1,
                    "numActiveStages": 0,
                    "numCompletedStages": 1,
                    "numSkippedStages": 1,
                    "numFailedStages": 0,
                    "killedTasksSummary": {}
                  },
                  {
                    "displayName": "collect at StringIndexer.scala:204",
                    "dataWritten": 1541503,
                    "dataRead": 1016667903,
                    "rowCount": 6160,
                    "usageDescription": "",
                    "jobId": 40,
                    "name": "collect at StringIndexer.scala:204",
                    "description": "Job group for statement 56:\nmodel_rf_full2 = pipeline_model_rf.fit(train_data2)",
                    "submissionTime": "2023-11-26T19:49:57.337GMT",
                    "completionTime": "2023-11-26T19:57:11.760GMT",
                    "stageIds": [
                      56
                    ],
                    "jobGroup": "56",
                    "status": "SUCCEEDED",
                    "numTasks": 3080,
                    "numActiveTasks": 0,
                    "numCompletedTasks": 3080,
                    "numSkippedTasks": 0,
                    "numFailedTasks": 0,
                    "numKilledTasks": 0,
                    "numCompletedIndices": 3080,
                    "numActiveStages": 0,
                    "numCompletedStages": 1,
                    "numSkippedStages": 0,
                    "numFailedStages": 0,
                    "killedTasksSummary": {}
                  },
                  {
                    "displayName": "collect at StringIndexer.scala:204",
                    "dataWritten": 0,
                    "dataRead": 1790299,
                    "rowCount": 3080,
                    "usageDescription": "",
                    "jobId": 39,
                    "name": "collect at StringIndexer.scala:204",
                    "description": "Job group for statement 56:\nmodel_rf_full2 = pipeline_model_rf.fit(train_data2)",
                    "submissionTime": "2023-11-26T19:49:56.943GMT",
                    "completionTime": "2023-11-26T19:49:57.135GMT",
                    "stageIds": [
                      54,
                      55
                    ],
                    "jobGroup": "56",
                    "status": "SUCCEEDED",
                    "numTasks": 3081,
                    "numActiveTasks": 0,
                    "numCompletedTasks": 1,
                    "numSkippedTasks": 3080,
                    "numFailedTasks": 0,
                    "numKilledTasks": 0,
                    "numCompletedIndices": 1,
                    "numActiveStages": 0,
                    "numCompletedStages": 1,
                    "numSkippedStages": 1,
                    "numFailedStages": 0,
                    "killedTasksSummary": {}
                  },
                  {
                    "displayName": "collect at StringIndexer.scala:204",
                    "dataWritten": 1790299,
                    "dataRead": 1016315117,
                    "rowCount": 6160,
                    "usageDescription": "",
                    "jobId": 38,
                    "name": "collect at StringIndexer.scala:204",
                    "description": "Job group for statement 56:\nmodel_rf_full2 = pipeline_model_rf.fit(train_data2)",
                    "submissionTime": "2023-11-26T19:42:42.823GMT",
                    "completionTime": "2023-11-26T19:49:56.899GMT",
                    "stageIds": [
                      53
                    ],
                    "jobGroup": "56",
                    "status": "SUCCEEDED",
                    "numTasks": 3080,
                    "numActiveTasks": 0,
                    "numCompletedTasks": 3080,
                    "numSkippedTasks": 0,
                    "numFailedTasks": 0,
                    "numKilledTasks": 0,
                    "numCompletedIndices": 3080,
                    "numActiveStages": 0,
                    "numCompletedStages": 1,
                    "numSkippedStages": 0,
                    "numFailedStages": 0,
                    "killedTasksSummary": {}
                  }
                ],
                "limit": 20,
                "rule": "ALL_DESC"
              },
              "parent_msg_id": "3f8c2bb8-5be0-4bf6-924a-5c9ce38f4edc"
            },
            "text/plain": "StatementMeta(3c67b279-1d53-4b7a-b0d9-41cb8b4b6723, 58, 56, Finished, Available)"
          },
          "metadata": {}
        }
      ],
      "execution_count": 51,
      "metadata": {
        "jupyter": {
          "source_hidden": false,
          "outputs_hidden": false
        },
        "nteract": {
          "transient": {
            "deleting": false
          }
        },
        "gather": {
          "logged": 1701030462136
        }
      }
    },
    {
      "cell_type": "code",
      "source": [
        "pred_rf_full2 = model_rf_full2.transform(test_data2)"
      ],
      "outputs": [
        {
          "output_type": "display_data",
          "data": {
            "application/vnd.livy.statement-meta+json": {
              "spark_pool": "3c67b279-1d53-4b7a-b0d9-41cb8b4b6723",
              "session_id": "58",
              "statement_id": 57,
              "state": "finished",
              "livy_statement_state": "available",
              "queued_time": "2023-11-26T20:28:18.692716Z",
              "session_start_time": null,
              "execution_start_time": "2023-11-26T20:28:18.7852056Z",
              "execution_finish_time": "2023-11-26T20:28:19.5700895Z",
              "spark_jobs": {
                "numbers": {
                  "SUCCEEDED": 0,
                  "UNKNOWN": 0,
                  "RUNNING": 0,
                  "FAILED": 0
                },
                "jobs": [],
                "limit": 20,
                "rule": "ALL_DESC"
              },
              "parent_msg_id": "94e8d0d5-14c2-4cb7-8b93-dd3eb5695032"
            },
            "text/plain": "StatementMeta(3c67b279-1d53-4b7a-b0d9-41cb8b4b6723, 58, 57, Finished, Available)"
          },
          "metadata": {}
        }
      ],
      "execution_count": 52,
      "metadata": {
        "jupyter": {
          "source_hidden": false,
          "outputs_hidden": false
        },
        "nteract": {
          "transient": {
            "deleting": false
          }
        },
        "gather": {
          "logged": 1701030499647
        }
      }
    },
    {
      "cell_type": "code",
      "source": [
        "eval_rf_full2 = MulticlassClassificationEvaluator(labelCol=\"label_success\", predictionCol=\"prediction\", metricName=\"accuracy\")\n",
        "accu_rf_full2 = eval_rf_full2.evaluate(pred_rf_full2)\n",
        "print(\"Accuracy = %g\" % accu_rf_full2)"
      ],
      "outputs": [
        {
          "output_type": "display_data",
          "data": {
            "application/vnd.livy.statement-meta+json": {
              "spark_pool": "3c67b279-1d53-4b7a-b0d9-41cb8b4b6723",
              "session_id": "58",
              "statement_id": 58,
              "state": "finished",
              "livy_statement_state": "available",
              "queued_time": "2023-11-26T20:28:57.9078818Z",
              "session_start_time": null,
              "execution_start_time": "2023-11-26T20:28:58.0121285Z",
              "execution_finish_time": "2023-11-26T20:36:23.7044296Z",
              "spark_jobs": {
                "numbers": {
                  "SUCCEEDED": 1,
                  "UNKNOWN": 0,
                  "RUNNING": 0,
                  "FAILED": 0
                },
                "jobs": [
                  {
                    "displayName": "collectAsMap at MulticlassMetrics.scala:61",
                    "dataWritten": 1360652,
                    "dataRead": 1018271088,
                    "rowCount": 47874,
                    "usageDescription": "",
                    "jobId": 51,
                    "name": "collectAsMap at MulticlassMetrics.scala:61",
                    "description": "Job group for statement 58:\neval_rf_full2 = MulticlassClassificationEvaluator(labelCol=\"label_success\", predictionCol=\"prediction\", metricName=\"accuracy\")\naccu_rf_full2 = eval_rf_full2.evaluate(pred_rf_full2)\nprint(\"Accuracy = %g\" % accu_rf_full2)",
                    "submissionTime": "2023-11-26T20:28:58.199GMT",
                    "completionTime": "2023-11-26T20:36:22.414GMT",
                    "stageIds": [
                      74,
                      73
                    ],
                    "jobGroup": "58",
                    "status": "SUCCEEDED",
                    "numTasks": 6160,
                    "numActiveTasks": 0,
                    "numCompletedTasks": 6160,
                    "numSkippedTasks": 0,
                    "numFailedTasks": 0,
                    "numKilledTasks": 0,
                    "numCompletedIndices": 6160,
                    "numActiveStages": 0,
                    "numCompletedStages": 2,
                    "numSkippedStages": 0,
                    "numFailedStages": 0,
                    "killedTasksSummary": {}
                  }
                ],
                "limit": 20,
                "rule": "ALL_DESC"
              },
              "parent_msg_id": "f4604910-839f-4f68-b328-7116b4039dd6"
            },
            "text/plain": "StatementMeta(3c67b279-1d53-4b7a-b0d9-41cb8b4b6723, 58, 58, Finished, Available)"
          },
          "metadata": {}
        },
        {
          "output_type": "stream",
          "name": "stdout",
          "text": "Accuracy = 0.354525\n"
        }
      ],
      "execution_count": 53,
      "metadata": {
        "jupyter": {
          "source_hidden": false,
          "outputs_hidden": false
        },
        "nteract": {
          "transient": {
            "deleting": false
          }
        },
        "gather": {
          "logged": 1701030983962
        }
      }
    },
    {
      "cell_type": "markdown",
      "source": [
        "We found out that there is no difference between different parameters"
      ],
      "metadata": {
        "nteract": {
          "transient": {
            "deleting": false
          }
        }
      }
    },
    {
      "cell_type": "code",
      "source": [
        "model_rf_full.save('Users/ky285/fall-2023-reddit-project-team-11/code/ML/rf_game_labels.h5')"
      ],
      "outputs": [
        {
          "output_type": "display_data",
          "data": {
            "application/vnd.livy.statement-meta+json": {
              "spark_pool": "3c67b279-1d53-4b7a-b0d9-41cb8b4b6723",
              "session_id": "58",
              "statement_id": 60,
              "state": "finished",
              "livy_statement_state": "available",
              "queued_time": "2023-11-26T20:40:58.5344413Z",
              "session_start_time": null,
              "execution_start_time": "2023-11-26T20:40:58.6792509Z",
              "execution_finish_time": "2023-11-26T20:41:13.1095084Z",
              "spark_jobs": {
                "numbers": {
                  "SUCCEEDED": 20,
                  "UNKNOWN": 0,
                  "RUNNING": 0,
                  "FAILED": 0
                },
                "jobs": [
                  {
                    "displayName": "runJob at SparkHadoopWriter.scala:85",
                    "dataWritten": 399,
                    "dataRead": 0,
                    "rowCount": 1,
                    "usageDescription": "",
                    "jobId": 91,
                    "name": "runJob at SparkHadoopWriter.scala:85",
                    "description": "Job group for statement 60:\nmodel_rf_full.save('Users/ky285/fall-2023-reddit-project-team-11/code/ML/rf_game_labels.h5')",
                    "submissionTime": "2023-11-26T20:41:11.401GMT",
                    "completionTime": "2023-11-26T20:41:11.879GMT",
                    "stageIds": [
                      126
                    ],
                    "jobGroup": "60",
                    "status": "SUCCEEDED",
                    "numTasks": 1,
                    "numActiveTasks": 0,
                    "numCompletedTasks": 1,
                    "numSkippedTasks": 0,
                    "numFailedTasks": 0,
                    "numKilledTasks": 0,
                    "numCompletedIndices": 1,
                    "numActiveStages": 0,
                    "numCompletedStages": 1,
                    "numSkippedStages": 0,
                    "numFailedStages": 0,
                    "killedTasksSummary": {}
                  },
                  {
                    "displayName": "parquet at treeModels.scala:491",
                    "dataWritten": 10781,
                    "dataRead": 10401,
                    "rowCount": 300,
                    "usageDescription": "",
                    "jobId": 90,
                    "name": "parquet at treeModels.scala:491",
                    "description": "Job group for statement 60:\nmodel_rf_full.save('Users/ky285/fall-2023-reddit-project-team-11/code/ML/rf_game_labels.h5')",
                    "submissionTime": "2023-11-26T20:41:10.381GMT",
                    "completionTime": "2023-11-26T20:41:10.974GMT",
                    "stageIds": [
                      125,
                      124
                    ],
                    "jobGroup": "60",
                    "status": "SUCCEEDED",
                    "numTasks": 9,
                    "numActiveTasks": 0,
                    "numCompletedTasks": 1,
                    "numSkippedTasks": 8,
                    "numFailedTasks": 0,
                    "numKilledTasks": 0,
                    "numCompletedIndices": 1,
                    "numActiveStages": 0,
                    "numCompletedStages": 1,
                    "numSkippedStages": 1,
                    "numFailedStages": 0,
                    "killedTasksSummary": {}
                  },
                  {
                    "displayName": "parquet at treeModels.scala:491",
                    "dataWritten": 10401,
                    "dataRead": 0,
                    "rowCount": 150,
                    "usageDescription": "",
                    "jobId": 89,
                    "name": "parquet at treeModels.scala:491",
                    "description": "Job group for statement 60:\nmodel_rf_full.save('Users/ky285/fall-2023-reddit-project-team-11/code/ML/rf_game_labels.h5')",
                    "submissionTime": "2023-11-26T20:41:10.257GMT",
                    "completionTime": "2023-11-26T20:41:10.305GMT",
                    "stageIds": [
                      123
                    ],
                    "jobGroup": "60",
                    "status": "SUCCEEDED",
                    "numTasks": 8,
                    "numActiveTasks": 0,
                    "numCompletedTasks": 8,
                    "numSkippedTasks": 0,
                    "numFailedTasks": 0,
                    "numKilledTasks": 0,
                    "numCompletedIndices": 8,
                    "numActiveStages": 0,
                    "numCompletedStages": 1,
                    "numSkippedStages": 0,
                    "numFailedStages": 0,
                    "killedTasksSummary": {}
                  },
                  {
                    "displayName": "parquet at treeModels.scala:483",
                    "dataWritten": 5494,
                    "dataRead": 7297,
                    "rowCount": 60,
                    "usageDescription": "",
                    "jobId": 88,
                    "name": "parquet at treeModels.scala:483",
                    "description": "Job group for statement 60:\nmodel_rf_full.save('Users/ky285/fall-2023-reddit-project-team-11/code/ML/rf_game_labels.h5')",
                    "submissionTime": "2023-11-26T20:41:09.224GMT",
                    "completionTime": "2023-11-26T20:41:09.776GMT",
                    "stageIds": [
                      121,
                      122
                    ],
                    "jobGroup": "60",
                    "status": "SUCCEEDED",
                    "numTasks": 9,
                    "numActiveTasks": 0,
                    "numCompletedTasks": 1,
                    "numSkippedTasks": 8,
                    "numFailedTasks": 0,
                    "numKilledTasks": 0,
                    "numCompletedIndices": 1,
                    "numActiveStages": 0,
                    "numCompletedStages": 1,
                    "numSkippedStages": 1,
                    "numFailedStages": 0,
                    "killedTasksSummary": {}
                  },
                  {
                    "displayName": "parquet at treeModels.scala:483",
                    "dataWritten": 7297,
                    "dataRead": 0,
                    "rowCount": 30,
                    "usageDescription": "",
                    "jobId": 87,
                    "name": "parquet at treeModels.scala:483",
                    "description": "Job group for statement 60:\nmodel_rf_full.save('Users/ky285/fall-2023-reddit-project-team-11/code/ML/rf_game_labels.h5')",
                    "submissionTime": "2023-11-26T20:41:09.130GMT",
                    "completionTime": "2023-11-26T20:41:09.174GMT",
                    "stageIds": [
                      120
                    ],
                    "jobGroup": "60",
                    "status": "SUCCEEDED",
                    "numTasks": 8,
                    "numActiveTasks": 0,
                    "numCompletedTasks": 8,
                    "numSkippedTasks": 0,
                    "numFailedTasks": 0,
                    "numKilledTasks": 0,
                    "numCompletedIndices": 8,
                    "numActiveStages": 0,
                    "numCompletedStages": 1,
                    "numSkippedStages": 0,
                    "numFailedStages": 0,
                    "killedTasksSummary": {}
                  },
                  {
                    "displayName": "runJob at SparkHadoopWriter.scala:85",
                    "dataWritten": 792,
                    "dataRead": 0,
                    "rowCount": 1,
                    "usageDescription": "",
                    "jobId": 86,
                    "name": "runJob at SparkHadoopWriter.scala:85",
                    "description": "Job group for statement 60:\nmodel_rf_full.save('Users/ky285/fall-2023-reddit-project-team-11/code/ML/rf_game_labels.h5')",
                    "submissionTime": "2023-11-26T20:41:08.228GMT",
                    "completionTime": "2023-11-26T20:41:08.729GMT",
                    "stageIds": [
                      119
                    ],
                    "jobGroup": "60",
                    "status": "SUCCEEDED",
                    "numTasks": 1,
                    "numActiveTasks": 0,
                    "numCompletedTasks": 1,
                    "numSkippedTasks": 0,
                    "numFailedTasks": 0,
                    "numKilledTasks": 0,
                    "numCompletedIndices": 1,
                    "numActiveStages": 0,
                    "numCompletedStages": 1,
                    "numSkippedStages": 0,
                    "numFailedStages": 0,
                    "killedTasksSummary": {}
                  },
                  {
                    "displayName": "runJob at SparkHadoopWriter.scala:85",
                    "dataWritten": 344,
                    "dataRead": 0,
                    "rowCount": 1,
                    "usageDescription": "",
                    "jobId": 85,
                    "name": "runJob at SparkHadoopWriter.scala:85",
                    "description": "Job group for statement 60:\nmodel_rf_full.save('Users/ky285/fall-2023-reddit-project-team-11/code/ML/rf_game_labels.h5')",
                    "submissionTime": "2023-11-26T20:41:07.336GMT",
                    "completionTime": "2023-11-26T20:41:07.840GMT",
                    "stageIds": [
                      118
                    ],
                    "jobGroup": "60",
                    "status": "SUCCEEDED",
                    "numTasks": 1,
                    "numActiveTasks": 0,
                    "numCompletedTasks": 1,
                    "numSkippedTasks": 0,
                    "numFailedTasks": 0,
                    "numKilledTasks": 0,
                    "numCompletedIndices": 1,
                    "numActiveStages": 0,
                    "numCompletedStages": 1,
                    "numSkippedStages": 0,
                    "numFailedStages": 0,
                    "killedTasksSummary": {}
                  },
                  {
                    "displayName": "parquet at StringIndexer.scala:499",
                    "dataWritten": 686,
                    "dataRead": 114,
                    "rowCount": 2,
                    "usageDescription": "",
                    "jobId": 84,
                    "name": "parquet at StringIndexer.scala:499",
                    "description": "Job group for statement 60:\nmodel_rf_full.save('Users/ky285/fall-2023-reddit-project-team-11/code/ML/rf_game_labels.h5')",
                    "submissionTime": "2023-11-26T20:41:06.464GMT",
                    "completionTime": "2023-11-26T20:41:06.954GMT",
                    "stageIds": [
                      117,
                      116
                    ],
                    "jobGroup": "60",
                    "status": "SUCCEEDED",
                    "numTasks": 2,
                    "numActiveTasks": 0,
                    "numCompletedTasks": 1,
                    "numSkippedTasks": 1,
                    "numFailedTasks": 0,
                    "numKilledTasks": 0,
                    "numCompletedIndices": 1,
                    "numActiveStages": 0,
                    "numCompletedStages": 1,
                    "numSkippedStages": 1,
                    "numFailedStages": 0,
                    "killedTasksSummary": {}
                  },
                  {
                    "displayName": "parquet at StringIndexer.scala:499",
                    "dataWritten": 114,
                    "dataRead": 0,
                    "rowCount": 1,
                    "usageDescription": "",
                    "jobId": 83,
                    "name": "parquet at StringIndexer.scala:499",
                    "description": "Job group for statement 60:\nmodel_rf_full.save('Users/ky285/fall-2023-reddit-project-team-11/code/ML/rf_game_labels.h5')",
                    "submissionTime": "2023-11-26T20:41:06.394GMT",
                    "completionTime": "2023-11-26T20:41:06.412GMT",
                    "stageIds": [
                      115
                    ],
                    "jobGroup": "60",
                    "status": "SUCCEEDED",
                    "numTasks": 1,
                    "numActiveTasks": 0,
                    "numCompletedTasks": 1,
                    "numSkippedTasks": 0,
                    "numFailedTasks": 0,
                    "numKilledTasks": 0,
                    "numCompletedIndices": 1,
                    "numActiveStages": 0,
                    "numCompletedStages": 1,
                    "numSkippedStages": 0,
                    "numFailedStages": 0,
                    "killedTasksSummary": {}
                  },
                  {
                    "displayName": "runJob at SparkHadoopWriter.scala:85",
                    "dataWritten": 349,
                    "dataRead": 0,
                    "rowCount": 1,
                    "usageDescription": "",
                    "jobId": 82,
                    "name": "runJob at SparkHadoopWriter.scala:85",
                    "description": "Job group for statement 60:\nmodel_rf_full.save('Users/ky285/fall-2023-reddit-project-team-11/code/ML/rf_game_labels.h5')",
                    "submissionTime": "2023-11-26T20:41:05.559GMT",
                    "completionTime": "2023-11-26T20:41:06.036GMT",
                    "stageIds": [
                      114
                    ],
                    "jobGroup": "60",
                    "status": "SUCCEEDED",
                    "numTasks": 1,
                    "numActiveTasks": 0,
                    "numCompletedTasks": 1,
                    "numSkippedTasks": 0,
                    "numFailedTasks": 0,
                    "numKilledTasks": 0,
                    "numCompletedIndices": 1,
                    "numActiveStages": 0,
                    "numCompletedStages": 1,
                    "numSkippedStages": 0,
                    "numFailedStages": 0,
                    "killedTasksSummary": {}
                  },
                  {
                    "displayName": "parquet at StringIndexer.scala:499",
                    "dataWritten": 686,
                    "dataRead": 114,
                    "rowCount": 2,
                    "usageDescription": "",
                    "jobId": 81,
                    "name": "parquet at StringIndexer.scala:499",
                    "description": "Job group for statement 60:\nmodel_rf_full.save('Users/ky285/fall-2023-reddit-project-team-11/code/ML/rf_game_labels.h5')",
                    "submissionTime": "2023-11-26T20:41:04.663GMT",
                    "completionTime": "2023-11-26T20:41:05.163GMT",
                    "stageIds": [
                      112,
                      113
                    ],
                    "jobGroup": "60",
                    "status": "SUCCEEDED",
                    "numTasks": 2,
                    "numActiveTasks": 0,
                    "numCompletedTasks": 1,
                    "numSkippedTasks": 1,
                    "numFailedTasks": 0,
                    "numKilledTasks": 0,
                    "numCompletedIndices": 1,
                    "numActiveStages": 0,
                    "numCompletedStages": 1,
                    "numSkippedStages": 1,
                    "numFailedStages": 0,
                    "killedTasksSummary": {}
                  },
                  {
                    "displayName": "parquet at StringIndexer.scala:499",
                    "dataWritten": 114,
                    "dataRead": 0,
                    "rowCount": 1,
                    "usageDescription": "",
                    "jobId": 80,
                    "name": "parquet at StringIndexer.scala:499",
                    "description": "Job group for statement 60:\nmodel_rf_full.save('Users/ky285/fall-2023-reddit-project-team-11/code/ML/rf_game_labels.h5')",
                    "submissionTime": "2023-11-26T20:41:04.581GMT",
                    "completionTime": "2023-11-26T20:41:04.599GMT",
                    "stageIds": [
                      111
                    ],
                    "jobGroup": "60",
                    "status": "SUCCEEDED",
                    "numTasks": 1,
                    "numActiveTasks": 0,
                    "numCompletedTasks": 1,
                    "numSkippedTasks": 0,
                    "numFailedTasks": 0,
                    "numKilledTasks": 0,
                    "numCompletedIndices": 1,
                    "numActiveStages": 0,
                    "numCompletedStages": 1,
                    "numSkippedStages": 0,
                    "numFailedStages": 0,
                    "killedTasksSummary": {}
                  },
                  {
                    "displayName": "runJob at SparkHadoopWriter.scala:85",
                    "dataWritten": 347,
                    "dataRead": 0,
                    "rowCount": 1,
                    "usageDescription": "",
                    "jobId": 79,
                    "name": "runJob at SparkHadoopWriter.scala:85",
                    "description": "Job group for statement 60:\nmodel_rf_full.save('Users/ky285/fall-2023-reddit-project-team-11/code/ML/rf_game_labels.h5')",
                    "submissionTime": "2023-11-26T20:41:03.772GMT",
                    "completionTime": "2023-11-26T20:41:04.245GMT",
                    "stageIds": [
                      110
                    ],
                    "jobGroup": "60",
                    "status": "SUCCEEDED",
                    "numTasks": 1,
                    "numActiveTasks": 0,
                    "numCompletedTasks": 1,
                    "numSkippedTasks": 0,
                    "numFailedTasks": 0,
                    "numKilledTasks": 0,
                    "numCompletedIndices": 1,
                    "numActiveStages": 0,
                    "numCompletedStages": 1,
                    "numSkippedStages": 0,
                    "numFailedStages": 0,
                    "killedTasksSummary": {}
                  },
                  {
                    "displayName": "parquet at StringIndexer.scala:499",
                    "dataWritten": 686,
                    "dataRead": 114,
                    "rowCount": 2,
                    "usageDescription": "",
                    "jobId": 78,
                    "name": "parquet at StringIndexer.scala:499",
                    "description": "Job group for statement 60:\nmodel_rf_full.save('Users/ky285/fall-2023-reddit-project-team-11/code/ML/rf_game_labels.h5')",
                    "submissionTime": "2023-11-26T20:41:02.834GMT",
                    "completionTime": "2023-11-26T20:41:03.353GMT",
                    "stageIds": [
                      108,
                      109
                    ],
                    "jobGroup": "60",
                    "status": "SUCCEEDED",
                    "numTasks": 2,
                    "numActiveTasks": 0,
                    "numCompletedTasks": 1,
                    "numSkippedTasks": 1,
                    "numFailedTasks": 0,
                    "numKilledTasks": 0,
                    "numCompletedIndices": 1,
                    "numActiveStages": 0,
                    "numCompletedStages": 1,
                    "numSkippedStages": 1,
                    "numFailedStages": 0,
                    "killedTasksSummary": {}
                  },
                  {
                    "displayName": "parquet at StringIndexer.scala:499",
                    "dataWritten": 114,
                    "dataRead": 0,
                    "rowCount": 1,
                    "usageDescription": "",
                    "jobId": 77,
                    "name": "parquet at StringIndexer.scala:499",
                    "description": "Job group for statement 60:\nmodel_rf_full.save('Users/ky285/fall-2023-reddit-project-team-11/code/ML/rf_game_labels.h5')",
                    "submissionTime": "2023-11-26T20:41:02.765GMT",
                    "completionTime": "2023-11-26T20:41:02.781GMT",
                    "stageIds": [
                      107
                    ],
                    "jobGroup": "60",
                    "status": "SUCCEEDED",
                    "numTasks": 1,
                    "numActiveTasks": 0,
                    "numCompletedTasks": 1,
                    "numSkippedTasks": 0,
                    "numFailedTasks": 0,
                    "numKilledTasks": 0,
                    "numCompletedIndices": 1,
                    "numActiveStages": 0,
                    "numCompletedStages": 1,
                    "numSkippedStages": 0,
                    "numFailedStages": 0,
                    "killedTasksSummary": {}
                  },
                  {
                    "displayName": "runJob at SparkHadoopWriter.scala:85",
                    "dataWritten": 347,
                    "dataRead": 0,
                    "rowCount": 1,
                    "usageDescription": "",
                    "jobId": 76,
                    "name": "runJob at SparkHadoopWriter.scala:85",
                    "description": "Job group for statement 60:\nmodel_rf_full.save('Users/ky285/fall-2023-reddit-project-team-11/code/ML/rf_game_labels.h5')",
                    "submissionTime": "2023-11-26T20:41:01.979GMT",
                    "completionTime": "2023-11-26T20:41:02.400GMT",
                    "stageIds": [
                      106
                    ],
                    "jobGroup": "60",
                    "status": "SUCCEEDED",
                    "numTasks": 1,
                    "numActiveTasks": 0,
                    "numCompletedTasks": 1,
                    "numSkippedTasks": 0,
                    "numFailedTasks": 0,
                    "numKilledTasks": 0,
                    "numCompletedIndices": 1,
                    "numActiveStages": 0,
                    "numCompletedStages": 1,
                    "numSkippedStages": 0,
                    "numFailedStages": 0,
                    "killedTasksSummary": {}
                  },
                  {
                    "displayName": "parquet at StringIndexer.scala:499",
                    "dataWritten": 820,
                    "dataRead": 206,
                    "rowCount": 2,
                    "usageDescription": "",
                    "jobId": 75,
                    "name": "parquet at StringIndexer.scala:499",
                    "description": "Job group for statement 60:\nmodel_rf_full.save('Users/ky285/fall-2023-reddit-project-team-11/code/ML/rf_game_labels.h5')",
                    "submissionTime": "2023-11-26T20:41:00.980GMT",
                    "completionTime": "2023-11-26T20:41:01.540GMT",
                    "stageIds": [
                      104,
                      105
                    ],
                    "jobGroup": "60",
                    "status": "SUCCEEDED",
                    "numTasks": 2,
                    "numActiveTasks": 0,
                    "numCompletedTasks": 1,
                    "numSkippedTasks": 1,
                    "numFailedTasks": 0,
                    "numKilledTasks": 0,
                    "numCompletedIndices": 1,
                    "numActiveStages": 0,
                    "numCompletedStages": 1,
                    "numSkippedStages": 1,
                    "numFailedStages": 0,
                    "killedTasksSummary": {}
                  },
                  {
                    "displayName": "parquet at StringIndexer.scala:499",
                    "dataWritten": 206,
                    "dataRead": 0,
                    "rowCount": 1,
                    "usageDescription": "",
                    "jobId": 74,
                    "name": "parquet at StringIndexer.scala:499",
                    "description": "Job group for statement 60:\nmodel_rf_full.save('Users/ky285/fall-2023-reddit-project-team-11/code/ML/rf_game_labels.h5')",
                    "submissionTime": "2023-11-26T20:41:00.900GMT",
                    "completionTime": "2023-11-26T20:41:00.920GMT",
                    "stageIds": [
                      103
                    ],
                    "jobGroup": "60",
                    "status": "SUCCEEDED",
                    "numTasks": 1,
                    "numActiveTasks": 0,
                    "numCompletedTasks": 1,
                    "numSkippedTasks": 0,
                    "numFailedTasks": 0,
                    "numKilledTasks": 0,
                    "numCompletedIndices": 1,
                    "numActiveStages": 0,
                    "numCompletedStages": 1,
                    "numSkippedStages": 0,
                    "numFailedStages": 0,
                    "killedTasksSummary": {}
                  },
                  {
                    "displayName": "runJob at SparkHadoopWriter.scala:85",
                    "dataWritten": 344,
                    "dataRead": 0,
                    "rowCount": 1,
                    "usageDescription": "",
                    "jobId": 73,
                    "name": "runJob at SparkHadoopWriter.scala:85",
                    "description": "Job group for statement 60:\nmodel_rf_full.save('Users/ky285/fall-2023-reddit-project-team-11/code/ML/rf_game_labels.h5')",
                    "submissionTime": "2023-11-26T20:40:59.926GMT",
                    "completionTime": "2023-11-26T20:41:00.452GMT",
                    "stageIds": [
                      102
                    ],
                    "jobGroup": "60",
                    "status": "SUCCEEDED",
                    "numTasks": 1,
                    "numActiveTasks": 0,
                    "numCompletedTasks": 1,
                    "numSkippedTasks": 0,
                    "numFailedTasks": 0,
                    "numKilledTasks": 0,
                    "numCompletedIndices": 1,
                    "numActiveStages": 0,
                    "numCompletedStages": 1,
                    "numSkippedStages": 0,
                    "numFailedStages": 0,
                    "killedTasksSummary": {}
                  },
                  {
                    "displayName": "runJob at SparkHadoopWriter.scala:85",
                    "dataWritten": 406,
                    "dataRead": 0,
                    "rowCount": 1,
                    "usageDescription": "",
                    "jobId": 72,
                    "name": "runJob at SparkHadoopWriter.scala:85",
                    "description": "Job group for statement 60:\nmodel_rf_full.save('Users/ky285/fall-2023-reddit-project-team-11/code/ML/rf_game_labels.h5')",
                    "submissionTime": "2023-11-26T20:40:59.000GMT",
                    "completionTime": "2023-11-26T20:40:59.499GMT",
                    "stageIds": [
                      101
                    ],
                    "jobGroup": "60",
                    "status": "SUCCEEDED",
                    "numTasks": 1,
                    "numActiveTasks": 0,
                    "numCompletedTasks": 1,
                    "numSkippedTasks": 0,
                    "numFailedTasks": 0,
                    "numKilledTasks": 0,
                    "numCompletedIndices": 1,
                    "numActiveStages": 0,
                    "numCompletedStages": 1,
                    "numSkippedStages": 0,
                    "numFailedStages": 0,
                    "killedTasksSummary": {}
                  }
                ],
                "limit": 20,
                "rule": "ALL_DESC"
              },
              "parent_msg_id": "24103fa6-1ece-468c-abb3-43b26536a017"
            },
            "text/plain": "StatementMeta(3c67b279-1d53-4b7a-b0d9-41cb8b4b6723, 58, 60, Finished, Available)"
          },
          "metadata": {}
        }
      ],
      "execution_count": 55,
      "metadata": {
        "jupyter": {
          "source_hidden": false,
          "outputs_hidden": false
        },
        "nteract": {
          "transient": {
            "deleting": false
          }
        },
        "gather": {
          "logged": 1701031273224
        }
      }
    },
    {
      "cell_type": "markdown",
      "source": [
        "# try decision tree model for comparison"
      ],
      "metadata": {
        "nteract": {
          "transient": {
            "deleting": false
          }
        }
      }
    },
    {
      "cell_type": "code",
      "source": [
        "from pyspark.ml.classification import DecisionTreeClassifier\n",
        "model_tree = DecisionTreeClassifier(labelCol=\"label_success\", featuresCol=\"str_feature\")\n",
        "pipeline_model_tree = Pipeline(stages=[stringIndexer_label,\n",
        "                               stringIndexer_adult,\n",
        "                               stringIndexer_spoiler,\n",
        "                               stringIndexer_video,\n",
        "                               vectorAssembler_features, \n",
        "                               model_tree, labelConverter])"
      ],
      "outputs": [
        {
          "output_type": "display_data",
          "data": {
            "application/vnd.livy.statement-meta+json": {
              "spark_pool": "3c67b279-1d53-4b7a-b0d9-41cb8b4b6723",
              "session_id": "58",
              "statement_id": 65,
              "state": "finished",
              "livy_statement_state": "available",
              "queued_time": "2023-11-26T21:24:04.3571626Z",
              "session_start_time": null,
              "execution_start_time": "2023-11-26T21:24:04.4595482Z",
              "execution_finish_time": "2023-11-26T21:24:04.779202Z",
              "spark_jobs": {
                "numbers": {
                  "SUCCEEDED": 0,
                  "UNKNOWN": 0,
                  "RUNNING": 0,
                  "FAILED": 0
                },
                "jobs": [],
                "limit": 20,
                "rule": "ALL_DESC"
              },
              "parent_msg_id": "bbf46cff-0592-4032-9df3-6ab571935b55"
            },
            "text/plain": "StatementMeta(3c67b279-1d53-4b7a-b0d9-41cb8b4b6723, 58, 65, Finished, Available)"
          },
          "metadata": {}
        }
      ],
      "execution_count": 60,
      "metadata": {
        "jupyter": {
          "source_hidden": false,
          "outputs_hidden": false
        },
        "nteract": {
          "transient": {
            "deleting": false
          }
        },
        "gather": {
          "logged": 1701033844954
        }
      }
    },
    {
      "cell_type": "code",
      "source": [
        "model_tree = pipeline_model_tree.fit(train_data2)"
      ],
      "outputs": [
        {
          "output_type": "display_data",
          "data": {
            "application/vnd.livy.statement-meta+json": {
              "spark_pool": "3c67b279-1d53-4b7a-b0d9-41cb8b4b6723",
              "session_id": "58",
              "statement_id": 67,
              "state": "submitted",
              "livy_statement_state": "running",
              "queued_time": "2023-11-26T21:24:19.7358887Z",
              "session_start_time": null,
              "execution_start_time": "2023-11-26T21:24:19.8458587Z",
              "execution_finish_time": null,
              "spark_jobs": {
                "numbers": {
                  "SUCCEEDED": 4,
                  "UNKNOWN": 0,
                  "RUNNING": 1,
                  "FAILED": 0
                },
                "jobs": [
                  {
                    "displayName": "collect at StringIndexer.scala:204",
                    "dataWritten": 963830,
                    "dataRead": 588146200,
                    "rowCount": 3832,
                    "usageDescription": "",
                    "jobId": 106,
                    "name": "collect at StringIndexer.scala:204",
                    "description": "Job group for statement 67:\nmodel_tree = pipeline_model_tree.fit(train_data2)",
                    "submissionTime": "2023-11-26T21:38:48.950GMT",
                    "stageIds": [
                      147
                    ],
                    "jobGroup": "67",
                    "status": "RUNNING",
                    "numTasks": 3080,
                    "numActiveTasks": 9,
                    "numCompletedTasks": 1916,
                    "numSkippedTasks": 0,
                    "numFailedTasks": 0,
                    "numKilledTasks": 0,
                    "numCompletedIndices": 1916,
                    "numActiveStages": 1,
                    "numCompletedStages": 0,
                    "numSkippedStages": 0,
                    "numFailedStages": 0,
                    "killedTasksSummary": {}
                  },
                  {
                    "displayName": "collect at StringIndexer.scala:204",
                    "dataWritten": 0,
                    "dataRead": 1541503,
                    "rowCount": 3080,
                    "usageDescription": "",
                    "jobId": 105,
                    "name": "collect at StringIndexer.scala:204",
                    "description": "Job group for statement 67:\nmodel_tree = pipeline_model_tree.fit(train_data2)",
                    "submissionTime": "2023-11-26T21:38:48.556GMT",
                    "completionTime": "2023-11-26T21:38:48.752GMT",
                    "stageIds": [
                      145,
                      146
                    ],
                    "jobGroup": "67",
                    "status": "SUCCEEDED",
                    "numTasks": 3081,
                    "numActiveTasks": 0,
                    "numCompletedTasks": 1,
                    "numSkippedTasks": 3080,
                    "numFailedTasks": 0,
                    "numKilledTasks": 0,
                    "numCompletedIndices": 1,
                    "numActiveStages": 0,
                    "numCompletedStages": 1,
                    "numSkippedStages": 1,
                    "numFailedStages": 0,
                    "killedTasksSummary": {}
                  },
                  {
                    "displayName": "collect at StringIndexer.scala:204",
                    "dataWritten": 1541503,
                    "dataRead": 1016794571,
                    "rowCount": 6160,
                    "usageDescription": "",
                    "jobId": 104,
                    "name": "collect at StringIndexer.scala:204",
                    "description": "Job group for statement 67:\nmodel_tree = pipeline_model_tree.fit(train_data2)",
                    "submissionTime": "2023-11-26T21:31:34.393GMT",
                    "completionTime": "2023-11-26T21:38:48.525GMT",
                    "stageIds": [
                      144
                    ],
                    "jobGroup": "67",
                    "status": "SUCCEEDED",
                    "numTasks": 3080,
                    "numActiveTasks": 0,
                    "numCompletedTasks": 3080,
                    "numSkippedTasks": 0,
                    "numFailedTasks": 0,
                    "numKilledTasks": 0,
                    "numCompletedIndices": 3080,
                    "numActiveStages": 0,
                    "numCompletedStages": 1,
                    "numSkippedStages": 0,
                    "numFailedStages": 0,
                    "killedTasksSummary": {}
                  },
                  {
                    "displayName": "collect at StringIndexer.scala:204",
                    "dataWritten": 0,
                    "dataRead": 1790299,
                    "rowCount": 3080,
                    "usageDescription": "",
                    "jobId": 103,
                    "name": "collect at StringIndexer.scala:204",
                    "description": "Job group for statement 67:\nmodel_tree = pipeline_model_tree.fit(train_data2)",
                    "submissionTime": "2023-11-26T21:31:34.012GMT",
                    "completionTime": "2023-11-26T21:31:34.189GMT",
                    "stageIds": [
                      143,
                      142
                    ],
                    "jobGroup": "67",
                    "status": "SUCCEEDED",
                    "numTasks": 3081,
                    "numActiveTasks": 0,
                    "numCompletedTasks": 1,
                    "numSkippedTasks": 3080,
                    "numFailedTasks": 0,
                    "numKilledTasks": 0,
                    "numCompletedIndices": 1,
                    "numActiveStages": 0,
                    "numCompletedStages": 1,
                    "numSkippedStages": 1,
                    "numFailedStages": 0,
                    "killedTasksSummary": {}
                  },
                  {
                    "displayName": "collect at StringIndexer.scala:204",
                    "dataWritten": 1790299,
                    "dataRead": 1016525449,
                    "rowCount": 6160,
                    "usageDescription": "",
                    "jobId": 102,
                    "name": "collect at StringIndexer.scala:204",
                    "description": "Job group for statement 67:\nmodel_tree = pipeline_model_tree.fit(train_data2)",
                    "submissionTime": "2023-11-26T21:24:19.942GMT",
                    "completionTime": "2023-11-26T21:31:33.978GMT",
                    "stageIds": [
                      141
                    ],
                    "jobGroup": "67",
                    "status": "SUCCEEDED",
                    "numTasks": 3080,
                    "numActiveTasks": 0,
                    "numCompletedTasks": 3080,
                    "numSkippedTasks": 0,
                    "numFailedTasks": 0,
                    "numKilledTasks": 0,
                    "numCompletedIndices": 3080,
                    "numActiveStages": 0,
                    "numCompletedStages": 1,
                    "numSkippedStages": 0,
                    "numFailedStages": 0,
                    "killedTasksSummary": {}
                  }
                ],
                "limit": 20,
                "rule": "ALL_DESC"
              },
              "parent_msg_id": "0171e72d-f689-4a1f-b128-5a362d1995b5"
            },
            "text/plain": "StatementMeta(3c67b279-1d53-4b7a-b0d9-41cb8b4b6723, 58, 67, Submitted, Running)"
          },
          "metadata": {}
        }
      ],
      "execution_count": 62,
      "metadata": {
        "jupyter": {
          "source_hidden": false,
          "outputs_hidden": false
        },
        "nteract": {
          "transient": {
            "deleting": false
          }
        },
        "gather": {
          "logged": 1701036530331
        }
      }
    },
    {
      "cell_type": "code",
      "source": [
        "pred_tree = model_tree.transform(test_data2)"
      ],
      "outputs": [
        {
          "output_type": "display_data",
          "data": {
            "application/vnd.livy.statement-meta+json": {
              "spark_pool": "3c67b279-1d53-4b7a-b0d9-41cb8b4b6723",
              "session_id": "58",
              "statement_id": 68,
              "state": "finished",
              "livy_statement_state": "available",
              "queued_time": "2023-11-26T22:11:15.390722Z",
              "session_start_time": null,
              "execution_start_time": "2023-11-26T22:11:15.5223504Z",
              "execution_finish_time": "2023-11-26T22:11:16.3370704Z",
              "spark_jobs": {
                "numbers": {
                  "SUCCEEDED": 0,
                  "UNKNOWN": 0,
                  "RUNNING": 0,
                  "FAILED": 0
                },
                "jobs": [],
                "limit": 20,
                "rule": "ALL_DESC"
              },
              "parent_msg_id": "6fd92e0a-af30-464e-9377-ce552e66a5b2"
            },
            "text/plain": "StatementMeta(3c67b279-1d53-4b7a-b0d9-41cb8b4b6723, 58, 68, Finished, Available)"
          },
          "metadata": {}
        }
      ],
      "execution_count": 63,
      "metadata": {
        "jupyter": {
          "source_hidden": false,
          "outputs_hidden": false
        },
        "nteract": {
          "transient": {
            "deleting": false
          }
        },
        "gather": {
          "logged": 1701036676535
        }
      }
    },
    {
      "cell_type": "code",
      "source": [
        "eval_tree = MulticlassClassificationEvaluator(labelCol=\"label_success\", predictionCol=\"prediction\", metricName=\"accuracy\")\n",
        "accu_tree = eval_tree.evaluate(pred_tree)\n",
        "print(\"Accuracy = %g\" % accu_tree)"
      ],
      "outputs": [
        {
          "output_type": "display_data",
          "data": {
            "application/vnd.livy.statement-meta+json": {
              "spark_pool": "3c67b279-1d53-4b7a-b0d9-41cb8b4b6723",
              "session_id": "58",
              "statement_id": 69,
              "state": "finished",
              "livy_statement_state": "available",
              "queued_time": "2023-11-26T22:11:48.5581087Z",
              "session_start_time": null,
              "execution_start_time": "2023-11-26T22:11:48.6859229Z",
              "execution_finish_time": "2023-11-26T22:19:10.8506007Z",
              "spark_jobs": {
                "numbers": {
                  "SUCCEEDED": 1,
                  "UNKNOWN": 0,
                  "RUNNING": 0,
                  "FAILED": 0
                },
                "jobs": [
                  {
                    "displayName": "collectAsMap at MulticlassMetrics.scala:61",
                    "dataWritten": 1360204,
                    "dataRead": 1017943444,
                    "rowCount": 47860,
                    "usageDescription": "",
                    "jobId": 116,
                    "name": "collectAsMap at MulticlassMetrics.scala:61",
                    "description": "Job group for statement 69:\neval_tree = MulticlassClassificationEvaluator(labelCol=\"label_success\", predictionCol=\"prediction\", metricName=\"accuracy\")\naccu_tree = eval_tree.evaluate(pred_tree)\nprint(\"Accuracy = %g\" % accu_tree)",
                    "submissionTime": "2023-11-26T22:11:48.825GMT",
                    "completionTime": "2023-11-26T22:19:09.790GMT",
                    "stageIds": [
                      163,
                      164
                    ],
                    "jobGroup": "69",
                    "status": "SUCCEEDED",
                    "numTasks": 6160,
                    "numActiveTasks": 0,
                    "numCompletedTasks": 6160,
                    "numSkippedTasks": 0,
                    "numFailedTasks": 0,
                    "numKilledTasks": 0,
                    "numCompletedIndices": 6160,
                    "numActiveStages": 0,
                    "numCompletedStages": 2,
                    "numSkippedStages": 0,
                    "numFailedStages": 0,
                    "killedTasksSummary": {}
                  }
                ],
                "limit": 20,
                "rule": "ALL_DESC"
              },
              "parent_msg_id": "518b8872-48b6-4739-9f14-dcabd188543b"
            },
            "text/plain": "StatementMeta(3c67b279-1d53-4b7a-b0d9-41cb8b4b6723, 58, 69, Finished, Available)"
          },
          "metadata": {}
        },
        {
          "output_type": "stream",
          "name": "stdout",
          "text": "Accuracy = 0.354509\n"
        }
      ],
      "execution_count": 64,
      "metadata": {
        "jupyter": {
          "source_hidden": false,
          "outputs_hidden": false
        },
        "nteract": {
          "transient": {
            "deleting": false
          }
        },
        "gather": {
          "logged": 1701037151075
        }
      }
    },
    {
      "cell_type": "code",
      "source": [
        "y_pred_tree=pred_tree.select(\"predictedLabel\").collect()\n",
        "y_orig_tree=pred_tree.select(\"label\").collect()"
      ],
      "outputs": [
        {
          "output_type": "display_data",
          "data": {
            "application/vnd.livy.statement-meta+json": {
              "spark_pool": "3c67b279-1d53-4b7a-b0d9-41cb8b4b6723",
              "session_id": "58",
              "statement_id": 71,
              "state": "finished",
              "livy_statement_state": "available",
              "queued_time": "2023-11-26T22:22:15.0143195Z",
              "session_start_time": null,
              "execution_start_time": "2023-11-26T22:22:15.1191524Z",
              "execution_finish_time": "2023-11-26T22:36:45.6860787Z",
              "spark_jobs": {
                "numbers": {
                  "SUCCEEDED": 2,
                  "UNKNOWN": 0,
                  "RUNNING": 0,
                  "FAILED": 0
                },
                "jobs": [
                  {
                    "displayName": "collect at /tmp/ipykernel_7941/2625674751.py:2",
                    "dataWritten": 0,
                    "dataRead": 1016510313,
                    "rowCount": 3080,
                    "usageDescription": "",
                    "jobId": 119,
                    "name": "collect at /tmp/ipykernel_7941/2625674751.py:2",
                    "description": "Job group for statement 71:\ny_pred_tree=pred_tree.select(\"predictedLabel\").collect()\ny_orig_tree=pred_tree.select(\"label\").collect()",
                    "submissionTime": "2023-11-26T22:29:31.730GMT",
                    "completionTime": "2023-11-26T22:36:43.587GMT",
                    "stageIds": [
                      167
                    ],
                    "jobGroup": "71",
                    "status": "SUCCEEDED",
                    "numTasks": 3080,
                    "numActiveTasks": 0,
                    "numCompletedTasks": 3080,
                    "numSkippedTasks": 0,
                    "numFailedTasks": 0,
                    "numKilledTasks": 0,
                    "numCompletedIndices": 3080,
                    "numActiveStages": 0,
                    "numCompletedStages": 1,
                    "numSkippedStages": 0,
                    "numFailedStages": 0,
                    "killedTasksSummary": {}
                  },
                  {
                    "displayName": "collect at /tmp/ipykernel_7941/2625674751.py:1",
                    "dataWritten": 0,
                    "dataRead": 1016584173,
                    "rowCount": 3080,
                    "usageDescription": "",
                    "jobId": 118,
                    "name": "collect at /tmp/ipykernel_7941/2625674751.py:1",
                    "description": "Job group for statement 71:\ny_pred_tree=pred_tree.select(\"predictedLabel\").collect()\ny_orig_tree=pred_tree.select(\"label\").collect()",
                    "submissionTime": "2023-11-26T22:22:15.217GMT",
                    "completionTime": "2023-11-26T22:29:30.294GMT",
                    "stageIds": [
                      166
                    ],
                    "jobGroup": "71",
                    "status": "SUCCEEDED",
                    "numTasks": 3080,
                    "numActiveTasks": 0,
                    "numCompletedTasks": 3080,
                    "numSkippedTasks": 0,
                    "numFailedTasks": 0,
                    "numKilledTasks": 0,
                    "numCompletedIndices": 3080,
                    "numActiveStages": 0,
                    "numCompletedStages": 1,
                    "numSkippedStages": 0,
                    "numFailedStages": 0,
                    "killedTasksSummary": {}
                  }
                ],
                "limit": 20,
                "rule": "ALL_DESC"
              },
              "parent_msg_id": "f258e35a-cb71-4137-8f44-9e4698a2f401"
            },
            "text/plain": "StatementMeta(3c67b279-1d53-4b7a-b0d9-41cb8b4b6723, 58, 71, Finished, Available)"
          },
          "metadata": {}
        },
        {
          "output_type": "stream",
          "name": "stderr",
          "text": "Exception ignored in: <function JavaWrapper.__del__ at 0x7f9763700820>\nTraceback (most recent call last):\n  File \"/opt/spark/python/lib/pyspark.zip/pyspark/ml/wrapper.py\", line 39, in __del__\nAttributeError: 'GBTClassifier' object has no attribute '_java_obj'\n"
        }
      ],
      "execution_count": 66,
      "metadata": {
        "jupyter": {
          "source_hidden": false,
          "outputs_hidden": false
        },
        "nteract": {
          "transient": {
            "deleting": false
          }
        },
        "gather": {
          "logged": 1701038205937
        }
      }
    },
    {
      "cell_type": "code",
      "source": [
        "cm_tree = confusion_matrix(y_orig_tree, y_pred_tree)\n",
        "disp = ConfusionMatrixDisplay(confusion_matrix=cm_tree, display_labels=[\"bug report\", \"gameplay discussion\", \"story related discussion\",\"lore discussion\",\"game items trading\"])\n",
        "disp.plot()\n",
        "plt.xticks(rotation=90)\n",
        "plt.savefig(\"./cm_tree.png\")\n",
        "plt.show()"
      ],
      "outputs": [
        {
          "output_type": "display_data",
          "data": {
            "application/vnd.livy.statement-meta+json": {
              "spark_pool": "3c67b279-1d53-4b7a-b0d9-41cb8b4b6723",
              "session_id": "58",
              "statement_id": 72,
              "state": "finished",
              "livy_statement_state": "available",
              "queued_time": "2023-11-26T22:38:35.8076295Z",
              "session_start_time": null,
              "execution_start_time": "2023-11-26T22:38:35.9463331Z",
              "execution_finish_time": "2023-11-26T22:38:50.1849275Z",
              "spark_jobs": {
                "numbers": {
                  "SUCCEEDED": 0,
                  "UNKNOWN": 0,
                  "RUNNING": 0,
                  "FAILED": 0
                },
                "jobs": [],
                "limit": 20,
                "rule": "ALL_DESC"
              },
              "parent_msg_id": "61fa0e48-b945-4d85-9509-6e59c39120ea"
            },
            "text/plain": "StatementMeta(3c67b279-1d53-4b7a-b0d9-41cb8b4b6723, 58, 72, Finished, Available)"
          },
          "metadata": {}
        },
        {
          "output_type": "display_data",
          "data": {
            "text/plain": "<Figure size 432x288 with 2 Axes>",
            "image/png": "[encoded data removed]"
          },
          "metadata": {
            "needs_background": "light"
          }
        }
      ],
      "execution_count": 67,
      "metadata": {
        "jupyter": {
          "source_hidden": false,
          "outputs_hidden": false
        },
        "nteract": {
          "transient": {
            "deleting": false
          }
        },
        "gather": {
          "logged": 1701038330369
        }
      }
    }
  ],
  "metadata": {
    "language_info": {
      "name": "python",
      "version": "3.8.0",
      "mimetype": "text/x-python",
      "file_extension": ".py",
      "pygments_lexer": "ipython",
      "codemirror_mode": "ipython",
      "nbconvert_exporter": "python"
    },
    "orig_nbformat": 4,
    "microsoft": {
      "ms_spell_check": {
        "ms_spell_check_language": "en"
      },
      "host": {
        "AzureML": {
          "notebookHasBeenCompleted": true
        }
      }
    },
    "kernelspec": {
      "name": "synapse_pyspark",
      "language": "Python",
      "display_name": "Synapse PySpark"
    },
    "kernel_info": {
      "name": "synapse_pyspark"
    },
    "nteract": {
      "version": "nteract-front-end@1.0.0"
    }
  },
  "nbformat": 4,
  "nbformat_minor": 2
}