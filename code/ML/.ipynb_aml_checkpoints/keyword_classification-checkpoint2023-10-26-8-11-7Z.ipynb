{
  "cells": [
    {
      "cell_type": "code",
      "source": [
        "spark"
      ],
      "outputs": [
        {
          "output_type": "display_data",
          "data": {
            "application/vnd.livy.statement-meta+json": {
              "spark_pool": "3c67b279-1d53-4b7a-b0d9-41cb8b4b6723",
              "session_id": "57",
              "statement_id": 6,
              "state": "finished",
              "livy_statement_state": "available",
              "queued_time": "2023-11-26T03:08:02.6171282Z",
              "session_start_time": "2023-11-26T03:08:02.6727333Z",
              "execution_start_time": "2023-11-26T03:11:15.3869879Z",
              "execution_finish_time": "2023-11-26T03:11:18.6184826Z",
              "spark_jobs": {
                "numbers": {
                  "SUCCEEDED": 0,
                  "RUNNING": 0,
                  "FAILED": 0,
                  "UNKNOWN": 0
                },
                "jobs": [],
                "limit": 20,
                "rule": "ALL_DESC"
              },
              "parent_msg_id": "818e5473-820b-49b4-8257-6b2eefda6ec3"
            },
            "text/plain": "StatementMeta(3c67b279-1d53-4b7a-b0d9-41cb8b4b6723, 57, 6, Finished, Available)"
          },
          "metadata": {}
        },
        {
          "output_type": "execute_result",
          "execution_count": 11,
          "data": {
            "text/plain": "<pyspark.sql.session.SparkSession at 0x7fe371725910>",
            "text/html": "\n            <div>\n                <p><b>SparkSession - hive</b></p>\n                \n        <div>\n            <p><b>SparkContext</b></p>\n\n            <p><a href=\"http://vm-9da25173:41423\">Spark UI</a></p>\n\n            <dl>\n              <dt>Version</dt>\n                <dd><code>v3.2.2.5.1-100879434</code></dd>\n              <dt>Master</dt>\n                <dd><code>yarn</code></dd>\n              <dt>AppName</dt>\n                <dd><code>Azure ML Experiment</code></dd>\n            </dl>\n        </div>\n        \n            </div>\n        "
          },
          "metadata": {}
        }
      ],
      "execution_count": 1,
      "metadata": {
        "gather": {
          "logged": 1700968278791
        }
      }
    },
    {
      "cell_type": "code",
      "source": [
        "blob_account_name = \"marckvnonprodblob\"\n",
        "blob_container_name = \"bigdata\"\n",
        "# read only\n",
        "blob_sas_token = \"?sv=2021-10-04&st=2023-10-04T01%3A42%3A59Z&se=2024-01-02T02%3A42%3A00Z&sr=c&sp=rlf&sig=w3CH9MbCOpwO7DtHlrahc7AlRPxSZZb8MOgS6TaXLzI%3D\"\n",
        "\n",
        "wasbs_base_url = (\n",
        "    f\"wasbs://{blob_container_name}@{blob_account_name}.blob.core.windows.net/\"\n",
        ")\n",
        "spark.conf.set(\n",
        "    f\"fs.azure.sas.{blob_container_name}.{blob_account_name}.blob.core.windows.net\",\n",
        "    blob_sas_token,\n",
        ")"
      ],
      "outputs": [
        {
          "output_type": "display_data",
          "data": {
            "application/vnd.livy.statement-meta+json": {
              "spark_pool": "3c67b279-1d53-4b7a-b0d9-41cb8b4b6723",
              "session_id": "57",
              "statement_id": 7,
              "state": "finished",
              "livy_statement_state": "available",
              "queued_time": "2023-11-26T03:11:23.8534892Z",
              "session_start_time": null,
              "execution_start_time": "2023-11-26T03:11:23.9754639Z",
              "execution_finish_time": "2023-11-26T03:11:24.2937738Z",
              "spark_jobs": {
                "numbers": {
                  "SUCCEEDED": 0,
                  "RUNNING": 0,
                  "FAILED": 0,
                  "UNKNOWN": 0
                },
                "jobs": [],
                "limit": 20,
                "rule": "ALL_DESC"
              },
              "parent_msg_id": "8d4d460a-641b-4acb-bf5e-42dbf7af0c63"
            },
            "text/plain": "StatementMeta(3c67b279-1d53-4b7a-b0d9-41cb8b4b6723, 57, 7, Finished, Available)"
          },
          "metadata": {}
        }
      ],
      "execution_count": 2,
      "metadata": {
        "jupyter": {
          "source_hidden": false,
          "outputs_hidden": false
        },
        "nteract": {
          "transient": {
            "deleting": false
          }
        },
        "gather": {
          "logged": 1700968284368
        }
      }
    },
    {
      "cell_type": "code",
      "source": [
        "submissions_path = \"reddit-parquet/submissions/\"\n",
        "submissions_df = spark.read.parquet(f\"{wasbs_base_url}{submissions_path}\")"
      ],
      "outputs": [
        {
          "output_type": "display_data",
          "data": {
            "application/vnd.livy.statement-meta+json": {
              "spark_pool": "3c67b279-1d53-4b7a-b0d9-41cb8b4b6723",
              "session_id": "57",
              "statement_id": 8,
              "state": "finished",
              "livy_statement_state": "available",
              "queued_time": "2023-11-26T03:11:26.2048396Z",
              "session_start_time": null,
              "execution_start_time": "2023-11-26T03:11:26.3123777Z",
              "execution_finish_time": "2023-11-26T03:11:45.9133947Z",
              "spark_jobs": {
                "numbers": {
                  "SUCCEEDED": 1,
                  "RUNNING": 0,
                  "FAILED": 0,
                  "UNKNOWN": 0
                },
                "jobs": [
                  {
                    "displayName": "parquet at NativeMethodAccessorImpl.java:0",
                    "dataWritten": 0,
                    "dataRead": 0,
                    "rowCount": 0,
                    "usageDescription": "",
                    "jobId": 0,
                    "name": "parquet at NativeMethodAccessorImpl.java:0",
                    "description": "Job group for statement 8:\nsubmissions_path = \"reddit-parquet/submissions/\"\nsubmissions_df = spark.read.parquet(f\"{wasbs_base_url}{submissions_path}\")",
                    "submissionTime": "2023-11-26T03:11:35.129GMT",
                    "completionTime": "2023-11-26T03:11:42.456GMT",
                    "stageIds": [
                      0
                    ],
                    "jobGroup": "8",
                    "status": "SUCCEEDED",
                    "numTasks": 1,
                    "numActiveTasks": 0,
                    "numCompletedTasks": 1,
                    "numSkippedTasks": 0,
                    "numFailedTasks": 0,
                    "numKilledTasks": 0,
                    "numCompletedIndices": 1,
                    "numActiveStages": 0,
                    "numCompletedStages": 1,
                    "numSkippedStages": 0,
                    "numFailedStages": 0,
                    "killedTasksSummary": {}
                  }
                ],
                "limit": 20,
                "rule": "ALL_DESC"
              },
              "parent_msg_id": "11035090-ceb6-4abf-b684-d632915a36a0"
            },
            "text/plain": "StatementMeta(3c67b279-1d53-4b7a-b0d9-41cb8b4b6723, 57, 8, Finished, Available)"
          },
          "metadata": {}
        }
      ],
      "execution_count": 3,
      "metadata": {
        "jupyter": {
          "source_hidden": false,
          "outputs_hidden": false
        },
        "nteract": {
          "transient": {
            "deleting": false
          }
        },
        "gather": {
          "logged": 1700968306074
        }
      }
    },
    {
      "cell_type": "code",
      "source": [
        "from pyspark.sql.functions import col, asc,desc\n",
        "\n",
        "submissions_filtered = submissions_df.filter(col(\"subreddit\").isin([\"Minecraft\", \"Eldenring\",\"Genshin_Impact\",\"pokemongo\",\"RocketLeagueExchange\",\"VALORANT\",\"DestinyTheGame\",\"CallOfDutyMobile\",\"FIFA\",\"pokemon\"]))"
      ],
      "outputs": [
        {
          "output_type": "display_data",
          "data": {
            "application/vnd.livy.statement-meta+json": {
              "spark_pool": "3c67b279-1d53-4b7a-b0d9-41cb8b4b6723",
              "session_id": "57",
              "statement_id": 9,
              "state": "finished",
              "livy_statement_state": "available",
              "queued_time": "2023-11-26T03:12:07.2528484Z",
              "session_start_time": null,
              "execution_start_time": "2023-11-26T03:12:07.3672644Z",
              "execution_finish_time": "2023-11-26T03:12:08.1977468Z",
              "spark_jobs": {
                "numbers": {
                  "SUCCEEDED": 0,
                  "RUNNING": 0,
                  "FAILED": 0,
                  "UNKNOWN": 0
                },
                "jobs": [],
                "limit": 20,
                "rule": "ALL_DESC"
              },
              "parent_msg_id": "babfb079-a809-4284-95b7-2ac1336a23e5"
            },
            "text/plain": "StatementMeta(3c67b279-1d53-4b7a-b0d9-41cb8b4b6723, 57, 9, Finished, Available)"
          },
          "metadata": {}
        }
      ],
      "execution_count": 4,
      "metadata": {
        "jupyter": {
          "source_hidden": false,
          "outputs_hidden": false
        },
        "nteract": {
          "transient": {
            "deleting": false
          }
        },
        "gather": {
          "logged": 1700968328348
        }
      }
    },
    {
      "cell_type": "code",
      "source": [
        "df_text = submissions_filtered.select(\"subreddit\", \"title\", \"selftext\", \"author\",\"over_18\",\"spoiler\",\"is_video\").cache()"
      ],
      "outputs": [
        {
          "output_type": "display_data",
          "data": {
            "application/vnd.livy.statement-meta+json": {
              "spark_pool": "3c67b279-1d53-4b7a-b0d9-41cb8b4b6723",
              "session_id": "57",
              "statement_id": 10,
              "state": "finished",
              "livy_statement_state": "available",
              "queued_time": "2023-11-26T03:15:06.8320812Z",
              "session_start_time": null,
              "execution_start_time": "2023-11-26T03:15:06.9428118Z",
              "execution_finish_time": "2023-11-26T03:15:08.5056473Z",
              "spark_jobs": {
                "numbers": {
                  "SUCCEEDED": 0,
                  "RUNNING": 0,
                  "FAILED": 0,
                  "UNKNOWN": 0
                },
                "jobs": [],
                "limit": 20,
                "rule": "ALL_DESC"
              },
              "parent_msg_id": "64c3ab6e-f4b0-4f3d-843d-1dec0dcde8ca"
            },
            "text/plain": "StatementMeta(3c67b279-1d53-4b7a-b0d9-41cb8b4b6723, 57, 10, Finished, Available)"
          },
          "metadata": {}
        }
      ],
      "execution_count": 5,
      "metadata": {
        "jupyter": {
          "source_hidden": false,
          "outputs_hidden": false
        },
        "nteract": {
          "transient": {
            "deleting": false
          }
        },
        "gather": {
          "logged": 1700968508669
        }
      }
    },
    {
      "cell_type": "code",
      "source": [
        "from pyspark.sql.functions import concat_ws\n",
        "df = df_text.withColumn(\"text\", concat_ws(\" \", df_text.title, df_text.selftext))"
      ],
      "outputs": [
        {
          "output_type": "display_data",
          "data": {
            "application/vnd.livy.statement-meta+json": {
              "spark_pool": "3c67b279-1d53-4b7a-b0d9-41cb8b4b6723",
              "session_id": "57",
              "statement_id": 11,
              "state": "finished",
              "livy_statement_state": "available",
              "queued_time": "2023-11-26T03:15:13.0929004Z",
              "session_start_time": null,
              "execution_start_time": "2023-11-26T03:15:13.2164561Z",
              "execution_finish_time": "2023-11-26T03:15:13.5064696Z",
              "spark_jobs": {
                "numbers": {
                  "SUCCEEDED": 0,
                  "RUNNING": 0,
                  "FAILED": 0,
                  "UNKNOWN": 0
                },
                "jobs": [],
                "limit": 20,
                "rule": "ALL_DESC"
              },
              "parent_msg_id": "395527ba-cfc8-4497-9554-cbd8a09d91e8"
            },
            "text/plain": "StatementMeta(3c67b279-1d53-4b7a-b0d9-41cb8b4b6723, 57, 11, Finished, Available)"
          },
          "metadata": {}
        }
      ],
      "execution_count": 6,
      "metadata": {
        "jupyter": {
          "source_hidden": false,
          "outputs_hidden": false
        },
        "nteract": {
          "transient": {
            "deleting": false
          }
        },
        "gather": {
          "logged": 1700968513577
        }
      }
    },
    {
      "cell_type": "code",
      "source": [
        "df.show(5)"
      ],
      "outputs": [
        {
          "output_type": "display_data",
          "data": {
            "application/vnd.livy.statement-meta+json": {
              "spark_pool": "3c67b279-1d53-4b7a-b0d9-41cb8b4b6723",
              "session_id": "57",
              "statement_id": 12,
              "state": "finished",
              "livy_statement_state": "available",
              "queued_time": "2023-11-26T03:15:15.1145456Z",
              "session_start_time": null,
              "execution_start_time": "2023-11-26T03:15:15.2189432Z",
              "execution_finish_time": "2023-11-26T03:15:31.7904524Z",
              "spark_jobs": {
                "numbers": {
                  "SUCCEEDED": 1,
                  "RUNNING": 0,
                  "FAILED": 0,
                  "UNKNOWN": 0
                },
                "jobs": [
                  {
                    "displayName": "showString at NativeMethodAccessorImpl.java:0",
                    "dataWritten": 0,
                    "dataRead": 45910500,
                    "rowCount": 221807,
                    "usageDescription": "",
                    "jobId": 1,
                    "name": "showString at NativeMethodAccessorImpl.java:0",
                    "description": "Job group for statement 12:\ndf.show(5)",
                    "submissionTime": "2023-11-26T03:15:16.961GMT",
                    "completionTime": "2023-11-26T03:15:29.454GMT",
                    "stageIds": [
                      1
                    ],
                    "jobGroup": "12",
                    "status": "SUCCEEDED",
                    "numTasks": 1,
                    "numActiveTasks": 0,
                    "numCompletedTasks": 1,
                    "numSkippedTasks": 0,
                    "numFailedTasks": 0,
                    "numKilledTasks": 0,
                    "numCompletedIndices": 1,
                    "numActiveStages": 0,
                    "numCompletedStages": 1,
                    "numSkippedStages": 0,
                    "numFailedStages": 0,
                    "killedTasksSummary": {}
                  }
                ],
                "limit": 20,
                "rule": "ALL_DESC"
              },
              "parent_msg_id": "31ddbe09-db49-4084-aef7-cef24dc693f4"
            },
            "text/plain": "StatementMeta(3c67b279-1d53-4b7a-b0d9-41cb8b4b6723, 57, 12, Finished, Available)"
          },
          "metadata": {}
        },
        {
          "output_type": "stream",
          "name": "stdout",
          "text": "+---------+--------------------+--------------------+---------------+-------+-------+--------+--------------------+\n|subreddit|               title|            selftext|         author|over_18|spoiler|is_video|                text|\n+---------+--------------------+--------------------+---------------+-------+-------+--------+--------------------+\n|     FIFA|if you every get ...|                    |  Robert-Fulton|  false|  false|   false|if you every get ...|\n|Minecraft|     Texting a house|So I’m building a...|     Dogeisagod|  false|  false|   false|Texting a house S...|\n| VALORANT|       Killjoy Mains|Got bored and so ...|Status_Bet_8034|  false|  false|   false|Killjoy Mains Got...|\n|Minecraft|Trident skeleton ...|                    |    Age_Natural|  false|  false|   false|Trident skeleton ...|\n|  pokemon|the PokemonTogeth...|So several days a...|OneWhoGetsBread|  false|  false|   false|the PokemonTogeth...|\n+---------+--------------------+--------------------+---------------+-------+-------+--------+--------------------+\nonly showing top 5 rows\n\n"
        }
      ],
      "execution_count": 7,
      "metadata": {
        "jupyter": {
          "source_hidden": false,
          "outputs_hidden": false
        },
        "nteract": {
          "transient": {
            "deleting": false
          }
        },
        "gather": {
          "logged": 1700968531896
        }
      }
    },
    {
      "cell_type": "code",
      "source": [
        "from pyspark.sql.functions import lower\n",
        "df = df.withColumn(\"text_lower\", lower(df.text))"
      ],
      "outputs": [
        {
          "output_type": "display_data",
          "data": {
            "application/vnd.livy.statement-meta+json": {
              "spark_pool": "3c67b279-1d53-4b7a-b0d9-41cb8b4b6723",
              "session_id": "57",
              "statement_id": 13,
              "state": "finished",
              "livy_statement_state": "available",
              "queued_time": "2023-11-26T03:16:30.2625703Z",
              "session_start_time": null,
              "execution_start_time": "2023-11-26T03:16:30.3604296Z",
              "execution_finish_time": "2023-11-26T03:16:30.6673436Z",
              "spark_jobs": {
                "numbers": {
                  "SUCCEEDED": 0,
                  "RUNNING": 0,
                  "FAILED": 0,
                  "UNKNOWN": 0
                },
                "jobs": [],
                "limit": 20,
                "rule": "ALL_DESC"
              },
              "parent_msg_id": "96e9234e-b720-4a1b-92f8-50f083c0ee17"
            },
            "text/plain": "StatementMeta(3c67b279-1d53-4b7a-b0d9-41cb8b4b6723, 57, 13, Finished, Available)"
          },
          "metadata": {}
        }
      ],
      "execution_count": 8,
      "metadata": {
        "jupyter": {
          "source_hidden": false,
          "outputs_hidden": false
        },
        "nteract": {
          "transient": {
            "deleting": false
          }
        },
        "gather": {
          "logged": 1700968590786
        }
      }
    },
    {
      "cell_type": "code",
      "source": [
        "df = df.drop(*[\"title\",\"selftext\",\"text\"])\n",
        "df.show(5)"
      ],
      "outputs": [
        {
          "output_type": "display_data",
          "data": {
            "application/vnd.livy.statement-meta+json": {
              "spark_pool": "3c67b279-1d53-4b7a-b0d9-41cb8b4b6723",
              "session_id": "57",
              "statement_id": 14,
              "state": "finished",
              "livy_statement_state": "available",
              "queued_time": "2023-11-26T03:17:16.2411368Z",
              "session_start_time": null,
              "execution_start_time": "2023-11-26T03:17:16.3486839Z",
              "execution_finish_time": "2023-11-26T03:17:17.1963402Z",
              "spark_jobs": {
                "numbers": {
                  "SUCCEEDED": 1,
                  "RUNNING": 0,
                  "FAILED": 0,
                  "UNKNOWN": 0
                },
                "jobs": [
                  {
                    "displayName": "showString at NativeMethodAccessorImpl.java:0",
                    "dataWritten": 0,
                    "dataRead": 207224,
                    "rowCount": 1,
                    "usageDescription": "",
                    "jobId": 2,
                    "name": "showString at NativeMethodAccessorImpl.java:0",
                    "description": "Job group for statement 14:\ndf = df.drop(*[\"title\",\"selftext\",\"text\"])\ndf.show(5)",
                    "submissionTime": "2023-11-26T03:17:16.555GMT",
                    "completionTime": "2023-11-26T03:17:16.734GMT",
                    "stageIds": [
                      2
                    ],
                    "jobGroup": "14",
                    "status": "SUCCEEDED",
                    "numTasks": 1,
                    "numActiveTasks": 0,
                    "numCompletedTasks": 1,
                    "numSkippedTasks": 0,
                    "numFailedTasks": 0,
                    "numKilledTasks": 0,
                    "numCompletedIndices": 1,
                    "numActiveStages": 0,
                    "numCompletedStages": 1,
                    "numSkippedStages": 0,
                    "numFailedStages": 0,
                    "killedTasksSummary": {}
                  }
                ],
                "limit": 20,
                "rule": "ALL_DESC"
              },
              "parent_msg_id": "b7403b89-3d4e-4e9b-8bcb-c306b76cd469"
            },
            "text/plain": "StatementMeta(3c67b279-1d53-4b7a-b0d9-41cb8b4b6723, 57, 14, Finished, Available)"
          },
          "metadata": {}
        },
        {
          "output_type": "stream",
          "name": "stdout",
          "text": "+---------+---------------+-------+-------+--------+--------------------+\n|subreddit|         author|over_18|spoiler|is_video|          text_lower|\n+---------+---------------+-------+-------+--------+--------------------+\n|     FIFA|  Robert-Fulton|  false|  false|   false|if you every get ...|\n|Minecraft|     Dogeisagod|  false|  false|   false|texting a house s...|\n| VALORANT|Status_Bet_8034|  false|  false|   false|killjoy mains got...|\n|Minecraft|    Age_Natural|  false|  false|   false|trident skeleton ...|\n|  pokemon|OneWhoGetsBread|  false|  false|   false|the pokemontogeth...|\n+---------+---------------+-------+-------+--------+--------------------+\nonly showing top 5 rows\n\n"
        }
      ],
      "execution_count": 9,
      "metadata": {
        "jupyter": {
          "source_hidden": false,
          "outputs_hidden": false
        },
        "nteract": {
          "transient": {
            "deleting": false
          }
        },
        "gather": {
          "logged": 1700968637295
        }
      }
    },
    {
      "cell_type": "markdown",
      "source": [
        "# assign keywords labels"
      ],
      "metadata": {
        "nteract": {
          "transient": {
            "deleting": false
          }
        }
      }
    },
    {
      "cell_type": "code",
      "source": [
        "keyword_lst = [\n",
        "    [\"bug\",\"error\",\"issue\",\"glitch\",\"crash\",\"freeze\",\"lag\",\"problems\",\"problem\",\"corruption\",\"restart\"],\n",
        "    [\"strategies\",\"strategy\",\"tip\",\"trick\",\"tactic\",\"review\",\"playthrough\",\"speedrun\",\"trophy\",\"trophies\",\"speedrun\",\"achievements\",\"quests\",\"mission\",\"stuck\",\"help\"],\n",
        "    [\"story\",\"storyline\",\"plot\",\"narrative\",\"characters\",\"dialogue\",\"twist\",\"protagonist\",\"antagonist\",\"villian\",\"backstory\",\"emotion\",\"choice\",\"suspense\",\"sexy\",\"waifu\"],\n",
        "    [\"lore\",\"world\",\"mythology\",\"culture\",\"retcon\",\"documents\",\"race\",\"racial\",\"cultural\",\"environment\",\"environmental\",\"artifacts\",\"cosmology\",\"asian\",\"american\",\"african\",\"background\"],\n",
        "    [\"trade\",\"buy\",\"sell\",\"transaction\",\"market\",\"scam\",\"valuation\",\"negotiation\",\"currency\",\"credit\",\"auction\",\"rarity\",\"tax\",\"fee\",\"traders\",\"buyers\",\"sellers\",\"money\",\"dollar\"]\n",
        "]"
      ],
      "outputs": [
        {
          "output_type": "display_data",
          "data": {
            "application/vnd.livy.statement-meta+json": {
              "spark_pool": "3c67b279-1d53-4b7a-b0d9-41cb8b4b6723",
              "session_id": "57",
              "statement_id": 15,
              "state": "finished",
              "livy_statement_state": "available",
              "queued_time": "2023-11-26T03:21:03.623237Z",
              "session_start_time": null,
              "execution_start_time": "2023-11-26T03:21:03.7370866Z",
              "execution_finish_time": "2023-11-26T03:21:04.0584519Z",
              "spark_jobs": {
                "numbers": {
                  "SUCCEEDED": 0,
                  "RUNNING": 0,
                  "FAILED": 0,
                  "UNKNOWN": 0
                },
                "jobs": [],
                "limit": 20,
                "rule": "ALL_DESC"
              },
              "parent_msg_id": "c94918f2-587c-4ed3-9744-caa4d17d681c"
            },
            "text/plain": "StatementMeta(3c67b279-1d53-4b7a-b0d9-41cb8b4b6723, 57, 15, Finished, Available)"
          },
          "metadata": {}
        }
      ],
      "execution_count": 10,
      "metadata": {
        "jupyter": {
          "source_hidden": false,
          "outputs_hidden": false
        },
        "nteract": {
          "transient": {
            "deleting": false
          }
        },
        "gather": {
          "logged": 1700968864202
        }
      }
    },
    {
      "cell_type": "code",
      "source": [
        "from pyspark.sql.functions import when\n",
        "df_label = df.withColumn(\"label\",\n",
        "                   when(col(\"text_lower\").rlike(\"|\".join(keyword_lst[0])), \"bug report\")\n",
        "                   .when(col(\"text_lower\").rlike(\"|\".join(keyword_lst[1])), \"gameplay discussion\")\n",
        "                   .when(col(\"text_lower\").rlike(\"|\".join(keyword_lst[2])), \"story related discussion\")\n",
        "                   .when(col(\"text_lower\").rlike(\"|\".join(keyword_lst[3])), \"lore discussion\")\n",
        "                   .when(col(\"text_lower\").rlike(\"|\".join(keyword_lst[4])), \"game items trading\")\n",
        "                   .otherwise(\"other\"))\n",
        "df_label.show(5)"
      ],
      "outputs": [
        {
          "output_type": "display_data",
          "data": {
            "application/vnd.livy.statement-meta+json": {
              "spark_pool": "3c67b279-1d53-4b7a-b0d9-41cb8b4b6723",
              "session_id": "57",
              "statement_id": 16,
              "state": "finished",
              "livy_statement_state": "available",
              "queued_time": "2023-11-26T03:21:08.5107988Z",
              "session_start_time": null,
              "execution_start_time": "2023-11-26T03:21:08.6177637Z",
              "execution_finish_time": "2023-11-26T03:21:09.500003Z",
              "spark_jobs": {
                "numbers": {
                  "SUCCEEDED": 1,
                  "RUNNING": 0,
                  "FAILED": 0,
                  "UNKNOWN": 0
                },
                "jobs": [
                  {
                    "displayName": "showString at NativeMethodAccessorImpl.java:0",
                    "dataWritten": 0,
                    "dataRead": 207224,
                    "rowCount": 1,
                    "usageDescription": "",
                    "jobId": 3,
                    "name": "showString at NativeMethodAccessorImpl.java:0",
                    "description": "Job group for statement 16:\nfrom pyspark.sql.functions import when\ndf_label = df.withColumn(\"label\",\n                   when(col(\"text_lower\").rlike(\"|\".join(keyword_lst[0])), \"bug report\")\n                   .when(col(\"text_lower\").rlike(\"|\".join(keyword_lst[1])), \"gameplay discussion\")\n                   .when(col(\"text_lower\").rlike(\"|\".join(keyword_lst[2])), \"story related discussion\")\n                   .when(col(\"text_lower\").rlike(\"|\".join(keyword_lst[3])), \"lore discussion\")\n                   .when(col(\"text_lower\").rlike(\"|\".join(keyword_lst[4])), \"game items trading\")\n                   .otherwise(\"other\"))\ndf_label.show(5)",
                    "submissionTime": "2023-11-26T03:21:09.003GMT",
                    "completionTime": "2023-11-26T03:21:09.130GMT",
                    "stageIds": [
                      3
                    ],
                    "jobGroup": "16",
                    "status": "SUCCEEDED",
                    "numTasks": 1,
                    "numActiveTasks": 0,
                    "numCompletedTasks": 1,
                    "numSkippedTasks": 0,
                    "numFailedTasks": 0,
                    "numKilledTasks": 0,
                    "numCompletedIndices": 1,
                    "numActiveStages": 0,
                    "numCompletedStages": 1,
                    "numSkippedStages": 0,
                    "numFailedStages": 0,
                    "killedTasksSummary": {}
                  }
                ],
                "limit": 20,
                "rule": "ALL_DESC"
              },
              "parent_msg_id": "2cbf2352-dc02-4990-b851-c1373cadc3f9"
            },
            "text/plain": "StatementMeta(3c67b279-1d53-4b7a-b0d9-41cb8b4b6723, 57, 16, Finished, Available)"
          },
          "metadata": {}
        },
        {
          "output_type": "stream",
          "name": "stdout",
          "text": "+---------+---------------+-------+-------+--------+--------------------+-------------------+\n|subreddit|         author|over_18|spoiler|is_video|          text_lower|              label|\n+---------+---------------+-------+-------+--------+--------------------+-------------------+\n|     FIFA|  Robert-Fulton|  false|  false|   false|if you every get ...|              other|\n|Minecraft|     Dogeisagod|  false|  false|   false|texting a house s...|              other|\n| VALORANT|Status_Bet_8034|  false|  false|   false|killjoy mains got...| game items trading|\n|Minecraft|    Age_Natural|  false|  false|   false|trident skeleton ...|         bug report|\n|  pokemon|OneWhoGetsBread|  false|  false|   false|the pokemontogeth...|gameplay discussion|\n+---------+---------------+-------+-------+--------+--------------------+-------------------+\nonly showing top 5 rows\n\n"
        }
      ],
      "execution_count": 11,
      "metadata": {
        "jupyter": {
          "source_hidden": false,
          "outputs_hidden": false
        },
        "nteract": {
          "transient": {
            "deleting": false
          }
        },
        "gather": {
          "logged": 1700968869622
        }
      }
    },
    {
      "cell_type": "markdown",
      "source": [
        "# check the distribution of each labels"
      ],
      "metadata": {
        "nteract": {
          "transient": {
            "deleting": false
          }
        }
      }
    },
    {
      "cell_type": "code",
      "source": [
        "df_label_cnt = df_label.groupBy(\"label\").count().orderBy(col(\"count\"), ascending=False).collect()"
      ],
      "outputs": [
        {
          "output_type": "display_data",
          "data": {
            "application/vnd.livy.statement-meta+json": {
              "spark_pool": "3c67b279-1d53-4b7a-b0d9-41cb8b4b6723",
              "session_id": "56",
              "statement_id": 23,
              "state": "submitted",
              "livy_statement_state": "running",
              "queued_time": "2023-11-25T20:27:03.2303579Z",
              "session_start_time": null,
              "execution_start_time": "2023-11-25T20:27:03.348002Z",
              "execution_finish_time": null,
              "spark_jobs": {
                "numbers": {
                  "SUCCEEDED": 0,
                  "UNKNOWN": 0,
                  "RUNNING": 1,
                  "FAILED": 0
                },
                "jobs": [
                  {
                    "displayName": "collect at /tmp/ipykernel_7833/177574381.py:1",
                    "dataWritten": 1314189,
                    "dataRead": 66212864582,
                    "rowCount": 761618691,
                    "usageDescription": "",
                    "jobId": 14,
                    "name": "collect at /tmp/ipykernel_7833/177574381.py:1",
                    "description": "Job group for statement 23:\ndf_label_cnt = df_label.groupBy(\"label\").count().orderBy(col(\"count\"), ascending=False).collect()",
                    "submissionTime": "2023-11-25T20:27:03.946GMT",
                    "stageIds": [
                      14
                    ],
                    "jobGroup": "23",
                    "status": "RUNNING",
                    "numTasks": 3080,
                    "numActiveTasks": 9,
                    "numCompletedTasks": 2669,
                    "numSkippedTasks": 0,
                    "numFailedTasks": 0,
                    "numKilledTasks": 0,
                    "numCompletedIndices": 2669,
                    "numActiveStages": 1,
                    "numCompletedStages": 0,
                    "numSkippedStages": 0,
                    "numFailedStages": 0,
                    "killedTasksSummary": {}
                  }
                ],
                "limit": 20,
                "rule": "ALL_DESC"
              },
              "parent_msg_id": "3a4a2b10-f9e7-4d22-88c1-950b408c9d07"
            },
            "text/plain": "StatementMeta(3c67b279-1d53-4b7a-b0d9-41cb8b4b6723, 56, 23, Submitted, Running)"
          },
          "metadata": {}
        }
      ],
      "execution_count": 18,
      "metadata": {
        "jupyter": {
          "source_hidden": false,
          "outputs_hidden": false
        },
        "nteract": {
          "transient": {
            "deleting": false
          }
        },
        "gather": {
          "logged": 1700945182971
        }
      }
    },
    {
      "cell_type": "code",
      "source": [
        "df_label_cnt_tot = spark.createDataFrame(df_label_cnt).toPandas()\n",
        "df_label_cnt_tot"
      ],
      "outputs": [
        {
          "output_type": "display_data",
          "data": {
            "application/vnd.livy.statement-meta+json": {
              "spark_pool": "3c67b279-1d53-4b7a-b0d9-41cb8b4b6723",
              "session_id": "56",
              "statement_id": 26,
              "state": "finished",
              "livy_statement_state": "available",
              "queued_time": "2023-11-25T20:49:24.2976912Z",
              "session_start_time": null,
              "execution_start_time": "2023-11-25T20:49:24.3979017Z",
              "execution_finish_time": "2023-11-25T20:49:26.8282525Z",
              "spark_jobs": {
                "numbers": {
                  "SUCCEEDED": 1,
                  "UNKNOWN": 0,
                  "RUNNING": 0,
                  "FAILED": 0
                },
                "jobs": [
                  {
                    "displayName": "toPandas at /tmp/ipykernel_7833/36391192.py:1",
                    "dataWritten": 0,
                    "dataRead": 0,
                    "rowCount": 0,
                    "usageDescription": "",
                    "jobId": 18,
                    "name": "toPandas at /tmp/ipykernel_7833/36391192.py:1",
                    "description": "Job group for statement 26:\ndf_label_cnt_tot = spark.createDataFrame(df_label_cnt).toPandas()\ndf_label_cnt_tot",
                    "submissionTime": "2023-11-25T20:49:25.235GMT",
                    "completionTime": "2023-11-25T20:49:26.106GMT",
                    "stageIds": [
                      22
                    ],
                    "jobGroup": "26",
                    "status": "SUCCEEDED",
                    "numTasks": 8,
                    "numActiveTasks": 0,
                    "numCompletedTasks": 8,
                    "numSkippedTasks": 0,
                    "numFailedTasks": 0,
                    "numKilledTasks": 0,
                    "numCompletedIndices": 8,
                    "numActiveStages": 0,
                    "numCompletedStages": 1,
                    "numSkippedStages": 0,
                    "numFailedStages": 0,
                    "killedTasksSummary": {}
                  }
                ],
                "limit": 20,
                "rule": "ALL_DESC"
              },
              "parent_msg_id": "f7912d9b-2f81-4255-b017-2aa4d181a449"
            },
            "text/plain": "StatementMeta(3c67b279-1d53-4b7a-b0d9-41cb8b4b6723, 56, 26, Finished, Available)"
          },
          "metadata": {}
        },
        {
          "output_type": "execute_result",
          "execution_count": 51,
          "data": {
            "text/plain": "                      label    count\n0                     other  3925294\n1                bug report   358867\n2        game items trading   330996\n3       gameplay discussion   240189\n4           lore discussion   150275\n5  story related discussion    86385",
            "text/html": "<div>\n<style scoped>\n    .dataframe tbody tr th:only-of-type {\n        vertical-align: middle;\n    }\n\n    .dataframe tbody tr th {\n        vertical-align: top;\n    }\n\n    .dataframe thead th {\n        text-align: right;\n    }\n</style>\n<table border=\"1\" class=\"dataframe\">\n  <thead>\n    <tr style=\"text-align: right;\">\n      <th></th>\n      <th>label</th>\n      <th>count</th>\n    </tr>\n  </thead>\n  <tbody>\n    <tr>\n      <th>0</th>\n      <td>other</td>\n      <td>3925294</td>\n    </tr>\n    <tr>\n      <th>1</th>\n      <td>bug report</td>\n      <td>358867</td>\n    </tr>\n    <tr>\n      <th>2</th>\n      <td>game items trading</td>\n      <td>330996</td>\n    </tr>\n    <tr>\n      <th>3</th>\n      <td>gameplay discussion</td>\n      <td>240189</td>\n    </tr>\n    <tr>\n      <th>4</th>\n      <td>lore discussion</td>\n      <td>150275</td>\n    </tr>\n    <tr>\n      <th>5</th>\n      <td>story related discussion</td>\n      <td>86385</td>\n    </tr>\n  </tbody>\n</table>\n</div>"
          },
          "metadata": {}
        }
      ],
      "execution_count": 21,
      "metadata": {
        "jupyter": {
          "source_hidden": false,
          "outputs_hidden": false
        },
        "nteract": {
          "transient": {
            "deleting": false
          }
        },
        "gather": {
          "logged": 1700945366998
        }
      }
    },
    {
      "cell_type": "code",
      "source": [
        "df_label_cnt_game = df_label.groupBy(\"subreddit\",\"label\").count().orderBy(col(\"count\"), ascending=False).collect()"
      ],
      "outputs": [
        {
          "output_type": "display_data",
          "data": {
            "application/vnd.livy.statement-meta+json": {
              "spark_pool": "3c67b279-1d53-4b7a-b0d9-41cb8b4b6723",
              "session_id": "56",
              "statement_id": 27,
              "state": "finished",
              "livy_statement_state": "available",
              "queued_time": "2023-11-25T20:51:38.132325Z",
              "session_start_time": null,
              "execution_start_time": "2023-11-25T20:51:38.2359509Z",
              "execution_finish_time": "2023-11-25T20:53:16.0004452Z",
              "spark_jobs": {
                "numbers": {
                  "SUCCEEDED": 4,
                  "UNKNOWN": 0,
                  "RUNNING": 0,
                  "FAILED": 0
                },
                "jobs": [
                  {
                    "displayName": "collect at /tmp/ipykernel_7833/3509952026.py:1",
                    "dataWritten": 0,
                    "dataRead": 6384,
                    "rowCount": 60,
                    "usageDescription": "",
                    "jobId": 22,
                    "name": "collect at /tmp/ipykernel_7833/3509952026.py:1",
                    "description": "Job group for statement 27:\ndf_label_cnt_game = df_label.groupBy(\"subreddit\",\"label\").count().orderBy(col(\"count\"), ascending=False).collect()",
                    "submissionTime": "2023-11-25T20:53:13.621GMT",
                    "completionTime": "2023-11-25T20:53:13.841GMT",
                    "stageIds": [
                      30,
                      28,
                      29
                    ],
                    "jobGroup": "27",
                    "status": "SUCCEEDED",
                    "numTasks": 3090,
                    "numActiveTasks": 0,
                    "numCompletedTasks": 1,
                    "numSkippedTasks": 3089,
                    "numFailedTasks": 0,
                    "numKilledTasks": 0,
                    "numCompletedIndices": 1,
                    "numActiveStages": 0,
                    "numCompletedStages": 1,
                    "numSkippedStages": 2,
                    "numFailedStages": 0,
                    "killedTasksSummary": {}
                  },
                  {
                    "displayName": "collect at /tmp/ipykernel_7833/3509952026.py:1",
                    "dataWritten": 6384,
                    "dataRead": 15710694,
                    "rowCount": 165432,
                    "usageDescription": "",
                    "jobId": 21,
                    "name": "collect at /tmp/ipykernel_7833/3509952026.py:1",
                    "description": "Job group for statement 27:\ndf_label_cnt_game = df_label.groupBy(\"subreddit\",\"label\").count().orderBy(col(\"count\"), ascending=False).collect()",
                    "submissionTime": "2023-11-25T20:53:12.519GMT",
                    "completionTime": "2023-11-25T20:53:13.581GMT",
                    "stageIds": [
                      27,
                      26
                    ],
                    "jobGroup": "27",
                    "status": "SUCCEEDED",
                    "numTasks": 3089,
                    "numActiveTasks": 0,
                    "numCompletedTasks": 9,
                    "numSkippedTasks": 3080,
                    "numFailedTasks": 0,
                    "numKilledTasks": 0,
                    "numCompletedIndices": 9,
                    "numActiveStages": 0,
                    "numCompletedStages": 1,
                    "numSkippedStages": 1,
                    "numFailedStages": 0,
                    "killedTasksSummary": {}
                  },
                  {
                    "displayName": "collect at /tmp/ipykernel_7833/3509952026.py:1",
                    "dataWritten": 0,
                    "dataRead": 15710694,
                    "rowCount": 165372,
                    "usageDescription": "",
                    "jobId": 20,
                    "name": "collect at /tmp/ipykernel_7833/3509952026.py:1",
                    "description": "Job group for statement 27:\ndf_label_cnt_game = df_label.groupBy(\"subreddit\",\"label\").count().orderBy(col(\"count\"), ascending=False).collect()",
                    "submissionTime": "2023-11-25T20:53:10.956GMT",
                    "completionTime": "2023-11-25T20:53:12.514GMT",
                    "stageIds": [
                      24,
                      25
                    ],
                    "jobGroup": "27",
                    "status": "SUCCEEDED",
                    "numTasks": 3089,
                    "numActiveTasks": 0,
                    "numCompletedTasks": 9,
                    "numSkippedTasks": 3080,
                    "numFailedTasks": 0,
                    "numKilledTasks": 0,
                    "numCompletedIndices": 9,
                    "numActiveStages": 0,
                    "numCompletedStages": 1,
                    "numSkippedStages": 1,
                    "numFailedStages": 0,
                    "killedTasksSummary": {}
                  },
                  {
                    "displayName": "collect at /tmp/ipykernel_7833/3509952026.py:1",
                    "dataWritten": 15710694,
                    "dataRead": 1014266417,
                    "rowCount": 168452,
                    "usageDescription": "",
                    "jobId": 19,
                    "name": "collect at /tmp/ipykernel_7833/3509952026.py:1",
                    "description": "Job group for statement 27:\ndf_label_cnt_game = df_label.groupBy(\"subreddit\",\"label\").count().orderBy(col(\"count\"), ascending=False).collect()",
                    "submissionTime": "2023-11-25T20:51:38.404GMT",
                    "completionTime": "2023-11-25T20:53:10.867GMT",
                    "stageIds": [
                      23
                    ],
                    "jobGroup": "27",
                    "status": "SUCCEEDED",
                    "numTasks": 3080,
                    "numActiveTasks": 0,
                    "numCompletedTasks": 3080,
                    "numSkippedTasks": 0,
                    "numFailedTasks": 0,
                    "numKilledTasks": 0,
                    "numCompletedIndices": 3080,
                    "numActiveStages": 0,
                    "numCompletedStages": 1,
                    "numSkippedStages": 0,
                    "numFailedStages": 0,
                    "killedTasksSummary": {}
                  }
                ],
                "limit": 20,
                "rule": "ALL_DESC"
              },
              "parent_msg_id": "75e8df25-15d5-4d87-8fd3-24f99db13b05"
            },
            "text/plain": "StatementMeta(3c67b279-1d53-4b7a-b0d9-41cb8b4b6723, 56, 27, Finished, Available)"
          },
          "metadata": {}
        }
      ],
      "execution_count": 22,
      "metadata": {
        "jupyter": {
          "source_hidden": false,
          "outputs_hidden": false
        },
        "nteract": {
          "transient": {
            "deleting": false
          }
        },
        "gather": {
          "logged": 1700945596093
        }
      }
    },
    {
      "cell_type": "code",
      "source": [
        "df_label_cnt_sub = spark.createDataFrame(df_label_cnt_game).toPandas()\n",
        "df_label_cnt_sub"
      ],
      "outputs": [
        {
          "output_type": "display_data",
          "data": {
            "application/vnd.livy.statement-meta+json": {
              "spark_pool": "3c67b279-1d53-4b7a-b0d9-41cb8b4b6723",
              "session_id": "56",
              "statement_id": 28,
              "state": "finished",
              "livy_statement_state": "available",
              "queued_time": "2023-11-25T20:53:39.9242274Z",
              "session_start_time": null,
              "execution_start_time": "2023-11-25T20:53:40.167543Z",
              "execution_finish_time": "2023-11-25T20:53:40.9644075Z",
              "spark_jobs": {
                "numbers": {
                  "SUCCEEDED": 1,
                  "UNKNOWN": 0,
                  "RUNNING": 0,
                  "FAILED": 0
                },
                "jobs": [
                  {
                    "displayName": "toPandas at /tmp/ipykernel_7833/1833144595.py:1",
                    "dataWritten": 0,
                    "dataRead": 0,
                    "rowCount": 0,
                    "usageDescription": "",
                    "jobId": 23,
                    "name": "toPandas at /tmp/ipykernel_7833/1833144595.py:1",
                    "description": "Job group for statement 28:\ndf_label_cnt_sub = spark.createDataFrame(df_label_cnt_game).toPandas()\ndf_label_cnt_sub",
                    "submissionTime": "2023-11-25T20:53:40.246GMT",
                    "completionTime": "2023-11-25T20:53:40.362GMT",
                    "stageIds": [
                      31
                    ],
                    "jobGroup": "28",
                    "status": "SUCCEEDED",
                    "numTasks": 8,
                    "numActiveTasks": 0,
                    "numCompletedTasks": 8,
                    "numSkippedTasks": 0,
                    "numFailedTasks": 0,
                    "numKilledTasks": 0,
                    "numCompletedIndices": 8,
                    "numActiveStages": 0,
                    "numCompletedStages": 1,
                    "numSkippedStages": 0,
                    "numFailedStages": 0,
                    "killedTasksSummary": {}
                  }
                ],
                "limit": 20,
                "rule": "ALL_DESC"
              },
              "parent_msg_id": "88300b74-db48-4e2f-bbdb-d361ac2b33cc"
            },
            "text/plain": "StatementMeta(3c67b279-1d53-4b7a-b0d9-41cb8b4b6723, 56, 28, Finished, Available)"
          },
          "metadata": {}
        },
        {
          "output_type": "execute_result",
          "execution_count": 55,
          "data": {
            "text/plain": "               subreddit                     label   count\n0              Minecraft                     other  671646\n1              Eldenring                     other  634060\n2         Genshin_Impact                     other  555686\n3              pokemongo                     other  373640\n4               VALORANT                     other  317794\n5       CallOfDutyMobile                     other  312899\n6                   FIFA                     other  297790\n7                pokemon                     other  291050\n8         DestinyTheGame                     other  253196\n9   RocketLeagueExchange                     other  217533\n10  RocketLeagueExchange        game items trading  144268\n11             Minecraft                bug report  106622\n12             Minecraft           lore discussion   64098\n13             Eldenring       gameplay discussion   54598\n14             Eldenring                bug report   51701\n15        DestinyTheGame                bug report   50252\n16             Minecraft       gameplay discussion   38968\n17  RocketLeagueExchange       gameplay discussion   38045\n18             Eldenring        game items trading   36795\n19              VALORANT                bug report   33166\n20        Genshin_Impact                bug report   32712\n21             Eldenring           lore discussion   32106\n22        Genshin_Impact  story related discussion   31970\n23        DestinyTheGame        game items trading   28413\n24        Genshin_Impact       gameplay discussion   27348\n25      CallOfDutyMobile                bug report   26609\n26        DestinyTheGame       gameplay discussion   23440\n27                  FIFA        game items trading   22542\n28                  FIFA                bug report   20528\n29               pokemon        game items trading   19570\n30              VALORANT        game items trading   19301\n31             Eldenring  story related discussion   18085\n32             Minecraft        game items trading   18083\n33             pokemongo                bug report   16292\n34             pokemongo        game items trading   16164\n35              VALORANT       gameplay discussion   15737\n36        Genshin_Impact           lore discussion   15222\n37               pokemon                bug report   14920\n38        Genshin_Impact        game items trading   13295\n39                  FIFA       gameplay discussion   12814\n40      CallOfDutyMobile        game items trading   12565\n41        DestinyTheGame  story related discussion   12132\n42        DestinyTheGame           lore discussion   11676\n43               pokemon       gameplay discussion   11669\n44               pokemon  story related discussion   10467\n45      CallOfDutyMobile       gameplay discussion    9700\n46  RocketLeagueExchange           lore discussion    9009\n47             pokemongo       gameplay discussion    7870\n48               pokemon           lore discussion    7555\n49  RocketLeagueExchange                bug report    6065\n50             Minecraft  story related discussion    4205\n51                  FIFA           lore discussion    4071\n52              VALORANT  story related discussion    2906\n53      CallOfDutyMobile  story related discussion    2701\n54              VALORANT           lore discussion    2450\n55             pokemongo           lore discussion    2049\n56      CallOfDutyMobile           lore discussion    2039\n57                  FIFA  story related discussion    1546\n58             pokemongo  story related discussion    1460\n59  RocketLeagueExchange  story related discussion     913",
            "text/html": "<div>\n<style scoped>\n    .dataframe tbody tr th:only-of-type {\n        vertical-align: middle;\n    }\n\n    .dataframe tbody tr th {\n        vertical-align: top;\n    }\n\n    .dataframe thead th {\n        text-align: right;\n    }\n</style>\n<table border=\"1\" class=\"dataframe\">\n  <thead>\n    <tr style=\"text-align: right;\">\n      <th></th>\n      <th>subreddit</th>\n      <th>label</th>\n      <th>count</th>\n    </tr>\n  </thead>\n  <tbody>\n    <tr>\n      <th>0</th>\n      <td>Minecraft</td>\n      <td>other</td>\n      <td>671646</td>\n    </tr>\n    <tr>\n      <th>1</th>\n      <td>Eldenring</td>\n      <td>other</td>\n      <td>634060</td>\n    </tr>\n    <tr>\n      <th>2</th>\n      <td>Genshin_Impact</td>\n      <td>other</td>\n      <td>555686</td>\n    </tr>\n    <tr>\n      <th>3</th>\n      <td>pokemongo</td>\n      <td>other</td>\n      <td>373640</td>\n    </tr>\n    <tr>\n      <th>4</th>\n      <td>VALORANT</td>\n      <td>other</td>\n      <td>317794</td>\n    </tr>\n    <tr>\n      <th>5</th>\n      <td>CallOfDutyMobile</td>\n      <td>other</td>\n      <td>312899</td>\n    </tr>\n    <tr>\n      <th>6</th>\n      <td>FIFA</td>\n      <td>other</td>\n      <td>297790</td>\n    </tr>\n    <tr>\n      <th>7</th>\n      <td>pokemon</td>\n      <td>other</td>\n      <td>291050</td>\n    </tr>\n    <tr>\n      <th>8</th>\n      <td>DestinyTheGame</td>\n      <td>other</td>\n      <td>253196</td>\n    </tr>\n    <tr>\n      <th>9</th>\n      <td>RocketLeagueExchange</td>\n      <td>other</td>\n      <td>217533</td>\n    </tr>\n    <tr>\n      <th>10</th>\n      <td>RocketLeagueExchange</td>\n      <td>game items trading</td>\n      <td>144268</td>\n    </tr>\n    <tr>\n      <th>11</th>\n      <td>Minecraft</td>\n      <td>bug report</td>\n      <td>106622</td>\n    </tr>\n    <tr>\n      <th>12</th>\n      <td>Minecraft</td>\n      <td>lore discussion</td>\n      <td>64098</td>\n    </tr>\n    <tr>\n      <th>13</th>\n      <td>Eldenring</td>\n      <td>gameplay discussion</td>\n      <td>54598</td>\n    </tr>\n    <tr>\n      <th>14</th>\n      <td>Eldenring</td>\n      <td>bug report</td>\n      <td>51701</td>\n    </tr>\n    <tr>\n      <th>15</th>\n      <td>DestinyTheGame</td>\n      <td>bug report</td>\n      <td>50252</td>\n    </tr>\n    <tr>\n      <th>16</th>\n      <td>Minecraft</td>\n      <td>gameplay discussion</td>\n      <td>38968</td>\n    </tr>\n    <tr>\n      <th>17</th>\n      <td>RocketLeagueExchange</td>\n      <td>gameplay discussion</td>\n      <td>38045</td>\n    </tr>\n    <tr>\n      <th>18</th>\n      <td>Eldenring</td>\n      <td>game items trading</td>\n      <td>36795</td>\n    </tr>\n    <tr>\n      <th>19</th>\n      <td>VALORANT</td>\n      <td>bug report</td>\n      <td>33166</td>\n    </tr>\n    <tr>\n      <th>20</th>\n      <td>Genshin_Impact</td>\n      <td>bug report</td>\n      <td>32712</td>\n    </tr>\n    <tr>\n      <th>21</th>\n      <td>Eldenring</td>\n      <td>lore discussion</td>\n      <td>32106</td>\n    </tr>\n    <tr>\n      <th>22</th>\n      <td>Genshin_Impact</td>\n      <td>story related discussion</td>\n      <td>31970</td>\n    </tr>\n    <tr>\n      <th>23</th>\n      <td>DestinyTheGame</td>\n      <td>game items trading</td>\n      <td>28413</td>\n    </tr>\n    <tr>\n      <th>24</th>\n      <td>Genshin_Impact</td>\n      <td>gameplay discussion</td>\n      <td>27348</td>\n    </tr>\n    <tr>\n      <th>25</th>\n      <td>CallOfDutyMobile</td>\n      <td>bug report</td>\n      <td>26609</td>\n    </tr>\n    <tr>\n      <th>26</th>\n      <td>DestinyTheGame</td>\n      <td>gameplay discussion</td>\n      <td>23440</td>\n    </tr>\n    <tr>\n      <th>27</th>\n      <td>FIFA</td>\n      <td>game items trading</td>\n      <td>22542</td>\n    </tr>\n    <tr>\n      <th>28</th>\n      <td>FIFA</td>\n      <td>bug report</td>\n      <td>20528</td>\n    </tr>\n    <tr>\n      <th>29</th>\n      <td>pokemon</td>\n      <td>game items trading</td>\n      <td>19570</td>\n    </tr>\n    <tr>\n      <th>30</th>\n      <td>VALORANT</td>\n      <td>game items trading</td>\n      <td>19301</td>\n    </tr>\n    <tr>\n      <th>31</th>\n      <td>Eldenring</td>\n      <td>story related discussion</td>\n      <td>18085</td>\n    </tr>\n    <tr>\n      <th>32</th>\n      <td>Minecraft</td>\n      <td>game items trading</td>\n      <td>18083</td>\n    </tr>\n    <tr>\n      <th>33</th>\n      <td>pokemongo</td>\n      <td>bug report</td>\n      <td>16292</td>\n    </tr>\n    <tr>\n      <th>34</th>\n      <td>pokemongo</td>\n      <td>game items trading</td>\n      <td>16164</td>\n    </tr>\n    <tr>\n      <th>35</th>\n      <td>VALORANT</td>\n      <td>gameplay discussion</td>\n      <td>15737</td>\n    </tr>\n    <tr>\n      <th>36</th>\n      <td>Genshin_Impact</td>\n      <td>lore discussion</td>\n      <td>15222</td>\n    </tr>\n    <tr>\n      <th>37</th>\n      <td>pokemon</td>\n      <td>bug report</td>\n      <td>14920</td>\n    </tr>\n    <tr>\n      <th>38</th>\n      <td>Genshin_Impact</td>\n      <td>game items trading</td>\n      <td>13295</td>\n    </tr>\n    <tr>\n      <th>39</th>\n      <td>FIFA</td>\n      <td>gameplay discussion</td>\n      <td>12814</td>\n    </tr>\n    <tr>\n      <th>40</th>\n      <td>CallOfDutyMobile</td>\n      <td>game items trading</td>\n      <td>12565</td>\n    </tr>\n    <tr>\n      <th>41</th>\n      <td>DestinyTheGame</td>\n      <td>story related discussion</td>\n      <td>12132</td>\n    </tr>\n    <tr>\n      <th>42</th>\n      <td>DestinyTheGame</td>\n      <td>lore discussion</td>\n      <td>11676</td>\n    </tr>\n    <tr>\n      <th>43</th>\n      <td>pokemon</td>\n      <td>gameplay discussion</td>\n      <td>11669</td>\n    </tr>\n    <tr>\n      <th>44</th>\n      <td>pokemon</td>\n      <td>story related discussion</td>\n      <td>10467</td>\n    </tr>\n    <tr>\n      <th>45</th>\n      <td>CallOfDutyMobile</td>\n      <td>gameplay discussion</td>\n      <td>9700</td>\n    </tr>\n    <tr>\n      <th>46</th>\n      <td>RocketLeagueExchange</td>\n      <td>lore discussion</td>\n      <td>9009</td>\n    </tr>\n    <tr>\n      <th>47</th>\n      <td>pokemongo</td>\n      <td>gameplay discussion</td>\n      <td>7870</td>\n    </tr>\n    <tr>\n      <th>48</th>\n      <td>pokemon</td>\n      <td>lore discussion</td>\n      <td>7555</td>\n    </tr>\n    <tr>\n      <th>49</th>\n      <td>RocketLeagueExchange</td>\n      <td>bug report</td>\n      <td>6065</td>\n    </tr>\n    <tr>\n      <th>50</th>\n      <td>Minecraft</td>\n      <td>story related discussion</td>\n      <td>4205</td>\n    </tr>\n    <tr>\n      <th>51</th>\n      <td>FIFA</td>\n      <td>lore discussion</td>\n      <td>4071</td>\n    </tr>\n    <tr>\n      <th>52</th>\n      <td>VALORANT</td>\n      <td>story related discussion</td>\n      <td>2906</td>\n    </tr>\n    <tr>\n      <th>53</th>\n      <td>CallOfDutyMobile</td>\n      <td>story related discussion</td>\n      <td>2701</td>\n    </tr>\n    <tr>\n      <th>54</th>\n      <td>VALORANT</td>\n      <td>lore discussion</td>\n      <td>2450</td>\n    </tr>\n    <tr>\n      <th>55</th>\n      <td>pokemongo</td>\n      <td>lore discussion</td>\n      <td>2049</td>\n    </tr>\n    <tr>\n      <th>56</th>\n      <td>CallOfDutyMobile</td>\n      <td>lore discussion</td>\n      <td>2039</td>\n    </tr>\n    <tr>\n      <th>57</th>\n      <td>FIFA</td>\n      <td>story related discussion</td>\n      <td>1546</td>\n    </tr>\n    <tr>\n      <th>58</th>\n      <td>pokemongo</td>\n      <td>story related discussion</td>\n      <td>1460</td>\n    </tr>\n    <tr>\n      <th>59</th>\n      <td>RocketLeagueExchange</td>\n      <td>story related discussion</td>\n      <td>913</td>\n    </tr>\n  </tbody>\n</table>\n</div>"
          },
          "metadata": {}
        }
      ],
      "execution_count": 23,
      "metadata": {
        "jupyter": {
          "source_hidden": false,
          "outputs_hidden": false
        },
        "nteract": {
          "transient": {
            "deleting": false
          }
        },
        "gather": {
          "logged": 1700945621140
        }
      }
    },
    {
      "cell_type": "code",
      "source": [
        "import os\n",
        "CSV_DIR = os.path.join(\"Users/ky285/fall-2023-reddit-project-team-11/data\", \"csv\")\n",
        "df_label_cnt_tot.to_csv(f\"{CSV_DIR}/total_label_count.csv\", index=False)\n",
        "df_label_cnt_sub.to_csv(f\"{CSV_DIR}/game_label_count.csv\", index=False)"
      ],
      "outputs": [
        {
          "output_type": "display_data",
          "data": {
            "application/vnd.livy.statement-meta+json": {
              "spark_pool": "3c67b279-1d53-4b7a-b0d9-41cb8b4b6723",
              "session_id": "56",
              "statement_id": 29,
              "state": "finished",
              "livy_statement_state": "available",
              "queued_time": "2023-11-25T20:56:03.9965903Z",
              "session_start_time": null,
              "execution_start_time": "2023-11-25T20:56:04.1134322Z",
              "execution_finish_time": "2023-11-25T20:56:05.6491774Z",
              "spark_jobs": {
                "numbers": {
                  "SUCCEEDED": 0,
                  "UNKNOWN": 0,
                  "RUNNING": 0,
                  "FAILED": 0
                },
                "jobs": [],
                "limit": 20,
                "rule": "ALL_DESC"
              },
              "parent_msg_id": "ecc80a00-ef7a-4250-9d0e-0fff4b26a1b1"
            },
            "text/plain": "StatementMeta(3c67b279-1d53-4b7a-b0d9-41cb8b4b6723, 56, 29, Finished, Available)"
          },
          "metadata": {}
        }
      ],
      "execution_count": 24,
      "metadata": {
        "jupyter": {
          "source_hidden": false,
          "outputs_hidden": false
        },
        "nteract": {
          "transient": {
            "deleting": false
          }
        },
        "gather": {
          "logged": 1700945765809
        }
      }
    },
    {
      "cell_type": "markdown",
      "source": [
        "# train test validation split"
      ],
      "metadata": {
        "nteract": {
          "transient": {
            "deleting": false
          }
        }
      }
    },
    {
      "cell_type": "code",
      "source": [
        "df_ml = df_label.filter((col(\"label\") == \"bug report\") | (col(\"label\") == \"gameplay discussion\") | (col(\"label\") == \"story related discussion\") | (col(\"label\") == \"lore discussion\") | (col(\"label\") == \"game items trading\"))"
      ],
      "outputs": [
        {
          "output_type": "display_data",
          "data": {
            "application/vnd.livy.statement-meta+json": {
              "spark_pool": "3c67b279-1d53-4b7a-b0d9-41cb8b4b6723",
              "session_id": "57",
              "statement_id": 23,
              "state": "finished",
              "livy_statement_state": "available",
              "queued_time": "2023-11-26T03:28:57.6934599Z",
              "session_start_time": null,
              "execution_start_time": "2023-11-26T03:28:57.8060333Z",
              "execution_finish_time": "2023-11-26T03:28:58.1200588Z",
              "spark_jobs": {
                "numbers": {
                  "SUCCEEDED": 0,
                  "RUNNING": 0,
                  "FAILED": 0,
                  "UNKNOWN": 0
                },
                "jobs": [],
                "limit": 20,
                "rule": "ALL_DESC"
              },
              "parent_msg_id": "a39ee1b1-d31f-437a-9cc9-2223d740dd43"
            },
            "text/plain": "StatementMeta(3c67b279-1d53-4b7a-b0d9-41cb8b4b6723, 57, 23, Finished, Available)"
          },
          "metadata": {}
        }
      ],
      "execution_count": 18,
      "metadata": {
        "jupyter": {
          "source_hidden": false,
          "outputs_hidden": false
        },
        "nteract": {
          "transient": {
            "deleting": false
          }
        },
        "gather": {
          "logged": 1700969338184
        }
      }
    },
    {
      "cell_type": "code",
      "source": [
        "df_ml = df_ml.withColumn(\"over_18_str\", col(\"over_18\").cast(\"string\"))\n",
        "df_ml = df_ml.withColumn(\"spoiler_str\", col(\"spoiler\").cast(\"string\"))\n",
        "df_ml = df_ml.withColumn(\"is_video_str\", col(\"is_video\").cast(\"string\"))"
      ],
      "outputs": [
        {
          "output_type": "display_data",
          "data": {
            "application/vnd.livy.statement-meta+json": {
              "spark_pool": "3c67b279-1d53-4b7a-b0d9-41cb8b4b6723",
              "session_id": "57",
              "statement_id": 37,
              "state": "finished",
              "livy_statement_state": "available",
              "queued_time": "2023-11-26T04:33:56.2469652Z",
              "session_start_time": null,
              "execution_start_time": "2023-11-26T04:33:56.3819878Z",
              "execution_finish_time": "2023-11-26T04:33:58.4442957Z",
              "spark_jobs": {
                "numbers": {
                  "SUCCEEDED": 0,
                  "RUNNING": 0,
                  "FAILED": 0,
                  "UNKNOWN": 0
                },
                "jobs": [],
                "limit": 20,
                "rule": "ALL_DESC"
              },
              "parent_msg_id": "08a5b47b-0b84-4501-983f-af8115870697"
            },
            "text/plain": "StatementMeta(3c67b279-1d53-4b7a-b0d9-41cb8b4b6723, 57, 37, Finished, Available)"
          },
          "metadata": {}
        }
      ],
      "execution_count": 32,
      "metadata": {
        "jupyter": {
          "source_hidden": false,
          "outputs_hidden": false
        },
        "nteract": {
          "transient": {
            "deleting": false
          }
        },
        "gather": {
          "logged": 1700973238572
        }
      }
    },
    {
      "cell_type": "code",
      "source": [
        "df_ml.show(5)"
      ],
      "outputs": [
        {
          "output_type": "display_data",
          "data": {
            "application/vnd.livy.statement-meta+json": {
              "spark_pool": "3c67b279-1d53-4b7a-b0d9-41cb8b4b6723",
              "session_id": "57",
              "statement_id": 56,
              "state": "finished",
              "livy_statement_state": "available",
              "queued_time": "2023-11-26T06:38:13.1651793Z",
              "session_start_time": null,
              "execution_start_time": "2023-11-26T06:38:13.3155958Z",
              "execution_finish_time": "2023-11-26T06:38:18.1232342Z",
              "spark_jobs": {
                "numbers": {
                  "SUCCEEDED": 1,
                  "RUNNING": 0,
                  "FAILED": 0,
                  "UNKNOWN": 0
                },
                "jobs": [
                  {
                    "displayName": "showString at NativeMethodAccessorImpl.java:0",
                    "dataWritten": 0,
                    "dataRead": 45910500,
                    "rowCount": 221807,
                    "usageDescription": "",
                    "jobId": 27,
                    "name": "showString at NativeMethodAccessorImpl.java:0",
                    "description": "Job group for statement 56:\ndf_ml.show(5)",
                    "submissionTime": "2023-11-26T06:38:13.449GMT",
                    "completionTime": "2023-11-26T06:38:17.095GMT",
                    "stageIds": [
                      37
                    ],
                    "jobGroup": "56",
                    "status": "SUCCEEDED",
                    "numTasks": 1,
                    "numActiveTasks": 0,
                    "numCompletedTasks": 1,
                    "numSkippedTasks": 0,
                    "numFailedTasks": 0,
                    "numKilledTasks": 0,
                    "numCompletedIndices": 1,
                    "numActiveStages": 0,
                    "numCompletedStages": 1,
                    "numSkippedStages": 0,
                    "numFailedStages": 0,
                    "killedTasksSummary": {}
                  }
                ],
                "limit": 20,
                "rule": "ALL_DESC"
              },
              "parent_msg_id": "991ff1ee-a081-4182-978b-c77c7f805eec"
            },
            "text/plain": "StatementMeta(3c67b279-1d53-4b7a-b0d9-41cb8b4b6723, 57, 56, Finished, Available)"
          },
          "metadata": {}
        },
        {
          "output_type": "stream",
          "name": "stdout",
          "text": "+--------------------+---------------+-------+-------+--------+--------------------+-------------------+-----------+-----------+------------+\n|           subreddit|         author|over_18|spoiler|is_video|          text_lower|              label|over_18_str|spoiler_str|is_video_str|\n+--------------------+---------------+-------+-------+--------+--------------------+-------------------+-----------+-----------+------------+\n|            VALORANT|Status_Bet_8034|  false|  false|   false|killjoy mains got...| game items trading|      false|      false|       false|\n|           Minecraft|    Age_Natural|  false|  false|   false|trident skeleton ...|         bug report|      false|      false|       false|\n|             pokemon|OneWhoGetsBread|  false|  false|   false|the pokemontogeth...|gameplay discussion|      false|      false|       false|\n|RocketLeagueExchange|       Gloctane|   true|  false|   false|[xbox] [h] og tac...|gameplay discussion|       true|      false|       false|\n|           Eldenring|    TrefoilTang|  false|  false|   false|opinion: i do not...|    lore discussion|      false|      false|       false|\n+--------------------+---------------+-------+-------+--------+--------------------+-------------------+-----------+-----------+------------+\nonly showing top 5 rows\n\n"
        }
      ],
      "execution_count": 51,
      "metadata": {
        "jupyter": {
          "source_hidden": false,
          "outputs_hidden": false
        },
        "nteract": {
          "transient": {
            "deleting": false
          }
        },
        "gather": {
          "logged": 1700980698300
        }
      }
    },
    {
      "cell_type": "code",
      "source": [
        "df_ml = df_ml.drop(*[\"over_18\",\"spoiler\",\"is_video\"])"
      ],
      "outputs": [
        {
          "output_type": "display_data",
          "data": {
            "application/vnd.livy.statement-meta+json": {
              "spark_pool": "3c67b279-1d53-4b7a-b0d9-41cb8b4b6723",
              "session_id": "57",
              "statement_id": 57,
              "state": "finished",
              "livy_statement_state": "available",
              "queued_time": "2023-11-26T06:38:39.8239889Z",
              "session_start_time": null,
              "execution_start_time": "2023-11-26T06:38:39.9426138Z",
              "execution_finish_time": "2023-11-26T06:38:40.2282516Z",
              "spark_jobs": {
                "numbers": {
                  "SUCCEEDED": 0,
                  "RUNNING": 0,
                  "FAILED": 0,
                  "UNKNOWN": 0
                },
                "jobs": [],
                "limit": 20,
                "rule": "ALL_DESC"
              },
              "parent_msg_id": "a9a166e4-34e9-4080-9e12-7f1d953ccf84"
            },
            "text/plain": "StatementMeta(3c67b279-1d53-4b7a-b0d9-41cb8b4b6723, 57, 57, Finished, Available)"
          },
          "metadata": {}
        }
      ],
      "execution_count": 52,
      "metadata": {
        "jupyter": {
          "source_hidden": false,
          "outputs_hidden": false
        },
        "nteract": {
          "transient": {
            "deleting": false
          }
        },
        "gather": {
          "logged": 1700980720321
        }
      }
    },
    {
      "cell_type": "code",
      "source": [
        "df_ml2 = df_ml.sample(withReplacement=False, fraction=0.3, seed=42) # create the sample df"
      ],
      "outputs": [
        {
          "output_type": "display_data",
          "data": {
            "application/vnd.livy.statement-meta+json": {
              "spark_pool": "3c67b279-1d53-4b7a-b0d9-41cb8b4b6723",
              "session_id": "57",
              "statement_id": 58,
              "state": "finished",
              "livy_statement_state": "available",
              "queued_time": "2023-11-26T06:38:46.0726244Z",
              "session_start_time": null,
              "execution_start_time": "2023-11-26T06:38:46.2064562Z",
              "execution_finish_time": "2023-11-26T06:38:47.1562216Z",
              "spark_jobs": {
                "numbers": {
                  "SUCCEEDED": 0,
                  "RUNNING": 0,
                  "FAILED": 0,
                  "UNKNOWN": 0
                },
                "jobs": [],
                "limit": 20,
                "rule": "ALL_DESC"
              },
              "parent_msg_id": "96455077-111d-4b77-969d-ef98dba019a6"
            },
            "text/plain": "StatementMeta(3c67b279-1d53-4b7a-b0d9-41cb8b4b6723, 57, 58, Finished, Available)"
          },
          "metadata": {}
        }
      ],
      "execution_count": 53,
      "metadata": {
        "jupyter": {
          "source_hidden": false,
          "outputs_hidden": false
        },
        "nteract": {
          "transient": {
            "deleting": false
          }
        },
        "gather": {
          "logged": 1700980727271
        }
      }
    },
    {
      "cell_type": "code",
      "source": [
        "df_ml.printSchema"
      ],
      "outputs": [
        {
          "output_type": "display_data",
          "data": {
            "application/vnd.livy.statement-meta+json": {
              "spark_pool": "3c67b279-1d53-4b7a-b0d9-41cb8b4b6723",
              "session_id": "57",
              "statement_id": 59,
              "state": "finished",
              "livy_statement_state": "available",
              "queued_time": "2023-11-26T06:38:54.0023066Z",
              "session_start_time": null,
              "execution_start_time": "2023-11-26T06:38:54.2759517Z",
              "execution_finish_time": "2023-11-26T06:38:54.5724863Z",
              "spark_jobs": {
                "numbers": {
                  "SUCCEEDED": 0,
                  "RUNNING": 0,
                  "FAILED": 0,
                  "UNKNOWN": 0
                },
                "jobs": [],
                "limit": 20,
                "rule": "ALL_DESC"
              },
              "parent_msg_id": "a2e5114c-b7bb-40e9-a7e8-738bedcf1f79"
            },
            "text/plain": "StatementMeta(3c67b279-1d53-4b7a-b0d9-41cb8b4b6723, 57, 59, Finished, Available)"
          },
          "metadata": {}
        },
        {
          "output_type": "execute_result",
          "execution_count": 117,
          "data": {
            "text/plain": "<bound method DataFrame.printSchema of DataFrame[subreddit: string, author: string, text_lower: string, label: string, over_18_str: string, spoiler_str: string, is_video_str: string]>"
          },
          "metadata": {}
        }
      ],
      "execution_count": 54,
      "metadata": {
        "jupyter": {
          "source_hidden": false,
          "outputs_hidden": false
        },
        "nteract": {
          "transient": {
            "deleting": false
          }
        },
        "gather": {
          "logged": 1700980734764
        }
      }
    },
    {
      "cell_type": "code",
      "source": [
        "train_data, test_data, val_data = df_ml2.randomSplit([0.8, 0.18, 0.02], 24)"
      ],
      "outputs": [
        {
          "output_type": "display_data",
          "data": {
            "application/vnd.livy.statement-meta+json": {
              "spark_pool": "3c67b279-1d53-4b7a-b0d9-41cb8b4b6723",
              "session_id": "57",
              "statement_id": 60,
              "state": "finished",
              "livy_statement_state": "available",
              "queued_time": "2023-11-26T06:39:00.2506292Z",
              "session_start_time": null,
              "execution_start_time": "2023-11-26T06:39:00.9249359Z",
              "execution_finish_time": "2023-11-26T06:39:01.216859Z",
              "spark_jobs": {
                "numbers": {
                  "SUCCEEDED": 0,
                  "RUNNING": 0,
                  "FAILED": 0,
                  "UNKNOWN": 0
                },
                "jobs": [],
                "limit": 20,
                "rule": "ALL_DESC"
              },
              "parent_msg_id": "8cd07ee8-5b22-4373-b5e9-30855a9a1011"
            },
            "text/plain": "StatementMeta(3c67b279-1d53-4b7a-b0d9-41cb8b4b6723, 57, 60, Finished, Available)"
          },
          "metadata": {}
        }
      ],
      "execution_count": 55,
      "metadata": {
        "jupyter": {
          "source_hidden": false,
          "outputs_hidden": false
        },
        "nteract": {
          "transient": {
            "deleting": false
          }
        },
        "gather": {
          "logged": 1700980741301
        }
      }
    },
    {
      "cell_type": "code",
      "source": [
        "print(\"Number of training records: \" + str(train_data.count()))\n",
        "print(\"Number of testing records : \" + str(test_data.count()))\n",
        "print(\"Number of validation records : \" + str(val_data.count()))\n",
        "train_data.cache()"
      ],
      "outputs": [
        {
          "output_type": "display_data",
          "data": {
            "application/vnd.livy.statement-meta+json": {
              "spark_pool": "3c67b279-1d53-4b7a-b0d9-41cb8b4b6723",
              "session_id": "56",
              "statement_id": 32,
              "state": "finished",
              "livy_statement_state": "available",
              "queued_time": "2023-11-25T21:02:12.9339109Z",
              "session_start_time": null,
              "execution_start_time": "2023-11-25T21:02:13.0300106Z",
              "execution_finish_time": "2023-11-25T21:22:17.9672129Z",
              "spark_jobs": {
                "numbers": {
                  "SUCCEEDED": 6,
                  "UNKNOWN": 0,
                  "RUNNING": 0,
                  "FAILED": 0
                },
                "jobs": [
                  {
                    "displayName": "count at NativeMethodAccessorImpl.java:0",
                    "dataWritten": 0,
                    "dataRead": 181714,
                    "rowCount": 3080,
                    "usageDescription": "",
                    "jobId": 29,
                    "name": "count at NativeMethodAccessorImpl.java:0",
                    "description": "Job group for statement 32:\nprint(\"Number of training records: \" + str(train_data.count()))\nprint(\"Number of testing records : \" + str(test_data.count()))\nprint(\"Number of validation records : \" + str(val_data.count()))\ntrain_data.cache()",
                    "submissionTime": "2023-11-25T21:22:17.394GMT",
                    "completionTime": "2023-11-25T21:22:17.617GMT",
                    "stageIds": [
                      39,
                      40
                    ],
                    "jobGroup": "32",
                    "status": "SUCCEEDED",
                    "numTasks": 3081,
                    "numActiveTasks": 0,
                    "numCompletedTasks": 1,
                    "numSkippedTasks": 3080,
                    "numFailedTasks": 0,
                    "numKilledTasks": 0,
                    "numCompletedIndices": 1,
                    "numActiveStages": 0,
                    "numCompletedStages": 1,
                    "numSkippedStages": 1,
                    "numFailedStages": 0,
                    "killedTasksSummary": {}
                  },
                  {
                    "displayName": "count at NativeMethodAccessorImpl.java:0",
                    "dataWritten": 181714,
                    "dataRead": 1015824676,
                    "rowCount": 6160,
                    "usageDescription": "",
                    "jobId": 28,
                    "name": "count at NativeMethodAccessorImpl.java:0",
                    "description": "Job group for statement 32:\nprint(\"Number of training records: \" + str(train_data.count()))\nprint(\"Number of testing records : \" + str(test_data.count()))\nprint(\"Number of validation records : \" + str(val_data.count()))\ntrain_data.cache()",
                    "submissionTime": "2023-11-25T21:15:38.535GMT",
                    "completionTime": "2023-11-25T21:22:17.368GMT",
                    "stageIds": [
                      38
                    ],
                    "jobGroup": "32",
                    "status": "SUCCEEDED",
                    "numTasks": 3080,
                    "numActiveTasks": 0,
                    "numCompletedTasks": 3080,
                    "numSkippedTasks": 0,
                    "numFailedTasks": 0,
                    "numKilledTasks": 0,
                    "numCompletedIndices": 3080,
                    "numActiveStages": 0,
                    "numCompletedStages": 1,
                    "numSkippedStages": 0,
                    "numFailedStages": 0,
                    "killedTasksSummary": {}
                  },
                  {
                    "displayName": "count at NativeMethodAccessorImpl.java:0",
                    "dataWritten": 0,
                    "dataRead": 181720,
                    "rowCount": 3080,
                    "usageDescription": "",
                    "jobId": 27,
                    "name": "count at NativeMethodAccessorImpl.java:0",
                    "description": "Job group for statement 32:\nprint(\"Number of training records: \" + str(train_data.count()))\nprint(\"Number of testing records : \" + str(test_data.count()))\nprint(\"Number of validation records : \" + str(val_data.count()))\ntrain_data.cache()",
                    "submissionTime": "2023-11-25T21:15:38.061GMT",
                    "completionTime": "2023-11-25T21:15:38.269GMT",
                    "stageIds": [
                      37,
                      36
                    ],
                    "jobGroup": "32",
                    "status": "SUCCEEDED",
                    "numTasks": 3081,
                    "numActiveTasks": 0,
                    "numCompletedTasks": 1,
                    "numSkippedTasks": 3080,
                    "numFailedTasks": 0,
                    "numKilledTasks": 0,
                    "numCompletedIndices": 1,
                    "numActiveStages": 0,
                    "numCompletedStages": 1,
                    "numSkippedStages": 1,
                    "numFailedStages": 0,
                    "killedTasksSummary": {}
                  },
                  {
                    "displayName": "count at NativeMethodAccessorImpl.java:0",
                    "dataWritten": 181720,
                    "dataRead": 1014774705,
                    "rowCount": 6160,
                    "usageDescription": "",
                    "jobId": 26,
                    "name": "count at NativeMethodAccessorImpl.java:0",
                    "description": "Job group for statement 32:\nprint(\"Number of training records: \" + str(train_data.count()))\nprint(\"Number of testing records : \" + str(test_data.count()))\nprint(\"Number of validation records : \" + str(val_data.count()))\ntrain_data.cache()",
                    "submissionTime": "2023-11-25T21:08:54.118GMT",
                    "completionTime": "2023-11-25T21:15:38.024GMT",
                    "stageIds": [
                      35
                    ],
                    "jobGroup": "32",
                    "status": "SUCCEEDED",
                    "numTasks": 3080,
                    "numActiveTasks": 0,
                    "numCompletedTasks": 3080,
                    "numSkippedTasks": 0,
                    "numFailedTasks": 0,
                    "numKilledTasks": 0,
                    "numCompletedIndices": 3080,
                    "numActiveStages": 0,
                    "numCompletedStages": 1,
                    "numSkippedStages": 0,
                    "numFailedStages": 0,
                    "killedTasksSummary": {}
                  },
                  {
                    "displayName": "count at NativeMethodAccessorImpl.java:0",
                    "dataWritten": 0,
                    "dataRead": 181707,
                    "rowCount": 3080,
                    "usageDescription": "",
                    "jobId": 25,
                    "name": "count at NativeMethodAccessorImpl.java:0",
                    "description": "Job group for statement 32:\nprint(\"Number of training records: \" + str(train_data.count()))\nprint(\"Number of testing records : \" + str(test_data.count()))\nprint(\"Number of validation records : \" + str(val_data.count()))\ntrain_data.cache()",
                    "submissionTime": "2023-11-25T21:08:53.553GMT",
                    "completionTime": "2023-11-25T21:08:53.779GMT",
                    "stageIds": [
                      33,
                      34
                    ],
                    "jobGroup": "32",
                    "status": "SUCCEEDED",
                    "numTasks": 3081,
                    "numActiveTasks": 0,
                    "numCompletedTasks": 1,
                    "numSkippedTasks": 3080,
                    "numFailedTasks": 0,
                    "numKilledTasks": 0,
                    "numCompletedIndices": 1,
                    "numActiveStages": 0,
                    "numCompletedStages": 1,
                    "numSkippedStages": 1,
                    "numFailedStages": 0,
                    "killedTasksSummary": {}
                  },
                  {
                    "displayName": "count at NativeMethodAccessorImpl.java:0",
                    "dataWritten": 181707,
                    "dataRead": 1016037652,
                    "rowCount": 6160,
                    "usageDescription": "",
                    "jobId": 24,
                    "name": "count at NativeMethodAccessorImpl.java:0",
                    "description": "Job group for statement 32:\nprint(\"Number of training records: \" + str(train_data.count()))\nprint(\"Number of testing records : \" + str(test_data.count()))\nprint(\"Number of validation records : \" + str(val_data.count()))\ntrain_data.cache()",
                    "submissionTime": "2023-11-25T21:02:13.365GMT",
                    "completionTime": "2023-11-25T21:08:53.504GMT",
                    "stageIds": [
                      32
                    ],
                    "jobGroup": "32",
                    "status": "SUCCEEDED",
                    "numTasks": 3080,
                    "numActiveTasks": 0,
                    "numCompletedTasks": 3080,
                    "numSkippedTasks": 0,
                    "numFailedTasks": 0,
                    "numKilledTasks": 0,
                    "numCompletedIndices": 3080,
                    "numActiveStages": 0,
                    "numCompletedStages": 1,
                    "numSkippedStages": 0,
                    "numFailedStages": 0,
                    "killedTasksSummary": {}
                  }
                ],
                "limit": 20,
                "rule": "ALL_DESC"
              },
              "parent_msg_id": "f8fa06ab-ce2b-4aaf-929d-b67ab5591fcd"
            },
            "text/plain": "StatementMeta(3c67b279-1d53-4b7a-b0d9-41cb8b4b6723, 56, 32, Finished, Available)"
          },
          "metadata": {}
        },
        {
          "output_type": "stream",
          "name": "stdout",
          "text": "Number of training records: 932198\nNumber of testing records : 210806\nNumber of validation records : 23708\n"
        },
        {
          "output_type": "execute_result",
          "execution_count": 63,
          "data": {
            "text/plain": "DataFrame[subreddit: string, title: string, selftext: string, text: string, text_lower: string, label: string]"
          },
          "metadata": {}
        }
      ],
      "execution_count": 27,
      "metadata": {
        "jupyter": {
          "source_hidden": false,
          "outputs_hidden": false
        },
        "nteract": {
          "transient": {
            "deleting": false
          }
        },
        "gather": {
          "logged": 1700947338409
        }
      }
    },
    {
      "cell_type": "markdown",
      "source": [
        "# ML pipeline"
      ],
      "metadata": {
        "nteract": {
          "transient": {
            "deleting": false
          }
        }
      }
    },
    {
      "cell_type": "code",
      "source": [
        "from pyspark.ml.feature import OneHotEncoder, StringIndexer, IndexToString, VectorAssembler\n",
        "from pyspark.ml.classification import RandomForestClassifier, MultilayerPerceptronClassifier, GBTClassifier\n",
        "from pyspark.ml.evaluation import BinaryClassificationEvaluator, MulticlassClassificationEvaluator\n",
        "from pyspark.ml import Pipeline, Model"
      ],
      "outputs": [
        {
          "output_type": "display_data",
          "data": {
            "application/vnd.livy.statement-meta+json": {
              "spark_pool": "3c67b279-1d53-4b7a-b0d9-41cb8b4b6723",
              "session_id": "57",
              "statement_id": 19,
              "state": "finished",
              "livy_statement_state": "available",
              "queued_time": "2023-11-26T03:22:48.4896168Z",
              "session_start_time": null,
              "execution_start_time": "2023-11-26T03:22:48.8463336Z",
              "execution_finish_time": "2023-11-26T03:22:50.4987445Z",
              "spark_jobs": {
                "numbers": {
                  "SUCCEEDED": 0,
                  "RUNNING": 0,
                  "FAILED": 0,
                  "UNKNOWN": 0
                },
                "jobs": [],
                "limit": 20,
                "rule": "ALL_DESC"
              },
              "parent_msg_id": "0efd75e1-9663-4a6e-a014-ecd0d54d23a0"
            },
            "text/plain": "StatementMeta(3c67b279-1d53-4b7a-b0d9-41cb8b4b6723, 57, 19, Finished, Available)"
          },
          "metadata": {}
        }
      ],
      "execution_count": 14,
      "metadata": {
        "jupyter": {
          "source_hidden": false,
          "outputs_hidden": false
        },
        "nteract": {
          "transient": {
            "deleting": false
          }
        },
        "gather": {
          "logged": 1700968970609
        }
      }
    },
    {
      "cell_type": "code",
      "source": [
        "stringIndexer_label = StringIndexer(inputCol=\"label\", outputCol=\"label_success\")\n",
        "stringIndexer_subreddit = StringIndexer(inputCol=\"subreddit\", outputCol=\"subreddit_ix\")\n",
        "stringIndexer_author = StringIndexer(inputCol=\"author\", outputCol=\"author_ix\")\n",
        "stringIndexer_adult = StringIndexer(inputCol=\"over_18_str\", outputCol=\"over_18_ix\")\n",
        "stringIndexer_spoiler = StringIndexer(inputCol=\"spoiler_str\", outputCol=\"spoiler_ix\")\n",
        "stringIndexer_video = StringIndexer(inputCol=\"is_video_str\", outputCol=\"is_video_ix\")"
      ],
      "outputs": [
        {
          "output_type": "display_data",
          "data": {
            "application/vnd.livy.statement-meta+json": {
              "spark_pool": "3c67b279-1d53-4b7a-b0d9-41cb8b4b6723",
              "session_id": "57",
              "statement_id": 61,
              "state": "finished",
              "livy_statement_state": "available",
              "queued_time": "2023-11-26T06:39:08.9030605Z",
              "session_start_time": null,
              "execution_start_time": "2023-11-26T06:39:09.0427979Z",
              "execution_finish_time": "2023-11-26T06:39:09.3458925Z",
              "spark_jobs": {
                "numbers": {
                  "SUCCEEDED": 0,
                  "RUNNING": 0,
                  "FAILED": 0,
                  "UNKNOWN": 0
                },
                "jobs": [],
                "limit": 20,
                "rule": "ALL_DESC"
              },
              "parent_msg_id": "c822ffdb-92a4-4a5c-9387-181e5affcf99"
            },
            "text/plain": "StatementMeta(3c67b279-1d53-4b7a-b0d9-41cb8b4b6723, 57, 61, Finished, Available)"
          },
          "metadata": {}
        }
      ],
      "execution_count": 56,
      "metadata": {
        "jupyter": {
          "source_hidden": false,
          "outputs_hidden": false
        },
        "nteract": {
          "transient": {
            "deleting": false
          }
        },
        "gather": {
          "logged": 1700980749490
        }
      }
    },
    {
      "cell_type": "code",
      "source": [
        "onehot_subreddit = OneHotEncoder(inputCol=\"subreddit_ix\", outputCol=\"subreddit_vec\")\n",
        "onehot_author = OneHotEncoder(inputCol=\"author_ix\", outputCol=\"author_vec\")"
      ],
      "outputs": [
        {
          "output_type": "display_data",
          "data": {
            "application/vnd.livy.statement-meta+json": {
              "spark_pool": "3c67b279-1d53-4b7a-b0d9-41cb8b4b6723",
              "session_id": "57",
              "statement_id": 62,
              "state": "finished",
              "livy_statement_state": "available",
              "queued_time": "2023-11-26T06:39:13.6183783Z",
              "session_start_time": null,
              "execution_start_time": "2023-11-26T06:39:13.7397613Z",
              "execution_finish_time": "2023-11-26T06:39:14.0513378Z",
              "spark_jobs": {
                "numbers": {
                  "SUCCEEDED": 0,
                  "RUNNING": 0,
                  "FAILED": 0,
                  "UNKNOWN": 0
                },
                "jobs": [],
                "limit": 20,
                "rule": "ALL_DESC"
              },
              "parent_msg_id": "4d32a42a-0ad1-4684-9bdc-b160fe249239"
            },
            "text/plain": "StatementMeta(3c67b279-1d53-4b7a-b0d9-41cb8b4b6723, 57, 62, Finished, Available)"
          },
          "metadata": {}
        }
      ],
      "execution_count": 57,
      "metadata": {
        "jupyter": {
          "source_hidden": false,
          "outputs_hidden": false
        },
        "nteract": {
          "transient": {
            "deleting": false
          }
        },
        "gather": {
          "logged": 1700980754175
        }
      }
    },
    {
      "cell_type": "code",
      "source": [
        "vectorAssembler_features = VectorAssembler(\n",
        "    inputCols=[\"subreddit_vec\", \"author_vec\"], \n",
        "    outputCol= \"str_feature\")"
      ],
      "outputs": [
        {
          "output_type": "display_data",
          "data": {
            "application/vnd.livy.statement-meta+json": {
              "spark_pool": "3c67b279-1d53-4b7a-b0d9-41cb8b4b6723",
              "session_id": "57",
              "statement_id": 63,
              "state": "finished",
              "livy_statement_state": "available",
              "queued_time": "2023-11-26T06:39:15.7862372Z",
              "session_start_time": null,
              "execution_start_time": "2023-11-26T06:39:15.8833665Z",
              "execution_finish_time": "2023-11-26T06:39:16.1766905Z",
              "spark_jobs": {
                "numbers": {
                  "SUCCEEDED": 0,
                  "RUNNING": 0,
                  "FAILED": 0,
                  "UNKNOWN": 0
                },
                "jobs": [],
                "limit": 20,
                "rule": "ALL_DESC"
              },
              "parent_msg_id": "59b0b638-5728-4743-a00e-8210296f0c55"
            },
            "text/plain": "StatementMeta(3c67b279-1d53-4b7a-b0d9-41cb8b4b6723, 57, 63, Finished, Available)"
          },
          "metadata": {}
        }
      ],
      "execution_count": 58,
      "metadata": {
        "jupyter": {
          "source_hidden": false,
          "outputs_hidden": false
        },
        "nteract": {
          "transient": {
            "deleting": false
          }
        },
        "gather": {
          "logged": 1700980756261
        }
      }
    },
    {
      "cell_type": "markdown",
      "source": [
        "# Hyperparameter set-up"
      ],
      "metadata": {
        "nteract": {
          "transient": {
            "deleting": false
          }
        }
      }
    },
    {
      "cell_type": "code",
      "source": [
        "# random forest classifier hyperparameters\n",
        "num_tree1 = 30\n",
        "max_depth1 = 3\n",
        "num_tree2 = 50\n",
        "max_depth2 = 5"
      ],
      "outputs": [
        {
          "output_type": "display_data",
          "data": {
            "application/vnd.livy.statement-meta+json": {
              "spark_pool": "3c67b279-1d53-4b7a-b0d9-41cb8b4b6723",
              "session_id": "57",
              "statement_id": 28,
              "state": "finished",
              "livy_statement_state": "available",
              "queued_time": "2023-11-26T03:38:26.4568169Z",
              "session_start_time": null,
              "execution_start_time": "2023-11-26T03:38:26.5698427Z",
              "execution_finish_time": "2023-11-26T03:38:26.9017158Z",
              "spark_jobs": {
                "numbers": {
                  "SUCCEEDED": 0,
                  "RUNNING": 0,
                  "FAILED": 0,
                  "UNKNOWN": 0
                },
                "jobs": [],
                "limit": 20,
                "rule": "ALL_DESC"
              },
              "parent_msg_id": "eb80ae09-15c6-45d2-8cb3-ae32fef058d8"
            },
            "text/plain": "StatementMeta(3c67b279-1d53-4b7a-b0d9-41cb8b4b6723, 57, 28, Finished, Available)"
          },
          "metadata": {}
        }
      ],
      "execution_count": 23,
      "metadata": {
        "jupyter": {
          "source_hidden": false,
          "outputs_hidden": false
        },
        "nteract": {
          "transient": {
            "deleting": false
          }
        },
        "gather": {
          "logged": 1700969906993
        }
      }
    },
    {
      "cell_type": "code",
      "source": [
        "model_rf1 = RandomForestClassifier(labelCol=\"label_success\", featuresCol=\"str_feature\", numTrees=num_tree1, maxDepth=max_depth1)"
      ],
      "outputs": [
        {
          "output_type": "display_data",
          "data": {
            "application/vnd.livy.statement-meta+json": {
              "spark_pool": "3c67b279-1d53-4b7a-b0d9-41cb8b4b6723",
              "session_id": "57",
              "statement_id": 64,
              "state": "finished",
              "livy_statement_state": "available",
              "queued_time": "2023-11-26T06:39:18.8686046Z",
              "session_start_time": null,
              "execution_start_time": "2023-11-26T06:39:18.9695902Z",
              "execution_finish_time": "2023-11-26T06:39:19.2671014Z",
              "spark_jobs": {
                "numbers": {
                  "SUCCEEDED": 0,
                  "RUNNING": 0,
                  "FAILED": 0,
                  "UNKNOWN": 0
                },
                "jobs": [],
                "limit": 20,
                "rule": "ALL_DESC"
              },
              "parent_msg_id": "9a63e669-f0ab-4a5a-a3d5-ea98858cc778"
            },
            "text/plain": "StatementMeta(3c67b279-1d53-4b7a-b0d9-41cb8b4b6723, 57, 64, Finished, Available)"
          },
          "metadata": {}
        }
      ],
      "execution_count": 59,
      "metadata": {
        "jupyter": {
          "source_hidden": false,
          "outputs_hidden": false
        },
        "nteract": {
          "transient": {
            "deleting": false
          }
        },
        "gather": {
          "logged": 1700980759388
        }
      }
    },
    {
      "cell_type": "code",
      "source": [
        "labelConverter = IndexToString(inputCol=\"prediction\", \n",
        "                               outputCol=\"predictedLabel\", \n",
        "                               labels= [\"bug report\", \"gameplay discussion\", \"story related discussion\",\"lore discussion\",\"game items trading\"])"
      ],
      "outputs": [
        {
          "output_type": "display_data",
          "data": {
            "application/vnd.livy.statement-meta+json": {
              "spark_pool": "3c67b279-1d53-4b7a-b0d9-41cb8b4b6723",
              "session_id": "57",
              "statement_id": 65,
              "state": "finished",
              "livy_statement_state": "available",
              "queued_time": "2023-11-26T06:39:23.6687575Z",
              "session_start_time": null,
              "execution_start_time": "2023-11-26T06:39:23.7663747Z",
              "execution_finish_time": "2023-11-26T06:39:24.0744038Z",
              "spark_jobs": {
                "numbers": {
                  "SUCCEEDED": 0,
                  "RUNNING": 0,
                  "FAILED": 0,
                  "UNKNOWN": 0
                },
                "jobs": [],
                "limit": 20,
                "rule": "ALL_DESC"
              },
              "parent_msg_id": "ad8e05b6-b5f5-445e-a38e-e9b242d802df"
            },
            "text/plain": "StatementMeta(3c67b279-1d53-4b7a-b0d9-41cb8b4b6723, 57, 65, Finished, Available)"
          },
          "metadata": {}
        }
      ],
      "execution_count": 60,
      "metadata": {
        "jupyter": {
          "source_hidden": false,
          "outputs_hidden": false
        },
        "nteract": {
          "transient": {
            "deleting": false
          }
        },
        "gather": {
          "logged": 1700980764162
        }
      }
    },
    {
      "cell_type": "code",
      "source": [
        "pipeline_model_rf = Pipeline(stages=[stringIndexer_label, \n",
        "                               stringIndexer_subreddit, \n",
        "                               stringIndexer_author, \n",
        "                               stringIndexer_adult,\n",
        "                               stringIndexer_spoiler,\n",
        "                               stringIndexer_video, \n",
        "                               onehot_author,\n",
        "                               onehot_subreddit,\n",
        "                               vectorAssembler_features, \n",
        "                               model_rf1, labelConverter])"
      ],
      "outputs": [
        {
          "output_type": "display_data",
          "data": {
            "application/vnd.livy.statement-meta+json": {
              "spark_pool": "3c67b279-1d53-4b7a-b0d9-41cb8b4b6723",
              "session_id": "57",
              "statement_id": 66,
              "state": "finished",
              "livy_statement_state": "available",
              "queued_time": "2023-11-26T06:39:26.4164716Z",
              "session_start_time": null,
              "execution_start_time": "2023-11-26T06:39:26.5202685Z",
              "execution_finish_time": "2023-11-26T06:39:26.8211564Z",
              "spark_jobs": {
                "numbers": {
                  "SUCCEEDED": 0,
                  "RUNNING": 0,
                  "FAILED": 0,
                  "UNKNOWN": 0
                },
                "jobs": [],
                "limit": 20,
                "rule": "ALL_DESC"
              },
              "parent_msg_id": "16d2e425-25d2-4821-ad7e-0cfca38e3c32"
            },
            "text/plain": "StatementMeta(3c67b279-1d53-4b7a-b0d9-41cb8b4b6723, 57, 66, Finished, Available)"
          },
          "metadata": {}
        }
      ],
      "execution_count": 61,
      "metadata": {
        "jupyter": {
          "source_hidden": false,
          "outputs_hidden": false
        },
        "nteract": {
          "transient": {
            "deleting": false
          }
        },
        "gather": {
          "logged": 1700980766913
        }
      }
    },
    {
      "cell_type": "code",
      "source": [
        "model_rf1 = pipeline_model_rf.fit(train_data)"
      ],
      "outputs": [
        {
          "output_type": "display_data",
          "data": {
            "application/vnd.livy.statement-meta+json": {
              "spark_pool": "3c67b279-1d53-4b7a-b0d9-41cb8b4b6723",
              "session_id": "57",
              "statement_id": 67,
              "state": "cancelled",
              "livy_statement_state": "waiting",
              "queued_time": "2023-11-26T06:39:28.8844333Z",
              "session_start_time": null,
              "execution_start_time": "2023-11-26T06:39:28.9778065Z",
              "execution_finish_time": "2023-11-26T08:11:03.2368173Z",
              "spark_jobs": {
                "numbers": {
                  "SUCCEEDED": 14,
                  "RUNNING": 1,
                  "FAILED": 0,
                  "UNKNOWN": 0
                },
                "jobs": [
                  {
                    "displayName": "collectAsMap at RandomForest.scala:663",
                    "dataWritten": 14570712968,
                    "dataRead": 64489976,
                    "rowCount": 8525,
                    "usageDescription": "",
                    "jobId": 42,
                    "name": "collectAsMap at RandomForest.scala:663",
                    "description": "Job group for statement 67:\nmodel_rf1 = pipeline_model_rf.fit(train_data)",
                    "submissionTime": "2023-11-26T07:47:28.757GMT",
                    "stageIds": [
                      58,
                      59
                    ],
                    "jobGroup": "67",
                    "status": "RUNNING",
                    "numTasks": 6160,
                    "numActiveTasks": 8,
                    "numCompletedTasks": 276,
                    "numSkippedTasks": 0,
                    "numFailedTasks": 0,
                    "numKilledTasks": 0,
                    "numCompletedIndices": 276,
                    "numActiveStages": 1,
                    "numCompletedStages": 0,
                    "numSkippedStages": 0,
                    "numFailedStages": 0,
                    "killedTasksSummary": {}
                  },
                  {
                    "displayName": "aggregate at DecisionTreeMetadata.scala:125",
                    "dataWritten": 0,
                    "dataRead": 1101604590,
                    "rowCount": 3080,
                    "usageDescription": "",
                    "jobId": 41,
                    "name": "aggregate at DecisionTreeMetadata.scala:125",
                    "description": "Job group for statement 67:\nmodel_rf1 = pipeline_model_rf.fit(train_data)",
                    "submissionTime": "2023-11-26T07:31:13.158GMT",
                    "completionTime": "2023-11-26T07:47:27.170GMT",
                    "stageIds": [
                      57
                    ],
                    "jobGroup": "67",
                    "status": "SUCCEEDED",
                    "numTasks": 3080,
                    "numActiveTasks": 0,
                    "numCompletedTasks": 3080,
                    "numSkippedTasks": 0,
                    "numFailedTasks": 0,
                    "numKilledTasks": 0,
                    "numCompletedIndices": 3080,
                    "numActiveStages": 0,
                    "numCompletedStages": 1,
                    "numSkippedStages": 0,
                    "numFailedStages": 0,
                    "killedTasksSummary": {}
                  },
                  {
                    "displayName": "take at DecisionTreeMetadata.scala:119",
                    "dataWritten": 0,
                    "dataRead": 207224,
                    "rowCount": 1,
                    "usageDescription": "",
                    "jobId": 40,
                    "name": "take at DecisionTreeMetadata.scala:119",
                    "description": "Job group for statement 67:\nmodel_rf1 = pipeline_model_rf.fit(train_data)",
                    "submissionTime": "2023-11-26T07:31:10.940GMT",
                    "completionTime": "2023-11-26T07:31:13.139GMT",
                    "stageIds": [
                      56
                    ],
                    "jobGroup": "67",
                    "status": "SUCCEEDED",
                    "numTasks": 1,
                    "numActiveTasks": 0,
                    "numCompletedTasks": 1,
                    "numSkippedTasks": 0,
                    "numFailedTasks": 0,
                    "numKilledTasks": 0,
                    "numCompletedIndices": 1,
                    "numActiveStages": 0,
                    "numCompletedStages": 1,
                    "numSkippedStages": 0,
                    "numFailedStages": 0,
                    "killedTasksSummary": {}
                  },
                  {
                    "displayName": "collect at StringIndexer.scala:204",
                    "dataWritten": 0,
                    "dataRead": 1547300,
                    "rowCount": 3080,
                    "usageDescription": "",
                    "jobId": 39,
                    "name": "collect at StringIndexer.scala:204",
                    "description": "Job group for statement 67:\nmodel_rf1 = pipeline_model_rf.fit(train_data)",
                    "submissionTime": "2023-11-26T07:31:04.372GMT",
                    "completionTime": "2023-11-26T07:31:04.741GMT",
                    "stageIds": [
                      54,
                      55
                    ],
                    "jobGroup": "67",
                    "status": "SUCCEEDED",
                    "numTasks": 3081,
                    "numActiveTasks": 0,
                    "numCompletedTasks": 1,
                    "numSkippedTasks": 3080,
                    "numFailedTasks": 0,
                    "numKilledTasks": 0,
                    "numCompletedIndices": 1,
                    "numActiveStages": 0,
                    "numCompletedStages": 1,
                    "numSkippedStages": 1,
                    "numFailedStages": 0,
                    "killedTasksSummary": {}
                  },
                  {
                    "displayName": "collect at StringIndexer.scala:204",
                    "dataWritten": 1547300,
                    "dataRead": 1105200060,
                    "rowCount": 6160,
                    "usageDescription": "",
                    "jobId": 38,
                    "name": "collect at StringIndexer.scala:204",
                    "description": "Job group for statement 67:\nmodel_rf1 = pipeline_model_rf.fit(train_data)",
                    "submissionTime": "2023-11-26T07:24:51.512GMT",
                    "completionTime": "2023-11-26T07:31:04.330GMT",
                    "stageIds": [
                      53
                    ],
                    "jobGroup": "67",
                    "status": "SUCCEEDED",
                    "numTasks": 3080,
                    "numActiveTasks": 0,
                    "numCompletedTasks": 3080,
                    "numSkippedTasks": 0,
                    "numFailedTasks": 0,
                    "numKilledTasks": 0,
                    "numCompletedIndices": 3080,
                    "numActiveStages": 0,
                    "numCompletedStages": 1,
                    "numSkippedStages": 0,
                    "numFailedStages": 0,
                    "killedTasksSummary": {}
                  },
                  {
                    "displayName": "collect at StringIndexer.scala:204",
                    "dataWritten": 0,
                    "dataRead": 1545471,
                    "rowCount": 3080,
                    "usageDescription": "",
                    "jobId": 37,
                    "name": "collect at StringIndexer.scala:204",
                    "description": "Job group for statement 67:\nmodel_rf1 = pipeline_model_rf.fit(train_data)",
                    "submissionTime": "2023-11-26T07:24:50.844GMT",
                    "completionTime": "2023-11-26T07:24:51.191GMT",
                    "stageIds": [
                      51,
                      52
                    ],
                    "jobGroup": "67",
                    "status": "SUCCEEDED",
                    "numTasks": 3081,
                    "numActiveTasks": 0,
                    "numCompletedTasks": 1,
                    "numSkippedTasks": 3080,
                    "numFailedTasks": 0,
                    "numKilledTasks": 0,
                    "numCompletedIndices": 1,
                    "numActiveStages": 0,
                    "numCompletedStages": 1,
                    "numSkippedStages": 1,
                    "numFailedStages": 0,
                    "killedTasksSummary": {}
                  },
                  {
                    "displayName": "collect at StringIndexer.scala:204",
                    "dataWritten": 1545471,
                    "dataRead": 1105639651,
                    "rowCount": 6160,
                    "usageDescription": "",
                    "jobId": 36,
                    "name": "collect at StringIndexer.scala:204",
                    "description": "Job group for statement 67:\nmodel_rf1 = pipeline_model_rf.fit(train_data)",
                    "submissionTime": "2023-11-26T07:18:37.429GMT",
                    "completionTime": "2023-11-26T07:24:50.699GMT",
                    "stageIds": [
                      50
                    ],
                    "jobGroup": "67",
                    "status": "SUCCEEDED",
                    "numTasks": 3080,
                    "numActiveTasks": 0,
                    "numCompletedTasks": 3080,
                    "numSkippedTasks": 0,
                    "numFailedTasks": 0,
                    "numKilledTasks": 0,
                    "numCompletedIndices": 3080,
                    "numActiveStages": 0,
                    "numCompletedStages": 1,
                    "numSkippedStages": 0,
                    "numFailedStages": 0,
                    "killedTasksSummary": {}
                  },
                  {
                    "displayName": "collect at StringIndexer.scala:204",
                    "dataWritten": 0,
                    "dataRead": 1521228,
                    "rowCount": 3080,
                    "usageDescription": "",
                    "jobId": 35,
                    "name": "collect at StringIndexer.scala:204",
                    "description": "Job group for statement 67:\nmodel_rf1 = pipeline_model_rf.fit(train_data)",
                    "submissionTime": "2023-11-26T07:18:36.737GMT",
                    "completionTime": "2023-11-26T07:18:37.110GMT",
                    "stageIds": [
                      48,
                      49
                    ],
                    "jobGroup": "67",
                    "status": "SUCCEEDED",
                    "numTasks": 3081,
                    "numActiveTasks": 0,
                    "numCompletedTasks": 1,
                    "numSkippedTasks": 3080,
                    "numFailedTasks": 0,
                    "numKilledTasks": 0,
                    "numCompletedIndices": 1,
                    "numActiveStages": 0,
                    "numCompletedStages": 1,
                    "numSkippedStages": 1,
                    "numFailedStages": 0,
                    "killedTasksSummary": {}
                  },
                  {
                    "displayName": "collect at StringIndexer.scala:204",
                    "dataWritten": 1521228,
                    "dataRead": 1104637027,
                    "rowCount": 6160,
                    "usageDescription": "",
                    "jobId": 34,
                    "name": "collect at StringIndexer.scala:204",
                    "description": "Job group for statement 67:\nmodel_rf1 = pipeline_model_rf.fit(train_data)",
                    "submissionTime": "2023-11-26T07:12:21.195GMT",
                    "completionTime": "2023-11-26T07:18:36.701GMT",
                    "stageIds": [
                      47
                    ],
                    "jobGroup": "67",
                    "status": "SUCCEEDED",
                    "numTasks": 3080,
                    "numActiveTasks": 0,
                    "numCompletedTasks": 3080,
                    "numSkippedTasks": 0,
                    "numFailedTasks": 0,
                    "numKilledTasks": 0,
                    "numCompletedIndices": 3080,
                    "numActiveStages": 0,
                    "numCompletedStages": 1,
                    "numSkippedStages": 0,
                    "numFailedStages": 0,
                    "killedTasksSummary": {}
                  },
                  {
                    "displayName": "collect at StringIndexer.scala:204",
                    "dataWritten": 0,
                    "dataRead": 5752825,
                    "rowCount": 3080,
                    "usageDescription": "",
                    "jobId": 33,
                    "name": "collect at StringIndexer.scala:204",
                    "description": "Job group for statement 67:\nmodel_rf1 = pipeline_model_rf.fit(train_data)",
                    "submissionTime": "2023-11-26T07:12:19.500GMT",
                    "completionTime": "2023-11-26T07:12:20.280GMT",
                    "stageIds": [
                      45,
                      46
                    ],
                    "jobGroup": "67",
                    "status": "SUCCEEDED",
                    "numTasks": 3081,
                    "numActiveTasks": 0,
                    "numCompletedTasks": 1,
                    "numSkippedTasks": 3080,
                    "numFailedTasks": 0,
                    "numKilledTasks": 0,
                    "numCompletedIndices": 1,
                    "numActiveStages": 0,
                    "numCompletedStages": 1,
                    "numSkippedStages": 1,
                    "numFailedStages": 0,
                    "killedTasksSummary": {}
                  },
                  {
                    "displayName": "collect at StringIndexer.scala:204",
                    "dataWritten": 5752825,
                    "dataRead": 1105094375,
                    "rowCount": 6160,
                    "usageDescription": "",
                    "jobId": 32,
                    "name": "collect at StringIndexer.scala:204",
                    "description": "Job group for statement 67:\nmodel_rf1 = pipeline_model_rf.fit(train_data)",
                    "submissionTime": "2023-11-26T07:06:03.979GMT",
                    "completionTime": "2023-11-26T07:12:19.443GMT",
                    "stageIds": [
                      44
                    ],
                    "jobGroup": "67",
                    "status": "SUCCEEDED",
                    "numTasks": 3080,
                    "numActiveTasks": 0,
                    "numCompletedTasks": 3080,
                    "numSkippedTasks": 0,
                    "numFailedTasks": 0,
                    "numKilledTasks": 0,
                    "numCompletedIndices": 3080,
                    "numActiveStages": 0,
                    "numCompletedStages": 1,
                    "numSkippedStages": 0,
                    "numFailedStages": 0,
                    "killedTasksSummary": {}
                  },
                  {
                    "displayName": "collect at StringIndexer.scala:204",
                    "dataWritten": 0,
                    "dataRead": 1990294,
                    "rowCount": 3080,
                    "usageDescription": "",
                    "jobId": 31,
                    "name": "collect at StringIndexer.scala:204",
                    "description": "Job group for statement 67:\nmodel_rf1 = pipeline_model_rf.fit(train_data)",
                    "submissionTime": "2023-11-26T07:06:02.848GMT",
                    "completionTime": "2023-11-26T07:06:03.638GMT",
                    "stageIds": [
                      42,
                      43
                    ],
                    "jobGroup": "67",
                    "status": "SUCCEEDED",
                    "numTasks": 3081,
                    "numActiveTasks": 0,
                    "numCompletedTasks": 1,
                    "numSkippedTasks": 3080,
                    "numFailedTasks": 0,
                    "numKilledTasks": 0,
                    "numCompletedIndices": 1,
                    "numActiveStages": 0,
                    "numCompletedStages": 1,
                    "numSkippedStages": 1,
                    "numFailedStages": 0,
                    "killedTasksSummary": {}
                  },
                  {
                    "displayName": "collect at StringIndexer.scala:204",
                    "dataWritten": 1990294,
                    "dataRead": 1105236690,
                    "rowCount": 6160,
                    "usageDescription": "",
                    "jobId": 30,
                    "name": "collect at StringIndexer.scala:204",
                    "description": "Job group for statement 67:\nmodel_rf1 = pipeline_model_rf.fit(train_data)",
                    "submissionTime": "2023-11-26T06:59:47.893GMT",
                    "completionTime": "2023-11-26T07:06:02.790GMT",
                    "stageIds": [
                      41
                    ],
                    "jobGroup": "67",
                    "status": "SUCCEEDED",
                    "numTasks": 3080,
                    "numActiveTasks": 0,
                    "numCompletedTasks": 3080,
                    "numSkippedTasks": 0,
                    "numFailedTasks": 0,
                    "numKilledTasks": 0,
                    "numCompletedIndices": 3080,
                    "numActiveStages": 0,
                    "numCompletedStages": 1,
                    "numSkippedStages": 0,
                    "numFailedStages": 0,
                    "killedTasksSummary": {}
                  },
                  {
                    "displayName": "collect at StringIndexer.scala:204",
                    "dataWritten": 0,
                    "dataRead": 1788566,
                    "rowCount": 3080,
                    "usageDescription": "",
                    "jobId": 29,
                    "name": "collect at StringIndexer.scala:204",
                    "description": "Job group for statement 67:\nmodel_rf1 = pipeline_model_rf.fit(train_data)",
                    "submissionTime": "2023-11-26T06:59:46.451GMT",
                    "completionTime": "2023-11-26T06:59:47.454GMT",
                    "stageIds": [
                      39,
                      40
                    ],
                    "jobGroup": "67",
                    "status": "SUCCEEDED",
                    "numTasks": 3081,
                    "numActiveTasks": 0,
                    "numCompletedTasks": 1,
                    "numSkippedTasks": 3080,
                    "numFailedTasks": 0,
                    "numKilledTasks": 0,
                    "numCompletedIndices": 1,
                    "numActiveStages": 0,
                    "numCompletedStages": 1,
                    "numSkippedStages": 1,
                    "numFailedStages": 0,
                    "killedTasksSummary": {}
                  },
                  {
                    "displayName": "collect at StringIndexer.scala:204",
                    "dataWritten": 1788566,
                    "dataRead": 61205467020,
                    "rowCount": 641916429,
                    "usageDescription": "",
                    "jobId": 28,
                    "name": "collect at StringIndexer.scala:204",
                    "description": "Job group for statement 67:\nmodel_rf1 = pipeline_model_rf.fit(train_data)",
                    "submissionTime": "2023-11-26T06:39:29.157GMT",
                    "completionTime": "2023-11-26T06:59:46.373GMT",
                    "stageIds": [
                      38
                    ],
                    "jobGroup": "67",
                    "status": "SUCCEEDED",
                    "numTasks": 3080,
                    "numActiveTasks": 0,
                    "numCompletedTasks": 3080,
                    "numSkippedTasks": 0,
                    "numFailedTasks": 0,
                    "numKilledTasks": 0,
                    "numCompletedIndices": 3080,
                    "numActiveStages": 0,
                    "numCompletedStages": 1,
                    "numSkippedStages": 0,
                    "numFailedStages": 0,
                    "killedTasksSummary": {}
                  }
                ],
                "limit": 20,
                "rule": "ALL_DESC"
              },
              "parent_msg_id": "a4ee8c7b-7083-41af-855a-db48232e803a"
            },
            "text/plain": "StatementMeta(3c67b279-1d53-4b7a-b0d9-41cb8b4b6723, 57, 67, Cancelled, Waiting)"
          },
          "metadata": {}
        }
      ],
      "execution_count": 62,
      "metadata": {
        "jupyter": {
          "source_hidden": false,
          "outputs_hidden": false
        },
        "nteract": {
          "transient": {
            "deleting": false
          }
        },
        "gather": {
          "logged": 1700986263205
        }
      }
    }
  ],
  "metadata": {
    "language_info": {
      "name": "python",
      "version": "3.8.0",
      "mimetype": "text/x-python",
      "file_extension": ".py",
      "pygments_lexer": "ipython",
      "codemirror_mode": "ipython",
      "nbconvert_exporter": "python"
    },
    "orig_nbformat": 4,
    "microsoft": {
      "ms_spell_check": {
        "ms_spell_check_language": "en"
      },
      "host": {
        "AzureML": {
          "notebookHasBeenCompleted": true
        }
      }
    },
    "kernelspec": {
      "name": "synapse_pyspark",
      "language": "Python",
      "display_name": "Synapse PySpark"
    },
    "kernel_info": {
      "name": "synapse_pyspark"
    },
    "nteract": {
      "version": "nteract-front-end@1.0.0"
    }
  },
  "nbformat": 4,
  "nbformat_minor": 2
}