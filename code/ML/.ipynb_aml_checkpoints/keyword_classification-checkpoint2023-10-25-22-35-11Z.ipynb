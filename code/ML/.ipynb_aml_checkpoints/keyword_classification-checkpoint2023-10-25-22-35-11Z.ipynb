{
  "cells": [
    {
      "cell_type": "code",
      "source": [
        "spark"
      ],
      "outputs": [
        {
          "output_type": "display_data",
          "data": {
            "application/vnd.livy.statement-meta+json": {
              "spark_pool": "3c67b279-1d53-4b7a-b0d9-41cb8b4b6723",
              "session_id": "56",
              "statement_id": 6,
              "state": "finished",
              "livy_statement_state": "available",
              "queued_time": "2023-11-25T19:39:46.3732091Z",
              "session_start_time": "2023-11-25T19:39:46.4065047Z",
              "execution_start_time": "2023-11-25T19:43:09.7511867Z",
              "execution_finish_time": "2023-11-25T19:43:12.5921455Z",
              "spark_jobs": {
                "numbers": {
                  "SUCCEEDED": 0,
                  "UNKNOWN": 0,
                  "RUNNING": 0,
                  "FAILED": 0
                },
                "jobs": [],
                "limit": 20,
                "rule": "ALL_DESC"
              },
              "parent_msg_id": "4093e938-34de-4f2f-8a66-bdc58aa6b062"
            },
            "text/plain": "StatementMeta(3c67b279-1d53-4b7a-b0d9-41cb8b4b6723, 56, 6, Finished, Available)"
          },
          "metadata": {}
        },
        {
          "output_type": "execute_result",
          "execution_count": 11,
          "data": {
            "text/plain": "<pyspark.sql.session.SparkSession at 0x7fdefad248e0>",
            "text/html": "\n            <div>\n                <p><b>SparkSession - hive</b></p>\n                \n        <div>\n            <p><b>SparkContext</b></p>\n\n            <p><a href=\"http://vm-20618595:39163\">Spark UI</a></p>\n\n            <dl>\n              <dt>Version</dt>\n                <dd><code>v3.2.2.5.1-100879434</code></dd>\n              <dt>Master</dt>\n                <dd><code>yarn</code></dd>\n              <dt>AppName</dt>\n                <dd><code>Azure ML Experiment</code></dd>\n            </dl>\n        </div>\n        \n            </div>\n        "
          },
          "metadata": {}
        }
      ],
      "execution_count": 1,
      "metadata": {
        "gather": {
          "logged": 1700941392752
        }
      }
    },
    {
      "cell_type": "code",
      "source": [
        "blob_account_name = \"marckvnonprodblob\"\n",
        "blob_container_name = \"bigdata\"\n",
        "# read only\n",
        "blob_sas_token = \"?sv=2021-10-04&st=2023-10-04T01%3A42%3A59Z&se=2024-01-02T02%3A42%3A00Z&sr=c&sp=rlf&sig=w3CH9MbCOpwO7DtHlrahc7AlRPxSZZb8MOgS6TaXLzI%3D\"\n",
        "\n",
        "wasbs_base_url = (\n",
        "    f\"wasbs://{blob_container_name}@{blob_account_name}.blob.core.windows.net/\"\n",
        ")\n",
        "spark.conf.set(\n",
        "    f\"fs.azure.sas.{blob_container_name}.{blob_account_name}.blob.core.windows.net\",\n",
        "    blob_sas_token,\n",
        ")"
      ],
      "outputs": [
        {
          "output_type": "display_data",
          "data": {
            "application/vnd.livy.statement-meta+json": {
              "spark_pool": "3c67b279-1d53-4b7a-b0d9-41cb8b4b6723",
              "session_id": "56",
              "statement_id": 7,
              "state": "finished",
              "livy_statement_state": "available",
              "queued_time": "2023-11-25T19:44:01.3559686Z",
              "session_start_time": null,
              "execution_start_time": "2023-11-25T19:44:01.4641535Z",
              "execution_finish_time": "2023-11-25T19:44:01.7693133Z",
              "spark_jobs": {
                "numbers": {
                  "SUCCEEDED": 0,
                  "UNKNOWN": 0,
                  "RUNNING": 0,
                  "FAILED": 0
                },
                "jobs": [],
                "limit": 20,
                "rule": "ALL_DESC"
              },
              "parent_msg_id": "92895357-ac09-4449-881b-9db58b08469a"
            },
            "text/plain": "StatementMeta(3c67b279-1d53-4b7a-b0d9-41cb8b4b6723, 56, 7, Finished, Available)"
          },
          "metadata": {}
        }
      ],
      "execution_count": 2,
      "metadata": {
        "jupyter": {
          "source_hidden": false,
          "outputs_hidden": false
        },
        "nteract": {
          "transient": {
            "deleting": false
          }
        },
        "gather": {
          "logged": 1700941441848
        }
      }
    },
    {
      "cell_type": "code",
      "source": [
        "submissions_path = \"reddit-parquet/submissions/\"\n",
        "submissions_df = spark.read.parquet(f\"{wasbs_base_url}{submissions_path}\")"
      ],
      "outputs": [
        {
          "output_type": "display_data",
          "data": {
            "application/vnd.livy.statement-meta+json": {
              "spark_pool": "3c67b279-1d53-4b7a-b0d9-41cb8b4b6723",
              "session_id": "56",
              "statement_id": 8,
              "state": "finished",
              "livy_statement_state": "available",
              "queued_time": "2023-11-25T19:44:19.9985549Z",
              "session_start_time": null,
              "execution_start_time": "2023-11-25T19:44:20.1060527Z",
              "execution_finish_time": "2023-11-25T19:44:36.609052Z",
              "spark_jobs": {
                "numbers": {
                  "SUCCEEDED": 1,
                  "UNKNOWN": 0,
                  "RUNNING": 0,
                  "FAILED": 0
                },
                "jobs": [
                  {
                    "displayName": "parquet at NativeMethodAccessorImpl.java:0",
                    "dataWritten": 0,
                    "dataRead": 0,
                    "rowCount": 0,
                    "usageDescription": "",
                    "jobId": 0,
                    "name": "parquet at NativeMethodAccessorImpl.java:0",
                    "description": "Job group for statement 8:\nsubmissions_path = \"reddit-parquet/submissions/\"\nsubmissions_df = spark.read.parquet(f\"{wasbs_base_url}{submissions_path}\")",
                    "submissionTime": "2023-11-25T19:44:27.999GMT",
                    "completionTime": "2023-11-25T19:44:35.034GMT",
                    "stageIds": [
                      0
                    ],
                    "jobGroup": "8",
                    "status": "SUCCEEDED",
                    "numTasks": 1,
                    "numActiveTasks": 0,
                    "numCompletedTasks": 1,
                    "numSkippedTasks": 0,
                    "numFailedTasks": 0,
                    "numKilledTasks": 0,
                    "numCompletedIndices": 1,
                    "numActiveStages": 0,
                    "numCompletedStages": 1,
                    "numSkippedStages": 0,
                    "numFailedStages": 0,
                    "killedTasksSummary": {}
                  }
                ],
                "limit": 20,
                "rule": "ALL_DESC"
              },
              "parent_msg_id": "be890ef1-61d2-4c97-9e45-6ac627dc3c2c"
            },
            "text/plain": "StatementMeta(3c67b279-1d53-4b7a-b0d9-41cb8b4b6723, 56, 8, Finished, Available)"
          },
          "metadata": {}
        }
      ],
      "execution_count": 3,
      "metadata": {
        "jupyter": {
          "source_hidden": false,
          "outputs_hidden": false
        },
        "nteract": {
          "transient": {
            "deleting": false
          }
        },
        "gather": {
          "logged": 1700941476714
        }
      }
    },
    {
      "cell_type": "code",
      "source": [
        "from pyspark.sql.functions import col, asc,desc\n",
        "\n",
        "submissions_filtered = submissions_df.filter(col(\"subreddit\").isin([\"Minecraft\", \"Eldenring\",\"Genshin_Impact\",\"pokemongo\",\"RocketLeagueExchange\",\"VALORANT\",\"DestinyTheGame\",\"CallOfDutyMobile\",\"FIFA\",\"pokemon\"]))"
      ],
      "outputs": [
        {
          "output_type": "display_data",
          "data": {
            "application/vnd.livy.statement-meta+json": {
              "spark_pool": "3c67b279-1d53-4b7a-b0d9-41cb8b4b6723",
              "session_id": "56",
              "statement_id": 9,
              "state": "finished",
              "livy_statement_state": "available",
              "queued_time": "2023-11-25T19:45:17.0614427Z",
              "session_start_time": null,
              "execution_start_time": "2023-11-25T19:45:17.1803647Z",
              "execution_finish_time": "2023-11-25T19:45:18.0387494Z",
              "spark_jobs": {
                "numbers": {
                  "SUCCEEDED": 0,
                  "UNKNOWN": 0,
                  "RUNNING": 0,
                  "FAILED": 0
                },
                "jobs": [],
                "limit": 20,
                "rule": "ALL_DESC"
              },
              "parent_msg_id": "ddef3f1f-16b2-4117-9032-90be09cadcba"
            },
            "text/plain": "StatementMeta(3c67b279-1d53-4b7a-b0d9-41cb8b4b6723, 56, 9, Finished, Available)"
          },
          "metadata": {}
        }
      ],
      "execution_count": 4,
      "metadata": {
        "jupyter": {
          "source_hidden": false,
          "outputs_hidden": false
        },
        "nteract": {
          "transient": {
            "deleting": false
          }
        },
        "gather": {
          "logged": 1700941518124
        }
      }
    },
    {
      "cell_type": "code",
      "source": [
        "df_text = submissions_filtered.select(\"subreddit\", \"title\", \"selftext\").cache()"
      ],
      "outputs": [
        {
          "output_type": "display_data",
          "data": {
            "application/vnd.livy.statement-meta+json": {
              "spark_pool": "3c67b279-1d53-4b7a-b0d9-41cb8b4b6723",
              "session_id": "56",
              "statement_id": 10,
              "state": "finished",
              "livy_statement_state": "available",
              "queued_time": "2023-11-25T19:49:30.1501228Z",
              "session_start_time": null,
              "execution_start_time": "2023-11-25T19:49:30.2558911Z",
              "execution_finish_time": "2023-11-25T19:49:31.7969529Z",
              "spark_jobs": {
                "numbers": {
                  "SUCCEEDED": 0,
                  "UNKNOWN": 0,
                  "RUNNING": 0,
                  "FAILED": 0
                },
                "jobs": [],
                "limit": 20,
                "rule": "ALL_DESC"
              },
              "parent_msg_id": "01deb60d-edc1-49e8-83ce-06f480ab2165"
            },
            "text/plain": "StatementMeta(3c67b279-1d53-4b7a-b0d9-41cb8b4b6723, 56, 10, Finished, Available)"
          },
          "metadata": {}
        }
      ],
      "execution_count": 5,
      "metadata": {
        "jupyter": {
          "source_hidden": false,
          "outputs_hidden": false
        },
        "nteract": {
          "transient": {
            "deleting": false
          }
        },
        "gather": {
          "logged": 1700941771878
        }
      }
    },
    {
      "cell_type": "code",
      "source": [
        "from pyspark.sql.functions import concat_ws\n",
        "df = df_text.withColumn(\"text\", concat_ws(\" \", df_text.title, df_text.selftext))"
      ],
      "outputs": [
        {
          "output_type": "display_data",
          "data": {
            "application/vnd.livy.statement-meta+json": {
              "spark_pool": "3c67b279-1d53-4b7a-b0d9-41cb8b4b6723",
              "session_id": "56",
              "statement_id": 11,
              "state": "finished",
              "livy_statement_state": "available",
              "queued_time": "2023-11-25T19:51:20.7891943Z",
              "session_start_time": null,
              "execution_start_time": "2023-11-25T19:51:20.9178478Z",
              "execution_finish_time": "2023-11-25T19:51:21.2186902Z",
              "spark_jobs": {
                "numbers": {
                  "SUCCEEDED": 0,
                  "UNKNOWN": 0,
                  "RUNNING": 0,
                  "FAILED": 0
                },
                "jobs": [],
                "limit": 20,
                "rule": "ALL_DESC"
              },
              "parent_msg_id": "077e8996-4b2c-47f2-ba5a-2d1639dc7de2"
            },
            "text/plain": "StatementMeta(3c67b279-1d53-4b7a-b0d9-41cb8b4b6723, 56, 11, Finished, Available)"
          },
          "metadata": {}
        }
      ],
      "execution_count": 6,
      "metadata": {
        "jupyter": {
          "source_hidden": false,
          "outputs_hidden": false
        },
        "nteract": {
          "transient": {
            "deleting": false
          }
        },
        "gather": {
          "logged": 1700941881351
        }
      }
    },
    {
      "cell_type": "code",
      "source": [
        "df.show(5)"
      ],
      "outputs": [
        {
          "output_type": "display_data",
          "data": {
            "application/vnd.livy.statement-meta+json": {
              "spark_pool": "3c67b279-1d53-4b7a-b0d9-41cb8b4b6723",
              "session_id": "56",
              "statement_id": 12,
              "state": "finished",
              "livy_statement_state": "available",
              "queued_time": "2023-11-25T19:51:53.3971835Z",
              "session_start_time": null,
              "execution_start_time": "2023-11-25T19:51:53.5124086Z",
              "execution_finish_time": "2023-11-25T19:52:03.5617128Z",
              "spark_jobs": {
                "numbers": {
                  "SUCCEEDED": 1,
                  "UNKNOWN": 0,
                  "RUNNING": 0,
                  "FAILED": 0
                },
                "jobs": [
                  {
                    "displayName": "showString at NativeMethodAccessorImpl.java:0",
                    "dataWritten": 0,
                    "dataRead": 43739239,
                    "rowCount": 221807,
                    "usageDescription": "",
                    "jobId": 1,
                    "name": "showString at NativeMethodAccessorImpl.java:0",
                    "description": "Job group for statement 12:\ndf.show(5)",
                    "submissionTime": "2023-11-25T19:51:54.929GMT",
                    "completionTime": "2023-11-25T19:52:01.874GMT",
                    "stageIds": [
                      1
                    ],
                    "jobGroup": "12",
                    "status": "SUCCEEDED",
                    "numTasks": 1,
                    "numActiveTasks": 0,
                    "numCompletedTasks": 1,
                    "numSkippedTasks": 0,
                    "numFailedTasks": 0,
                    "numKilledTasks": 0,
                    "numCompletedIndices": 1,
                    "numActiveStages": 0,
                    "numCompletedStages": 1,
                    "numSkippedStages": 0,
                    "numFailedStages": 0,
                    "killedTasksSummary": {}
                  }
                ],
                "limit": 20,
                "rule": "ALL_DESC"
              },
              "parent_msg_id": "72544e25-4410-41c6-a0f9-51cf775b74a3"
            },
            "text/plain": "StatementMeta(3c67b279-1d53-4b7a-b0d9-41cb8b4b6723, 56, 12, Finished, Available)"
          },
          "metadata": {}
        },
        {
          "output_type": "stream",
          "name": "stdout",
          "text": "+---------+--------------------+--------------------+--------------------+\n|subreddit|               title|            selftext|                text|\n+---------+--------------------+--------------------+--------------------+\n|     FIFA|if you every get ...|                    |if you every get ...|\n|Minecraft|     Texting a house|So I’m building a...|Texting a house S...|\n| VALORANT|       Killjoy Mains|Got bored and so ...|Killjoy Mains Got...|\n|Minecraft|Trident skeleton ...|                    |Trident skeleton ...|\n|  pokemon|the PokemonTogeth...|So several days a...|the PokemonTogeth...|\n+---------+--------------------+--------------------+--------------------+\nonly showing top 5 rows\n\n"
        }
      ],
      "execution_count": 7,
      "metadata": {
        "jupyter": {
          "source_hidden": false,
          "outputs_hidden": false
        },
        "nteract": {
          "transient": {
            "deleting": false
          }
        },
        "gather": {
          "logged": 1700941923667
        }
      }
    },
    {
      "cell_type": "code",
      "source": [
        "from pyspark.sql.functions import lower\n",
        "df = df.withColumn(\"text_lower\", lower(df.text))"
      ],
      "outputs": [
        {
          "output_type": "display_data",
          "data": {
            "application/vnd.livy.statement-meta+json": {
              "spark_pool": "3c67b279-1d53-4b7a-b0d9-41cb8b4b6723",
              "session_id": "56",
              "statement_id": 13,
              "state": "finished",
              "livy_statement_state": "available",
              "queued_time": "2023-11-25T19:56:07.3899296Z",
              "session_start_time": null,
              "execution_start_time": "2023-11-25T19:56:07.4986461Z",
              "execution_finish_time": "2023-11-25T19:56:07.8042213Z",
              "spark_jobs": {
                "numbers": {
                  "SUCCEEDED": 0,
                  "UNKNOWN": 0,
                  "RUNNING": 0,
                  "FAILED": 0
                },
                "jobs": [],
                "limit": 20,
                "rule": "ALL_DESC"
              },
              "parent_msg_id": "8d889576-2b91-4c05-a035-71c684865ee6"
            },
            "text/plain": "StatementMeta(3c67b279-1d53-4b7a-b0d9-41cb8b4b6723, 56, 13, Finished, Available)"
          },
          "metadata": {}
        }
      ],
      "execution_count": 8,
      "metadata": {
        "jupyter": {
          "source_hidden": false,
          "outputs_hidden": false
        },
        "nteract": {
          "transient": {
            "deleting": false
          }
        },
        "gather": {
          "logged": 1700942167887
        }
      }
    },
    {
      "cell_type": "code",
      "source": [
        "df.show(5)"
      ],
      "outputs": [
        {
          "output_type": "display_data",
          "data": {
            "application/vnd.livy.statement-meta+json": {
              "spark_pool": "3c67b279-1d53-4b7a-b0d9-41cb8b4b6723",
              "session_id": "56",
              "statement_id": 14,
              "state": "finished",
              "livy_statement_state": "available",
              "queued_time": "2023-11-25T19:56:15.4983347Z",
              "session_start_time": null,
              "execution_start_time": "2023-11-25T19:56:15.5929396Z",
              "execution_finish_time": "2023-11-25T19:56:16.3998879Z",
              "spark_jobs": {
                "numbers": {
                  "SUCCEEDED": 1,
                  "UNKNOWN": 0,
                  "RUNNING": 0,
                  "FAILED": 0
                },
                "jobs": [
                  {
                    "displayName": "showString at NativeMethodAccessorImpl.java:0",
                    "dataWritten": 0,
                    "dataRead": 190752,
                    "rowCount": 1,
                    "usageDescription": "",
                    "jobId": 2,
                    "name": "showString at NativeMethodAccessorImpl.java:0",
                    "description": "Job group for statement 14:\ndf.show(5)",
                    "submissionTime": "2023-11-25T19:56:15.769GMT",
                    "completionTime": "2023-11-25T19:56:15.899GMT",
                    "stageIds": [
                      2
                    ],
                    "jobGroup": "14",
                    "status": "SUCCEEDED",
                    "numTasks": 1,
                    "numActiveTasks": 0,
                    "numCompletedTasks": 1,
                    "numSkippedTasks": 0,
                    "numFailedTasks": 0,
                    "numKilledTasks": 0,
                    "numCompletedIndices": 1,
                    "numActiveStages": 0,
                    "numCompletedStages": 1,
                    "numSkippedStages": 0,
                    "numFailedStages": 0,
                    "killedTasksSummary": {}
                  }
                ],
                "limit": 20,
                "rule": "ALL_DESC"
              },
              "parent_msg_id": "d03ffc19-a974-4869-9146-55122f44271c"
            },
            "text/plain": "StatementMeta(3c67b279-1d53-4b7a-b0d9-41cb8b4b6723, 56, 14, Finished, Available)"
          },
          "metadata": {}
        },
        {
          "output_type": "stream",
          "name": "stdout",
          "text": "+---------+--------------------+--------------------+--------------------+--------------------+\n|subreddit|               title|            selftext|                text|          text_lower|\n+---------+--------------------+--------------------+--------------------+--------------------+\n|     FIFA|if you every get ...|                    |if you every get ...|if you every get ...|\n|Minecraft|     Texting a house|So I’m building a...|Texting a house S...|texting a house s...|\n| VALORANT|       Killjoy Mains|Got bored and so ...|Killjoy Mains Got...|killjoy mains got...|\n|Minecraft|Trident skeleton ...|                    |Trident skeleton ...|trident skeleton ...|\n|  pokemon|the PokemonTogeth...|So several days a...|the PokemonTogeth...|the pokemontogeth...|\n+---------+--------------------+--------------------+--------------------+--------------------+\nonly showing top 5 rows\n\n"
        }
      ],
      "execution_count": 9,
      "metadata": {
        "jupyter": {
          "source_hidden": false,
          "outputs_hidden": false
        },
        "nteract": {
          "transient": {
            "deleting": false
          }
        },
        "gather": {
          "logged": 1700942176498
        }
      }
    },
    {
      "cell_type": "markdown",
      "source": [
        "# assign keywords labels"
      ],
      "metadata": {
        "nteract": {
          "transient": {
            "deleting": false
          }
        }
      }
    },
    {
      "cell_type": "code",
      "source": [
        "keyword_lst = [\n",
        "    [\"bug\",\"error\",\"issue\",\"glitch\",\"crash\",\"freeze\",\"lag\",\"problems\",\"problem\",\"corruption\"],\n",
        "    [\"strategies\",\"strategy\",\"tip\",\"trick\",\"tactic\",\"review\",\"playthrough\",\"speedrun\",\"trophy\",\"speedrun\",\"achievements\",\"quests\",\"mission\"],\n",
        "    [\"story\",\"storyline\",\"plot\",\"narrative\",\"characters\",\"dialogue\",\"twist\",\"protagonist\",\"antagonist\",\"villian\",\"backstory\",\"emotion\",\"choice\",\"suspense\"],\n",
        "    [\"lore\",\"world\",\"mythology\",\"culture\",\"retcon\",\"documents\",\"race\",\"racial\",\"cultural\",\"environment\",\"environmental\",\"artifacts\",\"cosmology\"],\n",
        "    [\"trade\",\"buy\",\"sell\",\"transaction\",\"market\",\"scam\",\"valuation\",\"negotiation\",\"currency\",\"credit\",\"auction\",\"rarity\",\"tax\",\"fee\",\"traders\",\"buyers\",\"sellers\"]\n",
        "]"
      ],
      "outputs": [
        {
          "output_type": "display_data",
          "data": {
            "application/vnd.livy.statement-meta+json": {
              "spark_pool": "3c67b279-1d53-4b7a-b0d9-41cb8b4b6723",
              "session_id": "56",
              "statement_id": 15,
              "state": "finished",
              "livy_statement_state": "available",
              "queued_time": "2023-11-25T20:13:31.2209713Z",
              "session_start_time": null,
              "execution_start_time": "2023-11-25T20:13:31.326567Z",
              "execution_finish_time": "2023-11-25T20:13:31.6317524Z",
              "spark_jobs": {
                "numbers": {
                  "SUCCEEDED": 0,
                  "UNKNOWN": 0,
                  "RUNNING": 0,
                  "FAILED": 0
                },
                "jobs": [],
                "limit": 20,
                "rule": "ALL_DESC"
              },
              "parent_msg_id": "884d10b1-6178-4c88-a381-df4612b946f2"
            },
            "text/plain": "StatementMeta(3c67b279-1d53-4b7a-b0d9-41cb8b4b6723, 56, 15, Finished, Available)"
          },
          "metadata": {}
        }
      ],
      "execution_count": 10,
      "metadata": {
        "jupyter": {
          "source_hidden": false,
          "outputs_hidden": false
        },
        "nteract": {
          "transient": {
            "deleting": false
          }
        },
        "gather": {
          "logged": 1700943211713
        }
      }
    },
    {
      "cell_type": "code",
      "source": [
        "from pyspark.sql.functions import when\n",
        "df_label = df.withColumn(\"label\",\n",
        "                   when(col(\"text_lower\").rlike(\"|\".join(keyword_lst[0])), \"bug report\")\n",
        "                   .when(col(\"text_lower\").rlike(\"|\".join(keyword_lst[1])), \"gameplay discussion\")\n",
        "                   .when(col(\"text_lower\").rlike(\"|\".join(keyword_lst[2])), \"story related discussion\")\n",
        "                   .when(col(\"text_lower\").rlike(\"|\".join(keyword_lst[3])), \"lore discussion\")\n",
        "                   .when(col(\"text_lower\").rlike(\"|\".join(keyword_lst[4])), \"game items trading\")\n",
        "                   .otherwise(\"other\"))\n",
        "df_label.show(5)"
      ],
      "outputs": [
        {
          "output_type": "display_data",
          "data": {
            "application/vnd.livy.statement-meta+json": {
              "spark_pool": "3c67b279-1d53-4b7a-b0d9-41cb8b4b6723",
              "session_id": "56",
              "statement_id": 22,
              "state": "finished",
              "livy_statement_state": "available",
              "queued_time": "2023-11-25T20:24:33.5504843Z",
              "session_start_time": null,
              "execution_start_time": "2023-11-25T20:24:33.6518586Z",
              "execution_finish_time": "2023-11-25T20:24:34.464384Z",
              "spark_jobs": {
                "numbers": {
                  "SUCCEEDED": 1,
                  "UNKNOWN": 0,
                  "RUNNING": 0,
                  "FAILED": 0
                },
                "jobs": [
                  {
                    "displayName": "showString at NativeMethodAccessorImpl.java:0",
                    "dataWritten": 0,
                    "dataRead": 190752,
                    "rowCount": 1,
                    "usageDescription": "",
                    "jobId": 13,
                    "name": "showString at NativeMethodAccessorImpl.java:0",
                    "description": "Job group for statement 22:\nfrom pyspark.sql.functions import when\ndf_label = df.withColumn(\"label\",\n                   when(col(\"text_lower\").rlike(\"|\".join(keyword_lst[0])), \"bug report\")\n                   .when(col(\"text_lower\").rlike(\"|\".join(keyword_lst[1])), \"gameplay discussion\")\n                   .when(col(\"text_lower\").rlike(\"|\".join(keyword_lst[2])), \"story related discussion\")\n                   .when(col(\"text_lower\").rlike(\"|\".join(keyword_lst[3])), \"lore discussion\")\n                   .when(col(\"text_lower\").rlike(\"|\".join(keyword_lst[4])), \"game items trading\")\n                   .otherwise(\"other\"))\ndf_label.show(5)",
                    "submissionTime": "2023-11-25T20:24:33.832GMT",
                    "completionTime": "2023-11-25T20:24:33.950GMT",
                    "stageIds": [
                      13
                    ],
                    "jobGroup": "22",
                    "status": "SUCCEEDED",
                    "numTasks": 1,
                    "numActiveTasks": 0,
                    "numCompletedTasks": 1,
                    "numSkippedTasks": 0,
                    "numFailedTasks": 0,
                    "numKilledTasks": 0,
                    "numCompletedIndices": 1,
                    "numActiveStages": 0,
                    "numCompletedStages": 1,
                    "numSkippedStages": 0,
                    "numFailedStages": 0,
                    "killedTasksSummary": {}
                  }
                ],
                "limit": 20,
                "rule": "ALL_DESC"
              },
              "parent_msg_id": "8b827018-669b-41d2-9833-5c2b12b4dd3c"
            },
            "text/plain": "StatementMeta(3c67b279-1d53-4b7a-b0d9-41cb8b4b6723, 56, 22, Finished, Available)"
          },
          "metadata": {}
        },
        {
          "output_type": "stream",
          "name": "stdout",
          "text": "+---------+--------------------+--------------------+--------------------+--------------------+-------------------+\n|subreddit|               title|            selftext|                text|          text_lower|              label|\n+---------+--------------------+--------------------+--------------------+--------------------+-------------------+\n|     FIFA|if you every get ...|                    |if you every get ...|if you every get ...|              other|\n|Minecraft|     Texting a house|So I’m building a...|Texting a house S...|texting a house s...|              other|\n| VALORANT|       Killjoy Mains|Got bored and so ...|Killjoy Mains Got...|killjoy mains got...| game items trading|\n|Minecraft|Trident skeleton ...|                    |Trident skeleton ...|trident skeleton ...|         bug report|\n|  pokemon|the PokemonTogeth...|So several days a...|the PokemonTogeth...|the pokemontogeth...|gameplay discussion|\n+---------+--------------------+--------------------+--------------------+--------------------+-------------------+\nonly showing top 5 rows\n\n"
        }
      ],
      "execution_count": 17,
      "metadata": {
        "jupyter": {
          "source_hidden": false,
          "outputs_hidden": false
        },
        "nteract": {
          "transient": {
            "deleting": false
          }
        },
        "gather": {
          "logged": 1700943874588
        }
      }
    },
    {
      "cell_type": "markdown",
      "source": [
        "# check the distribution of each labels"
      ],
      "metadata": {
        "nteract": {
          "transient": {
            "deleting": false
          }
        }
      }
    },
    {
      "cell_type": "code",
      "source": [
        "df_label_cnt = df_label.groupBy(\"label\").count().orderBy(col(\"count\"), ascending=False).collect()"
      ],
      "outputs": [
        {
          "output_type": "display_data",
          "data": {
            "application/vnd.livy.statement-meta+json": {
              "spark_pool": "3c67b279-1d53-4b7a-b0d9-41cb8b4b6723",
              "session_id": "56",
              "statement_id": 23,
              "state": "submitted",
              "livy_statement_state": "running",
              "queued_time": "2023-11-25T20:27:03.2303579Z",
              "session_start_time": null,
              "execution_start_time": "2023-11-25T20:27:03.348002Z",
              "execution_finish_time": null,
              "spark_jobs": {
                "numbers": {
                  "SUCCEEDED": 0,
                  "UNKNOWN": 0,
                  "RUNNING": 1,
                  "FAILED": 0
                },
                "jobs": [
                  {
                    "displayName": "collect at /tmp/ipykernel_7833/177574381.py:1",
                    "dataWritten": 1314189,
                    "dataRead": 66212864582,
                    "rowCount": 761618691,
                    "usageDescription": "",
                    "jobId": 14,
                    "name": "collect at /tmp/ipykernel_7833/177574381.py:1",
                    "description": "Job group for statement 23:\ndf_label_cnt = df_label.groupBy(\"label\").count().orderBy(col(\"count\"), ascending=False).collect()",
                    "submissionTime": "2023-11-25T20:27:03.946GMT",
                    "stageIds": [
                      14
                    ],
                    "jobGroup": "23",
                    "status": "RUNNING",
                    "numTasks": 3080,
                    "numActiveTasks": 9,
                    "numCompletedTasks": 2669,
                    "numSkippedTasks": 0,
                    "numFailedTasks": 0,
                    "numKilledTasks": 0,
                    "numCompletedIndices": 2669,
                    "numActiveStages": 1,
                    "numCompletedStages": 0,
                    "numSkippedStages": 0,
                    "numFailedStages": 0,
                    "killedTasksSummary": {}
                  }
                ],
                "limit": 20,
                "rule": "ALL_DESC"
              },
              "parent_msg_id": "3a4a2b10-f9e7-4d22-88c1-950b408c9d07"
            },
            "text/plain": "StatementMeta(3c67b279-1d53-4b7a-b0d9-41cb8b4b6723, 56, 23, Submitted, Running)"
          },
          "metadata": {}
        }
      ],
      "execution_count": 18,
      "metadata": {
        "jupyter": {
          "source_hidden": false,
          "outputs_hidden": false
        },
        "nteract": {
          "transient": {
            "deleting": false
          }
        },
        "gather": {
          "logged": 1700945182971
        }
      }
    },
    {
      "cell_type": "code",
      "source": [
        "df_label_cnt_tot = spark.createDataFrame(df_label_cnt).toPandas()\n",
        "df_label_cnt_tot"
      ],
      "outputs": [
        {
          "output_type": "display_data",
          "data": {
            "application/vnd.livy.statement-meta+json": {
              "spark_pool": "3c67b279-1d53-4b7a-b0d9-41cb8b4b6723",
              "session_id": "56",
              "statement_id": 26,
              "state": "finished",
              "livy_statement_state": "available",
              "queued_time": "2023-11-25T20:49:24.2976912Z",
              "session_start_time": null,
              "execution_start_time": "2023-11-25T20:49:24.3979017Z",
              "execution_finish_time": "2023-11-25T20:49:26.8282525Z",
              "spark_jobs": {
                "numbers": {
                  "SUCCEEDED": 1,
                  "UNKNOWN": 0,
                  "RUNNING": 0,
                  "FAILED": 0
                },
                "jobs": [
                  {
                    "displayName": "toPandas at /tmp/ipykernel_7833/36391192.py:1",
                    "dataWritten": 0,
                    "dataRead": 0,
                    "rowCount": 0,
                    "usageDescription": "",
                    "jobId": 18,
                    "name": "toPandas at /tmp/ipykernel_7833/36391192.py:1",
                    "description": "Job group for statement 26:\ndf_label_cnt_tot = spark.createDataFrame(df_label_cnt).toPandas()\ndf_label_cnt_tot",
                    "submissionTime": "2023-11-25T20:49:25.235GMT",
                    "completionTime": "2023-11-25T20:49:26.106GMT",
                    "stageIds": [
                      22
                    ],
                    "jobGroup": "26",
                    "status": "SUCCEEDED",
                    "numTasks": 8,
                    "numActiveTasks": 0,
                    "numCompletedTasks": 8,
                    "numSkippedTasks": 0,
                    "numFailedTasks": 0,
                    "numKilledTasks": 0,
                    "numCompletedIndices": 8,
                    "numActiveStages": 0,
                    "numCompletedStages": 1,
                    "numSkippedStages": 0,
                    "numFailedStages": 0,
                    "killedTasksSummary": {}
                  }
                ],
                "limit": 20,
                "rule": "ALL_DESC"
              },
              "parent_msg_id": "f7912d9b-2f81-4255-b017-2aa4d181a449"
            },
            "text/plain": "StatementMeta(3c67b279-1d53-4b7a-b0d9-41cb8b4b6723, 56, 26, Finished, Available)"
          },
          "metadata": {}
        },
        {
          "output_type": "execute_result",
          "execution_count": 51,
          "data": {
            "text/plain": "                      label    count\n0                     other  3925294\n1                bug report   358867\n2        game items trading   330996\n3       gameplay discussion   240189\n4           lore discussion   150275\n5  story related discussion    86385",
            "text/html": "<div>\n<style scoped>\n    .dataframe tbody tr th:only-of-type {\n        vertical-align: middle;\n    }\n\n    .dataframe tbody tr th {\n        vertical-align: top;\n    }\n\n    .dataframe thead th {\n        text-align: right;\n    }\n</style>\n<table border=\"1\" class=\"dataframe\">\n  <thead>\n    <tr style=\"text-align: right;\">\n      <th></th>\n      <th>label</th>\n      <th>count</th>\n    </tr>\n  </thead>\n  <tbody>\n    <tr>\n      <th>0</th>\n      <td>other</td>\n      <td>3925294</td>\n    </tr>\n    <tr>\n      <th>1</th>\n      <td>bug report</td>\n      <td>358867</td>\n    </tr>\n    <tr>\n      <th>2</th>\n      <td>game items trading</td>\n      <td>330996</td>\n    </tr>\n    <tr>\n      <th>3</th>\n      <td>gameplay discussion</td>\n      <td>240189</td>\n    </tr>\n    <tr>\n      <th>4</th>\n      <td>lore discussion</td>\n      <td>150275</td>\n    </tr>\n    <tr>\n      <th>5</th>\n      <td>story related discussion</td>\n      <td>86385</td>\n    </tr>\n  </tbody>\n</table>\n</div>"
          },
          "metadata": {}
        }
      ],
      "execution_count": 21,
      "metadata": {
        "jupyter": {
          "source_hidden": false,
          "outputs_hidden": false
        },
        "nteract": {
          "transient": {
            "deleting": false
          }
        },
        "gather": {
          "logged": 1700945366998
        }
      }
    },
    {
      "cell_type": "code",
      "source": [
        "df_label_cnt_game = df_label.groupBy(\"subreddit\",\"label\").count().orderBy(col(\"count\"), ascending=False).collect()"
      ],
      "outputs": [
        {
          "output_type": "display_data",
          "data": {
            "application/vnd.livy.statement-meta+json": {
              "spark_pool": "3c67b279-1d53-4b7a-b0d9-41cb8b4b6723",
              "session_id": "56",
              "statement_id": 27,
              "state": "finished",
              "livy_statement_state": "available",
              "queued_time": "2023-11-25T20:51:38.132325Z",
              "session_start_time": null,
              "execution_start_time": "2023-11-25T20:51:38.2359509Z",
              "execution_finish_time": "2023-11-25T20:53:16.0004452Z",
              "spark_jobs": {
                "numbers": {
                  "SUCCEEDED": 4,
                  "UNKNOWN": 0,
                  "RUNNING": 0,
                  "FAILED": 0
                },
                "jobs": [
                  {
                    "displayName": "collect at /tmp/ipykernel_7833/3509952026.py:1",
                    "dataWritten": 0,
                    "dataRead": 6384,
                    "rowCount": 60,
                    "usageDescription": "",
                    "jobId": 22,
                    "name": "collect at /tmp/ipykernel_7833/3509952026.py:1",
                    "description": "Job group for statement 27:\ndf_label_cnt_game = df_label.groupBy(\"subreddit\",\"label\").count().orderBy(col(\"count\"), ascending=False).collect()",
                    "submissionTime": "2023-11-25T20:53:13.621GMT",
                    "completionTime": "2023-11-25T20:53:13.841GMT",
                    "stageIds": [
                      30,
                      28,
                      29
                    ],
                    "jobGroup": "27",
                    "status": "SUCCEEDED",
                    "numTasks": 3090,
                    "numActiveTasks": 0,
                    "numCompletedTasks": 1,
                    "numSkippedTasks": 3089,
                    "numFailedTasks": 0,
                    "numKilledTasks": 0,
                    "numCompletedIndices": 1,
                    "numActiveStages": 0,
                    "numCompletedStages": 1,
                    "numSkippedStages": 2,
                    "numFailedStages": 0,
                    "killedTasksSummary": {}
                  },
                  {
                    "displayName": "collect at /tmp/ipykernel_7833/3509952026.py:1",
                    "dataWritten": 6384,
                    "dataRead": 15710694,
                    "rowCount": 165432,
                    "usageDescription": "",
                    "jobId": 21,
                    "name": "collect at /tmp/ipykernel_7833/3509952026.py:1",
                    "description": "Job group for statement 27:\ndf_label_cnt_game = df_label.groupBy(\"subreddit\",\"label\").count().orderBy(col(\"count\"), ascending=False).collect()",
                    "submissionTime": "2023-11-25T20:53:12.519GMT",
                    "completionTime": "2023-11-25T20:53:13.581GMT",
                    "stageIds": [
                      27,
                      26
                    ],
                    "jobGroup": "27",
                    "status": "SUCCEEDED",
                    "numTasks": 3089,
                    "numActiveTasks": 0,
                    "numCompletedTasks": 9,
                    "numSkippedTasks": 3080,
                    "numFailedTasks": 0,
                    "numKilledTasks": 0,
                    "numCompletedIndices": 9,
                    "numActiveStages": 0,
                    "numCompletedStages": 1,
                    "numSkippedStages": 1,
                    "numFailedStages": 0,
                    "killedTasksSummary": {}
                  },
                  {
                    "displayName": "collect at /tmp/ipykernel_7833/3509952026.py:1",
                    "dataWritten": 0,
                    "dataRead": 15710694,
                    "rowCount": 165372,
                    "usageDescription": "",
                    "jobId": 20,
                    "name": "collect at /tmp/ipykernel_7833/3509952026.py:1",
                    "description": "Job group for statement 27:\ndf_label_cnt_game = df_label.groupBy(\"subreddit\",\"label\").count().orderBy(col(\"count\"), ascending=False).collect()",
                    "submissionTime": "2023-11-25T20:53:10.956GMT",
                    "completionTime": "2023-11-25T20:53:12.514GMT",
                    "stageIds": [
                      24,
                      25
                    ],
                    "jobGroup": "27",
                    "status": "SUCCEEDED",
                    "numTasks": 3089,
                    "numActiveTasks": 0,
                    "numCompletedTasks": 9,
                    "numSkippedTasks": 3080,
                    "numFailedTasks": 0,
                    "numKilledTasks": 0,
                    "numCompletedIndices": 9,
                    "numActiveStages": 0,
                    "numCompletedStages": 1,
                    "numSkippedStages": 1,
                    "numFailedStages": 0,
                    "killedTasksSummary": {}
                  },
                  {
                    "displayName": "collect at /tmp/ipykernel_7833/3509952026.py:1",
                    "dataWritten": 15710694,
                    "dataRead": 1014266417,
                    "rowCount": 168452,
                    "usageDescription": "",
                    "jobId": 19,
                    "name": "collect at /tmp/ipykernel_7833/3509952026.py:1",
                    "description": "Job group for statement 27:\ndf_label_cnt_game = df_label.groupBy(\"subreddit\",\"label\").count().orderBy(col(\"count\"), ascending=False).collect()",
                    "submissionTime": "2023-11-25T20:51:38.404GMT",
                    "completionTime": "2023-11-25T20:53:10.867GMT",
                    "stageIds": [
                      23
                    ],
                    "jobGroup": "27",
                    "status": "SUCCEEDED",
                    "numTasks": 3080,
                    "numActiveTasks": 0,
                    "numCompletedTasks": 3080,
                    "numSkippedTasks": 0,
                    "numFailedTasks": 0,
                    "numKilledTasks": 0,
                    "numCompletedIndices": 3080,
                    "numActiveStages": 0,
                    "numCompletedStages": 1,
                    "numSkippedStages": 0,
                    "numFailedStages": 0,
                    "killedTasksSummary": {}
                  }
                ],
                "limit": 20,
                "rule": "ALL_DESC"
              },
              "parent_msg_id": "75e8df25-15d5-4d87-8fd3-24f99db13b05"
            },
            "text/plain": "StatementMeta(3c67b279-1d53-4b7a-b0d9-41cb8b4b6723, 56, 27, Finished, Available)"
          },
          "metadata": {}
        }
      ],
      "execution_count": 22,
      "metadata": {
        "jupyter": {
          "source_hidden": false,
          "outputs_hidden": false
        },
        "nteract": {
          "transient": {
            "deleting": false
          }
        },
        "gather": {
          "logged": 1700945596093
        }
      }
    },
    {
      "cell_type": "code",
      "source": [
        "df_label_cnt_sub = spark.createDataFrame(df_label_cnt_game).toPandas()\n",
        "df_label_cnt_sub"
      ],
      "outputs": [
        {
          "output_type": "display_data",
          "data": {
            "application/vnd.livy.statement-meta+json": {
              "spark_pool": "3c67b279-1d53-4b7a-b0d9-41cb8b4b6723",
              "session_id": "56",
              "statement_id": 28,
              "state": "finished",
              "livy_statement_state": "available",
              "queued_time": "2023-11-25T20:53:39.9242274Z",
              "session_start_time": null,
              "execution_start_time": "2023-11-25T20:53:40.167543Z",
              "execution_finish_time": "2023-11-25T20:53:40.9644075Z",
              "spark_jobs": {
                "numbers": {
                  "SUCCEEDED": 1,
                  "UNKNOWN": 0,
                  "RUNNING": 0,
                  "FAILED": 0
                },
                "jobs": [
                  {
                    "displayName": "toPandas at /tmp/ipykernel_7833/1833144595.py:1",
                    "dataWritten": 0,
                    "dataRead": 0,
                    "rowCount": 0,
                    "usageDescription": "",
                    "jobId": 23,
                    "name": "toPandas at /tmp/ipykernel_7833/1833144595.py:1",
                    "description": "Job group for statement 28:\ndf_label_cnt_sub = spark.createDataFrame(df_label_cnt_game).toPandas()\ndf_label_cnt_sub",
                    "submissionTime": "2023-11-25T20:53:40.246GMT",
                    "completionTime": "2023-11-25T20:53:40.362GMT",
                    "stageIds": [
                      31
                    ],
                    "jobGroup": "28",
                    "status": "SUCCEEDED",
                    "numTasks": 8,
                    "numActiveTasks": 0,
                    "numCompletedTasks": 8,
                    "numSkippedTasks": 0,
                    "numFailedTasks": 0,
                    "numKilledTasks": 0,
                    "numCompletedIndices": 8,
                    "numActiveStages": 0,
                    "numCompletedStages": 1,
                    "numSkippedStages": 0,
                    "numFailedStages": 0,
                    "killedTasksSummary": {}
                  }
                ],
                "limit": 20,
                "rule": "ALL_DESC"
              },
              "parent_msg_id": "88300b74-db48-4e2f-bbdb-d361ac2b33cc"
            },
            "text/plain": "StatementMeta(3c67b279-1d53-4b7a-b0d9-41cb8b4b6723, 56, 28, Finished, Available)"
          },
          "metadata": {}
        },
        {
          "output_type": "execute_result",
          "execution_count": 55,
          "data": {
            "text/plain": "               subreddit                     label   count\n0              Minecraft                     other  671646\n1              Eldenring                     other  634060\n2         Genshin_Impact                     other  555686\n3              pokemongo                     other  373640\n4               VALORANT                     other  317794\n5       CallOfDutyMobile                     other  312899\n6                   FIFA                     other  297790\n7                pokemon                     other  291050\n8         DestinyTheGame                     other  253196\n9   RocketLeagueExchange                     other  217533\n10  RocketLeagueExchange        game items trading  144268\n11             Minecraft                bug report  106622\n12             Minecraft           lore discussion   64098\n13             Eldenring       gameplay discussion   54598\n14             Eldenring                bug report   51701\n15        DestinyTheGame                bug report   50252\n16             Minecraft       gameplay discussion   38968\n17  RocketLeagueExchange       gameplay discussion   38045\n18             Eldenring        game items trading   36795\n19              VALORANT                bug report   33166\n20        Genshin_Impact                bug report   32712\n21             Eldenring           lore discussion   32106\n22        Genshin_Impact  story related discussion   31970\n23        DestinyTheGame        game items trading   28413\n24        Genshin_Impact       gameplay discussion   27348\n25      CallOfDutyMobile                bug report   26609\n26        DestinyTheGame       gameplay discussion   23440\n27                  FIFA        game items trading   22542\n28                  FIFA                bug report   20528\n29               pokemon        game items trading   19570\n30              VALORANT        game items trading   19301\n31             Eldenring  story related discussion   18085\n32             Minecraft        game items trading   18083\n33             pokemongo                bug report   16292\n34             pokemongo        game items trading   16164\n35              VALORANT       gameplay discussion   15737\n36        Genshin_Impact           lore discussion   15222\n37               pokemon                bug report   14920\n38        Genshin_Impact        game items trading   13295\n39                  FIFA       gameplay discussion   12814\n40      CallOfDutyMobile        game items trading   12565\n41        DestinyTheGame  story related discussion   12132\n42        DestinyTheGame           lore discussion   11676\n43               pokemon       gameplay discussion   11669\n44               pokemon  story related discussion   10467\n45      CallOfDutyMobile       gameplay discussion    9700\n46  RocketLeagueExchange           lore discussion    9009\n47             pokemongo       gameplay discussion    7870\n48               pokemon           lore discussion    7555\n49  RocketLeagueExchange                bug report    6065\n50             Minecraft  story related discussion    4205\n51                  FIFA           lore discussion    4071\n52              VALORANT  story related discussion    2906\n53      CallOfDutyMobile  story related discussion    2701\n54              VALORANT           lore discussion    2450\n55             pokemongo           lore discussion    2049\n56      CallOfDutyMobile           lore discussion    2039\n57                  FIFA  story related discussion    1546\n58             pokemongo  story related discussion    1460\n59  RocketLeagueExchange  story related discussion     913",
            "text/html": "<div>\n<style scoped>\n    .dataframe tbody tr th:only-of-type {\n        vertical-align: middle;\n    }\n\n    .dataframe tbody tr th {\n        vertical-align: top;\n    }\n\n    .dataframe thead th {\n        text-align: right;\n    }\n</style>\n<table border=\"1\" class=\"dataframe\">\n  <thead>\n    <tr style=\"text-align: right;\">\n      <th></th>\n      <th>subreddit</th>\n      <th>label</th>\n      <th>count</th>\n    </tr>\n  </thead>\n  <tbody>\n    <tr>\n      <th>0</th>\n      <td>Minecraft</td>\n      <td>other</td>\n      <td>671646</td>\n    </tr>\n    <tr>\n      <th>1</th>\n      <td>Eldenring</td>\n      <td>other</td>\n      <td>634060</td>\n    </tr>\n    <tr>\n      <th>2</th>\n      <td>Genshin_Impact</td>\n      <td>other</td>\n      <td>555686</td>\n    </tr>\n    <tr>\n      <th>3</th>\n      <td>pokemongo</td>\n      <td>other</td>\n      <td>373640</td>\n    </tr>\n    <tr>\n      <th>4</th>\n      <td>VALORANT</td>\n      <td>other</td>\n      <td>317794</td>\n    </tr>\n    <tr>\n      <th>5</th>\n      <td>CallOfDutyMobile</td>\n      <td>other</td>\n      <td>312899</td>\n    </tr>\n    <tr>\n      <th>6</th>\n      <td>FIFA</td>\n      <td>other</td>\n      <td>297790</td>\n    </tr>\n    <tr>\n      <th>7</th>\n      <td>pokemon</td>\n      <td>other</td>\n      <td>291050</td>\n    </tr>\n    <tr>\n      <th>8</th>\n      <td>DestinyTheGame</td>\n      <td>other</td>\n      <td>253196</td>\n    </tr>\n    <tr>\n      <th>9</th>\n      <td>RocketLeagueExchange</td>\n      <td>other</td>\n      <td>217533</td>\n    </tr>\n    <tr>\n      <th>10</th>\n      <td>RocketLeagueExchange</td>\n      <td>game items trading</td>\n      <td>144268</td>\n    </tr>\n    <tr>\n      <th>11</th>\n      <td>Minecraft</td>\n      <td>bug report</td>\n      <td>106622</td>\n    </tr>\n    <tr>\n      <th>12</th>\n      <td>Minecraft</td>\n      <td>lore discussion</td>\n      <td>64098</td>\n    </tr>\n    <tr>\n      <th>13</th>\n      <td>Eldenring</td>\n      <td>gameplay discussion</td>\n      <td>54598</td>\n    </tr>\n    <tr>\n      <th>14</th>\n      <td>Eldenring</td>\n      <td>bug report</td>\n      <td>51701</td>\n    </tr>\n    <tr>\n      <th>15</th>\n      <td>DestinyTheGame</td>\n      <td>bug report</td>\n      <td>50252</td>\n    </tr>\n    <tr>\n      <th>16</th>\n      <td>Minecraft</td>\n      <td>gameplay discussion</td>\n      <td>38968</td>\n    </tr>\n    <tr>\n      <th>17</th>\n      <td>RocketLeagueExchange</td>\n      <td>gameplay discussion</td>\n      <td>38045</td>\n    </tr>\n    <tr>\n      <th>18</th>\n      <td>Eldenring</td>\n      <td>game items trading</td>\n      <td>36795</td>\n    </tr>\n    <tr>\n      <th>19</th>\n      <td>VALORANT</td>\n      <td>bug report</td>\n      <td>33166</td>\n    </tr>\n    <tr>\n      <th>20</th>\n      <td>Genshin_Impact</td>\n      <td>bug report</td>\n      <td>32712</td>\n    </tr>\n    <tr>\n      <th>21</th>\n      <td>Eldenring</td>\n      <td>lore discussion</td>\n      <td>32106</td>\n    </tr>\n    <tr>\n      <th>22</th>\n      <td>Genshin_Impact</td>\n      <td>story related discussion</td>\n      <td>31970</td>\n    </tr>\n    <tr>\n      <th>23</th>\n      <td>DestinyTheGame</td>\n      <td>game items trading</td>\n      <td>28413</td>\n    </tr>\n    <tr>\n      <th>24</th>\n      <td>Genshin_Impact</td>\n      <td>gameplay discussion</td>\n      <td>27348</td>\n    </tr>\n    <tr>\n      <th>25</th>\n      <td>CallOfDutyMobile</td>\n      <td>bug report</td>\n      <td>26609</td>\n    </tr>\n    <tr>\n      <th>26</th>\n      <td>DestinyTheGame</td>\n      <td>gameplay discussion</td>\n      <td>23440</td>\n    </tr>\n    <tr>\n      <th>27</th>\n      <td>FIFA</td>\n      <td>game items trading</td>\n      <td>22542</td>\n    </tr>\n    <tr>\n      <th>28</th>\n      <td>FIFA</td>\n      <td>bug report</td>\n      <td>20528</td>\n    </tr>\n    <tr>\n      <th>29</th>\n      <td>pokemon</td>\n      <td>game items trading</td>\n      <td>19570</td>\n    </tr>\n    <tr>\n      <th>30</th>\n      <td>VALORANT</td>\n      <td>game items trading</td>\n      <td>19301</td>\n    </tr>\n    <tr>\n      <th>31</th>\n      <td>Eldenring</td>\n      <td>story related discussion</td>\n      <td>18085</td>\n    </tr>\n    <tr>\n      <th>32</th>\n      <td>Minecraft</td>\n      <td>game items trading</td>\n      <td>18083</td>\n    </tr>\n    <tr>\n      <th>33</th>\n      <td>pokemongo</td>\n      <td>bug report</td>\n      <td>16292</td>\n    </tr>\n    <tr>\n      <th>34</th>\n      <td>pokemongo</td>\n      <td>game items trading</td>\n      <td>16164</td>\n    </tr>\n    <tr>\n      <th>35</th>\n      <td>VALORANT</td>\n      <td>gameplay discussion</td>\n      <td>15737</td>\n    </tr>\n    <tr>\n      <th>36</th>\n      <td>Genshin_Impact</td>\n      <td>lore discussion</td>\n      <td>15222</td>\n    </tr>\n    <tr>\n      <th>37</th>\n      <td>pokemon</td>\n      <td>bug report</td>\n      <td>14920</td>\n    </tr>\n    <tr>\n      <th>38</th>\n      <td>Genshin_Impact</td>\n      <td>game items trading</td>\n      <td>13295</td>\n    </tr>\n    <tr>\n      <th>39</th>\n      <td>FIFA</td>\n      <td>gameplay discussion</td>\n      <td>12814</td>\n    </tr>\n    <tr>\n      <th>40</th>\n      <td>CallOfDutyMobile</td>\n      <td>game items trading</td>\n      <td>12565</td>\n    </tr>\n    <tr>\n      <th>41</th>\n      <td>DestinyTheGame</td>\n      <td>story related discussion</td>\n      <td>12132</td>\n    </tr>\n    <tr>\n      <th>42</th>\n      <td>DestinyTheGame</td>\n      <td>lore discussion</td>\n      <td>11676</td>\n    </tr>\n    <tr>\n      <th>43</th>\n      <td>pokemon</td>\n      <td>gameplay discussion</td>\n      <td>11669</td>\n    </tr>\n    <tr>\n      <th>44</th>\n      <td>pokemon</td>\n      <td>story related discussion</td>\n      <td>10467</td>\n    </tr>\n    <tr>\n      <th>45</th>\n      <td>CallOfDutyMobile</td>\n      <td>gameplay discussion</td>\n      <td>9700</td>\n    </tr>\n    <tr>\n      <th>46</th>\n      <td>RocketLeagueExchange</td>\n      <td>lore discussion</td>\n      <td>9009</td>\n    </tr>\n    <tr>\n      <th>47</th>\n      <td>pokemongo</td>\n      <td>gameplay discussion</td>\n      <td>7870</td>\n    </tr>\n    <tr>\n      <th>48</th>\n      <td>pokemon</td>\n      <td>lore discussion</td>\n      <td>7555</td>\n    </tr>\n    <tr>\n      <th>49</th>\n      <td>RocketLeagueExchange</td>\n      <td>bug report</td>\n      <td>6065</td>\n    </tr>\n    <tr>\n      <th>50</th>\n      <td>Minecraft</td>\n      <td>story related discussion</td>\n      <td>4205</td>\n    </tr>\n    <tr>\n      <th>51</th>\n      <td>FIFA</td>\n      <td>lore discussion</td>\n      <td>4071</td>\n    </tr>\n    <tr>\n      <th>52</th>\n      <td>VALORANT</td>\n      <td>story related discussion</td>\n      <td>2906</td>\n    </tr>\n    <tr>\n      <th>53</th>\n      <td>CallOfDutyMobile</td>\n      <td>story related discussion</td>\n      <td>2701</td>\n    </tr>\n    <tr>\n      <th>54</th>\n      <td>VALORANT</td>\n      <td>lore discussion</td>\n      <td>2450</td>\n    </tr>\n    <tr>\n      <th>55</th>\n      <td>pokemongo</td>\n      <td>lore discussion</td>\n      <td>2049</td>\n    </tr>\n    <tr>\n      <th>56</th>\n      <td>CallOfDutyMobile</td>\n      <td>lore discussion</td>\n      <td>2039</td>\n    </tr>\n    <tr>\n      <th>57</th>\n      <td>FIFA</td>\n      <td>story related discussion</td>\n      <td>1546</td>\n    </tr>\n    <tr>\n      <th>58</th>\n      <td>pokemongo</td>\n      <td>story related discussion</td>\n      <td>1460</td>\n    </tr>\n    <tr>\n      <th>59</th>\n      <td>RocketLeagueExchange</td>\n      <td>story related discussion</td>\n      <td>913</td>\n    </tr>\n  </tbody>\n</table>\n</div>"
          },
          "metadata": {}
        }
      ],
      "execution_count": 23,
      "metadata": {
        "jupyter": {
          "source_hidden": false,
          "outputs_hidden": false
        },
        "nteract": {
          "transient": {
            "deleting": false
          }
        },
        "gather": {
          "logged": 1700945621140
        }
      }
    },
    {
      "cell_type": "code",
      "source": [
        "import os\n",
        "CSV_DIR = os.path.join(\"Users/ky285/fall-2023-reddit-project-team-11/data\", \"csv\")\n",
        "df_label_cnt_tot.to_csv(f\"{CSV_DIR}/total_label_count.csv\", index=False)\n",
        "df_label_cnt_sub.to_csv(f\"{CSV_DIR}/game_label_count.csv\", index=False)"
      ],
      "outputs": [
        {
          "output_type": "display_data",
          "data": {
            "application/vnd.livy.statement-meta+json": {
              "spark_pool": "3c67b279-1d53-4b7a-b0d9-41cb8b4b6723",
              "session_id": "56",
              "statement_id": 29,
              "state": "finished",
              "livy_statement_state": "available",
              "queued_time": "2023-11-25T20:56:03.9965903Z",
              "session_start_time": null,
              "execution_start_time": "2023-11-25T20:56:04.1134322Z",
              "execution_finish_time": "2023-11-25T20:56:05.6491774Z",
              "spark_jobs": {
                "numbers": {
                  "SUCCEEDED": 0,
                  "UNKNOWN": 0,
                  "RUNNING": 0,
                  "FAILED": 0
                },
                "jobs": [],
                "limit": 20,
                "rule": "ALL_DESC"
              },
              "parent_msg_id": "ecc80a00-ef7a-4250-9d0e-0fff4b26a1b1"
            },
            "text/plain": "StatementMeta(3c67b279-1d53-4b7a-b0d9-41cb8b4b6723, 56, 29, Finished, Available)"
          },
          "metadata": {}
        }
      ],
      "execution_count": 24,
      "metadata": {
        "jupyter": {
          "source_hidden": false,
          "outputs_hidden": false
        },
        "nteract": {
          "transient": {
            "deleting": false
          }
        },
        "gather": {
          "logged": 1700945765809
        }
      }
    },
    {
      "cell_type": "markdown",
      "source": [
        "# train test validation split"
      ],
      "metadata": {
        "nteract": {
          "transient": {
            "deleting": false
          }
        }
      }
    },
    {
      "cell_type": "code",
      "source": [
        "df_ml = df_label.filter((col(\"label\") == \"bug report\") | (col(\"label\") == \"bug report\") | (col(\"label\") == \"gameplay discussion\") | (col(\"label\") == \"story related discussion\") | (col(\"label\") == \"lore discussion\") | (col(\"label\") == \"game items trading\"))"
      ],
      "outputs": [
        {
          "output_type": "display_data",
          "data": {
            "application/vnd.livy.statement-meta+json": {
              "spark_pool": "3c67b279-1d53-4b7a-b0d9-41cb8b4b6723",
              "session_id": "56",
              "statement_id": 30,
              "state": "finished",
              "livy_statement_state": "available",
              "queued_time": "2023-11-25T21:00:15.7903065Z",
              "session_start_time": null,
              "execution_start_time": "2023-11-25T21:00:15.9115993Z",
              "execution_finish_time": "2023-11-25T21:00:16.2013116Z",
              "spark_jobs": {
                "numbers": {
                  "SUCCEEDED": 0,
                  "UNKNOWN": 0,
                  "RUNNING": 0,
                  "FAILED": 0
                },
                "jobs": [],
                "limit": 20,
                "rule": "ALL_DESC"
              },
              "parent_msg_id": "4519dbe0-3f49-4528-b318-64e5999c5d65"
            },
            "text/plain": "StatementMeta(3c67b279-1d53-4b7a-b0d9-41cb8b4b6723, 56, 30, Finished, Available)"
          },
          "metadata": {}
        }
      ],
      "execution_count": 25,
      "metadata": {
        "jupyter": {
          "source_hidden": false,
          "outputs_hidden": false
        },
        "nteract": {
          "transient": {
            "deleting": false
          }
        },
        "gather": {
          "logged": 1700946016286
        }
      }
    },
    {
      "cell_type": "code",
      "source": [
        "train_data, test_data, val_data = df_ml.randomSplit([0.8, 0.18, 0.02], 24)"
      ],
      "outputs": [
        {
          "output_type": "display_data",
          "data": {
            "application/vnd.livy.statement-meta+json": {
              "spark_pool": "3c67b279-1d53-4b7a-b0d9-41cb8b4b6723",
              "session_id": "56",
              "statement_id": 31,
              "state": "finished",
              "livy_statement_state": "available",
              "queued_time": "2023-11-25T21:01:57.6392487Z",
              "session_start_time": null,
              "execution_start_time": "2023-11-25T21:01:57.7553769Z",
              "execution_finish_time": "2023-11-25T21:01:58.0966744Z",
              "spark_jobs": {
                "numbers": {
                  "SUCCEEDED": 0,
                  "UNKNOWN": 0,
                  "RUNNING": 0,
                  "FAILED": 0
                },
                "jobs": [],
                "limit": 20,
                "rule": "ALL_DESC"
              },
              "parent_msg_id": "e64c92a4-728b-41bd-bd7b-c59268a43a25"
            },
            "text/plain": "StatementMeta(3c67b279-1d53-4b7a-b0d9-41cb8b4b6723, 56, 31, Finished, Available)"
          },
          "metadata": {}
        }
      ],
      "execution_count": 26,
      "metadata": {
        "jupyter": {
          "source_hidden": false,
          "outputs_hidden": false
        },
        "nteract": {
          "transient": {
            "deleting": false
          }
        },
        "gather": {
          "logged": 1700946118275
        }
      }
    },
    {
      "cell_type": "code",
      "source": [
        "print(\"Number of training records: \" + str(train_data.count()))\n",
        "print(\"Number of testing records : \" + str(test_data.count()))\n",
        "print(\"Number of validation records : \" + str(val_data.count()))\n",
        "train_data.cache()"
      ],
      "outputs": [
        {
          "output_type": "display_data",
          "data": {
            "application/vnd.livy.statement-meta+json": {
              "spark_pool": "3c67b279-1d53-4b7a-b0d9-41cb8b4b6723",
              "session_id": "56",
              "statement_id": 32,
              "state": "finished",
              "livy_statement_state": "available",
              "queued_time": "2023-11-25T21:02:12.9339109Z",
              "session_start_time": null,
              "execution_start_time": "2023-11-25T21:02:13.0300106Z",
              "execution_finish_time": "2023-11-25T21:22:17.9672129Z",
              "spark_jobs": {
                "numbers": {
                  "SUCCEEDED": 6,
                  "UNKNOWN": 0,
                  "RUNNING": 0,
                  "FAILED": 0
                },
                "jobs": [
                  {
                    "displayName": "count at NativeMethodAccessorImpl.java:0",
                    "dataWritten": 0,
                    "dataRead": 181714,
                    "rowCount": 3080,
                    "usageDescription": "",
                    "jobId": 29,
                    "name": "count at NativeMethodAccessorImpl.java:0",
                    "description": "Job group for statement 32:\nprint(\"Number of training records: \" + str(train_data.count()))\nprint(\"Number of testing records : \" + str(test_data.count()))\nprint(\"Number of validation records : \" + str(val_data.count()))\ntrain_data.cache()",
                    "submissionTime": "2023-11-25T21:22:17.394GMT",
                    "completionTime": "2023-11-25T21:22:17.617GMT",
                    "stageIds": [
                      39,
                      40
                    ],
                    "jobGroup": "32",
                    "status": "SUCCEEDED",
                    "numTasks": 3081,
                    "numActiveTasks": 0,
                    "numCompletedTasks": 1,
                    "numSkippedTasks": 3080,
                    "numFailedTasks": 0,
                    "numKilledTasks": 0,
                    "numCompletedIndices": 1,
                    "numActiveStages": 0,
                    "numCompletedStages": 1,
                    "numSkippedStages": 1,
                    "numFailedStages": 0,
                    "killedTasksSummary": {}
                  },
                  {
                    "displayName": "count at NativeMethodAccessorImpl.java:0",
                    "dataWritten": 181714,
                    "dataRead": 1015824676,
                    "rowCount": 6160,
                    "usageDescription": "",
                    "jobId": 28,
                    "name": "count at NativeMethodAccessorImpl.java:0",
                    "description": "Job group for statement 32:\nprint(\"Number of training records: \" + str(train_data.count()))\nprint(\"Number of testing records : \" + str(test_data.count()))\nprint(\"Number of validation records : \" + str(val_data.count()))\ntrain_data.cache()",
                    "submissionTime": "2023-11-25T21:15:38.535GMT",
                    "completionTime": "2023-11-25T21:22:17.368GMT",
                    "stageIds": [
                      38
                    ],
                    "jobGroup": "32",
                    "status": "SUCCEEDED",
                    "numTasks": 3080,
                    "numActiveTasks": 0,
                    "numCompletedTasks": 3080,
                    "numSkippedTasks": 0,
                    "numFailedTasks": 0,
                    "numKilledTasks": 0,
                    "numCompletedIndices": 3080,
                    "numActiveStages": 0,
                    "numCompletedStages": 1,
                    "numSkippedStages": 0,
                    "numFailedStages": 0,
                    "killedTasksSummary": {}
                  },
                  {
                    "displayName": "count at NativeMethodAccessorImpl.java:0",
                    "dataWritten": 0,
                    "dataRead": 181720,
                    "rowCount": 3080,
                    "usageDescription": "",
                    "jobId": 27,
                    "name": "count at NativeMethodAccessorImpl.java:0",
                    "description": "Job group for statement 32:\nprint(\"Number of training records: \" + str(train_data.count()))\nprint(\"Number of testing records : \" + str(test_data.count()))\nprint(\"Number of validation records : \" + str(val_data.count()))\ntrain_data.cache()",
                    "submissionTime": "2023-11-25T21:15:38.061GMT",
                    "completionTime": "2023-11-25T21:15:38.269GMT",
                    "stageIds": [
                      37,
                      36
                    ],
                    "jobGroup": "32",
                    "status": "SUCCEEDED",
                    "numTasks": 3081,
                    "numActiveTasks": 0,
                    "numCompletedTasks": 1,
                    "numSkippedTasks": 3080,
                    "numFailedTasks": 0,
                    "numKilledTasks": 0,
                    "numCompletedIndices": 1,
                    "numActiveStages": 0,
                    "numCompletedStages": 1,
                    "numSkippedStages": 1,
                    "numFailedStages": 0,
                    "killedTasksSummary": {}
                  },
                  {
                    "displayName": "count at NativeMethodAccessorImpl.java:0",
                    "dataWritten": 181720,
                    "dataRead": 1014774705,
                    "rowCount": 6160,
                    "usageDescription": "",
                    "jobId": 26,
                    "name": "count at NativeMethodAccessorImpl.java:0",
                    "description": "Job group for statement 32:\nprint(\"Number of training records: \" + str(train_data.count()))\nprint(\"Number of testing records : \" + str(test_data.count()))\nprint(\"Number of validation records : \" + str(val_data.count()))\ntrain_data.cache()",
                    "submissionTime": "2023-11-25T21:08:54.118GMT",
                    "completionTime": "2023-11-25T21:15:38.024GMT",
                    "stageIds": [
                      35
                    ],
                    "jobGroup": "32",
                    "status": "SUCCEEDED",
                    "numTasks": 3080,
                    "numActiveTasks": 0,
                    "numCompletedTasks": 3080,
                    "numSkippedTasks": 0,
                    "numFailedTasks": 0,
                    "numKilledTasks": 0,
                    "numCompletedIndices": 3080,
                    "numActiveStages": 0,
                    "numCompletedStages": 1,
                    "numSkippedStages": 0,
                    "numFailedStages": 0,
                    "killedTasksSummary": {}
                  },
                  {
                    "displayName": "count at NativeMethodAccessorImpl.java:0",
                    "dataWritten": 0,
                    "dataRead": 181707,
                    "rowCount": 3080,
                    "usageDescription": "",
                    "jobId": 25,
                    "name": "count at NativeMethodAccessorImpl.java:0",
                    "description": "Job group for statement 32:\nprint(\"Number of training records: \" + str(train_data.count()))\nprint(\"Number of testing records : \" + str(test_data.count()))\nprint(\"Number of validation records : \" + str(val_data.count()))\ntrain_data.cache()",
                    "submissionTime": "2023-11-25T21:08:53.553GMT",
                    "completionTime": "2023-11-25T21:08:53.779GMT",
                    "stageIds": [
                      33,
                      34
                    ],
                    "jobGroup": "32",
                    "status": "SUCCEEDED",
                    "numTasks": 3081,
                    "numActiveTasks": 0,
                    "numCompletedTasks": 1,
                    "numSkippedTasks": 3080,
                    "numFailedTasks": 0,
                    "numKilledTasks": 0,
                    "numCompletedIndices": 1,
                    "numActiveStages": 0,
                    "numCompletedStages": 1,
                    "numSkippedStages": 1,
                    "numFailedStages": 0,
                    "killedTasksSummary": {}
                  },
                  {
                    "displayName": "count at NativeMethodAccessorImpl.java:0",
                    "dataWritten": 181707,
                    "dataRead": 1016037652,
                    "rowCount": 6160,
                    "usageDescription": "",
                    "jobId": 24,
                    "name": "count at NativeMethodAccessorImpl.java:0",
                    "description": "Job group for statement 32:\nprint(\"Number of training records: \" + str(train_data.count()))\nprint(\"Number of testing records : \" + str(test_data.count()))\nprint(\"Number of validation records : \" + str(val_data.count()))\ntrain_data.cache()",
                    "submissionTime": "2023-11-25T21:02:13.365GMT",
                    "completionTime": "2023-11-25T21:08:53.504GMT",
                    "stageIds": [
                      32
                    ],
                    "jobGroup": "32",
                    "status": "SUCCEEDED",
                    "numTasks": 3080,
                    "numActiveTasks": 0,
                    "numCompletedTasks": 3080,
                    "numSkippedTasks": 0,
                    "numFailedTasks": 0,
                    "numKilledTasks": 0,
                    "numCompletedIndices": 3080,
                    "numActiveStages": 0,
                    "numCompletedStages": 1,
                    "numSkippedStages": 0,
                    "numFailedStages": 0,
                    "killedTasksSummary": {}
                  }
                ],
                "limit": 20,
                "rule": "ALL_DESC"
              },
              "parent_msg_id": "f8fa06ab-ce2b-4aaf-929d-b67ab5591fcd"
            },
            "text/plain": "StatementMeta(3c67b279-1d53-4b7a-b0d9-41cb8b4b6723, 56, 32, Finished, Available)"
          },
          "metadata": {}
        },
        {
          "output_type": "stream",
          "name": "stdout",
          "text": "Number of training records: 932198\nNumber of testing records : 210806\nNumber of validation records : 23708\n"
        },
        {
          "output_type": "execute_result",
          "execution_count": 63,
          "data": {
            "text/plain": "DataFrame[subreddit: string, title: string, selftext: string, text: string, text_lower: string, label: string]"
          },
          "metadata": {}
        }
      ],
      "execution_count": 27,
      "metadata": {
        "jupyter": {
          "source_hidden": false,
          "outputs_hidden": false
        },
        "nteract": {
          "transient": {
            "deleting": false
          }
        },
        "gather": {
          "logged": 1700947338409
        }
      }
    }
  ],
  "metadata": {
    "language_info": {
      "name": "python",
      "version": "3.8.0",
      "mimetype": "text/x-python",
      "file_extension": ".py",
      "pygments_lexer": "ipython",
      "codemirror_mode": "ipython",
      "nbconvert_exporter": "python"
    },
    "orig_nbformat": 4,
    "microsoft": {
      "ms_spell_check": {
        "ms_spell_check_language": "en"
      },
      "host": {
        "AzureML": {
          "notebookHasBeenCompleted": true
        }
      }
    },
    "kernelspec": {
      "name": "synapse_pyspark",
      "language": "Python",
      "display_name": "Synapse PySpark"
    },
    "kernel_info": {
      "name": "synapse_pyspark"
    },
    "nteract": {
      "version": "nteract-front-end@1.0.0"
    }
  },
  "nbformat": 4,
  "nbformat_minor": 2
}