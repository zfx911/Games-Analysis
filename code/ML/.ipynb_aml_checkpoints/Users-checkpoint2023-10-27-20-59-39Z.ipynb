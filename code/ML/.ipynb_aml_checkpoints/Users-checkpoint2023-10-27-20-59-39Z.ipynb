{
  "cells": [
    {
      "cell_type": "code",
      "source": [
        "spark"
      ],
      "outputs": [
        {
          "output_type": "display_data",
          "data": {
            "application/vnd.livy.statement-meta+json": {
              "spark_pool": "3c67b279-1d53-4b7a-b0d9-41cb8b4b6723",
              "session_id": "60",
              "statement_id": 6,
              "state": "finished",
              "livy_statement_state": "available",
              "queued_time": "2023-11-27T20:13:27.2542668Z",
              "session_start_time": "2023-11-27T20:13:27.2922674Z",
              "execution_start_time": "2023-11-27T20:17:03.3782193Z",
              "execution_finish_time": "2023-11-27T20:17:06.3179777Z",
              "spark_jobs": {
                "numbers": {
                  "FAILED": 0,
                  "RUNNING": 0,
                  "SUCCEEDED": 0,
                  "UNKNOWN": 0
                },
                "jobs": [],
                "limit": 20,
                "rule": "ALL_DESC"
              },
              "parent_msg_id": "6cea770d-d7bb-40e9-886f-73f3fa566b7d"
            },
            "text/plain": "StatementMeta(3c67b279-1d53-4b7a-b0d9-41cb8b4b6723, 60, 6, Finished, Available)"
          },
          "metadata": {}
        },
        {
          "output_type": "execute_result",
          "execution_count": 11,
          "data": {
            "text/plain": "<pyspark.sql.session.SparkSession at 0x7fd72ac75970>",
            "text/html": "\n            <div>\n                <p><b>SparkSession - hive</b></p>\n                \n        <div>\n            <p><b>SparkContext</b></p>\n\n            <p><a href=\"http://vm-17d34650:38357\">Spark UI</a></p>\n\n            <dl>\n              <dt>Version</dt>\n                <dd><code>v3.2.2.5.1-100879434</code></dd>\n              <dt>Master</dt>\n                <dd><code>yarn</code></dd>\n              <dt>AppName</dt>\n                <dd><code>Azure ML Experiment</code></dd>\n            </dl>\n        </div>\n        \n            </div>\n        "
          },
          "metadata": {}
        }
      ],
      "execution_count": 1,
      "metadata": {
        "gather": {
          "logged": 1701116225982
        }
      }
    },
    {
      "cell_type": "code",
      "source": [
        "# Set up data configuration\n",
        "blob_account_name = \"marckvnonprodblob\"\n",
        "blob_container_name = \"bigdata\"\n",
        "# read only\n",
        "blob_sas_token = \"?sv=2021-10-04&st=2023-10-04T01%3A42%3A59Z&se=2024-01-02T02%3A42%3A00Z&sr=c&sp=rlf&sig=w3CH9MbCOpwO7DtHlrahc7AlRPxSZZb8MOgS6TaXLzI%3D\"\n",
        "\n",
        "wasbs_base_url = (\n",
        "    f\"wasbs://{blob_container_name}@{blob_account_name}.blob.core.windows.net/\"\n",
        ")\n",
        "spark.conf.set(\n",
        "    f\"fs.azure.sas.{blob_container_name}.{blob_account_name}.blob.core.windows.net\",\n",
        "    blob_sas_token,\n",
        ")\n"
      ],
      "outputs": [
        {
          "output_type": "display_data",
          "data": {
            "application/vnd.livy.statement-meta+json": {
              "spark_pool": "3c67b279-1d53-4b7a-b0d9-41cb8b4b6723",
              "session_id": "60",
              "statement_id": 7,
              "state": "finished",
              "livy_statement_state": "available",
              "queued_time": "2023-11-27T20:15:41.9633523Z",
              "session_start_time": null,
              "execution_start_time": "2023-11-27T20:17:06.4451706Z",
              "execution_finish_time": "2023-11-27T20:17:07.2826508Z",
              "spark_jobs": {
                "numbers": {
                  "FAILED": 0,
                  "RUNNING": 0,
                  "SUCCEEDED": 0,
                  "UNKNOWN": 0
                },
                "jobs": [],
                "limit": 20,
                "rule": "ALL_DESC"
              },
              "parent_msg_id": "7ce11c02-4ed5-4328-8a06-d7e60e2611e8"
            },
            "text/plain": "StatementMeta(3c67b279-1d53-4b7a-b0d9-41cb8b4b6723, 60, 7, Finished, Available)"
          },
          "metadata": {}
        }
      ],
      "execution_count": 2,
      "metadata": {
        "jupyter": {
          "source_hidden": false,
          "outputs_hidden": false
        },
        "nteract": {
          "transient": {
            "deleting": false
          }
        },
        "gather": {
          "logged": 1701116226681
        }
      }
    },
    {
      "cell_type": "code",
      "source": [
        "# Read the whole Reddit data\n",
        "\n",
        "comments_path = \"reddit-parquet/comments/\"\n",
        "submissions_path = \"reddit-parquet/submissions/\""
      ],
      "outputs": [
        {
          "output_type": "display_data",
          "data": {
            "application/vnd.livy.statement-meta+json": {
              "spark_pool": "3c67b279-1d53-4b7a-b0d9-41cb8b4b6723",
              "session_id": "60",
              "statement_id": 8,
              "state": "finished",
              "livy_statement_state": "available",
              "queued_time": "2023-11-27T20:15:45.2692528Z",
              "session_start_time": null,
              "execution_start_time": "2023-11-27T20:17:07.3902953Z",
              "execution_finish_time": "2023-11-27T20:17:07.6968734Z",
              "spark_jobs": {
                "numbers": {
                  "FAILED": 0,
                  "RUNNING": 0,
                  "SUCCEEDED": 0,
                  "UNKNOWN": 0
                },
                "jobs": [],
                "limit": 20,
                "rule": "ALL_DESC"
              },
              "parent_msg_id": "171a0d4a-5260-4bc4-97f3-008bc7c69ca2"
            },
            "text/plain": "StatementMeta(3c67b279-1d53-4b7a-b0d9-41cb8b4b6723, 60, 8, Finished, Available)"
          },
          "metadata": {}
        }
      ],
      "execution_count": 3,
      "metadata": {
        "jupyter": {
          "source_hidden": false,
          "outputs_hidden": false
        },
        "nteract": {
          "transient": {
            "deleting": false
          }
        },
        "gather": {
          "logged": 1701116227087
        }
      }
    },
    {
      "cell_type": "code",
      "source": [
        "comments_df = spark.read.parquet(f\"{wasbs_base_url}{comments_path}\")\n",
        "submissions_df = spark.read.parquet(f\"{wasbs_base_url}{submissions_path}\")"
      ],
      "outputs": [
        {
          "output_type": "display_data",
          "data": {
            "application/vnd.livy.statement-meta+json": {
              "spark_pool": "3c67b279-1d53-4b7a-b0d9-41cb8b4b6723",
              "session_id": "60",
              "statement_id": 9,
              "state": "finished",
              "livy_statement_state": "available",
              "queued_time": "2023-11-27T20:15:46.5549018Z",
              "session_start_time": null,
              "execution_start_time": "2023-11-27T20:17:07.8670417Z",
              "execution_finish_time": "2023-11-27T20:17:46.9224373Z",
              "spark_jobs": {
                "numbers": {
                  "FAILED": 0,
                  "RUNNING": 0,
                  "SUCCEEDED": 2,
                  "UNKNOWN": 0
                },
                "jobs": [
                  {
                    "displayName": "parquet at NativeMethodAccessorImpl.java:0",
                    "dataWritten": 0,
                    "dataRead": 0,
                    "rowCount": 0,
                    "usageDescription": "",
                    "jobId": 1,
                    "name": "parquet at NativeMethodAccessorImpl.java:0",
                    "description": "Job group for statement 9:\ncomments_df = spark.read.parquet(f\"{wasbs_base_url}{comments_path}\")\nsubmissions_df = spark.read.parquet(f\"{wasbs_base_url}{submissions_path}\")",
                    "submissionTime": "2023-11-27T20:17:40.239GMT",
                    "completionTime": "2023-11-27T20:17:44.982GMT",
                    "stageIds": [
                      1
                    ],
                    "jobGroup": "9",
                    "status": "SUCCEEDED",
                    "numTasks": 1,
                    "numActiveTasks": 0,
                    "numCompletedTasks": 1,
                    "numSkippedTasks": 0,
                    "numFailedTasks": 0,
                    "numKilledTasks": 0,
                    "numCompletedIndices": 1,
                    "numActiveStages": 0,
                    "numCompletedStages": 1,
                    "numSkippedStages": 0,
                    "numFailedStages": 0,
                    "killedTasksSummary": {}
                  },
                  {
                    "displayName": "parquet at NativeMethodAccessorImpl.java:0",
                    "dataWritten": 0,
                    "dataRead": 0,
                    "rowCount": 0,
                    "usageDescription": "",
                    "jobId": 0,
                    "name": "parquet at NativeMethodAccessorImpl.java:0",
                    "description": "Job group for statement 9:\ncomments_df = spark.read.parquet(f\"{wasbs_base_url}{comments_path}\")\nsubmissions_df = spark.read.parquet(f\"{wasbs_base_url}{submissions_path}\")",
                    "submissionTime": "2023-11-27T20:17:25.290GMT",
                    "completionTime": "2023-11-27T20:17:32.693GMT",
                    "stageIds": [
                      0
                    ],
                    "jobGroup": "9",
                    "status": "SUCCEEDED",
                    "numTasks": 1,
                    "numActiveTasks": 0,
                    "numCompletedTasks": 1,
                    "numSkippedTasks": 0,
                    "numFailedTasks": 0,
                    "numKilledTasks": 0,
                    "numCompletedIndices": 1,
                    "numActiveStages": 0,
                    "numCompletedStages": 1,
                    "numSkippedStages": 0,
                    "numFailedStages": 0,
                    "killedTasksSummary": {}
                  }
                ],
                "limit": 20,
                "rule": "ALL_DESC"
              },
              "parent_msg_id": "1107afee-4e60-4cd1-b432-865958c19d8b"
            },
            "text/plain": "StatementMeta(3c67b279-1d53-4b7a-b0d9-41cb8b4b6723, 60, 9, Finished, Available)"
          },
          "metadata": {}
        }
      ],
      "execution_count": 4,
      "metadata": {
        "jupyter": {
          "source_hidden": false,
          "outputs_hidden": false
        },
        "nteract": {
          "transient": {
            "deleting": false
          }
        },
        "gather": {
          "logged": 1701116266375
        }
      }
    },
    {
      "cell_type": "code",
      "source": [
        "submissions_df.rdd.getNumPartitions()"
      ],
      "outputs": [
        {
          "output_type": "display_data",
          "data": {
            "application/vnd.livy.statement-meta+json": {
              "spark_pool": "3c67b279-1d53-4b7a-b0d9-41cb8b4b6723",
              "session_id": "60",
              "statement_id": 10,
              "state": "finished",
              "livy_statement_state": "available",
              "queued_time": "2023-11-27T20:15:47.7638169Z",
              "session_start_time": null,
              "execution_start_time": "2023-11-27T20:17:47.032785Z",
              "execution_finish_time": "2023-11-27T20:17:48.5836511Z",
              "spark_jobs": {
                "numbers": {
                  "FAILED": 0,
                  "RUNNING": 0,
                  "SUCCEEDED": 0,
                  "UNKNOWN": 0
                },
                "jobs": [],
                "limit": 20,
                "rule": "ALL_DESC"
              },
              "parent_msg_id": "a19e70b7-decb-4307-b1e3-b9aaa0c4dc8f"
            },
            "text/plain": "StatementMeta(3c67b279-1d53-4b7a-b0d9-41cb8b4b6723, 60, 10, Finished, Available)"
          },
          "metadata": {}
        },
        {
          "output_type": "execute_result",
          "execution_count": 19,
          "data": {
            "text/plain": "3080"
          },
          "metadata": {}
        }
      ],
      "execution_count": 5,
      "metadata": {
        "jupyter": {
          "source_hidden": false,
          "outputs_hidden": false
        },
        "nteract": {
          "transient": {
            "deleting": false
          }
        },
        "gather": {
          "logged": 1701116268074
        }
      }
    },
    {
      "cell_type": "code",
      "source": [
        "from pyspark.sql.functions import col, asc,desc\n",
        "submissions_filtered = submissions_df.filter(col(\"subreddit\").isin([\"Minecraft\", \"Eldenring\",\"Genshin_Impact\",\"pokemongo\",\"RocketLeagueExchange\",\"VALORANT\",\"DestinyTheGame\",\"CallOfDutyMobile\",\"FIFA\",\"pokemon\"]))"
      ],
      "outputs": [
        {
          "output_type": "display_data",
          "data": {
            "application/vnd.livy.statement-meta+json": {
              "spark_pool": "3c67b279-1d53-4b7a-b0d9-41cb8b4b6723",
              "session_id": "60",
              "statement_id": 11,
              "state": "finished",
              "livy_statement_state": "available",
              "queued_time": "2023-11-27T20:15:48.9997356Z",
              "session_start_time": null,
              "execution_start_time": "2023-11-27T20:17:48.7632634Z",
              "execution_finish_time": "2023-11-27T20:17:49.5838621Z",
              "spark_jobs": {
                "numbers": {
                  "FAILED": 0,
                  "RUNNING": 0,
                  "SUCCEEDED": 0,
                  "UNKNOWN": 0
                },
                "jobs": [],
                "limit": 20,
                "rule": "ALL_DESC"
              },
              "parent_msg_id": "69de132a-750e-484c-af33-eae80377b629"
            },
            "text/plain": "StatementMeta(3c67b279-1d53-4b7a-b0d9-41cb8b4b6723, 60, 11, Finished, Available)"
          },
          "metadata": {}
        }
      ],
      "execution_count": 6,
      "metadata": {
        "jupyter": {
          "source_hidden": false,
          "outputs_hidden": false
        },
        "nteract": {
          "transient": {
            "deleting": false
          }
        },
        "gather": {
          "logged": 1701116269008
        }
      }
    },
    {
      "cell_type": "code",
      "source": [
        "# display a subset of columns\n",
        "submissions_filtered.select(\"subreddit\", \"author\", \"title\", \"selftext\", \"num_comments\", \"score\").show()"
      ],
      "outputs": [
        {
          "output_type": "display_data",
          "data": {
            "application/vnd.livy.statement-meta+json": {
              "spark_pool": "3c67b279-1d53-4b7a-b0d9-41cb8b4b6723",
              "session_id": "60",
              "statement_id": 12,
              "state": "finished",
              "livy_statement_state": "available",
              "queued_time": "2023-11-27T20:15:50.3157976Z",
              "session_start_time": null,
              "execution_start_time": "2023-11-27T20:17:49.6982506Z",
              "execution_finish_time": "2023-11-27T20:17:56.1178176Z",
              "spark_jobs": {
                "numbers": {
                  "FAILED": 0,
                  "RUNNING": 0,
                  "SUCCEEDED": 1,
                  "UNKNOWN": 0
                },
                "jobs": [
                  {
                    "displayName": "showString at NativeMethodAccessorImpl.java:0",
                    "dataWritten": 0,
                    "dataRead": 9194465,
                    "rowCount": 8192,
                    "usageDescription": "",
                    "jobId": 2,
                    "name": "showString at NativeMethodAccessorImpl.java:0",
                    "description": "Job group for statement 12:\n# display a subset of columns\nsubmissions_filtered.select(\"subreddit\", \"author\", \"title\", \"selftext\", \"num_comments\", \"score\").show()",
                    "submissionTime": "2023-11-27T20:17:51.081GMT",
                    "completionTime": "2023-11-27T20:17:54.594GMT",
                    "stageIds": [
                      2
                    ],
                    "jobGroup": "12",
                    "status": "SUCCEEDED",
                    "numTasks": 1,
                    "numActiveTasks": 0,
                    "numCompletedTasks": 1,
                    "numSkippedTasks": 0,
                    "numFailedTasks": 0,
                    "numKilledTasks": 0,
                    "numCompletedIndices": 1,
                    "numActiveStages": 0,
                    "numCompletedStages": 1,
                    "numSkippedStages": 0,
                    "numFailedStages": 0,
                    "killedTasksSummary": {}
                  }
                ],
                "limit": 20,
                "rule": "ALL_DESC"
              },
              "parent_msg_id": "93570b6e-da03-47c7-9c26-41e5195440e6"
            },
            "text/plain": "StatementMeta(3c67b279-1d53-4b7a-b0d9-41cb8b4b6723, 60, 12, Finished, Available)"
          },
          "metadata": {}
        },
        {
          "output_type": "stream",
          "name": "stdout",
          "text": "+--------------------+--------------------+--------------------+--------------------+------------+-----+\n|           subreddit|              author|               title|            selftext|num_comments|score|\n+--------------------+--------------------+--------------------+--------------------+------------+-----+\n|                FIFA|       Robert-Fulton|if you every get ...|                    |          12|    0|\n|           Minecraft|          Dogeisagod|     Texting a house|So I’m building a...|           3|    1|\n|            VALORANT|     Status_Bet_8034|       Killjoy Mains|Got bored and so ...|           2|    2|\n|           Minecraft|         Age_Natural|Trident skeleton ...|                    |           3|    3|\n|             pokemon|     OneWhoGetsBread|the PokemonTogeth...|So several days a...|           0|    6|\n|            VALORANT|  MajesticDoughnut10|Weekly's not addi...|Since the new wee...|           1|    3|\n|                FIFA|           [deleted]|should i select o...|           [removed]|           0|    1|\n|RocketLeagueExchange|           [deleted]|[Xbox] [H] Bundle...|           [deleted]|           0|    1|\n|            VALORANT|  EditorValuable5514|did they add to r...|                    |           1|    1|\n|           pokemongo|RecentIntroduction32|Why the hell are ...|                    |           7|    0|\n|      DestinyTheGame|          13zerocool|Why are hunters s...|           [removed]|           0|    1|\n|           Eldenring|           [deleted]|A Collection of u...|           [removed]|           0|    1|\n|           Eldenring|      kylanskribbles|What is going on??!!|                    |           1|    2|\n|           Minecraft|       elicrodriguez|1.19.4 Pre-releas...|I’m pretty upset ...|           2|    1|\n|           pokemongo|         Ben_In_Utah|Got a Rayquaza on...|           [removed]|           0|    1|\n|           Eldenring|            2voluted|Malenia nerfed/ch...|I haven't seen an...|           4|    0|\n|                FIFA|              vdmg17| Team of the week 17|                    |           0|    1|\n|RocketLeagueExchange|            Gloctane|[xbox] [h] OG Tac...|                    |           5|    3|\n|            VALORANT|           Cryptanic|I love the matchm...|                    |           1|    1|\n|           pokemongo|        MrVioleGrace|Is there an event...|                    |           6|    0|\n+--------------------+--------------------+--------------------+--------------------+------------+-----+\nonly showing top 20 rows\n\n"
        }
      ],
      "execution_count": 7,
      "metadata": {
        "jupyter": {
          "source_hidden": false,
          "outputs_hidden": false
        },
        "nteract": {
          "transient": {
            "deleting": false
          }
        },
        "gather": {
          "logged": 1701116275554
        }
      }
    },
    {
      "cell_type": "code",
      "source": [
        "df_use = submissions_filtered.select(\"subreddit\", \"author\", \"title\", \"selftext\", \"num_comments\", \"score\").cache()"
      ],
      "outputs": [
        {
          "output_type": "display_data",
          "data": {
            "application/vnd.livy.statement-meta+json": {
              "spark_pool": "3c67b279-1d53-4b7a-b0d9-41cb8b4b6723",
              "session_id": "60",
              "statement_id": 17,
              "state": "finished",
              "livy_statement_state": "available",
              "queued_time": "2023-11-27T20:19:29.0754859Z",
              "session_start_time": null,
              "execution_start_time": "2023-11-27T20:19:29.1897875Z",
              "execution_finish_time": "2023-11-27T20:19:29.5031982Z",
              "spark_jobs": {
                "numbers": {
                  "FAILED": 0,
                  "RUNNING": 0,
                  "SUCCEEDED": 0,
                  "UNKNOWN": 0
                },
                "jobs": [],
                "limit": 20,
                "rule": "ALL_DESC"
              },
              "parent_msg_id": "7e20ceb1-766f-4757-b76e-3306919e07f4"
            },
            "text/plain": "StatementMeta(3c67b279-1d53-4b7a-b0d9-41cb8b4b6723, 60, 17, Finished, Available)"
          },
          "metadata": {}
        }
      ],
      "execution_count": 12,
      "metadata": {
        "jupyter": {
          "source_hidden": false,
          "outputs_hidden": false
        },
        "nteract": {
          "transient": {
            "deleting": false
          }
        },
        "gather": {
          "logged": 1701116368926
        }
      }
    },
    {
      "cell_type": "code",
      "source": [
        "df_use.show(5)"
      ],
      "outputs": [
        {
          "output_type": "display_data",
          "data": {
            "application/vnd.livy.statement-meta+json": {
              "spark_pool": "3c67b279-1d53-4b7a-b0d9-41cb8b4b6723",
              "session_id": "60",
              "statement_id": 27,
              "state": "finished",
              "livy_statement_state": "available",
              "queued_time": "2023-11-27T20:26:22.1208979Z",
              "session_start_time": null,
              "execution_start_time": "2023-11-27T20:26:22.2155626Z",
              "execution_finish_time": "2023-11-27T20:26:23.0339304Z",
              "spark_jobs": {
                "numbers": {
                  "FAILED": 0,
                  "RUNNING": 0,
                  "SUCCEEDED": 1,
                  "UNKNOWN": 0
                },
                "jobs": [
                  {
                    "displayName": "showString at NativeMethodAccessorImpl.java:0",
                    "dataWritten": 0,
                    "dataRead": 209848,
                    "rowCount": 1,
                    "usageDescription": "",
                    "jobId": 4,
                    "name": "showString at NativeMethodAccessorImpl.java:0",
                    "description": "Job group for statement 27:\ndf_use.show(5)",
                    "submissionTime": "2023-11-27T20:26:22.339GMT",
                    "completionTime": "2023-11-27T20:26:22.442GMT",
                    "stageIds": [
                      4
                    ],
                    "jobGroup": "27",
                    "status": "SUCCEEDED",
                    "numTasks": 1,
                    "numActiveTasks": 0,
                    "numCompletedTasks": 1,
                    "numSkippedTasks": 0,
                    "numFailedTasks": 0,
                    "numKilledTasks": 0,
                    "numCompletedIndices": 1,
                    "numActiveStages": 0,
                    "numCompletedStages": 1,
                    "numSkippedStages": 0,
                    "numFailedStages": 0,
                    "killedTasksSummary": {}
                  }
                ],
                "limit": 20,
                "rule": "ALL_DESC"
              },
              "parent_msg_id": "9f27481f-860b-4419-9d95-1ccbac319487"
            },
            "text/plain": "StatementMeta(3c67b279-1d53-4b7a-b0d9-41cb8b4b6723, 60, 27, Finished, Available)"
          },
          "metadata": {}
        },
        {
          "output_type": "stream",
          "name": "stdout",
          "text": "+---------+---------------+--------------------+--------------------+------------+-----+\n|subreddit|         author|               title|            selftext|num_comments|score|\n+---------+---------------+--------------------+--------------------+------------+-----+\n|     FIFA|  Robert-Fulton|if you every get ...|                    |          12|    0|\n|Minecraft|     Dogeisagod|     Texting a house|So I’m building a...|           3|    1|\n| VALORANT|Status_Bet_8034|       Killjoy Mains|Got bored and so ...|           2|    2|\n|Minecraft|    Age_Natural|Trident skeleton ...|                    |           3|    3|\n|  pokemon|OneWhoGetsBread|the PokemonTogeth...|So several days a...|           0|    6|\n+---------+---------------+--------------------+--------------------+------------+-----+\nonly showing top 5 rows\n\n"
        }
      ],
      "execution_count": 22,
      "metadata": {
        "jupyter": {
          "source_hidden": false,
          "outputs_hidden": false
        },
        "nteract": {
          "transient": {
            "deleting": false
          }
        },
        "gather": {
          "logged": 1701116782458
        }
      }
    },
    {
      "cell_type": "code",
      "source": [
        "from pyspark.sql.functions import col"
      ],
      "outputs": [
        {
          "output_type": "display_data",
          "data": {
            "application/vnd.livy.statement-meta+json": {
              "spark_pool": "3c67b279-1d53-4b7a-b0d9-41cb8b4b6723",
              "session_id": "60",
              "statement_id": 25,
              "state": "finished",
              "livy_statement_state": "available",
              "queued_time": "2023-11-27T20:26:13.3867448Z",
              "session_start_time": null,
              "execution_start_time": "2023-11-27T20:26:13.5066275Z",
              "execution_finish_time": "2023-11-27T20:26:13.8033501Z",
              "spark_jobs": {
                "numbers": {
                  "FAILED": 0,
                  "RUNNING": 0,
                  "SUCCEEDED": 0,
                  "UNKNOWN": 0
                },
                "jobs": [],
                "limit": 20,
                "rule": "ALL_DESC"
              },
              "parent_msg_id": "7bf3ce80-9cd2-4636-8e14-13b07f0c3006"
            },
            "text/plain": "StatementMeta(3c67b279-1d53-4b7a-b0d9-41cb8b4b6723, 60, 25, Finished, Available)"
          },
          "metadata": {}
        }
      ],
      "execution_count": 20,
      "metadata": {
        "jupyter": {
          "source_hidden": false,
          "outputs_hidden": false
        },
        "nteract": {
          "transient": {
            "deleting": false
          }
        },
        "gather": {
          "logged": 1701116773208
        }
      }
    },
    {
      "cell_type": "code",
      "source": [
        "from pyspark.sql.functions import (count,sum)"
      ],
      "outputs": [
        {
          "output_type": "display_data",
          "data": {
            "application/vnd.livy.statement-meta+json": {
              "spark_pool": "3c67b279-1d53-4b7a-b0d9-41cb8b4b6723",
              "session_id": "60",
              "statement_id": 36,
              "state": "finished",
              "livy_statement_state": "available",
              "queued_time": "2023-11-27T20:40:30.6249225Z",
              "session_start_time": null,
              "execution_start_time": "2023-11-27T20:40:30.7286807Z",
              "execution_finish_time": "2023-11-27T20:40:31.0174043Z",
              "spark_jobs": {
                "numbers": {
                  "FAILED": 0,
                  "RUNNING": 0,
                  "SUCCEEDED": 0,
                  "UNKNOWN": 0
                },
                "jobs": [],
                "limit": 20,
                "rule": "ALL_DESC"
              },
              "parent_msg_id": "dbe4efbe-1a26-4254-b915-6268594c61aa"
            },
            "text/plain": "StatementMeta(3c67b279-1d53-4b7a-b0d9-41cb8b4b6723, 60, 36, Finished, Available)"
          },
          "metadata": {}
        }
      ],
      "execution_count": 31,
      "metadata": {
        "jupyter": {
          "source_hidden": false,
          "outputs_hidden": false
        },
        "nteract": {
          "transient": {
            "deleting": false
          }
        },
        "gather": {
          "logged": 1701117630437
        }
      }
    },
    {
      "cell_type": "code",
      "source": [
        "# Group by 'author' and perform the required aggregations\n",
        "result_df = df_use.groupBy(col(\"author\")) \\\n",
        "    .agg(\n",
        "        col(\"author\"),\n",
        "        count(\"author\").alias(\"num_posts\"),\n",
        "        sum(\"num_comments\").alias(\"total_num_comments\"),\n",
        "        sum(\"score\").alias(\"total_score\")\n",
        "    )\n",
        "\n",
        "# Show the result DataFrame\n",
        "result_df.show()"
      ],
      "outputs": [
        {
          "output_type": "display_data",
          "data": {
            "application/vnd.livy.statement-meta+json": {
              "spark_pool": "3c67b279-1d53-4b7a-b0d9-41cb8b4b6723",
              "session_id": "60",
              "statement_id": 38,
              "state": "submitted",
              "livy_statement_state": "running",
              "queued_time": "2023-11-27T20:41:47.0797103Z",
              "session_start_time": null,
              "execution_start_time": "2023-11-27T20:41:47.1879679Z",
              "execution_finish_time": null,
              "spark_jobs": {
                "numbers": {
                  "FAILED": 0,
                  "RUNNING": 1,
                  "SUCCEEDED": 0,
                  "UNKNOWN": 0
                },
                "jobs": [
                  {
                    "displayName": "showString at NativeMethodAccessorImpl.java:0",
                    "dataWritten": 104885312,
                    "dataRead": 62605590898,
                    "rowCount": 648432269,
                    "usageDescription": "",
                    "jobId": 6,
                    "name": "showString at NativeMethodAccessorImpl.java:0",
                    "description": "Job group for statement 38:\n# Group by 'author' and perform the required aggregations\nresult_df = df_use.groupBy(col(\"author\"))     .agg(\n        col(\"author\"),\n        count(\"author\").alias(\"num_posts\"),\n        sum(\"num_comments\").alias(\"total_num_comments\"),\n        sum(\"score\").alias(\"total_score\")\n    )\n\n# Show the result DataFrame\nresult_df.show()",
                    "submissionTime": "2023-11-27T20:41:47.482GMT",
                    "stageIds": [
                      6
                    ],
                    "jobGroup": "38",
                    "status": "RUNNING",
                    "numTasks": 3080,
                    "numActiveTasks": 9,
                    "numCompletedTasks": 2302,
                    "numSkippedTasks": 0,
                    "numFailedTasks": 0,
                    "numKilledTasks": 0,
                    "numCompletedIndices": 2302,
                    "numActiveStages": 1,
                    "numCompletedStages": 0,
                    "numSkippedStages": 0,
                    "numFailedStages": 0,
                    "killedTasksSummary": {}
                  }
                ],
                "limit": 20,
                "rule": "ALL_DESC"
              },
              "parent_msg_id": "5a8ef375-242a-42b5-9e2d-7beea781c162"
            },
            "text/plain": "StatementMeta(3c67b279-1d53-4b7a-b0d9-41cb8b4b6723, 60, 38, Submitted, Running)"
          },
          "metadata": {}
        }
      ],
      "execution_count": 33,
      "metadata": {
        "jupyter": {
          "source_hidden": false,
          "outputs_hidden": false
        },
        "nteract": {
          "transient": {
            "deleting": false
          }
        },
        "gather": {
          "logged": 1701117637808
        }
      }
    },
    {
      "cell_type": "code",
      "source": [
        "# save the data\n",
        "# df_save_final=result_df.toPandas()"
      ],
      "outputs": [],
      "execution_count": null,
      "metadata": {
        "jupyter": {
          "source_hidden": false,
          "outputs_hidden": false
        },
        "nteract": {
          "transient": {
            "deleting": false
          }
        }
      }
    },
    {
      "cell_type": "code",
      "source": [
        "# import os\n",
        "# CSV_DIR = os.path.join(\"Users/zx111/fall-2023-reddit-project-team-11/data\", \"csv\")\n",
        "# df_save_finalto_csv(f\"{CSV_DIR}/User_acitive.csv\", index=False)"
      ],
      "outputs": [],
      "execution_count": null,
      "metadata": {
        "jupyter": {
          "source_hidden": false,
          "outputs_hidden": false
        },
        "nteract": {
          "transient": {
            "deleting": false
          }
        }
      }
    },
    {
      "cell_type": "code",
      "source": [
        "from pyspark.ml.feature import VectorAssembler\n",
        "from pyspark.ml.clustering import KMeans\n",
        "from pyspark.ml.evaluation import ClusteringEvaluator\n",
        "from pyspark.ml import Pipeline\n",
        "import matplotlib.pyplot as plt\n",
        "import pandas as pd"
      ],
      "outputs": [],
      "execution_count": null,
      "metadata": {
        "jupyter": {
          "source_hidden": false,
          "outputs_hidden": false
        },
        "nteract": {
          "transient": {
            "deleting": false
          }
        }
      }
    },
    {
      "cell_type": "code",
      "source": [
        "# Vectorize the features\n",
        "feature_columns = [\"num_posts\", \"total_num_comments\", \"total_score\"]\n",
        "vec_assembler = VectorAssembler(inputCols=feature_columns, outputCol=\"features\")\n",
        "df_vectorized = vec_assembler.transform(df_use)"
      ],
      "outputs": [],
      "execution_count": null,
      "metadata": {
        "jupyter": {
          "source_hidden": false,
          "outputs_hidden": false
        },
        "nteract": {
          "transient": {
            "deleting": false
          }
        }
      }
    },
    {
      "cell_type": "code",
      "source": [
        "# K-means clustering model with different hyperparameter sets\n",
        "k_values = [2, 3, 4, 5]  \n",
        "models = []\n",
        "\n",
        "results = {}\n",
        "\n",
        "for k in k_values:\n",
        "    kmeans = KMeans(k=k, seed=42)\n",
        "    model = kmeans.fit(df_vectorized)\n",
        "    predictions = model.transform(df_vectorized)\n",
        "\n",
        "    # Evaluate the clustering performance\n",
        "    evaluator = ClusteringEvaluator()\n",
        "    silhouette_score = evaluator.evaluate(predictions)\n",
        "    \n",
        "    # Save the model\n",
        "    model.save(f\"kmeans_model_k{k}\")\n",
        "\n",
        "    # Store results for later comparison\n",
        "    results[f\"K={k}\"] = silhouette_score\n"
      ],
      "outputs": [],
      "execution_count": null,
      "metadata": {
        "jupyter": {
          "source_hidden": false,
          "outputs_hidden": false
        },
        "nteract": {
          "transient": {
            "deleting": false
          }
        }
      }
    },
    {
      "cell_type": "code",
      "source": [
        "# Compare and interpret the results\n",
        "best_k = max(results, key=results.get)"
      ],
      "outputs": [],
      "execution_count": null,
      "metadata": {
        "jupyter": {
          "source_hidden": false,
          "outputs_hidden": false
        },
        "nteract": {
          "transient": {
            "deleting": false
          }
        }
      }
    },
    {
      "cell_type": "code",
      "source": [
        "# Show the best k value and corresponding silhouette score\n",
        "best_model = KMeans.load(f\"kmeans_model_{best_k.split('=')[1]}\")\n",
        "print(f\"Best K: {best_k}, Silhouette Score: {results[best_k]}\")"
      ],
      "outputs": [],
      "execution_count": null,
      "metadata": {
        "jupyter": {
          "source_hidden": false,
          "outputs_hidden": false
        },
        "nteract": {
          "transient": {
            "deleting": false
          }
        }
      }
    },
    {
      "cell_type": "code",
      "source": [],
      "outputs": [],
      "execution_count": null,
      "metadata": {
        "jupyter": {
          "source_hidden": false,
          "outputs_hidden": false
        },
        "nteract": {
          "transient": {
            "deleting": false
          }
        }
      }
    },
    {
      "cell_type": "code",
      "source": [
        "# Visualize the clusters \n",
        "predictions_pd = predictions.select(\"num_posts\", \"total_num_comments\", \"total_score\", \"prediction\").toPandas()\n",
        "\n",
        "plt.figure(figsize=(10, 7))\n",
        "plt.scatter(predictions_pd['num_posts'], predictions_pd['total_num_comments'], c=predictions_pd['prediction'], cmap='viridis')\n",
        "plt.title('K-means Clustering')\n",
        "plt.xlabel('num_posts')\n",
        "plt.ylabel('total_num_comments')\n",
        "plt.show()"
      ],
      "outputs": [],
      "execution_count": null,
      "metadata": {
        "jupyter": {
          "source_hidden": false,
          "outputs_hidden": false
        },
        "nteract": {
          "transient": {
            "deleting": false
          }
        }
      }
    }
  ],
  "metadata": {
    "kernelspec": {
      "name": "synapse_pyspark",
      "language": "Python",
      "display_name": "Synapse PySpark"
    },
    "language_info": {
      "name": "python",
      "version": "3.8.0",
      "mimetype": "text/x-python",
      "file_extension": ".py",
      "pygments_lexer": "ipython",
      "codemirror_mode": "ipython",
      "nbconvert_exporter": "python"
    },
    "microsoft": {
      "ms_spell_check": {
        "ms_spell_check_language": "en"
      }
    },
    "kernel_info": {
      "name": "synapse_pyspark"
    },
    "nteract": {
      "version": "nteract-front-end@1.0.0"
    }
  },
  "nbformat": 4,
  "nbformat_minor": 2
}