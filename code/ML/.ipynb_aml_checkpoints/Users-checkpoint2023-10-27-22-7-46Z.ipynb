{
  "cells": [
    {
      "cell_type": "code",
      "source": [
        "spark"
      ],
      "outputs": [
        {
          "output_type": "display_data",
          "data": {
            "application/vnd.livy.statement-meta+json": {
              "spark_pool": "3c67b279-1d53-4b7a-b0d9-41cb8b4b6723",
              "session_id": "60",
              "statement_id": 6,
              "state": "finished",
              "livy_statement_state": "available",
              "queued_time": "2023-11-27T20:13:27.2542668Z",
              "session_start_time": "2023-11-27T20:13:27.2922674Z",
              "execution_start_time": "2023-11-27T20:17:03.3782193Z",
              "execution_finish_time": "2023-11-27T20:17:06.3179777Z",
              "spark_jobs": {
                "numbers": {
                  "FAILED": 0,
                  "RUNNING": 0,
                  "SUCCEEDED": 0,
                  "UNKNOWN": 0
                },
                "jobs": [],
                "limit": 20,
                "rule": "ALL_DESC"
              },
              "parent_msg_id": "6cea770d-d7bb-40e9-886f-73f3fa566b7d"
            },
            "text/plain": "StatementMeta(3c67b279-1d53-4b7a-b0d9-41cb8b4b6723, 60, 6, Finished, Available)"
          },
          "metadata": {}
        },
        {
          "output_type": "execute_result",
          "execution_count": 11,
          "data": {
            "text/plain": "<pyspark.sql.session.SparkSession at 0x7fd72ac75970>",
            "text/html": "\n            <div>\n                <p><b>SparkSession - hive</b></p>\n                \n        <div>\n            <p><b>SparkContext</b></p>\n\n            <p><a href=\"http://vm-17d34650:38357\">Spark UI</a></p>\n\n            <dl>\n              <dt>Version</dt>\n                <dd><code>v3.2.2.5.1-100879434</code></dd>\n              <dt>Master</dt>\n                <dd><code>yarn</code></dd>\n              <dt>AppName</dt>\n                <dd><code>Azure ML Experiment</code></dd>\n            </dl>\n        </div>\n        \n            </div>\n        "
          },
          "metadata": {}
        }
      ],
      "execution_count": 1,
      "metadata": {
        "gather": {
          "logged": 1701116225982
        }
      }
    },
    {
      "cell_type": "code",
      "source": [
        "# Set up data configuration\n",
        "blob_account_name = \"marckvnonprodblob\"\n",
        "blob_container_name = \"bigdata\"\n",
        "# read only\n",
        "blob_sas_token = \"?sv=2021-10-04&st=2023-10-04T01%3A42%3A59Z&se=2024-01-02T02%3A42%3A00Z&sr=c&sp=rlf&sig=w3CH9MbCOpwO7DtHlrahc7AlRPxSZZb8MOgS6TaXLzI%3D\"\n",
        "\n",
        "wasbs_base_url = (\n",
        "    f\"wasbs://{blob_container_name}@{blob_account_name}.blob.core.windows.net/\"\n",
        ")\n",
        "spark.conf.set(\n",
        "    f\"fs.azure.sas.{blob_container_name}.{blob_account_name}.blob.core.windows.net\",\n",
        "    blob_sas_token,\n",
        ")\n"
      ],
      "outputs": [
        {
          "output_type": "display_data",
          "data": {
            "application/vnd.livy.statement-meta+json": {
              "spark_pool": "3c67b279-1d53-4b7a-b0d9-41cb8b4b6723",
              "session_id": "60",
              "statement_id": 7,
              "state": "finished",
              "livy_statement_state": "available",
              "queued_time": "2023-11-27T20:15:41.9633523Z",
              "session_start_time": null,
              "execution_start_time": "2023-11-27T20:17:06.4451706Z",
              "execution_finish_time": "2023-11-27T20:17:07.2826508Z",
              "spark_jobs": {
                "numbers": {
                  "FAILED": 0,
                  "RUNNING": 0,
                  "SUCCEEDED": 0,
                  "UNKNOWN": 0
                },
                "jobs": [],
                "limit": 20,
                "rule": "ALL_DESC"
              },
              "parent_msg_id": "7ce11c02-4ed5-4328-8a06-d7e60e2611e8"
            },
            "text/plain": "StatementMeta(3c67b279-1d53-4b7a-b0d9-41cb8b4b6723, 60, 7, Finished, Available)"
          },
          "metadata": {}
        }
      ],
      "execution_count": 2,
      "metadata": {
        "jupyter": {
          "source_hidden": false,
          "outputs_hidden": false
        },
        "nteract": {
          "transient": {
            "deleting": false
          }
        },
        "gather": {
          "logged": 1701116226681
        }
      }
    },
    {
      "cell_type": "code",
      "source": [
        "# Read the whole Reddit data\n",
        "\n",
        "comments_path = \"reddit-parquet/comments/\"\n",
        "submissions_path = \"reddit-parquet/submissions/\""
      ],
      "outputs": [
        {
          "output_type": "display_data",
          "data": {
            "application/vnd.livy.statement-meta+json": {
              "spark_pool": "3c67b279-1d53-4b7a-b0d9-41cb8b4b6723",
              "session_id": "60",
              "statement_id": 8,
              "state": "finished",
              "livy_statement_state": "available",
              "queued_time": "2023-11-27T20:15:45.2692528Z",
              "session_start_time": null,
              "execution_start_time": "2023-11-27T20:17:07.3902953Z",
              "execution_finish_time": "2023-11-27T20:17:07.6968734Z",
              "spark_jobs": {
                "numbers": {
                  "FAILED": 0,
                  "RUNNING": 0,
                  "SUCCEEDED": 0,
                  "UNKNOWN": 0
                },
                "jobs": [],
                "limit": 20,
                "rule": "ALL_DESC"
              },
              "parent_msg_id": "171a0d4a-5260-4bc4-97f3-008bc7c69ca2"
            },
            "text/plain": "StatementMeta(3c67b279-1d53-4b7a-b0d9-41cb8b4b6723, 60, 8, Finished, Available)"
          },
          "metadata": {}
        }
      ],
      "execution_count": 3,
      "metadata": {
        "jupyter": {
          "source_hidden": false,
          "outputs_hidden": false
        },
        "nteract": {
          "transient": {
            "deleting": false
          }
        },
        "gather": {
          "logged": 1701116227087
        }
      }
    },
    {
      "cell_type": "code",
      "source": [
        "comments_df = spark.read.parquet(f\"{wasbs_base_url}{comments_path}\")\n",
        "submissions_df = spark.read.parquet(f\"{wasbs_base_url}{submissions_path}\")"
      ],
      "outputs": [
        {
          "output_type": "display_data",
          "data": {
            "application/vnd.livy.statement-meta+json": {
              "spark_pool": "3c67b279-1d53-4b7a-b0d9-41cb8b4b6723",
              "session_id": "60",
              "statement_id": 9,
              "state": "finished",
              "livy_statement_state": "available",
              "queued_time": "2023-11-27T20:15:46.5549018Z",
              "session_start_time": null,
              "execution_start_time": "2023-11-27T20:17:07.8670417Z",
              "execution_finish_time": "2023-11-27T20:17:46.9224373Z",
              "spark_jobs": {
                "numbers": {
                  "FAILED": 0,
                  "RUNNING": 0,
                  "SUCCEEDED": 2,
                  "UNKNOWN": 0
                },
                "jobs": [
                  {
                    "displayName": "parquet at NativeMethodAccessorImpl.java:0",
                    "dataWritten": 0,
                    "dataRead": 0,
                    "rowCount": 0,
                    "usageDescription": "",
                    "jobId": 1,
                    "name": "parquet at NativeMethodAccessorImpl.java:0",
                    "description": "Job group for statement 9:\ncomments_df = spark.read.parquet(f\"{wasbs_base_url}{comments_path}\")\nsubmissions_df = spark.read.parquet(f\"{wasbs_base_url}{submissions_path}\")",
                    "submissionTime": "2023-11-27T20:17:40.239GMT",
                    "completionTime": "2023-11-27T20:17:44.982GMT",
                    "stageIds": [
                      1
                    ],
                    "jobGroup": "9",
                    "status": "SUCCEEDED",
                    "numTasks": 1,
                    "numActiveTasks": 0,
                    "numCompletedTasks": 1,
                    "numSkippedTasks": 0,
                    "numFailedTasks": 0,
                    "numKilledTasks": 0,
                    "numCompletedIndices": 1,
                    "numActiveStages": 0,
                    "numCompletedStages": 1,
                    "numSkippedStages": 0,
                    "numFailedStages": 0,
                    "killedTasksSummary": {}
                  },
                  {
                    "displayName": "parquet at NativeMethodAccessorImpl.java:0",
                    "dataWritten": 0,
                    "dataRead": 0,
                    "rowCount": 0,
                    "usageDescription": "",
                    "jobId": 0,
                    "name": "parquet at NativeMethodAccessorImpl.java:0",
                    "description": "Job group for statement 9:\ncomments_df = spark.read.parquet(f\"{wasbs_base_url}{comments_path}\")\nsubmissions_df = spark.read.parquet(f\"{wasbs_base_url}{submissions_path}\")",
                    "submissionTime": "2023-11-27T20:17:25.290GMT",
                    "completionTime": "2023-11-27T20:17:32.693GMT",
                    "stageIds": [
                      0
                    ],
                    "jobGroup": "9",
                    "status": "SUCCEEDED",
                    "numTasks": 1,
                    "numActiveTasks": 0,
                    "numCompletedTasks": 1,
                    "numSkippedTasks": 0,
                    "numFailedTasks": 0,
                    "numKilledTasks": 0,
                    "numCompletedIndices": 1,
                    "numActiveStages": 0,
                    "numCompletedStages": 1,
                    "numSkippedStages": 0,
                    "numFailedStages": 0,
                    "killedTasksSummary": {}
                  }
                ],
                "limit": 20,
                "rule": "ALL_DESC"
              },
              "parent_msg_id": "1107afee-4e60-4cd1-b432-865958c19d8b"
            },
            "text/plain": "StatementMeta(3c67b279-1d53-4b7a-b0d9-41cb8b4b6723, 60, 9, Finished, Available)"
          },
          "metadata": {}
        }
      ],
      "execution_count": 4,
      "metadata": {
        "jupyter": {
          "source_hidden": false,
          "outputs_hidden": false
        },
        "nteract": {
          "transient": {
            "deleting": false
          }
        },
        "gather": {
          "logged": 1701116266375
        }
      }
    },
    {
      "cell_type": "code",
      "source": [
        "submissions_df.rdd.getNumPartitions()"
      ],
      "outputs": [
        {
          "output_type": "display_data",
          "data": {
            "application/vnd.livy.statement-meta+json": {
              "spark_pool": "3c67b279-1d53-4b7a-b0d9-41cb8b4b6723",
              "session_id": "60",
              "statement_id": 10,
              "state": "finished",
              "livy_statement_state": "available",
              "queued_time": "2023-11-27T20:15:47.7638169Z",
              "session_start_time": null,
              "execution_start_time": "2023-11-27T20:17:47.032785Z",
              "execution_finish_time": "2023-11-27T20:17:48.5836511Z",
              "spark_jobs": {
                "numbers": {
                  "FAILED": 0,
                  "RUNNING": 0,
                  "SUCCEEDED": 0,
                  "UNKNOWN": 0
                },
                "jobs": [],
                "limit": 20,
                "rule": "ALL_DESC"
              },
              "parent_msg_id": "a19e70b7-decb-4307-b1e3-b9aaa0c4dc8f"
            },
            "text/plain": "StatementMeta(3c67b279-1d53-4b7a-b0d9-41cb8b4b6723, 60, 10, Finished, Available)"
          },
          "metadata": {}
        },
        {
          "output_type": "execute_result",
          "execution_count": 19,
          "data": {
            "text/plain": "3080"
          },
          "metadata": {}
        }
      ],
      "execution_count": 5,
      "metadata": {
        "jupyter": {
          "source_hidden": false,
          "outputs_hidden": false
        },
        "nteract": {
          "transient": {
            "deleting": false
          }
        },
        "gather": {
          "logged": 1701116268074
        }
      }
    },
    {
      "cell_type": "code",
      "source": [
        "from pyspark.sql.functions import col, asc,desc\n",
        "submissions_filtered = submissions_df.filter(col(\"subreddit\").isin([\"Minecraft\", \"Eldenring\",\"Genshin_Impact\",\"pokemongo\",\"RocketLeagueExchange\",\"VALORANT\",\"DestinyTheGame\",\"CallOfDutyMobile\",\"FIFA\",\"pokemon\"]))"
      ],
      "outputs": [
        {
          "output_type": "display_data",
          "data": {
            "application/vnd.livy.statement-meta+json": {
              "spark_pool": "3c67b279-1d53-4b7a-b0d9-41cb8b4b6723",
              "session_id": "60",
              "statement_id": 11,
              "state": "finished",
              "livy_statement_state": "available",
              "queued_time": "2023-11-27T20:15:48.9997356Z",
              "session_start_time": null,
              "execution_start_time": "2023-11-27T20:17:48.7632634Z",
              "execution_finish_time": "2023-11-27T20:17:49.5838621Z",
              "spark_jobs": {
                "numbers": {
                  "FAILED": 0,
                  "RUNNING": 0,
                  "SUCCEEDED": 0,
                  "UNKNOWN": 0
                },
                "jobs": [],
                "limit": 20,
                "rule": "ALL_DESC"
              },
              "parent_msg_id": "69de132a-750e-484c-af33-eae80377b629"
            },
            "text/plain": "StatementMeta(3c67b279-1d53-4b7a-b0d9-41cb8b4b6723, 60, 11, Finished, Available)"
          },
          "metadata": {}
        }
      ],
      "execution_count": 6,
      "metadata": {
        "jupyter": {
          "source_hidden": false,
          "outputs_hidden": false
        },
        "nteract": {
          "transient": {
            "deleting": false
          }
        },
        "gather": {
          "logged": 1701116269008
        }
      }
    },
    {
      "cell_type": "code",
      "source": [
        "# display a subset of columns\n",
        "submissions_filtered.select(\"subreddit\", \"author\", \"title\", \"selftext\", \"num_comments\", \"score\").show()"
      ],
      "outputs": [
        {
          "output_type": "display_data",
          "data": {
            "application/vnd.livy.statement-meta+json": {
              "spark_pool": "3c67b279-1d53-4b7a-b0d9-41cb8b4b6723",
              "session_id": "60",
              "statement_id": 12,
              "state": "finished",
              "livy_statement_state": "available",
              "queued_time": "2023-11-27T20:15:50.3157976Z",
              "session_start_time": null,
              "execution_start_time": "2023-11-27T20:17:49.6982506Z",
              "execution_finish_time": "2023-11-27T20:17:56.1178176Z",
              "spark_jobs": {
                "numbers": {
                  "FAILED": 0,
                  "RUNNING": 0,
                  "SUCCEEDED": 1,
                  "UNKNOWN": 0
                },
                "jobs": [
                  {
                    "displayName": "showString at NativeMethodAccessorImpl.java:0",
                    "dataWritten": 0,
                    "dataRead": 9194465,
                    "rowCount": 8192,
                    "usageDescription": "",
                    "jobId": 2,
                    "name": "showString at NativeMethodAccessorImpl.java:0",
                    "description": "Job group for statement 12:\n# display a subset of columns\nsubmissions_filtered.select(\"subreddit\", \"author\", \"title\", \"selftext\", \"num_comments\", \"score\").show()",
                    "submissionTime": "2023-11-27T20:17:51.081GMT",
                    "completionTime": "2023-11-27T20:17:54.594GMT",
                    "stageIds": [
                      2
                    ],
                    "jobGroup": "12",
                    "status": "SUCCEEDED",
                    "numTasks": 1,
                    "numActiveTasks": 0,
                    "numCompletedTasks": 1,
                    "numSkippedTasks": 0,
                    "numFailedTasks": 0,
                    "numKilledTasks": 0,
                    "numCompletedIndices": 1,
                    "numActiveStages": 0,
                    "numCompletedStages": 1,
                    "numSkippedStages": 0,
                    "numFailedStages": 0,
                    "killedTasksSummary": {}
                  }
                ],
                "limit": 20,
                "rule": "ALL_DESC"
              },
              "parent_msg_id": "93570b6e-da03-47c7-9c26-41e5195440e6"
            },
            "text/plain": "StatementMeta(3c67b279-1d53-4b7a-b0d9-41cb8b4b6723, 60, 12, Finished, Available)"
          },
          "metadata": {}
        },
        {
          "output_type": "stream",
          "name": "stdout",
          "text": "+--------------------+--------------------+--------------------+--------------------+------------+-----+\n|           subreddit|              author|               title|            selftext|num_comments|score|\n+--------------------+--------------------+--------------------+--------------------+------------+-----+\n|                FIFA|       Robert-Fulton|if you every get ...|                    |          12|    0|\n|           Minecraft|          Dogeisagod|     Texting a house|So I’m building a...|           3|    1|\n|            VALORANT|     Status_Bet_8034|       Killjoy Mains|Got bored and so ...|           2|    2|\n|           Minecraft|         Age_Natural|Trident skeleton ...|                    |           3|    3|\n|             pokemon|     OneWhoGetsBread|the PokemonTogeth...|So several days a...|           0|    6|\n|            VALORANT|  MajesticDoughnut10|Weekly's not addi...|Since the new wee...|           1|    3|\n|                FIFA|           [deleted]|should i select o...|           [removed]|           0|    1|\n|RocketLeagueExchange|           [deleted]|[Xbox] [H] Bundle...|           [deleted]|           0|    1|\n|            VALORANT|  EditorValuable5514|did they add to r...|                    |           1|    1|\n|           pokemongo|RecentIntroduction32|Why the hell are ...|                    |           7|    0|\n|      DestinyTheGame|          13zerocool|Why are hunters s...|           [removed]|           0|    1|\n|           Eldenring|           [deleted]|A Collection of u...|           [removed]|           0|    1|\n|           Eldenring|      kylanskribbles|What is going on??!!|                    |           1|    2|\n|           Minecraft|       elicrodriguez|1.19.4 Pre-releas...|I’m pretty upset ...|           2|    1|\n|           pokemongo|         Ben_In_Utah|Got a Rayquaza on...|           [removed]|           0|    1|\n|           Eldenring|            2voluted|Malenia nerfed/ch...|I haven't seen an...|           4|    0|\n|                FIFA|              vdmg17| Team of the week 17|                    |           0|    1|\n|RocketLeagueExchange|            Gloctane|[xbox] [h] OG Tac...|                    |           5|    3|\n|            VALORANT|           Cryptanic|I love the matchm...|                    |           1|    1|\n|           pokemongo|        MrVioleGrace|Is there an event...|                    |           6|    0|\n+--------------------+--------------------+--------------------+--------------------+------------+-----+\nonly showing top 20 rows\n\n"
        }
      ],
      "execution_count": 7,
      "metadata": {
        "jupyter": {
          "source_hidden": false,
          "outputs_hidden": false
        },
        "nteract": {
          "transient": {
            "deleting": false
          }
        },
        "gather": {
          "logged": 1701116275554
        }
      }
    },
    {
      "cell_type": "code",
      "source": [
        "df_use = submissions_filtered.select(\"subreddit\", \"author\", \"title\", \"selftext\", \"num_comments\", \"score\").cache()"
      ],
      "outputs": [
        {
          "output_type": "display_data",
          "data": {
            "application/vnd.livy.statement-meta+json": {
              "spark_pool": "3c67b279-1d53-4b7a-b0d9-41cb8b4b6723",
              "session_id": "60",
              "statement_id": 17,
              "state": "finished",
              "livy_statement_state": "available",
              "queued_time": "2023-11-27T20:19:29.0754859Z",
              "session_start_time": null,
              "execution_start_time": "2023-11-27T20:19:29.1897875Z",
              "execution_finish_time": "2023-11-27T20:19:29.5031982Z",
              "spark_jobs": {
                "numbers": {
                  "FAILED": 0,
                  "RUNNING": 0,
                  "SUCCEEDED": 0,
                  "UNKNOWN": 0
                },
                "jobs": [],
                "limit": 20,
                "rule": "ALL_DESC"
              },
              "parent_msg_id": "7e20ceb1-766f-4757-b76e-3306919e07f4"
            },
            "text/plain": "StatementMeta(3c67b279-1d53-4b7a-b0d9-41cb8b4b6723, 60, 17, Finished, Available)"
          },
          "metadata": {}
        }
      ],
      "execution_count": 12,
      "metadata": {
        "jupyter": {
          "source_hidden": false,
          "outputs_hidden": false
        },
        "nteract": {
          "transient": {
            "deleting": false
          }
        },
        "gather": {
          "logged": 1701116368926
        }
      }
    },
    {
      "cell_type": "code",
      "source": [
        "df_use.show(5)"
      ],
      "outputs": [
        {
          "output_type": "display_data",
          "data": {
            "application/vnd.livy.statement-meta+json": {
              "spark_pool": "3c67b279-1d53-4b7a-b0d9-41cb8b4b6723",
              "session_id": "60",
              "statement_id": 27,
              "state": "finished",
              "livy_statement_state": "available",
              "queued_time": "2023-11-27T20:26:22.1208979Z",
              "session_start_time": null,
              "execution_start_time": "2023-11-27T20:26:22.2155626Z",
              "execution_finish_time": "2023-11-27T20:26:23.0339304Z",
              "spark_jobs": {
                "numbers": {
                  "FAILED": 0,
                  "RUNNING": 0,
                  "SUCCEEDED": 1,
                  "UNKNOWN": 0
                },
                "jobs": [
                  {
                    "displayName": "showString at NativeMethodAccessorImpl.java:0",
                    "dataWritten": 0,
                    "dataRead": 209848,
                    "rowCount": 1,
                    "usageDescription": "",
                    "jobId": 4,
                    "name": "showString at NativeMethodAccessorImpl.java:0",
                    "description": "Job group for statement 27:\ndf_use.show(5)",
                    "submissionTime": "2023-11-27T20:26:22.339GMT",
                    "completionTime": "2023-11-27T20:26:22.442GMT",
                    "stageIds": [
                      4
                    ],
                    "jobGroup": "27",
                    "status": "SUCCEEDED",
                    "numTasks": 1,
                    "numActiveTasks": 0,
                    "numCompletedTasks": 1,
                    "numSkippedTasks": 0,
                    "numFailedTasks": 0,
                    "numKilledTasks": 0,
                    "numCompletedIndices": 1,
                    "numActiveStages": 0,
                    "numCompletedStages": 1,
                    "numSkippedStages": 0,
                    "numFailedStages": 0,
                    "killedTasksSummary": {}
                  }
                ],
                "limit": 20,
                "rule": "ALL_DESC"
              },
              "parent_msg_id": "9f27481f-860b-4419-9d95-1ccbac319487"
            },
            "text/plain": "StatementMeta(3c67b279-1d53-4b7a-b0d9-41cb8b4b6723, 60, 27, Finished, Available)"
          },
          "metadata": {}
        },
        {
          "output_type": "stream",
          "name": "stdout",
          "text": "+---------+---------------+--------------------+--------------------+------------+-----+\n|subreddit|         author|               title|            selftext|num_comments|score|\n+---------+---------------+--------------------+--------------------+------------+-----+\n|     FIFA|  Robert-Fulton|if you every get ...|                    |          12|    0|\n|Minecraft|     Dogeisagod|     Texting a house|So I’m building a...|           3|    1|\n| VALORANT|Status_Bet_8034|       Killjoy Mains|Got bored and so ...|           2|    2|\n|Minecraft|    Age_Natural|Trident skeleton ...|                    |           3|    3|\n|  pokemon|OneWhoGetsBread|the PokemonTogeth...|So several days a...|           0|    6|\n+---------+---------------+--------------------+--------------------+------------+-----+\nonly showing top 5 rows\n\n"
        }
      ],
      "execution_count": 22,
      "metadata": {
        "jupyter": {
          "source_hidden": false,
          "outputs_hidden": false
        },
        "nteract": {
          "transient": {
            "deleting": false
          }
        },
        "gather": {
          "logged": 1701116782458
        }
      }
    },
    {
      "cell_type": "code",
      "source": [
        "from pyspark.sql.functions import col"
      ],
      "outputs": [
        {
          "output_type": "display_data",
          "data": {
            "application/vnd.livy.statement-meta+json": {
              "spark_pool": "3c67b279-1d53-4b7a-b0d9-41cb8b4b6723",
              "session_id": "60",
              "statement_id": 25,
              "state": "finished",
              "livy_statement_state": "available",
              "queued_time": "2023-11-27T20:26:13.3867448Z",
              "session_start_time": null,
              "execution_start_time": "2023-11-27T20:26:13.5066275Z",
              "execution_finish_time": "2023-11-27T20:26:13.8033501Z",
              "spark_jobs": {
                "numbers": {
                  "FAILED": 0,
                  "RUNNING": 0,
                  "SUCCEEDED": 0,
                  "UNKNOWN": 0
                },
                "jobs": [],
                "limit": 20,
                "rule": "ALL_DESC"
              },
              "parent_msg_id": "7bf3ce80-9cd2-4636-8e14-13b07f0c3006"
            },
            "text/plain": "StatementMeta(3c67b279-1d53-4b7a-b0d9-41cb8b4b6723, 60, 25, Finished, Available)"
          },
          "metadata": {}
        }
      ],
      "execution_count": 20,
      "metadata": {
        "jupyter": {
          "source_hidden": false,
          "outputs_hidden": false
        },
        "nteract": {
          "transient": {
            "deleting": false
          }
        },
        "gather": {
          "logged": 1701116773208
        }
      }
    },
    {
      "cell_type": "code",
      "source": [
        "from pyspark.sql.functions import (count,sum)"
      ],
      "outputs": [
        {
          "output_type": "display_data",
          "data": {
            "application/vnd.livy.statement-meta+json": {
              "spark_pool": "3c67b279-1d53-4b7a-b0d9-41cb8b4b6723",
              "session_id": "60",
              "statement_id": 36,
              "state": "finished",
              "livy_statement_state": "available",
              "queued_time": "2023-11-27T20:40:30.6249225Z",
              "session_start_time": null,
              "execution_start_time": "2023-11-27T20:40:30.7286807Z",
              "execution_finish_time": "2023-11-27T20:40:31.0174043Z",
              "spark_jobs": {
                "numbers": {
                  "FAILED": 0,
                  "RUNNING": 0,
                  "SUCCEEDED": 0,
                  "UNKNOWN": 0
                },
                "jobs": [],
                "limit": 20,
                "rule": "ALL_DESC"
              },
              "parent_msg_id": "dbe4efbe-1a26-4254-b915-6268594c61aa"
            },
            "text/plain": "StatementMeta(3c67b279-1d53-4b7a-b0d9-41cb8b4b6723, 60, 36, Finished, Available)"
          },
          "metadata": {}
        }
      ],
      "execution_count": 31,
      "metadata": {
        "jupyter": {
          "source_hidden": false,
          "outputs_hidden": false
        },
        "nteract": {
          "transient": {
            "deleting": false
          }
        },
        "gather": {
          "logged": 1701117630437
        }
      }
    },
    {
      "cell_type": "code",
      "source": [
        "# Group by 'author' and perform the required aggregations\n",
        "result_df = df_use.groupBy(col(\"author\")) \\\n",
        "    .agg(\n",
        "        col(\"author\"),\n",
        "        count(\"author\").alias(\"num_posts\"),\n",
        "        sum(\"num_comments\").alias(\"total_num_comments\"),\n",
        "        sum(\"score\").alias(\"total_score\")\n",
        "    )\n",
        "\n",
        "# Show the result DataFrame\n",
        "result_df.show()"
      ],
      "outputs": [
        {
          "output_type": "display_data",
          "data": {
            "application/vnd.livy.statement-meta+json": {
              "spark_pool": "3c67b279-1d53-4b7a-b0d9-41cb8b4b6723",
              "session_id": "60",
              "statement_id": 38,
              "state": "finished",
              "livy_statement_state": "available",
              "queued_time": "2023-11-27T20:41:47.0797103Z",
              "session_start_time": null,
              "execution_start_time": "2023-11-27T20:41:47.1879679Z",
              "execution_finish_time": "2023-11-27T21:06:10.2434255Z",
              "spark_jobs": {
                "numbers": {
                  "FAILED": 0,
                  "RUNNING": 0,
                  "SUCCEEDED": 2,
                  "UNKNOWN": 0
                },
                "jobs": [
                  {
                    "displayName": "showString at NativeMethodAccessorImpl.java:0",
                    "dataWritten": 0,
                    "dataRead": 17551341,
                    "rowCount": 442327,
                    "usageDescription": "",
                    "jobId": 7,
                    "name": "showString at NativeMethodAccessorImpl.java:0",
                    "description": "Job group for statement 38:\n# Group by 'author' and perform the required aggregations\nresult_df = df_use.groupBy(col(\"author\"))     .agg(\n        col(\"author\"),\n        count(\"author\").alias(\"num_posts\"),\n        sum(\"num_comments\").alias(\"total_num_comments\"),\n        sum(\"score\").alias(\"total_score\")\n    )\n\n# Show the result DataFrame\nresult_df.show()",
                    "submissionTime": "2023-11-27T21:06:08.116GMT",
                    "completionTime": "2023-11-27T21:06:09.429GMT",
                    "stageIds": [
                      7,
                      8
                    ],
                    "jobGroup": "38",
                    "status": "SUCCEEDED",
                    "numTasks": 3081,
                    "numActiveTasks": 0,
                    "numCompletedTasks": 1,
                    "numSkippedTasks": 3080,
                    "numFailedTasks": 0,
                    "numKilledTasks": 0,
                    "numCompletedIndices": 1,
                    "numActiveStages": 0,
                    "numCompletedStages": 1,
                    "numSkippedStages": 1,
                    "numFailedStages": 0,
                    "killedTasksSummary": {}
                  },
                  {
                    "displayName": "showString at NativeMethodAccessorImpl.java:0",
                    "dataWritten": 145409301,
                    "dataRead": 85204292931,
                    "rowCount": 894571262,
                    "usageDescription": "",
                    "jobId": 6,
                    "name": "showString at NativeMethodAccessorImpl.java:0",
                    "description": "Job group for statement 38:\n# Group by 'author' and perform the required aggregations\nresult_df = df_use.groupBy(col(\"author\"))     .agg(\n        col(\"author\"),\n        count(\"author\").alias(\"num_posts\"),\n        sum(\"num_comments\").alias(\"total_num_comments\"),\n        sum(\"score\").alias(\"total_score\")\n    )\n\n# Show the result DataFrame\nresult_df.show()",
                    "submissionTime": "2023-11-27T20:41:47.482GMT",
                    "completionTime": "2023-11-27T21:06:07.463GMT",
                    "stageIds": [
                      6
                    ],
                    "jobGroup": "38",
                    "status": "SUCCEEDED",
                    "numTasks": 3080,
                    "numActiveTasks": 0,
                    "numCompletedTasks": 3080,
                    "numSkippedTasks": 0,
                    "numFailedTasks": 0,
                    "numKilledTasks": 0,
                    "numCompletedIndices": 3080,
                    "numActiveStages": 0,
                    "numCompletedStages": 1,
                    "numSkippedStages": 0,
                    "numFailedStages": 0,
                    "killedTasksSummary": {}
                  }
                ],
                "limit": 20,
                "rule": "ALL_DESC"
              },
              "parent_msg_id": "5a8ef375-242a-42b5-9e2d-7beea781c162"
            },
            "text/plain": "StatementMeta(3c67b279-1d53-4b7a-b0d9-41cb8b4b6723, 60, 38, Finished, Available)"
          },
          "metadata": {}
        },
        {
          "output_type": "stream",
          "name": "stdout",
          "text": "+--------------------+--------------------+---------+------------------+-----------+\n|              author|              author|num_posts|total_num_comments|total_score|\n+--------------------+--------------------+---------+------------------+-----------+\n|            TheSkoko|            TheSkoko|        1|                14|          0|\n|  TheGreatDarkPriest|  TheGreatDarkPriest|       39|               353|       4479|\n|          alastrasix|          alastrasix|        1|                 2|          1|\n|         AzureNebula|         AzureNebula|        1|                 0|          1|\n|Aggravating_Trade407|Aggravating_Trade407|        1|                 0|          1|\n|        Solid_Mix007|        Solid_Mix007|        4|                 7|         21|\n|    retardsc00terkid|    retardsc00terkid|       18|               600|       2917|\n|            sringari|            sringari|        1|                 2|          1|\n|      Pezzariasimfan|      Pezzariasimfan|        1|                 1|          1|\n|           haydos_07|           haydos_07|        1|                 3|         21|\n|         Mr-Green129|         Mr-Green129|        1|                 2|          1|\n|           Asorio-YT|           Asorio-YT|     1054|              3269|       1551|\n|         Matias_1204|         Matias_1204|        3|                12|          0|\n|     ViolinistNo2178|     ViolinistNo2178|        1|                 9|          2|\n|          freethebes|          freethebes|        3|                45|        221|\n|          IEatKids26|          IEatKids26|       53|               586|       1135|\n|          B00MSKI123|          B00MSKI123|        2|                 8|          1|\n|             MMH2002|             MMH2002|        1|                10|          3|\n|            tin0oooo|            tin0oooo|        2|                 8|          4|\n|     ANONYMOUSGUY770|     ANONYMOUSGUY770|       21|                85|         33|\n+--------------------+--------------------+---------+------------------+-----------+\nonly showing top 20 rows\n\n"
        }
      ],
      "execution_count": 33,
      "metadata": {
        "jupyter": {
          "source_hidden": false,
          "outputs_hidden": false
        },
        "nteract": {
          "transient": {
            "deleting": false
          }
        },
        "gather": {
          "logged": 1701119169950
        }
      }
    },
    {
      "cell_type": "code",
      "source": [
        "# save the data\n",
        "df_save_final=result_df.toPandas()"
      ],
      "outputs": [
        {
          "output_type": "display_data",
          "data": {
            "application/vnd.livy.statement-meta+json": {
              "spark_pool": "3c67b279-1d53-4b7a-b0d9-41cb8b4b6723",
              "session_id": "60",
              "statement_id": 39,
              "state": "finished",
              "livy_statement_state": "available",
              "queued_time": "2023-11-27T21:19:40.032422Z",
              "session_start_time": null,
              "execution_start_time": "2023-11-27T21:19:40.1556158Z",
              "execution_finish_time": "2023-11-27T21:20:50.6727614Z",
              "spark_jobs": {
                "numbers": {
                  "FAILED": 0,
                  "RUNNING": 0,
                  "SUCCEEDED": 2,
                  "UNKNOWN": 0
                },
                "jobs": [
                  {
                    "displayName": "toPandas at /tmp/ipykernel_7449/1198832947.py:2",
                    "dataWritten": 0,
                    "dataRead": 145409301,
                    "rowCount": 3671970,
                    "usageDescription": "",
                    "jobId": 9,
                    "name": "toPandas at /tmp/ipykernel_7449/1198832947.py:2",
                    "description": "Job group for statement 39:\n# save the data\ndf_save_final=result_df.toPandas()",
                    "submissionTime": "2023-11-27T21:20:43.620GMT",
                    "completionTime": "2023-11-27T21:20:48.542GMT",
                    "stageIds": [
                      10,
                      11
                    ],
                    "jobGroup": "39",
                    "status": "SUCCEEDED",
                    "numTasks": 3089,
                    "numActiveTasks": 0,
                    "numCompletedTasks": 9,
                    "numSkippedTasks": 3080,
                    "numFailedTasks": 0,
                    "numKilledTasks": 0,
                    "numCompletedIndices": 9,
                    "numActiveStages": 0,
                    "numCompletedStages": 1,
                    "numSkippedStages": 1,
                    "numFailedStages": 0,
                    "killedTasksSummary": {}
                  },
                  {
                    "displayName": "toPandas at /tmp/ipykernel_7449/1198832947.py:2",
                    "dataWritten": 145409301,
                    "dataRead": 1119830877,
                    "rowCount": 3675050,
                    "usageDescription": "",
                    "jobId": 8,
                    "name": "toPandas at /tmp/ipykernel_7449/1198832947.py:2",
                    "description": "Job group for statement 39:\n# save the data\ndf_save_final=result_df.toPandas()",
                    "submissionTime": "2023-11-27T21:19:44.834GMT",
                    "completionTime": "2023-11-27T21:20:43.533GMT",
                    "stageIds": [
                      9
                    ],
                    "jobGroup": "39",
                    "status": "SUCCEEDED",
                    "numTasks": 3080,
                    "numActiveTasks": 0,
                    "numCompletedTasks": 3080,
                    "numSkippedTasks": 0,
                    "numFailedTasks": 0,
                    "numKilledTasks": 0,
                    "numCompletedIndices": 3080,
                    "numActiveStages": 0,
                    "numCompletedStages": 1,
                    "numSkippedStages": 0,
                    "numFailedStages": 0,
                    "killedTasksSummary": {}
                  }
                ],
                "limit": 20,
                "rule": "ALL_DESC"
              },
              "parent_msg_id": "165f4edb-5c37-4d42-a857-69712b8bbb90"
            },
            "text/plain": "StatementMeta(3c67b279-1d53-4b7a-b0d9-41cb8b4b6723, 60, 39, Finished, Available)"
          },
          "metadata": {}
        }
      ],
      "execution_count": 34,
      "metadata": {
        "jupyter": {
          "source_hidden": false,
          "outputs_hidden": false
        },
        "nteract": {
          "transient": {
            "deleting": false
          }
        },
        "gather": {
          "logged": 1701120050098
        }
      }
    },
    {
      "cell_type": "code",
      "source": [
        "import os\n",
        "CSV_DIR = os.path.join(\"Users/zx111/fall-2023-reddit-project-team-11/data\", \"csv\")\n",
        "df_save_final.to_csv(f\"{CSV_DIR}/User_acitive.csv\", index=False)"
      ],
      "outputs": [
        {
          "output_type": "display_data",
          "data": {
            "application/vnd.livy.statement-meta+json": {
              "spark_pool": "3c67b279-1d53-4b7a-b0d9-41cb8b4b6723",
              "session_id": "60",
              "statement_id": 40,
              "state": "finished",
              "livy_statement_state": "available",
              "queued_time": "2023-11-27T21:20:22.9668736Z",
              "session_start_time": null,
              "execution_start_time": "2023-11-27T21:20:50.7798734Z",
              "execution_finish_time": "2023-11-27T21:20:56.5222515Z",
              "spark_jobs": {
                "numbers": {
                  "FAILED": 0,
                  "RUNNING": 0,
                  "SUCCEEDED": 0,
                  "UNKNOWN": 0
                },
                "jobs": [],
                "limit": 20,
                "rule": "ALL_DESC"
              },
              "parent_msg_id": "0f96039e-ef2f-4178-9dfb-2555905e3c30"
            },
            "text/plain": "StatementMeta(3c67b279-1d53-4b7a-b0d9-41cb8b4b6723, 60, 40, Finished, Available)"
          },
          "metadata": {}
        }
      ],
      "execution_count": 35,
      "metadata": {
        "jupyter": {
          "source_hidden": false,
          "outputs_hidden": false
        },
        "nteract": {
          "transient": {
            "deleting": false
          }
        },
        "gather": {
          "logged": 1701120055929
        }
      }
    },
    {
      "cell_type": "code",
      "source": [
        "from pyspark.ml.feature import VectorAssembler\n",
        "from pyspark.ml.clustering import KMeans\n",
        "from pyspark.ml.evaluation import ClusteringEvaluator\n",
        "from pyspark.ml import Pipeline\n",
        "import matplotlib.pyplot as plt\n",
        "import pandas as pd"
      ],
      "outputs": [
        {
          "output_type": "display_data",
          "data": {
            "application/vnd.livy.statement-meta+json": {
              "spark_pool": "3c67b279-1d53-4b7a-b0d9-41cb8b4b6723",
              "session_id": "60",
              "statement_id": 41,
              "state": "finished",
              "livy_statement_state": "available",
              "queued_time": "2023-11-27T21:20:39.661772Z",
              "session_start_time": null,
              "execution_start_time": "2023-11-27T21:20:56.6458184Z",
              "execution_finish_time": "2023-11-27T21:20:57.4797723Z",
              "spark_jobs": {
                "numbers": {
                  "FAILED": 0,
                  "RUNNING": 0,
                  "SUCCEEDED": 0,
                  "UNKNOWN": 0
                },
                "jobs": [],
                "limit": 20,
                "rule": "ALL_DESC"
              },
              "parent_msg_id": "7cdb0075-aeb6-456c-93f0-77f7e1632010"
            },
            "text/plain": "StatementMeta(3c67b279-1d53-4b7a-b0d9-41cb8b4b6723, 60, 41, Finished, Available)"
          },
          "metadata": {}
        }
      ],
      "execution_count": 36,
      "metadata": {
        "jupyter": {
          "source_hidden": false,
          "outputs_hidden": false
        },
        "nteract": {
          "transient": {
            "deleting": false
          }
        },
        "gather": {
          "logged": 1701120056894
        }
      }
    },
    {
      "cell_type": "code",
      "source": [
        "# Vectorize the features\n",
        "feature_columns = [\"num_posts\", \"total_num_comments\", \"total_score\"]\n",
        "vec_assembler = VectorAssembler(inputCols=feature_columns, outputCol=\"features\")\n",
        "df_vectorized = vec_assembler.transform(result_df)"
      ],
      "outputs": [
        {
          "output_type": "display_data",
          "data": {
            "application/vnd.livy.statement-meta+json": {
              "spark_pool": "3c67b279-1d53-4b7a-b0d9-41cb8b4b6723",
              "session_id": "60",
              "statement_id": 43,
              "state": "finished",
              "livy_statement_state": "available",
              "queued_time": "2023-11-27T21:22:42.7371319Z",
              "session_start_time": null,
              "execution_start_time": "2023-11-27T21:22:42.8677848Z",
              "execution_finish_time": "2023-11-27T21:22:43.6911461Z",
              "spark_jobs": {
                "numbers": {
                  "FAILED": 0,
                  "RUNNING": 0,
                  "SUCCEEDED": 0,
                  "UNKNOWN": 0
                },
                "jobs": [],
                "limit": 20,
                "rule": "ALL_DESC"
              },
              "parent_msg_id": "93b8dd11-f6a0-46b2-bc9e-2ac26ba9627b"
            },
            "text/plain": "StatementMeta(3c67b279-1d53-4b7a-b0d9-41cb8b4b6723, 60, 43, Finished, Available)"
          },
          "metadata": {}
        }
      ],
      "execution_count": 38,
      "metadata": {
        "jupyter": {
          "source_hidden": false,
          "outputs_hidden": false
        },
        "nteract": {
          "transient": {
            "deleting": false
          }
        },
        "gather": {
          "logged": 1701120163100
        }
      }
    },
    {
      "cell_type": "code",
      "source": [
        "# K-means clustering model with different hyperparameter sets\n",
        "k_values = [2, 3, 4, 5]  \n",
        "models = []\n",
        "\n",
        "results = {}\n",
        "\n",
        "for k in k_values:\n",
        "    kmeans = KMeans(k=k, seed=42)\n",
        "    model = kmeans.fit(df_vectorized)\n",
        "    predictions = model.transform(df_vectorized)\n",
        "\n",
        "    # Evaluate the clustering performance\n",
        "    evaluator = ClusteringEvaluator()\n",
        "    silhouette_score = evaluator.evaluate(predictions)\n",
        "    \n",
        "    # Save the model\n",
        "    model.save(f\"kmeans_model_k{k}\")\n",
        "\n",
        "    # Store results for later comparison\n",
        "    results[f\"K={k}\"] = silhouette_score\n"
      ],
      "outputs": [
        {
          "output_type": "display_data",
          "data": {
            "application/vnd.livy.statement-meta+json": {
              "spark_pool": "3c67b279-1d53-4b7a-b0d9-41cb8b4b6723",
              "session_id": "60",
              "statement_id": 44,
              "state": "finished",
              "livy_statement_state": "available",
              "queued_time": "2023-11-27T21:22:44.8971132Z",
              "session_start_time": null,
              "execution_start_time": "2023-11-27T21:22:45.0089843Z",
              "execution_finish_time": "2023-11-27T22:01:19.5000923Z",
              "spark_jobs": {
                "numbers": {
                  "FAILED": 1,
                  "RUNNING": 0,
                  "SUCCEEDED": 16,
                  "UNKNOWN": 0
                },
                "jobs": [
                  {
                    "displayName": "collect at ClusteringMetrics.scala:102",
                    "dataWritten": 118915054,
                    "dataRead": 910074431,
                    "rowCount": 2981809,
                    "usageDescription": "",
                    "jobId": 26,
                    "name": "collect at ClusteringMetrics.scala:102",
                    "description": "Job group for statement 44:\n# K-means clustering model with different hyperparameter sets\nk_values = [2, 3, 4, 5]  \nmodels = []\n\nresults = {}\n\nfor k in k_values:\n    kmeans = KMeans(k=k, seed=42)\n    model = kmeans.fit(df_vectorized)\n    predictions = model.transform(df_vectorized)\n\n    # Evaluate the clustering performance\n    evaluator = ClusteringEvaluator()\n    silhouette_score = evaluator.evaluate(predictions)\n    \n    # Save the model\n    model.save(f\"kmeans_model_k{k}\")\n\n    # Store results for later comparison\n    results[f\"K={k}\"] = silhouette_score\n",
                    "submissionTime": "2023-11-27T22:00:11.799GMT",
                    "completionTime": "2023-11-27T22:01:20.095GMT",
                    "stageIds": [
                      45
                    ],
                    "jobGroup": "44",
                    "status": "FAILED",
                    "numTasks": 3080,
                    "numActiveTasks": 4,
                    "numCompletedTasks": 2579,
                    "numSkippedTasks": 0,
                    "numFailedTasks": 4,
                    "numKilledTasks": 0,
                    "numCompletedIndices": 2579,
                    "numActiveStages": 0,
                    "numCompletedStages": 0,
                    "numSkippedStages": 0,
                    "numFailedStages": 1,
                    "killedTasksSummary": {}
                  },
                  {
                    "displayName": "collectAsMap at ClusteringMetrics.scala:321",
                    "dataWritten": 962,
                    "dataRead": 145410263,
                    "rowCount": 3671990,
                    "usageDescription": "",
                    "jobId": 25,
                    "name": "collectAsMap at ClusteringMetrics.scala:321",
                    "description": "Job group for statement 44:\n# K-means clustering model with different hyperparameter sets\nk_values = [2, 3, 4, 5]  \nmodels = []\n\nresults = {}\n\nfor k in k_values:\n    kmeans = KMeans(k=k, seed=42)\n    model = kmeans.fit(df_vectorized)\n    predictions = model.transform(df_vectorized)\n\n    # Evaluate the clustering performance\n    evaluator = ClusteringEvaluator()\n    silhouette_score = evaluator.evaluate(predictions)\n    \n    # Save the model\n    model.save(f\"kmeans_model_k{k}\")\n\n    # Store results for later comparison\n    results[f\"K={k}\"] = silhouette_score\n",
                    "submissionTime": "2023-11-27T22:00:07.279GMT",
                    "completionTime": "2023-11-27T22:00:11.605GMT",
                    "stageIds": [
                      42,
                      43,
                      44
                    ],
                    "jobGroup": "44",
                    "status": "SUCCEEDED",
                    "numTasks": 3098,
                    "numActiveTasks": 0,
                    "numCompletedTasks": 18,
                    "numSkippedTasks": 3080,
                    "numFailedTasks": 0,
                    "numKilledTasks": 0,
                    "numCompletedIndices": 18,
                    "numActiveStages": 0,
                    "numCompletedStages": 2,
                    "numSkippedStages": 1,
                    "numFailedStages": 0,
                    "killedTasksSummary": {}
                  },
                  {
                    "displayName": "rdd at ClusteringMetrics.scala:298",
                    "dataWritten": 145409301,
                    "dataRead": 5969277626,
                    "rowCount": 53992443,
                    "usageDescription": "",
                    "jobId": 24,
                    "name": "rdd at ClusteringMetrics.scala:298",
                    "description": "Job group for statement 44:\n# K-means clustering model with different hyperparameter sets\nk_values = [2, 3, 4, 5]  \nmodels = []\n\nresults = {}\n\nfor k in k_values:\n    kmeans = KMeans(k=k, seed=42)\n    model = kmeans.fit(df_vectorized)\n    predictions = model.transform(df_vectorized)\n\n    # Evaluate the clustering performance\n    evaluator = ClusteringEvaluator()\n    silhouette_score = evaluator.evaluate(predictions)\n    \n    # Save the model\n    model.save(f\"kmeans_model_k{k}\")\n\n    # Store results for later comparison\n    results[f\"K={k}\"] = silhouette_score\n",
                    "submissionTime": "2023-11-27T21:57:41.350GMT",
                    "completionTime": "2023-11-27T22:00:07.176GMT",
                    "stageIds": [
                      41
                    ],
                    "jobGroup": "44",
                    "status": "SUCCEEDED",
                    "numTasks": 3080,
                    "numActiveTasks": 0,
                    "numCompletedTasks": 3080,
                    "numSkippedTasks": 0,
                    "numFailedTasks": 0,
                    "numKilledTasks": 0,
                    "numCompletedIndices": 3080,
                    "numActiveStages": 0,
                    "numCompletedStages": 1,
                    "numSkippedStages": 0,
                    "numFailedStages": 0,
                    "killedTasksSummary": {}
                  },
                  {
                    "displayName": "collect at ClusteringSummary.scala:49",
                    "dataWritten": 0,
                    "dataRead": 591,
                    "rowCount": 10,
                    "usageDescription": "",
                    "jobId": 23,
                    "name": "collect at ClusteringSummary.scala:49",
                    "description": "Job group for statement 44:\n# K-means clustering model with different hyperparameter sets\nk_values = [2, 3, 4, 5]  \nmodels = []\n\nresults = {}\n\nfor k in k_values:\n    kmeans = KMeans(k=k, seed=42)\n    model = kmeans.fit(df_vectorized)\n    predictions = model.transform(df_vectorized)\n\n    # Evaluate the clustering performance\n    evaluator = ClusteringEvaluator()\n    silhouette_score = evaluator.evaluate(predictions)\n    \n    # Save the model\n    model.save(f\"kmeans_model_k{k}\")\n\n    # Store results for later comparison\n    results[f\"K={k}\"] = silhouette_score\n",
                    "submissionTime": "2023-11-27T21:57:40.992GMT",
                    "completionTime": "2023-11-27T21:57:41.078GMT",
                    "stageIds": [
                      38,
                      39,
                      40
                    ],
                    "jobGroup": "44",
                    "status": "SUCCEEDED",
                    "numTasks": 3090,
                    "numActiveTasks": 0,
                    "numCompletedTasks": 1,
                    "numSkippedTasks": 3089,
                    "numFailedTasks": 0,
                    "numKilledTasks": 0,
                    "numCompletedIndices": 1,
                    "numActiveStages": 0,
                    "numCompletedStages": 1,
                    "numSkippedStages": 2,
                    "numFailedStages": 0,
                    "killedTasksSummary": {}
                  },
                  {
                    "displayName": "collect at ClusteringSummary.scala:49",
                    "dataWritten": 591,
                    "dataRead": 145409301,
                    "rowCount": 3671980,
                    "usageDescription": "",
                    "jobId": 22,
                    "name": "collect at ClusteringSummary.scala:49",
                    "description": "Job group for statement 44:\n# K-means clustering model with different hyperparameter sets\nk_values = [2, 3, 4, 5]  \nmodels = []\n\nresults = {}\n\nfor k in k_values:\n    kmeans = KMeans(k=k, seed=42)\n    model = kmeans.fit(df_vectorized)\n    predictions = model.transform(df_vectorized)\n\n    # Evaluate the clustering performance\n    evaluator = ClusteringEvaluator()\n    silhouette_score = evaluator.evaluate(predictions)\n    \n    # Save the model\n    model.save(f\"kmeans_model_k{k}\")\n\n    # Store results for later comparison\n    results[f\"K={k}\"] = silhouette_score\n",
                    "submissionTime": "2023-11-27T21:57:35.275GMT",
                    "completionTime": "2023-11-27T21:57:40.923GMT",
                    "stageIds": [
                      37,
                      36
                    ],
                    "jobGroup": "44",
                    "status": "SUCCEEDED",
                    "numTasks": 3089,
                    "numActiveTasks": 0,
                    "numCompletedTasks": 9,
                    "numSkippedTasks": 3080,
                    "numFailedTasks": 0,
                    "numKilledTasks": 0,
                    "numCompletedIndices": 9,
                    "numActiveStages": 0,
                    "numCompletedStages": 1,
                    "numSkippedStages": 1,
                    "numFailedStages": 0,
                    "killedTasksSummary": {}
                  },
                  {
                    "displayName": "collect at ClusteringSummary.scala:49",
                    "dataWritten": 145409301,
                    "dataRead": 80394951873,
                    "rowCount": 844256526,
                    "usageDescription": "",
                    "jobId": 21,
                    "name": "collect at ClusteringSummary.scala:49",
                    "description": "Job group for statement 44:\n# K-means clustering model with different hyperparameter sets\nk_values = [2, 3, 4, 5]  \nmodels = []\n\nresults = {}\n\nfor k in k_values:\n    kmeans = KMeans(k=k, seed=42)\n    model = kmeans.fit(df_vectorized)\n    predictions = model.transform(df_vectorized)\n\n    # Evaluate the clustering performance\n    evaluator = ClusteringEvaluator()\n    silhouette_score = evaluator.evaluate(predictions)\n    \n    # Save the model\n    model.save(f\"kmeans_model_k{k}\")\n\n    # Store results for later comparison\n    results[f\"K={k}\"] = silhouette_score\n",
                    "submissionTime": "2023-11-27T21:35:00.403GMT",
                    "completionTime": "2023-11-27T21:57:35.131GMT",
                    "stageIds": [
                      35
                    ],
                    "jobGroup": "44",
                    "status": "SUCCEEDED",
                    "numTasks": 3080,
                    "numActiveTasks": 0,
                    "numCompletedTasks": 3080,
                    "numSkippedTasks": 0,
                    "numFailedTasks": 4,
                    "numKilledTasks": 0,
                    "numCompletedIndices": 3080,
                    "numActiveStages": 0,
                    "numCompletedStages": 1,
                    "numSkippedStages": 0,
                    "numFailedStages": 0,
                    "killedTasksSummary": {}
                  },
                  {
                    "displayName": "collectAsMap at KMeans.scala:315",
                    "dataWritten": 840,
                    "dataRead": 132611640,
                    "rowCount": 1441880,
                    "usageDescription": "",
                    "jobId": 20,
                    "name": "collectAsMap at KMeans.scala:315",
                    "description": "Job group for statement 44:\n# K-means clustering model with different hyperparameter sets\nk_values = [2, 3, 4, 5]  \nmodels = []\n\nresults = {}\n\nfor k in k_values:\n    kmeans = KMeans(k=k, seed=42)\n    model = kmeans.fit(df_vectorized)\n    predictions = model.transform(df_vectorized)\n\n    # Evaluate the clustering performance\n    evaluator = ClusteringEvaluator()\n    silhouette_score = evaluator.evaluate(predictions)\n    \n    # Save the model\n    model.save(f\"kmeans_model_k{k}\")\n\n    # Store results for later comparison\n    results[f\"K={k}\"] = silhouette_score\n",
                    "submissionTime": "2023-11-27T21:34:59.932GMT",
                    "completionTime": "2023-11-27T21:35:00.142GMT",
                    "stageIds": [
                      33,
                      34,
                      32
                    ],
                    "jobGroup": "44",
                    "status": "SUCCEEDED",
                    "numTasks": 3098,
                    "numActiveTasks": 0,
                    "numCompletedTasks": 18,
                    "numSkippedTasks": 3080,
                    "numFailedTasks": 0,
                    "numKilledTasks": 0,
                    "numCompletedIndices": 18,
                    "numActiveStages": 0,
                    "numCompletedStages": 2,
                    "numSkippedStages": 1,
                    "numFailedStages": 0,
                    "killedTasksSummary": {}
                  },
                  {
                    "displayName": "collectAsMap at KMeans.scala:315",
                    "dataWritten": 840,
                    "dataRead": 129892183,
                    "rowCount": 1441880,
                    "usageDescription": "",
                    "jobId": 19,
                    "name": "collectAsMap at KMeans.scala:315",
                    "description": "Job group for statement 44:\n# K-means clustering model with different hyperparameter sets\nk_values = [2, 3, 4, 5]  \nmodels = []\n\nresults = {}\n\nfor k in k_values:\n    kmeans = KMeans(k=k, seed=42)\n    model = kmeans.fit(df_vectorized)\n    predictions = model.transform(df_vectorized)\n\n    # Evaluate the clustering performance\n    evaluator = ClusteringEvaluator()\n    silhouette_score = evaluator.evaluate(predictions)\n    \n    # Save the model\n    model.save(f\"kmeans_model_k{k}\")\n\n    # Store results for later comparison\n    results[f\"K={k}\"] = silhouette_score\n",
                    "submissionTime": "2023-11-27T21:34:59.476GMT",
                    "completionTime": "2023-11-27T21:34:59.902GMT",
                    "stageIds": [
                      30,
                      31,
                      29
                    ],
                    "jobGroup": "44",
                    "status": "SUCCEEDED",
                    "numTasks": 3098,
                    "numActiveTasks": 0,
                    "numCompletedTasks": 18,
                    "numSkippedTasks": 3080,
                    "numFailedTasks": 0,
                    "numKilledTasks": 0,
                    "numCompletedIndices": 18,
                    "numActiveStages": 0,
                    "numCompletedStages": 2,
                    "numSkippedStages": 1,
                    "numFailedStages": 0,
                    "killedTasksSummary": {}
                  },
                  {
                    "displayName": "countByValue at KMeans.scala:432",
                    "dataWritten": 2418,
                    "dataRead": 132613218,
                    "rowCount": 1441964,
                    "usageDescription": "",
                    "jobId": 18,
                    "name": "countByValue at KMeans.scala:432",
                    "description": "Job group for statement 44:\n# K-means clustering model with different hyperparameter sets\nk_values = [2, 3, 4, 5]  \nmodels = []\n\nresults = {}\n\nfor k in k_values:\n    kmeans = KMeans(k=k, seed=42)\n    model = kmeans.fit(df_vectorized)\n    predictions = model.transform(df_vectorized)\n\n    # Evaluate the clustering performance\n    evaluator = ClusteringEvaluator()\n    silhouette_score = evaluator.evaluate(predictions)\n    \n    # Save the model\n    model.save(f\"kmeans_model_k{k}\")\n\n    # Store results for later comparison\n    results[f\"K={k}\"] = silhouette_score\n",
                    "submissionTime": "2023-11-27T21:34:58.694GMT",
                    "completionTime": "2023-11-27T21:34:59.392GMT",
                    "stageIds": [
                      27,
                      28,
                      26
                    ],
                    "jobGroup": "44",
                    "status": "SUCCEEDED",
                    "numTasks": 3098,
                    "numActiveTasks": 0,
                    "numCompletedTasks": 18,
                    "numSkippedTasks": 3080,
                    "numFailedTasks": 0,
                    "numKilledTasks": 0,
                    "numCompletedIndices": 18,
                    "numActiveStages": 0,
                    "numCompletedStages": 2,
                    "numSkippedStages": 1,
                    "numFailedStages": 0,
                    "killedTasksSummary": {}
                  },
                  {
                    "displayName": "collect at KMeans.scala:409",
                    "dataWritten": 0,
                    "dataRead": 141426367,
                    "rowCount": 2883720,
                    "usageDescription": "",
                    "jobId": 17,
                    "name": "collect at KMeans.scala:409",
                    "description": "Job group for statement 44:\n# K-means clustering model with different hyperparameter sets\nk_values = [2, 3, 4, 5]  \nmodels = []\n\nresults = {}\n\nfor k in k_values:\n    kmeans = KMeans(k=k, seed=42)\n    model = kmeans.fit(df_vectorized)\n    predictions = model.transform(df_vectorized)\n\n    # Evaluate the clustering performance\n    evaluator = ClusteringEvaluator()\n    silhouette_score = evaluator.evaluate(predictions)\n    \n    # Save the model\n    model.save(f\"kmeans_model_k{k}\")\n\n    # Store results for later comparison\n    results[f\"K={k}\"] = silhouette_score\n",
                    "submissionTime": "2023-11-27T21:34:58.350GMT",
                    "completionTime": "2023-11-27T21:34:58.579GMT",
                    "stageIds": [
                      24,
                      25
                    ],
                    "jobGroup": "44",
                    "status": "SUCCEEDED",
                    "numTasks": 3089,
                    "numActiveTasks": 0,
                    "numCompletedTasks": 9,
                    "numSkippedTasks": 3080,
                    "numFailedTasks": 0,
                    "numKilledTasks": 0,
                    "numCompletedIndices": 9,
                    "numActiveStages": 0,
                    "numCompletedStages": 1,
                    "numSkippedStages": 1,
                    "numFailedStages": 0,
                    "killedTasksSummary": {}
                  },
                  {
                    "displayName": "sum at KMeans.scala:404",
                    "dataWritten": 0,
                    "dataRead": 141426367,
                    "rowCount": 2883720,
                    "usageDescription": "",
                    "jobId": 16,
                    "name": "sum at KMeans.scala:404",
                    "description": "Job group for statement 44:\n# K-means clustering model with different hyperparameter sets\nk_values = [2, 3, 4, 5]  \nmodels = []\n\nresults = {}\n\nfor k in k_values:\n    kmeans = KMeans(k=k, seed=42)\n    model = kmeans.fit(df_vectorized)\n    predictions = model.transform(df_vectorized)\n\n    # Evaluate the clustering performance\n    evaluator = ClusteringEvaluator()\n    silhouette_score = evaluator.evaluate(predictions)\n    \n    # Save the model\n    model.save(f\"kmeans_model_k{k}\")\n\n    # Store results for later comparison\n    results[f\"K={k}\"] = silhouette_score\n",
                    "submissionTime": "2023-11-27T21:34:58.002GMT",
                    "completionTime": "2023-11-27T21:34:58.326GMT",
                    "stageIds": [
                      22,
                      23
                    ],
                    "jobGroup": "44",
                    "status": "SUCCEEDED",
                    "numTasks": 3089,
                    "numActiveTasks": 0,
                    "numCompletedTasks": 9,
                    "numSkippedTasks": 3080,
                    "numFailedTasks": 0,
                    "numKilledTasks": 0,
                    "numCompletedIndices": 9,
                    "numActiveStages": 0,
                    "numCompletedStages": 1,
                    "numSkippedStages": 1,
                    "numFailedStages": 0,
                    "killedTasksSummary": {}
                  },
                  {
                    "displayName": "collect at KMeans.scala:409",
                    "dataWritten": 0,
                    "dataRead": 143989031,
                    "rowCount": 2883720,
                    "usageDescription": "",
                    "jobId": 15,
                    "name": "collect at KMeans.scala:409",
                    "description": "Job group for statement 44:\n# K-means clustering model with different hyperparameter sets\nk_values = [2, 3, 4, 5]  \nmodels = []\n\nresults = {}\n\nfor k in k_values:\n    kmeans = KMeans(k=k, seed=42)\n    model = kmeans.fit(df_vectorized)\n    predictions = model.transform(df_vectorized)\n\n    # Evaluate the clustering performance\n    evaluator = ClusteringEvaluator()\n    silhouette_score = evaluator.evaluate(predictions)\n    \n    # Save the model\n    model.save(f\"kmeans_model_k{k}\")\n\n    # Store results for later comparison\n    results[f\"K={k}\"] = silhouette_score\n",
                    "submissionTime": "2023-11-27T21:34:57.727GMT",
                    "completionTime": "2023-11-27T21:34:57.987GMT",
                    "stageIds": [
                      20,
                      21
                    ],
                    "jobGroup": "44",
                    "status": "SUCCEEDED",
                    "numTasks": 3089,
                    "numActiveTasks": 0,
                    "numCompletedTasks": 9,
                    "numSkippedTasks": 3080,
                    "numFailedTasks": 0,
                    "numKilledTasks": 0,
                    "numCompletedIndices": 9,
                    "numActiveStages": 0,
                    "numCompletedStages": 1,
                    "numSkippedStages": 1,
                    "numFailedStages": 0,
                    "killedTasksSummary": {}
                  },
                  {
                    "displayName": "sum at KMeans.scala:404",
                    "dataWritten": 0,
                    "dataRead": 259782686,
                    "rowCount": 2883720,
                    "usageDescription": "",
                    "jobId": 14,
                    "name": "sum at KMeans.scala:404",
                    "description": "Job group for statement 44:\n# K-means clustering model with different hyperparameter sets\nk_values = [2, 3, 4, 5]  \nmodels = []\n\nresults = {}\n\nfor k in k_values:\n    kmeans = KMeans(k=k, seed=42)\n    model = kmeans.fit(df_vectorized)\n    predictions = model.transform(df_vectorized)\n\n    # Evaluate the clustering performance\n    evaluator = ClusteringEvaluator()\n    silhouette_score = evaluator.evaluate(predictions)\n    \n    # Save the model\n    model.save(f\"kmeans_model_k{k}\")\n\n    # Store results for later comparison\n    results[f\"K={k}\"] = silhouette_score\n",
                    "submissionTime": "2023-11-27T21:34:56.891GMT",
                    "completionTime": "2023-11-27T21:34:57.695GMT",
                    "stageIds": [
                      19,
                      18
                    ],
                    "jobGroup": "44",
                    "status": "SUCCEEDED",
                    "numTasks": 3089,
                    "numActiveTasks": 0,
                    "numCompletedTasks": 9,
                    "numSkippedTasks": 3080,
                    "numFailedTasks": 0,
                    "numKilledTasks": 0,
                    "numCompletedIndices": 9,
                    "numActiveStages": 0,
                    "numCompletedStages": 1,
                    "numSkippedStages": 1,
                    "numFailedStages": 0,
                    "killedTasksSummary": {}
                  },
                  {
                    "displayName": "takeSample at KMeans.scala:384",
                    "dataWritten": 0,
                    "dataRead": 132610800,
                    "rowCount": 1441860,
                    "usageDescription": "",
                    "jobId": 13,
                    "name": "takeSample at KMeans.scala:384",
                    "description": "Job group for statement 44:\n# K-means clustering model with different hyperparameter sets\nk_values = [2, 3, 4, 5]  \nmodels = []\n\nresults = {}\n\nfor k in k_values:\n    kmeans = KMeans(k=k, seed=42)\n    model = kmeans.fit(df_vectorized)\n    predictions = model.transform(df_vectorized)\n\n    # Evaluate the clustering performance\n    evaluator = ClusteringEvaluator()\n    silhouette_score = evaluator.evaluate(predictions)\n    \n    # Save the model\n    model.save(f\"kmeans_model_k{k}\")\n\n    # Store results for later comparison\n    results[f\"K={k}\"] = silhouette_score\n",
                    "submissionTime": "2023-11-27T21:34:56.565GMT",
                    "completionTime": "2023-11-27T21:34:56.862GMT",
                    "stageIds": [
                      16,
                      17
                    ],
                    "jobGroup": "44",
                    "status": "SUCCEEDED",
                    "numTasks": 3089,
                    "numActiveTasks": 0,
                    "numCompletedTasks": 9,
                    "numSkippedTasks": 3080,
                    "numFailedTasks": 0,
                    "numKilledTasks": 0,
                    "numCompletedIndices": 9,
                    "numActiveStages": 0,
                    "numCompletedStages": 1,
                    "numSkippedStages": 1,
                    "numFailedStages": 0,
                    "killedTasksSummary": {}
                  },
                  {
                    "displayName": "takeSample at KMeans.scala:384",
                    "dataWritten": 0,
                    "dataRead": 290818602,
                    "rowCount": 7343940,
                    "usageDescription": "",
                    "jobId": 12,
                    "name": "takeSample at KMeans.scala:384",
                    "description": "Job group for statement 44:\n# K-means clustering model with different hyperparameter sets\nk_values = [2, 3, 4, 5]  \nmodels = []\n\nresults = {}\n\nfor k in k_values:\n    kmeans = KMeans(k=k, seed=42)\n    model = kmeans.fit(df_vectorized)\n    predictions = model.transform(df_vectorized)\n\n    # Evaluate the clustering performance\n    evaluator = ClusteringEvaluator()\n    silhouette_score = evaluator.evaluate(predictions)\n    \n    # Save the model\n    model.save(f\"kmeans_model_k{k}\")\n\n    # Store results for later comparison\n    results[f\"K={k}\"] = silhouette_score\n",
                    "submissionTime": "2023-11-27T21:34:45.647GMT",
                    "completionTime": "2023-11-27T21:34:56.534GMT",
                    "stageIds": [
                      15,
                      14
                    ],
                    "jobGroup": "44",
                    "status": "SUCCEEDED",
                    "numTasks": 3089,
                    "numActiveTasks": 0,
                    "numCompletedTasks": 9,
                    "numSkippedTasks": 3080,
                    "numFailedTasks": 0,
                    "numKilledTasks": 0,
                    "numCompletedIndices": 9,
                    "numActiveStages": 0,
                    "numCompletedStages": 1,
                    "numSkippedStages": 1,
                    "numFailedStages": 0,
                    "killedTasksSummary": {}
                  },
                  {
                    "displayName": "rdd at KMeans.scala:350",
                    "dataWritten": 145409301,
                    "dataRead": 33735993712,
                    "rowCount": 351388339,
                    "usageDescription": "",
                    "jobId": 11,
                    "name": "rdd at KMeans.scala:350",
                    "description": "Job group for statement 44:\n# K-means clustering model with different hyperparameter sets\nk_values = [2, 3, 4, 5]  \nmodels = []\n\nresults = {}\n\nfor k in k_values:\n    kmeans = KMeans(k=k, seed=42)\n    model = kmeans.fit(df_vectorized)\n    predictions = model.transform(df_vectorized)\n\n    # Evaluate the clustering performance\n    evaluator = ClusteringEvaluator()\n    silhouette_score = evaluator.evaluate(predictions)\n    \n    # Save the model\n    model.save(f\"kmeans_model_k{k}\")\n\n    # Store results for later comparison\n    results[f\"K={k}\"] = silhouette_score\n",
                    "submissionTime": "2023-11-27T21:23:39.915GMT",
                    "completionTime": "2023-11-27T21:34:45.270GMT",
                    "stageIds": [
                      13
                    ],
                    "jobGroup": "44",
                    "status": "SUCCEEDED",
                    "numTasks": 3080,
                    "numActiveTasks": 0,
                    "numCompletedTasks": 3099,
                    "numSkippedTasks": 0,
                    "numFailedTasks": 8,
                    "numKilledTasks": 0,
                    "numCompletedIndices": 3080,
                    "numActiveStages": 0,
                    "numCompletedStages": 1,
                    "numSkippedStages": 0,
                    "numFailedStages": 0,
                    "killedTasksSummary": {}
                  },
                  {
                    "displayName": "rdd at Instrumentation.scala:62",
                    "dataWritten": 145409301,
                    "dataRead": 1117038453,
                    "rowCount": 3675050,
                    "usageDescription": "",
                    "jobId": 10,
                    "name": "rdd at Instrumentation.scala:62",
                    "description": "Job group for statement 44:\n# K-means clustering model with different hyperparameter sets\nk_values = [2, 3, 4, 5]  \nmodels = []\n\nresults = {}\n\nfor k in k_values:\n    kmeans = KMeans(k=k, seed=42)\n    model = kmeans.fit(df_vectorized)\n    predictions = model.transform(df_vectorized)\n\n    # Evaluate the clustering performance\n    evaluator = ClusteringEvaluator()\n    silhouette_score = evaluator.evaluate(predictions)\n    \n    # Save the model\n    model.save(f\"kmeans_model_k{k}\")\n\n    # Store results for later comparison\n    results[f\"K={k}\"] = silhouette_score\n",
                    "submissionTime": "2023-11-27T21:22:45.153GMT",
                    "completionTime": "2023-11-27T21:23:39.617GMT",
                    "stageIds": [
                      12
                    ],
                    "jobGroup": "44",
                    "status": "SUCCEEDED",
                    "numTasks": 3080,
                    "numActiveTasks": 0,
                    "numCompletedTasks": 3080,
                    "numSkippedTasks": 0,
                    "numFailedTasks": 0,
                    "numKilledTasks": 0,
                    "numCompletedIndices": 3080,
                    "numActiveStages": 0,
                    "numCompletedStages": 1,
                    "numSkippedStages": 0,
                    "numFailedStages": 0,
                    "killedTasksSummary": {}
                  }
                ],
                "limit": 20,
                "rule": "ALL_DESC"
              },
              "parent_msg_id": "0484f92d-f2fd-4acd-8430-fc27b93e13cd"
            },
            "text/plain": "StatementMeta(3c67b279-1d53-4b7a-b0d9-41cb8b4b6723, 60, 44, Finished, Available)"
          },
          "metadata": {}
        },
        {
          "output_type": "stream",
          "name": "stdout",
          "text": "KeyboardInterrupt while sending command.\nTraceback (most recent call last):\n  File \"/home/trusted-service-user/cluster-env/env/lib/python3.8/site-packages/py4j/java_gateway.py\", line 1038, in send_command\n    response = connection.send_command(command)\n  File \"/home/trusted-service-user/cluster-env/env/lib/python3.8/site-packages/py4j/java_gateway.py\", line 1217, in send_command\n    answer = smart_decode(self.stream.readline()[:-1])\n  File \"/home/trusted-service-user/cluster-env/env/lib/python3.8/socket.py\", line 669, in readinto\n    return self._sock.recv_into(b)\nKeyboardInterrupt\n"
        },
        {
          "output_type": "error",
          "ename": "KeyboardInterrupt",
          "evalue": "",
          "traceback": [
            "\u001b[0;31m---------------------------------------------------------------------------\u001b[0m",
            "\u001b[0;31mKeyboardInterrupt\u001b[0m                         Traceback (most recent call last)",
            "\u001b[0;32m/tmp/ipykernel_7449/56940036.py\u001b[0m in \u001b[0;36m<module>\u001b[0;34m\u001b[0m\n\u001b[1;32m     12\u001b[0m     \u001b[0;31m# Evaluate the clustering performance\u001b[0m\u001b[0;34m\u001b[0m\u001b[0;34m\u001b[0m\u001b[0;34m\u001b[0m\u001b[0m\n\u001b[1;32m     13\u001b[0m     \u001b[0mevaluator\u001b[0m \u001b[0;34m=\u001b[0m \u001b[0mClusteringEvaluator\u001b[0m\u001b[0;34m(\u001b[0m\u001b[0;34m)\u001b[0m\u001b[0;34m\u001b[0m\u001b[0;34m\u001b[0m\u001b[0m\n\u001b[0;32m---> 14\u001b[0;31m     \u001b[0msilhouette_score\u001b[0m \u001b[0;34m=\u001b[0m \u001b[0mevaluator\u001b[0m\u001b[0;34m.\u001b[0m\u001b[0mevaluate\u001b[0m\u001b[0;34m(\u001b[0m\u001b[0mpredictions\u001b[0m\u001b[0;34m)\u001b[0m\u001b[0;34m\u001b[0m\u001b[0;34m\u001b[0m\u001b[0m\n\u001b[0m\u001b[1;32m     15\u001b[0m \u001b[0;34m\u001b[0m\u001b[0m\n\u001b[1;32m     16\u001b[0m     \u001b[0;31m# Save the model\u001b[0m\u001b[0;34m\u001b[0m\u001b[0;34m\u001b[0m\u001b[0;34m\u001b[0m\u001b[0m\n",
            "\u001b[0;32m/opt/spark/python/lib/pyspark.zip/pyspark/ml/evaluation.py\u001b[0m in \u001b[0;36mevaluate\u001b[0;34m(self, dataset, params)\u001b[0m\n\u001b[1;32m     82\u001b[0m                 \u001b[0;32mreturn\u001b[0m \u001b[0mself\u001b[0m\u001b[0;34m.\u001b[0m\u001b[0mcopy\u001b[0m\u001b[0;34m(\u001b[0m\u001b[0mparams\u001b[0m\u001b[0;34m)\u001b[0m\u001b[0;34m.\u001b[0m\u001b[0m_evaluate\u001b[0m\u001b[0;34m(\u001b[0m\u001b[0mdataset\u001b[0m\u001b[0;34m)\u001b[0m\u001b[0;34m\u001b[0m\u001b[0;34m\u001b[0m\u001b[0m\n\u001b[1;32m     83\u001b[0m             \u001b[0;32melse\u001b[0m\u001b[0;34m:\u001b[0m\u001b[0;34m\u001b[0m\u001b[0;34m\u001b[0m\u001b[0m\n\u001b[0;32m---> 84\u001b[0;31m                 \u001b[0;32mreturn\u001b[0m \u001b[0mself\u001b[0m\u001b[0;34m.\u001b[0m\u001b[0m_evaluate\u001b[0m\u001b[0;34m(\u001b[0m\u001b[0mdataset\u001b[0m\u001b[0;34m)\u001b[0m\u001b[0;34m\u001b[0m\u001b[0;34m\u001b[0m\u001b[0m\n\u001b[0m\u001b[1;32m     85\u001b[0m         \u001b[0;32melse\u001b[0m\u001b[0;34m:\u001b[0m\u001b[0;34m\u001b[0m\u001b[0;34m\u001b[0m\u001b[0m\n\u001b[1;32m     86\u001b[0m             \u001b[0;32mraise\u001b[0m \u001b[0mTypeError\u001b[0m\u001b[0;34m(\u001b[0m\u001b[0;34m\"Params must be a param map but got %s.\"\u001b[0m \u001b[0;34m%\u001b[0m \u001b[0mtype\u001b[0m\u001b[0;34m(\u001b[0m\u001b[0mparams\u001b[0m\u001b[0;34m)\u001b[0m\u001b[0;34m)\u001b[0m\u001b[0;34m\u001b[0m\u001b[0;34m\u001b[0m\u001b[0m\n",
            "\u001b[0;32m/opt/spark/python/lib/pyspark.zip/pyspark/ml/evaluation.py\u001b[0m in \u001b[0;36m_evaluate\u001b[0;34m(self, dataset)\u001b[0m\n\u001b[1;32m    118\u001b[0m         \"\"\"\n\u001b[1;32m    119\u001b[0m         \u001b[0mself\u001b[0m\u001b[0;34m.\u001b[0m\u001b[0m_transfer_params_to_java\u001b[0m\u001b[0;34m(\u001b[0m\u001b[0;34m)\u001b[0m\u001b[0;34m\u001b[0m\u001b[0;34m\u001b[0m\u001b[0m\n\u001b[0;32m--> 120\u001b[0;31m         \u001b[0;32mreturn\u001b[0m \u001b[0mself\u001b[0m\u001b[0;34m.\u001b[0m\u001b[0m_java_obj\u001b[0m\u001b[0;34m.\u001b[0m\u001b[0mevaluate\u001b[0m\u001b[0;34m(\u001b[0m\u001b[0mdataset\u001b[0m\u001b[0;34m.\u001b[0m\u001b[0m_jdf\u001b[0m\u001b[0;34m)\u001b[0m\u001b[0;34m\u001b[0m\u001b[0;34m\u001b[0m\u001b[0m\n\u001b[0m\u001b[1;32m    121\u001b[0m \u001b[0;34m\u001b[0m\u001b[0m\n\u001b[1;32m    122\u001b[0m     \u001b[0;32mdef\u001b[0m \u001b[0misLargerBetter\u001b[0m\u001b[0;34m(\u001b[0m\u001b[0mself\u001b[0m\u001b[0;34m)\u001b[0m\u001b[0;34m:\u001b[0m\u001b[0;34m\u001b[0m\u001b[0;34m\u001b[0m\u001b[0m\n",
            "\u001b[0;32m~/cluster-env/env/lib/python3.8/site-packages/py4j/java_gateway.py\u001b[0m in \u001b[0;36m__call__\u001b[0;34m(self, *args)\u001b[0m\n\u001b[1;32m   1318\u001b[0m             \u001b[0mproto\u001b[0m\u001b[0;34m.\u001b[0m\u001b[0mEND_COMMAND_PART\u001b[0m\u001b[0;34m\u001b[0m\u001b[0;34m\u001b[0m\u001b[0m\n\u001b[1;32m   1319\u001b[0m \u001b[0;34m\u001b[0m\u001b[0m\n\u001b[0;32m-> 1320\u001b[0;31m         \u001b[0manswer\u001b[0m \u001b[0;34m=\u001b[0m \u001b[0mself\u001b[0m\u001b[0;34m.\u001b[0m\u001b[0mgateway_client\u001b[0m\u001b[0;34m.\u001b[0m\u001b[0msend_command\u001b[0m\u001b[0;34m(\u001b[0m\u001b[0mcommand\u001b[0m\u001b[0;34m)\u001b[0m\u001b[0;34m\u001b[0m\u001b[0;34m\u001b[0m\u001b[0m\n\u001b[0m\u001b[1;32m   1321\u001b[0m         return_value = get_return_value(\n\u001b[1;32m   1322\u001b[0m             answer, self.gateway_client, self.target_id, self.name)\n",
            "\u001b[0;32m~/cluster-env/env/lib/python3.8/site-packages/py4j/java_gateway.py\u001b[0m in \u001b[0;36msend_command\u001b[0;34m(self, command, retry, binary)\u001b[0m\n\u001b[1;32m   1036\u001b[0m         \u001b[0mconnection\u001b[0m \u001b[0;34m=\u001b[0m \u001b[0mself\u001b[0m\u001b[0;34m.\u001b[0m\u001b[0m_get_connection\u001b[0m\u001b[0;34m(\u001b[0m\u001b[0;34m)\u001b[0m\u001b[0;34m\u001b[0m\u001b[0;34m\u001b[0m\u001b[0m\n\u001b[1;32m   1037\u001b[0m         \u001b[0;32mtry\u001b[0m\u001b[0;34m:\u001b[0m\u001b[0;34m\u001b[0m\u001b[0;34m\u001b[0m\u001b[0m\n\u001b[0;32m-> 1038\u001b[0;31m             \u001b[0mresponse\u001b[0m \u001b[0;34m=\u001b[0m \u001b[0mconnection\u001b[0m\u001b[0;34m.\u001b[0m\u001b[0msend_command\u001b[0m\u001b[0;34m(\u001b[0m\u001b[0mcommand\u001b[0m\u001b[0;34m)\u001b[0m\u001b[0;34m\u001b[0m\u001b[0;34m\u001b[0m\u001b[0m\n\u001b[0m\u001b[1;32m   1039\u001b[0m             \u001b[0;32mif\u001b[0m \u001b[0mbinary\u001b[0m\u001b[0;34m:\u001b[0m\u001b[0;34m\u001b[0m\u001b[0;34m\u001b[0m\u001b[0m\n\u001b[1;32m   1040\u001b[0m                 \u001b[0;32mreturn\u001b[0m \u001b[0mresponse\u001b[0m\u001b[0;34m,\u001b[0m \u001b[0mself\u001b[0m\u001b[0;34m.\u001b[0m\u001b[0m_create_connection_guard\u001b[0m\u001b[0;34m(\u001b[0m\u001b[0mconnection\u001b[0m\u001b[0;34m)\u001b[0m\u001b[0;34m\u001b[0m\u001b[0;34m\u001b[0m\u001b[0m\n",
            "\u001b[0;32m~/cluster-env/env/lib/python3.8/site-packages/py4j/java_gateway.py\u001b[0m in \u001b[0;36msend_command\u001b[0;34m(self, command)\u001b[0m\n\u001b[1;32m   1215\u001b[0m \u001b[0;34m\u001b[0m\u001b[0m\n\u001b[1;32m   1216\u001b[0m         \u001b[0;32mtry\u001b[0m\u001b[0;34m:\u001b[0m\u001b[0;34m\u001b[0m\u001b[0;34m\u001b[0m\u001b[0m\n\u001b[0;32m-> 1217\u001b[0;31m             \u001b[0manswer\u001b[0m \u001b[0;34m=\u001b[0m \u001b[0msmart_decode\u001b[0m\u001b[0;34m(\u001b[0m\u001b[0mself\u001b[0m\u001b[0;34m.\u001b[0m\u001b[0mstream\u001b[0m\u001b[0;34m.\u001b[0m\u001b[0mreadline\u001b[0m\u001b[0;34m(\u001b[0m\u001b[0;34m)\u001b[0m\u001b[0;34m[\u001b[0m\u001b[0;34m:\u001b[0m\u001b[0;34m-\u001b[0m\u001b[0;36m1\u001b[0m\u001b[0;34m]\u001b[0m\u001b[0;34m)\u001b[0m\u001b[0;34m\u001b[0m\u001b[0;34m\u001b[0m\u001b[0m\n\u001b[0m\u001b[1;32m   1218\u001b[0m             \u001b[0mlogger\u001b[0m\u001b[0;34m.\u001b[0m\u001b[0mdebug\u001b[0m\u001b[0;34m(\u001b[0m\u001b[0;34m\"Answer received: {0}\"\u001b[0m\u001b[0;34m.\u001b[0m\u001b[0mformat\u001b[0m\u001b[0;34m(\u001b[0m\u001b[0manswer\u001b[0m\u001b[0;34m)\u001b[0m\u001b[0;34m)\u001b[0m\u001b[0;34m\u001b[0m\u001b[0;34m\u001b[0m\u001b[0m\n\u001b[1;32m   1219\u001b[0m             \u001b[0;32mif\u001b[0m \u001b[0manswer\u001b[0m\u001b[0;34m.\u001b[0m\u001b[0mstartswith\u001b[0m\u001b[0;34m(\u001b[0m\u001b[0mproto\u001b[0m\u001b[0;34m.\u001b[0m\u001b[0mRETURN_MESSAGE\u001b[0m\u001b[0;34m)\u001b[0m\u001b[0;34m:\u001b[0m\u001b[0;34m\u001b[0m\u001b[0;34m\u001b[0m\u001b[0m\n",
            "\u001b[0;32m~/cluster-env/env/lib/python3.8/socket.py\u001b[0m in \u001b[0;36mreadinto\u001b[0;34m(self, b)\u001b[0m\n\u001b[1;32m    667\u001b[0m         \u001b[0;32mwhile\u001b[0m \u001b[0;32mTrue\u001b[0m\u001b[0;34m:\u001b[0m\u001b[0;34m\u001b[0m\u001b[0;34m\u001b[0m\u001b[0m\n\u001b[1;32m    668\u001b[0m             \u001b[0;32mtry\u001b[0m\u001b[0;34m:\u001b[0m\u001b[0;34m\u001b[0m\u001b[0;34m\u001b[0m\u001b[0m\n\u001b[0;32m--> 669\u001b[0;31m                 \u001b[0;32mreturn\u001b[0m \u001b[0mself\u001b[0m\u001b[0;34m.\u001b[0m\u001b[0m_sock\u001b[0m\u001b[0;34m.\u001b[0m\u001b[0mrecv_into\u001b[0m\u001b[0;34m(\u001b[0m\u001b[0mb\u001b[0m\u001b[0;34m)\u001b[0m\u001b[0;34m\u001b[0m\u001b[0;34m\u001b[0m\u001b[0m\n\u001b[0m\u001b[1;32m    670\u001b[0m             \u001b[0;32mexcept\u001b[0m \u001b[0mtimeout\u001b[0m\u001b[0;34m:\u001b[0m\u001b[0;34m\u001b[0m\u001b[0;34m\u001b[0m\u001b[0m\n\u001b[1;32m    671\u001b[0m                 \u001b[0mself\u001b[0m\u001b[0;34m.\u001b[0m\u001b[0m_timeout_occurred\u001b[0m \u001b[0;34m=\u001b[0m \u001b[0;32mTrue\u001b[0m\u001b[0;34m\u001b[0m\u001b[0;34m\u001b[0m\u001b[0m\n",
            "\u001b[0;31mKeyboardInterrupt\u001b[0m: "
          ]
        }
      ],
      "execution_count": 39,
      "metadata": {
        "jupyter": {
          "source_hidden": false,
          "outputs_hidden": false
        },
        "nteract": {
          "transient": {
            "deleting": false
          }
        },
        "gather": {
          "logged": 1701122479767
        }
      }
    },
    {
      "cell_type": "code",
      "source": [
        "# Compare and interpret the results\n",
        "best_k = max(results, key=results.get)"
      ],
      "outputs": [
        {
          "output_type": "display_data",
          "data": {
            "application/vnd.livy.statement-meta+json": {
              "spark_pool": null,
              "session_id": null,
              "statement_id": null,
              "state": "session_starting",
              "livy_statement_state": null,
              "queued_time": "2023-11-27T22:05:55.2835571Z",
              "session_start_time": "2023-11-27T22:05:55.3221913Z",
              "execution_start_time": null,
              "execution_finish_time": null,
              "spark_jobs": null,
              "parent_msg_id": "4c5d3c95-f17f-47b0-a81c-9b44dd1d75c5"
            },
            "text/plain": "StatementMeta(, , , SessionStarting, )"
          },
          "metadata": {}
        }
      ],
      "execution_count": 1,
      "metadata": {
        "jupyter": {
          "source_hidden": false,
          "outputs_hidden": false
        },
        "nteract": {
          "transient": {
            "deleting": false
          }
        },
        "gather": {
          "logged": 1701122781223
        }
      }
    },
    {
      "cell_type": "code",
      "source": [
        "# Show the best k value and corresponding silhouette score\n",
        "best_model = KMeans.load(f\"kmeans_model_{best_k.split('=')[1]}\")\n",
        "print(f\"Best K: {best_k}, Silhouette Score: {results[best_k]}\")"
      ],
      "outputs": [],
      "execution_count": null,
      "metadata": {
        "jupyter": {
          "source_hidden": false,
          "outputs_hidden": false
        },
        "nteract": {
          "transient": {
            "deleting": false
          }
        }
      }
    },
    {
      "cell_type": "code",
      "source": [
        "# Run K-means clustering with the best k value\n",
        "k_value = 3\n",
        "kmeans = KMeans(k=k_value, seed=42)\n",
        "model = kmeans.fit(df_vectorized)\n",
        "predictions = model.transform(df_vectorized)"
      ],
      "outputs": [],
      "execution_count": null,
      "metadata": {
        "jupyter": {
          "source_hidden": false,
          "outputs_hidden": false
        },
        "nteract": {
          "transient": {
            "deleting": false
          }
        }
      }
    },
    {
      "cell_type": "code",
      "source": [
        "# Visualize the clusters \n",
        "predictions_pd = predictions.select(\"num_posts\", \"total_num_comments\", \"total_score\", \"prediction\").toPandas()\n",
        "\n",
        "plt.figure(figsize=(10, 7))\n",
        "plt.scatter(predictions_pd['num_posts'], predictions_pd['total_num_comments'], c=predictions_pd['prediction'], cmap='viridis')\n",
        "plt.title('K-means Clustering')\n",
        "plt.xlabel('num_posts')\n",
        "plt.ylabel('total_num_comments')\n",
        "plt.show()"
      ],
      "outputs": [],
      "execution_count": null,
      "metadata": {
        "jupyter": {
          "source_hidden": false,
          "outputs_hidden": false
        },
        "nteract": {
          "transient": {
            "deleting": false
          }
        }
      }
    },
    {
      "cell_type": "code",
      "source": [],
      "outputs": [],
      "execution_count": null,
      "metadata": {
        "jupyter": {
          "source_hidden": false,
          "outputs_hidden": false
        },
        "nteract": {
          "transient": {
            "deleting": false
          }
        }
      }
    }
  ],
  "metadata": {
    "kernelspec": {
      "name": "synapse_pyspark",
      "language": "Python",
      "display_name": "Synapse PySpark"
    },
    "language_info": {
      "name": "python",
      "version": "3.8.0",
      "mimetype": "text/x-python",
      "file_extension": ".py",
      "pygments_lexer": "ipython",
      "codemirror_mode": "ipython",
      "nbconvert_exporter": "python"
    },
    "microsoft": {
      "ms_spell_check": {
        "ms_spell_check_language": "en"
      },
      "host": {
        "AzureML": {
          "notebookHasBeenCompleted": true
        }
      }
    },
    "kernel_info": {
      "name": "synapse_pyspark"
    },
    "nteract": {
      "version": "nteract-front-end@1.0.0"
    }
  },
  "nbformat": 4,
  "nbformat_minor": 2
}